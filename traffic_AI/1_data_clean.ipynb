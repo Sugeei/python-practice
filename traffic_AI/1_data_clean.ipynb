{
 "cells": [
  {
   "cell_type": "code",
   "execution_count": 1,
   "metadata": {
    "collapsed": true
   },
   "outputs": [],
   "source": [
    "import pandas as pd\n",
    "import warnings\n",
    "warnings.filterwarnings(\"ignore\")\n",
    "\n",
    "# coding: utf-8\n",
    "%matplotlib inline \n",
    "\n",
    "import numpy as np\n",
    "# import pandas as pd\n",
    "import matplotlib.pyplot as plt\n",
    "import seaborn as sns\n",
    "\n",
    "import warnings\n",
    "warnings.filterwarnings(\"ignore\")\n",
    "# pd.options.display.mpl_style = 'default'"
   ]
  },
  {
   "cell_type": "markdown",
   "metadata": {},
   "source": [
    "### 读取原始数据"
   ]
  },
  {
   "cell_type": "code",
   "execution_count": 2,
   "metadata": {
    "collapsed": false
   },
   "outputs": [
    {
     "data": {
      "text/html": [
       "<div>\n",
       "<table border=\"1\" class=\"dataframe\">\n",
       "  <thead>\n",
       "    <tr style=\"text-align: right;\">\n",
       "      <th></th>\n",
       "      <th>link_ID</th>\n",
       "      <th>date</th>\n",
       "      <th>time_interval</th>\n",
       "      <th>travel_time</th>\n",
       "    </tr>\n",
       "  </thead>\n",
       "  <tbody>\n",
       "    <tr>\n",
       "      <th>0</th>\n",
       "      <td>9377906285566510514</td>\n",
       "      <td>2016-05-21</td>\n",
       "      <td>[2016-05-21 23:20:00,2016-05-21 23:22:00)</td>\n",
       "      <td>17.6</td>\n",
       "    </tr>\n",
       "    <tr>\n",
       "      <th>1</th>\n",
       "      <td>3377906288228510514</td>\n",
       "      <td>2016-05-21</td>\n",
       "      <td>[2016-05-21 18:46:00,2016-05-21 18:48:00)</td>\n",
       "      <td>3.5</td>\n",
       "    </tr>\n",
       "    <tr>\n",
       "      <th>2</th>\n",
       "      <td>3377906284395510514</td>\n",
       "      <td>2016-05-21</td>\n",
       "      <td>[2016-05-21 07:06:00,2016-05-21 07:08:00)</td>\n",
       "      <td>10.0</td>\n",
       "    </tr>\n",
       "    <tr>\n",
       "      <th>3</th>\n",
       "      <td>4377906284959500514</td>\n",
       "      <td>2016-05-21</td>\n",
       "      <td>[2016-05-21 14:34:00,2016-05-21 14:36:00)</td>\n",
       "      <td>3.5</td>\n",
       "    </tr>\n",
       "    <tr>\n",
       "      <th>4</th>\n",
       "      <td>9377906282776510514</td>\n",
       "      <td>2016-05-21</td>\n",
       "      <td>[2016-05-21 05:04:00,2016-05-21 05:06:00)</td>\n",
       "      <td>1.5</td>\n",
       "    </tr>\n",
       "  </tbody>\n",
       "</table>\n",
       "</div>"
      ],
      "text/plain": [
       "               link_ID        date                              time_interval  \\\n",
       "0  9377906285566510514  2016-05-21  [2016-05-21 23:20:00,2016-05-21 23:22:00)   \n",
       "1  3377906288228510514  2016-05-21  [2016-05-21 18:46:00,2016-05-21 18:48:00)   \n",
       "2  3377906284395510514  2016-05-21  [2016-05-21 07:06:00,2016-05-21 07:08:00)   \n",
       "3  4377906284959500514  2016-05-21  [2016-05-21 14:34:00,2016-05-21 14:36:00)   \n",
       "4  9377906282776510514  2016-05-21  [2016-05-21 05:04:00,2016-05-21 05:06:00)   \n",
       "\n",
       "   travel_time  \n",
       "0         17.6  \n",
       "1          3.5  \n",
       "2         10.0  \n",
       "3          3.5  \n",
       "4          1.5  "
      ]
     },
     "execution_count": 2,
     "metadata": {},
     "output_type": "execute_result"
    }
   ],
   "source": [
    "time_travel = pd.read_csv('./gy_contest_link_traveltime_training_data.txt',sep=';')\n",
    "# time_travel['link_ID'] = time_travel['link_ID'].astype(str) \n",
    "time_travel.head()   "
   ]
  },
  {
   "cell_type": "code",
   "execution_count": 3,
   "metadata": {
    "collapsed": false
   },
   "outputs": [],
   "source": [
    "time_travel['interval'] = time_travel['time_interval'].apply(lambda x: x[11:20])\n",
    "time_travel['hour'] = time_travel['time_interval'].apply(lambda x: int(x[11:14]))"
   ]
  },
  {
   "cell_type": "code",
   "execution_count": 17,
   "metadata": {
    "collapsed": false
   },
   "outputs": [
    {
     "data": {
      "text/html": [
       "<div>\n",
       "<table border=\"1\" class=\"dataframe\">\n",
       "  <thead>\n",
       "    <tr style=\"text-align: right;\">\n",
       "      <th></th>\n",
       "      <th>link_ID</th>\n",
       "      <th>date</th>\n",
       "      <th>time_interval</th>\n",
       "      <th>travel_time</th>\n",
       "      <th>interval</th>\n",
       "      <th>hour</th>\n",
       "    </tr>\n",
       "  </thead>\n",
       "  <tbody>\n",
       "    <tr>\n",
       "      <th>0</th>\n",
       "      <td>9377906285566510514</td>\n",
       "      <td>2016-05-21</td>\n",
       "      <td>[2016-05-21 23:20:00,2016-05-21 23:22:00)</td>\n",
       "      <td>17.6</td>\n",
       "      <td>23:20:00</td>\n",
       "      <td>23</td>\n",
       "    </tr>\n",
       "    <tr>\n",
       "      <th>1</th>\n",
       "      <td>3377906288228510514</td>\n",
       "      <td>2016-05-21</td>\n",
       "      <td>[2016-05-21 18:46:00,2016-05-21 18:48:00)</td>\n",
       "      <td>3.5</td>\n",
       "      <td>18:46:00</td>\n",
       "      <td>18</td>\n",
       "    </tr>\n",
       "    <tr>\n",
       "      <th>2</th>\n",
       "      <td>3377906284395510514</td>\n",
       "      <td>2016-05-21</td>\n",
       "      <td>[2016-05-21 07:06:00,2016-05-21 07:08:00)</td>\n",
       "      <td>10.0</td>\n",
       "      <td>07:06:00</td>\n",
       "      <td>7</td>\n",
       "    </tr>\n",
       "    <tr>\n",
       "      <th>3</th>\n",
       "      <td>4377906284959500514</td>\n",
       "      <td>2016-05-21</td>\n",
       "      <td>[2016-05-21 14:34:00,2016-05-21 14:36:00)</td>\n",
       "      <td>3.5</td>\n",
       "      <td>14:34:00</td>\n",
       "      <td>14</td>\n",
       "    </tr>\n",
       "    <tr>\n",
       "      <th>4</th>\n",
       "      <td>9377906282776510514</td>\n",
       "      <td>2016-05-21</td>\n",
       "      <td>[2016-05-21 05:04:00,2016-05-21 05:06:00)</td>\n",
       "      <td>1.5</td>\n",
       "      <td>05:04:00</td>\n",
       "      <td>5</td>\n",
       "    </tr>\n",
       "  </tbody>\n",
       "</table>\n",
       "</div>"
      ],
      "text/plain": [
       "               link_ID        date                              time_interval  \\\n",
       "0  9377906285566510514  2016-05-21  [2016-05-21 23:20:00,2016-05-21 23:22:00)   \n",
       "1  3377906288228510514  2016-05-21  [2016-05-21 18:46:00,2016-05-21 18:48:00)   \n",
       "2  3377906284395510514  2016-05-21  [2016-05-21 07:06:00,2016-05-21 07:08:00)   \n",
       "3  4377906284959500514  2016-05-21  [2016-05-21 14:34:00,2016-05-21 14:36:00)   \n",
       "4  9377906282776510514  2016-05-21  [2016-05-21 05:04:00,2016-05-21 05:06:00)   \n",
       "\n",
       "   travel_time   interval  hour  \n",
       "0         17.6   23:20:00    23  \n",
       "1          3.5   18:46:00    18  \n",
       "2         10.0   07:06:00     7  \n",
       "3          3.5   14:34:00    14  \n",
       "4          1.5   05:04:00     5  "
      ]
     },
     "execution_count": 17,
     "metadata": {},
     "output_type": "execute_result"
    }
   ],
   "source": [
    "time_travel.head()"
   ]
  },
  {
   "cell_type": "code",
   "execution_count": 12,
   "metadata": {
    "collapsed": false
   },
   "outputs": [
    {
     "data": {
      "text/plain": [
       "link_ID           object\n",
       "date              object\n",
       "time_interval     object\n",
       "travel_time      float64\n",
       "interval          object\n",
       "hour              object\n",
       "dtype: object"
      ]
     },
     "execution_count": 12,
     "metadata": {},
     "output_type": "execute_result"
    }
   ],
   "source": [
    "time_travel.dtypes"
   ]
  },
  {
   "cell_type": "markdown",
   "metadata": {},
   "source": [
    "### 筛选 6 7 8 点的数据"
   ]
  },
  {
   "cell_type": "code",
   "execution_count": 4,
   "metadata": {
    "collapsed": false
   },
   "outputs": [
    {
     "data": {
      "text/html": [
       "<div>\n",
       "<table border=\"1\" class=\"dataframe\">\n",
       "  <thead>\n",
       "    <tr style=\"text-align: right;\">\n",
       "      <th></th>\n",
       "      <th>link_ID</th>\n",
       "      <th>date</th>\n",
       "      <th>time_interval</th>\n",
       "      <th>travel_time</th>\n",
       "      <th>interval</th>\n",
       "      <th>hour</th>\n",
       "    </tr>\n",
       "  </thead>\n",
       "  <tbody>\n",
       "    <tr>\n",
       "      <th>2</th>\n",
       "      <td>3377906284395510514</td>\n",
       "      <td>2016-05-21</td>\n",
       "      <td>[2016-05-21 07:06:00,2016-05-21 07:08:00)</td>\n",
       "      <td>10.0</td>\n",
       "      <td>07:06:00</td>\n",
       "      <td>7</td>\n",
       "    </tr>\n",
       "    <tr>\n",
       "      <th>39</th>\n",
       "      <td>3377906282418510514</td>\n",
       "      <td>2016-05-21</td>\n",
       "      <td>[2016-05-21 08:56:00,2016-05-21 08:58:00)</td>\n",
       "      <td>3.5</td>\n",
       "      <td>08:56:00</td>\n",
       "      <td>8</td>\n",
       "    </tr>\n",
       "    <tr>\n",
       "      <th>62</th>\n",
       "      <td>4377906289813600514</td>\n",
       "      <td>2016-05-21</td>\n",
       "      <td>[2016-05-21 08:00:00,2016-05-21 08:02:00)</td>\n",
       "      <td>2.0</td>\n",
       "      <td>08:00:00</td>\n",
       "      <td>8</td>\n",
       "    </tr>\n",
       "    <tr>\n",
       "      <th>70</th>\n",
       "      <td>4377906289525800514</td>\n",
       "      <td>2016-05-21</td>\n",
       "      <td>[2016-05-21 08:10:00,2016-05-21 08:12:00)</td>\n",
       "      <td>2.2</td>\n",
       "      <td>08:10:00</td>\n",
       "      <td>8</td>\n",
       "    </tr>\n",
       "    <tr>\n",
       "      <th>71</th>\n",
       "      <td>4377906289525800514</td>\n",
       "      <td>2016-05-21</td>\n",
       "      <td>[2016-05-21 08:50:00,2016-05-21 08:52:00)</td>\n",
       "      <td>3.2</td>\n",
       "      <td>08:50:00</td>\n",
       "      <td>8</td>\n",
       "    </tr>\n",
       "  </tbody>\n",
       "</table>\n",
       "</div>"
      ],
      "text/plain": [
       "                link_ID        date  \\\n",
       "2   3377906284395510514  2016-05-21   \n",
       "39  3377906282418510514  2016-05-21   \n",
       "62  4377906289813600514  2016-05-21   \n",
       "70  4377906289525800514  2016-05-21   \n",
       "71  4377906289525800514  2016-05-21   \n",
       "\n",
       "                                time_interval  travel_time   interval  hour  \n",
       "2   [2016-05-21 07:06:00,2016-05-21 07:08:00)         10.0   07:06:00     7  \n",
       "39  [2016-05-21 08:56:00,2016-05-21 08:58:00)          3.5   08:56:00     8  \n",
       "62  [2016-05-21 08:00:00,2016-05-21 08:02:00)          2.0   08:00:00     8  \n",
       "70  [2016-05-21 08:10:00,2016-05-21 08:12:00)          2.2   08:10:00     8  \n",
       "71  [2016-05-21 08:50:00,2016-05-21 08:52:00)          3.2   08:50:00     8  "
      ]
     },
     "execution_count": 4,
     "metadata": {},
     "output_type": "execute_result"
    }
   ],
   "source": [
    "df = time_travel[time_travel.hour.isin([6,7,8])]\n",
    "df.head()"
   ]
  },
  {
   "cell_type": "code",
   "execution_count": 5,
   "metadata": {
    "collapsed": true
   },
   "outputs": [],
   "source": [
    "df.to_csv('time_interval_range_6_8.txt',index=False)"
   ]
  },
  {
   "cell_type": "code",
   "execution_count": null,
   "metadata": {
    "collapsed": true
   },
   "outputs": [],
   "source": []
  }
 ],
 "metadata": {
  "anaconda-cloud": {},
  "kernelspec": {
   "display_name": "Python [Root]",
   "language": "python",
   "name": "Python [Root]"
  },
  "language_info": {
   "codemirror_mode": {
    "name": "ipython",
    "version": 3
   },
   "file_extension": ".py",
   "mimetype": "text/x-python",
   "name": "python",
   "nbconvert_exporter": "python",
   "pygments_lexer": "ipython3",
   "version": "3.5.3"
  }
 },
 "nbformat": 4,
 "nbformat_minor": 0
}
