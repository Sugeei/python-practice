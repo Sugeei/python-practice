{
 "cells": [
  {
   "cell_type": "code",
   "execution_count": 2,
   "metadata": {
    "collapsed": true
   },
   "outputs": [],
   "source": [
    "import pandas as pd\n",
    "import warnings\n",
    "warnings.filterwarnings(\"ignore\")\n",
    "\n",
    "# coding: utf-8\n",
    "%matplotlib inline \n",
    "\n",
    "import numpy as np\n",
    "# import pandas as pd\n",
    "import matplotlib.pyplot as plt\n",
    "import seaborn as sns\n",
    "\n",
    "import warnings\n",
    "warnings.filterwarnings(\"ignore\")\n",
    "# pd.options.display.mpl_style = 'default'"
   ]
  },
  {
   "cell_type": "markdown",
   "metadata": {},
   "source": [
    "### 读取原始数据"
   ]
  },
  {
   "cell_type": "code",
   "execution_count": 6,
   "metadata": {
    "collapsed": false
   },
   "outputs": [
    {
     "data": {
      "text/html": [
       "<div>\n",
       "<table border=\"1\" class=\"dataframe\">\n",
       "  <thead>\n",
       "    <tr style=\"text-align: right;\">\n",
       "      <th></th>\n",
       "      <th>link_ID</th>\n",
       "      <th>date</th>\n",
       "      <th>time_interval</th>\n",
       "      <th>travel_time</th>\n",
       "    </tr>\n",
       "  </thead>\n",
       "  <tbody>\n",
       "    <tr>\n",
       "      <th>0</th>\n",
       "      <td>9377906285566510514</td>\n",
       "      <td>2016-05-21</td>\n",
       "      <td>[2016-05-21 23:20:00,2016-05-21 23:22:00)</td>\n",
       "      <td>17.6</td>\n",
       "    </tr>\n",
       "    <tr>\n",
       "      <th>1</th>\n",
       "      <td>3377906288228510514</td>\n",
       "      <td>2016-05-21</td>\n",
       "      <td>[2016-05-21 18:46:00,2016-05-21 18:48:00)</td>\n",
       "      <td>3.5</td>\n",
       "    </tr>\n",
       "    <tr>\n",
       "      <th>2</th>\n",
       "      <td>3377906284395510514</td>\n",
       "      <td>2016-05-21</td>\n",
       "      <td>[2016-05-21 07:06:00,2016-05-21 07:08:00)</td>\n",
       "      <td>10.0</td>\n",
       "    </tr>\n",
       "    <tr>\n",
       "      <th>3</th>\n",
       "      <td>4377906284959500514</td>\n",
       "      <td>2016-05-21</td>\n",
       "      <td>[2016-05-21 14:34:00,2016-05-21 14:36:00)</td>\n",
       "      <td>3.5</td>\n",
       "    </tr>\n",
       "    <tr>\n",
       "      <th>4</th>\n",
       "      <td>9377906282776510514</td>\n",
       "      <td>2016-05-21</td>\n",
       "      <td>[2016-05-21 05:04:00,2016-05-21 05:06:00)</td>\n",
       "      <td>1.5</td>\n",
       "    </tr>\n",
       "  </tbody>\n",
       "</table>\n",
       "</div>"
      ],
      "text/plain": [
       "               link_ID        date                              time_interval  \\\n",
       "0  9377906285566510514  2016-05-21  [2016-05-21 23:20:00,2016-05-21 23:22:00)   \n",
       "1  3377906288228510514  2016-05-21  [2016-05-21 18:46:00,2016-05-21 18:48:00)   \n",
       "2  3377906284395510514  2016-05-21  [2016-05-21 07:06:00,2016-05-21 07:08:00)   \n",
       "3  4377906284959500514  2016-05-21  [2016-05-21 14:34:00,2016-05-21 14:36:00)   \n",
       "4  9377906282776510514  2016-05-21  [2016-05-21 05:04:00,2016-05-21 05:06:00)   \n",
       "\n",
       "   travel_time  \n",
       "0         17.6  \n",
       "1          3.5  \n",
       "2         10.0  \n",
       "3          3.5  \n",
       "4          1.5  "
      ]
     },
     "execution_count": 6,
     "metadata": {},
     "output_type": "execute_result"
    }
   ],
   "source": [
    "time_travel = pd.read_csv('./gy_contest_link_traveltime_training_data.txt',sep=';')\n",
    "# time_travel['link_ID'] = time_travel['link_ID'].astype(str) \n",
    "time_travel.head()   "
   ]
  },
  {
   "cell_type": "code",
   "execution_count": 16,
   "metadata": {
    "collapsed": false
   },
   "outputs": [],
   "source": [
    "time_travel['interval'] = time_travel['time_interval'].apply(lambda x: x[11:20])\n",
    "time_travel['hour'] = time_travel['time_interval'].apply(lambda x: int(x[11:14]))"
   ]
  },
  {
   "cell_type": "code",
   "execution_count": 17,
   "metadata": {
    "collapsed": false
   },
   "outputs": [
    {
     "data": {
      "text/html": [
       "<div>\n",
       "<table border=\"1\" class=\"dataframe\">\n",
       "  <thead>\n",
       "    <tr style=\"text-align: right;\">\n",
       "      <th></th>\n",
       "      <th>link_ID</th>\n",
       "      <th>date</th>\n",
       "      <th>time_interval</th>\n",
       "      <th>travel_time</th>\n",
       "      <th>interval</th>\n",
       "      <th>hour</th>\n",
       "    </tr>\n",
       "  </thead>\n",
       "  <tbody>\n",
       "    <tr>\n",
       "      <th>0</th>\n",
       "      <td>9377906285566510514</td>\n",
       "      <td>2016-05-21</td>\n",
       "      <td>[2016-05-21 23:20:00,2016-05-21 23:22:00)</td>\n",
       "      <td>17.6</td>\n",
       "      <td>23:20:00</td>\n",
       "      <td>23</td>\n",
       "    </tr>\n",
       "    <tr>\n",
       "      <th>1</th>\n",
       "      <td>3377906288228510514</td>\n",
       "      <td>2016-05-21</td>\n",
       "      <td>[2016-05-21 18:46:00,2016-05-21 18:48:00)</td>\n",
       "      <td>3.5</td>\n",
       "      <td>18:46:00</td>\n",
       "      <td>18</td>\n",
       "    </tr>\n",
       "    <tr>\n",
       "      <th>2</th>\n",
       "      <td>3377906284395510514</td>\n",
       "      <td>2016-05-21</td>\n",
       "      <td>[2016-05-21 07:06:00,2016-05-21 07:08:00)</td>\n",
       "      <td>10.0</td>\n",
       "      <td>07:06:00</td>\n",
       "      <td>7</td>\n",
       "    </tr>\n",
       "    <tr>\n",
       "      <th>3</th>\n",
       "      <td>4377906284959500514</td>\n",
       "      <td>2016-05-21</td>\n",
       "      <td>[2016-05-21 14:34:00,2016-05-21 14:36:00)</td>\n",
       "      <td>3.5</td>\n",
       "      <td>14:34:00</td>\n",
       "      <td>14</td>\n",
       "    </tr>\n",
       "    <tr>\n",
       "      <th>4</th>\n",
       "      <td>9377906282776510514</td>\n",
       "      <td>2016-05-21</td>\n",
       "      <td>[2016-05-21 05:04:00,2016-05-21 05:06:00)</td>\n",
       "      <td>1.5</td>\n",
       "      <td>05:04:00</td>\n",
       "      <td>5</td>\n",
       "    </tr>\n",
       "  </tbody>\n",
       "</table>\n",
       "</div>"
      ],
      "text/plain": [
       "               link_ID        date                              time_interval  \\\n",
       "0  9377906285566510514  2016-05-21  [2016-05-21 23:20:00,2016-05-21 23:22:00)   \n",
       "1  3377906288228510514  2016-05-21  [2016-05-21 18:46:00,2016-05-21 18:48:00)   \n",
       "2  3377906284395510514  2016-05-21  [2016-05-21 07:06:00,2016-05-21 07:08:00)   \n",
       "3  4377906284959500514  2016-05-21  [2016-05-21 14:34:00,2016-05-21 14:36:00)   \n",
       "4  9377906282776510514  2016-05-21  [2016-05-21 05:04:00,2016-05-21 05:06:00)   \n",
       "\n",
       "   travel_time   interval  hour  \n",
       "0         17.6   23:20:00    23  \n",
       "1          3.5   18:46:00    18  \n",
       "2         10.0   07:06:00     7  \n",
       "3          3.5   14:34:00    14  \n",
       "4          1.5   05:04:00     5  "
      ]
     },
     "execution_count": 17,
     "metadata": {},
     "output_type": "execute_result"
    }
   ],
   "source": [
    "time_travel.head()"
   ]
  },
  {
   "cell_type": "code",
   "execution_count": 12,
   "metadata": {
    "collapsed": false
   },
   "outputs": [
    {
     "data": {
      "text/plain": [
       "link_ID           object\n",
       "date              object\n",
       "time_interval     object\n",
       "travel_time      float64\n",
       "interval          object\n",
       "hour              object\n",
       "dtype: object"
      ]
     },
     "execution_count": 12,
     "metadata": {},
     "output_type": "execute_result"
    }
   ],
   "source": [
    "time_travel.dtypes"
   ]
  },
  {
   "cell_type": "markdown",
   "metadata": {},
   "source": [
    "### 筛选 6 7 8 点的数据"
   ]
  },
  {
   "cell_type": "code",
   "execution_count": 20,
   "metadata": {
    "collapsed": false
   },
   "outputs": [
    {
     "data": {
      "text/html": [
       "<div>\n",
       "<table border=\"1\" class=\"dataframe\">\n",
       "  <thead>\n",
       "    <tr style=\"text-align: right;\">\n",
       "      <th></th>\n",
       "      <th>link_ID</th>\n",
       "      <th>date</th>\n",
       "      <th>time_interval</th>\n",
       "      <th>travel_time</th>\n",
       "      <th>interval</th>\n",
       "      <th>hour</th>\n",
       "    </tr>\n",
       "  </thead>\n",
       "  <tbody>\n",
       "    <tr>\n",
       "      <th>2</th>\n",
       "      <td>3377906284395510514</td>\n",
       "      <td>2016-05-21</td>\n",
       "      <td>[2016-05-21 07:06:00,2016-05-21 07:08:00)</td>\n",
       "      <td>10.0</td>\n",
       "      <td>07:06:00</td>\n",
       "      <td>7</td>\n",
       "    </tr>\n",
       "    <tr>\n",
       "      <th>39</th>\n",
       "      <td>3377906282418510514</td>\n",
       "      <td>2016-05-21</td>\n",
       "      <td>[2016-05-21 08:56:00,2016-05-21 08:58:00)</td>\n",
       "      <td>3.5</td>\n",
       "      <td>08:56:00</td>\n",
       "      <td>8</td>\n",
       "    </tr>\n",
       "    <tr>\n",
       "      <th>62</th>\n",
       "      <td>4377906289813600514</td>\n",
       "      <td>2016-05-21</td>\n",
       "      <td>[2016-05-21 08:00:00,2016-05-21 08:02:00)</td>\n",
       "      <td>2.0</td>\n",
       "      <td>08:00:00</td>\n",
       "      <td>8</td>\n",
       "    </tr>\n",
       "    <tr>\n",
       "      <th>70</th>\n",
       "      <td>4377906289525800514</td>\n",
       "      <td>2016-05-21</td>\n",
       "      <td>[2016-05-21 08:10:00,2016-05-21 08:12:00)</td>\n",
       "      <td>2.2</td>\n",
       "      <td>08:10:00</td>\n",
       "      <td>8</td>\n",
       "    </tr>\n",
       "    <tr>\n",
       "      <th>71</th>\n",
       "      <td>4377906289525800514</td>\n",
       "      <td>2016-05-21</td>\n",
       "      <td>[2016-05-21 08:50:00,2016-05-21 08:52:00)</td>\n",
       "      <td>3.2</td>\n",
       "      <td>08:50:00</td>\n",
       "      <td>8</td>\n",
       "    </tr>\n",
       "  </tbody>\n",
       "</table>\n",
       "</div>"
      ],
      "text/plain": [
       "                link_ID        date  \\\n",
       "2   3377906284395510514  2016-05-21   \n",
       "39  3377906282418510514  2016-05-21   \n",
       "62  4377906289813600514  2016-05-21   \n",
       "70  4377906289525800514  2016-05-21   \n",
       "71  4377906289525800514  2016-05-21   \n",
       "\n",
       "                                time_interval  travel_time   interval  hour  \n",
       "2   [2016-05-21 07:06:00,2016-05-21 07:08:00)         10.0   07:06:00     7  \n",
       "39  [2016-05-21 08:56:00,2016-05-21 08:58:00)          3.5   08:56:00     8  \n",
       "62  [2016-05-21 08:00:00,2016-05-21 08:02:00)          2.0   08:00:00     8  \n",
       "70  [2016-05-21 08:10:00,2016-05-21 08:12:00)          2.2   08:10:00     8  \n",
       "71  [2016-05-21 08:50:00,2016-05-21 08:52:00)          3.2   08:50:00     8  "
      ]
     },
     "execution_count": 20,
     "metadata": {},
     "output_type": "execute_result"
    }
   ],
   "source": [
    "df = time_travel[time_travel.hour.isin([6,7,8])]\n",
    "df.head()"
   ]
  },
  {
   "cell_type": "code",
   "execution_count": null,
   "metadata": {
    "collapsed": true
   },
   "outputs": [],
   "source": [
    "df.to_csv('time_interval_range_6_8.txt',index=F)"
   ]
  },
  {
   "cell_type": "code",
   "execution_count": 18,
   "metadata": {
    "collapsed": false
   },
   "outputs": [
    {
     "data": {
      "text/html": [
       "<div>\n",
       "<table border=\"1\" class=\"dataframe\">\n",
       "  <thead>\n",
       "    <tr style=\"text-align: right;\">\n",
       "      <th></th>\n",
       "      <th>user_id</th>\n",
       "      <th>record_date</th>\n",
       "    </tr>\n",
       "  </thead>\n",
       "  <tbody>\n",
       "    <tr>\n",
       "      <th>0</th>\n",
       "      <td>1</td>\n",
       "      <td>2015-01-01</td>\n",
       "    </tr>\n",
       "    <tr>\n",
       "      <th>1</th>\n",
       "      <td>1</td>\n",
       "      <td>2015-01-02</td>\n",
       "    </tr>\n",
       "  </tbody>\n",
       "</table>\n",
       "</div>"
      ],
      "text/plain": [
       "   user_id record_date\n",
       "0        1  2015-01-01\n",
       "1        1  2015-01-02"
      ]
     },
     "execution_count": 18,
     "metadata": {},
     "output_type": "execute_result"
    }
   ],
   "source": [
    "dates = pd.date_range(\"2015-01-01\",\"2016-08-31\", freq=\"1D\")\n",
    "userid = pd.DataFrame({'user_id':df['user_id'].unique()})\n",
    "dates = pd.DataFrame(dates)\n",
    "dates.columns = ['record_date']\n",
    "userid['key'] = 0\n",
    "dates['key'] = 0\n",
    "full = userid.merge(dates, how='left', on = 'key')\n",
    "full.drop('key',1, inplace=True)\n",
    "full.head(2)"
   ]
  },
  {
   "cell_type": "code",
   "execution_count": 19,
   "metadata": {
    "collapsed": false
   },
   "outputs": [
    {
     "data": {
      "text/plain": [
       "(885486, 3)"
      ]
     },
     "execution_count": 19,
     "metadata": {},
     "output_type": "execute_result"
    }
   ],
   "source": [
    "df = pd.merge(full, df, how='left', on=['user_id','record_date'])\n",
    "df['power_consumption'] = df['power_consumption'].interpolate()\n",
    "df.shape"
   ]
  },
  {
   "cell_type": "markdown",
   "metadata": {},
   "source": [
    "### 填充特征"
   ]
  },
  {
   "cell_type": "code",
   "execution_count": 20,
   "metadata": {
    "collapsed": false
   },
   "outputs": [],
   "source": [
    "df['dow'] = df['record_date'].apply(lambda x: x.dayofweek)\n",
    "df['doy'] = df['record_date'].apply(lambda x: x.dayofyear)\n",
    "df['day'] = df['record_date'].apply(lambda x: x.day)\n",
    "df['month'] = df['record_date'].apply(lambda x: x.month)\n",
    "df['year'] = df['record_date'].apply(lambda x: x.year)\n",
    "\n",
    "def map_season(month):\n",
    "    month_dic = {1:1, 2:1, 3:2, 4:2, 5:3, 6:3, 7:3, 8:3, 9:3, 10:4, 11:4, 12:1}\n",
    "    return month_dic[month]\n",
    "\n",
    "df['season'] = df['month'].apply(lambda x: map_season(x))"
   ]
  },
  {
   "cell_type": "code",
   "execution_count": 25,
   "metadata": {
    "collapsed": false
   },
   "outputs": [
    {
     "data": {
      "text/plain": [
       "(609, 2)"
      ]
     },
     "execution_count": 25,
     "metadata": {},
     "output_type": "execute_result"
    }
   ],
   "source": [
    "### 用电量聚合到一个月\n",
    "\n",
    "base_df = df[['record_date','power_consumption']].groupby(by='record_date').agg('sum')\n",
    "base_df = base_df.reset_index()\n",
    "base_df.head()\n",
    "base_df.shape"
   ]
  },
  {
   "cell_type": "markdown",
   "metadata": {},
   "source": [
    "### 拼接测试集"
   ]
  },
  {
   "cell_type": "code",
   "execution_count": 27,
   "metadata": {
    "collapsed": false
   },
   "outputs": [
    {
     "data": {
      "text/html": [
       "<div>\n",
       "<table border=\"1\" class=\"dataframe\">\n",
       "  <thead>\n",
       "    <tr style=\"text-align: right;\">\n",
       "      <th></th>\n",
       "      <th>record_date</th>\n",
       "      <th>power_consumption</th>\n",
       "    </tr>\n",
       "  </thead>\n",
       "  <tbody>\n",
       "    <tr>\n",
       "      <th>578</th>\n",
       "      <td>2016-09-01</td>\n",
       "      <td>4627029.0</td>\n",
       "    </tr>\n",
       "    <tr>\n",
       "      <th>579</th>\n",
       "      <td>2016-09-02</td>\n",
       "      <td>4618467.0</td>\n",
       "    </tr>\n",
       "    <tr>\n",
       "      <th>580</th>\n",
       "      <td>2016-09-03</td>\n",
       "      <td>4490739.0</td>\n",
       "    </tr>\n",
       "    <tr>\n",
       "      <th>581</th>\n",
       "      <td>2016-09-04</td>\n",
       "      <td>4367727.0</td>\n",
       "    </tr>\n",
       "    <tr>\n",
       "      <th>582</th>\n",
       "      <td>2016-09-05</td>\n",
       "      <td>4253298.0</td>\n",
       "    </tr>\n",
       "  </tbody>\n",
       "</table>\n",
       "</div>"
      ],
      "text/plain": [
       "    record_date  power_consumption\n",
       "578  2016-09-01          4627029.0\n",
       "579  2016-09-02          4618467.0\n",
       "580  2016-09-03          4490739.0\n",
       "581  2016-09-04          4367727.0\n",
       "582  2016-09-05          4253298.0"
      ]
     },
     "execution_count": 27,
     "metadata": {},
     "output_type": "execute_result"
    }
   ],
   "source": [
    "df_test = base_df[(base_df.record_date>='2016-08-01')&(base_df.record_date<='2016-08-30')]\n",
    "df_test['record_date'] = pd.DataFrame(df_test['record_date']+pd.Timedelta('31 days'))\n",
    "df_test.head()"
   ]
  },
  {
   "cell_type": "code",
   "execution_count": 28,
   "metadata": {
    "collapsed": false
   },
   "outputs": [
    {
     "data": {
      "text/plain": [
       "(639, 2)"
      ]
     },
     "execution_count": 28,
     "metadata": {},
     "output_type": "execute_result"
    }
   ],
   "source": [
    "base_df = pd.concat([base_df, df_test]).sort_values(['record_date'])\n",
    "base_df.shape"
   ]
  },
  {
   "cell_type": "markdown",
   "metadata": {},
   "source": [
    "### 造特征"
   ]
  },
  {
   "cell_type": "code",
   "execution_count": 29,
   "metadata": {
    "collapsed": true
   },
   "outputs": [],
   "source": [
    "base_df['dow'] = base_df['record_date'].apply(lambda x: x.dayofweek)\n",
    "base_df['doy'] = base_df['record_date'].apply(lambda x: x.dayofyear)\n",
    "base_df['day'] = base_df['record_date'].apply(lambda x: x.day)\n",
    "base_df['month'] = base_df['record_date'].apply(lambda x: x.month)\n",
    "base_df['year'] = base_df['record_date'].apply(lambda x: x.year)\n",
    "\n",
    "def map_season(month):\n",
    "    month_dic = {1:1, 2:1, 3:2, 4:2, 5:3, 6:3, 7:3, 8:3, 9:3, 10:4, 11:4, 12:1}\n",
    "    return month_dic[month]\n",
    "\n",
    "# base_df['season'] = base_df['month'].apply(lambda x: map_season(x))"
   ]
  },
  {
   "cell_type": "markdown",
   "metadata": {},
   "source": [
    "### 添加更多特征\n",
    "### 按 day 计算均值\n"
   ]
  },
  {
   "cell_type": "code",
   "execution_count": 159,
   "metadata": {
    "collapsed": true
   },
   "outputs": [],
   "source": [
    "train = base_df"
   ]
  },
  {
   "cell_type": "code",
   "execution_count": 160,
   "metadata": {
    "collapsed": false
   },
   "outputs": [
    {
     "data": {
      "text/plain": [
       "(31, 2)"
      ]
     },
     "execution_count": 160,
     "metadata": {},
     "output_type": "execute_result"
    }
   ],
   "source": [
    "\n",
    "df_stats = base_df[['power_consumption','day']].groupby(by=['day']).agg(['mean', 'std'])\n",
    "df_stats.shape"
   ]
  },
  {
   "cell_type": "code",
   "execution_count": 161,
   "metadata": {
    "collapsed": false
   },
   "outputs": [
    {
     "data": {
      "text/html": [
       "<div>\n",
       "<table border=\"1\" class=\"dataframe\">\n",
       "  <thead>\n",
       "    <tr style=\"text-align: right;\">\n",
       "      <th></th>\n",
       "      <th>record_date</th>\n",
       "      <th>power_consumption</th>\n",
       "      <th>dow</th>\n",
       "      <th>doy</th>\n",
       "      <th>day</th>\n",
       "      <th>month</th>\n",
       "      <th>year</th>\n",
       "      <th>week_period</th>\n",
       "      <th>month_period</th>\n",
       "      <th>mean_day</th>\n",
       "      <th>std_day</th>\n",
       "    </tr>\n",
       "  </thead>\n",
       "  <tbody>\n",
       "    <tr>\n",
       "      <th>0</th>\n",
       "      <td>2015-01-01</td>\n",
       "      <td>2900575.0</td>\n",
       "      <td>3</td>\n",
       "      <td>1</td>\n",
       "      <td>1</td>\n",
       "      <td>1</td>\n",
       "      <td>2015</td>\n",
       "      <td>1</td>\n",
       "      <td>1</td>\n",
       "      <td>3.620987e+06</td>\n",
       "      <td>581292.542560</td>\n",
       "    </tr>\n",
       "    <tr>\n",
       "      <th>1</th>\n",
       "      <td>2015-01-02</td>\n",
       "      <td>3158211.0</td>\n",
       "      <td>4</td>\n",
       "      <td>2</td>\n",
       "      <td>2</td>\n",
       "      <td>1</td>\n",
       "      <td>2015</td>\n",
       "      <td>1</td>\n",
       "      <td>1</td>\n",
       "      <td>3.724284e+06</td>\n",
       "      <td>471504.202731</td>\n",
       "    </tr>\n",
       "    <tr>\n",
       "      <th>2</th>\n",
       "      <td>2015-01-03</td>\n",
       "      <td>3596487.0</td>\n",
       "      <td>5</td>\n",
       "      <td>3</td>\n",
       "      <td>3</td>\n",
       "      <td>1</td>\n",
       "      <td>2015</td>\n",
       "      <td>1</td>\n",
       "      <td>1</td>\n",
       "      <td>3.774477e+06</td>\n",
       "      <td>417498.917083</td>\n",
       "    </tr>\n",
       "    <tr>\n",
       "      <th>3</th>\n",
       "      <td>2015-01-04</td>\n",
       "      <td>3939672.0</td>\n",
       "      <td>6</td>\n",
       "      <td>4</td>\n",
       "      <td>4</td>\n",
       "      <td>1</td>\n",
       "      <td>2015</td>\n",
       "      <td>1</td>\n",
       "      <td>1</td>\n",
       "      <td>3.806080e+06</td>\n",
       "      <td>375370.780895</td>\n",
       "    </tr>\n",
       "    <tr>\n",
       "      <th>4</th>\n",
       "      <td>2015-01-05</td>\n",
       "      <td>4101790.0</td>\n",
       "      <td>0</td>\n",
       "      <td>5</td>\n",
       "      <td>5</td>\n",
       "      <td>1</td>\n",
       "      <td>2015</td>\n",
       "      <td>1</td>\n",
       "      <td>1</td>\n",
       "      <td>3.712768e+06</td>\n",
       "      <td>580312.573094</td>\n",
       "    </tr>\n",
       "  </tbody>\n",
       "</table>\n",
       "</div>"
      ],
      "text/plain": [
       "  record_date  power_consumption  dow  doy  day  month  year  week_period  \\\n",
       "0  2015-01-01          2900575.0    3    1    1      1  2015            1   \n",
       "1  2015-01-02          3158211.0    4    2    2      1  2015            1   \n",
       "2  2015-01-03          3596487.0    5    3    3      1  2015            1   \n",
       "3  2015-01-04          3939672.0    6    4    4      1  2015            1   \n",
       "4  2015-01-05          4101790.0    0    5    5      1  2015            1   \n",
       "\n",
       "   month_period      mean_day        std_day  \n",
       "0             1  3.620987e+06  581292.542560  \n",
       "1             1  3.724284e+06  471504.202731  \n",
       "2             1  3.774477e+06  417498.917083  \n",
       "3             1  3.806080e+06  375370.780895  \n",
       "4             1  3.712768e+06  580312.573094  "
      ]
     },
     "execution_count": 161,
     "metadata": {},
     "output_type": "execute_result"
    }
   ],
   "source": [
    "df_stats.columns = df_stats.columns.droplevel(0)\n",
    "df_stats = df_stats.reset_index()\n",
    "df_stats.head()\n",
    "df_stats['mean_day'] = df_stats['mean']#.shift(1)\n",
    "# df_stats['2_m_mean'] = df_stats['mean'].shift(2)\n",
    "df_stats['std_day'] = df_stats['std']#.shift(1)\n",
    "# df_stats['2_m_std'] = df_stats['std'].shift(2)\n",
    "df_stats.head()\n",
    "\n",
    "# train = pd.merge('base_df','df_stats',on=['year','month'])\n",
    "train = pd.merge(train, df_stats, how='left', on=['day'])\n",
    "train.head()\n",
    "train = train.drop(['mean', 'std'],axis=1)\n",
    "train.head()"
   ]
  },
  {
   "cell_type": "markdown",
   "metadata": {},
   "source": [
    "### 添加更多特征\n",
    "### 先添加月均值和方差"
   ]
  },
  {
   "cell_type": "code",
   "execution_count": 162,
   "metadata": {
    "collapsed": false
   },
   "outputs": [
    {
     "data": {
      "text/html": [
       "<div>\n",
       "<table border=\"1\" class=\"dataframe\">\n",
       "  <thead>\n",
       "    <tr>\n",
       "      <th></th>\n",
       "      <th></th>\n",
       "      <th colspan=\"2\" halign=\"left\">power_consumption</th>\n",
       "    </tr>\n",
       "    <tr>\n",
       "      <th></th>\n",
       "      <th></th>\n",
       "      <th>mean</th>\n",
       "      <th>std</th>\n",
       "    </tr>\n",
       "    <tr>\n",
       "      <th>year</th>\n",
       "      <th>month</th>\n",
       "      <th></th>\n",
       "      <th></th>\n",
       "    </tr>\n",
       "  </thead>\n",
       "  <tbody>\n",
       "    <tr>\n",
       "      <th rowspan=\"5\" valign=\"top\">2015</th>\n",
       "      <th>1</th>\n",
       "      <td>3.961383e+06</td>\n",
       "      <td>303629.486622</td>\n",
       "    </tr>\n",
       "    <tr>\n",
       "      <th>2</th>\n",
       "      <td>2.795163e+06</td>\n",
       "      <td>769697.864999</td>\n",
       "    </tr>\n",
       "    <tr>\n",
       "      <th>3</th>\n",
       "      <td>3.478852e+06</td>\n",
       "      <td>564753.747993</td>\n",
       "    </tr>\n",
       "    <tr>\n",
       "      <th>4</th>\n",
       "      <td>3.768333e+06</td>\n",
       "      <td>190787.832757</td>\n",
       "    </tr>\n",
       "    <tr>\n",
       "      <th>5</th>\n",
       "      <td>3.755262e+06</td>\n",
       "      <td>269088.249265</td>\n",
       "    </tr>\n",
       "  </tbody>\n",
       "</table>\n",
       "</div>"
      ],
      "text/plain": [
       "           power_consumption               \n",
       "                        mean            std\n",
       "year month                                 \n",
       "2015 1          3.961383e+06  303629.486622\n",
       "     2          2.795163e+06  769697.864999\n",
       "     3          3.478852e+06  564753.747993\n",
       "     4          3.768333e+06  190787.832757\n",
       "     5          3.755262e+06  269088.249265"
      ]
     },
     "execution_count": 162,
     "metadata": {},
     "output_type": "execute_result"
    }
   ],
   "source": [
    "df_stats = base_df[['power_consumption','year','month']].groupby(by=['year', 'month']).agg(['mean', 'std'])\n",
    "df_stats.head()"
   ]
  },
  {
   "cell_type": "code",
   "execution_count": 163,
   "metadata": {
    "collapsed": false
   },
   "outputs": [
    {
     "data": {
      "text/html": [
       "<div>\n",
       "<table border=\"1\" class=\"dataframe\">\n",
       "  <thead>\n",
       "    <tr style=\"text-align: right;\">\n",
       "      <th></th>\n",
       "      <th>year</th>\n",
       "      <th>month</th>\n",
       "      <th>mean</th>\n",
       "      <th>std</th>\n",
       "    </tr>\n",
       "  </thead>\n",
       "  <tbody>\n",
       "    <tr>\n",
       "      <th>0</th>\n",
       "      <td>2015</td>\n",
       "      <td>1</td>\n",
       "      <td>3.961383e+06</td>\n",
       "      <td>303629.486622</td>\n",
       "    </tr>\n",
       "    <tr>\n",
       "      <th>1</th>\n",
       "      <td>2015</td>\n",
       "      <td>2</td>\n",
       "      <td>2.795163e+06</td>\n",
       "      <td>769697.864999</td>\n",
       "    </tr>\n",
       "    <tr>\n",
       "      <th>2</th>\n",
       "      <td>2015</td>\n",
       "      <td>3</td>\n",
       "      <td>3.478852e+06</td>\n",
       "      <td>564753.747993</td>\n",
       "    </tr>\n",
       "    <tr>\n",
       "      <th>3</th>\n",
       "      <td>2015</td>\n",
       "      <td>4</td>\n",
       "      <td>3.768333e+06</td>\n",
       "      <td>190787.832757</td>\n",
       "    </tr>\n",
       "    <tr>\n",
       "      <th>4</th>\n",
       "      <td>2015</td>\n",
       "      <td>5</td>\n",
       "      <td>3.755262e+06</td>\n",
       "      <td>269088.249265</td>\n",
       "    </tr>\n",
       "  </tbody>\n",
       "</table>\n",
       "</div>"
      ],
      "text/plain": [
       "   year  month          mean            std\n",
       "0  2015      1  3.961383e+06  303629.486622\n",
       "1  2015      2  2.795163e+06  769697.864999\n",
       "2  2015      3  3.478852e+06  564753.747993\n",
       "3  2015      4  3.768333e+06  190787.832757\n",
       "4  2015      5  3.755262e+06  269088.249265"
      ]
     },
     "execution_count": 163,
     "metadata": {},
     "output_type": "execute_result"
    }
   ],
   "source": [
    "df_stats.columns = df_stats.columns.droplevel(0)\n",
    "df_stats = df_stats.reset_index()\n",
    "df_stats.head()\n",
    "\n"
   ]
  },
  {
   "cell_type": "code",
   "execution_count": 164,
   "metadata": {
    "collapsed": false
   },
   "outputs": [
    {
     "data": {
      "text/html": [
       "<div>\n",
       "<table border=\"1\" class=\"dataframe\">\n",
       "  <thead>\n",
       "    <tr style=\"text-align: right;\">\n",
       "      <th></th>\n",
       "      <th>year</th>\n",
       "      <th>month</th>\n",
       "      <th>mean</th>\n",
       "      <th>std</th>\n",
       "    </tr>\n",
       "  </thead>\n",
       "  <tbody>\n",
       "    <tr>\n",
       "      <th>0</th>\n",
       "      <td>2015</td>\n",
       "      <td>1</td>\n",
       "      <td>NaN</td>\n",
       "      <td>NaN</td>\n",
       "    </tr>\n",
       "    <tr>\n",
       "      <th>1</th>\n",
       "      <td>2015</td>\n",
       "      <td>2</td>\n",
       "      <td>3.961383e+06</td>\n",
       "      <td>303629.486622</td>\n",
       "    </tr>\n",
       "    <tr>\n",
       "      <th>2</th>\n",
       "      <td>2015</td>\n",
       "      <td>3</td>\n",
       "      <td>2.795163e+06</td>\n",
       "      <td>769697.864999</td>\n",
       "    </tr>\n",
       "    <tr>\n",
       "      <th>3</th>\n",
       "      <td>2015</td>\n",
       "      <td>4</td>\n",
       "      <td>3.478852e+06</td>\n",
       "      <td>564753.747993</td>\n",
       "    </tr>\n",
       "    <tr>\n",
       "      <th>4</th>\n",
       "      <td>2015</td>\n",
       "      <td>5</td>\n",
       "      <td>3.768333e+06</td>\n",
       "      <td>190787.832757</td>\n",
       "    </tr>\n",
       "  </tbody>\n",
       "</table>\n",
       "</div>"
      ],
      "text/plain": [
       "   year  month          mean            std\n",
       "0  2015      1           NaN            NaN\n",
       "1  2015      2  3.961383e+06  303629.486622\n",
       "2  2015      3  2.795163e+06  769697.864999\n",
       "3  2015      4  3.478852e+06  564753.747993\n",
       "4  2015      5  3.768333e+06  190787.832757"
      ]
     },
     "execution_count": 164,
     "metadata": {},
     "output_type": "execute_result"
    }
   ],
   "source": [
    "df_stats['mean'] = df_stats['mean'].shift(1)\n",
    "# df_stats['2_m_mean'] = df_stats['mean'].shift(2)\n",
    "df_stats['std'] = df_stats['std'].shift(1)\n",
    "# df_stats['2_m_std'] = df_stats['std'].shift(2)\n",
    "df_stats.head()\n",
    "\n"
   ]
  },
  {
   "cell_type": "code",
   "execution_count": 165,
   "metadata": {
    "collapsed": false
   },
   "outputs": [
    {
     "data": {
      "text/html": [
       "<div>\n",
       "<table border=\"1\" class=\"dataframe\">\n",
       "  <thead>\n",
       "    <tr style=\"text-align: right;\">\n",
       "      <th></th>\n",
       "      <th>record_date</th>\n",
       "      <th>power_consumption</th>\n",
       "      <th>dow</th>\n",
       "      <th>doy</th>\n",
       "      <th>day</th>\n",
       "      <th>month</th>\n",
       "      <th>year</th>\n",
       "      <th>week_period</th>\n",
       "      <th>month_period</th>\n",
       "      <th>mean_day</th>\n",
       "      <th>std_day</th>\n",
       "      <th>mean</th>\n",
       "      <th>std</th>\n",
       "    </tr>\n",
       "  </thead>\n",
       "  <tbody>\n",
       "    <tr>\n",
       "      <th>0</th>\n",
       "      <td>2015-01-01</td>\n",
       "      <td>2900575.0</td>\n",
       "      <td>3</td>\n",
       "      <td>1</td>\n",
       "      <td>1</td>\n",
       "      <td>1</td>\n",
       "      <td>2015</td>\n",
       "      <td>1</td>\n",
       "      <td>1</td>\n",
       "      <td>3.620987e+06</td>\n",
       "      <td>581292.542560</td>\n",
       "      <td>NaN</td>\n",
       "      <td>NaN</td>\n",
       "    </tr>\n",
       "    <tr>\n",
       "      <th>1</th>\n",
       "      <td>2015-01-02</td>\n",
       "      <td>3158211.0</td>\n",
       "      <td>4</td>\n",
       "      <td>2</td>\n",
       "      <td>2</td>\n",
       "      <td>1</td>\n",
       "      <td>2015</td>\n",
       "      <td>1</td>\n",
       "      <td>1</td>\n",
       "      <td>3.724284e+06</td>\n",
       "      <td>471504.202731</td>\n",
       "      <td>NaN</td>\n",
       "      <td>NaN</td>\n",
       "    </tr>\n",
       "    <tr>\n",
       "      <th>2</th>\n",
       "      <td>2015-01-03</td>\n",
       "      <td>3596487.0</td>\n",
       "      <td>5</td>\n",
       "      <td>3</td>\n",
       "      <td>3</td>\n",
       "      <td>1</td>\n",
       "      <td>2015</td>\n",
       "      <td>1</td>\n",
       "      <td>1</td>\n",
       "      <td>3.774477e+06</td>\n",
       "      <td>417498.917083</td>\n",
       "      <td>NaN</td>\n",
       "      <td>NaN</td>\n",
       "    </tr>\n",
       "    <tr>\n",
       "      <th>3</th>\n",
       "      <td>2015-01-04</td>\n",
       "      <td>3939672.0</td>\n",
       "      <td>6</td>\n",
       "      <td>4</td>\n",
       "      <td>4</td>\n",
       "      <td>1</td>\n",
       "      <td>2015</td>\n",
       "      <td>1</td>\n",
       "      <td>1</td>\n",
       "      <td>3.806080e+06</td>\n",
       "      <td>375370.780895</td>\n",
       "      <td>NaN</td>\n",
       "      <td>NaN</td>\n",
       "    </tr>\n",
       "    <tr>\n",
       "      <th>4</th>\n",
       "      <td>2015-01-05</td>\n",
       "      <td>4101790.0</td>\n",
       "      <td>0</td>\n",
       "      <td>5</td>\n",
       "      <td>5</td>\n",
       "      <td>1</td>\n",
       "      <td>2015</td>\n",
       "      <td>1</td>\n",
       "      <td>1</td>\n",
       "      <td>3.712768e+06</td>\n",
       "      <td>580312.573094</td>\n",
       "      <td>NaN</td>\n",
       "      <td>NaN</td>\n",
       "    </tr>\n",
       "  </tbody>\n",
       "</table>\n",
       "</div>"
      ],
      "text/plain": [
       "  record_date  power_consumption  dow  doy  day  month  year  week_period  \\\n",
       "0  2015-01-01          2900575.0    3    1    1      1  2015            1   \n",
       "1  2015-01-02          3158211.0    4    2    2      1  2015            1   \n",
       "2  2015-01-03          3596487.0    5    3    3      1  2015            1   \n",
       "3  2015-01-04          3939672.0    6    4    4      1  2015            1   \n",
       "4  2015-01-05          4101790.0    0    5    5      1  2015            1   \n",
       "\n",
       "   month_period      mean_day        std_day  mean  std  \n",
       "0             1  3.620987e+06  581292.542560   NaN  NaN  \n",
       "1             1  3.724284e+06  471504.202731   NaN  NaN  \n",
       "2             1  3.774477e+06  417498.917083   NaN  NaN  \n",
       "3             1  3.806080e+06  375370.780895   NaN  NaN  \n",
       "4             1  3.712768e+06  580312.573094   NaN  NaN  "
      ]
     },
     "execution_count": 165,
     "metadata": {},
     "output_type": "execute_result"
    }
   ],
   "source": [
    "# train = pd.merge('base_df','df_stats',on=['year','month'])\n",
    "train = pd.merge(train, df_stats, how='left', on=['year','month'])\n",
    "train.head()"
   ]
  },
  {
   "cell_type": "code",
   "execution_count": null,
   "metadata": {
    "collapsed": true
   },
   "outputs": [],
   "source": [
    "base_df = train"
   ]
  },
  {
   "cell_type": "markdown",
   "metadata": {},
   "source": [
    "### 把一个月分成上中下旬3个month_periods 或者 4周总共4个week_periods\n",
    "### 用它们的均值之差表示数据上下起伏趋势"
   ]
  },
  {
   "cell_type": "code",
   "execution_count": 114,
   "metadata": {
    "collapsed": true
   },
   "outputs": [],
   "source": [
    "# 先对一个月做切分\n",
    "def month_period(day):\n",
    "    if day>=1 and day<=10:\n",
    "        return 1\n",
    "    elif day>=11 and day<=20:\n",
    "        return 2\n",
    "    else:\n",
    "        return 3\n",
    "\n",
    "def week_period(day):\n",
    "    if day>=1 and day<=7:\n",
    "        return 1\n",
    "    elif day>=8 and day<=14:\n",
    "        return 2\n",
    "    elif day>=15 and day<=21:\n",
    "        return 3\n",
    "    else:\n",
    "        return 4\n",
    "\n",
    "base_df['month_period'] = base_df['day'].apply(lambda x:month_period(x))\n",
    "base_df['week_period'] = base_df['day'].apply(lambda x:week_period(x))"
   ]
  },
  {
   "cell_type": "code",
   "execution_count": 115,
   "metadata": {
    "collapsed": false
   },
   "outputs": [],
   "source": [
    "# base_df.head()\n"
   ]
  },
  {
   "cell_type": "markdown",
   "metadata": {},
   "source": [
    "### 按照period求均值"
   ]
  },
  {
   "cell_type": "code",
   "execution_count": 166,
   "metadata": {
    "collapsed": false
   },
   "outputs": [
    {
     "data": {
      "text/html": [
       "<div>\n",
       "<table border=\"1\" class=\"dataframe\">\n",
       "  <thead>\n",
       "    <tr style=\"text-align: right;\">\n",
       "      <th></th>\n",
       "      <th>year</th>\n",
       "      <th>month</th>\n",
       "      <th>month_period</th>\n",
       "      <th>power_consumption</th>\n",
       "    </tr>\n",
       "  </thead>\n",
       "  <tbody>\n",
       "    <tr>\n",
       "      <th>0</th>\n",
       "      <td>2015</td>\n",
       "      <td>1</td>\n",
       "      <td>1</td>\n",
       "      <td>3.825766e+06</td>\n",
       "    </tr>\n",
       "    <tr>\n",
       "      <th>1</th>\n",
       "      <td>2015</td>\n",
       "      <td>1</td>\n",
       "      <td>2</td>\n",
       "      <td>4.016926e+06</td>\n",
       "    </tr>\n",
       "    <tr>\n",
       "      <th>2</th>\n",
       "      <td>2015</td>\n",
       "      <td>1</td>\n",
       "      <td>3</td>\n",
       "      <td>4.034177e+06</td>\n",
       "    </tr>\n",
       "    <tr>\n",
       "      <th>3</th>\n",
       "      <td>2015</td>\n",
       "      <td>2</td>\n",
       "      <td>1</td>\n",
       "      <td>3.691394e+06</td>\n",
       "    </tr>\n",
       "    <tr>\n",
       "      <th>4</th>\n",
       "      <td>2015</td>\n",
       "      <td>2</td>\n",
       "      <td>2</td>\n",
       "      <td>2.338909e+06</td>\n",
       "    </tr>\n",
       "  </tbody>\n",
       "</table>\n",
       "</div>"
      ],
      "text/plain": [
       "   year  month  month_period  power_consumption\n",
       "0  2015      1             1       3.825766e+06\n",
       "1  2015      1             2       4.016926e+06\n",
       "2  2015      1             3       4.034177e+06\n",
       "3  2015      2             1       3.691394e+06\n",
       "4  2015      2             2       2.338909e+06"
      ]
     },
     "execution_count": 166,
     "metadata": {},
     "output_type": "execute_result"
    }
   ],
   "source": [
    "month_period_df = base_df[['power_consumption','year','month','month_period']].groupby(by=['year', 'month', 'month_period']).agg('mean')\n",
    "month_period_df = month_period_df.reset_index()\n",
    "month_period_df.head()"
   ]
  },
  {
   "cell_type": "markdown",
   "metadata": {},
   "source": [
    "### 求出来均值之差"
   ]
  },
  {
   "cell_type": "code",
   "execution_count": 167,
   "metadata": {
    "collapsed": false
   },
   "outputs": [
    {
     "data": {
      "text/html": [
       "<div>\n",
       "<table border=\"1\" class=\"dataframe\">\n",
       "  <thead>\n",
       "    <tr style=\"text-align: right;\">\n",
       "      <th></th>\n",
       "      <th>year</th>\n",
       "      <th>month</th>\n",
       "      <th>month_period</th>\n",
       "      <th>power_consumption</th>\n",
       "    </tr>\n",
       "  </thead>\n",
       "  <tbody>\n",
       "    <tr>\n",
       "      <th>0</th>\n",
       "      <td>2015</td>\n",
       "      <td>1</td>\n",
       "      <td>NaN</td>\n",
       "      <td>3.825766e+06</td>\n",
       "    </tr>\n",
       "    <tr>\n",
       "      <th>1</th>\n",
       "      <td>2015</td>\n",
       "      <td>1</td>\n",
       "      <td>1.911600e+05</td>\n",
       "      <td>4.016926e+06</td>\n",
       "    </tr>\n",
       "    <tr>\n",
       "      <th>2</th>\n",
       "      <td>2015</td>\n",
       "      <td>1</td>\n",
       "      <td>1.725125e+04</td>\n",
       "      <td>4.034177e+06</td>\n",
       "    </tr>\n",
       "    <tr>\n",
       "      <th>3</th>\n",
       "      <td>2015</td>\n",
       "      <td>2</td>\n",
       "      <td>-3.427832e+05</td>\n",
       "      <td>3.691394e+06</td>\n",
       "    </tr>\n",
       "    <tr>\n",
       "      <th>4</th>\n",
       "      <td>2015</td>\n",
       "      <td>2</td>\n",
       "      <td>-1.352486e+06</td>\n",
       "      <td>2.338909e+06</td>\n",
       "    </tr>\n",
       "  </tbody>\n",
       "</table>\n",
       "</div>"
      ],
      "text/plain": [
       "   year  month  month_period  power_consumption\n",
       "0  2015      1           NaN       3.825766e+06\n",
       "1  2015      1  1.911600e+05       4.016926e+06\n",
       "2  2015      1  1.725125e+04       4.034177e+06\n",
       "3  2015      2 -3.427832e+05       3.691394e+06\n",
       "4  2015      2 -1.352486e+06       2.338909e+06"
      ]
     },
     "execution_count": 167,
     "metadata": {},
     "output_type": "execute_result"
    }
   ],
   "source": [
    "month_period_df['month_period'] = month_period_df['power_consumption'].diff(1)\n",
    "month_period_df.head()"
   ]
  },
  {
   "cell_type": "markdown",
   "metadata": {},
   "source": [
    "### 填充上个月和上上个月的趋势数据"
   ]
  },
  {
   "cell_type": "code",
   "execution_count": 168,
   "metadata": {
    "collapsed": false
   },
   "outputs": [
    {
     "data": {
      "text/html": [
       "<div>\n",
       "<table border=\"1\" class=\"dataframe\">\n",
       "  <thead>\n",
       "    <tr style=\"text-align: right;\">\n",
       "      <th></th>\n",
       "      <th>year</th>\n",
       "      <th>month</th>\n",
       "      <th>month_period_1</th>\n",
       "      <th>month_period_2</th>\n",
       "      <th>month_period_3</th>\n",
       "    </tr>\n",
       "  </thead>\n",
       "  <tbody>\n",
       "    <tr>\n",
       "      <th>0</th>\n",
       "      <td>2015</td>\n",
       "      <td>1</td>\n",
       "      <td>NaN</td>\n",
       "      <td>NaN</td>\n",
       "      <td>NaN</td>\n",
       "    </tr>\n",
       "    <tr>\n",
       "      <th>1</th>\n",
       "      <td>2015</td>\n",
       "      <td>2</td>\n",
       "      <td>nan</td>\n",
       "      <td>191160.0</td>\n",
       "      <td>17251.2545454544</td>\n",
       "    </tr>\n",
       "    <tr>\n",
       "      <th>2</th>\n",
       "      <td>2015</td>\n",
       "      <td>3</td>\n",
       "      <td>-342783.1545454548</td>\n",
       "      <td>-1352485.6999999997</td>\n",
       "      <td>-93716.5375000001</td>\n",
       "    </tr>\n",
       "    <tr>\n",
       "      <th>3</th>\n",
       "      <td>2015</td>\n",
       "      <td>4</td>\n",
       "      <td>863222.6375000002</td>\n",
       "      <td>559158.0499999998</td>\n",
       "      <td>-23522.659090909176</td>\n",
       "    </tr>\n",
       "    <tr>\n",
       "      <th>4</th>\n",
       "      <td>2015</td>\n",
       "      <td>5</td>\n",
       "      <td>109222.00909090927</td>\n",
       "      <td>-25469.75</td>\n",
       "      <td>96123.1000000001</td>\n",
       "    </tr>\n",
       "  </tbody>\n",
       "</table>\n",
       "</div>"
      ],
      "text/plain": [
       "   year  month      month_period_1       month_period_2       month_period_3\n",
       "0  2015      1                 NaN                  NaN                  NaN\n",
       "1  2015      2                 nan             191160.0     17251.2545454544\n",
       "2  2015      3  -342783.1545454548  -1352485.6999999997    -93716.5375000001\n",
       "3  2015      4   863222.6375000002    559158.0499999998  -23522.659090909176\n",
       "4  2015      5  109222.00909090927            -25469.75     96123.1000000001"
      ]
     },
     "execution_count": 168,
     "metadata": {},
     "output_type": "execute_result"
    }
   ],
   "source": [
    "month_period_df = month_period_df[['year','month','month_period']].groupby(by=['year','month']).agg(lambda x: \",\".join(x.apply(str).values.tolist()))\n",
    "month_period_df = month_period_df.reset_index()\n",
    "month_period_df[['month_period_1','month_period_2','month_period_3']] =  month_period_df['month_period'].str.split(',', expand=True) \n",
    "month_period_df = month_period_df.drop('month_period',1)\n",
    "\n",
    "month_1_columns = [tmp+'_1month' for tmp in ['month_period_1', 'month_period_2','month_period_3']]\n",
    "month_period_df[['month_period_1', 'month_period_2','month_period_3']] = month_period_df[['month_period_1', 'month_period_2','month_period_3']].shift(1)\n",
    "# month_2_columns = [tmp+'_2month' for tmp in ['month_period_1', 'month_period_2','month_period_3']]\n",
    "# month_period_df[month_2_columns] = month_period_df[['month_period_1', 'month_period_2','month_period_3']].shift(2)\n",
    "\n",
    "month_period_df.head()"
   ]
  },
  {
   "cell_type": "code",
   "execution_count": 169,
   "metadata": {
    "collapsed": false
   },
   "outputs": [
    {
     "data": {
      "text/html": [
       "<div>\n",
       "<table border=\"1\" class=\"dataframe\">\n",
       "  <thead>\n",
       "    <tr style=\"text-align: right;\">\n",
       "      <th></th>\n",
       "      <th>record_date</th>\n",
       "      <th>power_consumption</th>\n",
       "      <th>dow</th>\n",
       "      <th>doy</th>\n",
       "      <th>day</th>\n",
       "      <th>month</th>\n",
       "      <th>year</th>\n",
       "      <th>week_period</th>\n",
       "      <th>month_period</th>\n",
       "      <th>mean_day</th>\n",
       "      <th>std_day</th>\n",
       "      <th>mean</th>\n",
       "      <th>std</th>\n",
       "      <th>month_period_1</th>\n",
       "      <th>month_period_2</th>\n",
       "      <th>month_period_3</th>\n",
       "    </tr>\n",
       "  </thead>\n",
       "  <tbody>\n",
       "    <tr>\n",
       "      <th>0</th>\n",
       "      <td>2015-01-01</td>\n",
       "      <td>2900575.0</td>\n",
       "      <td>3</td>\n",
       "      <td>1</td>\n",
       "      <td>1</td>\n",
       "      <td>1</td>\n",
       "      <td>2015</td>\n",
       "      <td>1</td>\n",
       "      <td>1</td>\n",
       "      <td>3.620987e+06</td>\n",
       "      <td>581292.542560</td>\n",
       "      <td>NaN</td>\n",
       "      <td>NaN</td>\n",
       "      <td>NaN</td>\n",
       "      <td>NaN</td>\n",
       "      <td>NaN</td>\n",
       "    </tr>\n",
       "    <tr>\n",
       "      <th>1</th>\n",
       "      <td>2015-01-02</td>\n",
       "      <td>3158211.0</td>\n",
       "      <td>4</td>\n",
       "      <td>2</td>\n",
       "      <td>2</td>\n",
       "      <td>1</td>\n",
       "      <td>2015</td>\n",
       "      <td>1</td>\n",
       "      <td>1</td>\n",
       "      <td>3.724284e+06</td>\n",
       "      <td>471504.202731</td>\n",
       "      <td>NaN</td>\n",
       "      <td>NaN</td>\n",
       "      <td>NaN</td>\n",
       "      <td>NaN</td>\n",
       "      <td>NaN</td>\n",
       "    </tr>\n",
       "    <tr>\n",
       "      <th>2</th>\n",
       "      <td>2015-01-03</td>\n",
       "      <td>3596487.0</td>\n",
       "      <td>5</td>\n",
       "      <td>3</td>\n",
       "      <td>3</td>\n",
       "      <td>1</td>\n",
       "      <td>2015</td>\n",
       "      <td>1</td>\n",
       "      <td>1</td>\n",
       "      <td>3.774477e+06</td>\n",
       "      <td>417498.917083</td>\n",
       "      <td>NaN</td>\n",
       "      <td>NaN</td>\n",
       "      <td>NaN</td>\n",
       "      <td>NaN</td>\n",
       "      <td>NaN</td>\n",
       "    </tr>\n",
       "    <tr>\n",
       "      <th>3</th>\n",
       "      <td>2015-01-04</td>\n",
       "      <td>3939672.0</td>\n",
       "      <td>6</td>\n",
       "      <td>4</td>\n",
       "      <td>4</td>\n",
       "      <td>1</td>\n",
       "      <td>2015</td>\n",
       "      <td>1</td>\n",
       "      <td>1</td>\n",
       "      <td>3.806080e+06</td>\n",
       "      <td>375370.780895</td>\n",
       "      <td>NaN</td>\n",
       "      <td>NaN</td>\n",
       "      <td>NaN</td>\n",
       "      <td>NaN</td>\n",
       "      <td>NaN</td>\n",
       "    </tr>\n",
       "    <tr>\n",
       "      <th>4</th>\n",
       "      <td>2015-01-05</td>\n",
       "      <td>4101790.0</td>\n",
       "      <td>0</td>\n",
       "      <td>5</td>\n",
       "      <td>5</td>\n",
       "      <td>1</td>\n",
       "      <td>2015</td>\n",
       "      <td>1</td>\n",
       "      <td>1</td>\n",
       "      <td>3.712768e+06</td>\n",
       "      <td>580312.573094</td>\n",
       "      <td>NaN</td>\n",
       "      <td>NaN</td>\n",
       "      <td>NaN</td>\n",
       "      <td>NaN</td>\n",
       "      <td>NaN</td>\n",
       "    </tr>\n",
       "  </tbody>\n",
       "</table>\n",
       "</div>"
      ],
      "text/plain": [
       "  record_date  power_consumption  dow  doy  day  month  year  week_period  \\\n",
       "0  2015-01-01          2900575.0    3    1    1      1  2015            1   \n",
       "1  2015-01-02          3158211.0    4    2    2      1  2015            1   \n",
       "2  2015-01-03          3596487.0    5    3    3      1  2015            1   \n",
       "3  2015-01-04          3939672.0    6    4    4      1  2015            1   \n",
       "4  2015-01-05          4101790.0    0    5    5      1  2015            1   \n",
       "\n",
       "   month_period      mean_day        std_day  mean  std month_period_1  \\\n",
       "0             1  3.620987e+06  581292.542560   NaN  NaN            NaN   \n",
       "1             1  3.724284e+06  471504.202731   NaN  NaN            NaN   \n",
       "2             1  3.774477e+06  417498.917083   NaN  NaN            NaN   \n",
       "3             1  3.806080e+06  375370.780895   NaN  NaN            NaN   \n",
       "4             1  3.712768e+06  580312.573094   NaN  NaN            NaN   \n",
       "\n",
       "  month_period_2 month_period_3  \n",
       "0            NaN            NaN  \n",
       "1            NaN            NaN  \n",
       "2            NaN            NaN  \n",
       "3            NaN            NaN  \n",
       "4            NaN            NaN  "
      ]
     },
     "execution_count": 169,
     "metadata": {},
     "output_type": "execute_result"
    }
   ],
   "source": [
    "# 合并\n",
    "train =  pd.merge(train, month_period_df, how='left', on=['year','month'])\n",
    "train.head()\n"
   ]
  },
  {
   "cell_type": "code",
   "execution_count": 178,
   "metadata": {
    "collapsed": false
   },
   "outputs": [
    {
     "data": {
      "text/html": [
       "<div>\n",
       "<table border=\"1\" class=\"dataframe\">\n",
       "  <thead>\n",
       "    <tr style=\"text-align: right;\">\n",
       "      <th></th>\n",
       "      <th>year</th>\n",
       "      <th>month</th>\n",
       "      <th>week_period</th>\n",
       "      <th>power_consumption</th>\n",
       "    </tr>\n",
       "  </thead>\n",
       "  <tbody>\n",
       "    <tr>\n",
       "      <th>0</th>\n",
       "      <td>2015</td>\n",
       "      <td>1</td>\n",
       "      <td>1</td>\n",
       "      <td>3.715404e+06</td>\n",
       "    </tr>\n",
       "    <tr>\n",
       "      <th>1</th>\n",
       "      <td>2015</td>\n",
       "      <td>1</td>\n",
       "      <td>2</td>\n",
       "      <td>4.013107e+06</td>\n",
       "    </tr>\n",
       "    <tr>\n",
       "      <th>2</th>\n",
       "      <td>2015</td>\n",
       "      <td>1</td>\n",
       "      <td>3</td>\n",
       "      <td>4.059844e+06</td>\n",
       "    </tr>\n",
       "    <tr>\n",
       "      <th>3</th>\n",
       "      <td>2015</td>\n",
       "      <td>1</td>\n",
       "      <td>4</td>\n",
       "      <td>4.028439e+06</td>\n",
       "    </tr>\n",
       "    <tr>\n",
       "      <th>4</th>\n",
       "      <td>2015</td>\n",
       "      <td>2</td>\n",
       "      <td>1</td>\n",
       "      <td>3.807695e+06</td>\n",
       "    </tr>\n",
       "  </tbody>\n",
       "</table>\n",
       "</div>"
      ],
      "text/plain": [
       "   year  month  week_period  power_consumption\n",
       "0  2015      1            1       3.715404e+06\n",
       "1  2015      1            2       4.013107e+06\n",
       "2  2015      1            3       4.059844e+06\n",
       "3  2015      1            4       4.028439e+06\n",
       "4  2015      2            1       3.807695e+06"
      ]
     },
     "execution_count": 178,
     "metadata": {},
     "output_type": "execute_result"
    }
   ],
   "source": [
    "week_period_df = base_df[['power_consumption','year','month','week_period']].groupby(by=['year', 'month', 'week_period']).agg('mean')\n",
    "week_period_df = week_period_df.reset_index()\n",
    "week_period_df.head()"
   ]
  },
  {
   "cell_type": "code",
   "execution_count": 179,
   "metadata": {
    "collapsed": false
   },
   "outputs": [
    {
     "data": {
      "text/html": [
       "<div>\n",
       "<table border=\"1\" class=\"dataframe\">\n",
       "  <thead>\n",
       "    <tr style=\"text-align: right;\">\n",
       "      <th></th>\n",
       "      <th>year</th>\n",
       "      <th>month</th>\n",
       "      <th>week_period</th>\n",
       "      <th>power_consumption</th>\n",
       "    </tr>\n",
       "  </thead>\n",
       "  <tbody>\n",
       "    <tr>\n",
       "      <th>0</th>\n",
       "      <td>2015</td>\n",
       "      <td>1</td>\n",
       "      <td>NaN</td>\n",
       "      <td>3.715404e+06</td>\n",
       "    </tr>\n",
       "    <tr>\n",
       "      <th>1</th>\n",
       "      <td>2015</td>\n",
       "      <td>1</td>\n",
       "      <td>297703.428571</td>\n",
       "      <td>4.013107e+06</td>\n",
       "    </tr>\n",
       "    <tr>\n",
       "      <th>2</th>\n",
       "      <td>2015</td>\n",
       "      <td>1</td>\n",
       "      <td>46736.285714</td>\n",
       "      <td>4.059844e+06</td>\n",
       "    </tr>\n",
       "    <tr>\n",
       "      <th>3</th>\n",
       "      <td>2015</td>\n",
       "      <td>1</td>\n",
       "      <td>-31404.271429</td>\n",
       "      <td>4.028439e+06</td>\n",
       "    </tr>\n",
       "    <tr>\n",
       "      <th>4</th>\n",
       "      <td>2015</td>\n",
       "      <td>2</td>\n",
       "      <td>-220744.014286</td>\n",
       "      <td>3.807695e+06</td>\n",
       "    </tr>\n",
       "  </tbody>\n",
       "</table>\n",
       "</div>"
      ],
      "text/plain": [
       "   year  month    week_period  power_consumption\n",
       "0  2015      1            NaN       3.715404e+06\n",
       "1  2015      1  297703.428571       4.013107e+06\n",
       "2  2015      1   46736.285714       4.059844e+06\n",
       "3  2015      1  -31404.271429       4.028439e+06\n",
       "4  2015      2 -220744.014286       3.807695e+06"
      ]
     },
     "execution_count": 179,
     "metadata": {},
     "output_type": "execute_result"
    }
   ],
   "source": [
    "week_period_df['week_period'] = week_period_df['power_consumption'].diff(1)\n",
    "week_period_df.head()"
   ]
  },
  {
   "cell_type": "code",
   "execution_count": 180,
   "metadata": {
    "collapsed": false
   },
   "outputs": [
    {
     "data": {
      "text/html": [
       "<div>\n",
       "<table border=\"1\" class=\"dataframe\">\n",
       "  <thead>\n",
       "    <tr style=\"text-align: right;\">\n",
       "      <th></th>\n",
       "      <th>year</th>\n",
       "      <th>month</th>\n",
       "      <th>week_period_1</th>\n",
       "      <th>week_period_2</th>\n",
       "      <th>week_period_3</th>\n",
       "      <th>week_period_4</th>\n",
       "    </tr>\n",
       "  </thead>\n",
       "  <tbody>\n",
       "    <tr>\n",
       "      <th>0</th>\n",
       "      <td>2015</td>\n",
       "      <td>1</td>\n",
       "      <td>NaN</td>\n",
       "      <td>NaN</td>\n",
       "      <td>NaN</td>\n",
       "      <td>NaN</td>\n",
       "    </tr>\n",
       "    <tr>\n",
       "      <th>1</th>\n",
       "      <td>2015</td>\n",
       "      <td>2</td>\n",
       "      <td>nan</td>\n",
       "      <td>297703.42857142864</td>\n",
       "      <td>46736.28571428545</td>\n",
       "      <td>-31404.27142857155</td>\n",
       "    </tr>\n",
       "    <tr>\n",
       "      <th>2</th>\n",
       "      <td>2015</td>\n",
       "      <td>3</td>\n",
       "      <td>-220744.0142857139</td>\n",
       "      <td>-739169.8571428573</td>\n",
       "      <td>-1042483.8571428573</td>\n",
       "      <td>252348.35714285728</td>\n",
       "    </tr>\n",
       "    <tr>\n",
       "      <th>3</th>\n",
       "      <td>2015</td>\n",
       "      <td>4</td>\n",
       "      <td>645923.0714285714</td>\n",
       "      <td>821015.2142857141</td>\n",
       "      <td>-292440.07142857136</td>\n",
       "      <td>245783.85714285728</td>\n",
       "    </tr>\n",
       "    <tr>\n",
       "      <th>4</th>\n",
       "      <td>2015</td>\n",
       "      <td>5</td>\n",
       "      <td>-9620.857142857276</td>\n",
       "      <td>113845.42857142864</td>\n",
       "      <td>-66743.64285714272</td>\n",
       "      <td>91990.90476190485</td>\n",
       "    </tr>\n",
       "  </tbody>\n",
       "</table>\n",
       "</div>"
      ],
      "text/plain": [
       "   year  month       week_period_1       week_period_2        week_period_3  \\\n",
       "0  2015      1                 NaN                 NaN                  NaN   \n",
       "1  2015      2                 nan  297703.42857142864    46736.28571428545   \n",
       "2  2015      3  -220744.0142857139  -739169.8571428573  -1042483.8571428573   \n",
       "3  2015      4   645923.0714285714   821015.2142857141  -292440.07142857136   \n",
       "4  2015      5  -9620.857142857276  113845.42857142864   -66743.64285714272   \n",
       "\n",
       "        week_period_4  \n",
       "0                 NaN  \n",
       "1  -31404.27142857155  \n",
       "2  252348.35714285728  \n",
       "3  245783.85714285728  \n",
       "4   91990.90476190485  "
      ]
     },
     "execution_count": 180,
     "metadata": {},
     "output_type": "execute_result"
    }
   ],
   "source": [
    "# 将每个月中四个周的值分为四列。\n",
    "week_period_df = week_period_df[['year','month','week_period']].groupby(by=['year','month']).agg(lambda x: \",\".join(x.apply(str).values.tolist()))\n",
    "week_period_df = week_period_df.reset_index()\n",
    "week_period_df[['week_period_1','week_period_2','week_period_3','week_period_4']] =  week_period_df['week_period'].str.split(',', expand=True) \n",
    "week_period_df = week_period_df.drop('week_period',1)\n",
    "\n",
    "add_columns_1 = [tmp+'_1month' for tmp in ['week_period_1', 'week_period_2','week_period_3', 'week_period_4']]\n",
    "week_period_df[['week_period_1','week_period_2','week_period_3','week_period_4']] = week_period_df[['week_period_1', 'week_period_2','week_period_3', 'week_period_4']].shift(1)\n",
    "# add_columns_2 = [tmp+'_2month' for tmp in ['week_period_1', 'week_period_2','week_period_3', 'week_period_4']]\n",
    "# week_period_df[add_columns_2] = week_period_df[['week_period_1', 'week_period_2','week_period_3', 'week_period_4']].shift(2)\n",
    "\n",
    "week_period_df.head()\n",
    "\n"
   ]
  },
  {
   "cell_type": "code",
   "execution_count": 181,
   "metadata": {
    "collapsed": false
   },
   "outputs": [],
   "source": [
    "# df_add_stats = pd.merge(base_df, df_stats, how='left', on=['year','month'])\n",
    "# df_add_stats.head()"
   ]
  },
  {
   "cell_type": "code",
   "execution_count": 182,
   "metadata": {
    "collapsed": false
   },
   "outputs": [],
   "source": [
    "# df_add_month_period =  pd.merge(df_add_stats, month_period_df, how='left', on=['year','month'])\n",
    "# df_add_month_period.head()"
   ]
  },
  {
   "cell_type": "code",
   "execution_count": 183,
   "metadata": {
    "collapsed": true
   },
   "outputs": [],
   "source": [
    "# week period 跟 month period 均加上时跑这个 \n",
    "# df_final = pd.merge(df_add_stats, week_period_df, how='left', on=['year','month'])"
   ]
  },
  {
   "cell_type": "code",
   "execution_count": 184,
   "metadata": {
    "collapsed": true
   },
   "outputs": [],
   "source": [
    "# 只加 week period 时跑这个\n",
    "df_final = pd.merge(train, week_period_df, how='left', on=['year','month']) "
   ]
  },
  {
   "cell_type": "code",
   "execution_count": 185,
   "metadata": {
    "collapsed": false
   },
   "outputs": [
    {
     "data": {
      "text/html": [
       "<div>\n",
       "<table border=\"1\" class=\"dataframe\">\n",
       "  <thead>\n",
       "    <tr style=\"text-align: right;\">\n",
       "      <th></th>\n",
       "      <th>record_date</th>\n",
       "      <th>power_consumption</th>\n",
       "      <th>dow</th>\n",
       "      <th>doy</th>\n",
       "      <th>day</th>\n",
       "      <th>month</th>\n",
       "      <th>year</th>\n",
       "      <th>week_period</th>\n",
       "      <th>month_period</th>\n",
       "      <th>mean_day</th>\n",
       "      <th>std_day</th>\n",
       "      <th>mean</th>\n",
       "      <th>std</th>\n",
       "      <th>month_period_1</th>\n",
       "      <th>month_period_2</th>\n",
       "      <th>month_period_3</th>\n",
       "      <th>week_period_1</th>\n",
       "      <th>week_period_2</th>\n",
       "      <th>week_period_3</th>\n",
       "      <th>week_period_4</th>\n",
       "    </tr>\n",
       "  </thead>\n",
       "  <tbody>\n",
       "    <tr>\n",
       "      <th>0</th>\n",
       "      <td>2015-01-01</td>\n",
       "      <td>2900575.0</td>\n",
       "      <td>3</td>\n",
       "      <td>1</td>\n",
       "      <td>1</td>\n",
       "      <td>1</td>\n",
       "      <td>2015</td>\n",
       "      <td>1</td>\n",
       "      <td>1</td>\n",
       "      <td>3.620987e+06</td>\n",
       "      <td>581292.542560</td>\n",
       "      <td>NaN</td>\n",
       "      <td>NaN</td>\n",
       "      <td>NaN</td>\n",
       "      <td>NaN</td>\n",
       "      <td>NaN</td>\n",
       "      <td>NaN</td>\n",
       "      <td>NaN</td>\n",
       "      <td>NaN</td>\n",
       "      <td>NaN</td>\n",
       "    </tr>\n",
       "    <tr>\n",
       "      <th>1</th>\n",
       "      <td>2015-01-02</td>\n",
       "      <td>3158211.0</td>\n",
       "      <td>4</td>\n",
       "      <td>2</td>\n",
       "      <td>2</td>\n",
       "      <td>1</td>\n",
       "      <td>2015</td>\n",
       "      <td>1</td>\n",
       "      <td>1</td>\n",
       "      <td>3.724284e+06</td>\n",
       "      <td>471504.202731</td>\n",
       "      <td>NaN</td>\n",
       "      <td>NaN</td>\n",
       "      <td>NaN</td>\n",
       "      <td>NaN</td>\n",
       "      <td>NaN</td>\n",
       "      <td>NaN</td>\n",
       "      <td>NaN</td>\n",
       "      <td>NaN</td>\n",
       "      <td>NaN</td>\n",
       "    </tr>\n",
       "    <tr>\n",
       "      <th>2</th>\n",
       "      <td>2015-01-03</td>\n",
       "      <td>3596487.0</td>\n",
       "      <td>5</td>\n",
       "      <td>3</td>\n",
       "      <td>3</td>\n",
       "      <td>1</td>\n",
       "      <td>2015</td>\n",
       "      <td>1</td>\n",
       "      <td>1</td>\n",
       "      <td>3.774477e+06</td>\n",
       "      <td>417498.917083</td>\n",
       "      <td>NaN</td>\n",
       "      <td>NaN</td>\n",
       "      <td>NaN</td>\n",
       "      <td>NaN</td>\n",
       "      <td>NaN</td>\n",
       "      <td>NaN</td>\n",
       "      <td>NaN</td>\n",
       "      <td>NaN</td>\n",
       "      <td>NaN</td>\n",
       "    </tr>\n",
       "    <tr>\n",
       "      <th>3</th>\n",
       "      <td>2015-01-04</td>\n",
       "      <td>3939672.0</td>\n",
       "      <td>6</td>\n",
       "      <td>4</td>\n",
       "      <td>4</td>\n",
       "      <td>1</td>\n",
       "      <td>2015</td>\n",
       "      <td>1</td>\n",
       "      <td>1</td>\n",
       "      <td>3.806080e+06</td>\n",
       "      <td>375370.780895</td>\n",
       "      <td>NaN</td>\n",
       "      <td>NaN</td>\n",
       "      <td>NaN</td>\n",
       "      <td>NaN</td>\n",
       "      <td>NaN</td>\n",
       "      <td>NaN</td>\n",
       "      <td>NaN</td>\n",
       "      <td>NaN</td>\n",
       "      <td>NaN</td>\n",
       "    </tr>\n",
       "    <tr>\n",
       "      <th>4</th>\n",
       "      <td>2015-01-05</td>\n",
       "      <td>4101790.0</td>\n",
       "      <td>0</td>\n",
       "      <td>5</td>\n",
       "      <td>5</td>\n",
       "      <td>1</td>\n",
       "      <td>2015</td>\n",
       "      <td>1</td>\n",
       "      <td>1</td>\n",
       "      <td>3.712768e+06</td>\n",
       "      <td>580312.573094</td>\n",
       "      <td>NaN</td>\n",
       "      <td>NaN</td>\n",
       "      <td>NaN</td>\n",
       "      <td>NaN</td>\n",
       "      <td>NaN</td>\n",
       "      <td>NaN</td>\n",
       "      <td>NaN</td>\n",
       "      <td>NaN</td>\n",
       "      <td>NaN</td>\n",
       "    </tr>\n",
       "  </tbody>\n",
       "</table>\n",
       "</div>"
      ],
      "text/plain": [
       "  record_date  power_consumption  dow  doy  day  month  year  week_period  \\\n",
       "0  2015-01-01          2900575.0    3    1    1      1  2015            1   \n",
       "1  2015-01-02          3158211.0    4    2    2      1  2015            1   \n",
       "2  2015-01-03          3596487.0    5    3    3      1  2015            1   \n",
       "3  2015-01-04          3939672.0    6    4    4      1  2015            1   \n",
       "4  2015-01-05          4101790.0    0    5    5      1  2015            1   \n",
       "\n",
       "   month_period      mean_day        std_day  mean  std month_period_1  \\\n",
       "0             1  3.620987e+06  581292.542560   NaN  NaN            NaN   \n",
       "1             1  3.724284e+06  471504.202731   NaN  NaN            NaN   \n",
       "2             1  3.774477e+06  417498.917083   NaN  NaN            NaN   \n",
       "3             1  3.806080e+06  375370.780895   NaN  NaN            NaN   \n",
       "4             1  3.712768e+06  580312.573094   NaN  NaN            NaN   \n",
       "\n",
       "  month_period_2 month_period_3 week_period_1 week_period_2 week_period_3  \\\n",
       "0            NaN            NaN           NaN           NaN           NaN   \n",
       "1            NaN            NaN           NaN           NaN           NaN   \n",
       "2            NaN            NaN           NaN           NaN           NaN   \n",
       "3            NaN            NaN           NaN           NaN           NaN   \n",
       "4            NaN            NaN           NaN           NaN           NaN   \n",
       "\n",
       "  week_period_4  \n",
       "0           NaN  \n",
       "1           NaN  \n",
       "2           NaN  \n",
       "3           NaN  \n",
       "4           NaN  "
      ]
     },
     "execution_count": 185,
     "metadata": {},
     "output_type": "execute_result"
    }
   ],
   "source": [
    "df_final.head()"
   ]
  },
  {
   "cell_type": "code",
   "execution_count": 186,
   "metadata": {
    "collapsed": false
   },
   "outputs": [
    {
     "data": {
      "text/plain": [
       "Index(['record_date', 'power_consumption', 'dow', 'doy', 'day', 'month',\n",
       "       'year', 'week_period', 'month_period', 'mean_day', 'std_day', 'mean',\n",
       "       'std', 'month_period_1', 'month_period_2', 'month_period_3',\n",
       "       'week_period_1', 'week_period_2', 'week_period_3', 'week_period_4'],\n",
       "      dtype='object')"
      ]
     },
     "execution_count": 186,
     "metadata": {},
     "output_type": "execute_result"
    }
   ],
   "source": [
    "df_final.columns"
   ]
  },
  {
   "cell_type": "markdown",
   "metadata": {},
   "source": [
    "### 去掉不需要的数据"
   ]
  },
  {
   "cell_type": "code",
   "execution_count": 187,
   "metadata": {
    "collapsed": false
   },
   "outputs": [
    {
     "data": {
      "text/html": [
       "<div>\n",
       "<table border=\"1\" class=\"dataframe\">\n",
       "  <thead>\n",
       "    <tr style=\"text-align: right;\">\n",
       "      <th></th>\n",
       "      <th>record_date</th>\n",
       "      <th>power_consumption</th>\n",
       "      <th>dow</th>\n",
       "      <th>doy</th>\n",
       "      <th>day</th>\n",
       "      <th>month</th>\n",
       "      <th>year</th>\n",
       "      <th>week_period</th>\n",
       "      <th>month_period</th>\n",
       "      <th>mean_day</th>\n",
       "      <th>std_day</th>\n",
       "      <th>mean</th>\n",
       "      <th>std</th>\n",
       "      <th>month_period_1</th>\n",
       "      <th>month_period_2</th>\n",
       "      <th>month_period_3</th>\n",
       "      <th>week_period_1</th>\n",
       "      <th>week_period_2</th>\n",
       "      <th>week_period_3</th>\n",
       "      <th>week_period_4</th>\n",
       "    </tr>\n",
       "  </thead>\n",
       "  <tbody>\n",
       "    <tr>\n",
       "      <th>59</th>\n",
       "      <td>2015-03-01</td>\n",
       "      <td>2900464.0</td>\n",
       "      <td>6</td>\n",
       "      <td>60</td>\n",
       "      <td>1</td>\n",
       "      <td>3</td>\n",
       "      <td>2015</td>\n",
       "      <td>1</td>\n",
       "      <td>1</td>\n",
       "      <td>3.620987e+06</td>\n",
       "      <td>581292.542560</td>\n",
       "      <td>2.795163e+06</td>\n",
       "      <td>769697.864999</td>\n",
       "      <td>-342783.1545454548</td>\n",
       "      <td>-1352485.6999999997</td>\n",
       "      <td>-93716.5375000001</td>\n",
       "      <td>-220744.0142857139</td>\n",
       "      <td>-739169.8571428573</td>\n",
       "      <td>-1042483.8571428573</td>\n",
       "      <td>252348.35714285728</td>\n",
       "    </tr>\n",
       "    <tr>\n",
       "      <th>60</th>\n",
       "      <td>2015-03-02</td>\n",
       "      <td>3334082.0</td>\n",
       "      <td>0</td>\n",
       "      <td>61</td>\n",
       "      <td>2</td>\n",
       "      <td>3</td>\n",
       "      <td>2015</td>\n",
       "      <td>1</td>\n",
       "      <td>1</td>\n",
       "      <td>3.724284e+06</td>\n",
       "      <td>471504.202731</td>\n",
       "      <td>2.795163e+06</td>\n",
       "      <td>769697.864999</td>\n",
       "      <td>-342783.1545454548</td>\n",
       "      <td>-1352485.6999999997</td>\n",
       "      <td>-93716.5375000001</td>\n",
       "      <td>-220744.0142857139</td>\n",
       "      <td>-739169.8571428573</td>\n",
       "      <td>-1042483.8571428573</td>\n",
       "      <td>252348.35714285728</td>\n",
       "    </tr>\n",
       "    <tr>\n",
       "      <th>61</th>\n",
       "      <td>2015-03-03</td>\n",
       "      <td>3492606.0</td>\n",
       "      <td>1</td>\n",
       "      <td>62</td>\n",
       "      <td>3</td>\n",
       "      <td>3</td>\n",
       "      <td>2015</td>\n",
       "      <td>1</td>\n",
       "      <td>1</td>\n",
       "      <td>3.774477e+06</td>\n",
       "      <td>417498.917083</td>\n",
       "      <td>2.795163e+06</td>\n",
       "      <td>769697.864999</td>\n",
       "      <td>-342783.1545454548</td>\n",
       "      <td>-1352485.6999999997</td>\n",
       "      <td>-93716.5375000001</td>\n",
       "      <td>-220744.0142857139</td>\n",
       "      <td>-739169.8571428573</td>\n",
       "      <td>-1042483.8571428573</td>\n",
       "      <td>252348.35714285728</td>\n",
       "    </tr>\n",
       "    <tr>\n",
       "      <th>62</th>\n",
       "      <td>2015-03-04</td>\n",
       "      <td>3597890.0</td>\n",
       "      <td>2</td>\n",
       "      <td>63</td>\n",
       "      <td>4</td>\n",
       "      <td>3</td>\n",
       "      <td>2015</td>\n",
       "      <td>1</td>\n",
       "      <td>1</td>\n",
       "      <td>3.806080e+06</td>\n",
       "      <td>375370.780895</td>\n",
       "      <td>2.795163e+06</td>\n",
       "      <td>769697.864999</td>\n",
       "      <td>-342783.1545454548</td>\n",
       "      <td>-1352485.6999999997</td>\n",
       "      <td>-93716.5375000001</td>\n",
       "      <td>-220744.0142857139</td>\n",
       "      <td>-739169.8571428573</td>\n",
       "      <td>-1042483.8571428573</td>\n",
       "      <td>252348.35714285728</td>\n",
       "    </tr>\n",
       "    <tr>\n",
       "      <th>63</th>\n",
       "      <td>2015-03-05</td>\n",
       "      <td>1798044.0</td>\n",
       "      <td>3</td>\n",
       "      <td>64</td>\n",
       "      <td>5</td>\n",
       "      <td>3</td>\n",
       "      <td>2015</td>\n",
       "      <td>1</td>\n",
       "      <td>1</td>\n",
       "      <td>3.712768e+06</td>\n",
       "      <td>580312.573094</td>\n",
       "      <td>2.795163e+06</td>\n",
       "      <td>769697.864999</td>\n",
       "      <td>-342783.1545454548</td>\n",
       "      <td>-1352485.6999999997</td>\n",
       "      <td>-93716.5375000001</td>\n",
       "      <td>-220744.0142857139</td>\n",
       "      <td>-739169.8571428573</td>\n",
       "      <td>-1042483.8571428573</td>\n",
       "      <td>252348.35714285728</td>\n",
       "    </tr>\n",
       "  </tbody>\n",
       "</table>\n",
       "</div>"
      ],
      "text/plain": [
       "   record_date  power_consumption  dow  doy  day  month  year  week_period  \\\n",
       "59  2015-03-01          2900464.0    6   60    1      3  2015            1   \n",
       "60  2015-03-02          3334082.0    0   61    2      3  2015            1   \n",
       "61  2015-03-03          3492606.0    1   62    3      3  2015            1   \n",
       "62  2015-03-04          3597890.0    2   63    4      3  2015            1   \n",
       "63  2015-03-05          1798044.0    3   64    5      3  2015            1   \n",
       "\n",
       "    month_period      mean_day        std_day          mean            std  \\\n",
       "59             1  3.620987e+06  581292.542560  2.795163e+06  769697.864999   \n",
       "60             1  3.724284e+06  471504.202731  2.795163e+06  769697.864999   \n",
       "61             1  3.774477e+06  417498.917083  2.795163e+06  769697.864999   \n",
       "62             1  3.806080e+06  375370.780895  2.795163e+06  769697.864999   \n",
       "63             1  3.712768e+06  580312.573094  2.795163e+06  769697.864999   \n",
       "\n",
       "        month_period_1       month_period_2     month_period_3  \\\n",
       "59  -342783.1545454548  -1352485.6999999997  -93716.5375000001   \n",
       "60  -342783.1545454548  -1352485.6999999997  -93716.5375000001   \n",
       "61  -342783.1545454548  -1352485.6999999997  -93716.5375000001   \n",
       "62  -342783.1545454548  -1352485.6999999997  -93716.5375000001   \n",
       "63  -342783.1545454548  -1352485.6999999997  -93716.5375000001   \n",
       "\n",
       "         week_period_1       week_period_2        week_period_3  \\\n",
       "59  -220744.0142857139  -739169.8571428573  -1042483.8571428573   \n",
       "60  -220744.0142857139  -739169.8571428573  -1042483.8571428573   \n",
       "61  -220744.0142857139  -739169.8571428573  -1042483.8571428573   \n",
       "62  -220744.0142857139  -739169.8571428573  -1042483.8571428573   \n",
       "63  -220744.0142857139  -739169.8571428573  -1042483.8571428573   \n",
       "\n",
       "         week_period_4  \n",
       "59  252348.35714285728  \n",
       "60  252348.35714285728  \n",
       "61  252348.35714285728  \n",
       "62  252348.35714285728  \n",
       "63  252348.35714285728  "
      ]
     },
     "execution_count": 187,
     "metadata": {},
     "output_type": "execute_result"
    }
   ],
   "source": [
    "df_final = df_final[df_final.record_date>='2015-03-01']\n",
    "# df_final['previous_2months_diff'] = df_final['1_m_mean']-df_final['2_m_mean']\n",
    "df_final.head()"
   ]
  },
  {
   "cell_type": "code",
   "execution_count": 129,
   "metadata": {
    "collapsed": false
   },
   "outputs": [
    {
     "data": {
      "text/html": [
       "<div>\n",
       "<table border=\"1\" class=\"dataframe\">\n",
       "  <thead>\n",
       "    <tr style=\"text-align: right;\">\n",
       "      <th></th>\n",
       "      <th>power_consumption</th>\n",
       "      <th>dow</th>\n",
       "      <th>doy</th>\n",
       "      <th>day</th>\n",
       "      <th>month</th>\n",
       "      <th>year</th>\n",
       "      <th>month_period</th>\n",
       "      <th>mean</th>\n",
       "      <th>std</th>\n",
       "      <th>month_period_1</th>\n",
       "      <th>month_period_2</th>\n",
       "      <th>month_period_3</th>\n",
       "      <th>week_period_1</th>\n",
       "      <th>week_period_2</th>\n",
       "      <th>week_period_3</th>\n",
       "      <th>week_period_4</th>\n",
       "    </tr>\n",
       "  </thead>\n",
       "  <tbody>\n",
       "    <tr>\n",
       "      <th>59</th>\n",
       "      <td>2900464.0</td>\n",
       "      <td>6</td>\n",
       "      <td>60</td>\n",
       "      <td>1</td>\n",
       "      <td>3</td>\n",
       "      <td>2015</td>\n",
       "      <td>1</td>\n",
       "      <td>2.795163e+06</td>\n",
       "      <td>769697.864999</td>\n",
       "      <td>-342783.1545454548</td>\n",
       "      <td>-1352485.6999999997</td>\n",
       "      <td>-93716.5375000001</td>\n",
       "      <td>-220744.0142857139</td>\n",
       "      <td>-739169.8571428573</td>\n",
       "      <td>-1042483.8571428573</td>\n",
       "      <td>252348.35714285728</td>\n",
       "    </tr>\n",
       "    <tr>\n",
       "      <th>60</th>\n",
       "      <td>3334082.0</td>\n",
       "      <td>0</td>\n",
       "      <td>61</td>\n",
       "      <td>2</td>\n",
       "      <td>3</td>\n",
       "      <td>2015</td>\n",
       "      <td>1</td>\n",
       "      <td>2.795163e+06</td>\n",
       "      <td>769697.864999</td>\n",
       "      <td>-342783.1545454548</td>\n",
       "      <td>-1352485.6999999997</td>\n",
       "      <td>-93716.5375000001</td>\n",
       "      <td>-220744.0142857139</td>\n",
       "      <td>-739169.8571428573</td>\n",
       "      <td>-1042483.8571428573</td>\n",
       "      <td>252348.35714285728</td>\n",
       "    </tr>\n",
       "    <tr>\n",
       "      <th>61</th>\n",
       "      <td>3492606.0</td>\n",
       "      <td>1</td>\n",
       "      <td>62</td>\n",
       "      <td>3</td>\n",
       "      <td>3</td>\n",
       "      <td>2015</td>\n",
       "      <td>1</td>\n",
       "      <td>2.795163e+06</td>\n",
       "      <td>769697.864999</td>\n",
       "      <td>-342783.1545454548</td>\n",
       "      <td>-1352485.6999999997</td>\n",
       "      <td>-93716.5375000001</td>\n",
       "      <td>-220744.0142857139</td>\n",
       "      <td>-739169.8571428573</td>\n",
       "      <td>-1042483.8571428573</td>\n",
       "      <td>252348.35714285728</td>\n",
       "    </tr>\n",
       "    <tr>\n",
       "      <th>62</th>\n",
       "      <td>3597890.0</td>\n",
       "      <td>2</td>\n",
       "      <td>63</td>\n",
       "      <td>4</td>\n",
       "      <td>3</td>\n",
       "      <td>2015</td>\n",
       "      <td>1</td>\n",
       "      <td>2.795163e+06</td>\n",
       "      <td>769697.864999</td>\n",
       "      <td>-342783.1545454548</td>\n",
       "      <td>-1352485.6999999997</td>\n",
       "      <td>-93716.5375000001</td>\n",
       "      <td>-220744.0142857139</td>\n",
       "      <td>-739169.8571428573</td>\n",
       "      <td>-1042483.8571428573</td>\n",
       "      <td>252348.35714285728</td>\n",
       "    </tr>\n",
       "    <tr>\n",
       "      <th>63</th>\n",
       "      <td>1798044.0</td>\n",
       "      <td>3</td>\n",
       "      <td>64</td>\n",
       "      <td>5</td>\n",
       "      <td>3</td>\n",
       "      <td>2015</td>\n",
       "      <td>1</td>\n",
       "      <td>2.795163e+06</td>\n",
       "      <td>769697.864999</td>\n",
       "      <td>-342783.1545454548</td>\n",
       "      <td>-1352485.6999999997</td>\n",
       "      <td>-93716.5375000001</td>\n",
       "      <td>-220744.0142857139</td>\n",
       "      <td>-739169.8571428573</td>\n",
       "      <td>-1042483.8571428573</td>\n",
       "      <td>252348.35714285728</td>\n",
       "    </tr>\n",
       "  </tbody>\n",
       "</table>\n",
       "</div>"
      ],
      "text/plain": [
       "    power_consumption  dow  doy  day  month  year  month_period          mean  \\\n",
       "59          2900464.0    6   60    1      3  2015             1  2.795163e+06   \n",
       "60          3334082.0    0   61    2      3  2015             1  2.795163e+06   \n",
       "61          3492606.0    1   62    3      3  2015             1  2.795163e+06   \n",
       "62          3597890.0    2   63    4      3  2015             1  2.795163e+06   \n",
       "63          1798044.0    3   64    5      3  2015             1  2.795163e+06   \n",
       "\n",
       "              std      month_period_1       month_period_2     month_period_3  \\\n",
       "59  769697.864999  -342783.1545454548  -1352485.6999999997  -93716.5375000001   \n",
       "60  769697.864999  -342783.1545454548  -1352485.6999999997  -93716.5375000001   \n",
       "61  769697.864999  -342783.1545454548  -1352485.6999999997  -93716.5375000001   \n",
       "62  769697.864999  -342783.1545454548  -1352485.6999999997  -93716.5375000001   \n",
       "63  769697.864999  -342783.1545454548  -1352485.6999999997  -93716.5375000001   \n",
       "\n",
       "         week_period_1       week_period_2        week_period_3  \\\n",
       "59  -220744.0142857139  -739169.8571428573  -1042483.8571428573   \n",
       "60  -220744.0142857139  -739169.8571428573  -1042483.8571428573   \n",
       "61  -220744.0142857139  -739169.8571428573  -1042483.8571428573   \n",
       "62  -220744.0142857139  -739169.8571428573  -1042483.8571428573   \n",
       "63  -220744.0142857139  -739169.8571428573  -1042483.8571428573   \n",
       "\n",
       "         week_period_4  \n",
       "59  252348.35714285728  \n",
       "60  252348.35714285728  \n",
       "61  252348.35714285728  \n",
       "62  252348.35714285728  \n",
       "63  252348.35714285728  "
      ]
     },
     "execution_count": 129,
     "metadata": {},
     "output_type": "execute_result"
    }
   ],
   "source": [
    "# df_final = df_final.drop(['mean','std','month_period', 'week_period'],1)\n",
    "df_final = df_final.drop(['week_period','record_date'],1)\n",
    "df_final.head()"
   ]
  },
  {
   "cell_type": "code",
   "execution_count": 130,
   "metadata": {
    "collapsed": true
   },
   "outputs": [],
   "source": [
    "df_final.to_csv('../train0529.csv',index=False)"
   ]
  },
  {
   "cell_type": "code",
   "execution_count": null,
   "metadata": {
    "collapsed": true
   },
   "outputs": [],
   "source": []
  }
 ],
 "metadata": {
  "anaconda-cloud": {},
  "kernelspec": {
   "display_name": "Python [Root]",
   "language": "python",
   "name": "Python [Root]"
  },
  "language_info": {
   "codemirror_mode": {
    "name": "ipython",
    "version": 3
   },
   "file_extension": ".py",
   "mimetype": "text/x-python",
   "name": "python",
   "nbconvert_exporter": "python",
   "pygments_lexer": "ipython3",
   "version": "3.5.3"
  }
 },
 "nbformat": 4,
 "nbformat_minor": 0
}
