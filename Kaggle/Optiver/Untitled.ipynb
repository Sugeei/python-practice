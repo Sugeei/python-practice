{
 "cells": [
  {
   "cell_type": "markdown",
   "id": "fdf38f26",
   "metadata": {},
   "source": [
    "https://www.kaggle.com/code/tommy1028/lightgbm-starter-with-feature-engineering-idea\n",
    "\n",
    "Feature Engineering\n",
    "Here are my thoughts on feature engieering with my background knowledge on financial market.\n",
    "\n",
    "price_spread: the difference between ask price and bid price. Wide spread means low liquidity, leading to high volatility.\n",
    "volume: the sum of the ask/bid size. Low volume means low liquidity, leading to high volatility\n",
    "volume_imbalance: the difference between ask size and bid size. Large imbalance means low liquidity for one side, leading to high volatility"
   ]
  },
  {
   "cell_type": "code",
   "execution_count": 2,
   "id": "3cabcc07",
   "metadata": {},
   "outputs": [],
   "source": [
    "import numpy as np\n",
    "import pandas as pd\n",
    "import matplotlib.pyplot as plt\n",
    "pd.set_option('max_rows', 300)\n",
    "pd.set_option('max_columns', 300)\n",
    "\n",
    "import os\n",
    "import glob\n"
   ]
  },
  {
   "cell_type": "code",
   "execution_count": 9,
   "id": "478731d2",
   "metadata": {},
   "outputs": [
    {
     "data": {
      "text/html": [
       "<div>\n",
       "<style scoped>\n",
       "    .dataframe tbody tr th:only-of-type {\n",
       "        vertical-align: middle;\n",
       "    }\n",
       "\n",
       "    .dataframe tbody tr th {\n",
       "        vertical-align: top;\n",
       "    }\n",
       "\n",
       "    .dataframe thead th {\n",
       "        text-align: right;\n",
       "    }\n",
       "</style>\n",
       "<table border=\"1\" class=\"dataframe\">\n",
       "  <thead>\n",
       "    <tr style=\"text-align: right;\">\n",
       "      <th></th>\n",
       "      <th>time_id</th>\n",
       "      <th>seconds_in_bucket</th>\n",
       "      <th>bid_price1</th>\n",
       "      <th>ask_price1</th>\n",
       "      <th>bid_price2</th>\n",
       "      <th>ask_price2</th>\n",
       "      <th>bid_size1</th>\n",
       "      <th>ask_size1</th>\n",
       "      <th>bid_size2</th>\n",
       "      <th>ask_size2</th>\n",
       "    </tr>\n",
       "  </thead>\n",
       "  <tbody>\n",
       "    <tr>\n",
       "      <th>0</th>\n",
       "      <td>5</td>\n",
       "      <td>0</td>\n",
       "      <td>0.999519</td>\n",
       "      <td>0.999839</td>\n",
       "      <td>0.999454</td>\n",
       "      <td>0.999904</td>\n",
       "      <td>2</td>\n",
       "      <td>166</td>\n",
       "      <td>2</td>\n",
       "      <td>12</td>\n",
       "    </tr>\n",
       "    <tr>\n",
       "      <th>1</th>\n",
       "      <td>5</td>\n",
       "      <td>1</td>\n",
       "      <td>0.999711</td>\n",
       "      <td>1.000225</td>\n",
       "      <td>0.999647</td>\n",
       "      <td>1.000289</td>\n",
       "      <td>100</td>\n",
       "      <td>20</td>\n",
       "      <td>100</td>\n",
       "      <td>20</td>\n",
       "    </tr>\n",
       "    <tr>\n",
       "      <th>2</th>\n",
       "      <td>5</td>\n",
       "      <td>2</td>\n",
       "      <td>0.999775</td>\n",
       "      <td>1.000225</td>\n",
       "      <td>0.999711</td>\n",
       "      <td>1.000289</td>\n",
       "      <td>1</td>\n",
       "      <td>20</td>\n",
       "      <td>400</td>\n",
       "      <td>20</td>\n",
       "    </tr>\n",
       "    <tr>\n",
       "      <th>3</th>\n",
       "      <td>5</td>\n",
       "      <td>3</td>\n",
       "      <td>0.999839</td>\n",
       "      <td>1.000225</td>\n",
       "      <td>0.999775</td>\n",
       "      <td>1.000289</td>\n",
       "      <td>100</td>\n",
       "      <td>20</td>\n",
       "      <td>1</td>\n",
       "      <td>20</td>\n",
       "    </tr>\n",
       "    <tr>\n",
       "      <th>4</th>\n",
       "      <td>5</td>\n",
       "      <td>4</td>\n",
       "      <td>0.999839</td>\n",
       "      <td>1.000225</td>\n",
       "      <td>0.999711</td>\n",
       "      <td>1.000289</td>\n",
       "      <td>1</td>\n",
       "      <td>20</td>\n",
       "      <td>400</td>\n",
       "      <td>20</td>\n",
       "    </tr>\n",
       "  </tbody>\n",
       "</table>\n",
       "</div>"
      ],
      "text/plain": [
       "   time_id  seconds_in_bucket  bid_price1  ask_price1  bid_price2  ask_price2  \\\n",
       "0        5                  0    0.999519    0.999839    0.999454    0.999904   \n",
       "1        5                  1    0.999711    1.000225    0.999647    1.000289   \n",
       "2        5                  2    0.999775    1.000225    0.999711    1.000289   \n",
       "3        5                  3    0.999839    1.000225    0.999775    1.000289   \n",
       "4        5                  4    0.999839    1.000225    0.999711    1.000289   \n",
       "\n",
       "   bid_size1  ask_size1  bid_size2  ask_size2  \n",
       "0          2        166          2         12  \n",
       "1        100         20        100         20  \n",
       "2          1         20        400         20  \n",
       "3        100         20          1         20  \n",
       "4          1         20        400         20  "
      ]
     },
     "execution_count": 9,
     "metadata": {},
     "output_type": "execute_result"
    }
   ],
   "source": [
    "# data directory\n",
    "data_dir = '/Users/shujinhuang/Downloads/'\n",
    "df = pd.read_parquet(data_dir + \"stock_id=15\")\n",
    "df.head()"
   ]
  },
  {
   "cell_type": "markdown",
   "id": "2a9232b9",
   "metadata": {},
   "source": [
    "### Preprocessing book data"
   ]
  },
  {
   "cell_type": "code",
   "execution_count": 7,
   "id": "7da25426",
   "metadata": {},
   "outputs": [],
   "source": [
    "def calc_wap(df):\n",
    "    # 100 2 , 900 3, 2.9, 2.1 \n",
    "    wap = (df['bid_price1'] * df['ask_size1'] + df['ask_price1'] * df['bid_size1'])/(df['bid_size1'] + df['ask_size1'])\n",
    "    return wap\n",
    "\n",
    "def calc_wap2(df):\n",
    "    wap = (df['bid_price2'] * df['ask_size2'] + df['ask_price2'] * df['bid_size2'])/(df['bid_size2'] + df['ask_size2'])\n",
    "    return wap"
   ]
  },
  {
   "cell_type": "code",
   "execution_count": 15,
   "id": "2700708d",
   "metadata": {},
   "outputs": [],
   "source": [
    "def log_return(list_stock_prices):\n",
    "    # np.log()\n",
    "    return np.log(list_stock_prices).diff()  # diff() = later value - former value"
   ]
  },
  {
   "cell_type": "code",
   "execution_count": 21,
   "id": "8111fe45",
   "metadata": {},
   "outputs": [],
   "source": [
    "def realized_volatility(series):\n",
    "    return np.sqrt(np.sum(series**2))"
   ]
  },
  {
   "cell_type": "code",
   "execution_count": 23,
   "id": "5e08d052",
   "metadata": {},
   "outputs": [],
   "source": [
    "df['wap'] = calc_wap(df)\n",
    "df[\"log_return\"] = df.groupby('time_id')['wap'].apply(log_return)\n",
    "\n",
    "df['wap2'] = calc_wap2(df)\n",
    "df['log_return2'] = df.groupby('time_id')['wap2'].apply(log_return)\n",
    "\n",
    "df['wap_balance'] = abs(df['wap'] - df['wap2'])\n",
    "\n",
    "create_feature_dict = {\n",
    "    'log_return':[realized_volatility],\n",
    "    'log_return2':[realized_volatility],\n",
    "#     'wap_balance':[np.mean],\n",
    "#     'price_spread':[np.mean],\n",
    "#     'bid_spread':[np.mean],\n",
    "#     'ask_spread':[np.mean],\n",
    "#     'volume_imbalance':[np.mean],\n",
    "#     'total_volume':[np.mean],\n",
    "    'wap':[np.mean],\n",
    "        }\n",
    "df_feature = pd.DataFrame(df.groupby(['time_id']).agg(create_feature_dict)).reset_index()\n",
    "df_feature.columns = ['_'.join(col) for col in df_feature.columns] #time_id is changed to time_id_"
   ]
  },
  {
   "cell_type": "code",
   "execution_count": 26,
   "id": "07065a40",
   "metadata": {},
   "outputs": [
    {
     "data": {
      "text/html": [
       "<div>\n",
       "<style scoped>\n",
       "    .dataframe tbody tr th:only-of-type {\n",
       "        vertical-align: middle;\n",
       "    }\n",
       "\n",
       "    .dataframe tbody tr th {\n",
       "        vertical-align: top;\n",
       "    }\n",
       "\n",
       "    .dataframe thead tr th {\n",
       "        text-align: left;\n",
       "    }\n",
       "</style>\n",
       "<table border=\"1\" class=\"dataframe\">\n",
       "  <thead>\n",
       "    <tr>\n",
       "      <th></th>\n",
       "      <th>time_id</th>\n",
       "      <th>log_return</th>\n",
       "      <th>log_return2</th>\n",
       "      <th>wap</th>\n",
       "    </tr>\n",
       "    <tr>\n",
       "      <th></th>\n",
       "      <th></th>\n",
       "      <th>realized_volatility</th>\n",
       "      <th>realized_volatility</th>\n",
       "      <th>mean</th>\n",
       "    </tr>\n",
       "  </thead>\n",
       "  <tbody>\n",
       "    <tr>\n",
       "      <th>0</th>\n",
       "      <td>5</td>\n",
       "      <td>0.004373</td>\n",
       "      <td>0.006178</td>\n",
       "      <td>1.002162</td>\n",
       "    </tr>\n",
       "    <tr>\n",
       "      <th>1</th>\n",
       "      <td>11</td>\n",
       "      <td>0.001772</td>\n",
       "      <td>0.002515</td>\n",
       "      <td>1.000220</td>\n",
       "    </tr>\n",
       "    <tr>\n",
       "      <th>2</th>\n",
       "      <td>16</td>\n",
       "      <td>0.002624</td>\n",
       "      <td>0.003697</td>\n",
       "      <td>0.999829</td>\n",
       "    </tr>\n",
       "    <tr>\n",
       "      <th>3</th>\n",
       "      <td>31</td>\n",
       "      <td>0.002814</td>\n",
       "      <td>0.004609</td>\n",
       "      <td>0.998441</td>\n",
       "    </tr>\n",
       "    <tr>\n",
       "      <th>4</th>\n",
       "      <td>62</td>\n",
       "      <td>0.001545</td>\n",
       "      <td>0.002619</td>\n",
       "      <td>0.998095</td>\n",
       "    </tr>\n",
       "    <tr>\n",
       "      <th>...</th>\n",
       "      <td>...</td>\n",
       "      <td>...</td>\n",
       "      <td>...</td>\n",
       "      <td>...</td>\n",
       "    </tr>\n",
       "    <tr>\n",
       "      <th>3825</th>\n",
       "      <td>32751</td>\n",
       "      <td>0.003185</td>\n",
       "      <td>0.004807</td>\n",
       "      <td>0.999413</td>\n",
       "    </tr>\n",
       "    <tr>\n",
       "      <th>3826</th>\n",
       "      <td>32753</td>\n",
       "      <td>0.002219</td>\n",
       "      <td>0.002938</td>\n",
       "      <td>0.999869</td>\n",
       "    </tr>\n",
       "    <tr>\n",
       "      <th>3827</th>\n",
       "      <td>32758</td>\n",
       "      <td>0.002112</td>\n",
       "      <td>0.002499</td>\n",
       "      <td>1.000331</td>\n",
       "    </tr>\n",
       "    <tr>\n",
       "      <th>3828</th>\n",
       "      <td>32763</td>\n",
       "      <td>0.002956</td>\n",
       "      <td>0.004274</td>\n",
       "      <td>1.003051</td>\n",
       "    </tr>\n",
       "    <tr>\n",
       "      <th>3829</th>\n",
       "      <td>32767</td>\n",
       "      <td>0.001616</td>\n",
       "      <td>0.002131</td>\n",
       "      <td>1.000471</td>\n",
       "    </tr>\n",
       "  </tbody>\n",
       "</table>\n",
       "<p>3830 rows × 4 columns</p>\n",
       "</div>"
      ],
      "text/plain": [
       "     time_id          log_return         log_return2       wap\n",
       "             realized_volatility realized_volatility      mean\n",
       "0          5            0.004373            0.006178  1.002162\n",
       "1         11            0.001772            0.002515  1.000220\n",
       "2         16            0.002624            0.003697  0.999829\n",
       "3         31            0.002814            0.004609  0.998441\n",
       "4         62            0.001545            0.002619  0.998095\n",
       "...      ...                 ...                 ...       ...\n",
       "3825   32751            0.003185            0.004807  0.999413\n",
       "3826   32753            0.002219            0.002938  0.999869\n",
       "3827   32758            0.002112            0.002499  1.000331\n",
       "3828   32763            0.002956            0.004274  1.003051\n",
       "3829   32767            0.001616            0.002131  1.000471\n",
       "\n",
       "[3830 rows x 4 columns]"
      ]
     },
     "execution_count": 26,
     "metadata": {},
     "output_type": "execute_result"
    }
   ],
   "source": [
    "df.groupby(['time_id']).agg(create_feature_dict).reset_index()"
   ]
  },
  {
   "cell_type": "code",
   "execution_count": null,
   "id": "ed38e79d",
   "metadata": {},
   "outputs": [],
   "source": [
    "df.loc[df.time_id==32767]\n"
   ]
  },
  {
   "cell_type": "code",
   "execution_count": 27,
   "id": "d45b2f70",
   "metadata": {},
   "outputs": [
    {
     "data": {
      "text/plain": [
       "MultiIndex([(    'time_id',                    ''),\n",
       "            ( 'log_return', 'realized_volatility'),\n",
       "            ('log_return2', 'realized_volatility'),\n",
       "            (        'wap',                'mean')],\n",
       "           )"
      ]
     },
     "execution_count": 27,
     "metadata": {},
     "output_type": "execute_result"
    }
   ],
   "source": [
    "df_feature.columns"
   ]
  },
  {
   "cell_type": "markdown",
   "id": "e2535dae",
   "metadata": {},
   "source": [
    "### Preprocessing trade data"
   ]
  },
  {
   "cell_type": "code",
   "execution_count": null,
   "id": "e365676b",
   "metadata": {},
   "outputs": [],
   "source": []
  },
  {
   "cell_type": "code",
   "execution_count": 28,
   "id": "b860767f",
   "metadata": {},
   "outputs": [],
   "source": [
    "# create a name space\n",
    "from enum import IntEnum"
   ]
  },
  {
   "cell_type": "code",
   "execution_count": 29,
   "id": "35646d4f",
   "metadata": {},
   "outputs": [],
   "source": [
    "class Demo(IntEnum):\n",
    "    Name = 0\n",
    "    Age = 1"
   ]
  },
  {
   "cell_type": "code",
   "execution_count": 30,
   "id": "b3696a66",
   "metadata": {},
   "outputs": [
    {
     "data": {
      "text/plain": [
       "<Demo.Name: 0>"
      ]
     },
     "execution_count": 30,
     "metadata": {},
     "output_type": "execute_result"
    }
   ],
   "source": [
    "Demo.Name"
   ]
  },
  {
   "cell_type": "code",
   "execution_count": 31,
   "id": "af49014d",
   "metadata": {},
   "outputs": [],
   "source": [
    "from collections import namedtuple"
   ]
  },
  {
   "cell_type": "code",
   "execution_count": 32,
   "id": "87e471ca",
   "metadata": {},
   "outputs": [],
   "source": [
    "Student = namedtuple(\"Student\", ['name', 'age', 'sex', 'email'])"
   ]
  },
  {
   "cell_type": "code",
   "execution_count": 35,
   "id": "6ca61973",
   "metadata": {},
   "outputs": [],
   "source": [
    "s = Student(\"Jim\", 22, \"M\", \"xxx\")"
   ]
  },
  {
   "cell_type": "code",
   "execution_count": 36,
   "id": "4c6ffadf",
   "metadata": {},
   "outputs": [
    {
     "data": {
      "text/plain": [
       "'Jim'"
      ]
     },
     "execution_count": 36,
     "metadata": {},
     "output_type": "execute_result"
    }
   ],
   "source": [
    "s[0]"
   ]
  },
  {
   "cell_type": "code",
   "execution_count": 37,
   "id": "dff38c78",
   "metadata": {},
   "outputs": [
    {
     "data": {
      "text/plain": [
       "'Jim'"
      ]
     },
     "execution_count": 37,
     "metadata": {},
     "output_type": "execute_result"
    }
   ],
   "source": [
    "s.name"
   ]
  },
  {
   "cell_type": "code",
   "execution_count": null,
   "id": "30693277",
   "metadata": {},
   "outputs": [],
   "source": []
  }
 ],
 "metadata": {
  "kernelspec": {
   "display_name": "Python 3 (ipykernel)",
   "language": "python",
   "name": "python3"
  },
  "language_info": {
   "codemirror_mode": {
    "name": "ipython",
    "version": 3
   },
   "file_extension": ".py",
   "mimetype": "text/x-python",
   "name": "python",
   "nbconvert_exporter": "python",
   "pygments_lexer": "ipython3",
   "version": "3.7.4"
  }
 },
 "nbformat": 4,
 "nbformat_minor": 5
}
