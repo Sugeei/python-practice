{
 "cells": [
  {
   "cell_type": "markdown",
   "metadata": {},
   "source": [
    "##### homepage: http://pandas.pydata.org/index.html"
   ]
  },
  {
   "cell_type": "code",
   "execution_count": null,
   "metadata": {},
   "outputs": [],
   "source": [
    "# 2019-10-30"
   ]
  },
  {
   "cell_type": "markdown",
   "metadata": {},
   "source": [
    "# Indexing and Selecting Data"
   ]
  },
  {
   "cell_type": "code",
   "execution_count": 8,
   "metadata": {},
   "outputs": [],
   "source": [
    "# https://pandas.pydata.org/pandas-docs/stable/indexing.html\n",
    "# https://www.oreilly.com/learning/introducing-pandas-objects"
   ]
  },
  {
   "cell_type": "code",
   "execution_count": 1,
   "metadata": {},
   "outputs": [],
   "source": [
    "import pandas as pd\n",
    "import warnings\n",
    "import numpy as np\n",
    "import matplotlib.pyplot as plt\n",
    "warnings.filterwarnings(\"ignore\")\n",
    "\n",
    "# df1 = pd.read_csv(\"./trainset/pcdata_0611.csv\") \n",
    "# read_sql read_html"
   ]
  },
  {
   "cell_type": "code",
   "execution_count": null,
   "metadata": {},
   "outputs": [],
   "source": [
    "# "
   ]
  },
  {
   "cell_type": "markdown",
   "metadata": {},
   "source": [
    "# read_csv set dtype\n",
    "pandas auto set int-like value to type=Int, this can cause some problems when a column is expected to be type=str.\n",
    "So explicitly define the dtype is recommended. \n",
    "And you have to make sure the columns name specified is the same with the one in the csv file. Be aware that its case sensitive. "
   ]
  },
  {
   "cell_type": "code",
   "execution_count": 36,
   "metadata": {},
   "outputs": [],
   "source": [
    "df = pd.read_csv('data_morning_start_style.csv', dtype={\"STOCK_CODE\": str})"
   ]
  },
  {
   "cell_type": "markdown",
   "metadata": {},
   "source": [
    "### Slice TOP 10"
   ]
  },
  {
   "cell_type": "code",
   "execution_count": 41,
   "metadata": {},
   "outputs": [
    {
     "data": {
      "text/html": [
       "<div>\n",
       "<style scoped>\n",
       "    .dataframe tbody tr th:only-of-type {\n",
       "        vertical-align: middle;\n",
       "    }\n",
       "\n",
       "    .dataframe tbody tr th {\n",
       "        vertical-align: top;\n",
       "    }\n",
       "\n",
       "    .dataframe thead th {\n",
       "        text-align: right;\n",
       "    }\n",
       "</style>\n",
       "<table border=\"1\" class=\"dataframe\">\n",
       "  <thead>\n",
       "    <tr style=\"text-align: right;\">\n",
       "      <th></th>\n",
       "      <th>SECURITY_ID_INT</th>\n",
       "      <th>raw_X</th>\n",
       "      <th>raw_Y</th>\n",
       "      <th>vertical</th>\n",
       "      <th>horizontal</th>\n",
       "    </tr>\n",
       "  </thead>\n",
       "  <tbody>\n",
       "    <tr>\n",
       "      <th>1944</th>\n",
       "      <td>75305</td>\n",
       "      <td>600.291868</td>\n",
       "      <td>72.589333</td>\n",
       "      <td>small</td>\n",
       "      <td>growth</td>\n",
       "    </tr>\n",
       "    <tr>\n",
       "      <th>3088</th>\n",
       "      <td>256836</td>\n",
       "      <td>587.409832</td>\n",
       "      <td>140.974201</td>\n",
       "      <td>mid</td>\n",
       "      <td>growth</td>\n",
       "    </tr>\n",
       "    <tr>\n",
       "      <th>1943</th>\n",
       "      <td>41696</td>\n",
       "      <td>581.950116</td>\n",
       "      <td>46.692474</td>\n",
       "      <td>small</td>\n",
       "      <td>growth</td>\n",
       "    </tr>\n",
       "    <tr>\n",
       "      <th>3087</th>\n",
       "      <td>143</td>\n",
       "      <td>581.630188</td>\n",
       "      <td>116.999930</td>\n",
       "      <td>mid</td>\n",
       "      <td>growth</td>\n",
       "    </tr>\n",
       "    <tr>\n",
       "      <th>1942</th>\n",
       "      <td>75287</td>\n",
       "      <td>580.319624</td>\n",
       "      <td>94.700635</td>\n",
       "      <td>small</td>\n",
       "      <td>growth</td>\n",
       "    </tr>\n",
       "    <tr>\n",
       "      <th>1941</th>\n",
       "      <td>40082</td>\n",
       "      <td>576.016574</td>\n",
       "      <td>90.866245</td>\n",
       "      <td>small</td>\n",
       "      <td>growth</td>\n",
       "    </tr>\n",
       "    <tr>\n",
       "      <th>1940</th>\n",
       "      <td>75273</td>\n",
       "      <td>574.908970</td>\n",
       "      <td>56.572737</td>\n",
       "      <td>small</td>\n",
       "      <td>growth</td>\n",
       "    </tr>\n",
       "    <tr>\n",
       "      <th>1939</th>\n",
       "      <td>74714</td>\n",
       "      <td>571.743860</td>\n",
       "      <td>95.194420</td>\n",
       "      <td>small</td>\n",
       "      <td>growth</td>\n",
       "    </tr>\n",
       "    <tr>\n",
       "      <th>3086</th>\n",
       "      <td>74677</td>\n",
       "      <td>563.843994</td>\n",
       "      <td>129.392789</td>\n",
       "      <td>mid</td>\n",
       "      <td>growth</td>\n",
       "    </tr>\n",
       "    <tr>\n",
       "      <th>1938</th>\n",
       "      <td>75323</td>\n",
       "      <td>560.260334</td>\n",
       "      <td>53.510382</td>\n",
       "      <td>small</td>\n",
       "      <td>growth</td>\n",
       "    </tr>\n",
       "  </tbody>\n",
       "</table>\n",
       "</div>"
      ],
      "text/plain": [
       "      SECURITY_ID_INT       raw_X       raw_Y vertical horizontal\n",
       "1944            75305  600.291868   72.589333    small     growth\n",
       "3088           256836  587.409832  140.974201      mid     growth\n",
       "1943            41696  581.950116   46.692474    small     growth\n",
       "3087              143  581.630188  116.999930      mid     growth\n",
       "1942            75287  580.319624   94.700635    small     growth\n",
       "1941            40082  576.016574   90.866245    small     growth\n",
       "1940            75273  574.908970   56.572737    small     growth\n",
       "1939            74714  571.743860   95.194420    small     growth\n",
       "3086            74677  563.843994  129.392789      mid     growth\n",
       "1938            75323  560.260334   53.510382    small     growth"
      ]
     },
     "execution_count": 41,
     "metadata": {},
     "output_type": "execute_result"
    }
   ],
   "source": [
    "df.sort_values('raw_X',ascending=False)[:10] "
   ]
  },
  {
   "cell_type": "markdown",
   "metadata": {},
   "source": [
    "# Creating DataFrame"
   ]
  },
  {
   "cell_type": "code",
   "execution_count": 2,
   "metadata": {},
   "outputs": [],
   "source": [
    "import pandas as pd"
   ]
  },
  {
   "cell_type": "code",
   "execution_count": 3,
   "metadata": {},
   "outputs": [
    {
     "data": {
      "text/html": [
       "<div>\n",
       "<style scoped>\n",
       "    .dataframe tbody tr th:only-of-type {\n",
       "        vertical-align: middle;\n",
       "    }\n",
       "\n",
       "    .dataframe tbody tr th {\n",
       "        vertical-align: top;\n",
       "    }\n",
       "\n",
       "    .dataframe thead th {\n",
       "        text-align: right;\n",
       "    }\n",
       "</style>\n",
       "<table border=\"1\" class=\"dataframe\">\n",
       "  <thead>\n",
       "    <tr style=\"text-align: right;\">\n",
       "      <th></th>\n",
       "      <th>SECURITY_ID_INT</th>\n",
       "      <th>raw_X</th>\n",
       "      <th>raw_Y</th>\n",
       "      <th>vertical</th>\n",
       "      <th>horizontal</th>\n",
       "    </tr>\n",
       "  </thead>\n",
       "  <tbody>\n",
       "    <tr>\n",
       "      <th>0</th>\n",
       "      <td>1734</td>\n",
       "      <td>-106.512730</td>\n",
       "      <td>223.595615</td>\n",
       "      <td>large</td>\n",
       "      <td>value</td>\n",
       "    </tr>\n",
       "    <tr>\n",
       "      <th>1</th>\n",
       "      <td>1351</td>\n",
       "      <td>-95.753155</td>\n",
       "      <td>244.328818</td>\n",
       "      <td>large</td>\n",
       "      <td>value</td>\n",
       "    </tr>\n",
       "    <tr>\n",
       "      <th>2</th>\n",
       "      <td>2228</td>\n",
       "      <td>-74.231371</td>\n",
       "      <td>318.054976</td>\n",
       "      <td>large</td>\n",
       "      <td>value</td>\n",
       "    </tr>\n",
       "    <tr>\n",
       "      <th>3</th>\n",
       "      <td>2296</td>\n",
       "      <td>-57.797931</td>\n",
       "      <td>394.503697</td>\n",
       "      <td>large</td>\n",
       "      <td>value</td>\n",
       "    </tr>\n",
       "    <tr>\n",
       "      <th>4</th>\n",
       "      <td>1971</td>\n",
       "      <td>-50.873616</td>\n",
       "      <td>581.970420</td>\n",
       "      <td>large</td>\n",
       "      <td>value</td>\n",
       "    </tr>\n",
       "  </tbody>\n",
       "</table>\n",
       "</div>"
      ],
      "text/plain": [
       "   SECURITY_ID_INT       raw_X       raw_Y vertical horizontal\n",
       "0             1734 -106.512730  223.595615    large      value\n",
       "1             1351  -95.753155  244.328818    large      value\n",
       "2             2228  -74.231371  318.054976    large      value\n",
       "3             2296  -57.797931  394.503697    large      value\n",
       "4             1971  -50.873616  581.970420    large      value"
      ]
     },
     "execution_count": 3,
     "metadata": {},
     "output_type": "execute_result"
    }
   ],
   "source": [
    "style = pd.read_csv('data_morning_start_style.csv')\n",
    "style.head()"
   ]
  },
  {
   "cell_type": "code",
   "execution_count": 3,
   "metadata": {},
   "outputs": [],
   "source": [
    "index = style.vertical=='large'"
   ]
  },
  {
   "cell_type": "code",
   "execution_count": 5,
   "metadata": {},
   "outputs": [],
   "source": [
    "style.loc[index, 'bool'] = True"
   ]
  },
  {
   "cell_type": "code",
   "execution_count": 6,
   "metadata": {},
   "outputs": [
    {
     "data": {
      "text/html": [
       "<div>\n",
       "<style scoped>\n",
       "    .dataframe tbody tr th:only-of-type {\n",
       "        vertical-align: middle;\n",
       "    }\n",
       "\n",
       "    .dataframe tbody tr th {\n",
       "        vertical-align: top;\n",
       "    }\n",
       "\n",
       "    .dataframe thead th {\n",
       "        text-align: right;\n",
       "    }\n",
       "</style>\n",
       "<table border=\"1\" class=\"dataframe\">\n",
       "  <thead>\n",
       "    <tr style=\"text-align: right;\">\n",
       "      <th></th>\n",
       "      <th>SECURITY_ID_INT</th>\n",
       "      <th>raw_X</th>\n",
       "      <th>raw_Y</th>\n",
       "      <th>vertical</th>\n",
       "      <th>horizontal</th>\n",
       "      <th>bool</th>\n",
       "    </tr>\n",
       "  </thead>\n",
       "  <tbody>\n",
       "    <tr>\n",
       "      <th>0</th>\n",
       "      <td>1734</td>\n",
       "      <td>-106.512730</td>\n",
       "      <td>223.595615</td>\n",
       "      <td>large</td>\n",
       "      <td>value</td>\n",
       "      <td>True</td>\n",
       "    </tr>\n",
       "    <tr>\n",
       "      <th>1</th>\n",
       "      <td>1351</td>\n",
       "      <td>-95.753155</td>\n",
       "      <td>244.328818</td>\n",
       "      <td>large</td>\n",
       "      <td>value</td>\n",
       "      <td>True</td>\n",
       "    </tr>\n",
       "    <tr>\n",
       "      <th>2</th>\n",
       "      <td>2228</td>\n",
       "      <td>-74.231371</td>\n",
       "      <td>318.054976</td>\n",
       "      <td>large</td>\n",
       "      <td>value</td>\n",
       "      <td>True</td>\n",
       "    </tr>\n",
       "    <tr>\n",
       "      <th>3</th>\n",
       "      <td>2296</td>\n",
       "      <td>-57.797931</td>\n",
       "      <td>394.503697</td>\n",
       "      <td>large</td>\n",
       "      <td>value</td>\n",
       "      <td>True</td>\n",
       "    </tr>\n",
       "    <tr>\n",
       "      <th>4</th>\n",
       "      <td>1971</td>\n",
       "      <td>-50.873616</td>\n",
       "      <td>581.970420</td>\n",
       "      <td>large</td>\n",
       "      <td>value</td>\n",
       "      <td>True</td>\n",
       "    </tr>\n",
       "  </tbody>\n",
       "</table>\n",
       "</div>"
      ],
      "text/plain": [
       "   SECURITY_ID_INT       raw_X       raw_Y vertical horizontal  bool\n",
       "0             1734 -106.512730  223.595615    large      value  True\n",
       "1             1351  -95.753155  244.328818    large      value  True\n",
       "2             2228  -74.231371  318.054976    large      value  True\n",
       "3             2296  -57.797931  394.503697    large      value  True\n",
       "4             1971  -50.873616  581.970420    large      value  True"
      ]
     },
     "execution_count": 6,
     "metadata": {},
     "output_type": "execute_result"
    }
   ],
   "source": [
    "style.head()"
   ]
  },
  {
   "cell_type": "code",
   "execution_count": 7,
   "metadata": {},
   "outputs": [
    {
     "data": {
      "text/html": [
       "<div>\n",
       "<style scoped>\n",
       "    .dataframe tbody tr th:only-of-type {\n",
       "        vertical-align: middle;\n",
       "    }\n",
       "\n",
       "    .dataframe tbody tr th {\n",
       "        vertical-align: top;\n",
       "    }\n",
       "\n",
       "    .dataframe thead th {\n",
       "        text-align: right;\n",
       "    }\n",
       "</style>\n",
       "<table border=\"1\" class=\"dataframe\">\n",
       "  <thead>\n",
       "    <tr style=\"text-align: right;\">\n",
       "      <th></th>\n",
       "      <th>SECURITY_ID_INT</th>\n",
       "      <th>raw_X</th>\n",
       "      <th>raw_Y</th>\n",
       "      <th>vertical</th>\n",
       "      <th>horizontal</th>\n",
       "      <th>bool</th>\n",
       "    </tr>\n",
       "  </thead>\n",
       "  <tbody>\n",
       "    <tr>\n",
       "      <th>3084</th>\n",
       "      <td>75293</td>\n",
       "      <td>535.366920</td>\n",
       "      <td>169.049964</td>\n",
       "      <td>mid</td>\n",
       "      <td>growth</td>\n",
       "      <td>NaN</td>\n",
       "    </tr>\n",
       "    <tr>\n",
       "      <th>3085</th>\n",
       "      <td>460689</td>\n",
       "      <td>543.062896</td>\n",
       "      <td>134.359182</td>\n",
       "      <td>mid</td>\n",
       "      <td>growth</td>\n",
       "      <td>NaN</td>\n",
       "    </tr>\n",
       "    <tr>\n",
       "      <th>3086</th>\n",
       "      <td>74677</td>\n",
       "      <td>563.843994</td>\n",
       "      <td>129.392789</td>\n",
       "      <td>mid</td>\n",
       "      <td>growth</td>\n",
       "      <td>NaN</td>\n",
       "    </tr>\n",
       "    <tr>\n",
       "      <th>3087</th>\n",
       "      <td>143</td>\n",
       "      <td>581.630188</td>\n",
       "      <td>116.999930</td>\n",
       "      <td>mid</td>\n",
       "      <td>growth</td>\n",
       "      <td>NaN</td>\n",
       "    </tr>\n",
       "    <tr>\n",
       "      <th>3088</th>\n",
       "      <td>256836</td>\n",
       "      <td>587.409832</td>\n",
       "      <td>140.974201</td>\n",
       "      <td>mid</td>\n",
       "      <td>growth</td>\n",
       "      <td>NaN</td>\n",
       "    </tr>\n",
       "  </tbody>\n",
       "</table>\n",
       "</div>"
      ],
      "text/plain": [
       "      SECURITY_ID_INT       raw_X       raw_Y vertical horizontal bool\n",
       "3084            75293  535.366920  169.049964      mid     growth  NaN\n",
       "3085           460689  543.062896  134.359182      mid     growth  NaN\n",
       "3086            74677  563.843994  129.392789      mid     growth  NaN\n",
       "3087              143  581.630188  116.999930      mid     growth  NaN\n",
       "3088           256836  587.409832  140.974201      mid     growth  NaN"
      ]
     },
     "execution_count": 7,
     "metadata": {},
     "output_type": "execute_result"
    }
   ],
   "source": [
    "style.tail()"
   ]
  },
  {
   "cell_type": "markdown",
   "metadata": {},
   "source": [
    "### quantile"
   ]
  },
  {
   "cell_type": "code",
   "execution_count": 11,
   "metadata": {},
   "outputs": [],
   "source": [
    "df =pd.DataFrame([10,8,6,4,2])\n",
    "df=df.astype(int)"
   ]
  },
  {
   "cell_type": "code",
   "execution_count": 14,
   "metadata": {},
   "outputs": [
    {
     "data": {
      "text/html": [
       "<div>\n",
       "<style scoped>\n",
       "    .dataframe tbody tr th:only-of-type {\n",
       "        vertical-align: middle;\n",
       "    }\n",
       "\n",
       "    .dataframe tbody tr th {\n",
       "        vertical-align: top;\n",
       "    }\n",
       "\n",
       "    .dataframe thead th {\n",
       "        text-align: right;\n",
       "    }\n",
       "</style>\n",
       "<table border=\"1\" class=\"dataframe\">\n",
       "  <thead>\n",
       "    <tr style=\"text-align: right;\">\n",
       "      <th></th>\n",
       "      <th>0</th>\n",
       "    </tr>\n",
       "  </thead>\n",
       "  <tbody>\n",
       "    <tr>\n",
       "      <th>0</th>\n",
       "      <td>NaN</td>\n",
       "    </tr>\n",
       "    <tr>\n",
       "      <th>1</th>\n",
       "      <td>NaN</td>\n",
       "    </tr>\n",
       "    <tr>\n",
       "      <th>2</th>\n",
       "      <td>24.0</td>\n",
       "    </tr>\n",
       "    <tr>\n",
       "      <th>3</th>\n",
       "      <td>18.0</td>\n",
       "    </tr>\n",
       "    <tr>\n",
       "      <th>4</th>\n",
       "      <td>12.0</td>\n",
       "    </tr>\n",
       "  </tbody>\n",
       "</table>\n",
       "</div>"
      ],
      "text/plain": [
       "      0\n",
       "0   NaN\n",
       "1   NaN\n",
       "2  24.0\n",
       "3  18.0\n",
       "4  12.0"
      ]
     },
     "execution_count": 14,
     "metadata": {},
     "output_type": "execute_result"
    }
   ],
   "source": [
    "df.rolling(3).sum()"
   ]
  },
  {
   "cell_type": "code",
   "execution_count": 6,
   "metadata": {},
   "outputs": [],
   "source": [
    "df =pd.DataFrame([10,18,24,28,30])"
   ]
  },
  {
   "cell_type": "code",
   "execution_count": 7,
   "metadata": {},
   "outputs": [
    {
     "data": {
      "text/plain": [
       "0    29.2\n",
       "Name: 0.9, dtype: float64"
      ]
     },
     "execution_count": 7,
     "metadata": {},
     "output_type": "execute_result"
    }
   ],
   "source": [
    "df.quantile(0.9)"
   ]
  },
  {
   "cell_type": "code",
   "execution_count": 4,
   "metadata": {},
   "outputs": [
    {
     "data": {
      "text/plain": [
       "163.457773479"
      ]
     },
     "execution_count": 4,
     "metadata": {},
     "output_type": "execute_result"
    }
   ],
   "source": [
    "style['raw_X'].quantile(0.5)"
   ]
  },
  {
   "cell_type": "code",
   "execution_count": 6,
   "metadata": {},
   "outputs": [
    {
     "data": {
      "text/plain": [
       "332.1384173490001"
      ]
     },
     "execution_count": 6,
     "metadata": {},
     "output_type": "execute_result"
    }
   ],
   "source": [
    "style['raw_X'].quantile(0.9)"
   ]
  },
  {
   "cell_type": "code",
   "execution_count": 8,
   "metadata": {},
   "outputs": [
    {
     "data": {
      "text/plain": [
       "104.29030494079998"
      ]
     },
     "execution_count": 8,
     "metadata": {},
     "output_type": "execute_result"
    }
   ],
   "source": [
    "style['raw_X'].quantile(0.3)"
   ]
  },
  {
   "cell_type": "code",
   "execution_count": null,
   "metadata": {},
   "outputs": [],
   "source": []
  },
  {
   "cell_type": "code",
   "execution_count": 5,
   "metadata": {},
   "outputs": [
    {
     "data": {
      "text/html": [
       "<div>\n",
       "<style scoped>\n",
       "    .dataframe tbody tr th:only-of-type {\n",
       "        vertical-align: middle;\n",
       "    }\n",
       "\n",
       "    .dataframe tbody tr th {\n",
       "        vertical-align: top;\n",
       "    }\n",
       "\n",
       "    .dataframe thead th {\n",
       "        text-align: right;\n",
       "    }\n",
       "</style>\n",
       "<table border=\"1\" class=\"dataframe\">\n",
       "  <thead>\n",
       "    <tr style=\"text-align: right;\">\n",
       "      <th></th>\n",
       "      <th>SECURITY_ID_INT</th>\n",
       "      <th>raw_X</th>\n",
       "      <th>raw_Y</th>\n",
       "    </tr>\n",
       "  </thead>\n",
       "  <tbody>\n",
       "    <tr>\n",
       "      <th>count</th>\n",
       "      <td>3.089000e+03</td>\n",
       "      <td>3089.000000</td>\n",
       "      <td>3089.000000</td>\n",
       "    </tr>\n",
       "    <tr>\n",
       "      <th>mean</th>\n",
       "      <td>1.870488e+05</td>\n",
       "      <td>166.329623</td>\n",
       "      <td>128.246714</td>\n",
       "    </tr>\n",
       "    <tr>\n",
       "      <th>std</th>\n",
       "      <td>2.283976e+06</td>\n",
       "      <td>131.718915</td>\n",
       "      <td>90.627564</td>\n",
       "    </tr>\n",
       "    <tr>\n",
       "      <th>min</th>\n",
       "      <td>2.000000e+00</td>\n",
       "      <td>-275.302198</td>\n",
       "      <td>-66.794896</td>\n",
       "    </tr>\n",
       "    <tr>\n",
       "      <th>25%</th>\n",
       "      <td>9.480000e+02</td>\n",
       "      <td>84.797665</td>\n",
       "      <td>62.353701</td>\n",
       "    </tr>\n",
       "    <tr>\n",
       "      <th>50%</th>\n",
       "      <td>2.434000e+03</td>\n",
       "      <td>163.457773</td>\n",
       "      <td>110.661913</td>\n",
       "    </tr>\n",
       "    <tr>\n",
       "      <th>75%</th>\n",
       "      <td>4.074000e+03</td>\n",
       "      <td>241.166778</td>\n",
       "      <td>174.223061</td>\n",
       "    </tr>\n",
       "    <tr>\n",
       "      <th>max</th>\n",
       "      <td>3.001188e+07</td>\n",
       "      <td>600.291868</td>\n",
       "      <td>640.353763</td>\n",
       "    </tr>\n",
       "  </tbody>\n",
       "</table>\n",
       "</div>"
      ],
      "text/plain": [
       "       SECURITY_ID_INT        raw_X        raw_Y\n",
       "count     3.089000e+03  3089.000000  3089.000000\n",
       "mean      1.870488e+05   166.329623   128.246714\n",
       "std       2.283976e+06   131.718915    90.627564\n",
       "min       2.000000e+00  -275.302198   -66.794896\n",
       "25%       9.480000e+02    84.797665    62.353701\n",
       "50%       2.434000e+03   163.457773   110.661913\n",
       "75%       4.074000e+03   241.166778   174.223061\n",
       "max       3.001188e+07   600.291868   640.353763"
      ]
     },
     "execution_count": 5,
     "metadata": {},
     "output_type": "execute_result"
    }
   ],
   "source": [
    "style.describe()"
   ]
  },
  {
   "cell_type": "code",
   "execution_count": 4,
   "metadata": {},
   "outputs": [
    {
     "data": {
      "text/plain": [
       "array(['large', 'mid', 'small'], dtype=object)"
      ]
     },
     "execution_count": 4,
     "metadata": {},
     "output_type": "execute_result"
    }
   ],
   "source": [
    "style.describe()\n",
    "style.vertical.unique()"
   ]
  },
  {
   "cell_type": "code",
   "execution_count": 6,
   "metadata": {},
   "outputs": [],
   "source": [
    "mapkey = {'large':1,'mid':2,'small':3}"
   ]
  },
  {
   "cell_type": "code",
   "execution_count": 9,
   "metadata": {},
   "outputs": [],
   "source": [
    "style['map'] = style.vertical.map(mapkey)"
   ]
  },
  {
   "cell_type": "code",
   "execution_count": 72,
   "metadata": {},
   "outputs": [
    {
     "data": {
      "text/html": [
       "<div>\n",
       "<style scoped>\n",
       "    .dataframe tbody tr th:only-of-type {\n",
       "        vertical-align: middle;\n",
       "    }\n",
       "\n",
       "    .dataframe tbody tr th {\n",
       "        vertical-align: top;\n",
       "    }\n",
       "\n",
       "    .dataframe thead th {\n",
       "        text-align: right;\n",
       "    }\n",
       "</style>\n",
       "<table border=\"1\" class=\"dataframe\">\n",
       "  <thead>\n",
       "    <tr style=\"text-align: right;\">\n",
       "      <th></th>\n",
       "      <th>SECURITY_ID_INT</th>\n",
       "      <th>raw_X</th>\n",
       "      <th>raw_Y</th>\n",
       "      <th>vertical</th>\n",
       "      <th>horizontal</th>\n",
       "      <th>map</th>\n",
       "    </tr>\n",
       "  </thead>\n",
       "  <tbody>\n",
       "    <tr>\n",
       "      <th>0</th>\n",
       "      <td>1734</td>\n",
       "      <td>100.000000</td>\n",
       "      <td>223.595615</td>\n",
       "      <td>NaN</td>\n",
       "      <td>value</td>\n",
       "      <td>1</td>\n",
       "    </tr>\n",
       "    <tr>\n",
       "      <th>1</th>\n",
       "      <td>1351</td>\n",
       "      <td>-95.753155</td>\n",
       "      <td>244.328818</td>\n",
       "      <td>large</td>\n",
       "      <td>value</td>\n",
       "      <td>1</td>\n",
       "    </tr>\n",
       "    <tr>\n",
       "      <th>2</th>\n",
       "      <td>2228</td>\n",
       "      <td>-74.231371</td>\n",
       "      <td>318.054976</td>\n",
       "      <td>large</td>\n",
       "      <td>value</td>\n",
       "      <td>1</td>\n",
       "    </tr>\n",
       "    <tr>\n",
       "      <th>3</th>\n",
       "      <td>2296</td>\n",
       "      <td>-57.797931</td>\n",
       "      <td>394.503697</td>\n",
       "      <td>large</td>\n",
       "      <td>value</td>\n",
       "      <td>1</td>\n",
       "    </tr>\n",
       "    <tr>\n",
       "      <th>4</th>\n",
       "      <td>1971</td>\n",
       "      <td>-50.873616</td>\n",
       "      <td>581.970420</td>\n",
       "      <td>large</td>\n",
       "      <td>value</td>\n",
       "      <td>1</td>\n",
       "    </tr>\n",
       "  </tbody>\n",
       "</table>\n",
       "</div>"
      ],
      "text/plain": [
       "   SECURITY_ID_INT       raw_X       raw_Y vertical horizontal  map\n",
       "0             1734  100.000000  223.595615      NaN      value    1\n",
       "1             1351  -95.753155  244.328818    large      value    1\n",
       "2             2228  -74.231371  318.054976    large      value    1\n",
       "3             2296  -57.797931  394.503697    large      value    1\n",
       "4             1971  -50.873616  581.970420    large      value    1"
      ]
     },
     "execution_count": 72,
     "metadata": {},
     "output_type": "execute_result"
    }
   ],
   "source": [
    "style.head()"
   ]
  },
  {
   "cell_type": "code",
   "execution_count": 24,
   "metadata": {},
   "outputs": [],
   "source": [
    "style.loc[0, 'vertical'] = np.nan"
   ]
  },
  {
   "cell_type": "markdown",
   "metadata": {},
   "source": [
    "# about how to fillna with the mean of a given group"
   ]
  },
  {
   "cell_type": "code",
   "execution_count": 19,
   "metadata": {},
   "outputs": [],
   "source": [
    "# style.groupby('vertical').apply(lambda x: x.fillna(x.mean()))"
   ]
  },
  {
   "cell_type": "markdown",
   "metadata": {},
   "source": [
    "### https://pandas.pydata.org/pandas-docs/stable/reference/api/pandas.DataFrame.fillna.html"
   ]
  },
  {
   "cell_type": "code",
   "execution_count": 36,
   "metadata": {},
   "outputs": [],
   "source": [
    "# style.isnull().any(axis=1)\n",
    "df = pd.DataFrame([[np.nan, 2, np.nan, 0],\n",
    "                  [3, 4, np.nan, 1],\n",
    "                    [np.nan, np.nan, np.nan, 5],\n",
    "                    [np.nan, 3, np.nan, 4]],\n",
    "                   columns=list('ABCD'))"
   ]
  },
  {
   "cell_type": "code",
   "execution_count": 37,
   "metadata": {},
   "outputs": [
    {
     "data": {
      "text/html": [
       "<div>\n",
       "<style scoped>\n",
       "    .dataframe tbody tr th:only-of-type {\n",
       "        vertical-align: middle;\n",
       "    }\n",
       "\n",
       "    .dataframe tbody tr th {\n",
       "        vertical-align: top;\n",
       "    }\n",
       "\n",
       "    .dataframe thead th {\n",
       "        text-align: right;\n",
       "    }\n",
       "</style>\n",
       "<table border=\"1\" class=\"dataframe\">\n",
       "  <thead>\n",
       "    <tr style=\"text-align: right;\">\n",
       "      <th></th>\n",
       "      <th>A</th>\n",
       "      <th>B</th>\n",
       "      <th>C</th>\n",
       "      <th>D</th>\n",
       "    </tr>\n",
       "  </thead>\n",
       "  <tbody>\n",
       "    <tr>\n",
       "      <th>0</th>\n",
       "      <td>NaN</td>\n",
       "      <td>2.0</td>\n",
       "      <td>NaN</td>\n",
       "      <td>0</td>\n",
       "    </tr>\n",
       "    <tr>\n",
       "      <th>1</th>\n",
       "      <td>3.0</td>\n",
       "      <td>4.0</td>\n",
       "      <td>NaN</td>\n",
       "      <td>1</td>\n",
       "    </tr>\n",
       "    <tr>\n",
       "      <th>2</th>\n",
       "      <td>NaN</td>\n",
       "      <td>NaN</td>\n",
       "      <td>NaN</td>\n",
       "      <td>5</td>\n",
       "    </tr>\n",
       "    <tr>\n",
       "      <th>3</th>\n",
       "      <td>NaN</td>\n",
       "      <td>3.0</td>\n",
       "      <td>NaN</td>\n",
       "      <td>4</td>\n",
       "    </tr>\n",
       "  </tbody>\n",
       "</table>\n",
       "</div>"
      ],
      "text/plain": [
       "     A    B   C  D\n",
       "0  NaN  2.0 NaN  0\n",
       "1  3.0  4.0 NaN  1\n",
       "2  NaN  NaN NaN  5\n",
       "3  NaN  3.0 NaN  4"
      ]
     },
     "execution_count": 37,
     "metadata": {},
     "output_type": "execute_result"
    }
   ],
   "source": [
    "df"
   ]
  },
  {
   "cell_type": "code",
   "execution_count": 38,
   "metadata": {},
   "outputs": [
    {
     "data": {
      "text/html": [
       "<div>\n",
       "<style scoped>\n",
       "    .dataframe tbody tr th:only-of-type {\n",
       "        vertical-align: middle;\n",
       "    }\n",
       "\n",
       "    .dataframe tbody tr th {\n",
       "        vertical-align: top;\n",
       "    }\n",
       "\n",
       "    .dataframe thead th {\n",
       "        text-align: right;\n",
       "    }\n",
       "</style>\n",
       "<table border=\"1\" class=\"dataframe\">\n",
       "  <thead>\n",
       "    <tr style=\"text-align: right;\">\n",
       "      <th></th>\n",
       "      <th>A</th>\n",
       "      <th>B</th>\n",
       "      <th>C</th>\n",
       "      <th>D</th>\n",
       "    </tr>\n",
       "  </thead>\n",
       "  <tbody>\n",
       "    <tr>\n",
       "      <th>0</th>\n",
       "      <td>0.0</td>\n",
       "      <td>2.0</td>\n",
       "      <td>2.0</td>\n",
       "      <td>0</td>\n",
       "    </tr>\n",
       "    <tr>\n",
       "      <th>1</th>\n",
       "      <td>3.0</td>\n",
       "      <td>4.0</td>\n",
       "      <td>2.0</td>\n",
       "      <td>1</td>\n",
       "    </tr>\n",
       "    <tr>\n",
       "      <th>2</th>\n",
       "      <td>0.0</td>\n",
       "      <td>1.0</td>\n",
       "      <td>2.0</td>\n",
       "      <td>5</td>\n",
       "    </tr>\n",
       "    <tr>\n",
       "      <th>3</th>\n",
       "      <td>0.0</td>\n",
       "      <td>3.0</td>\n",
       "      <td>2.0</td>\n",
       "      <td>4</td>\n",
       "    </tr>\n",
       "  </tbody>\n",
       "</table>\n",
       "</div>"
      ],
      "text/plain": [
       "     A    B    C  D\n",
       "0  0.0  2.0  2.0  0\n",
       "1  3.0  4.0  2.0  1\n",
       "2  0.0  1.0  2.0  5\n",
       "3  0.0  3.0  2.0  4"
      ]
     },
     "execution_count": 38,
     "metadata": {},
     "output_type": "execute_result"
    }
   ],
   "source": [
    "values = {'A': 0, 'B': 1, 'C': 2, 'D': 3}\n",
    "df.fillna(value=values)"
   ]
  },
  {
   "cell_type": "code",
   "execution_count": 39,
   "metadata": {},
   "outputs": [
    {
     "data": {
      "text/html": [
       "<div>\n",
       "<style scoped>\n",
       "    .dataframe tbody tr th:only-of-type {\n",
       "        vertical-align: middle;\n",
       "    }\n",
       "\n",
       "    .dataframe tbody tr th {\n",
       "        vertical-align: top;\n",
       "    }\n",
       "\n",
       "    .dataframe thead th {\n",
       "        text-align: right;\n",
       "    }\n",
       "</style>\n",
       "<table border=\"1\" class=\"dataframe\">\n",
       "  <thead>\n",
       "    <tr style=\"text-align: right;\">\n",
       "      <th></th>\n",
       "      <th>A</th>\n",
       "      <th>B</th>\n",
       "      <th>C</th>\n",
       "      <th>D</th>\n",
       "    </tr>\n",
       "  </thead>\n",
       "  <tbody>\n",
       "    <tr>\n",
       "      <th>0</th>\n",
       "      <td>0.0</td>\n",
       "      <td>2.0</td>\n",
       "      <td>NaN</td>\n",
       "      <td>0</td>\n",
       "    </tr>\n",
       "    <tr>\n",
       "      <th>1</th>\n",
       "      <td>3.0</td>\n",
       "      <td>4.0</td>\n",
       "      <td>NaN</td>\n",
       "      <td>1</td>\n",
       "    </tr>\n",
       "    <tr>\n",
       "      <th>2</th>\n",
       "      <td>0.0</td>\n",
       "      <td>NaN</td>\n",
       "      <td>NaN</td>\n",
       "      <td>5</td>\n",
       "    </tr>\n",
       "    <tr>\n",
       "      <th>3</th>\n",
       "      <td>0.0</td>\n",
       "      <td>3.0</td>\n",
       "      <td>NaN</td>\n",
       "      <td>4</td>\n",
       "    </tr>\n",
       "  </tbody>\n",
       "</table>\n",
       "</div>"
      ],
      "text/plain": [
       "     A    B   C  D\n",
       "0  0.0  2.0 NaN  0\n",
       "1  3.0  4.0 NaN  1\n",
       "2  0.0  NaN NaN  5\n",
       "3  0.0  3.0 NaN  4"
      ]
     },
     "execution_count": 39,
     "metadata": {},
     "output_type": "execute_result"
    }
   ],
   "source": [
    "values = {'A': 0}\n",
    "df.fillna(value=values)"
   ]
  },
  {
   "cell_type": "code",
   "execution_count": 40,
   "metadata": {},
   "outputs": [
    {
     "data": {
      "text/html": [
       "<div>\n",
       "<style scoped>\n",
       "    .dataframe tbody tr th:only-of-type {\n",
       "        vertical-align: middle;\n",
       "    }\n",
       "\n",
       "    .dataframe tbody tr th {\n",
       "        vertical-align: top;\n",
       "    }\n",
       "\n",
       "    .dataframe thead th {\n",
       "        text-align: right;\n",
       "    }\n",
       "</style>\n",
       "<table border=\"1\" class=\"dataframe\">\n",
       "  <thead>\n",
       "    <tr style=\"text-align: right;\">\n",
       "      <th></th>\n",
       "      <th>A</th>\n",
       "      <th>B</th>\n",
       "      <th>C</th>\n",
       "      <th>D</th>\n",
       "    </tr>\n",
       "  </thead>\n",
       "  <tbody>\n",
       "    <tr>\n",
       "      <th>0</th>\n",
       "      <td>NaN</td>\n",
       "      <td>2.0</td>\n",
       "      <td>NaN</td>\n",
       "      <td>0</td>\n",
       "    </tr>\n",
       "    <tr>\n",
       "      <th>1</th>\n",
       "      <td>3.0</td>\n",
       "      <td>4.0</td>\n",
       "      <td>NaN</td>\n",
       "      <td>1</td>\n",
       "    </tr>\n",
       "    <tr>\n",
       "      <th>2</th>\n",
       "      <td>3.0</td>\n",
       "      <td>4.0</td>\n",
       "      <td>NaN</td>\n",
       "      <td>5</td>\n",
       "    </tr>\n",
       "    <tr>\n",
       "      <th>3</th>\n",
       "      <td>3.0</td>\n",
       "      <td>3.0</td>\n",
       "      <td>NaN</td>\n",
       "      <td>4</td>\n",
       "    </tr>\n",
       "  </tbody>\n",
       "</table>\n",
       "</div>"
      ],
      "text/plain": [
       "     A    B   C  D\n",
       "0  NaN  2.0 NaN  0\n",
       "1  3.0  4.0 NaN  1\n",
       "2  3.0  4.0 NaN  5\n",
       "3  3.0  3.0 NaN  4"
      ]
     },
     "execution_count": 40,
     "metadata": {},
     "output_type": "execute_result"
    }
   ],
   "source": [
    "df.fillna(method='ffill')"
   ]
  },
  {
   "cell_type": "markdown",
   "metadata": {},
   "source": [
    "# to get index of rows with NAN"
   ]
  },
  {
   "cell_type": "code",
   "execution_count": 56,
   "metadata": {},
   "outputs": [],
   "source": [
    "idx = style[style.vertical.isnull()].index"
   ]
  },
  {
   "cell_type": "code",
   "execution_count": 57,
   "metadata": {},
   "outputs": [
    {
     "data": {
      "text/plain": [
       "Int64Index([0], dtype='int64')"
      ]
     },
     "execution_count": 57,
     "metadata": {},
     "output_type": "execute_result"
    }
   ],
   "source": [
    "idx"
   ]
  },
  {
   "cell_type": "code",
   "execution_count": 62,
   "metadata": {},
   "outputs": [],
   "source": [
    "style.loc[idx,'raw_X'] = 100"
   ]
  },
  {
   "cell_type": "markdown",
   "metadata": {},
   "source": [
    "# to get how many NAN in each group"
   ]
  },
  {
   "cell_type": "code",
   "execution_count": 5,
   "metadata": {},
   "outputs": [
    {
     "data": {
      "text/plain": [
       "horizontal\n",
       "core      0\n",
       "growth    0\n",
       "value     0\n",
       "Name: vertical, dtype: int64"
      ]
     },
     "execution_count": 5,
     "metadata": {},
     "output_type": "execute_result"
    }
   ],
   "source": [
    "df = style.groupby('horizontal')['vertical'].apply(lambda x: x.isnull().sum())#.to_dict()\n",
    "type(df)\n",
    "df"
   ]
  },
  {
   "cell_type": "code",
   "execution_count": 10,
   "metadata": {},
   "outputs": [
    {
     "data": {
      "text/html": [
       "<div>\n",
       "<style scoped>\n",
       "    .dataframe tbody tr th:only-of-type {\n",
       "        vertical-align: middle;\n",
       "    }\n",
       "\n",
       "    .dataframe tbody tr th {\n",
       "        vertical-align: top;\n",
       "    }\n",
       "\n",
       "    .dataframe thead th {\n",
       "        text-align: right;\n",
       "    }\n",
       "</style>\n",
       "<table border=\"1\" class=\"dataframe\">\n",
       "  <thead>\n",
       "    <tr style=\"text-align: right;\">\n",
       "      <th></th>\n",
       "      <th>SECURITY_ID_INT</th>\n",
       "      <th>raw_X</th>\n",
       "      <th>raw_Y</th>\n",
       "      <th>vertical</th>\n",
       "      <th>horizontal</th>\n",
       "    </tr>\n",
       "  </thead>\n",
       "  <tbody>\n",
       "    <tr>\n",
       "      <th>0</th>\n",
       "      <td>1734</td>\n",
       "      <td>-106.512730</td>\n",
       "      <td>223.595615</td>\n",
       "      <td>large</td>\n",
       "      <td>value</td>\n",
       "    </tr>\n",
       "    <tr>\n",
       "      <th>1</th>\n",
       "      <td>1351</td>\n",
       "      <td>-95.753155</td>\n",
       "      <td>244.328818</td>\n",
       "      <td>large</td>\n",
       "      <td>value</td>\n",
       "    </tr>\n",
       "    <tr>\n",
       "      <th>2</th>\n",
       "      <td>2228</td>\n",
       "      <td>-74.231371</td>\n",
       "      <td>318.054976</td>\n",
       "      <td>large</td>\n",
       "      <td>value</td>\n",
       "    </tr>\n",
       "    <tr>\n",
       "      <th>3</th>\n",
       "      <td>2296</td>\n",
       "      <td>-57.797931</td>\n",
       "      <td>394.503697</td>\n",
       "      <td>large</td>\n",
       "      <td>value</td>\n",
       "    </tr>\n",
       "    <tr>\n",
       "      <th>4</th>\n",
       "      <td>1971</td>\n",
       "      <td>-50.873616</td>\n",
       "      <td>581.970420</td>\n",
       "      <td>large</td>\n",
       "      <td>value</td>\n",
       "    </tr>\n",
       "  </tbody>\n",
       "</table>\n",
       "</div>"
      ],
      "text/plain": [
       "   SECURITY_ID_INT       raw_X       raw_Y vertical horizontal\n",
       "0             1734 -106.512730  223.595615    large      value\n",
       "1             1351  -95.753155  244.328818    large      value\n",
       "2             2228  -74.231371  318.054976    large      value\n",
       "3             2296  -57.797931  394.503697    large      value\n",
       "4             1971  -50.873616  581.970420    large      value"
      ]
     },
     "execution_count": 10,
     "metadata": {},
     "output_type": "execute_result"
    }
   ],
   "source": [
    "style.head()"
   ]
  },
  {
   "cell_type": "code",
   "execution_count": 11,
   "metadata": {},
   "outputs": [],
   "source": [
    "df = style.groupby('horizontal').apply(lambda x: x.fillna(x['horizontal']))#.to_dict()\n",
    "# df[df.SECURITY_ID_INT==1734]\n",
    "# df"
   ]
  },
  {
   "cell_type": "markdown",
   "metadata": {},
   "source": [
    "# fillna with mean() of each group"
   ]
  },
  {
   "cell_type": "code",
   "execution_count": 18,
   "metadata": {},
   "outputs": [
    {
     "data": {
      "text/html": [
       "<div>\n",
       "<style scoped>\n",
       "    .dataframe tbody tr th:only-of-type {\n",
       "        vertical-align: middle;\n",
       "    }\n",
       "\n",
       "    .dataframe tbody tr th {\n",
       "        vertical-align: top;\n",
       "    }\n",
       "\n",
       "    .dataframe thead th {\n",
       "        text-align: right;\n",
       "    }\n",
       "</style>\n",
       "<table border=\"1\" class=\"dataframe\">\n",
       "  <thead>\n",
       "    <tr style=\"text-align: right;\">\n",
       "      <th></th>\n",
       "      <th>SECURITY_ID_INT</th>\n",
       "      <th>raw_X</th>\n",
       "      <th>raw_Y</th>\n",
       "      <th>vertical</th>\n",
       "      <th>horizontal</th>\n",
       "    </tr>\n",
       "  </thead>\n",
       "  <tbody>\n",
       "    <tr>\n",
       "      <th>0</th>\n",
       "      <td>1734</td>\n",
       "      <td>NaN</td>\n",
       "      <td>223.595615</td>\n",
       "      <td>large</td>\n",
       "      <td>value</td>\n",
       "    </tr>\n",
       "    <tr>\n",
       "      <th>1</th>\n",
       "      <td>1351</td>\n",
       "      <td>-95.753155</td>\n",
       "      <td>244.328818</td>\n",
       "      <td>large</td>\n",
       "      <td>value</td>\n",
       "    </tr>\n",
       "    <tr>\n",
       "      <th>2</th>\n",
       "      <td>2228</td>\n",
       "      <td>-74.231371</td>\n",
       "      <td>318.054976</td>\n",
       "      <td>large</td>\n",
       "      <td>value</td>\n",
       "    </tr>\n",
       "    <tr>\n",
       "      <th>3</th>\n",
       "      <td>2296</td>\n",
       "      <td>-57.797931</td>\n",
       "      <td>394.503697</td>\n",
       "      <td>large</td>\n",
       "      <td>value</td>\n",
       "    </tr>\n",
       "    <tr>\n",
       "      <th>4</th>\n",
       "      <td>1971</td>\n",
       "      <td>-50.873616</td>\n",
       "      <td>581.970420</td>\n",
       "      <td>large</td>\n",
       "      <td>value</td>\n",
       "    </tr>\n",
       "  </tbody>\n",
       "</table>\n",
       "</div>"
      ],
      "text/plain": [
       "   SECURITY_ID_INT      raw_X       raw_Y vertical horizontal\n",
       "0             1734        NaN  223.595615    large      value\n",
       "1             1351 -95.753155  244.328818    large      value\n",
       "2             2228 -74.231371  318.054976    large      value\n",
       "3             2296 -57.797931  394.503697    large      value\n",
       "4             1971 -50.873616  581.970420    large      value"
      ]
     },
     "execution_count": 18,
     "metadata": {},
     "output_type": "execute_result"
    }
   ],
   "source": [
    "import numpy as np\n",
    "style.loc[0,'raw_X'] = np.nan\n",
    "style.loc[3088,'raw_X'] = np.nan\n",
    "\n",
    "style.head()\n",
    "# style.groupby('vertical').apply(lambda x: x.fillna(x.mean()))"
   ]
  },
  {
   "cell_type": "code",
   "execution_count": 23,
   "metadata": {},
   "outputs": [
    {
     "data": {
      "text/plain": [
       "(3089, 5)"
      ]
     },
     "execution_count": 23,
     "metadata": {},
     "output_type": "execute_result"
    }
   ],
   "source": [
    "style.shape"
   ]
  },
  {
   "cell_type": "code",
   "execution_count": 15,
   "metadata": {},
   "outputs": [
    {
     "data": {
      "text/html": [
       "<div>\n",
       "<style scoped>\n",
       "    .dataframe tbody tr th:only-of-type {\n",
       "        vertical-align: middle;\n",
       "    }\n",
       "\n",
       "    .dataframe tbody tr th {\n",
       "        vertical-align: top;\n",
       "    }\n",
       "\n",
       "    .dataframe thead th {\n",
       "        text-align: right;\n",
       "    }\n",
       "</style>\n",
       "<table border=\"1\" class=\"dataframe\">\n",
       "  <thead>\n",
       "    <tr style=\"text-align: right;\">\n",
       "      <th></th>\n",
       "      <th>SECURITY_ID_INT</th>\n",
       "      <th>raw_X</th>\n",
       "      <th>raw_Y</th>\n",
       "    </tr>\n",
       "    <tr>\n",
       "      <th>vertical</th>\n",
       "      <th></th>\n",
       "      <th></th>\n",
       "      <th></th>\n",
       "    </tr>\n",
       "  </thead>\n",
       "  <tbody>\n",
       "    <tr>\n",
       "      <th>large</th>\n",
       "      <td>110475.104056</td>\n",
       "      <td>201.485094</td>\n",
       "      <td>276.059847</td>\n",
       "    </tr>\n",
       "    <tr>\n",
       "      <th>mid</th>\n",
       "      <td>32942.641921</td>\n",
       "      <td>154.432431</td>\n",
       "      <td>142.928277</td>\n",
       "    </tr>\n",
       "    <tr>\n",
       "      <th>small</th>\n",
       "      <td>346721.206972</td>\n",
       "      <td>161.970242</td>\n",
       "      <td>55.174502</td>\n",
       "    </tr>\n",
       "  </tbody>\n",
       "</table>\n",
       "</div>"
      ],
      "text/plain": [
       "          SECURITY_ID_INT       raw_X       raw_Y\n",
       "vertical                                         \n",
       "large       110475.104056  201.485094  276.059847\n",
       "mid          32942.641921  154.432431  142.928277\n",
       "small       346721.206972  161.970242   55.174502"
      ]
     },
     "execution_count": 15,
     "metadata": {},
     "output_type": "execute_result"
    }
   ],
   "source": [
    "style.groupby('vertical').mean()"
   ]
  },
  {
   "cell_type": "code",
   "execution_count": 21,
   "metadata": {},
   "outputs": [
    {
     "data": {
      "text/plain": [
       "(3089, 5)"
      ]
     },
     "execution_count": 21,
     "metadata": {},
     "output_type": "execute_result"
    }
   ],
   "source": [
    "# style.loc[0,'raw_X'] will be the mean of group(vertical=='large')\n",
    "df = style.groupby('vertical').apply(lambda x: x.fillna(x.mean()['raw_X']))\n",
    "df.shape"
   ]
  },
  {
   "cell_type": "code",
   "execution_count": 40,
   "metadata": {},
   "outputs": [
    {
     "data": {
      "text/plain": [
       "array([nan, 'large', 'large', ..., 'mid', 'mid', 'mid'], dtype=object)"
      ]
     },
     "execution_count": 40,
     "metadata": {},
     "output_type": "execute_result"
    }
   ],
   "source": [
    "# style['vertical'].values\n",
    "style.vertical.values"
   ]
  },
  {
   "cell_type": "code",
   "execution_count": 31,
   "metadata": {},
   "outputs": [
    {
     "data": {
      "text/plain": [
       "pandas.core.series.Series"
      ]
     },
     "execution_count": 31,
     "metadata": {},
     "output_type": "execute_result"
    }
   ],
   "source": [
    "# np.isnan(style)#.all()\n",
    "style.isnull()\n",
    "s = style['raw_X'].isnull()\n",
    "type(s)\n",
    "# np.isnan(df['eps' + '_err'].values).all()"
   ]
  },
  {
   "cell_type": "code",
   "execution_count": 33,
   "metadata": {},
   "outputs": [
    {
     "data": {
      "text/html": [
       "<div>\n",
       "<style scoped>\n",
       "    .dataframe tbody tr th:only-of-type {\n",
       "        vertical-align: middle;\n",
       "    }\n",
       "\n",
       "    .dataframe tbody tr th {\n",
       "        vertical-align: top;\n",
       "    }\n",
       "\n",
       "    .dataframe thead th {\n",
       "        text-align: right;\n",
       "    }\n",
       "</style>\n",
       "<table border=\"1\" class=\"dataframe\">\n",
       "  <thead>\n",
       "    <tr style=\"text-align: right;\">\n",
       "      <th></th>\n",
       "      <th>SECURITY_ID_INT</th>\n",
       "      <th>raw_X</th>\n",
       "      <th>raw_Y</th>\n",
       "      <th>vertical</th>\n",
       "      <th>horizontal</th>\n",
       "    </tr>\n",
       "  </thead>\n",
       "  <tbody>\n",
       "    <tr>\n",
       "      <th>0</th>\n",
       "      <td>1734</td>\n",
       "      <td>NaN</td>\n",
       "      <td>223.595615</td>\n",
       "      <td>large</td>\n",
       "      <td>value</td>\n",
       "    </tr>\n",
       "    <tr>\n",
       "      <th>3088</th>\n",
       "      <td>256836</td>\n",
       "      <td>NaN</td>\n",
       "      <td>140.974201</td>\n",
       "      <td>mid</td>\n",
       "      <td>growth</td>\n",
       "    </tr>\n",
       "  </tbody>\n",
       "</table>\n",
       "</div>"
      ],
      "text/plain": [
       "      SECURITY_ID_INT  raw_X       raw_Y vertical horizontal\n",
       "0                1734    NaN  223.595615    large      value\n",
       "3088           256836    NaN  140.974201      mid     growth"
      ]
     },
     "execution_count": 33,
     "metadata": {},
     "output_type": "execute_result"
    }
   ],
   "source": [
    "style[style.raw_X.isnull()]"
   ]
  },
  {
   "cell_type": "markdown",
   "metadata": {},
   "source": [
    "# note! the difference between .loc[key] vs .loc[[key]]"
   ]
  },
  {
   "cell_type": "code",
   "execution_count": 4,
   "metadata": {},
   "outputs": [
    {
     "data": {
      "text/plain": [
       "raw_X        -106.513\n",
       "raw_Y         223.596\n",
       "vertical        large\n",
       "horizontal      value\n",
       "Name: 1734, dtype: object"
      ]
     },
     "execution_count": 4,
     "metadata": {},
     "output_type": "execute_result"
    }
   ],
   "source": [
    "style.set_index(\"SECURITY_ID_INT\").loc[1734]"
   ]
  },
  {
   "cell_type": "code",
   "execution_count": 6,
   "metadata": {},
   "outputs": [
    {
     "data": {
      "text/html": [
       "<div>\n",
       "<style scoped>\n",
       "    .dataframe tbody tr th:only-of-type {\n",
       "        vertical-align: middle;\n",
       "    }\n",
       "\n",
       "    .dataframe tbody tr th {\n",
       "        vertical-align: top;\n",
       "    }\n",
       "\n",
       "    .dataframe thead th {\n",
       "        text-align: right;\n",
       "    }\n",
       "</style>\n",
       "<table border=\"1\" class=\"dataframe\">\n",
       "  <thead>\n",
       "    <tr style=\"text-align: right;\">\n",
       "      <th></th>\n",
       "      <th>raw_X</th>\n",
       "      <th>raw_Y</th>\n",
       "      <th>vertical</th>\n",
       "      <th>horizontal</th>\n",
       "    </tr>\n",
       "    <tr>\n",
       "      <th>SECURITY_ID_INT</th>\n",
       "      <th></th>\n",
       "      <th></th>\n",
       "      <th></th>\n",
       "      <th></th>\n",
       "    </tr>\n",
       "  </thead>\n",
       "  <tbody>\n",
       "    <tr>\n",
       "      <th>1734</th>\n",
       "      <td>-106.51273</td>\n",
       "      <td>223.595615</td>\n",
       "      <td>large</td>\n",
       "      <td>value</td>\n",
       "    </tr>\n",
       "  </tbody>\n",
       "</table>\n",
       "</div>"
      ],
      "text/plain": [
       "                     raw_X       raw_Y vertical horizontal\n",
       "SECURITY_ID_INT                                           \n",
       "1734            -106.51273  223.595615    large      value"
      ]
     },
     "execution_count": 6,
     "metadata": {},
     "output_type": "execute_result"
    }
   ],
   "source": [
    "style.set_index(\"SECURITY_ID_INT\").loc[[1734]]"
   ]
  },
  {
   "cell_type": "code",
   "execution_count": 28,
   "metadata": {},
   "outputs": [
    {
     "name": "stdout",
     "output_type": "stream",
     "text": [
      "<class 'pandas.core.frame.DataFrame'>\n",
      "RangeIndex: 3089 entries, 0 to 3088\n",
      "Data columns (total 6 columns):\n",
      "SECURITY_ID_INT    3089 non-null int64\n",
      "raw_X              3089 non-null float64\n",
      "raw_Y              3089 non-null float64\n",
      "vertical           3089 non-null object\n",
      "horizontal         3089 non-null object\n",
      "a                  3089 non-null float64\n",
      "dtypes: float64(3), int64(1), object(2)\n",
      "memory usage: 144.9+ KB\n"
     ]
    }
   ],
   "source": [
    "style.info()\n",
    "# style"
   ]
  },
  {
   "cell_type": "markdown",
   "metadata": {},
   "source": [
    "### loop\n",
    "https://engineering.upside.com/a-beginners-guide-to-optimizing-pandas-code-for-speed-c09ef2c6a4d6"
   ]
  },
  {
   "cell_type": "code",
   "execution_count": 7,
   "metadata": {},
   "outputs": [],
   "source": [
    "%timeit\n",
    "for k,v in style.iterrows():\n",
    "    \n",
    "#     print v"
   ]
  },
  {
   "cell_type": "code",
   "execution_count": 26,
   "metadata": {},
   "outputs": [
    {
     "name": "stderr",
     "output_type": "stream",
     "text": [
      "UsageError: Line magic function `%lprun` not found.\n"
     ]
    }
   ],
   "source": [
    "%lprun 3**2"
   ]
  },
  {
   "cell_type": "code",
   "execution_count": 25,
   "metadata": {},
   "outputs": [
    {
     "name": "stdout",
     "output_type": "stream",
     "text": [
      "10 loops, best of 3: 93.3 ms per loop\n"
     ]
    }
   ],
   "source": [
    "# apply()\n",
    "def fa(row):\n",
    "    x = row[0]\n",
    "    y = row[1]\n",
    "    return x+y\n",
    "#     return x**2 + y**2\n",
    "\n",
    "%timeit style['a'] = style[['raw_X', 'raw_Y']].apply(fa, axis=1)"
   ]
  },
  {
   "cell_type": "code",
   "execution_count": 44,
   "metadata": {},
   "outputs": [
    {
     "name": "stdout",
     "output_type": "stream",
     "text": [
      "10 loops, best of 3: 74.1 ms per loop\n"
     ]
    }
   ],
   "source": [
    "# apply()\n",
    "\n",
    "%timeit style['c'] = style[['raw_X', 'raw_Y']].apply(lambda x: x['raw_X']+ x['raw_Y'], axis=1)"
   ]
  },
  {
   "cell_type": "code",
   "execution_count": 1,
   "metadata": {},
   "outputs": [
    {
     "ename": "NameError",
     "evalue": "name 'style' is not defined",
     "output_type": "error",
     "traceback": [
      "\u001b[1;31m---------------------------------------------------------------------------\u001b[0m",
      "\u001b[1;31mNameError\u001b[0m                                 Traceback (most recent call last)",
      "\u001b[1;32m<ipython-input-1-4321484e3de4>\u001b[0m in \u001b[0;36m<module>\u001b[1;34m()\u001b[0m\n\u001b[1;32m----> 1\u001b[1;33m \u001b[0mstyle\u001b[0m\u001b[1;33m.\u001b[0m\u001b[0mhead\u001b[0m\u001b[1;33m(\u001b[0m\u001b[1;33m)\u001b[0m\u001b[1;33m\u001b[0m\u001b[0m\n\u001b[0m",
      "\u001b[1;31mNameError\u001b[0m: name 'style' is not defined"
     ]
    }
   ],
   "source": [
    "style.head()"
   ]
  },
  {
   "cell_type": "markdown",
   "metadata": {},
   "source": [
    "### drop_duplicates()"
   ]
  },
  {
   "cell_type": "code",
   "execution_count": 2,
   "metadata": {},
   "outputs": [
    {
     "data": {
      "text/plain": [
       "u'0.24.0'"
      ]
     },
     "execution_count": 2,
     "metadata": {},
     "output_type": "execute_result"
    }
   ],
   "source": [
    "pd.__version__"
   ]
  },
  {
   "cell_type": "code",
   "execution_count": 3,
   "metadata": {},
   "outputs": [],
   "source": [
    "df = pd.DataFrame([[\"mery\", 2, np.nan, 0],\n",
    "                  [\"mery\", 4, np.nan, 1],\n",
    "                    [\"lily\", np.nan, np.nan, 5],\n",
    "                    [\"lily\", 3, np.nan, 4]],\n",
    "                   columns=list('ABCD'))"
   ]
  },
  {
   "cell_type": "code",
   "execution_count": 9,
   "metadata": {},
   "outputs": [
    {
     "data": {
      "text/html": [
       "<div>\n",
       "<style scoped>\n",
       "    .dataframe tbody tr th:only-of-type {\n",
       "        vertical-align: middle;\n",
       "    }\n",
       "\n",
       "    .dataframe tbody tr th {\n",
       "        vertical-align: top;\n",
       "    }\n",
       "\n",
       "    .dataframe thead th {\n",
       "        text-align: right;\n",
       "    }\n",
       "</style>\n",
       "<table border=\"1\" class=\"dataframe\">\n",
       "  <thead>\n",
       "    <tr style=\"text-align: right;\">\n",
       "      <th></th>\n",
       "      <th>A</th>\n",
       "      <th>B</th>\n",
       "      <th>C</th>\n",
       "      <th>D</th>\n",
       "    </tr>\n",
       "  </thead>\n",
       "  <tbody>\n",
       "    <tr>\n",
       "      <th>2</th>\n",
       "      <td>lily</td>\n",
       "      <td>NaN</td>\n",
       "      <td>NaN</td>\n",
       "      <td>5</td>\n",
       "    </tr>\n",
       "    <tr>\n",
       "      <th>3</th>\n",
       "      <td>lily</td>\n",
       "      <td>3.0</td>\n",
       "      <td>NaN</td>\n",
       "      <td>4</td>\n",
       "    </tr>\n",
       "    <tr>\n",
       "      <th>0</th>\n",
       "      <td>mery</td>\n",
       "      <td>2.0</td>\n",
       "      <td>NaN</td>\n",
       "      <td>0</td>\n",
       "    </tr>\n",
       "    <tr>\n",
       "      <th>1</th>\n",
       "      <td>mery</td>\n",
       "      <td>4.0</td>\n",
       "      <td>NaN</td>\n",
       "      <td>1</td>\n",
       "    </tr>\n",
       "  </tbody>\n",
       "</table>\n",
       "</div>"
      ],
      "text/plain": [
       "      A    B   C  D\n",
       "2  lily  NaN NaN  5\n",
       "3  lily  3.0 NaN  4\n",
       "0  mery  2.0 NaN  0\n",
       "1  mery  4.0 NaN  1"
      ]
     },
     "execution_count": 9,
     "metadata": {},
     "output_type": "execute_result"
    }
   ],
   "source": [
    "df.sort_values('A', ascending=True)"
   ]
  },
  {
   "cell_type": "markdown",
   "metadata": {},
   "source": [
    "##### drop_duplicates相当于按照给定列名分组， keep='last'相当于把每个分组中last一行的数据保留\n",
    "    keep : {‘first’, ‘last’, False}, default ‘first’\n",
    "    first : Drop duplicates except for the first occurrence.\n",
    "    last : Drop duplicates except for the last occurrence.\n",
    "    False : Drop all duplicates."
   ]
  },
  {
   "cell_type": "code",
   "execution_count": 4,
   "metadata": {},
   "outputs": [
    {
     "data": {
      "text/html": [
       "<div>\n",
       "<style scoped>\n",
       "    .dataframe tbody tr th:only-of-type {\n",
       "        vertical-align: middle;\n",
       "    }\n",
       "\n",
       "    .dataframe tbody tr th {\n",
       "        vertical-align: top;\n",
       "    }\n",
       "\n",
       "    .dataframe thead th {\n",
       "        text-align: right;\n",
       "    }\n",
       "</style>\n",
       "<table border=\"1\" class=\"dataframe\">\n",
       "  <thead>\n",
       "    <tr style=\"text-align: right;\">\n",
       "      <th></th>\n",
       "      <th>A</th>\n",
       "      <th>B</th>\n",
       "      <th>C</th>\n",
       "      <th>D</th>\n",
       "    </tr>\n",
       "  </thead>\n",
       "  <tbody>\n",
       "    <tr>\n",
       "      <th>3</th>\n",
       "      <td>lily</td>\n",
       "      <td>3.0</td>\n",
       "      <td>NaN</td>\n",
       "      <td>4</td>\n",
       "    </tr>\n",
       "    <tr>\n",
       "      <th>1</th>\n",
       "      <td>mery</td>\n",
       "      <td>4.0</td>\n",
       "      <td>NaN</td>\n",
       "      <td>1</td>\n",
       "    </tr>\n",
       "  </tbody>\n",
       "</table>\n",
       "</div>"
      ],
      "text/plain": [
       "      A    B   C  D\n",
       "3  lily  3.0 NaN  4\n",
       "1  mery  4.0 NaN  1"
      ]
     },
     "execution_count": 4,
     "metadata": {},
     "output_type": "execute_result"
    }
   ],
   "source": [
    "df.sort_values('A', ascending=True).drop_duplicates(['A'], keep='last')"
   ]
  },
  {
   "cell_type": "code",
   "execution_count": 5,
   "metadata": {},
   "outputs": [
    {
     "data": {
      "text/html": [
       "<div>\n",
       "<style scoped>\n",
       "    .dataframe tbody tr th:only-of-type {\n",
       "        vertical-align: middle;\n",
       "    }\n",
       "\n",
       "    .dataframe tbody tr th {\n",
       "        vertical-align: top;\n",
       "    }\n",
       "\n",
       "    .dataframe thead th {\n",
       "        text-align: right;\n",
       "    }\n",
       "</style>\n",
       "<table border=\"1\" class=\"dataframe\">\n",
       "  <thead>\n",
       "    <tr style=\"text-align: right;\">\n",
       "      <th></th>\n",
       "      <th>A</th>\n",
       "      <th>B</th>\n",
       "      <th>C</th>\n",
       "      <th>D</th>\n",
       "    </tr>\n",
       "  </thead>\n",
       "  <tbody>\n",
       "    <tr>\n",
       "      <th>2</th>\n",
       "      <td>lily</td>\n",
       "      <td>NaN</td>\n",
       "      <td>NaN</td>\n",
       "      <td>5</td>\n",
       "    </tr>\n",
       "    <tr>\n",
       "      <th>0</th>\n",
       "      <td>mery</td>\n",
       "      <td>2.0</td>\n",
       "      <td>NaN</td>\n",
       "      <td>0</td>\n",
       "    </tr>\n",
       "  </tbody>\n",
       "</table>\n",
       "</div>"
      ],
      "text/plain": [
       "      A    B   C  D\n",
       "2  lily  NaN NaN  5\n",
       "0  mery  2.0 NaN  0"
      ]
     },
     "execution_count": 5,
     "metadata": {},
     "output_type": "execute_result"
    }
   ],
   "source": [
    "df.sort_values('A', ascending=True).drop_duplicates(['A'], keep='first')"
   ]
  },
  {
   "cell_type": "markdown",
   "metadata": {},
   "source": [
    "##### keep : {‘first’, ‘last’, False}, default ‘first’\n",
    "    first : Mark duplicates as True except for the first occurrence.\n",
    "    last : Mark duplicates as True except for the last occurrence.\n",
    "    False : Mark all duplicates as True."
   ]
  },
  {
   "cell_type": "code",
   "execution_count": 7,
   "metadata": {},
   "outputs": [
    {
     "data": {
      "text/plain": [
       "2    False\n",
       "3     True\n",
       "0    False\n",
       "1     True\n",
       "dtype: bool"
      ]
     },
     "execution_count": 7,
     "metadata": {},
     "output_type": "execute_result"
    }
   ],
   "source": [
    "df.sort_values('A', ascending=True).duplicated(['A'], keep='first')"
   ]
  },
  {
   "cell_type": "code",
   "execution_count": 8,
   "metadata": {},
   "outputs": [
    {
     "data": {
      "text/html": [
       "<div>\n",
       "<style scoped>\n",
       "    .dataframe tbody tr th:only-of-type {\n",
       "        vertical-align: middle;\n",
       "    }\n",
       "\n",
       "    .dataframe tbody tr th {\n",
       "        vertical-align: top;\n",
       "    }\n",
       "\n",
       "    .dataframe thead th {\n",
       "        text-align: right;\n",
       "    }\n",
       "</style>\n",
       "<table border=\"1\" class=\"dataframe\">\n",
       "  <thead>\n",
       "    <tr style=\"text-align: right;\">\n",
       "      <th></th>\n",
       "      <th>A</th>\n",
       "      <th>B</th>\n",
       "      <th>C</th>\n",
       "      <th>D</th>\n",
       "    </tr>\n",
       "  </thead>\n",
       "  <tbody>\n",
       "    <tr>\n",
       "      <th>1</th>\n",
       "      <td>mery</td>\n",
       "      <td>4.0</td>\n",
       "      <td>NaN</td>\n",
       "      <td>1</td>\n",
       "    </tr>\n",
       "    <tr>\n",
       "      <th>3</th>\n",
       "      <td>lily</td>\n",
       "      <td>3.0</td>\n",
       "      <td>NaN</td>\n",
       "      <td>4</td>\n",
       "    </tr>\n",
       "  </tbody>\n",
       "</table>\n",
       "</div>"
      ],
      "text/plain": [
       "      A    B   C  D\n",
       "1  mery  4.0 NaN  1\n",
       "3  lily  3.0 NaN  4"
      ]
     },
     "execution_count": 8,
     "metadata": {},
     "output_type": "execute_result"
    }
   ],
   "source": [
    "df[df.sort_values('A', ascending=True).duplicated(['A'], keep='first')]"
   ]
  },
  {
   "cell_type": "code",
   "execution_count": 6,
   "metadata": {},
   "outputs": [
    {
     "data": {
      "text/plain": [
       "0    False\n",
       "1     True\n",
       "2    False\n",
       "3     True\n",
       "dtype: bool"
      ]
     },
     "execution_count": 6,
     "metadata": {},
     "output_type": "execute_result"
    }
   ],
   "source": [
    "df.duplicated(\"A\", keep='first')"
   ]
  },
  {
   "cell_type": "code",
   "execution_count": 11,
   "metadata": {},
   "outputs": [],
   "source": [
    "df = pd.DataFrame([[\"mery\", 2, np.nan, 0],\n",
    "                  [\"mery\", 4, np.nan, 1],\n",
    "                    [\"lily\", np.nan, np.nan, 5],\n",
    "                    [\"lily\", 5, np.nan, 5],\n",
    "                    [\"lily\", 3, np.nan, 4]],\n",
    "                   columns=list('ABCD'))"
   ]
  },
  {
   "cell_type": "code",
   "execution_count": 13,
   "metadata": {},
   "outputs": [
    {
     "data": {
      "text/html": [
       "<div>\n",
       "<style scoped>\n",
       "    .dataframe tbody tr th:only-of-type {\n",
       "        vertical-align: middle;\n",
       "    }\n",
       "\n",
       "    .dataframe tbody tr th {\n",
       "        vertical-align: top;\n",
       "    }\n",
       "\n",
       "    .dataframe thead th {\n",
       "        text-align: right;\n",
       "    }\n",
       "</style>\n",
       "<table border=\"1\" class=\"dataframe\">\n",
       "  <thead>\n",
       "    <tr style=\"text-align: right;\">\n",
       "      <th></th>\n",
       "      <th>A</th>\n",
       "      <th>B</th>\n",
       "      <th>C</th>\n",
       "      <th>D</th>\n",
       "    </tr>\n",
       "  </thead>\n",
       "  <tbody>\n",
       "    <tr>\n",
       "      <th>2</th>\n",
       "      <td>lily</td>\n",
       "      <td>NaN</td>\n",
       "      <td>NaN</td>\n",
       "      <td>5</td>\n",
       "    </tr>\n",
       "    <tr>\n",
       "      <th>0</th>\n",
       "      <td>mery</td>\n",
       "      <td>2.0</td>\n",
       "      <td>NaN</td>\n",
       "      <td>0</td>\n",
       "    </tr>\n",
       "  </tbody>\n",
       "</table>\n",
       "</div>"
      ],
      "text/plain": [
       "      A    B   C  D\n",
       "2  lily  NaN NaN  5\n",
       "0  mery  2.0 NaN  0"
      ]
     },
     "execution_count": 13,
     "metadata": {},
     "output_type": "execute_result"
    }
   ],
   "source": [
    "df.sort_values('A', ascending=True).drop_duplicates(['A'], keep='first')"
   ]
  },
  {
   "cell_type": "code",
   "execution_count": 12,
   "metadata": {},
   "outputs": [
    {
     "data": {
      "text/html": [
       "<div>\n",
       "<style scoped>\n",
       "    .dataframe tbody tr th:only-of-type {\n",
       "        vertical-align: middle;\n",
       "    }\n",
       "\n",
       "    .dataframe tbody tr th {\n",
       "        vertical-align: top;\n",
       "    }\n",
       "\n",
       "    .dataframe thead th {\n",
       "        text-align: right;\n",
       "    }\n",
       "</style>\n",
       "<table border=\"1\" class=\"dataframe\">\n",
       "  <thead>\n",
       "    <tr style=\"text-align: right;\">\n",
       "      <th></th>\n",
       "      <th>A</th>\n",
       "      <th>B</th>\n",
       "      <th>C</th>\n",
       "      <th>D</th>\n",
       "    </tr>\n",
       "  </thead>\n",
       "  <tbody>\n",
       "    <tr>\n",
       "      <th>1</th>\n",
       "      <td>mery</td>\n",
       "      <td>4.0</td>\n",
       "      <td>NaN</td>\n",
       "      <td>1</td>\n",
       "    </tr>\n",
       "    <tr>\n",
       "      <th>3</th>\n",
       "      <td>lily</td>\n",
       "      <td>5.0</td>\n",
       "      <td>NaN</td>\n",
       "      <td>5</td>\n",
       "    </tr>\n",
       "    <tr>\n",
       "      <th>4</th>\n",
       "      <td>lily</td>\n",
       "      <td>3.0</td>\n",
       "      <td>NaN</td>\n",
       "      <td>4</td>\n",
       "    </tr>\n",
       "  </tbody>\n",
       "</table>\n",
       "</div>"
      ],
      "text/plain": [
       "      A    B   C  D\n",
       "1  mery  4.0 NaN  1\n",
       "3  lily  5.0 NaN  5\n",
       "4  lily  3.0 NaN  4"
      ]
     },
     "execution_count": 12,
     "metadata": {},
     "output_type": "execute_result"
    }
   ],
   "source": [
    "df[df.sort_values('A', ascending=True).duplicated(['A'], keep='first')]"
   ]
  },
  {
   "cell_type": "code",
   "execution_count": null,
   "metadata": {},
   "outputs": [],
   "source": []
  },
  {
   "cell_type": "markdown",
   "metadata": {},
   "source": [
    "### Vectorization \n",
    "https://datascience.blog.wzb.eu/2018/02/02/vectorization-and-parallelization-in-python-with-numpy-and-pandas/\n"
   ]
  },
  {
   "cell_type": "code",
   "execution_count": 39,
   "metadata": {},
   "outputs": [
    {
     "name": "stdout",
     "output_type": "stream",
     "text": [
      "1000 loops, best of 3: 944 µs per loop\n"
     ]
    }
   ],
   "source": [
    "%timeit  style['b'] = np.power(style['raw_X'], 2)  + np.power(style['raw_Y'],2)"
   ]
  },
  {
   "cell_type": "code",
   "execution_count": 38,
   "metadata": {},
   "outputs": [],
   "source": [
    "# np.sqrt(style['raw_X']) + np.sqrt(style['raw_Y'])"
   ]
  },
  {
   "cell_type": "code",
   "execution_count": 41,
   "metadata": {},
   "outputs": [],
   "source": [
    "# style"
   ]
  },
  {
   "cell_type": "code",
   "execution_count": 3,
   "metadata": {},
   "outputs": [],
   "source": [
    "# 保证SECURITY_ID_INT唯一\n",
    "style.drop_duplicates(['SECURITY_ID_INT'], inplace=True)"
   ]
  },
  {
   "cell_type": "code",
   "execution_count": 7,
   "metadata": {},
   "outputs": [
    {
     "name": "stdout",
     "output_type": "stream",
     "text": [
      "large <type 'str'>\n"
     ]
    }
   ],
   "source": [
    "# 取出SECURITY_ID_INT=1971的vertical值"
   ]
  },
  {
   "cell_type": "markdown",
   "metadata": {},
   "source": [
    "### 1"
   ]
  },
  {
   "cell_type": "code",
   "execution_count": null,
   "metadata": {},
   "outputs": [],
   "source": [
    "var = style.set_index('SECURITY_ID_INT').loc[1734, 'vertical']\n",
    "t = type(style.set_index('SECURITY_ID_INT').loc[1734, 'vertical'])\n",
    "print var, t"
   ]
  },
  {
   "cell_type": "markdown",
   "metadata": {},
   "source": [
    "### 2"
   ]
  },
  {
   "cell_type": "code",
   "execution_count": 8,
   "metadata": {},
   "outputs": [
    {
     "name": "stdout",
     "output_type": "stream",
     "text": [
      "0    large\n",
      "Name: vertical, dtype: object <class 'pandas.core.series.Series'>\n"
     ]
    }
   ],
   "source": [
    "var = style.loc[style['SECURITY_ID_INT']==1734, 'vertical']\n",
    "t = type(style.loc[style['SECURITY_ID_INT']==1734, 'vertical'])\n",
    "print var, t"
   ]
  },
  {
   "cell_type": "markdown",
   "metadata": {},
   "source": [
    "### 3"
   ]
  },
  {
   "cell_type": "code",
   "execution_count": 9,
   "metadata": {},
   "outputs": [
    {
     "name": "stdout",
     "output_type": "stream",
     "text": [
      "SECURITY_ID_INT        160\n",
      "raw_X              300.288\n",
      "raw_Y              63.1416\n",
      "vertical             small\n",
      "horizontal          growth\n",
      "Name: 1734, dtype: object <class 'pandas.core.series.Series'>\n"
     ]
    }
   ],
   "source": [
    "var = style.ix[1734]\n",
    "t = type(style.ix[1734])\n",
    "print var, t"
   ]
  },
  {
   "cell_type": "code",
   "execution_count": null,
   "metadata": {},
   "outputs": [],
   "source": [
    "\n",
    "# 内在优化 https://blog.csdn.net/qq_34739497/article/details/79600479"
   ]
  },
  {
   "cell_type": "markdown",
   "metadata": {},
   "source": [
    "# datetime"
   ]
  },
  {
   "cell_type": "code",
   "execution_count": 95,
   "metadata": {},
   "outputs": [],
   "source": [
    "import pandas as pd"
   ]
  },
  {
   "cell_type": "code",
   "execution_count": 18,
   "metadata": {},
   "outputs": [],
   "source": [
    "# https://stackoverflow.com/questions/16176996/keep-only-date-part-when-using-pandas-to-datetime\n",
    "# fiscal_pre['publish_date'] = fiscal_pre['publish_date'].dt.date\n"
   ]
  },
  {
   "cell_type": "code",
   "execution_count": 96,
   "metadata": {},
   "outputs": [],
   "source": [
    "datelist = pd.date_range(\"2019-01-01\", \"2019-01-05\")\n",
    "# datelist.reset_index()"
   ]
  },
  {
   "cell_type": "code",
   "execution_count": 97,
   "metadata": {},
   "outputs": [],
   "source": [
    "datelist = pd.DataFrame(pd.date_range(\"2019-01-01\", \"2019-01-05\"), columns=[\"date\"])\n",
    "# datelist.reset_index()"
   ]
  },
  {
   "cell_type": "code",
   "execution_count": 98,
   "metadata": {},
   "outputs": [
    {
     "data": {
      "text/html": [
       "<div>\n",
       "<style scoped>\n",
       "    .dataframe tbody tr th:only-of-type {\n",
       "        vertical-align: middle;\n",
       "    }\n",
       "\n",
       "    .dataframe tbody tr th {\n",
       "        vertical-align: top;\n",
       "    }\n",
       "\n",
       "    .dataframe thead th {\n",
       "        text-align: right;\n",
       "    }\n",
       "</style>\n",
       "<table border=\"1\" class=\"dataframe\">\n",
       "  <thead>\n",
       "    <tr style=\"text-align: right;\">\n",
       "      <th></th>\n",
       "      <th>date</th>\n",
       "    </tr>\n",
       "  </thead>\n",
       "  <tbody>\n",
       "    <tr>\n",
       "      <th>0</th>\n",
       "      <td>2019-01-01</td>\n",
       "    </tr>\n",
       "    <tr>\n",
       "      <th>1</th>\n",
       "      <td>2019-01-02</td>\n",
       "    </tr>\n",
       "    <tr>\n",
       "      <th>2</th>\n",
       "      <td>2019-01-03</td>\n",
       "    </tr>\n",
       "    <tr>\n",
       "      <th>3</th>\n",
       "      <td>2019-01-04</td>\n",
       "    </tr>\n",
       "    <tr>\n",
       "      <th>4</th>\n",
       "      <td>2019-01-05</td>\n",
       "    </tr>\n",
       "  </tbody>\n",
       "</table>\n",
       "</div>"
      ],
      "text/plain": [
       "        date\n",
       "0 2019-01-01\n",
       "1 2019-01-02\n",
       "2 2019-01-03\n",
       "3 2019-01-04\n",
       "4 2019-01-05"
      ]
     },
     "execution_count": 98,
     "metadata": {},
     "output_type": "execute_result"
    }
   ],
   "source": [
    "datelist.head()"
   ]
  },
  {
   "cell_type": "code",
   "execution_count": 99,
   "metadata": {},
   "outputs": [],
   "source": [
    "datelist['date'] = datelist['date'].dt.date"
   ]
  },
  {
   "cell_type": "code",
   "execution_count": 105,
   "metadata": {},
   "outputs": [],
   "source": [
    "# TODO change the time format\n",
    "datelist[\"date\"]=pd.to_datetime(datelist[\"date\"])\n",
    "datelist['date'] = datelist['date'].dt.strftime('%Y%m%d')#.info()"
   ]
  },
  {
   "cell_type": "code",
   "execution_count": 106,
   "metadata": {},
   "outputs": [
    {
     "data": {
      "text/html": [
       "<div>\n",
       "<style scoped>\n",
       "    .dataframe tbody tr th:only-of-type {\n",
       "        vertical-align: middle;\n",
       "    }\n",
       "\n",
       "    .dataframe tbody tr th {\n",
       "        vertical-align: top;\n",
       "    }\n",
       "\n",
       "    .dataframe thead th {\n",
       "        text-align: right;\n",
       "    }\n",
       "</style>\n",
       "<table border=\"1\" class=\"dataframe\">\n",
       "  <thead>\n",
       "    <tr style=\"text-align: right;\">\n",
       "      <th></th>\n",
       "      <th>date</th>\n",
       "    </tr>\n",
       "  </thead>\n",
       "  <tbody>\n",
       "    <tr>\n",
       "      <th>1</th>\n",
       "      <td>20190102</td>\n",
       "    </tr>\n",
       "  </tbody>\n",
       "</table>\n",
       "</div>"
      ],
      "text/plain": [
       "       date\n",
       "1  20190102"
      ]
     },
     "execution_count": 106,
     "metadata": {},
     "output_type": "execute_result"
    }
   ],
   "source": [
    "datelist[datelist.date=='20190102']#.info()"
   ]
  },
  {
   "cell_type": "code",
   "execution_count": 23,
   "metadata": {},
   "outputs": [],
   "source": [
    "df=pd.DataFrame([1568678400000],columns=['d'])"
   ]
  },
  {
   "cell_type": "code",
   "execution_count": 25,
   "metadata": {},
   "outputs": [],
   "source": [
    "df['d']=pd.to_datetime(df['d'])"
   ]
  },
  {
   "cell_type": "code",
   "execution_count": 26,
   "metadata": {},
   "outputs": [
    {
     "data": {
      "text/html": [
       "<div>\n",
       "<style scoped>\n",
       "    .dataframe tbody tr th:only-of-type {\n",
       "        vertical-align: middle;\n",
       "    }\n",
       "\n",
       "    .dataframe tbody tr th {\n",
       "        vertical-align: top;\n",
       "    }\n",
       "\n",
       "    .dataframe thead th {\n",
       "        text-align: right;\n",
       "    }\n",
       "</style>\n",
       "<table border=\"1\" class=\"dataframe\">\n",
       "  <thead>\n",
       "    <tr style=\"text-align: right;\">\n",
       "      <th></th>\n",
       "      <th>d</th>\n",
       "    </tr>\n",
       "  </thead>\n",
       "  <tbody>\n",
       "    <tr>\n",
       "      <th>0</th>\n",
       "      <td>1970-01-01 00:26:08.678400</td>\n",
       "    </tr>\n",
       "  </tbody>\n",
       "</table>\n",
       "</div>"
      ],
      "text/plain": [
       "                           d\n",
       "0 1970-01-01 00:26:08.678400"
      ]
     },
     "execution_count": 26,
     "metadata": {},
     "output_type": "execute_result"
    }
   ],
   "source": [
    "df"
   ]
  },
  {
   "cell_type": "code",
   "execution_count": 109,
   "metadata": {},
   "outputs": [
    {
     "name": "stdout",
     "output_type": "stream",
     "text": [
      "<class 'pandas.core.frame.DataFrame'>\n",
      "RangeIndex: 5 entries, 0 to 4\n",
      "Data columns (total 1 columns):\n",
      "date    5 non-null object\n",
      "dtypes: object(1)\n",
      "memory usage: 112.0+ bytes\n"
     ]
    }
   ],
   "source": [
    "datelist.info()"
   ]
  },
  {
   "cell_type": "code",
   "execution_count": 121,
   "metadata": {},
   "outputs": [
    {
     "name": "stdout",
     "output_type": "stream",
     "text": [
      "<class 'pandas.core.frame.DataFrame'>\n",
      "RangeIndex: 5 entries, 0 to 4\n",
      "Data columns (total 1 columns):\n",
      "date    5 non-null datetime64[ns]\n",
      "dtypes: datetime64[ns](1)\n",
      "memory usage: 112.0 bytes\n"
     ]
    }
   ],
   "source": [
    "pd.to_datetime(datelist[\"date\"]).to_frame().info()"
   ]
  },
  {
   "cell_type": "code",
   "execution_count": 122,
   "metadata": {},
   "outputs": [
    {
     "data": {
      "text/plain": [
       "pandas.core.frame.DataFrame"
      ]
     },
     "execution_count": 122,
     "metadata": {},
     "output_type": "execute_result"
    }
   ],
   "source": [
    "\n",
    "# result.loc[:, 'tdate'] = pd.to_datetime(result['tdate'])\n",
    "# result.loc[:, 'tdate'] = result['tdate'].dt.strftime('%Y%m%d')\n",
    "df = pd.to_datetime(datelist[\"date\"]).to_frame()\n",
    "df\n",
    "type(df)"
   ]
  },
  {
   "cell_type": "markdown",
   "metadata": {},
   "source": [
    "### timestamp \n",
    "https://pandas.pydata.org/pandas-docs/stable/reference/api/pandas.Timestamp.html\n",
    "convert timestamp to datetime"
   ]
  },
  {
   "cell_type": "markdown",
   "metadata": {},
   "source": [
    "### 科学计数法\n",
    "通过观察当电话号码类型是float时采用科学计数法，而int不会"
   ]
  },
  {
   "cell_type": "code",
   "execution_count": null,
   "metadata": {},
   "outputs": [],
   "source": [
    "curday['processTime'] = curday['processTime'].astype(int)\n",
    "curday['processTime'] = curday['processTime'].apply(lambda x: pd.Timestamp(x, unit='s'))"
   ]
  },
  {
   "cell_type": "markdown",
   "metadata": {},
   "source": [
    "### .astype"
   ]
  },
  {
   "cell_type": "code",
   "execution_count": null,
   "metadata": {},
   "outputs": [],
   "source": []
  },
  {
   "cell_type": "code",
   "execution_count": 123,
   "metadata": {},
   "outputs": [],
   "source": [
    "df[\"date\"] = df[\"date\"].astype(str)"
   ]
  },
  {
   "cell_type": "code",
   "execution_count": 124,
   "metadata": {},
   "outputs": [
    {
     "name": "stdout",
     "output_type": "stream",
     "text": [
      "<class 'pandas.core.frame.DataFrame'>\n",
      "RangeIndex: 5 entries, 0 to 4\n",
      "Data columns (total 1 columns):\n",
      "date    5 non-null object\n",
      "dtypes: object(1)\n",
      "memory usage: 112.0+ bytes\n"
     ]
    }
   ],
   "source": [
    "df.info()"
   ]
  },
  {
   "cell_type": "code",
   "execution_count": 126,
   "metadata": {},
   "outputs": [
    {
     "data": {
      "text/html": [
       "<div>\n",
       "<style scoped>\n",
       "    .dataframe tbody tr th:only-of-type {\n",
       "        vertical-align: middle;\n",
       "    }\n",
       "\n",
       "    .dataframe tbody tr th {\n",
       "        vertical-align: top;\n",
       "    }\n",
       "\n",
       "    .dataframe thead th {\n",
       "        text-align: right;\n",
       "    }\n",
       "</style>\n",
       "<table border=\"1\" class=\"dataframe\">\n",
       "  <thead>\n",
       "    <tr style=\"text-align: right;\">\n",
       "      <th></th>\n",
       "      <th>date</th>\n",
       "    </tr>\n",
       "  </thead>\n",
       "  <tbody>\n",
       "    <tr>\n",
       "      <th>0</th>\n",
       "      <td>2019-01-01</td>\n",
       "    </tr>\n",
       "  </tbody>\n",
       "</table>\n",
       "</div>"
      ],
      "text/plain": [
       "         date\n",
       "0  2019-01-01"
      ]
     },
     "execution_count": 126,
     "metadata": {},
     "output_type": "execute_result"
    }
   ],
   "source": [
    "df[df.date=='2019-01-01']"
   ]
  },
  {
   "cell_type": "code",
   "execution_count": 26,
   "metadata": {},
   "outputs": [
    {
     "data": {
      "text/html": [
       "<div>\n",
       "<style scoped>\n",
       "    .dataframe tbody tr th:only-of-type {\n",
       "        vertical-align: middle;\n",
       "    }\n",
       "\n",
       "    .dataframe tbody tr th {\n",
       "        vertical-align: top;\n",
       "    }\n",
       "\n",
       "    .dataframe thead th {\n",
       "        text-align: right;\n",
       "    }\n",
       "</style>\n",
       "<table border=\"1\" class=\"dataframe\">\n",
       "  <thead>\n",
       "    <tr style=\"text-align: right;\">\n",
       "      <th></th>\n",
       "      <th>date</th>\n",
       "    </tr>\n",
       "  </thead>\n",
       "  <tbody>\n",
       "    <tr>\n",
       "      <th>0</th>\n",
       "      <td>2019-01-01</td>\n",
       "    </tr>\n",
       "    <tr>\n",
       "      <th>1</th>\n",
       "      <td>2019-01-02</td>\n",
       "    </tr>\n",
       "    <tr>\n",
       "      <th>2</th>\n",
       "      <td>2019-01-03</td>\n",
       "    </tr>\n",
       "    <tr>\n",
       "      <th>3</th>\n",
       "      <td>2019-01-04</td>\n",
       "    </tr>\n",
       "    <tr>\n",
       "      <th>4</th>\n",
       "      <td>2019-01-05</td>\n",
       "    </tr>\n",
       "  </tbody>\n",
       "</table>\n",
       "</div>"
      ],
      "text/plain": [
       "         date\n",
       "0  2019-01-01\n",
       "1  2019-01-02\n",
       "2  2019-01-03\n",
       "3  2019-01-04\n",
       "4  2019-01-05"
      ]
     },
     "execution_count": 26,
     "metadata": {},
     "output_type": "execute_result"
    }
   ],
   "source": [
    "datelist.astype(str)"
   ]
  },
  {
   "cell_type": "markdown",
   "metadata": {},
   "source": [
    "### or"
   ]
  },
  {
   "cell_type": "code",
   "execution_count": 7,
   "metadata": {},
   "outputs": [
    {
     "data": {
      "text/plain": [
       "datetime.date(2019, 1, 1)"
      ]
     },
     "execution_count": 7,
     "metadata": {},
     "output_type": "execute_result"
    }
   ],
   "source": [
    "pd.to_datetime('2019-01-01').date()"
   ]
  },
  {
   "cell_type": "code",
   "execution_count": 4,
   "metadata": {},
   "outputs": [
    {
     "data": {
      "text/plain": [
       "Timestamp('2019-03-08 00:00:00')"
      ]
     },
     "execution_count": 4,
     "metadata": {},
     "output_type": "execute_result"
    }
   ],
   "source": [
    "pd.to_datetime(pd.datetime.today().date())"
   ]
  },
  {
   "cell_type": "code",
   "execution_count": 5,
   "metadata": {},
   "outputs": [
    {
     "data": {
      "text/plain": [
       "Timestamp('2019-02-28 00:00:00')"
      ]
     },
     "execution_count": 5,
     "metadata": {},
     "output_type": "execute_result"
    }
   ],
   "source": [
    "pd.to_datetime('2019-02-28')"
   ]
  },
  {
   "cell_type": "code",
   "execution_count": null,
   "metadata": {},
   "outputs": [],
   "source": [
    "df_trade_cal = df_trade_cal[df_trade_cal[\"TRADE_DATE\"]>=pd.to_datetime('2013').date()]"
   ]
  },
  {
   "cell_type": "markdown",
   "metadata": {},
   "source": [
    "### Return a fixed frequency DatetimeIndex.\n",
    "https://pandas.pydata.org/pandas-docs/stable/reference/api/pandas.date_range.html"
   ]
  },
  {
   "cell_type": "code",
   "execution_count": 15,
   "metadata": {},
   "outputs": [
    {
     "data": {
      "text/plain": [
       "DatetimeIndex(['2019-01-01', '2019-01-02', '2019-01-03', '2019-01-04',\n",
       "               '2019-01-05', '2019-01-06', '2019-01-07', '2019-01-08',\n",
       "               '2019-01-09', '2019-01-10', '2019-01-11', '2019-01-12',\n",
       "               '2019-01-13', '2019-01-14', '2019-01-15', '2019-01-16',\n",
       "               '2019-01-17', '2019-01-18', '2019-01-19', '2019-01-20',\n",
       "               '2019-01-21', '2019-01-22', '2019-01-23', '2019-01-24',\n",
       "               '2019-01-25', '2019-01-26', '2019-01-27', '2019-01-28',\n",
       "               '2019-01-29', '2019-01-30', '2019-01-31', '2019-02-01',\n",
       "               '2019-02-02', '2019-02-03', '2019-02-04', '2019-02-05',\n",
       "               '2019-02-06', '2019-02-07', '2019-02-08', '2019-02-09',\n",
       "               '2019-02-10', '2019-02-11', '2019-02-12', '2019-02-13',\n",
       "               '2019-02-14', '2019-02-15', '2019-02-16', '2019-02-17',\n",
       "               '2019-02-18', '2019-02-19', '2019-02-20', '2019-02-21',\n",
       "               '2019-02-22', '2019-02-23', '2019-02-24', '2019-02-25',\n",
       "               '2019-02-26', '2019-02-27', '2019-02-28', '2019-03-01'],\n",
       "              dtype='datetime64[ns]', freq='D')"
      ]
     },
     "execution_count": 15,
     "metadata": {},
     "output_type": "execute_result"
    }
   ],
   "source": [
    "\n",
    "# dates = pd.date_range('1/1/2000', periods=8)\n",
    "# dates\n",
    "\n",
    "pd.date_range(start='2019-01-01', end='2019-03-01')\n"
   ]
  },
  {
   "cell_type": "markdown",
   "metadata": {},
   "source": [
    "### to concatenate all the column values into a single string\n",
    "https://stackoverflow.com/questions/39291499/how-to-concatenate-multiple-column-values-into-a-single-column-in-panda-datafram"
   ]
  },
  {
   "cell_type": "markdown",
   "metadata": {},
   "source": [
    "### To accept the future behavior, pass 'sort=False'.To retain the current behavior and silence the warning, pass 'sort=True'."
   ]
  },
  {
   "cell_type": "code",
   "execution_count": null,
   "metadata": {},
   "outputs": [],
   "source": [
    "TODO"
   ]
  },
  {
   "cell_type": "markdown",
   "metadata": {},
   "source": [
    "### https://stackoverflow.com/questions/18548370/pandas-can-only-compare-identically-labeled-dataframe-objects-error"
   ]
  },
  {
   "cell_type": "code",
   "execution_count": null,
   "metadata": {},
   "outputs": [],
   "source": [
    "# can only concat with index \n",
    "# https://stackoverflow.com/questions/18548370/pandas-can-only-compare-identically-labeled-dataframe-objects-error"
   ]
  },
  {
   "cell_type": "code",
   "execution_count": null,
   "metadata": {},
   "outputs": [],
   "source": [
    "df['ETL_CRC'] = df.apply(lambda row: crc32(''.join(row.values.astype(str))), axis=1)"
   ]
  },
  {
   "cell_type": "code",
   "execution_count": null,
   "metadata": {},
   "outputs": [],
   "source": []
  },
  {
   "cell_type": "code",
   "execution_count": 3,
   "metadata": {},
   "outputs": [
    {
     "data": {
      "text/html": [
       "<div>\n",
       "<style scoped>\n",
       "    .dataframe tbody tr th:only-of-type {\n",
       "        vertical-align: middle;\n",
       "    }\n",
       "\n",
       "    .dataframe tbody tr th {\n",
       "        vertical-align: top;\n",
       "    }\n",
       "\n",
       "    .dataframe thead th {\n",
       "        text-align: right;\n",
       "    }\n",
       "</style>\n",
       "<table border=\"1\" class=\"dataframe\">\n",
       "  <thead>\n",
       "    <tr style=\"text-align: right;\">\n",
       "      <th></th>\n",
       "      <th>id</th>\n",
       "      <th>name</th>\n",
       "      <th>val</th>\n",
       "    </tr>\n",
       "  </thead>\n",
       "  <tbody>\n",
       "    <tr>\n",
       "      <th>0</th>\n",
       "      <td>1</td>\n",
       "      <td>a</td>\n",
       "      <td>11</td>\n",
       "    </tr>\n",
       "    <tr>\n",
       "      <th>1</th>\n",
       "      <td>2</td>\n",
       "      <td>b</td>\n",
       "      <td>22</td>\n",
       "    </tr>\n",
       "    <tr>\n",
       "      <th>2</th>\n",
       "      <td>3</td>\n",
       "      <td>c</td>\n",
       "      <td>33</td>\n",
       "    </tr>\n",
       "  </tbody>\n",
       "</table>\n",
       "</div>"
      ],
      "text/plain": [
       "   id name  val\n",
       "0   1    a   11\n",
       "1   2    b   22\n",
       "2   3    c   33"
      ]
     },
     "execution_count": 3,
     "metadata": {},
     "output_type": "execute_result"
    }
   ],
   "source": [
    "df = pd.DataFrame({'id': [1, 2, 3],\n",
    "                   'name': ['a', 'b', 'c'],\n",
    "                    'val': [11,22,33]})\n",
    "df"
   ]
  },
  {
   "cell_type": "code",
   "execution_count": 9,
   "metadata": {},
   "outputs": [
    {
     "data": {
      "text/html": [
       "<div>\n",
       "<style scoped>\n",
       "    .dataframe tbody tr th:only-of-type {\n",
       "        vertical-align: middle;\n",
       "    }\n",
       "\n",
       "    .dataframe tbody tr th {\n",
       "        vertical-align: top;\n",
       "    }\n",
       "\n",
       "    .dataframe thead th {\n",
       "        text-align: right;\n",
       "    }\n",
       "</style>\n",
       "<table border=\"1\" class=\"dataframe\">\n",
       "  <thead>\n",
       "    <tr style=\"text-align: right;\">\n",
       "      <th></th>\n",
       "      <th>id</th>\n",
       "      <th>name</th>\n",
       "      <th>val</th>\n",
       "    </tr>\n",
       "  </thead>\n",
       "  <tbody>\n",
       "    <tr>\n",
       "      <th>0</th>\n",
       "      <td>1</td>\n",
       "      <td>a</td>\n",
       "      <td>11</td>\n",
       "    </tr>\n",
       "    <tr>\n",
       "      <th>1</th>\n",
       "      <td>2</td>\n",
       "      <td>b</td>\n",
       "      <td>22</td>\n",
       "    </tr>\n",
       "    <tr>\n",
       "      <th>2</th>\n",
       "      <td>3</td>\n",
       "      <td>c</td>\n",
       "      <td>33</td>\n",
       "    </tr>\n",
       "  </tbody>\n",
       "</table>\n",
       "</div>"
      ],
      "text/plain": [
       "   id name  val\n",
       "0   1    a   11\n",
       "1   2    b   22\n",
       "2   3    c   33"
      ]
     },
     "execution_count": 9,
     "metadata": {},
     "output_type": "execute_result"
    }
   ],
   "source": [
    "df_c = pd.DataFrame({'id': [1,2,3],\n",
    "                   'name': ['a', 'b', 'c'],\n",
    "                    'val': [11,22,33]})\n",
    "df_c"
   ]
  },
  {
   "cell_type": "markdown",
   "metadata": {},
   "source": [
    "### .sort()"
   ]
  },
  {
   "cell_type": "code",
   "execution_count": null,
   "metadata": {},
   "outputs": [],
   "source": [
    "\n",
    "groupdf.sort_values('timeflag', ascending=False)"
   ]
  },
  {
   "cell_type": "code",
   "execution_count": 13,
   "metadata": {},
   "outputs": [
    {
     "ename": "ValueError",
     "evalue": "The truth value of an array with more than one element is ambiguous. Use a.any() or a.all()",
     "output_type": "error",
     "traceback": [
      "\u001b[1;31m---------------------------------------------------------------------------\u001b[0m",
      "\u001b[1;31mValueError\u001b[0m                                Traceback (most recent call last)",
      "\u001b[1;32m<ipython-input-13-f2d7f1b91d7a>\u001b[0m in \u001b[0;36m<module>\u001b[1;34m()\u001b[0m\n\u001b[0;32m      1\u001b[0m \u001b[1;31m# df.merge(df_c, on=['name'])\u001b[0m\u001b[1;33m\u001b[0m\u001b[1;33m\u001b[0m\u001b[0m\n\u001b[0;32m      2\u001b[0m \u001b[1;33m\u001b[0m\u001b[0m\n\u001b[1;32m----> 3\u001b[1;33m \u001b[0mpd\u001b[0m\u001b[1;33m.\u001b[0m\u001b[0mmerge\u001b[0m\u001b[1;33m(\u001b[0m\u001b[0mdf\u001b[0m\u001b[1;33m,\u001b[0m\u001b[0mdf_c\u001b[0m\u001b[1;33m,\u001b[0m\u001b[0mhow\u001b[0m\u001b[1;33m=\u001b[0m\u001b[1;34m'outer'\u001b[0m\u001b[1;33m,\u001b[0m\u001b[0mindicator\u001b[0m\u001b[1;33m=\u001b[0m\u001b[0mTrue\u001b[0m\u001b[1;33m,\u001b[0m \u001b[0mon\u001b[0m\u001b[1;33m=\u001b[0m\u001b[0mdf\u001b[0m\u001b[1;33m.\u001b[0m\u001b[0mcolumns\u001b[0m\u001b[1;33m)\u001b[0m\u001b[1;31m#.query('_merge==\"both\"').drop(\"_merge\", axis=1)\u001b[0m\u001b[1;33m\u001b[0m\u001b[0m\n\u001b[0m",
      "\u001b[1;32mc:\\python27\\lib\\site-packages\\pandas\\core\\reshape\\merge.pyc\u001b[0m in \u001b[0;36mmerge\u001b[1;34m(left, right, how, on, left_on, right_on, left_index, right_index, sort, suffixes, copy, indicator, validate)\u001b[0m\n\u001b[0;32m     55\u001b[0m                          \u001b[0mright_index\u001b[0m\u001b[1;33m=\u001b[0m\u001b[0mright_index\u001b[0m\u001b[1;33m,\u001b[0m \u001b[0msort\u001b[0m\u001b[1;33m=\u001b[0m\u001b[0msort\u001b[0m\u001b[1;33m,\u001b[0m \u001b[0msuffixes\u001b[0m\u001b[1;33m=\u001b[0m\u001b[0msuffixes\u001b[0m\u001b[1;33m,\u001b[0m\u001b[1;33m\u001b[0m\u001b[0m\n\u001b[0;32m     56\u001b[0m                          \u001b[0mcopy\u001b[0m\u001b[1;33m=\u001b[0m\u001b[0mcopy\u001b[0m\u001b[1;33m,\u001b[0m \u001b[0mindicator\u001b[0m\u001b[1;33m=\u001b[0m\u001b[0mindicator\u001b[0m\u001b[1;33m,\u001b[0m\u001b[1;33m\u001b[0m\u001b[0m\n\u001b[1;32m---> 57\u001b[1;33m                          validate=validate)\n\u001b[0m\u001b[0;32m     58\u001b[0m     \u001b[1;32mreturn\u001b[0m \u001b[0mop\u001b[0m\u001b[1;33m.\u001b[0m\u001b[0mget_result\u001b[0m\u001b[1;33m(\u001b[0m\u001b[1;33m)\u001b[0m\u001b[1;33m\u001b[0m\u001b[0m\n\u001b[0;32m     59\u001b[0m \u001b[1;33m\u001b[0m\u001b[0m\n",
      "\u001b[1;32mc:\\python27\\lib\\site-packages\\pandas\\core\\reshape\\merge.pyc\u001b[0m in \u001b[0;36m__init__\u001b[1;34m(self, left, right, how, on, left_on, right_on, axis, left_index, right_index, sort, suffixes, copy, indicator, validate)\u001b[0m\n\u001b[0;32m    563\u001b[0m         (self.left_join_keys,\n\u001b[0;32m    564\u001b[0m          \u001b[0mself\u001b[0m\u001b[1;33m.\u001b[0m\u001b[0mright_join_keys\u001b[0m\u001b[1;33m,\u001b[0m\u001b[1;33m\u001b[0m\u001b[0m\n\u001b[1;32m--> 565\u001b[1;33m          self.join_names) = self._get_merge_keys()\n\u001b[0m\u001b[0;32m    566\u001b[0m \u001b[1;33m\u001b[0m\u001b[0m\n\u001b[0;32m    567\u001b[0m         \u001b[1;31m# validate the merge keys dtypes. We may need to coerce\u001b[0m\u001b[1;33m\u001b[0m\u001b[1;33m\u001b[0m\u001b[0m\n",
      "\u001b[1;32mc:\\python27\\lib\\site-packages\\pandas\\core\\reshape\\merge.pyc\u001b[0m in \u001b[0;36m_get_merge_keys\u001b[1;34m(self)\u001b[0m\n\u001b[0;32m    826\u001b[0m                             \u001b[1;31m# work-around for merge_asof(right_index=True)\u001b[0m\u001b[1;33m\u001b[0m\u001b[1;33m\u001b[0m\u001b[0m\n\u001b[0;32m    827\u001b[0m                             \u001b[0mright_keys\u001b[0m\u001b[1;33m.\u001b[0m\u001b[0mappend\u001b[0m\u001b[1;33m(\u001b[0m\u001b[0mright\u001b[0m\u001b[1;33m.\u001b[0m\u001b[0mindex\u001b[0m\u001b[1;33m)\u001b[0m\u001b[1;33m\u001b[0m\u001b[0m\n\u001b[1;32m--> 828\u001b[1;33m                         \u001b[1;32mif\u001b[0m \u001b[0mlk\u001b[0m \u001b[1;32mis\u001b[0m \u001b[1;32mnot\u001b[0m \u001b[0mNone\u001b[0m \u001b[1;32mand\u001b[0m \u001b[0mlk\u001b[0m \u001b[1;33m==\u001b[0m \u001b[0mrk\u001b[0m\u001b[1;33m:\u001b[0m\u001b[1;33m\u001b[0m\u001b[0m\n\u001b[0m\u001b[0;32m    829\u001b[0m                             \u001b[1;31m# avoid key upcast in corner case (length-0)\u001b[0m\u001b[1;33m\u001b[0m\u001b[1;33m\u001b[0m\u001b[0m\n\u001b[0;32m    830\u001b[0m                             \u001b[1;32mif\u001b[0m \u001b[0mlen\u001b[0m\u001b[1;33m(\u001b[0m\u001b[0mleft\u001b[0m\u001b[1;33m)\u001b[0m \u001b[1;33m>\u001b[0m \u001b[1;36m0\u001b[0m\u001b[1;33m:\u001b[0m\u001b[1;33m\u001b[0m\u001b[0m\n",
      "\u001b[1;31mValueError\u001b[0m: The truth value of an array with more than one element is ambiguous. Use a.any() or a.all()"
     ]
    }
   ],
   "source": [
    "# df.merge(df_c, on=['name'])\n",
    "datasetdf['match'] = np.where(datasetdf.crc == cacheddf.crc, True, False)\n",
    "\n",
    "\n",
    "# pd.merge(df,df_c,how='outer',indicator=True, on=df.columns)#.query('_merge==\"both\"').drop(\"_merge\", axis=1)"
   ]
  },
  {
   "cell_type": "code",
   "execution_count": 10,
   "metadata": {},
   "outputs": [
    {
     "data": {
      "text/html": [
       "<div>\n",
       "<style scoped>\n",
       "    .dataframe tbody tr th:only-of-type {\n",
       "        vertical-align: middle;\n",
       "    }\n",
       "\n",
       "    .dataframe tbody tr th {\n",
       "        vertical-align: top;\n",
       "    }\n",
       "\n",
       "    .dataframe thead th {\n",
       "        text-align: right;\n",
       "    }\n",
       "</style>\n",
       "<table border=\"1\" class=\"dataframe\">\n",
       "  <thead>\n",
       "    <tr style=\"text-align: right;\">\n",
       "      <th></th>\n",
       "      <th>id</th>\n",
       "      <th>name_x</th>\n",
       "      <th>val_x</th>\n",
       "      <th>name_y</th>\n",
       "      <th>val_y</th>\n",
       "    </tr>\n",
       "  </thead>\n",
       "  <tbody>\n",
       "    <tr>\n",
       "      <th>0</th>\n",
       "      <td>1</td>\n",
       "      <td>a</td>\n",
       "      <td>11</td>\n",
       "      <td>a</td>\n",
       "      <td>11</td>\n",
       "    </tr>\n",
       "    <tr>\n",
       "      <th>1</th>\n",
       "      <td>2</td>\n",
       "      <td>b</td>\n",
       "      <td>22</td>\n",
       "      <td>b</td>\n",
       "      <td>22</td>\n",
       "    </tr>\n",
       "    <tr>\n",
       "      <th>2</th>\n",
       "      <td>3</td>\n",
       "      <td>c</td>\n",
       "      <td>33</td>\n",
       "      <td>c</td>\n",
       "      <td>33</td>\n",
       "    </tr>\n",
       "  </tbody>\n",
       "</table>\n",
       "</div>"
      ],
      "text/plain": [
       "   id name_x  val_x name_y  val_y\n",
       "0   1      a     11      a     11\n",
       "1   2      b     22      b     22\n",
       "2   3      c     33      c     33"
      ]
     },
     "execution_count": 10,
     "metadata": {},
     "output_type": "execute_result"
    }
   ],
   "source": [
    "# df.merge(df_c, on=['name'])\n",
    "pd.merge(df,df_c,how='outer',indicator=True, on=['id']).query('_merge==\"both\"').drop(\"_merge\", axis=1)"
   ]
  },
  {
   "cell_type": "code",
   "execution_count": 14,
   "metadata": {},
   "outputs": [
    {
     "data": {
      "text/html": [
       "<div>\n",
       "<style scoped>\n",
       "    .dataframe tbody tr th:only-of-type {\n",
       "        vertical-align: middle;\n",
       "    }\n",
       "\n",
       "    .dataframe tbody tr th {\n",
       "        vertical-align: top;\n",
       "    }\n",
       "\n",
       "    .dataframe thead th {\n",
       "        text-align: right;\n",
       "    }\n",
       "</style>\n",
       "<table border=\"1\" class=\"dataframe\">\n",
       "  <thead>\n",
       "    <tr style=\"text-align: right;\">\n",
       "      <th></th>\n",
       "      <th>id</th>\n",
       "      <th>name</th>\n",
       "      <th>id_c</th>\n",
       "    </tr>\n",
       "  </thead>\n",
       "  <tbody>\n",
       "    <tr>\n",
       "      <th>0</th>\n",
       "      <td>1</td>\n",
       "      <td>a</td>\n",
       "      <td>4.0</td>\n",
       "    </tr>\n",
       "    <tr>\n",
       "      <th>1</th>\n",
       "      <td>1</td>\n",
       "      <td>a</td>\n",
       "      <td>1.0</td>\n",
       "    </tr>\n",
       "    <tr>\n",
       "      <th>2</th>\n",
       "      <td>2</td>\n",
       "      <td>b</td>\n",
       "      <td>NaN</td>\n",
       "    </tr>\n",
       "    <tr>\n",
       "      <th>3</th>\n",
       "      <td>3</td>\n",
       "      <td>c</td>\n",
       "      <td>NaN</td>\n",
       "    </tr>\n",
       "  </tbody>\n",
       "</table>\n",
       "</div>"
      ],
      "text/plain": [
       "   id name  id_c\n",
       "0   1    a   4.0\n",
       "1   1    a   1.0\n",
       "2   2    b   NaN\n",
       "3   3    c   NaN"
      ]
     },
     "execution_count": 14,
     "metadata": {},
     "output_type": "execute_result"
    }
   ],
   "source": [
    "df.merge(df_c, how='left', on=['name'])"
   ]
  },
  {
   "cell_type": "markdown",
   "metadata": {},
   "source": [
    "###### 2018-08-23 "
   ]
  },
  {
   "cell_type": "code",
   "execution_count": 23,
   "metadata": {},
   "outputs": [
    {
     "data": {
      "text/html": [
       "<div>\n",
       "<style scoped>\n",
       "    .dataframe tbody tr th:only-of-type {\n",
       "        vertical-align: middle;\n",
       "    }\n",
       "\n",
       "    .dataframe tbody tr th {\n",
       "        vertical-align: top;\n",
       "    }\n",
       "\n",
       "    .dataframe thead th {\n",
       "        text-align: right;\n",
       "    }\n",
       "</style>\n",
       "<table border=\"1\" class=\"dataframe\">\n",
       "  <thead>\n",
       "    <tr style=\"text-align: right;\">\n",
       "      <th></th>\n",
       "      <th>id</th>\n",
       "      <th>name</th>\n",
       "    </tr>\n",
       "  </thead>\n",
       "  <tbody>\n",
       "    <tr>\n",
       "      <th>1</th>\n",
       "      <td>2</td>\n",
       "      <td>b</td>\n",
       "    </tr>\n",
       "  </tbody>\n",
       "</table>\n",
       "</div>"
      ],
      "text/plain": [
       "   id name\n",
       "1   2    b"
      ]
     },
     "execution_count": 23,
     "metadata": {},
     "output_type": "execute_result"
    }
   ],
   "source": [
    "df[(df.id==2) & (df.name=='b')]"
   ]
  },
  {
   "cell_type": "code",
   "execution_count": 27,
   "metadata": {},
   "outputs": [
    {
     "data": {
      "text/html": [
       "<div>\n",
       "<style scoped>\n",
       "    .dataframe tbody tr th:only-of-type {\n",
       "        vertical-align: middle;\n",
       "    }\n",
       "\n",
       "    .dataframe tbody tr th {\n",
       "        vertical-align: top;\n",
       "    }\n",
       "\n",
       "    .dataframe thead th {\n",
       "        text-align: right;\n",
       "    }\n",
       "</style>\n",
       "<table border=\"1\" class=\"dataframe\">\n",
       "  <thead>\n",
       "    <tr style=\"text-align: right;\">\n",
       "      <th></th>\n",
       "      <th>id_x</th>\n",
       "      <th>name</th>\n",
       "      <th>amount</th>\n",
       "      <th>id_y</th>\n",
       "    </tr>\n",
       "  </thead>\n",
       "  <tbody>\n",
       "    <tr>\n",
       "      <th>0</th>\n",
       "      <td>1</td>\n",
       "      <td>a</td>\n",
       "      <td>1.2</td>\n",
       "      <td>1</td>\n",
       "    </tr>\n",
       "    <tr>\n",
       "      <th>1</th>\n",
       "      <td>2</td>\n",
       "      <td>b</td>\n",
       "      <td>1.1</td>\n",
       "      <td>2</td>\n",
       "    </tr>\n",
       "    <tr>\n",
       "      <th>2</th>\n",
       "      <td>3</td>\n",
       "      <td>c</td>\n",
       "      <td>1.1</td>\n",
       "      <td>3</td>\n",
       "    </tr>\n",
       "  </tbody>\n",
       "</table>\n",
       "</div>"
      ],
      "text/plain": [
       "   id_x name  amount  id_y\n",
       "0     1    a     1.2     1\n",
       "1     2    b     1.1     2\n",
       "2     3    c     1.1     3"
      ]
     },
     "execution_count": 27,
     "metadata": {},
     "output_type": "execute_result"
    }
   ],
   "source": [
    "df['amount']=1.1\n",
    "df\n",
    "dfc=df\n",
    "dfc.loc[0, 'amount'] = 1.2\n",
    "dfc\n",
    "df.merge(dfc, how='left', on=['name', 'amount'])"
   ]
  },
  {
   "cell_type": "code",
   "execution_count": 34,
   "metadata": {},
   "outputs": [
    {
     "ename": "AttributeError",
     "evalue": "'module' object has no attribute 'DateFrame'",
     "output_type": "error",
     "traceback": [
      "\u001b[1;31m---------------------------------------------------------------------------\u001b[0m",
      "\u001b[1;31mAttributeError\u001b[0m                            Traceback (most recent call last)",
      "\u001b[1;32m<ipython-input-34-b7dafceadd18>\u001b[0m in \u001b[0;36m<module>\u001b[1;34m()\u001b[0m\n\u001b[0;32m      1\u001b[0m \u001b[0mdfc\u001b[0m \u001b[1;33m=\u001b[0m \u001b[0mdf\u001b[0m\u001b[1;33m.\u001b[0m\u001b[0miloc\u001b[0m\u001b[1;33m[\u001b[0m\u001b[1;36m0\u001b[0m\u001b[1;33m]\u001b[0m\u001b[1;33m\u001b[0m\u001b[0m\n\u001b[1;32m----> 2\u001b[1;33m \u001b[0mdfc\u001b[0m \u001b[1;33m=\u001b[0m \u001b[0mpd\u001b[0m\u001b[1;33m.\u001b[0m\u001b[0mDateFrame\u001b[0m\u001b[1;33m(\u001b[0m\u001b[0mlist\u001b[0m\u001b[1;33m(\u001b[0m\u001b[0mdfc\u001b[0m\u001b[1;33m.\u001b[0m\u001b[0mvalues\u001b[0m\u001b[1;33m)\u001b[0m\u001b[1;33m)\u001b[0m\u001b[1;33m\u001b[0m\u001b[0m\n\u001b[0m",
      "\u001b[1;31mAttributeError\u001b[0m: 'module' object has no attribute 'DateFrame'"
     ]
    }
   ],
   "source": [
    "dfc = df.iloc[0]\n",
    "# dfc = pd.DateFrame(list(dfc.values))"
   ]
  },
  {
   "cell_type": "code",
   "execution_count": 60,
   "metadata": {},
   "outputs": [
    {
     "data": {
      "text/html": [
       "<div>\n",
       "<style scoped>\n",
       "    .dataframe tbody tr th:only-of-type {\n",
       "        vertical-align: middle;\n",
       "    }\n",
       "\n",
       "    .dataframe tbody tr th {\n",
       "        vertical-align: top;\n",
       "    }\n",
       "\n",
       "    .dataframe thead th {\n",
       "        text-align: right;\n",
       "    }\n",
       "</style>\n",
       "<table border=\"1\" class=\"dataframe\">\n",
       "  <thead>\n",
       "    <tr style=\"text-align: right;\">\n",
       "      <th></th>\n",
       "      <th>id</th>\n",
       "      <th>name</th>\n",
       "      <th>amount</th>\n",
       "      <th>name</th>\n",
       "    </tr>\n",
       "  </thead>\n",
       "  <tbody>\n",
       "    <tr>\n",
       "      <th>0</th>\n",
       "      <td>1</td>\n",
       "      <td>a</td>\n",
       "      <td>1.2</td>\n",
       "      <td>a</td>\n",
       "    </tr>\n",
       "    <tr>\n",
       "      <th>1</th>\n",
       "      <td>2</td>\n",
       "      <td>b</td>\n",
       "      <td>1.1</td>\n",
       "      <td>b</td>\n",
       "    </tr>\n",
       "    <tr>\n",
       "      <th>2</th>\n",
       "      <td>3</td>\n",
       "      <td>c</td>\n",
       "      <td>1.1</td>\n",
       "      <td>c</td>\n",
       "    </tr>\n",
       "  </tbody>\n",
       "</table>\n",
       "</div>"
      ],
      "text/plain": [
       "   id name  amount name\n",
       "0   1    a     1.2    a\n",
       "1   2    b     1.1    b\n",
       "2   3    c     1.1    c"
      ]
     },
     "execution_count": 60,
     "metadata": {},
     "output_type": "execute_result"
    }
   ],
   "source": [
    "dfa = df[[\"name\"]]\n",
    "dfa\n",
    "# df.append(dfa, axis=0)\n"
   ]
  },
  {
   "cell_type": "markdown",
   "metadata": {},
   "source": [
    "# df to tuple"
   ]
  },
  {
   "cell_type": "code",
   "execution_count": null,
   "metadata": {},
   "outputs": [],
   "source": [
    "list(data_set.itertuples(index=False))"
   ]
  },
  {
   "cell_type": "code",
   "execution_count": 35,
   "metadata": {},
   "outputs": [
    {
     "data": {
      "text/plain": [
       "Timestamp('2019-02-28 00:00:00')"
      ]
     },
     "execution_count": 35,
     "metadata": {},
     "output_type": "execute_result"
    }
   ],
   "source": [
    "tuples = [tuple(row) for row in df_data.values]"
   ]
  },
  {
   "cell_type": "code",
   "execution_count": null,
   "metadata": {},
   "outputs": [],
   "source": [
    "\n",
    "    [tuple(x) for x in df.values]\n",
    "    df.to_records(index=False).tolist()\n",
    "    list(map(tuple,df.values))\n",
    "    list(map(tuple, df.itertuples(index=False)))\n"
   ]
  },
  {
   "cell_type": "markdown",
   "metadata": {},
   "source": [
    "# groupby "
   ]
  },
  {
   "cell_type": "markdown",
   "metadata": {},
   "source": [
    "### 数据准备"
   ]
  },
  {
   "cell_type": "code",
   "execution_count": 6,
   "metadata": {},
   "outputs": [],
   "source": [
    "import numpy as np\n",
    "df = pd.DataFrame({'A': ['foo', 'bar', 'foo', 'bar',\n",
    "                           'foo', 'bar', 'foo', 'foo'],\n",
    "                   'B': ['one', 'one', 'two', 'three',\n",
    "                         'two', 'two', 'one', 'three'],\n",
    "                   'C': np.random.randn(8),\n",
    "                     'D': np.random.randn(8)})"
   ]
  },
  {
   "cell_type": "code",
   "execution_count": null,
   "metadata": {},
   "outputs": [],
   "source": [
    "# https://pandas.pydata.org/pandas-docs/stable/user_guide/groupby.html"
   ]
  },
  {
   "cell_type": "code",
   "execution_count": 7,
   "metadata": {},
   "outputs": [],
   "source": [
    "df2 = df.set_index(['A','B'])"
   ]
  },
  {
   "cell_type": "code",
   "execution_count": 8,
   "metadata": {},
   "outputs": [
    {
     "ename": "AttributeError",
     "evalue": "'FrozenList' object has no attribute 'difference'",
     "output_type": "error",
     "traceback": [
      "\u001b[1;31m---------------------------------------------------------------------------\u001b[0m",
      "\u001b[1;31mAttributeError\u001b[0m                            Traceback (most recent call last)",
      "\u001b[1;32m<ipython-input-8-33e62b940181>\u001b[0m in \u001b[0;36m<module>\u001b[1;34m()\u001b[0m\n\u001b[1;32m----> 1\u001b[1;33m \u001b[0mdf2\u001b[0m\u001b[1;33m.\u001b[0m\u001b[0mgroupby\u001b[0m\u001b[1;33m(\u001b[0m\u001b[0mlevel\u001b[0m\u001b[1;33m=\u001b[0m\u001b[0mdf2\u001b[0m\u001b[1;33m.\u001b[0m\u001b[0mindex\u001b[0m\u001b[1;33m.\u001b[0m\u001b[0mnames\u001b[0m\u001b[1;33m.\u001b[0m\u001b[0mdifference\u001b[0m\u001b[1;33m(\u001b[0m\u001b[1;33m[\u001b[0m\u001b[1;34m'B'\u001b[0m\u001b[1;33m]\u001b[0m\u001b[1;33m)\u001b[0m\u001b[1;33m)\u001b[0m\u001b[1;33m\u001b[0m\u001b[0m\n\u001b[0m",
      "\u001b[1;31mAttributeError\u001b[0m: 'FrozenList' object has no attribute 'difference'"
     ]
    }
   ],
   "source": [
    "df2.groupby(level=df2.index.names.difference(['B']))"
   ]
  },
  {
   "cell_type": "code",
   "execution_count": 9,
   "metadata": {},
   "outputs": [],
   "source": [
    "df3 = pd.DataFrame({'X': ['A', 'B', 'A', 'B'], 'Y': [1, 4, 3, 2]})"
   ]
  },
  {
   "cell_type": "code",
   "execution_count": 10,
   "metadata": {},
   "outputs": [
    {
     "data": {
      "text/html": [
       "<div>\n",
       "<style scoped>\n",
       "    .dataframe tbody tr th:only-of-type {\n",
       "        vertical-align: middle;\n",
       "    }\n",
       "\n",
       "    .dataframe tbody tr th {\n",
       "        vertical-align: top;\n",
       "    }\n",
       "\n",
       "    .dataframe thead th {\n",
       "        text-align: right;\n",
       "    }\n",
       "</style>\n",
       "<table border=\"1\" class=\"dataframe\">\n",
       "  <thead>\n",
       "    <tr style=\"text-align: right;\">\n",
       "      <th></th>\n",
       "      <th>X</th>\n",
       "      <th>Y</th>\n",
       "    </tr>\n",
       "  </thead>\n",
       "  <tbody>\n",
       "    <tr>\n",
       "      <th>0</th>\n",
       "      <td>A</td>\n",
       "      <td>1</td>\n",
       "    </tr>\n",
       "    <tr>\n",
       "      <th>1</th>\n",
       "      <td>B</td>\n",
       "      <td>4</td>\n",
       "    </tr>\n",
       "    <tr>\n",
       "      <th>2</th>\n",
       "      <td>A</td>\n",
       "      <td>3</td>\n",
       "    </tr>\n",
       "    <tr>\n",
       "      <th>3</th>\n",
       "      <td>B</td>\n",
       "      <td>2</td>\n",
       "    </tr>\n",
       "  </tbody>\n",
       "</table>\n",
       "</div>"
      ],
      "text/plain": [
       "   X  Y\n",
       "0  A  1\n",
       "1  B  4\n",
       "2  A  3\n",
       "3  B  2"
      ]
     },
     "execution_count": 10,
     "metadata": {},
     "output_type": "execute_result"
    }
   ],
   "source": [
    "df3"
   ]
  },
  {
   "cell_type": "code",
   "execution_count": 12,
   "metadata": {},
   "outputs": [
    {
     "data": {
      "text/html": [
       "<div>\n",
       "<style scoped>\n",
       "    .dataframe tbody tr th:only-of-type {\n",
       "        vertical-align: middle;\n",
       "    }\n",
       "\n",
       "    .dataframe tbody tr th {\n",
       "        vertical-align: top;\n",
       "    }\n",
       "\n",
       "    .dataframe thead th {\n",
       "        text-align: right;\n",
       "    }\n",
       "</style>\n",
       "<table border=\"1\" class=\"dataframe\">\n",
       "  <thead>\n",
       "    <tr style=\"text-align: right;\">\n",
       "      <th></th>\n",
       "      <th>X</th>\n",
       "      <th>Y</th>\n",
       "    </tr>\n",
       "  </thead>\n",
       "  <tbody>\n",
       "    <tr>\n",
       "      <th>1</th>\n",
       "      <td>B</td>\n",
       "      <td>4</td>\n",
       "    </tr>\n",
       "    <tr>\n",
       "      <th>3</th>\n",
       "      <td>B</td>\n",
       "      <td>2</td>\n",
       "    </tr>\n",
       "  </tbody>\n",
       "</table>\n",
       "</div>"
      ],
      "text/plain": [
       "   X  Y\n",
       "1  B  4\n",
       "3  B  2"
      ]
     },
     "execution_count": 12,
     "metadata": {},
     "output_type": "execute_result"
    }
   ],
   "source": [
    "df3.groupby(['X']).get_group('B')"
   ]
  },
  {
   "cell_type": "code",
   "execution_count": null,
   "metadata": {},
   "outputs": [],
   "source": [
    "# You may however pass sort=False for potential speedups:"
   ]
  },
  {
   "cell_type": "code",
   "execution_count": 14,
   "metadata": {},
   "outputs": [
    {
     "data": {
      "text/html": [
       "<div>\n",
       "<style scoped>\n",
       "    .dataframe tbody tr th:only-of-type {\n",
       "        vertical-align: middle;\n",
       "    }\n",
       "\n",
       "    .dataframe tbody tr th {\n",
       "        vertical-align: top;\n",
       "    }\n",
       "\n",
       "    .dataframe thead th {\n",
       "        text-align: right;\n",
       "    }\n",
       "</style>\n",
       "<table border=\"1\" class=\"dataframe\">\n",
       "  <thead>\n",
       "    <tr style=\"text-align: right;\">\n",
       "      <th></th>\n",
       "      <th>Y</th>\n",
       "    </tr>\n",
       "    <tr>\n",
       "      <th>X</th>\n",
       "      <th></th>\n",
       "    </tr>\n",
       "  </thead>\n",
       "  <tbody>\n",
       "    <tr>\n",
       "      <th>A</th>\n",
       "      <td>4</td>\n",
       "    </tr>\n",
       "    <tr>\n",
       "      <th>B</th>\n",
       "      <td>6</td>\n",
       "    </tr>\n",
       "  </tbody>\n",
       "</table>\n",
       "</div>"
      ],
      "text/plain": [
       "   Y\n",
       "X   \n",
       "A  4\n",
       "B  6"
      ]
     },
     "execution_count": 14,
     "metadata": {},
     "output_type": "execute_result"
    }
   ],
   "source": [
    "df3.groupby(['X'], sort=False).sum()"
   ]
  },
  {
   "cell_type": "code",
   "execution_count": 15,
   "metadata": {},
   "outputs": [
    {
     "data": {
      "text/plain": [
       "{'A': Int64Index([0, 2], dtype='int64'),\n",
       " 'B': Int64Index([1, 3], dtype='int64')}"
      ]
     },
     "execution_count": 15,
     "metadata": {},
     "output_type": "execute_result"
    }
   ],
   "source": [
    "df3.groupby(['X']).groups"
   ]
  },
  {
   "cell_type": "code",
   "execution_count": 16,
   "metadata": {},
   "outputs": [],
   "source": [
    "arrays = [['bar', 'bar', 'baz', 'baz', 'foo', 'foo', 'qux', 'qux'],\n",
    "          ['one', 'two', 'one', 'two', 'one', 'two', 'one', 'two']]"
   ]
  },
  {
   "cell_type": "code",
   "execution_count": null,
   "metadata": {},
   "outputs": [],
   "source": []
  },
  {
   "cell_type": "code",
   "execution_count": 75,
   "metadata": {},
   "outputs": [],
   "source": [
    "index = pd.MultiIndex.from_arrays(arrays, names=['first', 'second'])"
   ]
  },
  {
   "cell_type": "code",
   "execution_count": 76,
   "metadata": {},
   "outputs": [
    {
     "data": {
      "text/plain": [
       "MultiIndex(levels=[[u'bar', u'baz', u'foo', u'qux'], [u'one', u'two']],\n",
       "           labels=[[0, 0, 1, 1, 2, 2, 3, 3], [0, 1, 0, 1, 0, 1, 0, 1]],\n",
       "           names=[u'first', u'second'])"
      ]
     },
     "execution_count": 76,
     "metadata": {},
     "output_type": "execute_result"
    }
   ],
   "source": [
    "index"
   ]
  },
  {
   "cell_type": "code",
   "execution_count": 77,
   "metadata": {},
   "outputs": [
    {
     "data": {
      "text/plain": [
       "array([ 0.34478688,  0.66805728,  0.0033138 ,  0.2375164 ,  1.18229755,\n",
       "        0.46433911, -0.09603356, -1.43589742])"
      ]
     },
     "execution_count": 77,
     "metadata": {},
     "output_type": "execute_result"
    }
   ],
   "source": [
    "np.random.randn(8)"
   ]
  },
  {
   "cell_type": "code",
   "execution_count": 78,
   "metadata": {},
   "outputs": [],
   "source": [
    "df = pd.DataFrame({'value':np.random.randn(8)}, \n",
    "                  index=index)"
   ]
  },
  {
   "cell_type": "code",
   "execution_count": 79,
   "metadata": {},
   "outputs": [
    {
     "data": {
      "text/html": [
       "<div>\n",
       "<style scoped>\n",
       "    .dataframe tbody tr th:only-of-type {\n",
       "        vertical-align: middle;\n",
       "    }\n",
       "\n",
       "    .dataframe tbody tr th {\n",
       "        vertical-align: top;\n",
       "    }\n",
       "\n",
       "    .dataframe thead th {\n",
       "        text-align: right;\n",
       "    }\n",
       "</style>\n",
       "<table border=\"1\" class=\"dataframe\">\n",
       "  <thead>\n",
       "    <tr style=\"text-align: right;\">\n",
       "      <th></th>\n",
       "      <th></th>\n",
       "      <th>value</th>\n",
       "    </tr>\n",
       "    <tr>\n",
       "      <th>first</th>\n",
       "      <th>second</th>\n",
       "      <th></th>\n",
       "    </tr>\n",
       "  </thead>\n",
       "  <tbody>\n",
       "    <tr>\n",
       "      <th rowspan=\"2\" valign=\"top\">bar</th>\n",
       "      <th>one</th>\n",
       "      <td>0.385253</td>\n",
       "    </tr>\n",
       "    <tr>\n",
       "      <th>two</th>\n",
       "      <td>1.148538</td>\n",
       "    </tr>\n",
       "    <tr>\n",
       "      <th rowspan=\"2\" valign=\"top\">baz</th>\n",
       "      <th>one</th>\n",
       "      <td>0.787232</td>\n",
       "    </tr>\n",
       "    <tr>\n",
       "      <th>two</th>\n",
       "      <td>-0.584459</td>\n",
       "    </tr>\n",
       "    <tr>\n",
       "      <th rowspan=\"2\" valign=\"top\">foo</th>\n",
       "      <th>one</th>\n",
       "      <td>0.618034</td>\n",
       "    </tr>\n",
       "    <tr>\n",
       "      <th>two</th>\n",
       "      <td>0.263140</td>\n",
       "    </tr>\n",
       "    <tr>\n",
       "      <th rowspan=\"2\" valign=\"top\">qux</th>\n",
       "      <th>one</th>\n",
       "      <td>0.214194</td>\n",
       "    </tr>\n",
       "    <tr>\n",
       "      <th>two</th>\n",
       "      <td>0.952450</td>\n",
       "    </tr>\n",
       "  </tbody>\n",
       "</table>\n",
       "</div>"
      ],
      "text/plain": [
       "                 value\n",
       "first second          \n",
       "bar   one     0.385253\n",
       "      two     1.148538\n",
       "baz   one     0.787232\n",
       "      two    -0.584459\n",
       "foo   one     0.618034\n",
       "      two     0.263140\n",
       "qux   one     0.214194\n",
       "      two     0.952450"
      ]
     },
     "execution_count": 79,
     "metadata": {},
     "output_type": "execute_result"
    }
   ],
   "source": [
    "df"
   ]
  },
  {
   "cell_type": "code",
   "execution_count": 81,
   "metadata": {},
   "outputs": [
    {
     "data": {
      "text/html": [
       "<div>\n",
       "<style scoped>\n",
       "    .dataframe tbody tr th:only-of-type {\n",
       "        vertical-align: middle;\n",
       "    }\n",
       "\n",
       "    .dataframe tbody tr th {\n",
       "        vertical-align: top;\n",
       "    }\n",
       "\n",
       "    .dataframe thead th {\n",
       "        text-align: right;\n",
       "    }\n",
       "</style>\n",
       "<table border=\"1\" class=\"dataframe\">\n",
       "  <thead>\n",
       "    <tr style=\"text-align: right;\">\n",
       "      <th></th>\n",
       "      <th></th>\n",
       "      <th>value</th>\n",
       "    </tr>\n",
       "    <tr>\n",
       "      <th>first</th>\n",
       "      <th>second</th>\n",
       "      <th></th>\n",
       "    </tr>\n",
       "  </thead>\n",
       "  <tbody>\n",
       "    <tr>\n",
       "      <th rowspan=\"2\" valign=\"top\">bar</th>\n",
       "      <th>one</th>\n",
       "      <td>0.385253</td>\n",
       "    </tr>\n",
       "    <tr>\n",
       "      <th>two</th>\n",
       "      <td>1.148538</td>\n",
       "    </tr>\n",
       "    <tr>\n",
       "      <th rowspan=\"2\" valign=\"top\">baz</th>\n",
       "      <th>one</th>\n",
       "      <td>0.787232</td>\n",
       "    </tr>\n",
       "    <tr>\n",
       "      <th>two</th>\n",
       "      <td>-0.584459</td>\n",
       "    </tr>\n",
       "    <tr>\n",
       "      <th rowspan=\"2\" valign=\"top\">foo</th>\n",
       "      <th>one</th>\n",
       "      <td>0.618034</td>\n",
       "    </tr>\n",
       "    <tr>\n",
       "      <th>two</th>\n",
       "      <td>0.263140</td>\n",
       "    </tr>\n",
       "    <tr>\n",
       "      <th rowspan=\"2\" valign=\"top\">qux</th>\n",
       "      <th>one</th>\n",
       "      <td>0.214194</td>\n",
       "    </tr>\n",
       "    <tr>\n",
       "      <th>two</th>\n",
       "      <td>0.952450</td>\n",
       "    </tr>\n",
       "  </tbody>\n",
       "</table>\n",
       "</div>"
      ],
      "text/plain": [
       "                 value\n",
       "first second          \n",
       "bar   one     0.385253\n",
       "      two     1.148538\n",
       "baz   one     0.787232\n",
       "      two    -0.584459\n",
       "foo   one     0.618034\n",
       "      two     0.263140\n",
       "qux   one     0.214194\n",
       "      two     0.952450"
      ]
     },
     "execution_count": 81,
     "metadata": {},
     "output_type": "execute_result"
    }
   ],
   "source": [
    "df.groupby(level=(0,1)).transform(lambda x:x.fillna(x.mean()))"
   ]
  },
  {
   "cell_type": "code",
   "execution_count": 19,
   "metadata": {},
   "outputs": [],
   "source": [
    "s = pd.Series(np.random.randn(8), index=index)\n"
   ]
  },
  {
   "cell_type": "code",
   "execution_count": 28,
   "metadata": {},
   "outputs": [
    {
     "data": {
      "text/plain": [
       "first  second\n",
       "bar    one      -1.278030\n",
       "       two      -0.448272\n",
       "baz    one       1.389932\n",
       "       two       0.587513\n",
       "foo    one      -0.656793\n",
       "       two      -0.329890\n",
       "qux    one      -0.040876\n",
       "       two      -1.995661\n",
       "dtype: float64"
      ]
     },
     "execution_count": 28,
     "metadata": {},
     "output_type": "execute_result"
    }
   ],
   "source": [
    "s"
   ]
  },
  {
   "cell_type": "code",
   "execution_count": 20,
   "metadata": {},
   "outputs": [],
   "source": [
    "grouped= s.groupby(level=0)"
   ]
  },
  {
   "cell_type": "code",
   "execution_count": 21,
   "metadata": {},
   "outputs": [
    {
     "data": {
      "text/plain": [
       "first\n",
       "bar   -1.726301\n",
       "baz    1.977445\n",
       "foo   -0.986682\n",
       "qux   -2.036537\n",
       "dtype: float64"
      ]
     },
     "execution_count": 21,
     "metadata": {},
     "output_type": "execute_result"
    }
   ],
   "source": [
    "grouped.sum()"
   ]
  },
  {
   "cell_type": "code",
   "execution_count": 23,
   "metadata": {},
   "outputs": [
    {
     "data": {
      "text/plain": [
       "second\n",
       "one   -0.585767\n",
       "two   -2.186309\n",
       "dtype: float64"
      ]
     },
     "execution_count": 23,
     "metadata": {},
     "output_type": "execute_result"
    }
   ],
   "source": [
    "s.groupby(level='second').sum()"
   ]
  },
  {
   "cell_type": "markdown",
   "metadata": {},
   "source": [
    "### aggregation"
   ]
  },
  {
   "cell_type": "code",
   "execution_count": 24,
   "metadata": {},
   "outputs": [
    {
     "data": {
      "text/plain": [
       "first\n",
       "bar   -1.726301\n",
       "baz    1.977445\n",
       "foo   -0.986682\n",
       "qux   -2.036537\n",
       "dtype: float64"
      ]
     },
     "execution_count": 24,
     "metadata": {},
     "output_type": "execute_result"
    }
   ],
   "source": [
    "s.groupby(level=0).aggregate(np.sum)"
   ]
  },
  {
   "cell_type": "code",
   "execution_count": 29,
   "metadata": {},
   "outputs": [
    {
     "data": {
      "text/html": [
       "<div>\n",
       "<style scoped>\n",
       "    .dataframe tbody tr th:only-of-type {\n",
       "        vertical-align: middle;\n",
       "    }\n",
       "\n",
       "    .dataframe tbody tr th {\n",
       "        vertical-align: top;\n",
       "    }\n",
       "\n",
       "    .dataframe thead th {\n",
       "        text-align: right;\n",
       "    }\n",
       "</style>\n",
       "<table border=\"1\" class=\"dataframe\">\n",
       "  <thead>\n",
       "    <tr style=\"text-align: right;\">\n",
       "      <th></th>\n",
       "      <th>count</th>\n",
       "      <th>mean</th>\n",
       "      <th>std</th>\n",
       "      <th>min</th>\n",
       "      <th>25%</th>\n",
       "      <th>50%</th>\n",
       "      <th>75%</th>\n",
       "      <th>max</th>\n",
       "    </tr>\n",
       "    <tr>\n",
       "      <th>first</th>\n",
       "      <th></th>\n",
       "      <th></th>\n",
       "      <th></th>\n",
       "      <th></th>\n",
       "      <th></th>\n",
       "      <th></th>\n",
       "      <th></th>\n",
       "      <th></th>\n",
       "    </tr>\n",
       "  </thead>\n",
       "  <tbody>\n",
       "    <tr>\n",
       "      <th>bar</th>\n",
       "      <td>2.0</td>\n",
       "      <td>-0.863151</td>\n",
       "      <td>0.586728</td>\n",
       "      <td>-1.278030</td>\n",
       "      <td>-1.070590</td>\n",
       "      <td>-0.863151</td>\n",
       "      <td>-0.655711</td>\n",
       "      <td>-0.448272</td>\n",
       "    </tr>\n",
       "    <tr>\n",
       "      <th>baz</th>\n",
       "      <td>2.0</td>\n",
       "      <td>0.988722</td>\n",
       "      <td>0.567396</td>\n",
       "      <td>0.587513</td>\n",
       "      <td>0.788118</td>\n",
       "      <td>0.988722</td>\n",
       "      <td>1.189327</td>\n",
       "      <td>1.389932</td>\n",
       "    </tr>\n",
       "    <tr>\n",
       "      <th>foo</th>\n",
       "      <td>2.0</td>\n",
       "      <td>-0.493341</td>\n",
       "      <td>0.231155</td>\n",
       "      <td>-0.656793</td>\n",
       "      <td>-0.575067</td>\n",
       "      <td>-0.493341</td>\n",
       "      <td>-0.411615</td>\n",
       "      <td>-0.329890</td>\n",
       "    </tr>\n",
       "    <tr>\n",
       "      <th>qux</th>\n",
       "      <td>2.0</td>\n",
       "      <td>-1.018268</td>\n",
       "      <td>1.382241</td>\n",
       "      <td>-1.995661</td>\n",
       "      <td>-1.506965</td>\n",
       "      <td>-1.018268</td>\n",
       "      <td>-0.529572</td>\n",
       "      <td>-0.040876</td>\n",
       "    </tr>\n",
       "  </tbody>\n",
       "</table>\n",
       "</div>"
      ],
      "text/plain": [
       "       count      mean       std       min       25%       50%       75%  \\\n",
       "first                                                                      \n",
       "bar      2.0 -0.863151  0.586728 -1.278030 -1.070590 -0.863151 -0.655711   \n",
       "baz      2.0  0.988722  0.567396  0.587513  0.788118  0.988722  1.189327   \n",
       "foo      2.0 -0.493341  0.231155 -0.656793 -0.575067 -0.493341 -0.411615   \n",
       "qux      2.0 -1.018268  1.382241 -1.995661 -1.506965 -1.018268 -0.529572   \n",
       "\n",
       "            max  \n",
       "first            \n",
       "bar   -0.448272  \n",
       "baz    1.389932  \n",
       "foo   -0.329890  \n",
       "qux   -0.040876  "
      ]
     },
     "execution_count": 29,
     "metadata": {},
     "output_type": "execute_result"
    }
   ],
   "source": [
    "s.groupby(level=0).describe()"
   ]
  },
  {
   "cell_type": "markdown",
   "metadata": {},
   "source": [
    "### transform"
   ]
  },
  {
   "cell_type": "markdown",
   "metadata": {},
   "source": [
    "### to replace missing data with the group mean.//"
   ]
  },
  {
   "cell_type": "code",
   "execution_count": 82,
   "metadata": {},
   "outputs": [],
   "source": [
    "value = np.random.randint(0,100, 1000)"
   ]
  },
  {
   "cell_type": "code",
   "execution_count": 83,
   "metadata": {},
   "outputs": [],
   "source": [
    "# value"
   ]
  },
  {
   "cell_type": "code",
   "execution_count": 84,
   "metadata": {},
   "outputs": [],
   "source": [
    "index = np.array(['a','b','c','d'])"
   ]
  },
  {
   "cell_type": "code",
   "execution_count": 85,
   "metadata": {},
   "outputs": [],
   "source": [
    "key = index[np.random.randint(0,4, 1000)]"
   ]
  },
  {
   "cell_type": "code",
   "execution_count": 86,
   "metadata": {},
   "outputs": [],
   "source": [
    "df = pd.DataFrame({'A':value},\n",
    "                 index=key,\n",
    "                 )"
   ]
  },
  {
   "cell_type": "code",
   "execution_count": 44,
   "metadata": {},
   "outputs": [
    {
     "data": {
      "text/html": [
       "<div>\n",
       "<style scoped>\n",
       "    .dataframe tbody tr th:only-of-type {\n",
       "        vertical-align: middle;\n",
       "    }\n",
       "\n",
       "    .dataframe tbody tr th {\n",
       "        vertical-align: top;\n",
       "    }\n",
       "\n",
       "    .dataframe thead th {\n",
       "        text-align: right;\n",
       "    }\n",
       "</style>\n",
       "<table border=\"1\" class=\"dataframe\">\n",
       "  <thead>\n",
       "    <tr style=\"text-align: right;\">\n",
       "      <th></th>\n",
       "      <th>A</th>\n",
       "    </tr>\n",
       "  </thead>\n",
       "  <tbody>\n",
       "    <tr>\n",
       "      <th>a</th>\n",
       "      <td>253</td>\n",
       "    </tr>\n",
       "    <tr>\n",
       "      <th>b</th>\n",
       "      <td>254</td>\n",
       "    </tr>\n",
       "    <tr>\n",
       "      <th>c</th>\n",
       "      <td>257</td>\n",
       "    </tr>\n",
       "    <tr>\n",
       "      <th>d</th>\n",
       "      <td>236</td>\n",
       "    </tr>\n",
       "  </tbody>\n",
       "</table>\n",
       "</div>"
      ],
      "text/plain": [
       "     A\n",
       "a  253\n",
       "b  254\n",
       "c  257\n",
       "d  236"
      ]
     },
     "execution_count": 44,
     "metadata": {},
     "output_type": "execute_result"
    }
   ],
   "source": [
    "# df\n",
    "df.groupby(level=0).count()"
   ]
  },
  {
   "cell_type": "code",
   "execution_count": 49,
   "metadata": {},
   "outputs": [],
   "source": [
    "df.iloc[0] = np.nan"
   ]
  },
  {
   "cell_type": "code",
   "execution_count": 50,
   "metadata": {},
   "outputs": [
    {
     "data": {
      "text/html": [
       "<div>\n",
       "<style scoped>\n",
       "    .dataframe tbody tr th:only-of-type {\n",
       "        vertical-align: middle;\n",
       "    }\n",
       "\n",
       "    .dataframe tbody tr th {\n",
       "        vertical-align: top;\n",
       "    }\n",
       "\n",
       "    .dataframe thead th {\n",
       "        text-align: right;\n",
       "    }\n",
       "</style>\n",
       "<table border=\"1\" class=\"dataframe\">\n",
       "  <thead>\n",
       "    <tr style=\"text-align: right;\">\n",
       "      <th></th>\n",
       "      <th>A</th>\n",
       "    </tr>\n",
       "  </thead>\n",
       "  <tbody>\n",
       "    <tr>\n",
       "      <th>b</th>\n",
       "      <td>NaN</td>\n",
       "    </tr>\n",
       "    <tr>\n",
       "      <th>a</th>\n",
       "      <td>46.0</td>\n",
       "    </tr>\n",
       "    <tr>\n",
       "      <th>a</th>\n",
       "      <td>11.0</td>\n",
       "    </tr>\n",
       "    <tr>\n",
       "      <th>b</th>\n",
       "      <td>5.0</td>\n",
       "    </tr>\n",
       "    <tr>\n",
       "      <th>d</th>\n",
       "      <td>64.0</td>\n",
       "    </tr>\n",
       "  </tbody>\n",
       "</table>\n",
       "</div>"
      ],
      "text/plain": [
       "      A\n",
       "b   NaN\n",
       "a  46.0\n",
       "a  11.0\n",
       "b   5.0\n",
       "d  64.0"
      ]
     },
     "execution_count": 50,
     "metadata": {},
     "output_type": "execute_result"
    }
   ],
   "source": [
    "df.head()"
   ]
  },
  {
   "cell_type": "code",
   "execution_count": 52,
   "metadata": {},
   "outputs": [
    {
     "name": "stdout",
     "output_type": "stream",
     "text": [
      "<class 'pandas.core.frame.DataFrame'>\n",
      "Index: 1000 entries, b to d\n",
      "Data columns (total 1 columns):\n",
      "A    1000 non-null float64\n",
      "dtypes: float64(1)\n",
      "memory usage: 15.6+ KB\n"
     ]
    }
   ],
   "source": [
    "df.groupby(level=0).transform(lambda x:x.fillna(x.mean())).info()"
   ]
  },
  {
   "cell_type": "code",
   "execution_count": 92,
   "metadata": {},
   "outputs": [
    {
     "data": {
      "text/html": [
       "<div>\n",
       "<style scoped>\n",
       "    .dataframe tbody tr th:only-of-type {\n",
       "        vertical-align: middle;\n",
       "    }\n",
       "\n",
       "    .dataframe tbody tr th {\n",
       "        vertical-align: top;\n",
       "    }\n",
       "\n",
       "    .dataframe thead th {\n",
       "        text-align: right;\n",
       "    }\n",
       "</style>\n",
       "<table border=\"1\" class=\"dataframe\">\n",
       "  <thead>\n",
       "    <tr style=\"text-align: right;\">\n",
       "      <th></th>\n",
       "      <th>A</th>\n",
       "    </tr>\n",
       "  </thead>\n",
       "  <tbody>\n",
       "    <tr>\n",
       "      <th>b</th>\n",
       "      <td>245</td>\n",
       "    </tr>\n",
       "    <tr>\n",
       "      <th>d</th>\n",
       "      <td>252</td>\n",
       "    </tr>\n",
       "    <tr>\n",
       "      <th>a</th>\n",
       "      <td>250</td>\n",
       "    </tr>\n",
       "    <tr>\n",
       "      <th>c</th>\n",
       "      <td>253</td>\n",
       "    </tr>\n",
       "    <tr>\n",
       "      <th>a</th>\n",
       "      <td>250</td>\n",
       "    </tr>\n",
       "    <tr>\n",
       "      <th>c</th>\n",
       "      <td>253</td>\n",
       "    </tr>\n",
       "    <tr>\n",
       "      <th>b</th>\n",
       "      <td>245</td>\n",
       "    </tr>\n",
       "    <tr>\n",
       "      <th>a</th>\n",
       "      <td>250</td>\n",
       "    </tr>\n",
       "    <tr>\n",
       "      <th>c</th>\n",
       "      <td>253</td>\n",
       "    </tr>\n",
       "    <tr>\n",
       "      <th>a</th>\n",
       "      <td>250</td>\n",
       "    </tr>\n",
       "    <tr>\n",
       "      <th>a</th>\n",
       "      <td>250</td>\n",
       "    </tr>\n",
       "    <tr>\n",
       "      <th>c</th>\n",
       "      <td>253</td>\n",
       "    </tr>\n",
       "    <tr>\n",
       "      <th>d</th>\n",
       "      <td>252</td>\n",
       "    </tr>\n",
       "    <tr>\n",
       "      <th>c</th>\n",
       "      <td>253</td>\n",
       "    </tr>\n",
       "    <tr>\n",
       "      <th>c</th>\n",
       "      <td>253</td>\n",
       "    </tr>\n",
       "    <tr>\n",
       "      <th>a</th>\n",
       "      <td>250</td>\n",
       "    </tr>\n",
       "    <tr>\n",
       "      <th>a</th>\n",
       "      <td>250</td>\n",
       "    </tr>\n",
       "    <tr>\n",
       "      <th>c</th>\n",
       "      <td>253</td>\n",
       "    </tr>\n",
       "    <tr>\n",
       "      <th>c</th>\n",
       "      <td>253</td>\n",
       "    </tr>\n",
       "    <tr>\n",
       "      <th>d</th>\n",
       "      <td>252</td>\n",
       "    </tr>\n",
       "    <tr>\n",
       "      <th>b</th>\n",
       "      <td>245</td>\n",
       "    </tr>\n",
       "    <tr>\n",
       "      <th>c</th>\n",
       "      <td>253</td>\n",
       "    </tr>\n",
       "    <tr>\n",
       "      <th>a</th>\n",
       "      <td>250</td>\n",
       "    </tr>\n",
       "    <tr>\n",
       "      <th>b</th>\n",
       "      <td>245</td>\n",
       "    </tr>\n",
       "    <tr>\n",
       "      <th>d</th>\n",
       "      <td>252</td>\n",
       "    </tr>\n",
       "    <tr>\n",
       "      <th>d</th>\n",
       "      <td>252</td>\n",
       "    </tr>\n",
       "    <tr>\n",
       "      <th>d</th>\n",
       "      <td>252</td>\n",
       "    </tr>\n",
       "    <tr>\n",
       "      <th>d</th>\n",
       "      <td>252</td>\n",
       "    </tr>\n",
       "    <tr>\n",
       "      <th>d</th>\n",
       "      <td>252</td>\n",
       "    </tr>\n",
       "    <tr>\n",
       "      <th>d</th>\n",
       "      <td>252</td>\n",
       "    </tr>\n",
       "    <tr>\n",
       "      <th>...</th>\n",
       "      <td>...</td>\n",
       "    </tr>\n",
       "    <tr>\n",
       "      <th>d</th>\n",
       "      <td>252</td>\n",
       "    </tr>\n",
       "    <tr>\n",
       "      <th>d</th>\n",
       "      <td>252</td>\n",
       "    </tr>\n",
       "    <tr>\n",
       "      <th>d</th>\n",
       "      <td>252</td>\n",
       "    </tr>\n",
       "    <tr>\n",
       "      <th>c</th>\n",
       "      <td>253</td>\n",
       "    </tr>\n",
       "    <tr>\n",
       "      <th>d</th>\n",
       "      <td>252</td>\n",
       "    </tr>\n",
       "    <tr>\n",
       "      <th>c</th>\n",
       "      <td>253</td>\n",
       "    </tr>\n",
       "    <tr>\n",
       "      <th>a</th>\n",
       "      <td>250</td>\n",
       "    </tr>\n",
       "    <tr>\n",
       "      <th>b</th>\n",
       "      <td>245</td>\n",
       "    </tr>\n",
       "    <tr>\n",
       "      <th>c</th>\n",
       "      <td>253</td>\n",
       "    </tr>\n",
       "    <tr>\n",
       "      <th>d</th>\n",
       "      <td>252</td>\n",
       "    </tr>\n",
       "    <tr>\n",
       "      <th>c</th>\n",
       "      <td>253</td>\n",
       "    </tr>\n",
       "    <tr>\n",
       "      <th>c</th>\n",
       "      <td>253</td>\n",
       "    </tr>\n",
       "    <tr>\n",
       "      <th>c</th>\n",
       "      <td>253</td>\n",
       "    </tr>\n",
       "    <tr>\n",
       "      <th>b</th>\n",
       "      <td>245</td>\n",
       "    </tr>\n",
       "    <tr>\n",
       "      <th>d</th>\n",
       "      <td>252</td>\n",
       "    </tr>\n",
       "    <tr>\n",
       "      <th>a</th>\n",
       "      <td>250</td>\n",
       "    </tr>\n",
       "    <tr>\n",
       "      <th>d</th>\n",
       "      <td>252</td>\n",
       "    </tr>\n",
       "    <tr>\n",
       "      <th>b</th>\n",
       "      <td>245</td>\n",
       "    </tr>\n",
       "    <tr>\n",
       "      <th>d</th>\n",
       "      <td>252</td>\n",
       "    </tr>\n",
       "    <tr>\n",
       "      <th>b</th>\n",
       "      <td>245</td>\n",
       "    </tr>\n",
       "    <tr>\n",
       "      <th>d</th>\n",
       "      <td>252</td>\n",
       "    </tr>\n",
       "    <tr>\n",
       "      <th>a</th>\n",
       "      <td>250</td>\n",
       "    </tr>\n",
       "    <tr>\n",
       "      <th>d</th>\n",
       "      <td>252</td>\n",
       "    </tr>\n",
       "    <tr>\n",
       "      <th>a</th>\n",
       "      <td>250</td>\n",
       "    </tr>\n",
       "    <tr>\n",
       "      <th>c</th>\n",
       "      <td>253</td>\n",
       "    </tr>\n",
       "    <tr>\n",
       "      <th>a</th>\n",
       "      <td>250</td>\n",
       "    </tr>\n",
       "    <tr>\n",
       "      <th>b</th>\n",
       "      <td>245</td>\n",
       "    </tr>\n",
       "    <tr>\n",
       "      <th>d</th>\n",
       "      <td>252</td>\n",
       "    </tr>\n",
       "    <tr>\n",
       "      <th>a</th>\n",
       "      <td>250</td>\n",
       "    </tr>\n",
       "    <tr>\n",
       "      <th>c</th>\n",
       "      <td>253</td>\n",
       "    </tr>\n",
       "  </tbody>\n",
       "</table>\n",
       "<p>1000 rows × 1 columns</p>\n",
       "</div>"
      ],
      "text/plain": [
       "      A\n",
       "b   245\n",
       "d   252\n",
       "a   250\n",
       "c   253\n",
       "a   250\n",
       "c   253\n",
       "b   245\n",
       "a   250\n",
       "c   253\n",
       "a   250\n",
       "a   250\n",
       "c   253\n",
       "d   252\n",
       "c   253\n",
       "c   253\n",
       "a   250\n",
       "a   250\n",
       "c   253\n",
       "c   253\n",
       "d   252\n",
       "b   245\n",
       "c   253\n",
       "a   250\n",
       "b   245\n",
       "d   252\n",
       "d   252\n",
       "d   252\n",
       "d   252\n",
       "d   252\n",
       "d   252\n",
       "..  ...\n",
       "d   252\n",
       "d   252\n",
       "d   252\n",
       "c   253\n",
       "d   252\n",
       "c   253\n",
       "a   250\n",
       "b   245\n",
       "c   253\n",
       "d   252\n",
       "c   253\n",
       "c   253\n",
       "c   253\n",
       "b   245\n",
       "d   252\n",
       "a   250\n",
       "d   252\n",
       "b   245\n",
       "d   252\n",
       "b   245\n",
       "d   252\n",
       "a   250\n",
       "d   252\n",
       "a   250\n",
       "c   253\n",
       "a   250\n",
       "b   245\n",
       "d   252\n",
       "a   250\n",
       "c   253\n",
       "\n",
       "[1000 rows x 1 columns]"
      ]
     },
     "execution_count": 92,
     "metadata": {},
     "output_type": "execute_result"
    }
   ],
   "source": [
    "df.groupby(level=0).transform(lambda x:x.count())"
   ]
  },
  {
   "cell_type": "code",
   "execution_count": 54,
   "metadata": {},
   "outputs": [
    {
     "name": "stdout",
     "output_type": "stream",
     "text": [
      "<class 'pandas.core.frame.DataFrame'>\n",
      "Index: 1000 entries, b to d\n",
      "Data columns (total 1 columns):\n",
      "A    999 non-null float64\n",
      "dtypes: float64(1)\n",
      "memory usage: 15.6+ KB\n"
     ]
    }
   ],
   "source": [
    "df.info()"
   ]
  },
  {
   "cell_type": "markdown",
   "metadata": {},
   "source": [
    "### rolling ???"
   ]
  },
  {
   "cell_type": "code",
   "execution_count": 53,
   "metadata": {},
   "outputs": [
    {
     "data": {
      "text/html": [
       "<div>\n",
       "<style scoped>\n",
       "    .dataframe tbody tr th:only-of-type {\n",
       "        vertical-align: middle;\n",
       "    }\n",
       "\n",
       "    .dataframe tbody tr th {\n",
       "        vertical-align: top;\n",
       "    }\n",
       "\n",
       "    .dataframe thead th {\n",
       "        text-align: right;\n",
       "    }\n",
       "</style>\n",
       "<table border=\"1\" class=\"dataframe\">\n",
       "  <thead>\n",
       "    <tr style=\"text-align: right;\">\n",
       "      <th></th>\n",
       "      <th></th>\n",
       "      <th>A</th>\n",
       "    </tr>\n",
       "    <tr>\n",
       "      <th>A</th>\n",
       "      <th></th>\n",
       "      <th></th>\n",
       "    </tr>\n",
       "  </thead>\n",
       "  <tbody>\n",
       "    <tr>\n",
       "      <th rowspan=\"9\" valign=\"top\">0.0</th>\n",
       "      <th>b</th>\n",
       "      <td>NaN</td>\n",
       "    </tr>\n",
       "    <tr>\n",
       "      <th>c</th>\n",
       "      <td>NaN</td>\n",
       "    </tr>\n",
       "    <tr>\n",
       "      <th>c</th>\n",
       "      <td>NaN</td>\n",
       "    </tr>\n",
       "    <tr>\n",
       "      <th>d</th>\n",
       "      <td>0.0</td>\n",
       "    </tr>\n",
       "    <tr>\n",
       "      <th>b</th>\n",
       "      <td>0.0</td>\n",
       "    </tr>\n",
       "    <tr>\n",
       "      <th>d</th>\n",
       "      <td>0.0</td>\n",
       "    </tr>\n",
       "    <tr>\n",
       "      <th>b</th>\n",
       "      <td>0.0</td>\n",
       "    </tr>\n",
       "    <tr>\n",
       "      <th>b</th>\n",
       "      <td>0.0</td>\n",
       "    </tr>\n",
       "    <tr>\n",
       "      <th>c</th>\n",
       "      <td>0.0</td>\n",
       "    </tr>\n",
       "    <tr>\n",
       "      <th rowspan=\"9\" valign=\"top\">1.0</th>\n",
       "      <th>b</th>\n",
       "      <td>NaN</td>\n",
       "    </tr>\n",
       "    <tr>\n",
       "      <th>b</th>\n",
       "      <td>NaN</td>\n",
       "    </tr>\n",
       "    <tr>\n",
       "      <th>d</th>\n",
       "      <td>NaN</td>\n",
       "    </tr>\n",
       "    <tr>\n",
       "      <th>a</th>\n",
       "      <td>1.0</td>\n",
       "    </tr>\n",
       "    <tr>\n",
       "      <th>a</th>\n",
       "      <td>1.0</td>\n",
       "    </tr>\n",
       "    <tr>\n",
       "      <th>a</th>\n",
       "      <td>1.0</td>\n",
       "    </tr>\n",
       "    <tr>\n",
       "      <th>d</th>\n",
       "      <td>1.0</td>\n",
       "    </tr>\n",
       "    <tr>\n",
       "      <th>c</th>\n",
       "      <td>1.0</td>\n",
       "    </tr>\n",
       "    <tr>\n",
       "      <th>b</th>\n",
       "      <td>1.0</td>\n",
       "    </tr>\n",
       "    <tr>\n",
       "      <th rowspan=\"12\" valign=\"top\">2.0</th>\n",
       "      <th>b</th>\n",
       "      <td>NaN</td>\n",
       "    </tr>\n",
       "    <tr>\n",
       "      <th>d</th>\n",
       "      <td>NaN</td>\n",
       "    </tr>\n",
       "    <tr>\n",
       "      <th>a</th>\n",
       "      <td>NaN</td>\n",
       "    </tr>\n",
       "    <tr>\n",
       "      <th>d</th>\n",
       "      <td>2.0</td>\n",
       "    </tr>\n",
       "    <tr>\n",
       "      <th>d</th>\n",
       "      <td>2.0</td>\n",
       "    </tr>\n",
       "    <tr>\n",
       "      <th>c</th>\n",
       "      <td>2.0</td>\n",
       "    </tr>\n",
       "    <tr>\n",
       "      <th>c</th>\n",
       "      <td>2.0</td>\n",
       "    </tr>\n",
       "    <tr>\n",
       "      <th>d</th>\n",
       "      <td>2.0</td>\n",
       "    </tr>\n",
       "    <tr>\n",
       "      <th>a</th>\n",
       "      <td>2.0</td>\n",
       "    </tr>\n",
       "    <tr>\n",
       "      <th>b</th>\n",
       "      <td>2.0</td>\n",
       "    </tr>\n",
       "    <tr>\n",
       "      <th>c</th>\n",
       "      <td>2.0</td>\n",
       "    </tr>\n",
       "    <tr>\n",
       "      <th>d</th>\n",
       "      <td>2.0</td>\n",
       "    </tr>\n",
       "    <tr>\n",
       "      <th>...</th>\n",
       "      <th>...</th>\n",
       "      <td>...</td>\n",
       "    </tr>\n",
       "    <tr>\n",
       "      <th rowspan=\"3\" valign=\"top\">96.0</th>\n",
       "      <th>b</th>\n",
       "      <td>96.0</td>\n",
       "    </tr>\n",
       "    <tr>\n",
       "      <th>a</th>\n",
       "      <td>96.0</td>\n",
       "    </tr>\n",
       "    <tr>\n",
       "      <th>a</th>\n",
       "      <td>96.0</td>\n",
       "    </tr>\n",
       "    <tr>\n",
       "      <th rowspan=\"10\" valign=\"top\">97.0</th>\n",
       "      <th>c</th>\n",
       "      <td>NaN</td>\n",
       "    </tr>\n",
       "    <tr>\n",
       "      <th>b</th>\n",
       "      <td>NaN</td>\n",
       "    </tr>\n",
       "    <tr>\n",
       "      <th>c</th>\n",
       "      <td>NaN</td>\n",
       "    </tr>\n",
       "    <tr>\n",
       "      <th>b</th>\n",
       "      <td>97.0</td>\n",
       "    </tr>\n",
       "    <tr>\n",
       "      <th>c</th>\n",
       "      <td>97.0</td>\n",
       "    </tr>\n",
       "    <tr>\n",
       "      <th>b</th>\n",
       "      <td>97.0</td>\n",
       "    </tr>\n",
       "    <tr>\n",
       "      <th>c</th>\n",
       "      <td>97.0</td>\n",
       "    </tr>\n",
       "    <tr>\n",
       "      <th>b</th>\n",
       "      <td>97.0</td>\n",
       "    </tr>\n",
       "    <tr>\n",
       "      <th>c</th>\n",
       "      <td>97.0</td>\n",
       "    </tr>\n",
       "    <tr>\n",
       "      <th>b</th>\n",
       "      <td>97.0</td>\n",
       "    </tr>\n",
       "    <tr>\n",
       "      <th rowspan=\"9\" valign=\"top\">98.0</th>\n",
       "      <th>d</th>\n",
       "      <td>NaN</td>\n",
       "    </tr>\n",
       "    <tr>\n",
       "      <th>a</th>\n",
       "      <td>NaN</td>\n",
       "    </tr>\n",
       "    <tr>\n",
       "      <th>c</th>\n",
       "      <td>NaN</td>\n",
       "    </tr>\n",
       "    <tr>\n",
       "      <th>d</th>\n",
       "      <td>98.0</td>\n",
       "    </tr>\n",
       "    <tr>\n",
       "      <th>b</th>\n",
       "      <td>98.0</td>\n",
       "    </tr>\n",
       "    <tr>\n",
       "      <th>d</th>\n",
       "      <td>98.0</td>\n",
       "    </tr>\n",
       "    <tr>\n",
       "      <th>b</th>\n",
       "      <td>98.0</td>\n",
       "    </tr>\n",
       "    <tr>\n",
       "      <th>c</th>\n",
       "      <td>98.0</td>\n",
       "    </tr>\n",
       "    <tr>\n",
       "      <th>c</th>\n",
       "      <td>98.0</td>\n",
       "    </tr>\n",
       "    <tr>\n",
       "      <th rowspan=\"8\" valign=\"top\">99.0</th>\n",
       "      <th>a</th>\n",
       "      <td>NaN</td>\n",
       "    </tr>\n",
       "    <tr>\n",
       "      <th>b</th>\n",
       "      <td>NaN</td>\n",
       "    </tr>\n",
       "    <tr>\n",
       "      <th>c</th>\n",
       "      <td>NaN</td>\n",
       "    </tr>\n",
       "    <tr>\n",
       "      <th>d</th>\n",
       "      <td>99.0</td>\n",
       "    </tr>\n",
       "    <tr>\n",
       "      <th>b</th>\n",
       "      <td>99.0</td>\n",
       "    </tr>\n",
       "    <tr>\n",
       "      <th>d</th>\n",
       "      <td>99.0</td>\n",
       "    </tr>\n",
       "    <tr>\n",
       "      <th>c</th>\n",
       "      <td>99.0</td>\n",
       "    </tr>\n",
       "    <tr>\n",
       "      <th>d</th>\n",
       "      <td>99.0</td>\n",
       "    </tr>\n",
       "  </tbody>\n",
       "</table>\n",
       "<p>999 rows × 1 columns</p>\n",
       "</div>"
      ],
      "text/plain": [
       "           A\n",
       "A           \n",
       "0.0  b   NaN\n",
       "     c   NaN\n",
       "     c   NaN\n",
       "     d   0.0\n",
       "     b   0.0\n",
       "     d   0.0\n",
       "     b   0.0\n",
       "     b   0.0\n",
       "     c   0.0\n",
       "1.0  b   NaN\n",
       "     b   NaN\n",
       "     d   NaN\n",
       "     a   1.0\n",
       "     a   1.0\n",
       "     a   1.0\n",
       "     d   1.0\n",
       "     c   1.0\n",
       "     b   1.0\n",
       "2.0  b   NaN\n",
       "     d   NaN\n",
       "     a   NaN\n",
       "     d   2.0\n",
       "     d   2.0\n",
       "     c   2.0\n",
       "     c   2.0\n",
       "     d   2.0\n",
       "     a   2.0\n",
       "     b   2.0\n",
       "     c   2.0\n",
       "     d   2.0\n",
       "...      ...\n",
       "96.0 b  96.0\n",
       "     a  96.0\n",
       "     a  96.0\n",
       "97.0 c   NaN\n",
       "     b   NaN\n",
       "     c   NaN\n",
       "     b  97.0\n",
       "     c  97.0\n",
       "     b  97.0\n",
       "     c  97.0\n",
       "     b  97.0\n",
       "     c  97.0\n",
       "     b  97.0\n",
       "98.0 d   NaN\n",
       "     a   NaN\n",
       "     c   NaN\n",
       "     d  98.0\n",
       "     b  98.0\n",
       "     d  98.0\n",
       "     b  98.0\n",
       "     c  98.0\n",
       "     c  98.0\n",
       "99.0 a   NaN\n",
       "     b   NaN\n",
       "     c   NaN\n",
       "     d  99.0\n",
       "     b  99.0\n",
       "     d  99.0\n",
       "     c  99.0\n",
       "     d  99.0\n",
       "\n",
       "[999 rows x 1 columns]"
      ]
     },
     "execution_count": 53,
     "metadata": {},
     "output_type": "execute_result"
    }
   ],
   "source": [
    "df.groupby('A').rolling(4).mean()"
   ]
  },
  {
   "cell_type": "markdown",
   "metadata": {},
   "source": [
    "### expanding"
   ]
  },
  {
   "cell_type": "code",
   "execution_count": 57,
   "metadata": {},
   "outputs": [],
   "source": [
    "dff = df.groupby(level=0).transform(lambda x: x.fillna(x.mean()))"
   ]
  },
  {
   "cell_type": "code",
   "execution_count": 64,
   "metadata": {},
   "outputs": [
    {
     "data": {
      "text/html": [
       "<div>\n",
       "<style scoped>\n",
       "    .dataframe tbody tr th:only-of-type {\n",
       "        vertical-align: middle;\n",
       "    }\n",
       "\n",
       "    .dataframe tbody tr th {\n",
       "        vertical-align: top;\n",
       "    }\n",
       "\n",
       "    .dataframe thead th {\n",
       "        text-align: right;\n",
       "    }\n",
       "</style>\n",
       "<table border=\"1\" class=\"dataframe\">\n",
       "  <thead>\n",
       "    <tr style=\"text-align: right;\">\n",
       "      <th></th>\n",
       "      <th></th>\n",
       "      <th>A</th>\n",
       "    </tr>\n",
       "  </thead>\n",
       "  <tbody>\n",
       "    <tr>\n",
       "      <th rowspan=\"4\" valign=\"top\">a</th>\n",
       "      <th>a</th>\n",
       "      <td>46.000000</td>\n",
       "    </tr>\n",
       "    <tr>\n",
       "      <th>a</th>\n",
       "      <td>57.000000</td>\n",
       "    </tr>\n",
       "    <tr>\n",
       "      <th>a</th>\n",
       "      <td>133.000000</td>\n",
       "    </tr>\n",
       "    <tr>\n",
       "      <th>a</th>\n",
       "      <td>225.000000</td>\n",
       "    </tr>\n",
       "    <tr>\n",
       "      <th rowspan=\"3\" valign=\"top\">b</th>\n",
       "      <th>b</th>\n",
       "      <td>49.312253</td>\n",
       "    </tr>\n",
       "    <tr>\n",
       "      <th>b</th>\n",
       "      <td>54.312253</td>\n",
       "    </tr>\n",
       "    <tr>\n",
       "      <th>b</th>\n",
       "      <td>66.312253</td>\n",
       "    </tr>\n",
       "    <tr>\n",
       "      <th>c</th>\n",
       "      <th>c</th>\n",
       "      <td>22.000000</td>\n",
       "    </tr>\n",
       "    <tr>\n",
       "      <th rowspan=\"2\" valign=\"top\">d</th>\n",
       "      <th>d</th>\n",
       "      <td>64.000000</td>\n",
       "    </tr>\n",
       "    <tr>\n",
       "      <th>d</th>\n",
       "      <td>95.000000</td>\n",
       "    </tr>\n",
       "  </tbody>\n",
       "</table>\n",
       "</div>"
      ],
      "text/plain": [
       "              A\n",
       "a a   46.000000\n",
       "  a   57.000000\n",
       "  a  133.000000\n",
       "  a  225.000000\n",
       "b b   49.312253\n",
       "  b   54.312253\n",
       "  b   66.312253\n",
       "c c   22.000000\n",
       "d d   64.000000\n",
       "  d   95.000000"
      ]
     },
     "execution_count": 64,
     "metadata": {},
     "output_type": "execute_result"
    }
   ],
   "source": [
    "# dff\n",
    "dff = dff[0:10]\n",
    "dff\n"
   ]
  },
  {
   "cell_type": "code",
   "execution_count": 66,
   "metadata": {},
   "outputs": [
    {
     "data": {
      "text/html": [
       "<div>\n",
       "<style scoped>\n",
       "    .dataframe tbody tr th:only-of-type {\n",
       "        vertical-align: middle;\n",
       "    }\n",
       "\n",
       "    .dataframe tbody tr th {\n",
       "        vertical-align: top;\n",
       "    }\n",
       "\n",
       "    .dataframe thead th {\n",
       "        text-align: right;\n",
       "    }\n",
       "</style>\n",
       "<table border=\"1\" class=\"dataframe\">\n",
       "  <thead>\n",
       "    <tr style=\"text-align: right;\">\n",
       "      <th></th>\n",
       "      <th>A</th>\n",
       "    </tr>\n",
       "  </thead>\n",
       "  <tbody>\n",
       "    <tr>\n",
       "      <th>b</th>\n",
       "      <td>49.312253</td>\n",
       "    </tr>\n",
       "    <tr>\n",
       "      <th>a</th>\n",
       "      <td>46.000000</td>\n",
       "    </tr>\n",
       "    <tr>\n",
       "      <th>a</th>\n",
       "      <td>11.000000</td>\n",
       "    </tr>\n",
       "    <tr>\n",
       "      <th>b</th>\n",
       "      <td>5.000000</td>\n",
       "    </tr>\n",
       "    <tr>\n",
       "      <th>d</th>\n",
       "      <td>64.000000</td>\n",
       "    </tr>\n",
       "    <tr>\n",
       "      <th>a</th>\n",
       "      <td>76.000000</td>\n",
       "    </tr>\n",
       "    <tr>\n",
       "      <th>d</th>\n",
       "      <td>31.000000</td>\n",
       "    </tr>\n",
       "    <tr>\n",
       "      <th>a</th>\n",
       "      <td>92.000000</td>\n",
       "    </tr>\n",
       "    <tr>\n",
       "      <th>c</th>\n",
       "      <td>22.000000</td>\n",
       "    </tr>\n",
       "    <tr>\n",
       "      <th>b</th>\n",
       "      <td>12.000000</td>\n",
       "    </tr>\n",
       "  </tbody>\n",
       "</table>\n",
       "</div>"
      ],
      "text/plain": [
       "           A\n",
       "b  49.312253\n",
       "a  46.000000\n",
       "a  11.000000\n",
       "b   5.000000\n",
       "d  64.000000\n",
       "a  76.000000\n",
       "d  31.000000\n",
       "a  92.000000\n",
       "c  22.000000\n",
       "b  12.000000"
      ]
     },
     "execution_count": 66,
     "metadata": {},
     "output_type": "execute_result"
    }
   ],
   "source": [
    "dff"
   ]
  },
  {
   "cell_type": "code",
   "execution_count": 65,
   "metadata": {},
   "outputs": [
    {
     "data": {
      "text/html": [
       "<div>\n",
       "<style scoped>\n",
       "    .dataframe tbody tr th:only-of-type {\n",
       "        vertical-align: middle;\n",
       "    }\n",
       "\n",
       "    .dataframe tbody tr th {\n",
       "        vertical-align: top;\n",
       "    }\n",
       "\n",
       "    .dataframe thead th {\n",
       "        text-align: right;\n",
       "    }\n",
       "</style>\n",
       "<table border=\"1\" class=\"dataframe\">\n",
       "  <thead>\n",
       "    <tr style=\"text-align: right;\">\n",
       "      <th></th>\n",
       "      <th></th>\n",
       "      <th>A</th>\n",
       "    </tr>\n",
       "  </thead>\n",
       "  <tbody>\n",
       "    <tr>\n",
       "      <th rowspan=\"4\" valign=\"top\">a</th>\n",
       "      <th>a</th>\n",
       "      <td>46.000000</td>\n",
       "    </tr>\n",
       "    <tr>\n",
       "      <th>a</th>\n",
       "      <td>57.000000</td>\n",
       "    </tr>\n",
       "    <tr>\n",
       "      <th>a</th>\n",
       "      <td>133.000000</td>\n",
       "    </tr>\n",
       "    <tr>\n",
       "      <th>a</th>\n",
       "      <td>225.000000</td>\n",
       "    </tr>\n",
       "    <tr>\n",
       "      <th rowspan=\"3\" valign=\"top\">b</th>\n",
       "      <th>b</th>\n",
       "      <td>49.312253</td>\n",
       "    </tr>\n",
       "    <tr>\n",
       "      <th>b</th>\n",
       "      <td>54.312253</td>\n",
       "    </tr>\n",
       "    <tr>\n",
       "      <th>b</th>\n",
       "      <td>66.312253</td>\n",
       "    </tr>\n",
       "    <tr>\n",
       "      <th>c</th>\n",
       "      <th>c</th>\n",
       "      <td>22.000000</td>\n",
       "    </tr>\n",
       "    <tr>\n",
       "      <th rowspan=\"2\" valign=\"top\">d</th>\n",
       "      <th>d</th>\n",
       "      <td>64.000000</td>\n",
       "    </tr>\n",
       "    <tr>\n",
       "      <th>d</th>\n",
       "      <td>95.000000</td>\n",
       "    </tr>\n",
       "  </tbody>\n",
       "</table>\n",
       "</div>"
      ],
      "text/plain": [
       "              A\n",
       "a a   46.000000\n",
       "  a   57.000000\n",
       "  a  133.000000\n",
       "  a  225.000000\n",
       "b b   49.312253\n",
       "  b   54.312253\n",
       "  b   66.312253\n",
       "c c   22.000000\n",
       "d d   64.000000\n",
       "  d   95.000000"
      ]
     },
     "execution_count": 65,
     "metadata": {},
     "output_type": "execute_result"
    }
   ],
   "source": [
    "dff.groupby(level=0).expanding().sum()"
   ]
  },
  {
   "cell_type": "code",
   "execution_count": null,
   "metadata": {},
   "outputs": [],
   "source": []
  },
  {
   "cell_type": "markdown",
   "metadata": {},
   "source": [
    "### reseample, ffill()"
   ]
  },
  {
   "cell_type": "code",
   "execution_count": 67,
   "metadata": {},
   "outputs": [],
   "source": [
    "df_re = pd.DataFrame({'date': pd.date_range(start='2016-01-01', periods=4,\n",
    "                                            freq='W'),\n",
    "                       'group': [1, 1, 2, 2],\n",
    "                     'val': [5, 6, 7, 8]}).set_index('date')"
   ]
  },
  {
   "cell_type": "code",
   "execution_count": 68,
   "metadata": {},
   "outputs": [
    {
     "data": {
      "text/html": [
       "<div>\n",
       "<style scoped>\n",
       "    .dataframe tbody tr th:only-of-type {\n",
       "        vertical-align: middle;\n",
       "    }\n",
       "\n",
       "    .dataframe tbody tr th {\n",
       "        vertical-align: top;\n",
       "    }\n",
       "\n",
       "    .dataframe thead th {\n",
       "        text-align: right;\n",
       "    }\n",
       "</style>\n",
       "<table border=\"1\" class=\"dataframe\">\n",
       "  <thead>\n",
       "    <tr style=\"text-align: right;\">\n",
       "      <th></th>\n",
       "      <th>group</th>\n",
       "      <th>val</th>\n",
       "    </tr>\n",
       "    <tr>\n",
       "      <th>date</th>\n",
       "      <th></th>\n",
       "      <th></th>\n",
       "    </tr>\n",
       "  </thead>\n",
       "  <tbody>\n",
       "    <tr>\n",
       "      <th>2016-01-03</th>\n",
       "      <td>1</td>\n",
       "      <td>5</td>\n",
       "    </tr>\n",
       "    <tr>\n",
       "      <th>2016-01-10</th>\n",
       "      <td>1</td>\n",
       "      <td>6</td>\n",
       "    </tr>\n",
       "    <tr>\n",
       "      <th>2016-01-17</th>\n",
       "      <td>2</td>\n",
       "      <td>7</td>\n",
       "    </tr>\n",
       "    <tr>\n",
       "      <th>2016-01-24</th>\n",
       "      <td>2</td>\n",
       "      <td>8</td>\n",
       "    </tr>\n",
       "  </tbody>\n",
       "</table>\n",
       "</div>"
      ],
      "text/plain": [
       "            group  val\n",
       "date                  \n",
       "2016-01-03      1    5\n",
       "2016-01-10      1    6\n",
       "2016-01-17      2    7\n",
       "2016-01-24      2    8"
      ]
     },
     "execution_count": 68,
     "metadata": {},
     "output_type": "execute_result"
    }
   ],
   "source": [
    "df_re"
   ]
  },
  {
   "cell_type": "code",
   "execution_count": 71,
   "metadata": {},
   "outputs": [],
   "source": [
    "#  to get a daily frequency in each group of your dataframe and wish to complete the missing values with the ffill() method."
   ]
  },
  {
   "cell_type": "code",
   "execution_count": 69,
   "metadata": {},
   "outputs": [
    {
     "data": {
      "text/html": [
       "<div>\n",
       "<style scoped>\n",
       "    .dataframe tbody tr th:only-of-type {\n",
       "        vertical-align: middle;\n",
       "    }\n",
       "\n",
       "    .dataframe tbody tr th {\n",
       "        vertical-align: top;\n",
       "    }\n",
       "\n",
       "    .dataframe thead th {\n",
       "        text-align: right;\n",
       "    }\n",
       "</style>\n",
       "<table border=\"1\" class=\"dataframe\">\n",
       "  <thead>\n",
       "    <tr style=\"text-align: right;\">\n",
       "      <th></th>\n",
       "      <th></th>\n",
       "      <th>group</th>\n",
       "      <th>val</th>\n",
       "    </tr>\n",
       "    <tr>\n",
       "      <th>group</th>\n",
       "      <th>date</th>\n",
       "      <th></th>\n",
       "      <th></th>\n",
       "    </tr>\n",
       "  </thead>\n",
       "  <tbody>\n",
       "    <tr>\n",
       "      <th rowspan=\"8\" valign=\"top\">1</th>\n",
       "      <th>2016-01-03</th>\n",
       "      <td>1</td>\n",
       "      <td>5</td>\n",
       "    </tr>\n",
       "    <tr>\n",
       "      <th>2016-01-04</th>\n",
       "      <td>1</td>\n",
       "      <td>5</td>\n",
       "    </tr>\n",
       "    <tr>\n",
       "      <th>2016-01-05</th>\n",
       "      <td>1</td>\n",
       "      <td>5</td>\n",
       "    </tr>\n",
       "    <tr>\n",
       "      <th>2016-01-06</th>\n",
       "      <td>1</td>\n",
       "      <td>5</td>\n",
       "    </tr>\n",
       "    <tr>\n",
       "      <th>2016-01-07</th>\n",
       "      <td>1</td>\n",
       "      <td>5</td>\n",
       "    </tr>\n",
       "    <tr>\n",
       "      <th>2016-01-08</th>\n",
       "      <td>1</td>\n",
       "      <td>5</td>\n",
       "    </tr>\n",
       "    <tr>\n",
       "      <th>2016-01-09</th>\n",
       "      <td>1</td>\n",
       "      <td>5</td>\n",
       "    </tr>\n",
       "    <tr>\n",
       "      <th>2016-01-10</th>\n",
       "      <td>1</td>\n",
       "      <td>6</td>\n",
       "    </tr>\n",
       "    <tr>\n",
       "      <th rowspan=\"8\" valign=\"top\">2</th>\n",
       "      <th>2016-01-17</th>\n",
       "      <td>2</td>\n",
       "      <td>7</td>\n",
       "    </tr>\n",
       "    <tr>\n",
       "      <th>2016-01-18</th>\n",
       "      <td>2</td>\n",
       "      <td>7</td>\n",
       "    </tr>\n",
       "    <tr>\n",
       "      <th>2016-01-19</th>\n",
       "      <td>2</td>\n",
       "      <td>7</td>\n",
       "    </tr>\n",
       "    <tr>\n",
       "      <th>2016-01-20</th>\n",
       "      <td>2</td>\n",
       "      <td>7</td>\n",
       "    </tr>\n",
       "    <tr>\n",
       "      <th>2016-01-21</th>\n",
       "      <td>2</td>\n",
       "      <td>7</td>\n",
       "    </tr>\n",
       "    <tr>\n",
       "      <th>2016-01-22</th>\n",
       "      <td>2</td>\n",
       "      <td>7</td>\n",
       "    </tr>\n",
       "    <tr>\n",
       "      <th>2016-01-23</th>\n",
       "      <td>2</td>\n",
       "      <td>7</td>\n",
       "    </tr>\n",
       "    <tr>\n",
       "      <th>2016-01-24</th>\n",
       "      <td>2</td>\n",
       "      <td>8</td>\n",
       "    </tr>\n",
       "  </tbody>\n",
       "</table>\n",
       "</div>"
      ],
      "text/plain": [
       "                  group  val\n",
       "group date                  \n",
       "1     2016-01-03      1    5\n",
       "      2016-01-04      1    5\n",
       "      2016-01-05      1    5\n",
       "      2016-01-06      1    5\n",
       "      2016-01-07      1    5\n",
       "      2016-01-08      1    5\n",
       "      2016-01-09      1    5\n",
       "      2016-01-10      1    6\n",
       "2     2016-01-17      2    7\n",
       "      2016-01-18      2    7\n",
       "      2016-01-19      2    7\n",
       "      2016-01-20      2    7\n",
       "      2016-01-21      2    7\n",
       "      2016-01-22      2    7\n",
       "      2016-01-23      2    7\n",
       "      2016-01-24      2    8"
      ]
     },
     "execution_count": 69,
     "metadata": {},
     "output_type": "execute_result"
    }
   ],
   "source": [
    "df_re.groupby('group').resample('1D').ffill()"
   ]
  },
  {
   "cell_type": "markdown",
   "metadata": {},
   "source": [
    "### Filtration"
   ]
  },
  {
   "cell_type": "markdown",
   "metadata": {},
   "source": [
    "### TODO"
   ]
  },
  {
   "cell_type": "code",
   "execution_count": 1,
   "metadata": {},
   "outputs": [],
   "source": [
    "import pandas as pd"
   ]
  },
  {
   "cell_type": "code",
   "execution_count": null,
   "metadata": {},
   "outputs": [],
   "source": []
  },
  {
   "cell_type": "code",
   "execution_count": 2,
   "metadata": {},
   "outputs": [],
   "source": [
    "data = pd.read_csv(\"drugsale_test_data.csv\")\n",
    "\n",
    "uniquekeys = ['PMD_YEAR', 'PMD_QUARTER', 'PMD_CITY', 'PMD_MEDICINALINFORMATIONID', 'PMD_COMPANYID',\n",
    "             'PMD_MEDICINALSALENUMBER']"
   ]
  },
  {
   "cell_type": "code",
   "execution_count": 3,
   "metadata": {},
   "outputs": [
    {
     "data": {
      "text/html": [
       "<div>\n",
       "<style scoped>\n",
       "    .dataframe tbody tr th:only-of-type {\n",
       "        vertical-align: middle;\n",
       "    }\n",
       "\n",
       "    .dataframe tbody tr th {\n",
       "        vertical-align: top;\n",
       "    }\n",
       "\n",
       "    .dataframe thead th {\n",
       "        text-align: right;\n",
       "    }\n",
       "</style>\n",
       "<table border=\"1\" class=\"dataframe\">\n",
       "  <thead>\n",
       "    <tr style=\"text-align: right;\">\n",
       "      <th></th>\n",
       "      <th>ID</th>\n",
       "      <th>PMD_YEAR</th>\n",
       "      <th>PMD_QUARTER</th>\n",
       "      <th>PMD_CITY</th>\n",
       "      <th>PMD_MEDICINALSALEMONEY</th>\n",
       "      <th>PMD_MEDICINALSALENUMBER</th>\n",
       "      <th>PMD_MEDICINALNAME</th>\n",
       "      <th>PMD_COMPANYNAME</th>\n",
       "      <th>PMD_COMPANYID</th>\n",
       "      <th>PMD_MEDICINALINFORMATIONID</th>\n",
       "      <th>...</th>\n",
       "      <th>PMD_USEMETHOD</th>\n",
       "      <th>ETL_CRC</th>\n",
       "      <th>QA_RULE_CHK_FLG</th>\n",
       "      <th>QA_MANUAL_FLG</th>\n",
       "      <th>QA_ACTIVE_FLG</th>\n",
       "      <th>CREATE_BY</th>\n",
       "      <th>CREATE_TIME</th>\n",
       "      <th>UPDATE_BY</th>\n",
       "      <th>UPDATE_TIME</th>\n",
       "      <th>TMSTAMP</th>\n",
       "    </tr>\n",
       "  </thead>\n",
       "  <tbody>\n",
       "    <tr>\n",
       "      <th>0</th>\n",
       "      <td>251401</td>\n",
       "      <td>2013</td>\n",
       "      <td>1</td>\n",
       "      <td>北京</td>\n",
       "      <td>750711.0000</td>\n",
       "      <td>328700.0</td>\n",
       "      <td>莫沙必利</td>\n",
       "      <td>日本住友制药</td>\n",
       "      <td>M3078</td>\n",
       "      <td>D0047870410AAA1303T010</td>\n",
       "      <td>...</td>\n",
       "      <td>内服</td>\n",
       "      <td>768914384</td>\n",
       "      <td>NaN</td>\n",
       "      <td>NaN</td>\n",
       "      <td>True</td>\n",
       "      <td>ETL</td>\n",
       "      <td>2018-11-01 20:49:59.333</td>\n",
       "      <td>ETL</td>\n",
       "      <td>2018-11-01 20:49:59.333</td>\n",
       "      <td>NaN</td>\n",
       "    </tr>\n",
       "    <tr>\n",
       "      <th>1</th>\n",
       "      <td>251417</td>\n",
       "      <td>2013</td>\n",
       "      <td>1</td>\n",
       "      <td>北京</td>\n",
       "      <td>55440.0000</td>\n",
       "      <td>48960.0</td>\n",
       "      <td>琥珀酸亚铁</td>\n",
       "      <td>四川奥邦药业</td>\n",
       "      <td>M3758</td>\n",
       "      <td>D0031030200AAA0102T024</td>\n",
       "      <td>...</td>\n",
       "      <td>内服</td>\n",
       "      <td>3631507639</td>\n",
       "      <td>NaN</td>\n",
       "      <td>NaN</td>\n",
       "      <td>True</td>\n",
       "      <td>ETL</td>\n",
       "      <td>2018-11-01 20:49:59.333</td>\n",
       "      <td>ETL</td>\n",
       "      <td>2018-11-01 20:49:59.333</td>\n",
       "      <td>NaN</td>\n",
       "    </tr>\n",
       "    <tr>\n",
       "      <th>2</th>\n",
       "      <td>2158330</td>\n",
       "      <td>2013</td>\n",
       "      <td>1</td>\n",
       "      <td>北京市</td>\n",
       "      <td>72513.2415</td>\n",
       "      <td>5843.0</td>\n",
       "      <td>金嗓散结</td>\n",
       "      <td>西安碑林药业</td>\n",
       "      <td>M4260</td>\n",
       "      <td>D0036600200DAA0102T131</td>\n",
       "      <td>...</td>\n",
       "      <td>内服</td>\n",
       "      <td>1796643922</td>\n",
       "      <td>NaN</td>\n",
       "      <td>NaN</td>\n",
       "      <td>True</td>\n",
       "      <td>talend_load@SHN1708DSL9YF2</td>\n",
       "      <td>2019-02-28 11:31:44.000</td>\n",
       "      <td>talend_load@SHN1708DSL9YF2</td>\n",
       "      <td>2019-02-28 11:31:44.000</td>\n",
       "      <td>NaN</td>\n",
       "    </tr>\n",
       "    <tr>\n",
       "      <th>3</th>\n",
       "      <td>2158331</td>\n",
       "      <td>2013</td>\n",
       "      <td>1</td>\n",
       "      <td>北京市</td>\n",
       "      <td>761737.0410</td>\n",
       "      <td>22656.0</td>\n",
       "      <td>坤宝</td>\n",
       "      <td>北京同仁堂股份同仁堂制药</td>\n",
       "      <td>M0489</td>\n",
       "      <td>D0040550100DAA1274T020</td>\n",
       "      <td>...</td>\n",
       "      <td>内服</td>\n",
       "      <td>3480623486</td>\n",
       "      <td>NaN</td>\n",
       "      <td>NaN</td>\n",
       "      <td>True</td>\n",
       "      <td>talend_load@SHN1708DSL9YF2</td>\n",
       "      <td>2019-02-28 11:31:44.000</td>\n",
       "      <td>talend_load@SHN1708DSL9YF2</td>\n",
       "      <td>2019-02-28 11:31:44.000</td>\n",
       "      <td>NaN</td>\n",
       "    </tr>\n",
       "    <tr>\n",
       "      <th>4</th>\n",
       "      <td>2158332</td>\n",
       "      <td>2013</td>\n",
       "      <td>1</td>\n",
       "      <td>北京市</td>\n",
       "      <td>2704.2472</td>\n",
       "      <td>158.0</td>\n",
       "      <td>尿感宁</td>\n",
       "      <td>贵州信邦制药</td>\n",
       "      <td>M1316</td>\n",
       "      <td>D0049040100CAA0237T012</td>\n",
       "      <td>...</td>\n",
       "      <td>内服</td>\n",
       "      <td>1337064295</td>\n",
       "      <td>NaN</td>\n",
       "      <td>NaN</td>\n",
       "      <td>True</td>\n",
       "      <td>talend_load@SHN1708DSL9YF2</td>\n",
       "      <td>2019-02-28 11:31:44.000</td>\n",
       "      <td>talend_load@SHN1708DSL9YF2</td>\n",
       "      <td>2019-02-28 11:31:44.000</td>\n",
       "      <td>NaN</td>\n",
       "    </tr>\n",
       "  </tbody>\n",
       "</table>\n",
       "<p>5 rows × 37 columns</p>\n",
       "</div>"
      ],
      "text/plain": [
       "        ID  PMD_YEAR  PMD_QUARTER PMD_CITY  PMD_MEDICINALSALEMONEY  \\\n",
       "0   251401      2013            1       北京             750711.0000   \n",
       "1   251417      2013            1       北京              55440.0000   \n",
       "2  2158330      2013            1      北京市              72513.2415   \n",
       "3  2158331      2013            1      北京市             761737.0410   \n",
       "4  2158332      2013            1      北京市               2704.2472   \n",
       "\n",
       "   PMD_MEDICINALSALENUMBER PMD_MEDICINALNAME PMD_COMPANYNAME PMD_COMPANYID  \\\n",
       "0                 328700.0              莫沙必利          日本住友制药         M3078   \n",
       "1                  48960.0             琥珀酸亚铁          四川奥邦药业         M3758   \n",
       "2                   5843.0              金嗓散结          西安碑林药业         M4260   \n",
       "3                  22656.0                坤宝    北京同仁堂股份同仁堂制药         M0489   \n",
       "4                    158.0               尿感宁          贵州信邦制药         M1316   \n",
       "\n",
       "  PMD_MEDICINALINFORMATIONID   ...    PMD_USEMETHOD     ETL_CRC  \\\n",
       "0     D0047870410AAA1303T010   ...               内服   768914384   \n",
       "1     D0031030200AAA0102T024   ...               内服  3631507639   \n",
       "2     D0036600200DAA0102T131   ...               内服  1796643922   \n",
       "3     D0040550100DAA1274T020   ...               内服  3480623486   \n",
       "4     D0049040100CAA0237T012   ...               内服  1337064295   \n",
       "\n",
       "   QA_RULE_CHK_FLG  QA_MANUAL_FLG  QA_ACTIVE_FLG                   CREATE_BY  \\\n",
       "0              NaN            NaN           True                         ETL   \n",
       "1              NaN            NaN           True                         ETL   \n",
       "2              NaN            NaN           True  talend_load@SHN1708DSL9YF2   \n",
       "3              NaN            NaN           True  talend_load@SHN1708DSL9YF2   \n",
       "4              NaN            NaN           True  talend_load@SHN1708DSL9YF2   \n",
       "\n",
       "               CREATE_TIME                   UPDATE_BY  \\\n",
       "0  2018-11-01 20:49:59.333                         ETL   \n",
       "1  2018-11-01 20:49:59.333                         ETL   \n",
       "2  2019-02-28 11:31:44.000  talend_load@SHN1708DSL9YF2   \n",
       "3  2019-02-28 11:31:44.000  talend_load@SHN1708DSL9YF2   \n",
       "4  2019-02-28 11:31:44.000  talend_load@SHN1708DSL9YF2   \n",
       "\n",
       "               UPDATE_TIME  TMSTAMP  \n",
       "0  2018-11-01 20:49:59.333      NaN  \n",
       "1  2018-11-01 20:49:59.333      NaN  \n",
       "2  2019-02-28 11:31:44.000      NaN  \n",
       "3  2019-02-28 11:31:44.000      NaN  \n",
       "4  2019-02-28 11:31:44.000      NaN  \n",
       "\n",
       "[5 rows x 37 columns]"
      ]
     },
     "execution_count": 3,
     "metadata": {},
     "output_type": "execute_result"
    }
   ],
   "source": [
    "data.head()"
   ]
  },
  {
   "cell_type": "code",
   "execution_count": null,
   "metadata": {},
   "outputs": [],
   "source": []
  },
  {
   "cell_type": "markdown",
   "metadata": {},
   "source": [
    "### count()会作用在所有不在uniquekeys给定的列上，生成一个由uniquekeys做多级索引的DateFrame。比如df中的列为[a,b,c,d,e], uniquekeys=[a,b,c], 那么count()会同时作用在[d,e]列上， 而[a,b,c]成为多级索引。info()可以看到相关信息。通常没有必要在[d,e]列上各做一次count，当df中的列数特别多时，就更不推荐这么用了。"
   ]
  },
  {
   "cell_type": "code",
   "execution_count": 50,
   "metadata": {},
   "outputs": [],
   "source": [
    "data.groupby(uniquekeys).count().info()#.reset_index()"
   ]
  },
  {
   "cell_type": "markdown",
   "metadata": {},
   "source": [
    "### 也可以用as_index=False设置不生成多级索引"
   ]
  },
  {
   "cell_type": "code",
   "execution_count": 6,
   "metadata": {},
   "outputs": [
    {
     "ename": "NameError",
     "evalue": "name 'mean' is not defined",
     "output_type": "error",
     "traceback": [
      "\u001b[1;31m---------------------------------------------------------------------------\u001b[0m",
      "\u001b[1;31mNameError\u001b[0m                                 Traceback (most recent call last)",
      "\u001b[1;32m<ipython-input-6-b2ecdd54d5c0>\u001b[0m in \u001b[0;36m<module>\u001b[1;34m()\u001b[0m\n\u001b[1;32m----> 1\u001b[1;33m \u001b[0mdata\u001b[0m\u001b[1;33m.\u001b[0m\u001b[0mgroupby\u001b[0m\u001b[1;33m(\u001b[0m\u001b[0muniquekeys\u001b[0m\u001b[1;33m,\u001b[0m \u001b[0mas_index\u001b[0m\u001b[1;33m=\u001b[0m\u001b[0mFalse\u001b[0m\u001b[1;33m)\u001b[0m\u001b[1;33m.\u001b[0m\u001b[0mapply\u001b[0m\u001b[1;33m(\u001b[0m\u001b[0mmean\u001b[0m\u001b[1;33m)\u001b[0m\u001b[1;33m\u001b[0m\u001b[0m\n\u001b[0m",
      "\u001b[1;31mNameError\u001b[0m: name 'mean' is not defined"
     ]
    }
   ],
   "source": [
    "data.groupby(uniquekeys, as_index=False).apply(mean)"
   ]
  },
  {
   "cell_type": "code",
   "execution_count": 4,
   "metadata": {},
   "outputs": [
    {
     "name": "stdout",
     "output_type": "stream",
     "text": [
      "<class 'pandas.core.frame.DataFrame'>\n",
      "Int64Index: 73054 entries, 0 to 73053\n",
      "Data columns (total 37 columns):\n",
      "PMD_YEAR                      73054 non-null int64\n",
      "PMD_QUARTER                   73054 non-null int64\n",
      "PMD_CITY                      73054 non-null object\n",
      "PMD_MEDICINALINFORMATIONID    73054 non-null object\n",
      "PMD_COMPANYID                 73054 non-null object\n",
      "PMD_MEDICINALSALENUMBER       73054 non-null float64\n",
      "ID                            73054 non-null int64\n",
      "PMD_MEDICINALSALEMONEY        73054 non-null int64\n",
      "PMD_MEDICINALNAME             73054 non-null int64\n",
      "PMD_COMPANYNAME               73054 non-null int64\n",
      "PMD_MEDICINALID               73054 non-null int64\n",
      "PMD_ID                        73054 non-null int64\n",
      "PMD_REMARK1                   73054 non-null int64\n",
      "PMD_REMARK2                   73054 non-null int64\n",
      "PMD_REMARK3                   73054 non-null int64\n",
      "PMD_REMARK4                   73054 non-null int64\n",
      "PMD_REMARK5                   73054 non-null int64\n",
      "CREATE_DATE                   73054 non-null int64\n",
      "CREATE_USER                   73054 non-null int64\n",
      "UPDATE_DATE                   73054 non-null int64\n",
      "UPDATE_USER                   73054 non-null int64\n",
      "VERSION                       73054 non-null int64\n",
      "STATUS                        73054 non-null int64\n",
      "PMD_DATABASE                  73054 non-null int64\n",
      "PMD_CLASS                     73054 non-null int64\n",
      "PMD_DOSFORM                   73054 non-null int64\n",
      "PMD_SPECIFICIAL               73054 non-null int64\n",
      "PMD_USEMETHOD                 73054 non-null int64\n",
      "ETL_CRC                       73054 non-null int64\n",
      "QA_RULE_CHK_FLG               73054 non-null int64\n",
      "QA_MANUAL_FLG                 73054 non-null int64\n",
      "QA_ACTIVE_FLG                 73054 non-null int64\n",
      "CREATE_BY                     73054 non-null int64\n",
      "CREATE_TIME                   73054 non-null int64\n",
      "UPDATE_BY                     73054 non-null int64\n",
      "UPDATE_TIME                   73054 non-null int64\n",
      "TMSTAMP                       73054 non-null int64\n",
      "dtypes: float64(1), int64(33), object(3)\n",
      "memory usage: 21.2+ MB\n"
     ]
    }
   ],
   "source": [
    "data.groupby(uniquekeys, as_index=False).count().info()#.reset_index()"
   ]
  },
  {
   "cell_type": "markdown",
   "metadata": {},
   "source": [
    "### reset_index()可以将多级索引转换为普通的列。"
   ]
  },
  {
   "cell_type": "code",
   "execution_count": 51,
   "metadata": {},
   "outputs": [],
   "source": [
    "data.groupby(uniquekeys).count().reset_index()"
   ]
  },
  {
   "cell_type": "markdown",
   "metadata": {},
   "source": [
    "### size()的结果中只会保留uniquekeys中存在的列, 并新增一个名叫'counts'的计数列。 也是呈目录树状的级联结构，但它不是一个DateFrame, 查看类型会发现是Series。可以用reset_index转换成DateFrame。"
   ]
  },
  {
   "cell_type": "code",
   "execution_count": 52,
   "metadata": {},
   "outputs": [],
   "source": [
    "# data.groupby(uniquekeys).size()"
   ]
  },
  {
   "cell_type": "markdown",
   "metadata": {},
   "source": [
    "### reset_index()直接作用在size()后面，再赋予新增的计数列列名'counts'可以得到一个看上去干净清爽的DateFrame, 同时满足获取各个group的计数的需求。"
   ]
  },
  {
   "cell_type": "code",
   "execution_count": 7,
   "metadata": {},
   "outputs": [],
   "source": [
    "df=data[[\"PMD_MEDICINALSALENUMBER\",'PMD_COMPANYID']]"
   ]
  },
  {
   "cell_type": "code",
   "execution_count": 13,
   "metadata": {},
   "outputs": [],
   "source": [
    "def date_range(df):\n",
    "    tmp = pd.DataFrame([[min(df['PMD_MEDICINALSALENUMBER']), max(df['PMD_MEDICINALSALENUMBER'])]],columns=['min','max'])\n",
    "    \n",
    "    return tmp"
   ]
  },
  {
   "cell_type": "code",
   "execution_count": 14,
   "metadata": {},
   "outputs": [
    {
     "data": {
      "text/html": [
       "<div>\n",
       "<style scoped>\n",
       "    .dataframe tbody tr th:only-of-type {\n",
       "        vertical-align: middle;\n",
       "    }\n",
       "\n",
       "    .dataframe tbody tr th {\n",
       "        vertical-align: top;\n",
       "    }\n",
       "\n",
       "    .dataframe thead th {\n",
       "        text-align: right;\n",
       "    }\n",
       "</style>\n",
       "<table border=\"1\" class=\"dataframe\">\n",
       "  <thead>\n",
       "    <tr style=\"text-align: right;\">\n",
       "      <th></th>\n",
       "      <th></th>\n",
       "      <th>min</th>\n",
       "      <th>max</th>\n",
       "    </tr>\n",
       "    <tr>\n",
       "      <th>PMD_COMPANYID</th>\n",
       "      <th></th>\n",
       "      <th></th>\n",
       "      <th></th>\n",
       "    </tr>\n",
       "  </thead>\n",
       "  <tbody>\n",
       "    <tr>\n",
       "      <th>M0002</th>\n",
       "      <th>0</th>\n",
       "      <td>5.0</td>\n",
       "      <td>3432.0</td>\n",
       "    </tr>\n",
       "    <tr>\n",
       "      <th>M0008</th>\n",
       "      <th>0</th>\n",
       "      <td>2.0</td>\n",
       "      <td>195.0</td>\n",
       "    </tr>\n",
       "    <tr>\n",
       "      <th>M0009</th>\n",
       "      <th>0</th>\n",
       "      <td>6720.0</td>\n",
       "      <td>16992.0</td>\n",
       "    </tr>\n",
       "    <tr>\n",
       "      <th>M0011</th>\n",
       "      <th>0</th>\n",
       "      <td>60060.0</td>\n",
       "      <td>173968.0</td>\n",
       "    </tr>\n",
       "    <tr>\n",
       "      <th>M0013</th>\n",
       "      <th>0</th>\n",
       "      <td>10.0</td>\n",
       "      <td>168000.0</td>\n",
       "    </tr>\n",
       "    <tr>\n",
       "      <th>M0016</th>\n",
       "      <th>0</th>\n",
       "      <td>13.0</td>\n",
       "      <td>496.0</td>\n",
       "    </tr>\n",
       "    <tr>\n",
       "      <th>M0020</th>\n",
       "      <th>0</th>\n",
       "      <td>-54.0</td>\n",
       "      <td>8887.0</td>\n",
       "    </tr>\n",
       "    <tr>\n",
       "      <th>M0029</th>\n",
       "      <th>0</th>\n",
       "      <td>160.0</td>\n",
       "      <td>3580.0</td>\n",
       "    </tr>\n",
       "    <tr>\n",
       "      <th>M0034</th>\n",
       "      <th>0</th>\n",
       "      <td>12.0</td>\n",
       "      <td>12.0</td>\n",
       "    </tr>\n",
       "    <tr>\n",
       "      <th>M0037</th>\n",
       "      <th>0</th>\n",
       "      <td>2000.0</td>\n",
       "      <td>33500.0</td>\n",
       "    </tr>\n",
       "    <tr>\n",
       "      <th>M0044</th>\n",
       "      <th>0</th>\n",
       "      <td>2500.0</td>\n",
       "      <td>332300.0</td>\n",
       "    </tr>\n",
       "    <tr>\n",
       "      <th>M0046</th>\n",
       "      <th>0</th>\n",
       "      <td>200.0</td>\n",
       "      <td>9575.0</td>\n",
       "    </tr>\n",
       "    <tr>\n",
       "      <th>M0047</th>\n",
       "      <th>0</th>\n",
       "      <td>1000.0</td>\n",
       "      <td>474100.0</td>\n",
       "    </tr>\n",
       "    <tr>\n",
       "      <th>M0049</th>\n",
       "      <th>0</th>\n",
       "      <td>150.0</td>\n",
       "      <td>17958.0</td>\n",
       "    </tr>\n",
       "    <tr>\n",
       "      <th>M0052</th>\n",
       "      <th>0</th>\n",
       "      <td>250.0</td>\n",
       "      <td>73250.0</td>\n",
       "    </tr>\n",
       "    <tr>\n",
       "      <th>M0053</th>\n",
       "      <th>0</th>\n",
       "      <td>40.0</td>\n",
       "      <td>600.0</td>\n",
       "    </tr>\n",
       "    <tr>\n",
       "      <th>M0069</th>\n",
       "      <th>0</th>\n",
       "      <td>25.0</td>\n",
       "      <td>23375.0</td>\n",
       "    </tr>\n",
       "    <tr>\n",
       "      <th>M0074</th>\n",
       "      <th>0</th>\n",
       "      <td>200.0</td>\n",
       "      <td>4480.0</td>\n",
       "    </tr>\n",
       "    <tr>\n",
       "      <th>M0083</th>\n",
       "      <th>0</th>\n",
       "      <td>14235.0</td>\n",
       "      <td>245715.0</td>\n",
       "    </tr>\n",
       "    <tr>\n",
       "      <th>M0084</th>\n",
       "      <th>0</th>\n",
       "      <td>7460.0</td>\n",
       "      <td>557480.0</td>\n",
       "    </tr>\n",
       "    <tr>\n",
       "      <th>M0089</th>\n",
       "      <th>0</th>\n",
       "      <td>-20.0</td>\n",
       "      <td>8545.0</td>\n",
       "    </tr>\n",
       "    <tr>\n",
       "      <th>M0098</th>\n",
       "      <th>0</th>\n",
       "      <td>12.0</td>\n",
       "      <td>4416.0</td>\n",
       "    </tr>\n",
       "    <tr>\n",
       "      <th>M0101</th>\n",
       "      <th>0</th>\n",
       "      <td>720.0</td>\n",
       "      <td>15264.0</td>\n",
       "    </tr>\n",
       "    <tr>\n",
       "      <th>M0113</th>\n",
       "      <th>0</th>\n",
       "      <td>300.0</td>\n",
       "      <td>111500.0</td>\n",
       "    </tr>\n",
       "    <tr>\n",
       "      <th>M0116</th>\n",
       "      <th>0</th>\n",
       "      <td>15.0</td>\n",
       "      <td>6625.0</td>\n",
       "    </tr>\n",
       "    <tr>\n",
       "      <th>M0117</th>\n",
       "      <th>0</th>\n",
       "      <td>70.0</td>\n",
       "      <td>3223.0</td>\n",
       "    </tr>\n",
       "    <tr>\n",
       "      <th>M0119</th>\n",
       "      <th>0</th>\n",
       "      <td>80.0</td>\n",
       "      <td>80.0</td>\n",
       "    </tr>\n",
       "    <tr>\n",
       "      <th>M0124</th>\n",
       "      <th>0</th>\n",
       "      <td>3600.0</td>\n",
       "      <td>653820.0</td>\n",
       "    </tr>\n",
       "    <tr>\n",
       "      <th>M0126</th>\n",
       "      <th>0</th>\n",
       "      <td>1400.0</td>\n",
       "      <td>112350.0</td>\n",
       "    </tr>\n",
       "    <tr>\n",
       "      <th>M0136</th>\n",
       "      <th>0</th>\n",
       "      <td>100.0</td>\n",
       "      <td>5100.0</td>\n",
       "    </tr>\n",
       "    <tr>\n",
       "      <th>...</th>\n",
       "      <th>...</th>\n",
       "      <td>...</td>\n",
       "      <td>...</td>\n",
       "    </tr>\n",
       "    <tr>\n",
       "      <th>M5416</th>\n",
       "      <th>0</th>\n",
       "      <td>90.0</td>\n",
       "      <td>722.0</td>\n",
       "    </tr>\n",
       "    <tr>\n",
       "      <th>M5419</th>\n",
       "      <th>0</th>\n",
       "      <td>230.0</td>\n",
       "      <td>9000.0</td>\n",
       "    </tr>\n",
       "    <tr>\n",
       "      <th>M5420</th>\n",
       "      <th>0</th>\n",
       "      <td>-115.0</td>\n",
       "      <td>1800.0</td>\n",
       "    </tr>\n",
       "    <tr>\n",
       "      <th>M5423</th>\n",
       "      <th>0</th>\n",
       "      <td>-9.0</td>\n",
       "      <td>15000.0</td>\n",
       "    </tr>\n",
       "    <tr>\n",
       "      <th>M5424</th>\n",
       "      <th>0</th>\n",
       "      <td>2340.0</td>\n",
       "      <td>148584.0</td>\n",
       "    </tr>\n",
       "    <tr>\n",
       "      <th>M5426</th>\n",
       "      <th>0</th>\n",
       "      <td>1.0</td>\n",
       "      <td>22280.0</td>\n",
       "    </tr>\n",
       "    <tr>\n",
       "      <th>M5428</th>\n",
       "      <th>0</th>\n",
       "      <td>185.0</td>\n",
       "      <td>48161.0</td>\n",
       "    </tr>\n",
       "    <tr>\n",
       "      <th>M5429</th>\n",
       "      <th>0</th>\n",
       "      <td>0.0</td>\n",
       "      <td>35990.0</td>\n",
       "    </tr>\n",
       "    <tr>\n",
       "      <th>M5434</th>\n",
       "      <th>0</th>\n",
       "      <td>44.0</td>\n",
       "      <td>1311.0</td>\n",
       "    </tr>\n",
       "    <tr>\n",
       "      <th>M5436</th>\n",
       "      <th>0</th>\n",
       "      <td>541.0</td>\n",
       "      <td>6470.0</td>\n",
       "    </tr>\n",
       "    <tr>\n",
       "      <th>M5438</th>\n",
       "      <th>0</th>\n",
       "      <td>300.0</td>\n",
       "      <td>473760.0</td>\n",
       "    </tr>\n",
       "    <tr>\n",
       "      <th>M5440</th>\n",
       "      <th>0</th>\n",
       "      <td>-3600.0</td>\n",
       "      <td>100982.0</td>\n",
       "    </tr>\n",
       "    <tr>\n",
       "      <th>M5442</th>\n",
       "      <th>0</th>\n",
       "      <td>-10.0</td>\n",
       "      <td>206100.0</td>\n",
       "    </tr>\n",
       "    <tr>\n",
       "      <th>M5448</th>\n",
       "      <th>0</th>\n",
       "      <td>100.0</td>\n",
       "      <td>206400.0</td>\n",
       "    </tr>\n",
       "    <tr>\n",
       "      <th>M5450</th>\n",
       "      <th>0</th>\n",
       "      <td>20.0</td>\n",
       "      <td>1612260.0</td>\n",
       "    </tr>\n",
       "    <tr>\n",
       "      <th>M5451</th>\n",
       "      <th>0</th>\n",
       "      <td>-800.0</td>\n",
       "      <td>1982400.0</td>\n",
       "    </tr>\n",
       "    <tr>\n",
       "      <th>M6854</th>\n",
       "      <th>0</th>\n",
       "      <td>351.0</td>\n",
       "      <td>69874.0</td>\n",
       "    </tr>\n",
       "    <tr>\n",
       "      <th>M7452</th>\n",
       "      <th>0</th>\n",
       "      <td>112.0</td>\n",
       "      <td>280.0</td>\n",
       "    </tr>\n",
       "    <tr>\n",
       "      <th>M7453</th>\n",
       "      <th>0</th>\n",
       "      <td>-15.0</td>\n",
       "      <td>44844.0</td>\n",
       "    </tr>\n",
       "    <tr>\n",
       "      <th>M7456</th>\n",
       "      <th>0</th>\n",
       "      <td>-420.0</td>\n",
       "      <td>874800.0</td>\n",
       "    </tr>\n",
       "    <tr>\n",
       "      <th>M7457</th>\n",
       "      <th>0</th>\n",
       "      <td>30.0</td>\n",
       "      <td>23663.0</td>\n",
       "    </tr>\n",
       "    <tr>\n",
       "      <th>M7459</th>\n",
       "      <th>0</th>\n",
       "      <td>100.0</td>\n",
       "      <td>5100.0</td>\n",
       "    </tr>\n",
       "    <tr>\n",
       "      <th>M7460</th>\n",
       "      <th>0</th>\n",
       "      <td>50.0</td>\n",
       "      <td>70890.0</td>\n",
       "    </tr>\n",
       "    <tr>\n",
       "      <th>M7462</th>\n",
       "      <th>0</th>\n",
       "      <td>158.0</td>\n",
       "      <td>21903.0</td>\n",
       "    </tr>\n",
       "    <tr>\n",
       "      <th>M7463</th>\n",
       "      <th>0</th>\n",
       "      <td>800.0</td>\n",
       "      <td>194500.0</td>\n",
       "    </tr>\n",
       "    <tr>\n",
       "      <th>M7465</th>\n",
       "      <th>0</th>\n",
       "      <td>70.0</td>\n",
       "      <td>3223.0</td>\n",
       "    </tr>\n",
       "    <tr>\n",
       "      <th>M7470</th>\n",
       "      <th>0</th>\n",
       "      <td>4086.0</td>\n",
       "      <td>4086.0</td>\n",
       "    </tr>\n",
       "    <tr>\n",
       "      <th>M7480</th>\n",
       "      <th>0</th>\n",
       "      <td>144.0</td>\n",
       "      <td>3390.0</td>\n",
       "    </tr>\n",
       "    <tr>\n",
       "      <th>M7481</th>\n",
       "      <th>0</th>\n",
       "      <td>20.0</td>\n",
       "      <td>130.0</td>\n",
       "    </tr>\n",
       "    <tr>\n",
       "      <th>M7506</th>\n",
       "      <th>0</th>\n",
       "      <td>221.0</td>\n",
       "      <td>21140.0</td>\n",
       "    </tr>\n",
       "  </tbody>\n",
       "</table>\n",
       "<p>2790 rows × 2 columns</p>\n",
       "</div>"
      ],
      "text/plain": [
       "                     min        max\n",
       "PMD_COMPANYID                      \n",
       "M0002         0      5.0     3432.0\n",
       "M0008         0      2.0      195.0\n",
       "M0009         0   6720.0    16992.0\n",
       "M0011         0  60060.0   173968.0\n",
       "M0013         0     10.0   168000.0\n",
       "M0016         0     13.0      496.0\n",
       "M0020         0    -54.0     8887.0\n",
       "M0029         0    160.0     3580.0\n",
       "M0034         0     12.0       12.0\n",
       "M0037         0   2000.0    33500.0\n",
       "M0044         0   2500.0   332300.0\n",
       "M0046         0    200.0     9575.0\n",
       "M0047         0   1000.0   474100.0\n",
       "M0049         0    150.0    17958.0\n",
       "M0052         0    250.0    73250.0\n",
       "M0053         0     40.0      600.0\n",
       "M0069         0     25.0    23375.0\n",
       "M0074         0    200.0     4480.0\n",
       "M0083         0  14235.0   245715.0\n",
       "M0084         0   7460.0   557480.0\n",
       "M0089         0    -20.0     8545.0\n",
       "M0098         0     12.0     4416.0\n",
       "M0101         0    720.0    15264.0\n",
       "M0113         0    300.0   111500.0\n",
       "M0116         0     15.0     6625.0\n",
       "M0117         0     70.0     3223.0\n",
       "M0119         0     80.0       80.0\n",
       "M0124         0   3600.0   653820.0\n",
       "M0126         0   1400.0   112350.0\n",
       "M0136         0    100.0     5100.0\n",
       "...                  ...        ...\n",
       "M5416         0     90.0      722.0\n",
       "M5419         0    230.0     9000.0\n",
       "M5420         0   -115.0     1800.0\n",
       "M5423         0     -9.0    15000.0\n",
       "M5424         0   2340.0   148584.0\n",
       "M5426         0      1.0    22280.0\n",
       "M5428         0    185.0    48161.0\n",
       "M5429         0      0.0    35990.0\n",
       "M5434         0     44.0     1311.0\n",
       "M5436         0    541.0     6470.0\n",
       "M5438         0    300.0   473760.0\n",
       "M5440         0  -3600.0   100982.0\n",
       "M5442         0    -10.0   206100.0\n",
       "M5448         0    100.0   206400.0\n",
       "M5450         0     20.0  1612260.0\n",
       "M5451         0   -800.0  1982400.0\n",
       "M6854         0    351.0    69874.0\n",
       "M7452         0    112.0      280.0\n",
       "M7453         0    -15.0    44844.0\n",
       "M7456         0   -420.0   874800.0\n",
       "M7457         0     30.0    23663.0\n",
       "M7459         0    100.0     5100.0\n",
       "M7460         0     50.0    70890.0\n",
       "M7462         0    158.0    21903.0\n",
       "M7463         0    800.0   194500.0\n",
       "M7465         0     70.0     3223.0\n",
       "M7470         0   4086.0     4086.0\n",
       "M7480         0    144.0     3390.0\n",
       "M7481         0     20.0      130.0\n",
       "M7506         0    221.0    21140.0\n",
       "\n",
       "[2790 rows x 2 columns]"
      ]
     },
     "execution_count": 14,
     "metadata": {},
     "output_type": "execute_result"
    }
   ],
   "source": [
    "df.groupby('PMD_COMPANYID').apply(date_range)"
   ]
  },
  {
   "cell_type": "code",
   "execution_count": 53,
   "metadata": {},
   "outputs": [
    {
     "data": {
      "text/html": [
       "<div>\n",
       "<style scoped>\n",
       "    .dataframe tbody tr th:only-of-type {\n",
       "        vertical-align: middle;\n",
       "    }\n",
       "\n",
       "    .dataframe tbody tr th {\n",
       "        vertical-align: top;\n",
       "    }\n",
       "\n",
       "    .dataframe thead th {\n",
       "        text-align: right;\n",
       "    }\n",
       "</style>\n",
       "<table border=\"1\" class=\"dataframe\">\n",
       "  <thead>\n",
       "    <tr style=\"text-align: right;\">\n",
       "      <th></th>\n",
       "      <th>PMD_YEAR</th>\n",
       "      <th>PMD_QUARTER</th>\n",
       "      <th>PMD_CITY</th>\n",
       "      <th>PMD_MEDICINALINFORMATIONID</th>\n",
       "      <th>PMD_COMPANYID</th>\n",
       "      <th>PMD_MEDICINALSALENUMBER</th>\n",
       "      <th>counts</th>\n",
       "    </tr>\n",
       "  </thead>\n",
       "  <tbody>\n",
       "    <tr>\n",
       "      <th>0</th>\n",
       "      <td>2013</td>\n",
       "      <td>1</td>\n",
       "      <td>上海</td>\n",
       "      <td>D0000100100LCD0131T001</td>\n",
       "      <td>M1359</td>\n",
       "      <td>120.0</td>\n",
       "      <td>3</td>\n",
       "    </tr>\n",
       "    <tr>\n",
       "      <th>1</th>\n",
       "      <td>2013</td>\n",
       "      <td>1</td>\n",
       "      <td>上海</td>\n",
       "      <td>D0000120100LCD0045T001</td>\n",
       "      <td>M2630</td>\n",
       "      <td>4322.0</td>\n",
       "      <td>3</td>\n",
       "    </tr>\n",
       "    <tr>\n",
       "      <th>2</th>\n",
       "      <td>2013</td>\n",
       "      <td>1</td>\n",
       "      <td>上海</td>\n",
       "      <td>D0000120100LCD0045T001</td>\n",
       "      <td>M2793</td>\n",
       "      <td>726.0</td>\n",
       "      <td>3</td>\n",
       "    </tr>\n",
       "    <tr>\n",
       "      <th>3</th>\n",
       "      <td>2013</td>\n",
       "      <td>1</td>\n",
       "      <td>上海</td>\n",
       "      <td>D0000160100CAA0141T015</td>\n",
       "      <td>M0083</td>\n",
       "      <td>67470.0</td>\n",
       "      <td>3</td>\n",
       "    </tr>\n",
       "    <tr>\n",
       "      <th>4</th>\n",
       "      <td>2013</td>\n",
       "      <td>1</td>\n",
       "      <td>上海</td>\n",
       "      <td>D0000180100LCB0195T001</td>\n",
       "      <td>M0838</td>\n",
       "      <td>4745.0</td>\n",
       "      <td>3</td>\n",
       "    </tr>\n",
       "    <tr>\n",
       "      <th>5</th>\n",
       "      <td>2013</td>\n",
       "      <td>1</td>\n",
       "      <td>上海</td>\n",
       "      <td>D0000210300AAA0497T010</td>\n",
       "      <td>M4828</td>\n",
       "      <td>520.0</td>\n",
       "      <td>3</td>\n",
       "    </tr>\n",
       "    <tr>\n",
       "      <th>6</th>\n",
       "      <td>2013</td>\n",
       "      <td>1</td>\n",
       "      <td>上海</td>\n",
       "      <td>D0000240100GBA0322T001</td>\n",
       "      <td>M3835</td>\n",
       "      <td>400.0</td>\n",
       "      <td>3</td>\n",
       "    </tr>\n",
       "    <tr>\n",
       "      <th>7</th>\n",
       "      <td>2013</td>\n",
       "      <td>1</td>\n",
       "      <td>上海</td>\n",
       "      <td>D0000240100GBA0832T001</td>\n",
       "      <td>M0828</td>\n",
       "      <td>800.0</td>\n",
       "      <td>3</td>\n",
       "    </tr>\n",
       "    <tr>\n",
       "      <th>8</th>\n",
       "      <td>2013</td>\n",
       "      <td>1</td>\n",
       "      <td>上海</td>\n",
       "      <td>D0000240100GBA0832T001</td>\n",
       "      <td>M2382</td>\n",
       "      <td>5017.0</td>\n",
       "      <td>3</td>\n",
       "    </tr>\n",
       "    <tr>\n",
       "      <th>9</th>\n",
       "      <td>2013</td>\n",
       "      <td>1</td>\n",
       "      <td>上海</td>\n",
       "      <td>D0000240100GBA0832T001</td>\n",
       "      <td>M3835</td>\n",
       "      <td>510.0</td>\n",
       "      <td>3</td>\n",
       "    </tr>\n",
       "    <tr>\n",
       "      <th>10</th>\n",
       "      <td>2013</td>\n",
       "      <td>1</td>\n",
       "      <td>上海</td>\n",
       "      <td>D0000240100GBA0832T001</td>\n",
       "      <td>M5354</td>\n",
       "      <td>200.0</td>\n",
       "      <td>3</td>\n",
       "    </tr>\n",
       "    <tr>\n",
       "      <th>11</th>\n",
       "      <td>2013</td>\n",
       "      <td>1</td>\n",
       "      <td>上海</td>\n",
       "      <td>D0000250100BAA0163T010</td>\n",
       "      <td>M2651</td>\n",
       "      <td>-230.0</td>\n",
       "      <td>3</td>\n",
       "    </tr>\n",
       "    <tr>\n",
       "      <th>12</th>\n",
       "      <td>2013</td>\n",
       "      <td>1</td>\n",
       "      <td>上海</td>\n",
       "      <td>D0000250100BAA0163T014</td>\n",
       "      <td>M4187</td>\n",
       "      <td>4200.0</td>\n",
       "      <td>3</td>\n",
       "    </tr>\n",
       "    <tr>\n",
       "      <th>13</th>\n",
       "      <td>2013</td>\n",
       "      <td>1</td>\n",
       "      <td>上海</td>\n",
       "      <td>D0000250100BAA0163T014</td>\n",
       "      <td>M4793</td>\n",
       "      <td>191506.0</td>\n",
       "      <td>3</td>\n",
       "    </tr>\n",
       "    <tr>\n",
       "      <th>14</th>\n",
       "      <td>2013</td>\n",
       "      <td>1</td>\n",
       "      <td>上海</td>\n",
       "      <td>D0000250200AAA0163T007</td>\n",
       "      <td>M3571</td>\n",
       "      <td>26460.0</td>\n",
       "      <td>3</td>\n",
       "    </tr>\n",
       "    <tr>\n",
       "      <th>15</th>\n",
       "      <td>2013</td>\n",
       "      <td>1</td>\n",
       "      <td>上海</td>\n",
       "      <td>D0000250200AAA0163T014</td>\n",
       "      <td>M0857</td>\n",
       "      <td>37800.0</td>\n",
       "      <td>3</td>\n",
       "    </tr>\n",
       "    <tr>\n",
       "      <th>16</th>\n",
       "      <td>2013</td>\n",
       "      <td>1</td>\n",
       "      <td>上海</td>\n",
       "      <td>D0000250200AAA0163T014</td>\n",
       "      <td>M0946</td>\n",
       "      <td>196840.0</td>\n",
       "      <td>3</td>\n",
       "    </tr>\n",
       "    <tr>\n",
       "      <th>17</th>\n",
       "      <td>2013</td>\n",
       "      <td>1</td>\n",
       "      <td>上海</td>\n",
       "      <td>D0000250200AAA0163T014</td>\n",
       "      <td>M2988</td>\n",
       "      <td>9520.0</td>\n",
       "      <td>3</td>\n",
       "    </tr>\n",
       "    <tr>\n",
       "      <th>18</th>\n",
       "      <td>2013</td>\n",
       "      <td>1</td>\n",
       "      <td>上海</td>\n",
       "      <td>D0000250200AAA0163T014</td>\n",
       "      <td>M3571</td>\n",
       "      <td>59262.0</td>\n",
       "      <td>3</td>\n",
       "    </tr>\n",
       "    <tr>\n",
       "      <th>19</th>\n",
       "      <td>2013</td>\n",
       "      <td>1</td>\n",
       "      <td>上海</td>\n",
       "      <td>D0000250200AAA0163T014</td>\n",
       "      <td>M4058</td>\n",
       "      <td>10416.0</td>\n",
       "      <td>3</td>\n",
       "    </tr>\n",
       "    <tr>\n",
       "      <th>20</th>\n",
       "      <td>2013</td>\n",
       "      <td>1</td>\n",
       "      <td>上海</td>\n",
       "      <td>D0000280300AAA0010T010</td>\n",
       "      <td>M0794</td>\n",
       "      <td>252300.0</td>\n",
       "      <td>3</td>\n",
       "    </tr>\n",
       "    <tr>\n",
       "      <th>21</th>\n",
       "      <td>2013</td>\n",
       "      <td>1</td>\n",
       "      <td>上海</td>\n",
       "      <td>D0000280300AAA0011T010</td>\n",
       "      <td>M0794</td>\n",
       "      <td>125900.0</td>\n",
       "      <td>3</td>\n",
       "    </tr>\n",
       "    <tr>\n",
       "      <th>22</th>\n",
       "      <td>2013</td>\n",
       "      <td>1</td>\n",
       "      <td>上海</td>\n",
       "      <td>D0000280400BAA0010T010</td>\n",
       "      <td>M5361</td>\n",
       "      <td>164000.0</td>\n",
       "      <td>3</td>\n",
       "    </tr>\n",
       "    <tr>\n",
       "      <th>23</th>\n",
       "      <td>2013</td>\n",
       "      <td>1</td>\n",
       "      <td>上海</td>\n",
       "      <td>D0000280400BAA0010T020</td>\n",
       "      <td>M2595</td>\n",
       "      <td>709400.0</td>\n",
       "      <td>3</td>\n",
       "    </tr>\n",
       "    <tr>\n",
       "      <th>24</th>\n",
       "      <td>2013</td>\n",
       "      <td>1</td>\n",
       "      <td>上海</td>\n",
       "      <td>D0000280400BAA0010T020</td>\n",
       "      <td>M2925</td>\n",
       "      <td>652640.0</td>\n",
       "      <td>3</td>\n",
       "    </tr>\n",
       "    <tr>\n",
       "      <th>25</th>\n",
       "      <td>2013</td>\n",
       "      <td>1</td>\n",
       "      <td>上海</td>\n",
       "      <td>D0000280400BAA0010T020</td>\n",
       "      <td>M3559</td>\n",
       "      <td>12000.0</td>\n",
       "      <td>3</td>\n",
       "    </tr>\n",
       "    <tr>\n",
       "      <th>26</th>\n",
       "      <td>2013</td>\n",
       "      <td>1</td>\n",
       "      <td>上海</td>\n",
       "      <td>D0000280400BAA0010T020</td>\n",
       "      <td>M5361</td>\n",
       "      <td>709400.0</td>\n",
       "      <td>1</td>\n",
       "    </tr>\n",
       "    <tr>\n",
       "      <th>27</th>\n",
       "      <td>2013</td>\n",
       "      <td>1</td>\n",
       "      <td>上海</td>\n",
       "      <td>D0000280400BAA0010T038</td>\n",
       "      <td>M3023</td>\n",
       "      <td>116800.0</td>\n",
       "      <td>3</td>\n",
       "    </tr>\n",
       "    <tr>\n",
       "      <th>28</th>\n",
       "      <td>2013</td>\n",
       "      <td>1</td>\n",
       "      <td>上海</td>\n",
       "      <td>D0000280400BAA0011T020</td>\n",
       "      <td>M3559</td>\n",
       "      <td>11600.0</td>\n",
       "      <td>3</td>\n",
       "    </tr>\n",
       "    <tr>\n",
       "      <th>29</th>\n",
       "      <td>2013</td>\n",
       "      <td>1</td>\n",
       "      <td>上海</td>\n",
       "      <td>D0000280400BAA0456T010</td>\n",
       "      <td>M5361</td>\n",
       "      <td>2000.0</td>\n",
       "      <td>3</td>\n",
       "    </tr>\n",
       "    <tr>\n",
       "      <th>...</th>\n",
       "      <td>...</td>\n",
       "      <td>...</td>\n",
       "      <td>...</td>\n",
       "      <td>...</td>\n",
       "      <td>...</td>\n",
       "      <td>...</td>\n",
       "      <td>...</td>\n",
       "    </tr>\n",
       "    <tr>\n",
       "      <th>73024</th>\n",
       "      <td>2013</td>\n",
       "      <td>1</td>\n",
       "      <td>长沙</td>\n",
       "      <td>D0089930100LCA0417T001</td>\n",
       "      <td>M3177</td>\n",
       "      <td>6571.0</td>\n",
       "      <td>3</td>\n",
       "    </tr>\n",
       "    <tr>\n",
       "      <th>73025</th>\n",
       "      <td>2013</td>\n",
       "      <td>1</td>\n",
       "      <td>长沙</td>\n",
       "      <td>D0089930100LCA0417T001</td>\n",
       "      <td>M3592</td>\n",
       "      <td>25790.0</td>\n",
       "      <td>3</td>\n",
       "    </tr>\n",
       "    <tr>\n",
       "      <th>73026</th>\n",
       "      <td>2013</td>\n",
       "      <td>1</td>\n",
       "      <td>长沙</td>\n",
       "      <td>D0089930100LCA0417T001</td>\n",
       "      <td>M3703</td>\n",
       "      <td>4000.0</td>\n",
       "      <td>3</td>\n",
       "    </tr>\n",
       "    <tr>\n",
       "      <th>73027</th>\n",
       "      <td>2013</td>\n",
       "      <td>1</td>\n",
       "      <td>长沙</td>\n",
       "      <td>D0089930100LCA0417T001</td>\n",
       "      <td>M3920</td>\n",
       "      <td>5400.0</td>\n",
       "      <td>3</td>\n",
       "    </tr>\n",
       "    <tr>\n",
       "      <th>73028</th>\n",
       "      <td>2013</td>\n",
       "      <td>1</td>\n",
       "      <td>长沙</td>\n",
       "      <td>D0089930100LCA0739T001</td>\n",
       "      <td>M2032</td>\n",
       "      <td>16380.0</td>\n",
       "      <td>3</td>\n",
       "    </tr>\n",
       "    <tr>\n",
       "      <th>73029</th>\n",
       "      <td>2013</td>\n",
       "      <td>1</td>\n",
       "      <td>长沙</td>\n",
       "      <td>D0089930100LCA1156T001</td>\n",
       "      <td>M1492</td>\n",
       "      <td>9000.0</td>\n",
       "      <td>3</td>\n",
       "    </tr>\n",
       "    <tr>\n",
       "      <th>73030</th>\n",
       "      <td>2013</td>\n",
       "      <td>1</td>\n",
       "      <td>长沙</td>\n",
       "      <td>D0089930100LCA1156T001</td>\n",
       "      <td>M1989</td>\n",
       "      <td>9100.0</td>\n",
       "      <td>3</td>\n",
       "    </tr>\n",
       "    <tr>\n",
       "      <th>73031</th>\n",
       "      <td>2013</td>\n",
       "      <td>1</td>\n",
       "      <td>长沙</td>\n",
       "      <td>D0089930100LCA1156T001</td>\n",
       "      <td>M3177</td>\n",
       "      <td>4199.0</td>\n",
       "      <td>3</td>\n",
       "    </tr>\n",
       "    <tr>\n",
       "      <th>73032</th>\n",
       "      <td>2013</td>\n",
       "      <td>1</td>\n",
       "      <td>长沙</td>\n",
       "      <td>D0089930100LCA1156T001</td>\n",
       "      <td>M3703</td>\n",
       "      <td>200.0</td>\n",
       "      <td>3</td>\n",
       "    </tr>\n",
       "    <tr>\n",
       "      <th>73033</th>\n",
       "      <td>2013</td>\n",
       "      <td>1</td>\n",
       "      <td>长沙</td>\n",
       "      <td>D0091220100AAA1590T001</td>\n",
       "      <td>M0334</td>\n",
       "      <td>1800.0</td>\n",
       "      <td>3</td>\n",
       "    </tr>\n",
       "    <tr>\n",
       "      <th>73034</th>\n",
       "      <td>2013</td>\n",
       "      <td>1</td>\n",
       "      <td>长沙</td>\n",
       "      <td>D0092060138LCA0443T001</td>\n",
       "      <td>M0946</td>\n",
       "      <td>226.0</td>\n",
       "      <td>3</td>\n",
       "    </tr>\n",
       "    <tr>\n",
       "      <th>73035</th>\n",
       "      <td>2013</td>\n",
       "      <td>1</td>\n",
       "      <td>长沙</td>\n",
       "      <td>D0092060138LCA0759T001</td>\n",
       "      <td>M4568</td>\n",
       "      <td>5.0</td>\n",
       "      <td>3</td>\n",
       "    </tr>\n",
       "    <tr>\n",
       "      <th>73036</th>\n",
       "      <td>2013</td>\n",
       "      <td>1</td>\n",
       "      <td>长沙</td>\n",
       "      <td>D0098860100AAA0558T007</td>\n",
       "      <td>M0175</td>\n",
       "      <td>115535.0</td>\n",
       "      <td>3</td>\n",
       "    </tr>\n",
       "    <tr>\n",
       "      <th>73037</th>\n",
       "      <td>2013</td>\n",
       "      <td>1</td>\n",
       "      <td>长沙</td>\n",
       "      <td>D0098860100AAA1043T007</td>\n",
       "      <td>M0175</td>\n",
       "      <td>2030.0</td>\n",
       "      <td>3</td>\n",
       "    </tr>\n",
       "    <tr>\n",
       "      <th>73038</th>\n",
       "      <td>2013</td>\n",
       "      <td>1</td>\n",
       "      <td>长沙</td>\n",
       "      <td>D0098860200LCA1043T001</td>\n",
       "      <td>M0175</td>\n",
       "      <td>27360.0</td>\n",
       "      <td>3</td>\n",
       "    </tr>\n",
       "    <tr>\n",
       "      <th>73039</th>\n",
       "      <td>2013</td>\n",
       "      <td>1</td>\n",
       "      <td>长沙</td>\n",
       "      <td>D0099890300KBB0789T001</td>\n",
       "      <td>M0977</td>\n",
       "      <td>103.0</td>\n",
       "      <td>3</td>\n",
       "    </tr>\n",
       "    <tr>\n",
       "      <th>73040</th>\n",
       "      <td>2013</td>\n",
       "      <td>1</td>\n",
       "      <td>长沙</td>\n",
       "      <td>D0099890300KBB1195T001</td>\n",
       "      <td>M0977</td>\n",
       "      <td>20.0</td>\n",
       "      <td>3</td>\n",
       "    </tr>\n",
       "    <tr>\n",
       "      <th>73041</th>\n",
       "      <td>2013</td>\n",
       "      <td>1</td>\n",
       "      <td>长沙</td>\n",
       "      <td>D0109940100AAA0812T082</td>\n",
       "      <td>M3888</td>\n",
       "      <td>2000.0</td>\n",
       "      <td>3</td>\n",
       "    </tr>\n",
       "    <tr>\n",
       "      <th>73042</th>\n",
       "      <td>2013</td>\n",
       "      <td>1</td>\n",
       "      <td>长沙</td>\n",
       "      <td>D0110070600LCB0089T001</td>\n",
       "      <td>M2659</td>\n",
       "      <td>6400.0</td>\n",
       "      <td>3</td>\n",
       "    </tr>\n",
       "    <tr>\n",
       "      <th>73043</th>\n",
       "      <td>2013</td>\n",
       "      <td>1</td>\n",
       "      <td>长沙</td>\n",
       "      <td>D0110070600LCB0089T001</td>\n",
       "      <td>M4238</td>\n",
       "      <td>2200.0</td>\n",
       "      <td>3</td>\n",
       "    </tr>\n",
       "    <tr>\n",
       "      <th>73044</th>\n",
       "      <td>2013</td>\n",
       "      <td>1</td>\n",
       "      <td>长沙</td>\n",
       "      <td>D0110140100LCB0178T001</td>\n",
       "      <td>M0826</td>\n",
       "      <td>2600.0</td>\n",
       "      <td>3</td>\n",
       "    </tr>\n",
       "    <tr>\n",
       "      <th>73045</th>\n",
       "      <td>2013</td>\n",
       "      <td>1</td>\n",
       "      <td>长沙</td>\n",
       "      <td>D0110150400KAA0654T003</td>\n",
       "      <td>M2378</td>\n",
       "      <td>4776.0</td>\n",
       "      <td>3</td>\n",
       "    </tr>\n",
       "    <tr>\n",
       "      <th>73046</th>\n",
       "      <td>2013</td>\n",
       "      <td>1</td>\n",
       "      <td>长沙</td>\n",
       "      <td>D0110160200VBB1341T001</td>\n",
       "      <td>M0184</td>\n",
       "      <td>6320.0</td>\n",
       "      <td>3</td>\n",
       "    </tr>\n",
       "    <tr>\n",
       "      <th>73047</th>\n",
       "      <td>2013</td>\n",
       "      <td>1</td>\n",
       "      <td>长沙</td>\n",
       "      <td>D0110160200VBB1341T001</td>\n",
       "      <td>M2988</td>\n",
       "      <td>1400.0</td>\n",
       "      <td>3</td>\n",
       "    </tr>\n",
       "    <tr>\n",
       "      <th>73048</th>\n",
       "      <td>2013</td>\n",
       "      <td>1</td>\n",
       "      <td>长沙</td>\n",
       "      <td>D0110160300VBA0786T001</td>\n",
       "      <td>M0184</td>\n",
       "      <td>5137.0</td>\n",
       "      <td>3</td>\n",
       "    </tr>\n",
       "    <tr>\n",
       "      <th>73049</th>\n",
       "      <td>2013</td>\n",
       "      <td>1</td>\n",
       "      <td>长沙</td>\n",
       "      <td>D0110160300VBA0992T001</td>\n",
       "      <td>M2988</td>\n",
       "      <td>610.0</td>\n",
       "      <td>3</td>\n",
       "    </tr>\n",
       "    <tr>\n",
       "      <th>73050</th>\n",
       "      <td>2013</td>\n",
       "      <td>1</td>\n",
       "      <td>长沙</td>\n",
       "      <td>D0110340100LCA0628T001</td>\n",
       "      <td>M2281</td>\n",
       "      <td>5328.0</td>\n",
       "      <td>3</td>\n",
       "    </tr>\n",
       "    <tr>\n",
       "      <th>73051</th>\n",
       "      <td>2013</td>\n",
       "      <td>1</td>\n",
       "      <td>长沙</td>\n",
       "      <td>D0110890100AAA0879T024</td>\n",
       "      <td>M2896</td>\n",
       "      <td>33600.0</td>\n",
       "      <td>3</td>\n",
       "    </tr>\n",
       "    <tr>\n",
       "      <th>73052</th>\n",
       "      <td>2013</td>\n",
       "      <td>1</td>\n",
       "      <td>长沙</td>\n",
       "      <td>D0112220100LCB1188T001</td>\n",
       "      <td>M1002</td>\n",
       "      <td>2943.0</td>\n",
       "      <td>3</td>\n",
       "    </tr>\n",
       "    <tr>\n",
       "      <th>73053</th>\n",
       "      <td>2013</td>\n",
       "      <td>1</td>\n",
       "      <td>长沙</td>\n",
       "      <td>D0113210100BAA0163T030</td>\n",
       "      <td>M4862</td>\n",
       "      <td>139800.0</td>\n",
       "      <td>3</td>\n",
       "    </tr>\n",
       "  </tbody>\n",
       "</table>\n",
       "<p>73054 rows × 7 columns</p>\n",
       "</div>"
      ],
      "text/plain": [
       "       PMD_YEAR  PMD_QUARTER PMD_CITY PMD_MEDICINALINFORMATIONID  \\\n",
       "0          2013            1       上海     D0000100100LCD0131T001   \n",
       "1          2013            1       上海     D0000120100LCD0045T001   \n",
       "2          2013            1       上海     D0000120100LCD0045T001   \n",
       "3          2013            1       上海     D0000160100CAA0141T015   \n",
       "4          2013            1       上海     D0000180100LCB0195T001   \n",
       "5          2013            1       上海     D0000210300AAA0497T010   \n",
       "6          2013            1       上海     D0000240100GBA0322T001   \n",
       "7          2013            1       上海     D0000240100GBA0832T001   \n",
       "8          2013            1       上海     D0000240100GBA0832T001   \n",
       "9          2013            1       上海     D0000240100GBA0832T001   \n",
       "10         2013            1       上海     D0000240100GBA0832T001   \n",
       "11         2013            1       上海     D0000250100BAA0163T010   \n",
       "12         2013            1       上海     D0000250100BAA0163T014   \n",
       "13         2013            1       上海     D0000250100BAA0163T014   \n",
       "14         2013            1       上海     D0000250200AAA0163T007   \n",
       "15         2013            1       上海     D0000250200AAA0163T014   \n",
       "16         2013            1       上海     D0000250200AAA0163T014   \n",
       "17         2013            1       上海     D0000250200AAA0163T014   \n",
       "18         2013            1       上海     D0000250200AAA0163T014   \n",
       "19         2013            1       上海     D0000250200AAA0163T014   \n",
       "20         2013            1       上海     D0000280300AAA0010T010   \n",
       "21         2013            1       上海     D0000280300AAA0011T010   \n",
       "22         2013            1       上海     D0000280400BAA0010T010   \n",
       "23         2013            1       上海     D0000280400BAA0010T020   \n",
       "24         2013            1       上海     D0000280400BAA0010T020   \n",
       "25         2013            1       上海     D0000280400BAA0010T020   \n",
       "26         2013            1       上海     D0000280400BAA0010T020   \n",
       "27         2013            1       上海     D0000280400BAA0010T038   \n",
       "28         2013            1       上海     D0000280400BAA0011T020   \n",
       "29         2013            1       上海     D0000280400BAA0456T010   \n",
       "...         ...          ...      ...                        ...   \n",
       "73024      2013            1       长沙     D0089930100LCA0417T001   \n",
       "73025      2013            1       长沙     D0089930100LCA0417T001   \n",
       "73026      2013            1       长沙     D0089930100LCA0417T001   \n",
       "73027      2013            1       长沙     D0089930100LCA0417T001   \n",
       "73028      2013            1       长沙     D0089930100LCA0739T001   \n",
       "73029      2013            1       长沙     D0089930100LCA1156T001   \n",
       "73030      2013            1       长沙     D0089930100LCA1156T001   \n",
       "73031      2013            1       长沙     D0089930100LCA1156T001   \n",
       "73032      2013            1       长沙     D0089930100LCA1156T001   \n",
       "73033      2013            1       长沙     D0091220100AAA1590T001   \n",
       "73034      2013            1       长沙     D0092060138LCA0443T001   \n",
       "73035      2013            1       长沙     D0092060138LCA0759T001   \n",
       "73036      2013            1       长沙     D0098860100AAA0558T007   \n",
       "73037      2013            1       长沙     D0098860100AAA1043T007   \n",
       "73038      2013            1       长沙     D0098860200LCA1043T001   \n",
       "73039      2013            1       长沙     D0099890300KBB0789T001   \n",
       "73040      2013            1       长沙     D0099890300KBB1195T001   \n",
       "73041      2013            1       长沙     D0109940100AAA0812T082   \n",
       "73042      2013            1       长沙     D0110070600LCB0089T001   \n",
       "73043      2013            1       长沙     D0110070600LCB0089T001   \n",
       "73044      2013            1       长沙     D0110140100LCB0178T001   \n",
       "73045      2013            1       长沙     D0110150400KAA0654T003   \n",
       "73046      2013            1       长沙     D0110160200VBB1341T001   \n",
       "73047      2013            1       长沙     D0110160200VBB1341T001   \n",
       "73048      2013            1       长沙     D0110160300VBA0786T001   \n",
       "73049      2013            1       长沙     D0110160300VBA0992T001   \n",
       "73050      2013            1       长沙     D0110340100LCA0628T001   \n",
       "73051      2013            1       长沙     D0110890100AAA0879T024   \n",
       "73052      2013            1       长沙     D0112220100LCB1188T001   \n",
       "73053      2013            1       长沙     D0113210100BAA0163T030   \n",
       "\n",
       "      PMD_COMPANYID  PMD_MEDICINALSALENUMBER  counts  \n",
       "0             M1359                    120.0       3  \n",
       "1             M2630                   4322.0       3  \n",
       "2             M2793                    726.0       3  \n",
       "3             M0083                  67470.0       3  \n",
       "4             M0838                   4745.0       3  \n",
       "5             M4828                    520.0       3  \n",
       "6             M3835                    400.0       3  \n",
       "7             M0828                    800.0       3  \n",
       "8             M2382                   5017.0       3  \n",
       "9             M3835                    510.0       3  \n",
       "10            M5354                    200.0       3  \n",
       "11            M2651                   -230.0       3  \n",
       "12            M4187                   4200.0       3  \n",
       "13            M4793                 191506.0       3  \n",
       "14            M3571                  26460.0       3  \n",
       "15            M0857                  37800.0       3  \n",
       "16            M0946                 196840.0       3  \n",
       "17            M2988                   9520.0       3  \n",
       "18            M3571                  59262.0       3  \n",
       "19            M4058                  10416.0       3  \n",
       "20            M0794                 252300.0       3  \n",
       "21            M0794                 125900.0       3  \n",
       "22            M5361                 164000.0       3  \n",
       "23            M2595                 709400.0       3  \n",
       "24            M2925                 652640.0       3  \n",
       "25            M3559                  12000.0       3  \n",
       "26            M5361                 709400.0       1  \n",
       "27            M3023                 116800.0       3  \n",
       "28            M3559                  11600.0       3  \n",
       "29            M5361                   2000.0       3  \n",
       "...             ...                      ...     ...  \n",
       "73024         M3177                   6571.0       3  \n",
       "73025         M3592                  25790.0       3  \n",
       "73026         M3703                   4000.0       3  \n",
       "73027         M3920                   5400.0       3  \n",
       "73028         M2032                  16380.0       3  \n",
       "73029         M1492                   9000.0       3  \n",
       "73030         M1989                   9100.0       3  \n",
       "73031         M3177                   4199.0       3  \n",
       "73032         M3703                    200.0       3  \n",
       "73033         M0334                   1800.0       3  \n",
       "73034         M0946                    226.0       3  \n",
       "73035         M4568                      5.0       3  \n",
       "73036         M0175                 115535.0       3  \n",
       "73037         M0175                   2030.0       3  \n",
       "73038         M0175                  27360.0       3  \n",
       "73039         M0977                    103.0       3  \n",
       "73040         M0977                     20.0       3  \n",
       "73041         M3888                   2000.0       3  \n",
       "73042         M2659                   6400.0       3  \n",
       "73043         M4238                   2200.0       3  \n",
       "73044         M0826                   2600.0       3  \n",
       "73045         M2378                   4776.0       3  \n",
       "73046         M0184                   6320.0       3  \n",
       "73047         M2988                   1400.0       3  \n",
       "73048         M0184                   5137.0       3  \n",
       "73049         M2988                    610.0       3  \n",
       "73050         M2281                   5328.0       3  \n",
       "73051         M2896                  33600.0       3  \n",
       "73052         M1002                   2943.0       3  \n",
       "73053         M4862                 139800.0       3  \n",
       "\n",
       "[73054 rows x 7 columns]"
      ]
     },
     "execution_count": 53,
     "metadata": {},
     "output_type": "execute_result"
    }
   ],
   "source": [
    "data.groupby(uniquekeys).size().reset_index(name='counts')"
   ]
  },
  {
   "cell_type": "markdown",
   "metadata": {},
   "source": [
    "### size()方法后直接用to_frame()方法也可以得到DateFrame, 它只有唯一一列'counts', info()显示uniquekeys为这个DataFrame的多级索引。reset_index()方法仍然可以将这些索引转换成列，而自动加上默认的自增索引。"
   ]
  },
  {
   "cell_type": "markdown",
   "metadata": {},
   "source": [
    "data.groupby(uniquekeys).size().to_frame(name='counts').info()#.reset_index()"
   ]
  },
  {
   "cell_type": "code",
   "execution_count": 56,
   "metadata": {},
   "outputs": [],
   "source": [
    "# data.groupby(uniquekeys).size().to_frame(name='counts').reset_index()"
   ]
  },
  {
   "cell_type": "markdown",
   "metadata": {},
   "source": [
    "### groupby得到的每个group都可以看作一个DataFrame, apply的作用对象是每个组的数据， 可以用类似处理DataFrame的方法选取其中的部分列进行计算。比如下面\",\".join(x[\"PMD_COMPANYID\"])操作将每个group中的PMD_COMPANYID列的数据拼接起来。"
   ]
  },
  {
   "cell_type": "code",
   "execution_count": 9,
   "metadata": {},
   "outputs": [
    {
     "data": {
      "text/html": [
       "<div>\n",
       "<style scoped>\n",
       "    .dataframe tbody tr th:only-of-type {\n",
       "        vertical-align: middle;\n",
       "    }\n",
       "\n",
       "    .dataframe tbody tr th {\n",
       "        vertical-align: top;\n",
       "    }\n",
       "\n",
       "    .dataframe thead th {\n",
       "        text-align: right;\n",
       "    }\n",
       "</style>\n",
       "<table border=\"1\" class=\"dataframe\">\n",
       "  <thead>\n",
       "    <tr style=\"text-align: right;\">\n",
       "      <th></th>\n",
       "      <th>ID</th>\n",
       "      <th>PMD_YEAR</th>\n",
       "      <th>PMD_QUARTER</th>\n",
       "      <th>PMD_CITY</th>\n",
       "      <th>PMD_MEDICINALSALEMONEY</th>\n",
       "      <th>PMD_MEDICINALSALENUMBER</th>\n",
       "      <th>PMD_MEDICINALNAME</th>\n",
       "      <th>PMD_COMPANYNAME</th>\n",
       "      <th>PMD_COMPANYID</th>\n",
       "      <th>PMD_MEDICINALINFORMATIONID</th>\n",
       "      <th>...</th>\n",
       "      <th>PMD_USEMETHOD</th>\n",
       "      <th>ETL_CRC</th>\n",
       "      <th>QA_RULE_CHK_FLG</th>\n",
       "      <th>QA_MANUAL_FLG</th>\n",
       "      <th>QA_ACTIVE_FLG</th>\n",
       "      <th>CREATE_BY</th>\n",
       "      <th>CREATE_TIME</th>\n",
       "      <th>UPDATE_BY</th>\n",
       "      <th>UPDATE_TIME</th>\n",
       "      <th>TMSTAMP</th>\n",
       "    </tr>\n",
       "  </thead>\n",
       "  <tbody>\n",
       "    <tr>\n",
       "      <th>0</th>\n",
       "      <td>251401</td>\n",
       "      <td>2013</td>\n",
       "      <td>1</td>\n",
       "      <td>北京</td>\n",
       "      <td>750711.0</td>\n",
       "      <td>328700.0</td>\n",
       "      <td>莫沙必利</td>\n",
       "      <td>日本住友制药</td>\n",
       "      <td>M3078</td>\n",
       "      <td>D0047870410AAA1303T010</td>\n",
       "      <td>...</td>\n",
       "      <td>内服</td>\n",
       "      <td>768914384</td>\n",
       "      <td>NaN</td>\n",
       "      <td>NaN</td>\n",
       "      <td>True</td>\n",
       "      <td>ETL</td>\n",
       "      <td>2018-11-01 20:49:59.333</td>\n",
       "      <td>ETL</td>\n",
       "      <td>2018-11-01 20:49:59.333</td>\n",
       "      <td>NaN</td>\n",
       "    </tr>\n",
       "  </tbody>\n",
       "</table>\n",
       "<p>1 rows × 37 columns</p>\n",
       "</div>"
      ],
      "text/plain": [
       "       ID  PMD_YEAR  PMD_QUARTER PMD_CITY  PMD_MEDICINALSALEMONEY  \\\n",
       "0  251401      2013            1       北京                750711.0   \n",
       "\n",
       "   PMD_MEDICINALSALENUMBER PMD_MEDICINALNAME PMD_COMPANYNAME PMD_COMPANYID  \\\n",
       "0                 328700.0              莫沙必利          日本住友制药         M3078   \n",
       "\n",
       "  PMD_MEDICINALINFORMATIONID   ...    PMD_USEMETHOD    ETL_CRC  \\\n",
       "0     D0047870410AAA1303T010   ...               内服  768914384   \n",
       "\n",
       "   QA_RULE_CHK_FLG  QA_MANUAL_FLG  QA_ACTIVE_FLG  CREATE_BY  \\\n",
       "0              NaN            NaN           True        ETL   \n",
       "\n",
       "               CREATE_TIME  UPDATE_BY              UPDATE_TIME  TMSTAMP  \n",
       "0  2018-11-01 20:49:59.333        ETL  2018-11-01 20:49:59.333      NaN  \n",
       "\n",
       "[1 rows x 37 columns]"
      ]
     },
     "execution_count": 9,
     "metadata": {},
     "output_type": "execute_result"
    }
   ],
   "source": [
    "data.head(1)"
   ]
  },
  {
   "cell_type": "code",
   "execution_count": 18,
   "metadata": {},
   "outputs": [],
   "source": [
    "# as_index=False 在应用 apply函数时不生效 \n",
    "df=data[[\"PMD_CITY\", \"PMD_COMPANYID\", \"PMD_MEDICINALINFORMATIONID\"]].groupby([\"PMD_CITY\",\"PMD_MEDICINALINFORMATIONID\"],as_index=False).apply(lambda x: \",\".join(x[\"PMD_COMPANYID\"]))\n"
   ]
  },
  {
   "cell_type": "code",
   "execution_count": 19,
   "metadata": {},
   "outputs": [
    {
     "data": {
      "text/plain": [
       "PMD_CITY  PMD_MEDICINALINFORMATIONID\n",
       "上海        D0000100100LCD0131T001                                        M1359,M1359,M1359\n",
       "          D0000120100LCD0045T001                      M2793,M2630,M2793,M2630,M2793,M2630\n",
       "          D0000160100CAA0141T015                                        M0083,M0083,M0083\n",
       "          D0000180100LCB0195T001                                        M0838,M0838,M0838\n",
       "          D0000210300AAA0497T010                                        M4828,M4828,M4828\n",
       "          D0000240100GBA0322T001                                        M3835,M3835,M3835\n",
       "          D0000240100GBA0832T001        M5354,M2382,M3835,M0828,M2382,M5354,M3835,M082...\n",
       "          D0000250100BAA0163T010                                        M2651,M2651,M2651\n",
       "          D0000250100BAA0163T014                      M4187,M4793,M4187,M4793,M4187,M4793\n",
       "          D0000250200AAA0163T007                                        M3571,M3571,M3571\n",
       "          D0000250200AAA0163T014        M0857,M0946,M2988,M3571,M4058,M0857,M0946,M298...\n",
       "          D0000280300AAA0010T010                                        M0794,M0794,M0794\n",
       "          D0000280300AAA0011T010                                        M0794,M0794,M0794\n",
       "          D0000280400BAA0010T010                                        M5361,M5361,M5361\n",
       "          D0000280400BAA0010T020        M5361,M2925,M3559,M2595,M2925,M3559,M2595,M292...\n",
       "          D0000280400BAA0010T038                                        M3023,M3023,M3023\n",
       "          D0000280400BAA0011T020                                        M3559,M3559,M3559\n",
       "          D0000280400BAA0456T010                                        M5361,M5361,M5361\n",
       "          D0000310338AAA0163T010                                        M3092,M3092,M3092\n",
       "          D0000310538AAA0483T030                                        M2752,M2752,M2752\n",
       "          D0000330100AAA0684T014                                        M3714,M3714,M3714\n",
       "          D0000360100LCB0765T001                      M4058,M4073,M4058,M4073,M4058,M4073\n",
       "          D0000510100BAA1207T030                                        M5090,M5090,M5090\n",
       "          D0000510200AAA1207T030                      M0334,M1594,M0334,M1594,M0334,M1594\n",
       "          D0000530300AAA0163T010                                        M0756,M0756,M0756\n",
       "          D0000530300AAA1303T010                                        M0756,M0756,M0756\n",
       "          D0000530300AAA1303T014                                        M3594,M3594,M3594\n",
       "          D0000530300AAA1303T020                                        M0656,M0656,M0656\n",
       "          D0000560200AAA0163T006                                        M3744,M3744,M3744\n",
       "          D0000560200AAA1439T001        M1501,M3744,M2811,M1501,M3744,M2811,M1501,M374...\n",
       "                                                              ...                        \n",
       "长沙        D0089280100BBA0628T010                                        M4313,M4313,M4313\n",
       "          D0089460100KAB0243T001                                        M4290,M4290,M4290\n",
       "          D0089550200LCB1048T001                                        M0456,M0456,M0456\n",
       "          D0089710138BAA0523T010                                        M4699,M4699,M4699\n",
       "          D0089710238AAA0523T014                                        M2599,M2599,M2599\n",
       "          D0089710338BAA0523T010                      M0273,M2305,M0273,M2305,M0273,M2305\n",
       "          D0089900100LCA0558T001                                        M3589,M3589,M3589\n",
       "          D0089930100LCA0059T001                      M1492,M3592,M1492,M3592,M1492,M3592\n",
       "          D0089930100LCA0417T001        M3177,M3920,M1989,M3592,M3703,M3177,M3920,M198...\n",
       "          D0089930100LCA0739T001                                        M2032,M2032,M2032\n",
       "          D0089930100LCA1156T001        M1492,M3177,M1989,M3703,M1492,M3177,M1989,M370...\n",
       "          D0091220100AAA1590T001                                        M0334,M0334,M0334\n",
       "          D0092060138LCA0443T001                                        M0946,M0946,M0946\n",
       "          D0092060138LCA0759T001                                        M4568,M4568,M4568\n",
       "          D0098860100AAA0558T007                                        M0175,M0175,M0175\n",
       "          D0098860100AAA1043T007                                        M0175,M0175,M0175\n",
       "          D0098860200LCA1043T001                                        M0175,M0175,M0175\n",
       "          D0099890300KBB0789T001                                        M0977,M0977,M0977\n",
       "          D0099890300KBB1195T001                                        M0977,M0977,M0977\n",
       "          D0109940100AAA0812T082                                        M3888,M3888,M3888\n",
       "          D0110070600LCB0089T001                      M2659,M4238,M2659,M4238,M2659,M4238\n",
       "          D0110140100LCB0178T001                                        M0826,M0826,M0826\n",
       "          D0110150400KAA0654T003                                        M2378,M2378,M2378\n",
       "          D0110160200VBB1341T001                      M2988,M0184,M2988,M0184,M2988,M0184\n",
       "          D0110160300VBA0786T001                                        M0184,M0184,M0184\n",
       "          D0110160300VBA0992T001                                        M2988,M2988,M2988\n",
       "          D0110340100LCA0628T001                                        M2281,M2281,M2281\n",
       "          D0110890100AAA0879T024                                        M2896,M2896,M2896\n",
       "          D0112220100LCB1188T001                                        M1002,M1002,M1002\n",
       "          D0113210100BAA0163T030                                        M4862,M4862,M4862\n",
       "Length: 54453, dtype: object"
      ]
     },
     "execution_count": 19,
     "metadata": {},
     "output_type": "execute_result"
    }
   ],
   "source": [
    "df"
   ]
  },
  {
   "cell_type": "code",
   "execution_count": 17,
   "metadata": {},
   "outputs": [
    {
     "ename": "ValueError",
     "evalue": "labels [1] not contained in axis",
     "output_type": "error",
     "traceback": [
      "\u001b[1;31m---------------------------------------------------------------------------\u001b[0m",
      "\u001b[1;31mValueError\u001b[0m                                Traceback (most recent call last)",
      "\u001b[1;32m<ipython-input-17-c3ad07d3e58f>\u001b[0m in \u001b[0;36m<module>\u001b[1;34m()\u001b[0m\n\u001b[0;32m      1\u001b[0m \u001b[1;33m\u001b[0m\u001b[0m\n\u001b[0;32m      2\u001b[0m \u001b[0mdfd\u001b[0m \u001b[1;33m=\u001b[0m \u001b[0mdf\u001b[0m\u001b[1;33m.\u001b[0m\u001b[0mreset_index\u001b[0m\u001b[1;33m(\u001b[0m\u001b[1;33m)\u001b[0m\u001b[1;33m\u001b[0m\u001b[0m\n\u001b[1;32m----> 3\u001b[1;33m \u001b[0mdfd\u001b[0m\u001b[1;33m.\u001b[0m\u001b[0mdrop\u001b[0m\u001b[1;33m(\u001b[0m\u001b[1;33m[\u001b[0m\u001b[1;36m0\u001b[0m\u001b[1;33m,\u001b[0m\u001b[1;36m1\u001b[0m\u001b[1;33m]\u001b[0m\u001b[1;33m,\u001b[0m \u001b[0maxis\u001b[0m\u001b[1;33m=\u001b[0m\u001b[1;36m1\u001b[0m\u001b[1;33m)\u001b[0m\u001b[1;33m\u001b[0m\u001b[0m\n\u001b[0m\u001b[0;32m      4\u001b[0m \u001b[1;31m# dfd.drop([\"PMD_CITY\", \"PMD_MEDICINALINFORMATIONID\"], axis=1)\u001b[0m\u001b[1;33m\u001b[0m\u001b[1;33m\u001b[0m\u001b[0m\n",
      "\u001b[1;32mc:\\python27\\lib\\site-packages\\pandas\\core\\generic.pyc\u001b[0m in \u001b[0;36mdrop\u001b[1;34m(self, labels, axis, index, columns, level, inplace, errors)\u001b[0m\n\u001b[0;32m   2528\u001b[0m         \u001b[1;32mfor\u001b[0m \u001b[0maxis\u001b[0m\u001b[1;33m,\u001b[0m \u001b[0mlabels\u001b[0m \u001b[1;32min\u001b[0m \u001b[0maxes\u001b[0m\u001b[1;33m.\u001b[0m\u001b[0mitems\u001b[0m\u001b[1;33m(\u001b[0m\u001b[1;33m)\u001b[0m\u001b[1;33m:\u001b[0m\u001b[1;33m\u001b[0m\u001b[0m\n\u001b[0;32m   2529\u001b[0m             \u001b[1;32mif\u001b[0m \u001b[0mlabels\u001b[0m \u001b[1;32mis\u001b[0m \u001b[1;32mnot\u001b[0m \u001b[0mNone\u001b[0m\u001b[1;33m:\u001b[0m\u001b[1;33m\u001b[0m\u001b[0m\n\u001b[1;32m-> 2530\u001b[1;33m                 \u001b[0mobj\u001b[0m \u001b[1;33m=\u001b[0m \u001b[0mobj\u001b[0m\u001b[1;33m.\u001b[0m\u001b[0m_drop_axis\u001b[0m\u001b[1;33m(\u001b[0m\u001b[0mlabels\u001b[0m\u001b[1;33m,\u001b[0m \u001b[0maxis\u001b[0m\u001b[1;33m,\u001b[0m \u001b[0mlevel\u001b[0m\u001b[1;33m=\u001b[0m\u001b[0mlevel\u001b[0m\u001b[1;33m,\u001b[0m \u001b[0merrors\u001b[0m\u001b[1;33m=\u001b[0m\u001b[0merrors\u001b[0m\u001b[1;33m)\u001b[0m\u001b[1;33m\u001b[0m\u001b[0m\n\u001b[0m\u001b[0;32m   2531\u001b[0m \u001b[1;33m\u001b[0m\u001b[0m\n\u001b[0;32m   2532\u001b[0m         \u001b[1;32mif\u001b[0m \u001b[0minplace\u001b[0m\u001b[1;33m:\u001b[0m\u001b[1;33m\u001b[0m\u001b[0m\n",
      "\u001b[1;32mc:\\python27\\lib\\site-packages\\pandas\\core\\generic.pyc\u001b[0m in \u001b[0;36m_drop_axis\u001b[1;34m(self, labels, axis, level, errors)\u001b[0m\n\u001b[0;32m   2560\u001b[0m                 \u001b[0mnew_axis\u001b[0m \u001b[1;33m=\u001b[0m \u001b[0maxis\u001b[0m\u001b[1;33m.\u001b[0m\u001b[0mdrop\u001b[0m\u001b[1;33m(\u001b[0m\u001b[0mlabels\u001b[0m\u001b[1;33m,\u001b[0m \u001b[0mlevel\u001b[0m\u001b[1;33m=\u001b[0m\u001b[0mlevel\u001b[0m\u001b[1;33m,\u001b[0m \u001b[0merrors\u001b[0m\u001b[1;33m=\u001b[0m\u001b[0merrors\u001b[0m\u001b[1;33m)\u001b[0m\u001b[1;33m\u001b[0m\u001b[0m\n\u001b[0;32m   2561\u001b[0m             \u001b[1;32melse\u001b[0m\u001b[1;33m:\u001b[0m\u001b[1;33m\u001b[0m\u001b[0m\n\u001b[1;32m-> 2562\u001b[1;33m                 \u001b[0mnew_axis\u001b[0m \u001b[1;33m=\u001b[0m \u001b[0maxis\u001b[0m\u001b[1;33m.\u001b[0m\u001b[0mdrop\u001b[0m\u001b[1;33m(\u001b[0m\u001b[0mlabels\u001b[0m\u001b[1;33m,\u001b[0m \u001b[0merrors\u001b[0m\u001b[1;33m=\u001b[0m\u001b[0merrors\u001b[0m\u001b[1;33m)\u001b[0m\u001b[1;33m\u001b[0m\u001b[0m\n\u001b[0m\u001b[0;32m   2563\u001b[0m             \u001b[0mdropped\u001b[0m \u001b[1;33m=\u001b[0m \u001b[0mself\u001b[0m\u001b[1;33m.\u001b[0m\u001b[0mreindex\u001b[0m\u001b[1;33m(\u001b[0m\u001b[1;33m**\u001b[0m\u001b[1;33m{\u001b[0m\u001b[0maxis_name\u001b[0m\u001b[1;33m:\u001b[0m \u001b[0mnew_axis\u001b[0m\u001b[1;33m}\u001b[0m\u001b[1;33m)\u001b[0m\u001b[1;33m\u001b[0m\u001b[0m\n\u001b[0;32m   2564\u001b[0m             \u001b[1;32mtry\u001b[0m\u001b[1;33m:\u001b[0m\u001b[1;33m\u001b[0m\u001b[0m\n",
      "\u001b[1;32mc:\\python27\\lib\\site-packages\\pandas\\core\\indexes\\base.pyc\u001b[0m in \u001b[0;36mdrop\u001b[1;34m(self, labels, errors)\u001b[0m\n\u001b[0;32m   3742\u001b[0m             \u001b[1;32mif\u001b[0m \u001b[0merrors\u001b[0m \u001b[1;33m!=\u001b[0m \u001b[1;34m'ignore'\u001b[0m\u001b[1;33m:\u001b[0m\u001b[1;33m\u001b[0m\u001b[0m\n\u001b[0;32m   3743\u001b[0m                 raise ValueError('labels %s not contained in axis' %\n\u001b[1;32m-> 3744\u001b[1;33m                                  labels[mask])\n\u001b[0m\u001b[0;32m   3745\u001b[0m             \u001b[0mindexer\u001b[0m \u001b[1;33m=\u001b[0m \u001b[0mindexer\u001b[0m\u001b[1;33m[\u001b[0m\u001b[1;33m~\u001b[0m\u001b[0mmask\u001b[0m\u001b[1;33m]\u001b[0m\u001b[1;33m\u001b[0m\u001b[0m\n\u001b[0;32m   3746\u001b[0m         \u001b[1;32mreturn\u001b[0m \u001b[0mself\u001b[0m\u001b[1;33m.\u001b[0m\u001b[0mdelete\u001b[0m\u001b[1;33m(\u001b[0m\u001b[0mindexer\u001b[0m\u001b[1;33m)\u001b[0m\u001b[1;33m\u001b[0m\u001b[0m\n",
      "\u001b[1;31mValueError\u001b[0m: labels [1] not contained in axis"
     ]
    }
   ],
   "source": [
    "\n",
    "dfd = df.reset_index()\n",
    "# dfd.drop([0,1], axis=1)\n",
    "dfd.drop([\"PMD_CITY\", \"PMD_MEDICINALINFORMATIONID\"], axis=1)"
   ]
  },
  {
   "cell_type": "code",
   "execution_count": 7,
   "metadata": {},
   "outputs": [
    {
     "data": {
      "text/plain": [
       "PMD_CITY\n",
       "上海      M3078,M3758,M1574,M1574,M3078,M0551,M0551,M188...\n",
       "北京      M3078,M3758,M1574,M3078,M0551,M0551,M0795,M298...\n",
       "北京市     M4260,M0489,M1316,M0489,M5411,M1311,M1341,M048...\n",
       "南京      M4489,M3078,M1574,M3078,M0551,M0795,M5361,M486...\n",
       "南京市     M3003,M1020,M3334,M5428,M2386,M4393,M5313,M150...\n",
       "哈尔滨     M2903,M3606,M3641,M4310,M4310,M5354,M2106,M210...\n",
       "哈尔滨市    M3238,M3345,M3276,M5317,M2716,M0799,M0832,M484...\n",
       "天津      M3078,M3758,M1574,M3078,M0551,M2986,M5361,M279...\n",
       "广州      M3078,M3758,M3758,M1574,M1574,M1730,M2332,M233...\n",
       "广州市     M1352,M4848,M0970,M4731,M1820,M4628,M2489,M227...\n",
       "成都      M3078,M3758,M1574,M3078,M0551,M0551,M5361,M486...\n",
       "成都市     M2356,M4573,M3251,M3339,M2475,M2277,M2550,M087...\n",
       "杭州      M3078,M3758,M3758,M1574,M3078,M0551,M0551,M079...\n",
       "武汉      M0175,M4768,M4768,M4768,M4768,M4768,M4990,M545...\n",
       "沈阳      M3078,M1574,M3018,M3078,M0795,M5361,M2792,M486...\n",
       "沈阳市     M2252,M0728,M4500,M2555,M3212,M4088,M5212,M335...\n",
       "济南      M3078,M3758,M1574,M3078,M0551,M0795,M2986,M536...\n",
       "石家庄     M3078,M3758,M1574,M3078,M0551,M2986,M5361,M486...\n",
       "西安      M3078,M1574,M1574,M2332,M3078,M0795,M4441,M536...\n",
       "西安市     M2022,M1324,M3793,M1316,M1233,M4193,M4135,M232...\n",
       "郑州      M3078,M1574,M3078,M0551,M0795,M2986,M5361,M486...\n",
       "郑州市     M2901,M1963,M5357,M3175,M5267,M1059,M3366,M160...\n",
       "重庆      M4214,M2377,M0202,M0240,M2377,M2126,M2969,M499...\n",
       "重庆市     M5434,M4260,M1723,M2464,M3958,M4260,M2515,M037...\n",
       "长沙      M2353,M3078,M3306,M0551,M0551,M5361,M0528,M486...\n",
       "dtype: object"
      ]
     },
     "execution_count": 7,
     "metadata": {},
     "output_type": "execute_result"
    }
   ],
   "source": [
    "data[[\"PMD_CITY\", \"PMD_COMPANYID\"]].groupby([\"PMD_CITY\", ]).apply(lambda x: \",\".join(x[\"PMD_COMPANYID\"]))"
   ]
  },
  {
   "cell_type": "code",
   "execution_count": 2,
   "metadata": {},
   "outputs": [],
   "source": [
    "import pandas as pd"
   ]
  },
  {
   "cell_type": "code",
   "execution_count": 3,
   "metadata": {},
   "outputs": [],
   "source": [
    "data = pd.read_csv(\"drugsale_test_data.csv\")"
   ]
  },
  {
   "cell_type": "code",
   "execution_count": 45,
   "metadata": {},
   "outputs": [
    {
     "data": {
      "text/html": [
       "<div>\n",
       "<style scoped>\n",
       "    .dataframe tbody tr th:only-of-type {\n",
       "        vertical-align: middle;\n",
       "    }\n",
       "\n",
       "    .dataframe tbody tr th {\n",
       "        vertical-align: top;\n",
       "    }\n",
       "\n",
       "    .dataframe thead th {\n",
       "        text-align: right;\n",
       "    }\n",
       "</style>\n",
       "<table border=\"1\" class=\"dataframe\">\n",
       "  <thead>\n",
       "    <tr style=\"text-align: right;\">\n",
       "      <th></th>\n",
       "      <th>ID</th>\n",
       "      <th>PMD_YEAR</th>\n",
       "      <th>PMD_QUARTER</th>\n",
       "      <th>PMD_CITY</th>\n",
       "      <th>PMD_MEDICINALSALEMONEY</th>\n",
       "      <th>PMD_MEDICINALSALENUMBER</th>\n",
       "      <th>PMD_MEDICINALNAME</th>\n",
       "      <th>PMD_COMPANYNAME</th>\n",
       "      <th>PMD_COMPANYID</th>\n",
       "      <th>PMD_MEDICINALINFORMATIONID</th>\n",
       "      <th>...</th>\n",
       "      <th>PMD_USEMETHOD</th>\n",
       "      <th>ETL_CRC</th>\n",
       "      <th>QA_RULE_CHK_FLG</th>\n",
       "      <th>QA_MANUAL_FLG</th>\n",
       "      <th>QA_ACTIVE_FLG</th>\n",
       "      <th>CREATE_BY</th>\n",
       "      <th>CREATE_TIME</th>\n",
       "      <th>UPDATE_BY</th>\n",
       "      <th>UPDATE_TIME</th>\n",
       "      <th>TMSTAMP</th>\n",
       "    </tr>\n",
       "  </thead>\n",
       "  <tbody>\n",
       "    <tr>\n",
       "      <th>0</th>\n",
       "      <td>251401</td>\n",
       "      <td>2013</td>\n",
       "      <td>1</td>\n",
       "      <td>北京</td>\n",
       "      <td>750711.0000</td>\n",
       "      <td>328700.0</td>\n",
       "      <td>莫沙必利</td>\n",
       "      <td>日本住友制药</td>\n",
       "      <td>M3078</td>\n",
       "      <td>D0047870410AAA1303T010</td>\n",
       "      <td>...</td>\n",
       "      <td>内服</td>\n",
       "      <td>768914384</td>\n",
       "      <td>NaN</td>\n",
       "      <td>NaN</td>\n",
       "      <td>True</td>\n",
       "      <td>ETL</td>\n",
       "      <td>2018-11-01 20:49:59.333</td>\n",
       "      <td>ETL</td>\n",
       "      <td>2018-11-01 20:49:59.333</td>\n",
       "      <td>NaN</td>\n",
       "    </tr>\n",
       "    <tr>\n",
       "      <th>1</th>\n",
       "      <td>251417</td>\n",
       "      <td>2013</td>\n",
       "      <td>1</td>\n",
       "      <td>北京</td>\n",
       "      <td>55440.0000</td>\n",
       "      <td>48960.0</td>\n",
       "      <td>琥珀酸亚铁</td>\n",
       "      <td>四川奥邦药业</td>\n",
       "      <td>M3758</td>\n",
       "      <td>D0031030200AAA0102T024</td>\n",
       "      <td>...</td>\n",
       "      <td>内服</td>\n",
       "      <td>3631507639</td>\n",
       "      <td>NaN</td>\n",
       "      <td>NaN</td>\n",
       "      <td>True</td>\n",
       "      <td>ETL</td>\n",
       "      <td>2018-11-01 20:49:59.333</td>\n",
       "      <td>ETL</td>\n",
       "      <td>2018-11-01 20:49:59.333</td>\n",
       "      <td>NaN</td>\n",
       "    </tr>\n",
       "    <tr>\n",
       "      <th>2</th>\n",
       "      <td>2158330</td>\n",
       "      <td>2013</td>\n",
       "      <td>1</td>\n",
       "      <td>北京市</td>\n",
       "      <td>72513.2415</td>\n",
       "      <td>5843.0</td>\n",
       "      <td>金嗓散结</td>\n",
       "      <td>西安碑林药业</td>\n",
       "      <td>M4260</td>\n",
       "      <td>D0036600200DAA0102T131</td>\n",
       "      <td>...</td>\n",
       "      <td>内服</td>\n",
       "      <td>1796643922</td>\n",
       "      <td>NaN</td>\n",
       "      <td>NaN</td>\n",
       "      <td>True</td>\n",
       "      <td>talend_load@SHN1708DSL9YF2</td>\n",
       "      <td>2019-02-28 11:31:44.000</td>\n",
       "      <td>talend_load@SHN1708DSL9YF2</td>\n",
       "      <td>2019-02-28 11:31:44.000</td>\n",
       "      <td>NaN</td>\n",
       "    </tr>\n",
       "    <tr>\n",
       "      <th>3</th>\n",
       "      <td>2158331</td>\n",
       "      <td>2013</td>\n",
       "      <td>1</td>\n",
       "      <td>北京市</td>\n",
       "      <td>761737.0410</td>\n",
       "      <td>22656.0</td>\n",
       "      <td>坤宝</td>\n",
       "      <td>北京同仁堂股份同仁堂制药</td>\n",
       "      <td>M0489</td>\n",
       "      <td>D0040550100DAA1274T020</td>\n",
       "      <td>...</td>\n",
       "      <td>内服</td>\n",
       "      <td>3480623486</td>\n",
       "      <td>NaN</td>\n",
       "      <td>NaN</td>\n",
       "      <td>True</td>\n",
       "      <td>talend_load@SHN1708DSL9YF2</td>\n",
       "      <td>2019-02-28 11:31:44.000</td>\n",
       "      <td>talend_load@SHN1708DSL9YF2</td>\n",
       "      <td>2019-02-28 11:31:44.000</td>\n",
       "      <td>NaN</td>\n",
       "    </tr>\n",
       "    <tr>\n",
       "      <th>4</th>\n",
       "      <td>2158332</td>\n",
       "      <td>2013</td>\n",
       "      <td>1</td>\n",
       "      <td>北京市</td>\n",
       "      <td>2704.2472</td>\n",
       "      <td>158.0</td>\n",
       "      <td>尿感宁</td>\n",
       "      <td>贵州信邦制药</td>\n",
       "      <td>M1316</td>\n",
       "      <td>D0049040100CAA0237T012</td>\n",
       "      <td>...</td>\n",
       "      <td>内服</td>\n",
       "      <td>1337064295</td>\n",
       "      <td>NaN</td>\n",
       "      <td>NaN</td>\n",
       "      <td>True</td>\n",
       "      <td>talend_load@SHN1708DSL9YF2</td>\n",
       "      <td>2019-02-28 11:31:44.000</td>\n",
       "      <td>talend_load@SHN1708DSL9YF2</td>\n",
       "      <td>2019-02-28 11:31:44.000</td>\n",
       "      <td>NaN</td>\n",
       "    </tr>\n",
       "  </tbody>\n",
       "</table>\n",
       "<p>5 rows × 37 columns</p>\n",
       "</div>"
      ],
      "text/plain": [
       "        ID  PMD_YEAR  PMD_QUARTER PMD_CITY  PMD_MEDICINALSALEMONEY  \\\n",
       "0   251401      2013            1       北京             750711.0000   \n",
       "1   251417      2013            1       北京              55440.0000   \n",
       "2  2158330      2013            1      北京市              72513.2415   \n",
       "3  2158331      2013            1      北京市             761737.0410   \n",
       "4  2158332      2013            1      北京市               2704.2472   \n",
       "\n",
       "   PMD_MEDICINALSALENUMBER PMD_MEDICINALNAME PMD_COMPANYNAME PMD_COMPANYID  \\\n",
       "0                 328700.0              莫沙必利          日本住友制药         M3078   \n",
       "1                  48960.0             琥珀酸亚铁          四川奥邦药业         M3758   \n",
       "2                   5843.0              金嗓散结          西安碑林药业         M4260   \n",
       "3                  22656.0                坤宝    北京同仁堂股份同仁堂制药         M0489   \n",
       "4                    158.0               尿感宁          贵州信邦制药         M1316   \n",
       "\n",
       "  PMD_MEDICINALINFORMATIONID   ...    PMD_USEMETHOD     ETL_CRC  \\\n",
       "0     D0047870410AAA1303T010   ...               内服   768914384   \n",
       "1     D0031030200AAA0102T024   ...               内服  3631507639   \n",
       "2     D0036600200DAA0102T131   ...               内服  1796643922   \n",
       "3     D0040550100DAA1274T020   ...               内服  3480623486   \n",
       "4     D0049040100CAA0237T012   ...               内服  1337064295   \n",
       "\n",
       "   QA_RULE_CHK_FLG  QA_MANUAL_FLG  QA_ACTIVE_FLG                   CREATE_BY  \\\n",
       "0              NaN            NaN           True                         ETL   \n",
       "1              NaN            NaN           True                         ETL   \n",
       "2              NaN            NaN           True  talend_load@SHN1708DSL9YF2   \n",
       "3              NaN            NaN           True  talend_load@SHN1708DSL9YF2   \n",
       "4              NaN            NaN           True  talend_load@SHN1708DSL9YF2   \n",
       "\n",
       "               CREATE_TIME                   UPDATE_BY  \\\n",
       "0  2018-11-01 20:49:59.333                         ETL   \n",
       "1  2018-11-01 20:49:59.333                         ETL   \n",
       "2  2019-02-28 11:31:44.000  talend_load@SHN1708DSL9YF2   \n",
       "3  2019-02-28 11:31:44.000  talend_load@SHN1708DSL9YF2   \n",
       "4  2019-02-28 11:31:44.000  talend_load@SHN1708DSL9YF2   \n",
       "\n",
       "               UPDATE_TIME  TMSTAMP  \n",
       "0  2018-11-01 20:49:59.333      NaN  \n",
       "1  2018-11-01 20:49:59.333      NaN  \n",
       "2  2019-02-28 11:31:44.000      NaN  \n",
       "3  2019-02-28 11:31:44.000      NaN  \n",
       "4  2019-02-28 11:31:44.000      NaN  \n",
       "\n",
       "[5 rows x 37 columns]"
      ]
     },
     "execution_count": 45,
     "metadata": {},
     "output_type": "execute_result"
    }
   ],
   "source": [
    "data.head()"
   ]
  },
  {
   "cell_type": "code",
   "execution_count": 12,
   "metadata": {},
   "outputs": [
    {
     "name": "stdout",
     "output_type": "stream",
     "text": [
      "[251401 2013 1 '\\xe5\\x8c\\x97\\xe4\\xba\\xac' 750711.0 328700.0\n",
      " '\\xe8\\x8e\\xab\\xe6\\xb2\\x99\\xe5\\xbf\\x85\\xe5\\x88\\xa9'\n",
      " '\\xe6\\x97\\xa5\\xe6\\x9c\\xac\\xe4\\xbd\\x8f\\xe5\\x8f\\x8b\\xe5\\x88\\xb6\\xe8\\x8d\\xaf'\n",
      " 'M3078' 'D0047870410AAA1303T010' 'HA03FA-D004787' nan 10 nan nan nan nan\n",
      " nan nan nan nan nan nan 1 1 '\\xe7\\x89\\x87\\xe5\\x89\\x82' '5mg'\n",
      " '\\xe5\\x86\\x85\\xe6\\x9c\\x8d' 768914384 nan nan True 'ETL'\n",
      " '2018-11-01 20:49:59.333' 'ETL' '2018-11-01 20:49:59.333' nan]\n",
      "('1', '2')\n"
     ]
    }
   ],
   "source": []
  },
  {
   "cell_type": "code",
   "execution_count": null,
   "metadata": {},
   "outputs": [],
   "source": []
  },
  {
   "cell_type": "markdown",
   "metadata": {},
   "source": [
    "### https://www.shanelynn.ie/summarising-aggregation-and-grouping-data-in-python-pandas/"
   ]
  },
  {
   "cell_type": "code",
   "execution_count": 47,
   "metadata": {},
   "outputs": [
    {
     "data": {
      "text/html": [
       "<div>\n",
       "<style scoped>\n",
       "    .dataframe tbody tr th:only-of-type {\n",
       "        vertical-align: middle;\n",
       "    }\n",
       "\n",
       "    .dataframe tbody tr th {\n",
       "        vertical-align: top;\n",
       "    }\n",
       "\n",
       "    .dataframe thead th {\n",
       "        text-align: right;\n",
       "    }\n",
       "</style>\n",
       "<table border=\"1\" class=\"dataframe\">\n",
       "  <thead>\n",
       "    <tr style=\"text-align: right;\">\n",
       "      <th></th>\n",
       "      <th>ID</th>\n",
       "      <th>PMD_YEAR</th>\n",
       "      <th>PMD_QUARTER</th>\n",
       "      <th>PMD_CITY</th>\n",
       "      <th>PMD_MEDICINALSALEMONEY</th>\n",
       "      <th>PMD_MEDICINALSALENUMBER</th>\n",
       "      <th>PMD_MEDICINALNAME</th>\n",
       "      <th>PMD_COMPANYNAME</th>\n",
       "      <th>PMD_COMPANYID</th>\n",
       "      <th>PMD_MEDICINALINFORMATIONID</th>\n",
       "      <th>...</th>\n",
       "      <th>PMD_USEMETHOD</th>\n",
       "      <th>ETL_CRC</th>\n",
       "      <th>QA_RULE_CHK_FLG</th>\n",
       "      <th>QA_MANUAL_FLG</th>\n",
       "      <th>QA_ACTIVE_FLG</th>\n",
       "      <th>CREATE_BY</th>\n",
       "      <th>CREATE_TIME</th>\n",
       "      <th>UPDATE_BY</th>\n",
       "      <th>UPDATE_TIME</th>\n",
       "      <th>TMSTAMP</th>\n",
       "    </tr>\n",
       "  </thead>\n",
       "  <tbody>\n",
       "    <tr>\n",
       "      <th>0</th>\n",
       "      <td>251401</td>\n",
       "      <td>2013</td>\n",
       "      <td>1</td>\n",
       "      <td>北京</td>\n",
       "      <td>750711.0000</td>\n",
       "      <td>328700.0</td>\n",
       "      <td>莫沙必利</td>\n",
       "      <td>日本住友制药</td>\n",
       "      <td>M3078</td>\n",
       "      <td>D0047870410AAA1303T010</td>\n",
       "      <td>...</td>\n",
       "      <td>内服</td>\n",
       "      <td>768914384</td>\n",
       "      <td>NaN</td>\n",
       "      <td>NaN</td>\n",
       "      <td>True</td>\n",
       "      <td>ETL</td>\n",
       "      <td>2018-01-11 20:49:59.333</td>\n",
       "      <td>ETL</td>\n",
       "      <td>2018-11-01 20:49:59.333</td>\n",
       "      <td>NaN</td>\n",
       "    </tr>\n",
       "    <tr>\n",
       "      <th>1</th>\n",
       "      <td>251417</td>\n",
       "      <td>2013</td>\n",
       "      <td>1</td>\n",
       "      <td>北京</td>\n",
       "      <td>55440.0000</td>\n",
       "      <td>48960.0</td>\n",
       "      <td>琥珀酸亚铁</td>\n",
       "      <td>四川奥邦药业</td>\n",
       "      <td>M3758</td>\n",
       "      <td>D0031030200AAA0102T024</td>\n",
       "      <td>...</td>\n",
       "      <td>内服</td>\n",
       "      <td>3631507639</td>\n",
       "      <td>NaN</td>\n",
       "      <td>NaN</td>\n",
       "      <td>True</td>\n",
       "      <td>ETL</td>\n",
       "      <td>2018-01-11 20:49:59.333</td>\n",
       "      <td>ETL</td>\n",
       "      <td>2018-11-01 20:49:59.333</td>\n",
       "      <td>NaN</td>\n",
       "    </tr>\n",
       "    <tr>\n",
       "      <th>2</th>\n",
       "      <td>2158330</td>\n",
       "      <td>2013</td>\n",
       "      <td>1</td>\n",
       "      <td>北京市</td>\n",
       "      <td>72513.2415</td>\n",
       "      <td>5843.0</td>\n",
       "      <td>金嗓散结</td>\n",
       "      <td>西安碑林药业</td>\n",
       "      <td>M4260</td>\n",
       "      <td>D0036600200DAA0102T131</td>\n",
       "      <td>...</td>\n",
       "      <td>内服</td>\n",
       "      <td>1796643922</td>\n",
       "      <td>NaN</td>\n",
       "      <td>NaN</td>\n",
       "      <td>True</td>\n",
       "      <td>talend_load@SHN1708DSL9YF2</td>\n",
       "      <td>2019-02-28 11:31:44.000</td>\n",
       "      <td>talend_load@SHN1708DSL9YF2</td>\n",
       "      <td>2019-02-28 11:31:44.000</td>\n",
       "      <td>NaN</td>\n",
       "    </tr>\n",
       "    <tr>\n",
       "      <th>3</th>\n",
       "      <td>2158331</td>\n",
       "      <td>2013</td>\n",
       "      <td>1</td>\n",
       "      <td>北京市</td>\n",
       "      <td>761737.0410</td>\n",
       "      <td>22656.0</td>\n",
       "      <td>坤宝</td>\n",
       "      <td>北京同仁堂股份同仁堂制药</td>\n",
       "      <td>M0489</td>\n",
       "      <td>D0040550100DAA1274T020</td>\n",
       "      <td>...</td>\n",
       "      <td>内服</td>\n",
       "      <td>3480623486</td>\n",
       "      <td>NaN</td>\n",
       "      <td>NaN</td>\n",
       "      <td>True</td>\n",
       "      <td>talend_load@SHN1708DSL9YF2</td>\n",
       "      <td>2019-02-28 11:31:44.000</td>\n",
       "      <td>talend_load@SHN1708DSL9YF2</td>\n",
       "      <td>2019-02-28 11:31:44.000</td>\n",
       "      <td>NaN</td>\n",
       "    </tr>\n",
       "    <tr>\n",
       "      <th>4</th>\n",
       "      <td>2158332</td>\n",
       "      <td>2013</td>\n",
       "      <td>1</td>\n",
       "      <td>北京市</td>\n",
       "      <td>2704.2472</td>\n",
       "      <td>158.0</td>\n",
       "      <td>尿感宁</td>\n",
       "      <td>贵州信邦制药</td>\n",
       "      <td>M1316</td>\n",
       "      <td>D0049040100CAA0237T012</td>\n",
       "      <td>...</td>\n",
       "      <td>内服</td>\n",
       "      <td>1337064295</td>\n",
       "      <td>NaN</td>\n",
       "      <td>NaN</td>\n",
       "      <td>True</td>\n",
       "      <td>talend_load@SHN1708DSL9YF2</td>\n",
       "      <td>2019-02-28 11:31:44.000</td>\n",
       "      <td>talend_load@SHN1708DSL9YF2</td>\n",
       "      <td>2019-02-28 11:31:44.000</td>\n",
       "      <td>NaN</td>\n",
       "    </tr>\n",
       "  </tbody>\n",
       "</table>\n",
       "<p>5 rows × 37 columns</p>\n",
       "</div>"
      ],
      "text/plain": [
       "        ID  PMD_YEAR  PMD_QUARTER PMD_CITY  PMD_MEDICINALSALEMONEY  \\\n",
       "0   251401      2013            1       北京             750711.0000   \n",
       "1   251417      2013            1       北京              55440.0000   \n",
       "2  2158330      2013            1      北京市              72513.2415   \n",
       "3  2158331      2013            1      北京市             761737.0410   \n",
       "4  2158332      2013            1      北京市               2704.2472   \n",
       "\n",
       "   PMD_MEDICINALSALENUMBER PMD_MEDICINALNAME PMD_COMPANYNAME PMD_COMPANYID  \\\n",
       "0                 328700.0              莫沙必利          日本住友制药         M3078   \n",
       "1                  48960.0             琥珀酸亚铁          四川奥邦药业         M3758   \n",
       "2                   5843.0              金嗓散结          西安碑林药业         M4260   \n",
       "3                  22656.0                坤宝    北京同仁堂股份同仁堂制药         M0489   \n",
       "4                    158.0               尿感宁          贵州信邦制药         M1316   \n",
       "\n",
       "  PMD_MEDICINALINFORMATIONID   ...    PMD_USEMETHOD     ETL_CRC  \\\n",
       "0     D0047870410AAA1303T010   ...               内服   768914384   \n",
       "1     D0031030200AAA0102T024   ...               内服  3631507639   \n",
       "2     D0036600200DAA0102T131   ...               内服  1796643922   \n",
       "3     D0040550100DAA1274T020   ...               内服  3480623486   \n",
       "4     D0049040100CAA0237T012   ...               内服  1337064295   \n",
       "\n",
       "   QA_RULE_CHK_FLG  QA_MANUAL_FLG  QA_ACTIVE_FLG                   CREATE_BY  \\\n",
       "0              NaN            NaN           True                         ETL   \n",
       "1              NaN            NaN           True                         ETL   \n",
       "2              NaN            NaN           True  talend_load@SHN1708DSL9YF2   \n",
       "3              NaN            NaN           True  talend_load@SHN1708DSL9YF2   \n",
       "4              NaN            NaN           True  talend_load@SHN1708DSL9YF2   \n",
       "\n",
       "              CREATE_TIME                   UPDATE_BY  \\\n",
       "0 2018-01-11 20:49:59.333                         ETL   \n",
       "1 2018-01-11 20:49:59.333                         ETL   \n",
       "2 2019-02-28 11:31:44.000  talend_load@SHN1708DSL9YF2   \n",
       "3 2019-02-28 11:31:44.000  talend_load@SHN1708DSL9YF2   \n",
       "4 2019-02-28 11:31:44.000  talend_load@SHN1708DSL9YF2   \n",
       "\n",
       "               UPDATE_TIME  TMSTAMP  \n",
       "0  2018-11-01 20:49:59.333      NaN  \n",
       "1  2018-11-01 20:49:59.333      NaN  \n",
       "2  2019-02-28 11:31:44.000      NaN  \n",
       "3  2019-02-28 11:31:44.000      NaN  \n",
       "4  2019-02-28 11:31:44.000      NaN  \n",
       "\n",
       "[5 rows x 37 columns]"
      ]
     },
     "execution_count": 47,
     "metadata": {},
     "output_type": "execute_result"
    }
   ],
   "source": [
    "import dateutil\n",
    "\n",
    "# Load data from csv file\n",
    "# data = pd.DataFrame.from_csv('phone_data.csv')\n",
    "# Convert date from string to date times\n",
    "data['CREATE_TIME'] = data['CREATE_TIME'].apply(dateutil.parser.parse, dayfirst=True)\n",
    "data.head()"
   ]
  },
  {
   "cell_type": "code",
   "execution_count": 19,
   "metadata": {},
   "outputs": [
    {
     "data": {
      "text/plain": [
       "\"[[251401L 2013L 1L ... 'ETL' '2018-11-01 20:49:59.333' nan]\\n [251417L 2013L 1L ... 'ETL' '2018-11-01 20:49:59.333' nan]\\n [2158330L 2013L 1L ... 'talend_load@SHN1708DSL9YF2'\\n  '2019-02-28 11:31:44.000' nan]\\n ...\\n [2532104L 2013L 1L ... 'talend_load@SHN1708DSL9YF2'\\n  '2019-02-28 13:58:22' nan]\\n [2532105L 2013L 1L ... 'talend_load@SHN1708DSL9YF2'\\n  '2019-02-28 13:58:22' nan]\\n [2532106L 2013L 1L ... 'talend_load@SHN1708DSL9YF2'\\n  '2019-02-28 13:58:22' nan]]\""
      ]
     },
     "execution_count": 19,
     "metadata": {},
     "output_type": "execute_result"
    }
   ],
   "source": [
    "data.head()\n",
    "# str(data.values)"
   ]
  },
  {
   "cell_type": "code",
   "execution_count": 48,
   "metadata": {},
   "outputs": [
    {
     "data": {
      "text/plain": [
       "广州      17896\n",
       "北京      14012\n",
       "郑州      13284\n",
       "上海      13062\n",
       "成都      12302\n",
       "重庆      12229\n",
       "武汉      11906\n",
       "长沙      11796\n",
       "济南      11678\n",
       "杭州      10407\n",
       "沈阳       9599\n",
       "石家庄      9597\n",
       "南京       9401\n",
       "哈尔滨      9019\n",
       "天津       8796\n",
       "西安       8698\n",
       "郑州市      5613\n",
       "北京市      4410\n",
       "广州市      4356\n",
       "重庆市      4224\n",
       "成都市      3642\n",
       "南京市      3282\n",
       "沈阳市      2562\n",
       "西安市      2457\n",
       "哈尔滨市     2199\n",
       "Name: PMD_CITY, dtype: int64"
      ]
     },
     "execution_count": 48,
     "metadata": {},
     "output_type": "execute_result"
    }
   ],
   "source": [
    "# 相当于在某一列上做groupby再得到行计数\n",
    "data[\"PMD_CITY\"].value_counts()"
   ]
  },
  {
   "cell_type": "code",
   "execution_count": 49,
   "metadata": {},
   "outputs": [
    {
     "data": {
      "text/plain": [
       "['\\xe5\\xb9\\xbf\\xe5\\xb7\\x9e\\xe5\\xb8\\x82',\n",
       " '\\xe5\\x8d\\x97\\xe4\\xba\\xac\\xe5\\xb8\\x82',\n",
       " '\\xe6\\xb2\\x88\\xe9\\x98\\xb3\\xe5\\xb8\\x82',\n",
       " '\\xe5\\x8c\\x97\\xe4\\xba\\xac',\n",
       " '\\xe9\\x87\\x8d\\xe5\\xba\\x86\\xe5\\xb8\\x82',\n",
       " '\\xe6\\xad\\xa6\\xe6\\xb1\\x89',\n",
       " '\\xe9\\x95\\xbf\\xe6\\xb2\\x99',\n",
       " '\\xe6\\x88\\x90\\xe9\\x83\\xbd',\n",
       " '\\xe4\\xb8\\x8a\\xe6\\xb5\\xb7',\n",
       " '\\xe5\\x93\\x88\\xe5\\xb0\\x94\\xe6\\xbb\\xa8\\xe5\\xb8\\x82',\n",
       " '\\xe6\\x9d\\xad\\xe5\\xb7\\x9e',\n",
       " '\\xe6\\x88\\x90\\xe9\\x83\\xbd\\xe5\\xb8\\x82',\n",
       " '\\xe7\\x9f\\xb3\\xe5\\xae\\xb6\\xe5\\xba\\x84',\n",
       " '\\xe5\\xa4\\xa9\\xe6\\xb4\\xa5',\n",
       " '\\xe9\\x83\\x91\\xe5\\xb7\\x9e\\xe5\\xb8\\x82',\n",
       " '\\xe9\\x83\\x91\\xe5\\xb7\\x9e',\n",
       " '\\xe6\\xb2\\x88\\xe9\\x98\\xb3',\n",
       " '\\xe8\\xa5\\xbf\\xe5\\xae\\x89\\xe5\\xb8\\x82',\n",
       " '\\xe5\\x93\\x88\\xe5\\xb0\\x94\\xe6\\xbb\\xa8',\n",
       " '\\xe5\\xb9\\xbf\\xe5\\xb7\\x9e',\n",
       " '\\xe6\\xb5\\x8e\\xe5\\x8d\\x97',\n",
       " '\\xe8\\xa5\\xbf\\xe5\\xae\\x89',\n",
       " '\\xe9\\x87\\x8d\\xe5\\xba\\x86',\n",
       " '\\xe5\\x8d\\x97\\xe4\\xba\\xac',\n",
       " '\\xe5\\x8c\\x97\\xe4\\xba\\xac\\xe5\\xb8\\x82']"
      ]
     },
     "execution_count": 49,
     "metadata": {},
     "output_type": "execute_result"
    }
   ],
   "source": [
    "data.groupby([\"PMD_CITY\"]).groups.keys() "
   ]
  },
  {
   "cell_type": "code",
   "execution_count": 50,
   "metadata": {},
   "outputs": [
    {
     "data": {
      "text/plain": [
       "PMD_CITY\n",
       "上海      9.013887e+09\n",
       "北京      1.116227e+10\n",
       "北京市     4.453168e+09\n",
       "南京      3.025418e+09\n",
       "南京市     1.738821e+09\n",
       "哈尔滨     2.418503e+09\n",
       "哈尔滨市    1.858250e+09\n",
       "天津      2.799192e+09\n",
       "广州      8.544224e+09\n",
       "广州市     2.171378e+09\n",
       "成都      3.161391e+09\n",
       "成都市     1.950799e+09\n",
       "杭州      5.086572e+09\n",
       "武汉      4.281739e+09\n",
       "沈阳      2.120332e+09\n",
       "沈阳市     1.188307e+09\n",
       "济南      2.361001e+09\n",
       "石家庄     2.027361e+09\n",
       "西安      1.249036e+09\n",
       "西安市     1.652649e+09\n",
       "郑州      3.739957e+09\n",
       "郑州市     1.417676e+09\n",
       "重庆      3.337902e+09\n",
       "重庆市     2.522970e+09\n",
       "长沙      3.411868e+09\n",
       "Name: PMD_MEDICINALSALEMONEY, dtype: float64"
      ]
     },
     "execution_count": 50,
     "metadata": {},
     "output_type": "execute_result"
    }
   ],
   "source": [
    "data.groupby(\"PMD_CITY\")['PMD_MEDICINALSALEMONEY'].sum() "
   ]
  },
  {
   "cell_type": "code",
   "execution_count": 52,
   "metadata": {},
   "outputs": [
    {
     "data": {
      "text/plain": [
       "PMD_CITY\n",
       "上海      13062\n",
       "北京      14012\n",
       "北京市      4410\n",
       "南京       9401\n",
       "南京市      3282\n",
       "哈尔滨      9019\n",
       "哈尔滨市     2199\n",
       "天津       8796\n",
       "广州      17896\n",
       "广州市      4356\n",
       "成都      12302\n",
       "成都市      3642\n",
       "杭州      10407\n",
       "武汉      11906\n",
       "沈阳       9599\n",
       "沈阳市      2562\n",
       "济南      11678\n",
       "石家庄      9597\n",
       "西安       8698\n",
       "西安市      2457\n",
       "郑州      13284\n",
       "郑州市      5613\n",
       "重庆      12229\n",
       "重庆市      4224\n",
       "长沙      11796\n",
       "Name: PMD_MEDICINALSALENUMBER, dtype: int64"
      ]
     },
     "execution_count": 52,
     "metadata": {},
     "output_type": "execute_result"
    }
   ],
   "source": [
    "data.groupby(\"PMD_CITY\")['PMD_MEDICINALSALENUMBER'].count() "
   ]
  },
  {
   "cell_type": "markdown",
   "metadata": {},
   "source": [
    "### Groupby output format – Series or DataFrame?\n",
    "\n",
    "The output from a groupby and aggregation operation varies between Pandas Series and Pandas Dataframes, which can be confusing for new users. As a rule of thumb, if you calculate more than one column of results, your result will be a Dataframe. For a single column of results, the agg function, by default, will produce a Series."
   ]
  },
  {
   "cell_type": "code",
   "execution_count": null,
   "metadata": {},
   "outputs": [],
   "source": [
    "get_dummies"
   ]
  },
  {
   "cell_type": "markdown",
   "metadata": {},
   "source": [
    "### Pandas Data Wrangling: Avoiding that 'SettingWithCopyWarning'\n",
    "https://maxpowerwastaken.github.io/blog/pandas_view_vs_copy/"
   ]
  },
  {
   "cell_type": "markdown",
   "metadata": {},
   "source": [
    "### Tutorial: Using Pandas with Large Data Sets in Python\n",
    "https://www.dataquest.io/blog/pandas-big-data/\n"
   ]
  },
  {
   "cell_type": "code",
   "execution_count": null,
   "metadata": {},
   "outputs": [],
   "source": [
    "TODO \n",
    "pandas 日期类型转换成str. 有时候转换不成功"
   ]
  },
  {
   "cell_type": "markdown",
   "metadata": {},
   "source": [
    "### .astype\n",
    "https://pbpython.com/pandas_dtypes.html"
   ]
  },
  {
   "cell_type": "code",
   "execution_count": 2,
   "metadata": {},
   "outputs": [],
   "source": [
    "import pandas as pd"
   ]
  },
  {
   "cell_type": "code",
   "execution_count": 7,
   "metadata": {},
   "outputs": [],
   "source": [
    "df = pd.DataFrame([[20],['close']], columns=['units'])"
   ]
  },
  {
   "cell_type": "code",
   "execution_count": 8,
   "metadata": {},
   "outputs": [
    {
     "data": {
      "text/html": [
       "<div>\n",
       "<style scoped>\n",
       "    .dataframe tbody tr th:only-of-type {\n",
       "        vertical-align: middle;\n",
       "    }\n",
       "\n",
       "    .dataframe tbody tr th {\n",
       "        vertical-align: top;\n",
       "    }\n",
       "\n",
       "    .dataframe thead th {\n",
       "        text-align: right;\n",
       "    }\n",
       "</style>\n",
       "<table border=\"1\" class=\"dataframe\">\n",
       "  <thead>\n",
       "    <tr style=\"text-align: right;\">\n",
       "      <th></th>\n",
       "      <th>units</th>\n",
       "    </tr>\n",
       "  </thead>\n",
       "  <tbody>\n",
       "    <tr>\n",
       "      <th>0</th>\n",
       "      <td>20</td>\n",
       "    </tr>\n",
       "    <tr>\n",
       "      <th>1</th>\n",
       "      <td>close</td>\n",
       "    </tr>\n",
       "  </tbody>\n",
       "</table>\n",
       "</div>"
      ],
      "text/plain": [
       "   units\n",
       "0     20\n",
       "1  close"
      ]
     },
     "execution_count": 8,
     "metadata": {},
     "output_type": "execute_result"
    }
   ],
   "source": [
    "df"
   ]
  },
  {
   "cell_type": "code",
   "execution_count": 9,
   "metadata": {},
   "outputs": [],
   "source": [
    "# df[\"Start_Date\"] = pd.to_datetime(df[['Month', 'Day', 'Year']])\n",
    "\n",
    "# I don't know why cannot astype from str to int directly, not working. \n",
    "df[\"units\"] = pd.to_numeric(df['units'], errors='coerce')# .fillna(0)\n",
    "\n",
    "# https://pandas.pydata.org/pandas-docs/stable/reference/api/pandas.to_numeric.html"
   ]
  },
  {
   "cell_type": "code",
   "execution_count": 10,
   "metadata": {},
   "outputs": [
    {
     "data": {
      "text/html": [
       "<div>\n",
       "<style scoped>\n",
       "    .dataframe tbody tr th:only-of-type {\n",
       "        vertical-align: middle;\n",
       "    }\n",
       "\n",
       "    .dataframe tbody tr th {\n",
       "        vertical-align: top;\n",
       "    }\n",
       "\n",
       "    .dataframe thead th {\n",
       "        text-align: right;\n",
       "    }\n",
       "</style>\n",
       "<table border=\"1\" class=\"dataframe\">\n",
       "  <thead>\n",
       "    <tr style=\"text-align: right;\">\n",
       "      <th></th>\n",
       "      <th>units</th>\n",
       "    </tr>\n",
       "  </thead>\n",
       "  <tbody>\n",
       "    <tr>\n",
       "      <th>0</th>\n",
       "      <td>20.0</td>\n",
       "    </tr>\n",
       "    <tr>\n",
       "      <th>1</th>\n",
       "      <td>NaN</td>\n",
       "    </tr>\n",
       "  </tbody>\n",
       "</table>\n",
       "</div>"
      ],
      "text/plain": [
       "   units\n",
       "0   20.0\n",
       "1    NaN"
      ]
     },
     "execution_count": 10,
     "metadata": {},
     "output_type": "execute_result"
    }
   ],
   "source": [
    "df"
   ]
  },
  {
   "cell_type": "code",
   "execution_count": 13,
   "metadata": {},
   "outputs": [],
   "source": [
    "df=df.dropna()"
   ]
  },
  {
   "cell_type": "code",
   "execution_count": 14,
   "metadata": {},
   "outputs": [
    {
     "data": {
      "text/html": [
       "<div>\n",
       "<style scoped>\n",
       "    .dataframe tbody tr th:only-of-type {\n",
       "        vertical-align: middle;\n",
       "    }\n",
       "\n",
       "    .dataframe tbody tr th {\n",
       "        vertical-align: top;\n",
       "    }\n",
       "\n",
       "    .dataframe thead th {\n",
       "        text-align: right;\n",
       "    }\n",
       "</style>\n",
       "<table border=\"1\" class=\"dataframe\">\n",
       "  <thead>\n",
       "    <tr style=\"text-align: right;\">\n",
       "      <th></th>\n",
       "      <th>units</th>\n",
       "    </tr>\n",
       "  </thead>\n",
       "  <tbody>\n",
       "    <tr>\n",
       "      <th>0</th>\n",
       "      <td>20</td>\n",
       "    </tr>\n",
       "  </tbody>\n",
       "</table>\n",
       "</div>"
      ],
      "text/plain": [
       "   units\n",
       "0     20"
      ]
     },
     "execution_count": 14,
     "metadata": {},
     "output_type": "execute_result"
    }
   ],
   "source": [
    "df.astype(int)"
   ]
  },
  {
   "cell_type": "code",
   "execution_count": null,
   "metadata": {},
   "outputs": [],
   "source": []
  },
  {
   "cell_type": "code",
   "execution_count": 44,
   "metadata": {},
   "outputs": [],
   "source": [
    "tickers= pd.read_csv(\"tickers.csv\", dtype={'ticker_symbol':str})"
   ]
  },
  {
   "cell_type": "code",
   "execution_count": 45,
   "metadata": {},
   "outputs": [
    {
     "data": {
      "text/html": [
       "<div>\n",
       "<style scoped>\n",
       "    .dataframe tbody tr th:only-of-type {\n",
       "        vertical-align: middle;\n",
       "    }\n",
       "\n",
       "    .dataframe tbody tr th {\n",
       "        vertical-align: top;\n",
       "    }\n",
       "\n",
       "    .dataframe thead th {\n",
       "        text-align: right;\n",
       "    }\n",
       "</style>\n",
       "<table border=\"1\" class=\"dataframe\">\n",
       "  <thead>\n",
       "    <tr style=\"text-align: right;\">\n",
       "      <th></th>\n",
       "      <th>Unnamed: 0</th>\n",
       "      <th>ticker_symbol</th>\n",
       "      <th>list_date</th>\n",
       "      <th>delist_date</th>\n",
       "      <th>SEC_SHORT_NAME</th>\n",
       "    </tr>\n",
       "  </thead>\n",
       "  <tbody>\n",
       "    <tr>\n",
       "      <th>0</th>\n",
       "      <td>0</td>\n",
       "      <td>000001</td>\n",
       "      <td>1991-04-03</td>\n",
       "      <td>NaN</td>\n",
       "      <td>平安银行</td>\n",
       "    </tr>\n",
       "    <tr>\n",
       "      <th>1</th>\n",
       "      <td>1</td>\n",
       "      <td>000002</td>\n",
       "      <td>1991-01-29</td>\n",
       "      <td>NaN</td>\n",
       "      <td>万科A</td>\n",
       "    </tr>\n",
       "    <tr>\n",
       "      <th>2</th>\n",
       "      <td>2</td>\n",
       "      <td>000003</td>\n",
       "      <td>1991-07-03</td>\n",
       "      <td>2002-06-14</td>\n",
       "      <td>PT金田A</td>\n",
       "    </tr>\n",
       "    <tr>\n",
       "      <th>3</th>\n",
       "      <td>3</td>\n",
       "      <td>000004</td>\n",
       "      <td>1991-01-14</td>\n",
       "      <td>NaN</td>\n",
       "      <td>国农科技</td>\n",
       "    </tr>\n",
       "    <tr>\n",
       "      <th>4</th>\n",
       "      <td>4</td>\n",
       "      <td>000005</td>\n",
       "      <td>1990-12-10</td>\n",
       "      <td>NaN</td>\n",
       "      <td>世纪星源</td>\n",
       "    </tr>\n",
       "  </tbody>\n",
       "</table>\n",
       "</div>"
      ],
      "text/plain": [
       "   Unnamed: 0 ticker_symbol   list_date delist_date SEC_SHORT_NAME\n",
       "0           0        000001  1991-04-03         NaN           平安银行\n",
       "1           1        000002  1991-01-29         NaN            万科A\n",
       "2           2        000003  1991-07-03  2002-06-14          PT金田A\n",
       "3           3        000004  1991-01-14         NaN           国农科技\n",
       "4           4        000005  1990-12-10         NaN           世纪星源"
      ]
     },
     "execution_count": 45,
     "metadata": {},
     "output_type": "execute_result"
    }
   ],
   "source": [
    "tickers.head()"
   ]
  },
  {
   "cell_type": "code",
   "execution_count": 46,
   "metadata": {},
   "outputs": [
    {
     "data": {
      "text/html": [
       "<div>\n",
       "<style scoped>\n",
       "    .dataframe tbody tr th:only-of-type {\n",
       "        vertical-align: middle;\n",
       "    }\n",
       "\n",
       "    .dataframe tbody tr th {\n",
       "        vertical-align: top;\n",
       "    }\n",
       "\n",
       "    .dataframe thead th {\n",
       "        text-align: right;\n",
       "    }\n",
       "</style>\n",
       "<table border=\"1\" class=\"dataframe\">\n",
       "  <thead>\n",
       "    <tr style=\"text-align: right;\">\n",
       "      <th></th>\n",
       "      <th>Unnamed: 0</th>\n",
       "      <th>ticker_symbol</th>\n",
       "      <th>list_date</th>\n",
       "      <th>delist_date</th>\n",
       "      <th>SEC_SHORT_NAME</th>\n",
       "    </tr>\n",
       "  </thead>\n",
       "  <tbody>\n",
       "    <tr>\n",
       "      <th>3745</th>\n",
       "      <td>3745</td>\n",
       "      <td>603993</td>\n",
       "      <td>2012-10-09</td>\n",
       "      <td>NaN</td>\n",
       "      <td>洛阳钼业</td>\n",
       "    </tr>\n",
       "    <tr>\n",
       "      <th>3746</th>\n",
       "      <td>3746</td>\n",
       "      <td>603996</td>\n",
       "      <td>2015-12-22</td>\n",
       "      <td>NaN</td>\n",
       "      <td>ST中新</td>\n",
       "    </tr>\n",
       "    <tr>\n",
       "      <th>3747</th>\n",
       "      <td>3747</td>\n",
       "      <td>603997</td>\n",
       "      <td>2015-03-02</td>\n",
       "      <td>NaN</td>\n",
       "      <td>继峰股份</td>\n",
       "    </tr>\n",
       "    <tr>\n",
       "      <th>3748</th>\n",
       "      <td>3748</td>\n",
       "      <td>603998</td>\n",
       "      <td>2014-12-05</td>\n",
       "      <td>NaN</td>\n",
       "      <td>方盛制药</td>\n",
       "    </tr>\n",
       "    <tr>\n",
       "      <th>3749</th>\n",
       "      <td>3749</td>\n",
       "      <td>603999</td>\n",
       "      <td>2015-12-10</td>\n",
       "      <td>NaN</td>\n",
       "      <td>读者传媒</td>\n",
       "    </tr>\n",
       "  </tbody>\n",
       "</table>\n",
       "</div>"
      ],
      "text/plain": [
       "      Unnamed: 0 ticker_symbol   list_date delist_date SEC_SHORT_NAME\n",
       "3745        3745        603993  2012-10-09         NaN           洛阳钼业\n",
       "3746        3746        603996  2015-12-22         NaN           ST中新\n",
       "3747        3747        603997  2015-03-02         NaN           继峰股份\n",
       "3748        3748        603998  2014-12-05         NaN           方盛制药\n",
       "3749        3749        603999  2015-12-10         NaN           读者传媒"
      ]
     },
     "execution_count": 46,
     "metadata": {},
     "output_type": "execute_result"
    }
   ],
   "source": [
    "tickers.tail()"
   ]
  },
  {
   "cell_type": "code",
   "execution_count": 47,
   "metadata": {},
   "outputs": [],
   "source": [
    "ticker_list = tickers.ticker_symbol.unique().tolist()"
   ]
  },
  {
   "cell_type": "code",
   "execution_count": 48,
   "metadata": {},
   "outputs": [
    {
     "data": {
      "text/plain": [
       "3750"
      ]
     },
     "execution_count": 48,
     "metadata": {},
     "output_type": "execute_result"
    }
   ],
   "source": [
    "len(ticker_list)"
   ]
  },
  {
   "cell_type": "code",
   "execution_count": 41,
   "metadata": {},
   "outputs": [],
   "source": [
    "# df = pd.read_csv(\"tpas.csv\")\n",
    "df = pd.read_csv(\"cdcon.csv\", dtype={'ticker_symbol':str})"
   ]
  },
  {
   "cell_type": "code",
   "execution_count": 42,
   "metadata": {},
   "outputs": [
    {
     "data": {
      "text/html": [
       "<div>\n",
       "<style scoped>\n",
       "    .dataframe tbody tr th:only-of-type {\n",
       "        vertical-align: middle;\n",
       "    }\n",
       "\n",
       "    .dataframe tbody tr th {\n",
       "        vertical-align: top;\n",
       "    }\n",
       "\n",
       "    .dataframe thead th {\n",
       "        text-align: right;\n",
       "    }\n",
       "</style>\n",
       "<table border=\"1\" class=\"dataframe\">\n",
       "  <thead>\n",
       "    <tr style=\"text-align: right;\">\n",
       "      <th></th>\n",
       "      <th>ticker_symbol</th>\n",
       "      <th>con_target_price</th>\n",
       "      <th>con_score</th>\n",
       "      <th>con_type_target_price</th>\n",
       "      <th>con_type_score</th>\n",
       "    </tr>\n",
       "  </thead>\n",
       "  <tbody>\n",
       "    <tr>\n",
       "      <th>0</th>\n",
       "      <td>000001</td>\n",
       "      <td>16.044000</td>\n",
       "      <td>4.500000</td>\n",
       "      <td>1</td>\n",
       "      <td>1</td>\n",
       "    </tr>\n",
       "    <tr>\n",
       "      <th>1</th>\n",
       "      <td>000002</td>\n",
       "      <td>36.563333</td>\n",
       "      <td>6.000000</td>\n",
       "      <td>1</td>\n",
       "      <td>1</td>\n",
       "    </tr>\n",
       "    <tr>\n",
       "      <th>2</th>\n",
       "      <td>000012</td>\n",
       "      <td>7.200000</td>\n",
       "      <td>4.000000</td>\n",
       "      <td>2</td>\n",
       "      <td>1</td>\n",
       "    </tr>\n",
       "    <tr>\n",
       "      <th>3</th>\n",
       "      <td>000030</td>\n",
       "      <td>6.600000</td>\n",
       "      <td>6.000000</td>\n",
       "      <td>2</td>\n",
       "      <td>2</td>\n",
       "    </tr>\n",
       "    <tr>\n",
       "      <th>4</th>\n",
       "      <td>000031</td>\n",
       "      <td>8.372500</td>\n",
       "      <td>5.714286</td>\n",
       "      <td>1</td>\n",
       "      <td>1</td>\n",
       "    </tr>\n",
       "  </tbody>\n",
       "</table>\n",
       "</div>"
      ],
      "text/plain": [
       "  ticker_symbol  con_target_price  con_score  con_type_target_price  \\\n",
       "0        000001         16.044000   4.500000                      1   \n",
       "1        000002         36.563333   6.000000                      1   \n",
       "2        000012          7.200000   4.000000                      2   \n",
       "3        000030          6.600000   6.000000                      2   \n",
       "4        000031          8.372500   5.714286                      1   \n",
       "\n",
       "   con_type_score  \n",
       "0               1  \n",
       "1               1  \n",
       "2               1  \n",
       "3               2  \n",
       "4               1  "
      ]
     },
     "execution_count": 42,
     "metadata": {},
     "output_type": "execute_result"
    }
   ],
   "source": [
    "df.head()"
   ]
  },
  {
   "cell_type": "code",
   "execution_count": 39,
   "metadata": {},
   "outputs": [
    {
     "data": {
      "text/plain": [
       "(1382, 5)"
      ]
     },
     "execution_count": 39,
     "metadata": {},
     "output_type": "execute_result"
    }
   ],
   "source": [
    "df.shape"
   ]
  },
  {
   "cell_type": "code",
   "execution_count": 22,
   "metadata": {},
   "outputs": [
    {
     "name": "stderr",
     "output_type": "stream",
     "text": [
      "c:\\python27\\lib\\site-packages\\ipykernel_launcher.py:1: FutureWarning: \n",
      "Passing list-likes to .loc or [] with any missing label will raise\n",
      "KeyError in the future, you can use .reindex() as an alternative.\n",
      "\n",
      "See the documentation here:\n",
      "http://pandas.pydata.org/pandas-docs/stable/indexing.html#deprecate-loc-reindex-listlike\n",
      "  \"\"\"Entry point for launching an IPython kernel.\n"
     ]
    }
   ],
   "source": [
    "# df = df.set_index(['ticker_symbol']).loc[ticker_list]\n",
    "# cd_con = cd_con.reset_index()\n"
   ]
  },
  {
   "cell_type": "code",
   "execution_count": 32,
   "metadata": {},
   "outputs": [],
   "source": [
    "# con = df[~df.con_score.isnull()]"
   ]
  },
  {
   "cell_type": "code",
   "execution_count": 34,
   "metadata": {},
   "outputs": [
    {
     "data": {
      "text/html": [
       "<div>\n",
       "<style scoped>\n",
       "    .dataframe tbody tr th:only-of-type {\n",
       "        vertical-align: middle;\n",
       "    }\n",
       "\n",
       "    .dataframe tbody tr th {\n",
       "        vertical-align: top;\n",
       "    }\n",
       "\n",
       "    .dataframe thead th {\n",
       "        text-align: right;\n",
       "    }\n",
       "</style>\n",
       "<table border=\"1\" class=\"dataframe\">\n",
       "  <thead>\n",
       "    <tr style=\"text-align: right;\">\n",
       "      <th></th>\n",
       "      <th>ticker_symbol</th>\n",
       "      <th>con_target_price</th>\n",
       "      <th>con_score</th>\n",
       "      <th>con_type_target_price</th>\n",
       "      <th>con_type_score</th>\n",
       "      <th>con_date</th>\n",
       "    </tr>\n",
       "  </thead>\n",
       "  <tbody>\n",
       "    <tr>\n",
       "      <th>0</th>\n",
       "      <td>1</td>\n",
       "      <td>16.075735</td>\n",
       "      <td>0.956055</td>\n",
       "      <td>1.0</td>\n",
       "      <td>1.0</td>\n",
       "      <td>2019-07-26</td>\n",
       "    </tr>\n",
       "    <tr>\n",
       "      <th>1</th>\n",
       "      <td>2</td>\n",
       "      <td>34.937118</td>\n",
       "      <td>0.956019</td>\n",
       "      <td>1.0</td>\n",
       "      <td>1.0</td>\n",
       "      <td>2019-07-26</td>\n",
       "    </tr>\n",
       "    <tr>\n",
       "      <th>6</th>\n",
       "      <td>8</td>\n",
       "      <td>4.500000</td>\n",
       "      <td>0.750000</td>\n",
       "      <td>2.0</td>\n",
       "      <td>2.0</td>\n",
       "      <td>2019-07-26</td>\n",
       "    </tr>\n",
       "    <tr>\n",
       "      <th>10</th>\n",
       "      <td>12</td>\n",
       "      <td>7.200000</td>\n",
       "      <td>0.875000</td>\n",
       "      <td>2.0</td>\n",
       "      <td>2.0</td>\n",
       "      <td>2019-07-26</td>\n",
       "    </tr>\n",
       "    <tr>\n",
       "      <th>12</th>\n",
       "      <td>16</td>\n",
       "      <td>NaN</td>\n",
       "      <td>0.750000</td>\n",
       "      <td>3.0</td>\n",
       "      <td>2.0</td>\n",
       "      <td>2019-07-26</td>\n",
       "    </tr>\n",
       "  </tbody>\n",
       "</table>\n",
       "</div>"
      ],
      "text/plain": [
       "    ticker_symbol  con_target_price  con_score  con_type_target_price  \\\n",
       "0               1         16.075735   0.956055                    1.0   \n",
       "1               2         34.937118   0.956019                    1.0   \n",
       "6               8          4.500000   0.750000                    2.0   \n",
       "10             12          7.200000   0.875000                    2.0   \n",
       "12             16               NaN   0.750000                    3.0   \n",
       "\n",
       "    con_type_score    con_date  \n",
       "0              1.0  2019-07-26  \n",
       "1              1.0  2019-07-26  \n",
       "6              2.0  2019-07-26  \n",
       "10             2.0  2019-07-26  \n",
       "12             2.0  2019-07-26  "
      ]
     },
     "execution_count": 34,
     "metadata": {},
     "output_type": "execute_result"
    }
   ],
   "source": [
    "# con.head()"
   ]
  },
  {
   "cell_type": "code",
   "execution_count": 1,
   "metadata": {},
   "outputs": [],
   "source": [
    "# df.set_index(['ticker_symbol']).loc[ticker_list]  # 这个操作会把ticker_list全部匹配到df的index上， 原本df中没的index会整行填充NAN"
   ]
  },
  {
   "cell_type": "markdown",
   "metadata": {},
   "source": [
    "### Find difference between two data frames"
   ]
  },
  {
   "cell_type": "markdown",
   "metadata": {},
   "source": [
    "### https://stackoverflow.com/questions/48647534/python-pandas-find-difference-between-two-data-frames\n"
   ]
  },
  {
   "cell_type": "code",
   "execution_count": null,
   "metadata": {},
   "outputs": [],
   "source": [
    "pd.concat([df1,df2]).drop_duplicates(keep=False)"
   ]
  },
  {
   "cell_type": "markdown",
   "metadata": {},
   "source": [
    "### https://datascience.stackexchange.com/questions/45075/how-to-compare-two-dataframes-and-put-the-counted-unique-values-in-a-first-dataf\n",
    "https://stackoverflow.com/questions/20225110/comparing-two-dataframes-and-getting-the-differences"
   ]
  },
  {
   "cell_type": "markdown",
   "metadata": {},
   "source": [
    "### https://datatofish.com/compare-values-dataframes/"
   ]
  },
  {
   "cell_type": "markdown",
   "metadata": {},
   "source": [
    "### https://pandas.pydata.org/pandas-docs/stable/reference/api/pandas.DataFrame.equals.html"
   ]
  },
  {
   "cell_type": "markdown",
   "metadata": {},
   "source": [
    "### https://datatofish.com/export-pandas-dataframe-json/\n",
    "https://pandas.pydata.org/pandas-docs/stable/reference/api/pandas.DataFrame.to_json.html\n"
   ]
  },
  {
   "cell_type": "markdown",
   "metadata": {},
   "source": [
    "### https://stackoverflow.com/questions/32041245/fast-method-for-removing-duplicate-columns-in-pandas-dataframe"
   ]
  },
  {
   "cell_type": "markdown",
   "metadata": {},
   "source": [
    "### np.where"
   ]
  },
  {
   "cell_type": "code",
   "execution_count": null,
   "metadata": {},
   "outputs": [],
   "source": [
    "# https://www.cnblogs.com/massquantity/p/8908859.html\n",
    "    "
   ]
  },
  {
   "cell_type": "code",
   "execution_count": null,
   "metadata": {},
   "outputs": [],
   "source": [
    "# https://stackoverflow.com/questions/26255671/pandas-column-values-to-columns"
   ]
  },
  {
   "cell_type": "code",
   "execution_count": null,
   "metadata": {},
   "outputs": [],
   "source": [
    "reset_index, warning "
   ]
  },
  {
   "cell_type": "code",
   "execution_count": 4,
   "metadata": {},
   "outputs": [
    {
     "data": {
      "text/html": [
       "<div>\n",
       "<style scoped>\n",
       "    .dataframe tbody tr th:only-of-type {\n",
       "        vertical-align: middle;\n",
       "    }\n",
       "\n",
       "    .dataframe tbody tr th {\n",
       "        vertical-align: top;\n",
       "    }\n",
       "\n",
       "    .dataframe thead th {\n",
       "        text-align: right;\n",
       "    }\n",
       "</style>\n",
       "<table border=\"1\" class=\"dataframe\">\n",
       "  <thead>\n",
       "    <tr style=\"text-align: right;\">\n",
       "      <th></th>\n",
       "      <th>SECURITY_ID_INT</th>\n",
       "      <th>raw_X</th>\n",
       "      <th>raw_Y</th>\n",
       "      <th>vertical</th>\n",
       "      <th>horizontal</th>\n",
       "    </tr>\n",
       "  </thead>\n",
       "  <tbody>\n",
       "    <tr>\n",
       "      <th>0</th>\n",
       "      <td>1734</td>\n",
       "      <td>-106.512730</td>\n",
       "      <td>223.595615</td>\n",
       "      <td>large</td>\n",
       "      <td>value</td>\n",
       "    </tr>\n",
       "    <tr>\n",
       "      <th>1</th>\n",
       "      <td>1351</td>\n",
       "      <td>-95.753155</td>\n",
       "      <td>244.328818</td>\n",
       "      <td>large</td>\n",
       "      <td>value</td>\n",
       "    </tr>\n",
       "    <tr>\n",
       "      <th>2</th>\n",
       "      <td>2228</td>\n",
       "      <td>-74.231371</td>\n",
       "      <td>318.054976</td>\n",
       "      <td>large</td>\n",
       "      <td>value</td>\n",
       "    </tr>\n",
       "    <tr>\n",
       "      <th>3</th>\n",
       "      <td>2296</td>\n",
       "      <td>-57.797931</td>\n",
       "      <td>394.503697</td>\n",
       "      <td>large</td>\n",
       "      <td>value</td>\n",
       "    </tr>\n",
       "    <tr>\n",
       "      <th>4</th>\n",
       "      <td>1971</td>\n",
       "      <td>-50.873616</td>\n",
       "      <td>581.970420</td>\n",
       "      <td>large</td>\n",
       "      <td>value</td>\n",
       "    </tr>\n",
       "  </tbody>\n",
       "</table>\n",
       "</div>"
      ],
      "text/plain": [
       "   SECURITY_ID_INT       raw_X       raw_Y vertical horizontal\n",
       "0             1734 -106.512730  223.595615    large      value\n",
       "1             1351  -95.753155  244.328818    large      value\n",
       "2             2228  -74.231371  318.054976    large      value\n",
       "3             2296  -57.797931  394.503697    large      value\n",
       "4             1971  -50.873616  581.970420    large      value"
      ]
     },
     "execution_count": 4,
     "metadata": {},
     "output_type": "execute_result"
    }
   ],
   "source": [
    "#                 updated_data_set[key] = dfpre[dfpre.id.isin(preids)]\n",
    "style = pd.read_csv('data_morning_start_style.csv')\n",
    "style.head()"
   ]
  },
  {
   "cell_type": "code",
   "execution_count": 6,
   "metadata": {},
   "outputs": [
    {
     "data": {
      "text/plain": [
       "-57.797930543"
      ]
     },
     "execution_count": 6,
     "metadata": {},
     "output_type": "execute_result"
    }
   ],
   "source": [
    "style['raw_X'][3]"
   ]
  },
  {
   "cell_type": "code",
   "execution_count": 11,
   "metadata": {},
   "outputs": [
    {
     "data": {
      "text/plain": [
       "(3089, 5)"
      ]
     },
     "execution_count": 11,
     "metadata": {},
     "output_type": "execute_result"
    }
   ],
   "source": [
    "style.shape"
   ]
  },
  {
   "cell_type": "code",
   "execution_count": 12,
   "metadata": {},
   "outputs": [],
   "source": [
    "df = style[:12]"
   ]
  },
  {
   "cell_type": "code",
   "execution_count": 18,
   "metadata": {},
   "outputs": [
    {
     "data": {
      "text/plain": [
       "DatetimeIndex(['2018-01-31', '2018-02-28', '2018-03-30', '2018-04-30',\n",
       "               '2018-05-31', '2018-06-29', '2018-07-31', '2018-08-31',\n",
       "               '2018-09-28', '2018-10-31', '2018-11-30', '2018-12-31'],\n",
       "              dtype='datetime64[ns]', freq='BM')"
      ]
     },
     "execution_count": 18,
     "metadata": {},
     "output_type": "execute_result"
    }
   ],
   "source": [
    "dates = pd.date_range('2018-01-01','2019-01-01',freq='BM')\n",
    "dates"
   ]
  },
  {
   "cell_type": "code",
   "execution_count": 14,
   "metadata": {},
   "outputs": [],
   "source": [
    "df.index=dates"
   ]
  },
  {
   "cell_type": "code",
   "execution_count": 15,
   "metadata": {
    "scrolled": true
   },
   "outputs": [
    {
     "data": {
      "text/html": [
       "<div>\n",
       "<style scoped>\n",
       "    .dataframe tbody tr th:only-of-type {\n",
       "        vertical-align: middle;\n",
       "    }\n",
       "\n",
       "    .dataframe tbody tr th {\n",
       "        vertical-align: top;\n",
       "    }\n",
       "\n",
       "    .dataframe thead th {\n",
       "        text-align: right;\n",
       "    }\n",
       "</style>\n",
       "<table border=\"1\" class=\"dataframe\">\n",
       "  <thead>\n",
       "    <tr style=\"text-align: right;\">\n",
       "      <th></th>\n",
       "      <th>SECURITY_ID_INT</th>\n",
       "      <th>raw_X</th>\n",
       "      <th>raw_Y</th>\n",
       "      <th>vertical</th>\n",
       "      <th>horizontal</th>\n",
       "    </tr>\n",
       "  </thead>\n",
       "  <tbody>\n",
       "    <tr>\n",
       "      <th>2018-01-31</th>\n",
       "      <td>1734</td>\n",
       "      <td>-106.512730</td>\n",
       "      <td>223.595615</td>\n",
       "      <td>large</td>\n",
       "      <td>value</td>\n",
       "    </tr>\n",
       "    <tr>\n",
       "      <th>2018-02-28</th>\n",
       "      <td>1351</td>\n",
       "      <td>-95.753155</td>\n",
       "      <td>244.328818</td>\n",
       "      <td>large</td>\n",
       "      <td>value</td>\n",
       "    </tr>\n",
       "    <tr>\n",
       "      <th>2018-03-31</th>\n",
       "      <td>2228</td>\n",
       "      <td>-74.231371</td>\n",
       "      <td>318.054976</td>\n",
       "      <td>large</td>\n",
       "      <td>value</td>\n",
       "    </tr>\n",
       "    <tr>\n",
       "      <th>2018-04-30</th>\n",
       "      <td>2296</td>\n",
       "      <td>-57.797931</td>\n",
       "      <td>394.503697</td>\n",
       "      <td>large</td>\n",
       "      <td>value</td>\n",
       "    </tr>\n",
       "    <tr>\n",
       "      <th>2018-05-31</th>\n",
       "      <td>1971</td>\n",
       "      <td>-50.873616</td>\n",
       "      <td>581.970420</td>\n",
       "      <td>large</td>\n",
       "      <td>value</td>\n",
       "    </tr>\n",
       "    <tr>\n",
       "      <th>2018-06-30</th>\n",
       "      <td>596</td>\n",
       "      <td>-48.216841</td>\n",
       "      <td>350.745190</td>\n",
       "      <td>large</td>\n",
       "      <td>value</td>\n",
       "    </tr>\n",
       "    <tr>\n",
       "      <th>2018-07-31</th>\n",
       "      <td>1768</td>\n",
       "      <td>-34.912216</td>\n",
       "      <td>264.474972</td>\n",
       "      <td>large</td>\n",
       "      <td>value</td>\n",
       "    </tr>\n",
       "    <tr>\n",
       "      <th>2018-08-31</th>\n",
       "      <td>599</td>\n",
       "      <td>-31.074632</td>\n",
       "      <td>369.757377</td>\n",
       "      <td>large</td>\n",
       "      <td>value</td>\n",
       "    </tr>\n",
       "    <tr>\n",
       "      <th>2018-09-30</th>\n",
       "      <td>1441</td>\n",
       "      <td>-27.497806</td>\n",
       "      <td>311.781603</td>\n",
       "      <td>large</td>\n",
       "      <td>value</td>\n",
       "    </tr>\n",
       "    <tr>\n",
       "      <th>2018-10-31</th>\n",
       "      <td>11293</td>\n",
       "      <td>-21.570914</td>\n",
       "      <td>327.138403</td>\n",
       "      <td>large</td>\n",
       "      <td>value</td>\n",
       "    </tr>\n",
       "    <tr>\n",
       "      <th>2018-11-30</th>\n",
       "      <td>2056</td>\n",
       "      <td>-19.671819</td>\n",
       "      <td>640.353763</td>\n",
       "      <td>large</td>\n",
       "      <td>value</td>\n",
       "    </tr>\n",
       "    <tr>\n",
       "      <th>2018-12-31</th>\n",
       "      <td>2196</td>\n",
       "      <td>-13.072381</td>\n",
       "      <td>496.736476</td>\n",
       "      <td>large</td>\n",
       "      <td>value</td>\n",
       "    </tr>\n",
       "  </tbody>\n",
       "</table>\n",
       "</div>"
      ],
      "text/plain": [
       "            SECURITY_ID_INT       raw_X       raw_Y vertical horizontal\n",
       "2018-01-31             1734 -106.512730  223.595615    large      value\n",
       "2018-02-28             1351  -95.753155  244.328818    large      value\n",
       "2018-03-31             2228  -74.231371  318.054976    large      value\n",
       "2018-04-30             2296  -57.797931  394.503697    large      value\n",
       "2018-05-31             1971  -50.873616  581.970420    large      value\n",
       "2018-06-30              596  -48.216841  350.745190    large      value\n",
       "2018-07-31             1768  -34.912216  264.474972    large      value\n",
       "2018-08-31              599  -31.074632  369.757377    large      value\n",
       "2018-09-30             1441  -27.497806  311.781603    large      value\n",
       "2018-10-31            11293  -21.570914  327.138403    large      value\n",
       "2018-11-30             2056  -19.671819  640.353763    large      value\n",
       "2018-12-31             2196  -13.072381  496.736476    large      value"
      ]
     },
     "execution_count": 15,
     "metadata": {},
     "output_type": "execute_result"
    }
   ],
   "source": [
    "df"
   ]
  },
  {
   "cell_type": "code",
   "execution_count": 4,
   "metadata": {},
   "outputs": [
    {
     "data": {
      "text/html": [
       "<div>\n",
       "<style scoped>\n",
       "    .dataframe tbody tr th:only-of-type {\n",
       "        vertical-align: middle;\n",
       "    }\n",
       "\n",
       "    .dataframe tbody tr th {\n",
       "        vertical-align: top;\n",
       "    }\n",
       "\n",
       "    .dataframe thead th {\n",
       "        text-align: right;\n",
       "    }\n",
       "</style>\n",
       "<table border=\"1\" class=\"dataframe\">\n",
       "  <thead>\n",
       "    <tr style=\"text-align: right;\">\n",
       "      <th></th>\n",
       "      <th>SECURITY_ID_INT</th>\n",
       "      <th>raw_X</th>\n",
       "      <th>raw_Y</th>\n",
       "      <th>vertical</th>\n",
       "      <th>horizontal</th>\n",
       "    </tr>\n",
       "  </thead>\n",
       "  <tbody>\n",
       "  </tbody>\n",
       "</table>\n",
       "</div>"
      ],
      "text/plain": [
       "Empty DataFrame\n",
       "Columns: [SECURITY_ID_INT, raw_X, raw_Y, vertical, horizontal]\n",
       "Index: []"
      ]
     },
     "execution_count": 4,
     "metadata": {},
     "output_type": "execute_result"
    }
   ],
   "source": [
    "style[style.vertical.isin([])]"
   ]
  },
  {
   "cell_type": "markdown",
   "metadata": {},
   "source": [
    "# Empty DataFrame with or without columns"
   ]
  },
  {
   "cell_type": "code",
   "execution_count": 25,
   "metadata": {},
   "outputs": [],
   "source": [
    "import pandas as pd\n",
    "import numpy as np"
   ]
  },
  {
   "cell_type": "code",
   "execution_count": 2,
   "metadata": {},
   "outputs": [],
   "source": [
    "col='price'\n",
    "col_con = pd.DataFrame(columns=[col])\n"
   ]
  },
  {
   "cell_type": "code",
   "execution_count": 4,
   "metadata": {},
   "outputs": [
    {
     "data": {
      "text/plain": [
       "Index([u'price'], dtype='object')"
      ]
     },
     "execution_count": 4,
     "metadata": {},
     "output_type": "execute_result"
    }
   ],
   "source": [
    "col_con.columns"
   ]
  },
  {
   "cell_type": "code",
   "execution_count": 7,
   "metadata": {},
   "outputs": [],
   "source": [
    "df =pd.DataFrame([10,8,6,4,2])"
   ]
  },
  {
   "cell_type": "code",
   "execution_count": 8,
   "metadata": {},
   "outputs": [
    {
     "data": {
      "text/plain": [
       "RangeIndex(start=0, stop=1, step=1)"
      ]
     },
     "execution_count": 8,
     "metadata": {},
     "output_type": "execute_result"
    }
   ],
   "source": [
    "df.columns"
   ]
  },
  {
   "cell_type": "code",
   "execution_count": 9,
   "metadata": {},
   "outputs": [
    {
     "data": {
      "text/html": [
       "<div>\n",
       "<style scoped>\n",
       "    .dataframe tbody tr th:only-of-type {\n",
       "        vertical-align: middle;\n",
       "    }\n",
       "\n",
       "    .dataframe tbody tr th {\n",
       "        vertical-align: top;\n",
       "    }\n",
       "\n",
       "    .dataframe thead th {\n",
       "        text-align: right;\n",
       "    }\n",
       "</style>\n",
       "<table border=\"1\" class=\"dataframe\">\n",
       "  <thead>\n",
       "    <tr style=\"text-align: right;\">\n",
       "      <th></th>\n",
       "      <th>date</th>\n",
       "    </tr>\n",
       "  </thead>\n",
       "  <tbody>\n",
       "    <tr>\n",
       "      <th>0</th>\n",
       "      <td>2019-01-01</td>\n",
       "    </tr>\n",
       "    <tr>\n",
       "      <th>1</th>\n",
       "      <td>2019-01-02</td>\n",
       "    </tr>\n",
       "    <tr>\n",
       "      <th>2</th>\n",
       "      <td>2019-01-03</td>\n",
       "    </tr>\n",
       "    <tr>\n",
       "      <th>3</th>\n",
       "      <td>2019-01-04</td>\n",
       "    </tr>\n",
       "    <tr>\n",
       "      <th>4</th>\n",
       "      <td>2019-01-05</td>\n",
       "    </tr>\n",
       "  </tbody>\n",
       "</table>\n",
       "</div>"
      ],
      "text/plain": [
       "        date\n",
       "0 2019-01-01\n",
       "1 2019-01-02\n",
       "2 2019-01-03\n",
       "3 2019-01-04\n",
       "4 2019-01-05"
      ]
     },
     "execution_count": 9,
     "metadata": {},
     "output_type": "execute_result"
    }
   ],
   "source": [
    "datelist = pd.DataFrame(pd.date_range(\"2019-01-01\", \"2019-01-05\"), columns=[\"date\"])\n",
    "datelist"
   ]
  },
  {
   "cell_type": "code",
   "execution_count": 10,
   "metadata": {},
   "outputs": [
    {
     "data": {
      "text/plain": [
       "Index([u'date'], dtype='object')"
      ]
     },
     "execution_count": 10,
     "metadata": {},
     "output_type": "execute_result"
    }
   ],
   "source": [
    "datelist.columns"
   ]
  },
  {
   "cell_type": "code",
   "execution_count": 11,
   "metadata": {},
   "outputs": [],
   "source": [
    "# df = pd.read_csv('research-dev.csv', dtype={\"STOCK_CODE\": str})\n"
   ]
  },
  {
   "cell_type": "code",
   "execution_count": 12,
   "metadata": {},
   "outputs": [
    {
     "data": {
      "text/html": [
       "<div>\n",
       "<style scoped>\n",
       "    .dataframe tbody tr th:only-of-type {\n",
       "        vertical-align: middle;\n",
       "    }\n",
       "\n",
       "    .dataframe tbody tr th {\n",
       "        vertical-align: top;\n",
       "    }\n",
       "\n",
       "    .dataframe thead th {\n",
       "        text-align: right;\n",
       "    }\n",
       "</style>\n",
       "<table border=\"1\" class=\"dataframe\">\n",
       "  <thead>\n",
       "    <tr style=\"text-align: right;\">\n",
       "      <th></th>\n",
       "      <th>SCHEDULE_ID</th>\n",
       "      <th>STOCK_CODE</th>\n",
       "      <th>STOCK_NAME</th>\n",
       "      <th>CON_DATE</th>\n",
       "      <th>TARGET_PRICE</th>\n",
       "      <th>TARGET_PRICE_TYPE</th>\n",
       "      <th>SCORE</th>\n",
       "      <th>SCORE_TYPE</th>\n",
       "      <th>TMSTAMP</th>\n",
       "      <th>ENTRYDATE</th>\n",
       "      <th>ENTRYTIME</th>\n",
       "      <th>TDATE</th>\n",
       "      <th>DT</th>\n",
       "      <th>ETL_CRC</th>\n",
       "      <th>INSERT_TIME</th>\n",
       "      <th>UPDATE_TIME</th>\n",
       "    </tr>\n",
       "  </thead>\n",
       "  <tbody>\n",
       "    <tr>\n",
       "      <th>0</th>\n",
       "      <td>20758</td>\n",
       "      <td>1</td>\n",
       "      <td>深发展A</td>\n",
       "      <td>2010-1-4 00:00:00</td>\n",
       "      <td>24.7216</td>\n",
       "      <td>1</td>\n",
       "      <td>0.734274</td>\n",
       "      <td>1</td>\n",
       "      <td>NaN</td>\n",
       "      <td>NaN</td>\n",
       "      <td>NaN</td>\n",
       "      <td>NaN</td>\n",
       "      <td>2019-9-4 10:35:16</td>\n",
       "      <td>2733396264</td>\n",
       "      <td>2019-9-4 10:35:16</td>\n",
       "      <td>2019-9-4 10:35:16</td>\n",
       "    </tr>\n",
       "    <tr>\n",
       "      <th>1</th>\n",
       "      <td>20759</td>\n",
       "      <td>2</td>\n",
       "      <td>万科A</td>\n",
       "      <td>2010-1-4 00:00:00</td>\n",
       "      <td>14.9572</td>\n",
       "      <td>1</td>\n",
       "      <td>0.838957</td>\n",
       "      <td>1</td>\n",
       "      <td>NaN</td>\n",
       "      <td>NaN</td>\n",
       "      <td>NaN</td>\n",
       "      <td>NaN</td>\n",
       "      <td>2019-9-4 10:35:16</td>\n",
       "      <td>4171701419</td>\n",
       "      <td>2019-9-4 10:35:16</td>\n",
       "      <td>2019-9-4 10:35:16</td>\n",
       "    </tr>\n",
       "    <tr>\n",
       "      <th>2</th>\n",
       "      <td>20760</td>\n",
       "      <td>12</td>\n",
       "      <td>南玻A</td>\n",
       "      <td>2010-1-4 00:00:00</td>\n",
       "      <td>20.3734</td>\n",
       "      <td>1</td>\n",
       "      <td>0.799333</td>\n",
       "      <td>1</td>\n",
       "      <td>NaN</td>\n",
       "      <td>NaN</td>\n",
       "      <td>NaN</td>\n",
       "      <td>NaN</td>\n",
       "      <td>2019-9-4 10:35:16</td>\n",
       "      <td>1552382292</td>\n",
       "      <td>2019-9-4 10:35:16</td>\n",
       "      <td>2019-9-4 10:35:16</td>\n",
       "    </tr>\n",
       "    <tr>\n",
       "      <th>3</th>\n",
       "      <td>20761</td>\n",
       "      <td>498</td>\n",
       "      <td>*ST丹化</td>\n",
       "      <td>2010-1-4 00:00:00</td>\n",
       "      <td>NaN</td>\n",
       "      <td>3</td>\n",
       "      <td>0.500000</td>\n",
       "      <td>4</td>\n",
       "      <td>NaN</td>\n",
       "      <td>NaN</td>\n",
       "      <td>NaN</td>\n",
       "      <td>NaN</td>\n",
       "      <td>2019-9-4 10:35:16</td>\n",
       "      <td>396978625</td>\n",
       "      <td>2019-9-4 10:35:16</td>\n",
       "      <td>2019-9-4 10:35:16</td>\n",
       "    </tr>\n",
       "    <tr>\n",
       "      <th>4</th>\n",
       "      <td>20762</td>\n",
       "      <td>600200</td>\n",
       "      <td>江苏吴中</td>\n",
       "      <td>2010-1-4 00:00:00</td>\n",
       "      <td>3.5000</td>\n",
       "      <td>4</td>\n",
       "      <td>0.500000</td>\n",
       "      <td>4</td>\n",
       "      <td>NaN</td>\n",
       "      <td>NaN</td>\n",
       "      <td>NaN</td>\n",
       "      <td>NaN</td>\n",
       "      <td>2019-9-4 10:35:16</td>\n",
       "      <td>3181536836</td>\n",
       "      <td>2019-9-4 10:35:16</td>\n",
       "      <td>2019-9-4 10:35:16</td>\n",
       "    </tr>\n",
       "  </tbody>\n",
       "</table>\n",
       "</div>"
      ],
      "text/plain": [
       "   SCHEDULE_ID  STOCK_CODE STOCK_NAME           CON_DATE  TARGET_PRICE  \\\n",
       "0        20758           1       深发展A  2010-1-4 00:00:00       24.7216   \n",
       "1        20759           2        万科A  2010-1-4 00:00:00       14.9572   \n",
       "2        20760          12        南玻A  2010-1-4 00:00:00       20.3734   \n",
       "3        20761         498      *ST丹化  2010-1-4 00:00:00           NaN   \n",
       "4        20762      600200       江苏吴中  2010-1-4 00:00:00        3.5000   \n",
       "\n",
       "   TARGET_PRICE_TYPE     SCORE  SCORE_TYPE  TMSTAMP  ENTRYDATE  ENTRYTIME  \\\n",
       "0                  1  0.734274           1      NaN        NaN        NaN   \n",
       "1                  1  0.838957           1      NaN        NaN        NaN   \n",
       "2                  1  0.799333           1      NaN        NaN        NaN   \n",
       "3                  3  0.500000           4      NaN        NaN        NaN   \n",
       "4                  4  0.500000           4      NaN        NaN        NaN   \n",
       "\n",
       "   TDATE                 DT     ETL_CRC        INSERT_TIME        UPDATE_TIME  \n",
       "0    NaN  2019-9-4 10:35:16  2733396264  2019-9-4 10:35:16  2019-9-4 10:35:16  \n",
       "1    NaN  2019-9-4 10:35:16  4171701419  2019-9-4 10:35:16  2019-9-4 10:35:16  \n",
       "2    NaN  2019-9-4 10:35:16  1552382292  2019-9-4 10:35:16  2019-9-4 10:35:16  \n",
       "3    NaN  2019-9-4 10:35:16   396978625  2019-9-4 10:35:16  2019-9-4 10:35:16  \n",
       "4    NaN  2019-9-4 10:35:16  3181536836  2019-9-4 10:35:16  2019-9-4 10:35:16  "
      ]
     },
     "execution_count": 12,
     "metadata": {},
     "output_type": "execute_result"
    }
   ],
   "source": [
    "# df.head()"
   ]
  },
  {
   "cell_type": "code",
   "execution_count": 14,
   "metadata": {},
   "outputs": [
    {
     "name": "stderr",
     "output_type": "stream",
     "text": [
      "c:\\python27\\lib\\site-packages\\pandas\\core\\ops.py:816: FutureWarning: elementwise comparison failed; returning scalar instead, but in the future will perform elementwise comparison\n",
      "  result = getattr(x, name)(y)\n"
     ]
    },
    {
     "ename": "TypeError",
     "evalue": "invalid type comparison",
     "output_type": "error",
     "traceback": [
      "\u001b[1;31m---------------------------------------------------------------------------\u001b[0m",
      "\u001b[1;31mTypeError\u001b[0m                                 Traceback (most recent call last)",
      "\u001b[1;32m<ipython-input-14-8fb1f2821904>\u001b[0m in \u001b[0;36m<module>\u001b[1;34m()\u001b[0m\n\u001b[1;32m----> 1\u001b[1;33m \u001b[0mdf\u001b[0m\u001b[1;33m[\u001b[0m\u001b[0mdf\u001b[0m\u001b[1;33m.\u001b[0m\u001b[0mSTOCK_CODE\u001b[0m\u001b[1;33m==\u001b[0m\u001b[1;34m'000001'\u001b[0m\u001b[1;33m]\u001b[0m\u001b[1;33m\u001b[0m\u001b[0m\n\u001b[0m",
      "\u001b[1;32mc:\\python27\\lib\\site-packages\\pandas\\core\\ops.pyc\u001b[0m in \u001b[0;36mwrapper\u001b[1;34m(self, other, axis)\u001b[0m\n\u001b[0;32m    877\u001b[0m \u001b[1;33m\u001b[0m\u001b[0m\n\u001b[0;32m    878\u001b[0m             \u001b[1;32mwith\u001b[0m \u001b[0mnp\u001b[0m\u001b[1;33m.\u001b[0m\u001b[0merrstate\u001b[0m\u001b[1;33m(\u001b[0m\u001b[0mall\u001b[0m\u001b[1;33m=\u001b[0m\u001b[1;34m'ignore'\u001b[0m\u001b[1;33m)\u001b[0m\u001b[1;33m:\u001b[0m\u001b[1;33m\u001b[0m\u001b[0m\n\u001b[1;32m--> 879\u001b[1;33m                 \u001b[0mres\u001b[0m \u001b[1;33m=\u001b[0m \u001b[0mna_op\u001b[0m\u001b[1;33m(\u001b[0m\u001b[0mvalues\u001b[0m\u001b[1;33m,\u001b[0m \u001b[0mother\u001b[0m\u001b[1;33m)\u001b[0m\u001b[1;33m\u001b[0m\u001b[0m\n\u001b[0m\u001b[0;32m    880\u001b[0m             \u001b[1;32mif\u001b[0m \u001b[0mis_scalar\u001b[0m\u001b[1;33m(\u001b[0m\u001b[0mres\u001b[0m\u001b[1;33m)\u001b[0m\u001b[1;33m:\u001b[0m\u001b[1;33m\u001b[0m\u001b[0m\n\u001b[0;32m    881\u001b[0m                 raise TypeError('Could not compare {typ} type with Series'\n",
      "\u001b[1;32mc:\\python27\\lib\\site-packages\\pandas\\core\\ops.pyc\u001b[0m in \u001b[0;36mna_op\u001b[1;34m(x, y)\u001b[0m\n\u001b[0;32m    816\u001b[0m                     \u001b[0mresult\u001b[0m \u001b[1;33m=\u001b[0m \u001b[0mgetattr\u001b[0m\u001b[1;33m(\u001b[0m\u001b[0mx\u001b[0m\u001b[1;33m,\u001b[0m \u001b[0mname\u001b[0m\u001b[1;33m)\u001b[0m\u001b[1;33m(\u001b[0m\u001b[0my\u001b[0m\u001b[1;33m)\u001b[0m\u001b[1;33m\u001b[0m\u001b[0m\n\u001b[0;32m    817\u001b[0m                 \u001b[1;32mif\u001b[0m \u001b[0mresult\u001b[0m \u001b[1;32mis\u001b[0m \u001b[0mNotImplemented\u001b[0m\u001b[1;33m:\u001b[0m\u001b[1;33m\u001b[0m\u001b[0m\n\u001b[1;32m--> 818\u001b[1;33m                     \u001b[1;32mraise\u001b[0m \u001b[0mTypeError\u001b[0m\u001b[1;33m(\u001b[0m\u001b[1;34m\"invalid type comparison\"\u001b[0m\u001b[1;33m)\u001b[0m\u001b[1;33m\u001b[0m\u001b[0m\n\u001b[0m\u001b[0;32m    819\u001b[0m             \u001b[1;32mexcept\u001b[0m \u001b[0mAttributeError\u001b[0m\u001b[1;33m:\u001b[0m\u001b[1;33m\u001b[0m\u001b[0m\n\u001b[0;32m    820\u001b[0m                 \u001b[0mresult\u001b[0m \u001b[1;33m=\u001b[0m \u001b[0mop\u001b[0m\u001b[1;33m(\u001b[0m\u001b[0mx\u001b[0m\u001b[1;33m,\u001b[0m \u001b[0my\u001b[0m\u001b[1;33m)\u001b[0m\u001b[1;33m\u001b[0m\u001b[0m\n",
      "\u001b[1;31mTypeError\u001b[0m: invalid type comparison"
     ]
    }
   ],
   "source": [
    "# df[df.STOCK_CODE=='000001']"
   ]
  },
  {
   "cell_type": "markdown",
   "metadata": {},
   "source": [
    "# 踩过的坑"
   ]
  },
  {
   "cell_type": "code",
   "execution_count": 37,
   "metadata": {},
   "outputs": [],
   "source": [
    "df = pd.read_csv('research-dev.csv', dtype={\"STOCK_CODE\": str})"
   ]
  },
  {
   "cell_type": "code",
   "execution_count": 42,
   "metadata": {},
   "outputs": [],
   "source": [
    "df.head()\n",
    "sdf = df[(df.STOCK_CODE=='002027') & (df.CON_DATE<'2011')]"
   ]
  },
  {
   "cell_type": "code",
   "execution_count": 43,
   "metadata": {},
   "outputs": [],
   "source": [
    "sdf.head()\n",
    "sdf = sdf[['STOCK_CODE','CON_DATE','TARGET_PRICE','TARGET_PRICE_TYPE']]"
   ]
  },
  {
   "cell_type": "code",
   "execution_count": 44,
   "metadata": {},
   "outputs": [],
   "source": [
    "sdf.to_csv('2027.csv')"
   ]
  },
  {
   "cell_type": "code",
   "execution_count": 45,
   "metadata": {},
   "outputs": [
    {
     "data": {
      "text/html": [
       "<div>\n",
       "<style scoped>\n",
       "    .dataframe tbody tr th:only-of-type {\n",
       "        vertical-align: middle;\n",
       "    }\n",
       "\n",
       "    .dataframe tbody tr th {\n",
       "        vertical-align: top;\n",
       "    }\n",
       "\n",
       "    .dataframe thead th {\n",
       "        text-align: right;\n",
       "    }\n",
       "</style>\n",
       "<table border=\"1\" class=\"dataframe\">\n",
       "  <thead>\n",
       "    <tr style=\"text-align: right;\">\n",
       "      <th></th>\n",
       "      <th>Unnamed: 0</th>\n",
       "      <th>STOCK_CODE</th>\n",
       "      <th>CON_DATE</th>\n",
       "      <th>TARGET_PRICE</th>\n",
       "      <th>TARGET_PRICE_TYPE</th>\n",
       "    </tr>\n",
       "  </thead>\n",
       "  <tbody>\n",
       "    <tr>\n",
       "      <th>0</th>\n",
       "      <td>1132</td>\n",
       "      <td>2027</td>\n",
       "      <td>2010-01-04 00:00:00</td>\n",
       "      <td>3.0</td>\n",
       "      <td>4</td>\n",
       "    </tr>\n",
       "    <tr>\n",
       "      <th>1</th>\n",
       "      <td>2834</td>\n",
       "      <td>2027</td>\n",
       "      <td>2010-01-07 00:00:00</td>\n",
       "      <td>3.0</td>\n",
       "      <td>4</td>\n",
       "    </tr>\n",
       "    <tr>\n",
       "      <th>2</th>\n",
       "      <td>4528</td>\n",
       "      <td>2027</td>\n",
       "      <td>2010-01-05 00:00:00</td>\n",
       "      <td>3.0</td>\n",
       "      <td>4</td>\n",
       "    </tr>\n",
       "    <tr>\n",
       "      <th>3</th>\n",
       "      <td>6236</td>\n",
       "      <td>2027</td>\n",
       "      <td>2010-01-08 00:00:00</td>\n",
       "      <td>3.0</td>\n",
       "      <td>4</td>\n",
       "    </tr>\n",
       "    <tr>\n",
       "      <th>4</th>\n",
       "      <td>7942</td>\n",
       "      <td>2027</td>\n",
       "      <td>2010-01-11 00:00:00</td>\n",
       "      <td>3.0</td>\n",
       "      <td>4</td>\n",
       "    </tr>\n",
       "  </tbody>\n",
       "</table>\n",
       "</div>"
      ],
      "text/plain": [
       "   Unnamed: 0  STOCK_CODE             CON_DATE  TARGET_PRICE  \\\n",
       "0        1132        2027  2010-01-04 00:00:00           3.0   \n",
       "1        2834        2027  2010-01-07 00:00:00           3.0   \n",
       "2        4528        2027  2010-01-05 00:00:00           3.0   \n",
       "3        6236        2027  2010-01-08 00:00:00           3.0   \n",
       "4        7942        2027  2010-01-11 00:00:00           3.0   \n",
       "\n",
       "   TARGET_PRICE_TYPE  \n",
       "0                  4  \n",
       "1                  4  \n",
       "2                  4  \n",
       "3                  4  \n",
       "4                  4  "
      ]
     },
     "execution_count": 45,
     "metadata": {},
     "output_type": "execute_result"
    }
   ],
   "source": [
    "sdf = pd.read_csv('2027.csv')\n",
    "sdf.head()"
   ]
  },
  {
   "cell_type": "markdown",
   "metadata": {},
   "source": [
    "### 筛选条件: 将所有TARGET_PRICE_TYPE=4且CON_DATE>'2010-1-4'的行选出来，设置其TARGET_PRICE=np.nan"
   ]
  },
  {
   "cell_type": "code",
   "execution_count": 46,
   "metadata": {},
   "outputs": [
    {
     "data": {
      "text/html": [
       "<div>\n",
       "<style scoped>\n",
       "    .dataframe tbody tr th:only-of-type {\n",
       "        vertical-align: middle;\n",
       "    }\n",
       "\n",
       "    .dataframe tbody tr th {\n",
       "        vertical-align: top;\n",
       "    }\n",
       "\n",
       "    .dataframe thead th {\n",
       "        text-align: right;\n",
       "    }\n",
       "</style>\n",
       "<table border=\"1\" class=\"dataframe\">\n",
       "  <thead>\n",
       "    <tr style=\"text-align: right;\">\n",
       "      <th></th>\n",
       "      <th>Unnamed: 0</th>\n",
       "      <th>STOCK_CODE</th>\n",
       "      <th>CON_DATE</th>\n",
       "      <th>TARGET_PRICE</th>\n",
       "      <th>TARGET_PRICE_TYPE</th>\n",
       "    </tr>\n",
       "  </thead>\n",
       "  <tbody>\n",
       "    <tr>\n",
       "      <th>0</th>\n",
       "      <td>1132</td>\n",
       "      <td>2027</td>\n",
       "      <td>2010-01-04 00:00:00</td>\n",
       "      <td>3.0</td>\n",
       "      <td>4</td>\n",
       "    </tr>\n",
       "    <tr>\n",
       "      <th>1</th>\n",
       "      <td>2834</td>\n",
       "      <td>2027</td>\n",
       "      <td>2010-01-07 00:00:00</td>\n",
       "      <td>NaN</td>\n",
       "      <td>4</td>\n",
       "    </tr>\n",
       "    <tr>\n",
       "      <th>2</th>\n",
       "      <td>4528</td>\n",
       "      <td>2027</td>\n",
       "      <td>2010-01-05 00:00:00</td>\n",
       "      <td>NaN</td>\n",
       "      <td>4</td>\n",
       "    </tr>\n",
       "    <tr>\n",
       "      <th>3</th>\n",
       "      <td>6236</td>\n",
       "      <td>2027</td>\n",
       "      <td>2010-01-08 00:00:00</td>\n",
       "      <td>NaN</td>\n",
       "      <td>4</td>\n",
       "    </tr>\n",
       "    <tr>\n",
       "      <th>4</th>\n",
       "      <td>7942</td>\n",
       "      <td>2027</td>\n",
       "      <td>2010-01-11 00:00:00</td>\n",
       "      <td>NaN</td>\n",
       "      <td>4</td>\n",
       "    </tr>\n",
       "  </tbody>\n",
       "</table>\n",
       "</div>"
      ],
      "text/plain": [
       "   Unnamed: 0  STOCK_CODE             CON_DATE  TARGET_PRICE  \\\n",
       "0        1132        2027  2010-01-04 00:00:00           3.0   \n",
       "1        2834        2027  2010-01-07 00:00:00           NaN   \n",
       "2        4528        2027  2010-01-05 00:00:00           NaN   \n",
       "3        6236        2027  2010-01-08 00:00:00           NaN   \n",
       "4        7942        2027  2010-01-11 00:00:00           NaN   \n",
       "\n",
       "   TARGET_PRICE_TYPE  \n",
       "0                  4  \n",
       "1                  4  \n",
       "2                  4  \n",
       "3                  4  \n",
       "4                  4  "
      ]
     },
     "execution_count": 46,
     "metadata": {},
     "output_type": "execute_result"
    }
   ],
   "source": [
    "df = sdf.copy()\n",
    "idx = (df.CON_DATE > '2010-01-04 00:00:00') & (df.TARGET_PRICE_TYPE == 4)\n",
    "# idx = df.target_price_type == 4\n",
    "df.loc[idx, 'TARGET_PRICE'] = np.nan\n",
    "df.head()"
   ]
  },
  {
   "cell_type": "code",
   "execution_count": 48,
   "metadata": {},
   "outputs": [],
   "source": [
    "apy= range(500000)"
   ]
  },
  {
   "cell_type": "code",
   "execution_count": 50,
   "metadata": {},
   "outputs": [],
   "source": []
  },
  {
   "cell_type": "code",
   "execution_count": 51,
   "metadata": {},
   "outputs": [],
   "source": []
  },
  {
   "cell_type": "markdown",
   "metadata": {},
   "source": [
    "### a very easy way to check whether to ndarray has same values"
   ]
  },
  {
   "cell_type": "code",
   "execution_count": 53,
   "metadata": {},
   "outputs": [
    {
     "data": {
      "text/plain": [
       "False"
      ]
     },
     "execution_count": 53,
     "metadata": {},
     "output_type": "execute_result"
    }
   ],
   "source": [
    "a1 = [0,1,1,2]\n",
    "a2=[0,1,2,2]\n",
    "np.allclose(a1,a2)"
   ]
  },
  {
   "cell_type": "code",
   "execution_count": 56,
   "metadata": {},
   "outputs": [],
   "source": [
    "\n",
    "from timeit import repeat\n",
    "def perf_comp_data(func_list, data_list, rep=3, number=1):\n",
    "    res_list={}\n",
    "    for name in enumerate(func_list):\n",
    "        stmt = name[1] + '(' + data_list[name[0]] + ')'\n",
    "        setup = \"from __main__ import \" + name[1] + ', ' + data_list[name[0]]\n",
    "        results = repeat(stmt=stmt, setup=setup, repeat = rep, number=number)\n",
    "        res_list[name[1]] = sum(results) / rep\n",
    "    res_sort = sorted(res_list.iteritems(), key = lambda (k,v): (v, k))\n",
    "    for item in res_sort:\n",
    "        rel = item[1] / res_sort[0][1]\n",
    "        print('function: ' + item[0] + ', av. time sec: %9.5f, '% item[1] + 'relative: %6.1f' % rel)"
   ]
  },
  {
   "cell_type": "code",
   "execution_count": 65,
   "metadata": {},
   "outputs": [],
   "source": [
    "apy= range(500000)"
   ]
  },
  {
   "cell_type": "code",
   "execution_count": 57,
   "metadata": {},
   "outputs": [],
   "source": [
    "from math import *\n",
    "def f(x):\n",
    "    return abs(cos(x)) ** 0.5 + sin(2+3 * x)"
   ]
  },
  {
   "cell_type": "code",
   "execution_count": 58,
   "metadata": {},
   "outputs": [],
   "source": [
    "def f1(a):\n",
    "    res = []\n",
    "    for x in a :\n",
    "        res.append(f(x))\n",
    "    return res"
   ]
  },
  {
   "cell_type": "code",
   "execution_count": 59,
   "metadata": {},
   "outputs": [],
   "source": [
    "def f2(a):\n",
    "    return [f(x) for x in a]"
   ]
  },
  {
   "cell_type": "code",
   "execution_count": 60,
   "metadata": {},
   "outputs": [],
   "source": [
    "def f3(a):\n",
    "    ex = 'abs(cos(x)) ** 0.5 + sin(2+3*x)'\n",
    "    return [eval(ex) for x in a]"
   ]
  },
  {
   "cell_type": "code",
   "execution_count": 66,
   "metadata": {},
   "outputs": [],
   "source": [
    "import numpy as np\n",
    "anp = np.arange(500000)\n",
    "def f4(a):\n",
    "    return (np.abs(np.cos(a)) ** 0.5 + np.sin(2+3*a))"
   ]
  },
  {
   "cell_type": "code",
   "execution_count": 72,
   "metadata": {},
   "outputs": [],
   "source": [
    "import numexpr as ne\n",
    "def f5(a):\n",
    "    ex = 'abs(cos(a)) ** 0.5 + sin(2+3*a)'\n",
    "    res = []\n",
    "    ne.set_num_threads(1)\n",
    "    return ne.evaluate(ex)\n"
   ]
  },
  {
   "cell_type": "code",
   "execution_count": 73,
   "metadata": {},
   "outputs": [],
   "source": [
    "import numexpr as ne\n",
    "def f6(a):\n",
    "    ex = 'abs(cos(a)) ** 0.5 + sin(2+3*a)'\n",
    "    res = []\n",
    "    ne.set_num_threads(16)\n",
    "    return ne.evaluate(ex)\n"
   ]
  },
  {
   "cell_type": "code",
   "execution_count": 74,
   "metadata": {},
   "outputs": [
    {
     "data": {
      "text/plain": [
       "True"
      ]
     },
     "execution_count": 74,
     "metadata": {},
     "output_type": "execute_result"
    }
   ],
   "source": [
    "np.allclose(apy,anp)"
   ]
  },
  {
   "cell_type": "code",
   "execution_count": 75,
   "metadata": {},
   "outputs": [],
   "source": [
    "func_list = ['f1','f2','f4','f5','f6']\n",
    "data_list = ['apy','apy','anp','anp','anp']"
   ]
  },
  {
   "cell_type": "code",
   "execution_count": 76,
   "metadata": {},
   "outputs": [
    {
     "name": "stdout",
     "output_type": "stream",
     "text": [
      "function: f6, av. time sec:   0.03455, relative:    1.0\n",
      "function: f5, av. time sec:   0.07834, relative:    2.3\n",
      "function: f4, av. time sec:   0.08795, relative:    2.5\n",
      "function: f1, av. time sec:   0.73279, relative:   21.2\n",
      "function: f2, av. time sec:   0.97141, relative:   28.1\n"
     ]
    }
   ],
   "source": [
    "perf_comp_data(func_list, data_list)"
   ]
  },
  {
   "cell_type": "markdown",
   "metadata": {},
   "source": [
    "### DataFrame.where is useful for Replacing values where the condition is False.\n",
    "DataFrame.mask is used for Replacing values where the condition is True."
   ]
  },
  {
   "cell_type": "code",
   "execution_count": 2,
   "metadata": {},
   "outputs": [],
   "source": [
    "df = pd.DataFrame([1, np.nan])"
   ]
  },
  {
   "cell_type": "code",
   "execution_count": 5,
   "metadata": {},
   "outputs": [],
   "source": [
    "df = df.where((pd.notnull(df)), None)"
   ]
  },
  {
   "cell_type": "code",
   "execution_count": 6,
   "metadata": {},
   "outputs": [
    {
     "data": {
      "text/html": [
       "<div>\n",
       "<style scoped>\n",
       "    .dataframe tbody tr th:only-of-type {\n",
       "        vertical-align: middle;\n",
       "    }\n",
       "\n",
       "    .dataframe tbody tr th {\n",
       "        vertical-align: top;\n",
       "    }\n",
       "\n",
       "    .dataframe thead th {\n",
       "        text-align: right;\n",
       "    }\n",
       "</style>\n",
       "<table border=\"1\" class=\"dataframe\">\n",
       "  <thead>\n",
       "    <tr style=\"text-align: right;\">\n",
       "      <th></th>\n",
       "      <th>0</th>\n",
       "    </tr>\n",
       "  </thead>\n",
       "  <tbody>\n",
       "    <tr>\n",
       "      <th>0</th>\n",
       "      <td>1</td>\n",
       "    </tr>\n",
       "    <tr>\n",
       "      <th>1</th>\n",
       "      <td>None</td>\n",
       "    </tr>\n",
       "  </tbody>\n",
       "</table>\n",
       "</div>"
      ],
      "text/plain": [
       "      0\n",
       "0     1\n",
       "1  None"
      ]
     },
     "execution_count": 6,
     "metadata": {},
     "output_type": "execute_result"
    }
   ],
   "source": [
    "df"
   ]
  },
  {
   "cell_type": "code",
   "execution_count": 8,
   "metadata": {},
   "outputs": [],
   "source": [
    "#         df = df.replace('nan', 'None')\n",
    "#         df = df.where((pd.notnull(df)), None)\n",
    "df.iloc[0,0] = 'abnan'"
   ]
  },
  {
   "cell_type": "code",
   "execution_count": 9,
   "metadata": {},
   "outputs": [],
   "source": [
    "df = df.where((pd.notnull(df)), None)"
   ]
  },
  {
   "cell_type": "code",
   "execution_count": 10,
   "metadata": {},
   "outputs": [
    {
     "data": {
      "text/html": [
       "<div>\n",
       "<style scoped>\n",
       "    .dataframe tbody tr th:only-of-type {\n",
       "        vertical-align: middle;\n",
       "    }\n",
       "\n",
       "    .dataframe tbody tr th {\n",
       "        vertical-align: top;\n",
       "    }\n",
       "\n",
       "    .dataframe thead th {\n",
       "        text-align: right;\n",
       "    }\n",
       "</style>\n",
       "<table border=\"1\" class=\"dataframe\">\n",
       "  <thead>\n",
       "    <tr style=\"text-align: right;\">\n",
       "      <th></th>\n",
       "      <th>0</th>\n",
       "    </tr>\n",
       "  </thead>\n",
       "  <tbody>\n",
       "    <tr>\n",
       "      <th>0</th>\n",
       "      <td>abnan</td>\n",
       "    </tr>\n",
       "    <tr>\n",
       "      <th>1</th>\n",
       "      <td>None</td>\n",
       "    </tr>\n",
       "  </tbody>\n",
       "</table>\n",
       "</div>"
      ],
      "text/plain": [
       "       0\n",
       "0  abnan\n",
       "1   None"
      ]
     },
     "execution_count": 10,
     "metadata": {},
     "output_type": "execute_result"
    }
   ],
   "source": [
    "df"
   ]
  },
  {
   "cell_type": "code",
   "execution_count": 31,
   "metadata": {},
   "outputs": [],
   "source": [
    "df = pd.read_csv('cdcon.csv', dtype={\"STOCK_CODE\": str})"
   ]
  },
  {
   "cell_type": "code",
   "execution_count": 32,
   "metadata": {},
   "outputs": [
    {
     "name": "stdout",
     "output_type": "stream",
     "text": [
      "<class 'pandas.core.frame.DataFrame'>\n",
      "RangeIndex: 1382 entries, 0 to 1381\n",
      "Data columns (total 5 columns):\n",
      "ticker_symbol            1382 non-null int64\n",
      "con_target_price         740 non-null float64\n",
      "con_score                1382 non-null float64\n",
      "con_type_target_price    1382 non-null int64\n",
      "con_type_score           1382 non-null int64\n",
      "dtypes: float64(2), int64(3)\n",
      "memory usage: 54.1 KB\n"
     ]
    }
   ],
   "source": [
    "df.info()"
   ]
  },
  {
   "cell_type": "code",
   "execution_count": 20,
   "metadata": {},
   "outputs": [
    {
     "data": {
      "text/html": [
       "<div>\n",
       "<style scoped>\n",
       "    .dataframe tbody tr th:only-of-type {\n",
       "        vertical-align: middle;\n",
       "    }\n",
       "\n",
       "    .dataframe tbody tr th {\n",
       "        vertical-align: top;\n",
       "    }\n",
       "\n",
       "    .dataframe thead th {\n",
       "        text-align: right;\n",
       "    }\n",
       "</style>\n",
       "<table border=\"1\" class=\"dataframe\">\n",
       "  <thead>\n",
       "    <tr style=\"text-align: right;\">\n",
       "      <th></th>\n",
       "      <th>ticker_symbol</th>\n",
       "      <th>con_target_price</th>\n",
       "      <th>con_score</th>\n",
       "      <th>con_type_target_price</th>\n",
       "      <th>con_type_score</th>\n",
       "    </tr>\n",
       "  </thead>\n",
       "  <tbody>\n",
       "    <tr>\n",
       "      <th>0</th>\n",
       "      <td>1</td>\n",
       "      <td>16.044000</td>\n",
       "      <td>4.500000</td>\n",
       "      <td>1</td>\n",
       "      <td>1</td>\n",
       "    </tr>\n",
       "    <tr>\n",
       "      <th>1</th>\n",
       "      <td>2</td>\n",
       "      <td>36.563333</td>\n",
       "      <td>6.000000</td>\n",
       "      <td>1</td>\n",
       "      <td>1</td>\n",
       "    </tr>\n",
       "    <tr>\n",
       "      <th>2</th>\n",
       "      <td>12</td>\n",
       "      <td>7.200000</td>\n",
       "      <td>4.000000</td>\n",
       "      <td>2</td>\n",
       "      <td>1</td>\n",
       "    </tr>\n",
       "    <tr>\n",
       "      <th>3</th>\n",
       "      <td>30</td>\n",
       "      <td>6.600000</td>\n",
       "      <td>6.000000</td>\n",
       "      <td>2</td>\n",
       "      <td>2</td>\n",
       "    </tr>\n",
       "    <tr>\n",
       "      <th>4</th>\n",
       "      <td>31</td>\n",
       "      <td>8.372500</td>\n",
       "      <td>5.714286</td>\n",
       "      <td>1</td>\n",
       "      <td>1</td>\n",
       "    </tr>\n",
       "  </tbody>\n",
       "</table>\n",
       "</div>"
      ],
      "text/plain": [
       "   ticker_symbol  con_target_price  con_score  con_type_target_price  \\\n",
       "0              1         16.044000   4.500000                      1   \n",
       "1              2         36.563333   6.000000                      1   \n",
       "2             12          7.200000   4.000000                      2   \n",
       "3             30          6.600000   6.000000                      2   \n",
       "4             31          8.372500   5.714286                      1   \n",
       "\n",
       "   con_type_score  \n",
       "0               1  \n",
       "1               1  \n",
       "2               1  \n",
       "3               2  \n",
       "4               1  "
      ]
     },
     "execution_count": 20,
     "metadata": {},
     "output_type": "execute_result"
    }
   ],
   "source": [
    "df.head()"
   ]
  },
  {
   "cell_type": "code",
   "execution_count": 17,
   "metadata": {},
   "outputs": [
    {
     "data": {
      "text/plain": [
       "array(['A', 'A', 'B', ..., 'B', 'B', 'B'], dtype='|S1')"
      ]
     },
     "execution_count": 17,
     "metadata": {},
     "output_type": "execute_result"
    }
   ],
   "source": [
    "np.where(df.con_type_target_price==1, 'A', 'B')"
   ]
  },
  {
   "cell_type": "code",
   "execution_count": null,
   "metadata": {},
   "outputs": [],
   "source": [
    "# the recommended way to use np.where"
   ]
  },
  {
   "cell_type": "code",
   "execution_count": 21,
   "metadata": {},
   "outputs": [],
   "source": [
    "df['con_type_target_price'] = np.where(df.con_type_target_price==1, 'A', 'B')"
   ]
  },
  {
   "cell_type": "code",
   "execution_count": 18,
   "metadata": {},
   "outputs": [
    {
     "data": {
      "text/html": [
       "<div>\n",
       "<style scoped>\n",
       "    .dataframe tbody tr th:only-of-type {\n",
       "        vertical-align: middle;\n",
       "    }\n",
       "\n",
       "    .dataframe tbody tr th {\n",
       "        vertical-align: top;\n",
       "    }\n",
       "\n",
       "    .dataframe thead th {\n",
       "        text-align: right;\n",
       "    }\n",
       "</style>\n",
       "<table border=\"1\" class=\"dataframe\">\n",
       "  <thead>\n",
       "    <tr style=\"text-align: right;\">\n",
       "      <th></th>\n",
       "      <th>ticker_symbol</th>\n",
       "      <th>con_target_price</th>\n",
       "      <th>con_score</th>\n",
       "      <th>con_type_target_price</th>\n",
       "      <th>con_type_score</th>\n",
       "    </tr>\n",
       "  </thead>\n",
       "  <tbody>\n",
       "    <tr>\n",
       "      <th>0</th>\n",
       "      <td>1</td>\n",
       "      <td>16.044</td>\n",
       "      <td>4.5</td>\n",
       "      <td>1</td>\n",
       "      <td>1</td>\n",
       "    </tr>\n",
       "    <tr>\n",
       "      <th>1</th>\n",
       "      <td>2</td>\n",
       "      <td>36.5633</td>\n",
       "      <td>6</td>\n",
       "      <td>1</td>\n",
       "      <td>1</td>\n",
       "    </tr>\n",
       "    <tr>\n",
       "      <th>2</th>\n",
       "      <td>b</td>\n",
       "      <td>b</td>\n",
       "      <td>b</td>\n",
       "      <td>b</td>\n",
       "      <td>b</td>\n",
       "    </tr>\n",
       "    <tr>\n",
       "      <th>3</th>\n",
       "      <td>b</td>\n",
       "      <td>b</td>\n",
       "      <td>b</td>\n",
       "      <td>b</td>\n",
       "      <td>b</td>\n",
       "    </tr>\n",
       "    <tr>\n",
       "      <th>4</th>\n",
       "      <td>31</td>\n",
       "      <td>8.3725</td>\n",
       "      <td>5.71429</td>\n",
       "      <td>1</td>\n",
       "      <td>1</td>\n",
       "    </tr>\n",
       "    <tr>\n",
       "      <th>5</th>\n",
       "      <td>b</td>\n",
       "      <td>b</td>\n",
       "      <td>b</td>\n",
       "      <td>b</td>\n",
       "      <td>b</td>\n",
       "    </tr>\n",
       "    <tr>\n",
       "      <th>6</th>\n",
       "      <td>43</td>\n",
       "      <td>15.16</td>\n",
       "      <td>7</td>\n",
       "      <td>1</td>\n",
       "      <td>1</td>\n",
       "    </tr>\n",
       "    <tr>\n",
       "      <th>7</th>\n",
       "      <td>b</td>\n",
       "      <td>b</td>\n",
       "      <td>b</td>\n",
       "      <td>b</td>\n",
       "      <td>b</td>\n",
       "    </tr>\n",
       "    <tr>\n",
       "      <th>8</th>\n",
       "      <td>b</td>\n",
       "      <td>b</td>\n",
       "      <td>b</td>\n",
       "      <td>b</td>\n",
       "      <td>b</td>\n",
       "    </tr>\n",
       "    <tr>\n",
       "      <th>9</th>\n",
       "      <td>b</td>\n",
       "      <td>b</td>\n",
       "      <td>b</td>\n",
       "      <td>b</td>\n",
       "      <td>b</td>\n",
       "    </tr>\n",
       "    <tr>\n",
       "      <th>10</th>\n",
       "      <td>63</td>\n",
       "      <td>38.4412</td>\n",
       "      <td>4.4375</td>\n",
       "      <td>1</td>\n",
       "      <td>1</td>\n",
       "    </tr>\n",
       "    <tr>\n",
       "      <th>11</th>\n",
       "      <td>b</td>\n",
       "      <td>b</td>\n",
       "      <td>b</td>\n",
       "      <td>b</td>\n",
       "      <td>b</td>\n",
       "    </tr>\n",
       "    <tr>\n",
       "      <th>12</th>\n",
       "      <td>89</td>\n",
       "      <td>10.7</td>\n",
       "      <td>3.25</td>\n",
       "      <td>1</td>\n",
       "      <td>1</td>\n",
       "    </tr>\n",
       "    <tr>\n",
       "      <th>13</th>\n",
       "      <td>b</td>\n",
       "      <td>b</td>\n",
       "      <td>b</td>\n",
       "      <td>b</td>\n",
       "      <td>b</td>\n",
       "    </tr>\n",
       "    <tr>\n",
       "      <th>14</th>\n",
       "      <td>b</td>\n",
       "      <td>b</td>\n",
       "      <td>b</td>\n",
       "      <td>b</td>\n",
       "      <td>b</td>\n",
       "    </tr>\n",
       "    <tr>\n",
       "      <th>15</th>\n",
       "      <td>b</td>\n",
       "      <td>b</td>\n",
       "      <td>b</td>\n",
       "      <td>b</td>\n",
       "      <td>b</td>\n",
       "    </tr>\n",
       "    <tr>\n",
       "      <th>16</th>\n",
       "      <td>157</td>\n",
       "      <td>6.58626</td>\n",
       "      <td>5.94118</td>\n",
       "      <td>1</td>\n",
       "      <td>1</td>\n",
       "    </tr>\n",
       "    <tr>\n",
       "      <th>17</th>\n",
       "      <td>333</td>\n",
       "      <td>61.8253</td>\n",
       "      <td>5.4375</td>\n",
       "      <td>1</td>\n",
       "      <td>1</td>\n",
       "    </tr>\n",
       "    <tr>\n",
       "      <th>18</th>\n",
       "      <td>338</td>\n",
       "      <td>15.64</td>\n",
       "      <td>5.81818</td>\n",
       "      <td>1</td>\n",
       "      <td>1</td>\n",
       "    </tr>\n",
       "    <tr>\n",
       "      <th>19</th>\n",
       "      <td>401</td>\n",
       "      <td>21.994</td>\n",
       "      <td>5.36364</td>\n",
       "      <td>1</td>\n",
       "      <td>1</td>\n",
       "    </tr>\n",
       "    <tr>\n",
       "      <th>20</th>\n",
       "      <td>b</td>\n",
       "      <td>b</td>\n",
       "      <td>b</td>\n",
       "      <td>b</td>\n",
       "      <td>b</td>\n",
       "    </tr>\n",
       "    <tr>\n",
       "      <th>21</th>\n",
       "      <td>b</td>\n",
       "      <td>b</td>\n",
       "      <td>b</td>\n",
       "      <td>b</td>\n",
       "      <td>b</td>\n",
       "    </tr>\n",
       "    <tr>\n",
       "      <th>22</th>\n",
       "      <td>b</td>\n",
       "      <td>b</td>\n",
       "      <td>b</td>\n",
       "      <td>b</td>\n",
       "      <td>b</td>\n",
       "    </tr>\n",
       "    <tr>\n",
       "      <th>23</th>\n",
       "      <td>425</td>\n",
       "      <td>6.18833</td>\n",
       "      <td>5.54545</td>\n",
       "      <td>1</td>\n",
       "      <td>1</td>\n",
       "    </tr>\n",
       "    <tr>\n",
       "      <th>24</th>\n",
       "      <td>b</td>\n",
       "      <td>b</td>\n",
       "      <td>b</td>\n",
       "      <td>b</td>\n",
       "      <td>b</td>\n",
       "    </tr>\n",
       "    <tr>\n",
       "      <th>25</th>\n",
       "      <td>b</td>\n",
       "      <td>b</td>\n",
       "      <td>b</td>\n",
       "      <td>b</td>\n",
       "      <td>b</td>\n",
       "    </tr>\n",
       "    <tr>\n",
       "      <th>26</th>\n",
       "      <td>b</td>\n",
       "      <td>b</td>\n",
       "      <td>b</td>\n",
       "      <td>b</td>\n",
       "      <td>b</td>\n",
       "    </tr>\n",
       "    <tr>\n",
       "      <th>27</th>\n",
       "      <td>b</td>\n",
       "      <td>b</td>\n",
       "      <td>b</td>\n",
       "      <td>b</td>\n",
       "      <td>b</td>\n",
       "    </tr>\n",
       "    <tr>\n",
       "      <th>28</th>\n",
       "      <td>b</td>\n",
       "      <td>b</td>\n",
       "      <td>b</td>\n",
       "      <td>b</td>\n",
       "      <td>b</td>\n",
       "    </tr>\n",
       "    <tr>\n",
       "      <th>29</th>\n",
       "      <td>b</td>\n",
       "      <td>b</td>\n",
       "      <td>b</td>\n",
       "      <td>b</td>\n",
       "      <td>b</td>\n",
       "    </tr>\n",
       "    <tr>\n",
       "      <th>...</th>\n",
       "      <td>...</td>\n",
       "      <td>...</td>\n",
       "      <td>...</td>\n",
       "      <td>...</td>\n",
       "      <td>...</td>\n",
       "    </tr>\n",
       "    <tr>\n",
       "      <th>1352</th>\n",
       "      <td>b</td>\n",
       "      <td>b</td>\n",
       "      <td>b</td>\n",
       "      <td>b</td>\n",
       "      <td>b</td>\n",
       "    </tr>\n",
       "    <tr>\n",
       "      <th>1353</th>\n",
       "      <td>b</td>\n",
       "      <td>b</td>\n",
       "      <td>b</td>\n",
       "      <td>b</td>\n",
       "      <td>b</td>\n",
       "    </tr>\n",
       "    <tr>\n",
       "      <th>1354</th>\n",
       "      <td>b</td>\n",
       "      <td>b</td>\n",
       "      <td>b</td>\n",
       "      <td>b</td>\n",
       "      <td>b</td>\n",
       "    </tr>\n",
       "    <tr>\n",
       "      <th>1355</th>\n",
       "      <td>b</td>\n",
       "      <td>b</td>\n",
       "      <td>b</td>\n",
       "      <td>b</td>\n",
       "      <td>b</td>\n",
       "    </tr>\n",
       "    <tr>\n",
       "      <th>1356</th>\n",
       "      <td>b</td>\n",
       "      <td>b</td>\n",
       "      <td>b</td>\n",
       "      <td>b</td>\n",
       "      <td>b</td>\n",
       "    </tr>\n",
       "    <tr>\n",
       "      <th>1357</th>\n",
       "      <td>b</td>\n",
       "      <td>b</td>\n",
       "      <td>b</td>\n",
       "      <td>b</td>\n",
       "      <td>b</td>\n",
       "    </tr>\n",
       "    <tr>\n",
       "      <th>1358</th>\n",
       "      <td>b</td>\n",
       "      <td>b</td>\n",
       "      <td>b</td>\n",
       "      <td>b</td>\n",
       "      <td>b</td>\n",
       "    </tr>\n",
       "    <tr>\n",
       "      <th>1359</th>\n",
       "      <td>b</td>\n",
       "      <td>b</td>\n",
       "      <td>b</td>\n",
       "      <td>b</td>\n",
       "      <td>b</td>\n",
       "    </tr>\n",
       "    <tr>\n",
       "      <th>1360</th>\n",
       "      <td>b</td>\n",
       "      <td>b</td>\n",
       "      <td>b</td>\n",
       "      <td>b</td>\n",
       "      <td>b</td>\n",
       "    </tr>\n",
       "    <tr>\n",
       "      <th>1361</th>\n",
       "      <td>b</td>\n",
       "      <td>b</td>\n",
       "      <td>b</td>\n",
       "      <td>b</td>\n",
       "      <td>b</td>\n",
       "    </tr>\n",
       "    <tr>\n",
       "      <th>1362</th>\n",
       "      <td>b</td>\n",
       "      <td>b</td>\n",
       "      <td>b</td>\n",
       "      <td>b</td>\n",
       "      <td>b</td>\n",
       "    </tr>\n",
       "    <tr>\n",
       "      <th>1363</th>\n",
       "      <td>b</td>\n",
       "      <td>b</td>\n",
       "      <td>b</td>\n",
       "      <td>b</td>\n",
       "      <td>b</td>\n",
       "    </tr>\n",
       "    <tr>\n",
       "      <th>1364</th>\n",
       "      <td>b</td>\n",
       "      <td>b</td>\n",
       "      <td>b</td>\n",
       "      <td>b</td>\n",
       "      <td>b</td>\n",
       "    </tr>\n",
       "    <tr>\n",
       "      <th>1365</th>\n",
       "      <td>b</td>\n",
       "      <td>b</td>\n",
       "      <td>b</td>\n",
       "      <td>b</td>\n",
       "      <td>b</td>\n",
       "    </tr>\n",
       "    <tr>\n",
       "      <th>1366</th>\n",
       "      <td>b</td>\n",
       "      <td>b</td>\n",
       "      <td>b</td>\n",
       "      <td>b</td>\n",
       "      <td>b</td>\n",
       "    </tr>\n",
       "    <tr>\n",
       "      <th>1367</th>\n",
       "      <td>b</td>\n",
       "      <td>b</td>\n",
       "      <td>b</td>\n",
       "      <td>b</td>\n",
       "      <td>b</td>\n",
       "    </tr>\n",
       "    <tr>\n",
       "      <th>1368</th>\n",
       "      <td>b</td>\n",
       "      <td>b</td>\n",
       "      <td>b</td>\n",
       "      <td>b</td>\n",
       "      <td>b</td>\n",
       "    </tr>\n",
       "    <tr>\n",
       "      <th>1369</th>\n",
       "      <td>b</td>\n",
       "      <td>b</td>\n",
       "      <td>b</td>\n",
       "      <td>b</td>\n",
       "      <td>b</td>\n",
       "    </tr>\n",
       "    <tr>\n",
       "      <th>1370</th>\n",
       "      <td>b</td>\n",
       "      <td>b</td>\n",
       "      <td>b</td>\n",
       "      <td>b</td>\n",
       "      <td>b</td>\n",
       "    </tr>\n",
       "    <tr>\n",
       "      <th>1371</th>\n",
       "      <td>b</td>\n",
       "      <td>b</td>\n",
       "      <td>b</td>\n",
       "      <td>b</td>\n",
       "      <td>b</td>\n",
       "    </tr>\n",
       "    <tr>\n",
       "      <th>1372</th>\n",
       "      <td>b</td>\n",
       "      <td>b</td>\n",
       "      <td>b</td>\n",
       "      <td>b</td>\n",
       "      <td>b</td>\n",
       "    </tr>\n",
       "    <tr>\n",
       "      <th>1373</th>\n",
       "      <td>b</td>\n",
       "      <td>b</td>\n",
       "      <td>b</td>\n",
       "      <td>b</td>\n",
       "      <td>b</td>\n",
       "    </tr>\n",
       "    <tr>\n",
       "      <th>1374</th>\n",
       "      <td>b</td>\n",
       "      <td>b</td>\n",
       "      <td>b</td>\n",
       "      <td>b</td>\n",
       "      <td>b</td>\n",
       "    </tr>\n",
       "    <tr>\n",
       "      <th>1375</th>\n",
       "      <td>b</td>\n",
       "      <td>b</td>\n",
       "      <td>b</td>\n",
       "      <td>b</td>\n",
       "      <td>b</td>\n",
       "    </tr>\n",
       "    <tr>\n",
       "      <th>1376</th>\n",
       "      <td>b</td>\n",
       "      <td>b</td>\n",
       "      <td>b</td>\n",
       "      <td>b</td>\n",
       "      <td>b</td>\n",
       "    </tr>\n",
       "    <tr>\n",
       "      <th>1377</th>\n",
       "      <td>b</td>\n",
       "      <td>b</td>\n",
       "      <td>b</td>\n",
       "      <td>b</td>\n",
       "      <td>b</td>\n",
       "    </tr>\n",
       "    <tr>\n",
       "      <th>1378</th>\n",
       "      <td>b</td>\n",
       "      <td>b</td>\n",
       "      <td>b</td>\n",
       "      <td>b</td>\n",
       "      <td>b</td>\n",
       "    </tr>\n",
       "    <tr>\n",
       "      <th>1379</th>\n",
       "      <td>b</td>\n",
       "      <td>b</td>\n",
       "      <td>b</td>\n",
       "      <td>b</td>\n",
       "      <td>b</td>\n",
       "    </tr>\n",
       "    <tr>\n",
       "      <th>1380</th>\n",
       "      <td>b</td>\n",
       "      <td>b</td>\n",
       "      <td>b</td>\n",
       "      <td>b</td>\n",
       "      <td>b</td>\n",
       "    </tr>\n",
       "    <tr>\n",
       "      <th>1381</th>\n",
       "      <td>b</td>\n",
       "      <td>b</td>\n",
       "      <td>b</td>\n",
       "      <td>b</td>\n",
       "      <td>b</td>\n",
       "    </tr>\n",
       "  </tbody>\n",
       "</table>\n",
       "<p>1382 rows × 5 columns</p>\n",
       "</div>"
      ],
      "text/plain": [
       "     ticker_symbol con_target_price con_score con_type_target_price  \\\n",
       "0                1           16.044       4.5                     1   \n",
       "1                2          36.5633         6                     1   \n",
       "2                b                b         b                     b   \n",
       "3                b                b         b                     b   \n",
       "4               31           8.3725   5.71429                     1   \n",
       "5                b                b         b                     b   \n",
       "6               43            15.16         7                     1   \n",
       "7                b                b         b                     b   \n",
       "8                b                b         b                     b   \n",
       "9                b                b         b                     b   \n",
       "10              63          38.4412    4.4375                     1   \n",
       "11               b                b         b                     b   \n",
       "12              89             10.7      3.25                     1   \n",
       "13               b                b         b                     b   \n",
       "14               b                b         b                     b   \n",
       "15               b                b         b                     b   \n",
       "16             157          6.58626   5.94118                     1   \n",
       "17             333          61.8253    5.4375                     1   \n",
       "18             338            15.64   5.81818                     1   \n",
       "19             401           21.994   5.36364                     1   \n",
       "20               b                b         b                     b   \n",
       "21               b                b         b                     b   \n",
       "22               b                b         b                     b   \n",
       "23             425          6.18833   5.54545                     1   \n",
       "24               b                b         b                     b   \n",
       "25               b                b         b                     b   \n",
       "26               b                b         b                     b   \n",
       "27               b                b         b                     b   \n",
       "28               b                b         b                     b   \n",
       "29               b                b         b                     b   \n",
       "...            ...              ...       ...                   ...   \n",
       "1352             b                b         b                     b   \n",
       "1353             b                b         b                     b   \n",
       "1354             b                b         b                     b   \n",
       "1355             b                b         b                     b   \n",
       "1356             b                b         b                     b   \n",
       "1357             b                b         b                     b   \n",
       "1358             b                b         b                     b   \n",
       "1359             b                b         b                     b   \n",
       "1360             b                b         b                     b   \n",
       "1361             b                b         b                     b   \n",
       "1362             b                b         b                     b   \n",
       "1363             b                b         b                     b   \n",
       "1364             b                b         b                     b   \n",
       "1365             b                b         b                     b   \n",
       "1366             b                b         b                     b   \n",
       "1367             b                b         b                     b   \n",
       "1368             b                b         b                     b   \n",
       "1369             b                b         b                     b   \n",
       "1370             b                b         b                     b   \n",
       "1371             b                b         b                     b   \n",
       "1372             b                b         b                     b   \n",
       "1373             b                b         b                     b   \n",
       "1374             b                b         b                     b   \n",
       "1375             b                b         b                     b   \n",
       "1376             b                b         b                     b   \n",
       "1377             b                b         b                     b   \n",
       "1378             b                b         b                     b   \n",
       "1379             b                b         b                     b   \n",
       "1380             b                b         b                     b   \n",
       "1381             b                b         b                     b   \n",
       "\n",
       "     con_type_score  \n",
       "0                 1  \n",
       "1                 1  \n",
       "2                 b  \n",
       "3                 b  \n",
       "4                 1  \n",
       "5                 b  \n",
       "6                 1  \n",
       "7                 b  \n",
       "8                 b  \n",
       "9                 b  \n",
       "10                1  \n",
       "11                b  \n",
       "12                1  \n",
       "13                b  \n",
       "14                b  \n",
       "15                b  \n",
       "16                1  \n",
       "17                1  \n",
       "18                1  \n",
       "19                1  \n",
       "20                b  \n",
       "21                b  \n",
       "22                b  \n",
       "23                1  \n",
       "24                b  \n",
       "25                b  \n",
       "26                b  \n",
       "27                b  \n",
       "28                b  \n",
       "29                b  \n",
       "...             ...  \n",
       "1352              b  \n",
       "1353              b  \n",
       "1354              b  \n",
       "1355              b  \n",
       "1356              b  \n",
       "1357              b  \n",
       "1358              b  \n",
       "1359              b  \n",
       "1360              b  \n",
       "1361              b  \n",
       "1362              b  \n",
       "1363              b  \n",
       "1364              b  \n",
       "1365              b  \n",
       "1366              b  \n",
       "1367              b  \n",
       "1368              b  \n",
       "1369              b  \n",
       "1370              b  \n",
       "1371              b  \n",
       "1372              b  \n",
       "1373              b  \n",
       "1374              b  \n",
       "1375              b  \n",
       "1376              b  \n",
       "1377              b  \n",
       "1378              b  \n",
       "1379              b  \n",
       "1380              b  \n",
       "1381              b  \n",
       "\n",
       "[1382 rows x 5 columns]"
      ]
     },
     "execution_count": 18,
     "metadata": {},
     "output_type": "execute_result"
    }
   ],
   "source": [
    "df.where(df.con_type_target_price==1, 'b')"
   ]
  },
  {
   "cell_type": "markdown",
   "metadata": {},
   "source": [
    "### iterrows"
   ]
  },
  {
   "cell_type": "code",
   "execution_count": 27,
   "metadata": {},
   "outputs": [
    {
     "name": "stdout",
     "output_type": "stream",
     "text": [
      "(0, ticker_symbol                 1\n",
      "con_target_price         16.044\n",
      "con_score                   4.5\n",
      "con_type_target_price         A\n",
      "con_type_score                1\n",
      "Name: 0, dtype: object)\n",
      "<class 'pandas.core.series.Series'>\n",
      "(1, ticker_symbol                  2\n",
      "con_target_price         36.5633\n",
      "con_score                      6\n",
      "con_type_target_price          A\n",
      "con_type_score                 1\n",
      "Name: 1, dtype: object)\n",
      "<class 'pandas.core.series.Series'>\n",
      "(2, ticker_symbol             12\n",
      "con_target_price         7.2\n",
      "con_score                  4\n",
      "con_type_target_price      B\n",
      "con_type_score             1\n",
      "Name: 2, dtype: object)\n",
      "<class 'pandas.core.series.Series'>\n",
      "(3, ticker_symbol             30\n",
      "con_target_price         6.6\n",
      "con_score                  6\n",
      "con_type_target_price      B\n",
      "con_type_score             2\n",
      "Name: 3, dtype: object)\n",
      "<class 'pandas.core.series.Series'>\n",
      "(4, ticker_symbol                 31\n",
      "con_target_price          8.3725\n",
      "con_score                5.71429\n",
      "con_type_target_price          A\n",
      "con_type_score                 1\n",
      "Name: 4, dtype: object)\n",
      "<class 'pandas.core.series.Series'>\n"
     ]
    }
   ],
   "source": [
    "for index, row in df.head().iterrows():\n",
    "    print(index, row)\n",
    "    print(type(row))\n",
    "    "
   ]
  },
  {
   "cell_type": "markdown",
   "metadata": {},
   "source": [
    "### itertuples"
   ]
  },
  {
   "cell_type": "code",
   "execution_count": 41,
   "metadata": {},
   "outputs": [
    {
     "name": "stdout",
     "output_type": "stream",
     "text": [
      "(0, A    NaN\n",
      "B    2.0\n",
      "C    NaN\n",
      "D    0.0\n",
      "Name: 0, dtype: float64)\n",
      "<class 'pandas.core.series.Series'>\n",
      "(1, A    3.0\n",
      "B    4.0\n",
      "C    NaN\n",
      "D    1.0\n",
      "Name: 1, dtype: float64)\n",
      "<class 'pandas.core.series.Series'>\n",
      "(2, A    NaN\n",
      "B    NaN\n",
      "C    NaN\n",
      "D    5.0\n",
      "Name: 2, dtype: float64)\n",
      "<class 'pandas.core.series.Series'>\n",
      "(3, A    NaN\n",
      "B    3.0\n",
      "C    NaN\n",
      "D    4.0\n",
      "Name: 3, dtype: float64)\n",
      "<class 'pandas.core.series.Series'>\n"
     ]
    }
   ],
   "source": [
    "for index, row in df.head().iterrows():\n",
    "    print(index, row)\n",
    "    print(type(row))\n",
    "    "
   ]
  },
  {
   "cell_type": "code",
   "execution_count": null,
   "metadata": {},
   "outputs": [],
   "source": [
    "df.replace()"
   ]
  },
  {
   "cell_type": "code",
   "execution_count": 44,
   "metadata": {},
   "outputs": [
    {
     "data": {
      "text/html": [
       "<div>\n",
       "<style scoped>\n",
       "    .dataframe tbody tr th:only-of-type {\n",
       "        vertical-align: middle;\n",
       "    }\n",
       "\n",
       "    .dataframe tbody tr th {\n",
       "        vertical-align: top;\n",
       "    }\n",
       "\n",
       "    .dataframe thead th {\n",
       "        text-align: right;\n",
       "    }\n",
       "</style>\n",
       "<table border=\"1\" class=\"dataframe\">\n",
       "  <thead>\n",
       "    <tr style=\"text-align: right;\">\n",
       "      <th></th>\n",
       "      <th>A</th>\n",
       "      <th>B</th>\n",
       "      <th>C</th>\n",
       "      <th>D</th>\n",
       "    </tr>\n",
       "  </thead>\n",
       "  <tbody>\n",
       "    <tr>\n",
       "      <th>0</th>\n",
       "      <td>None</td>\n",
       "      <td>2</td>\n",
       "      <td>None</td>\n",
       "      <td>0</td>\n",
       "    </tr>\n",
       "    <tr>\n",
       "      <th>1</th>\n",
       "      <td>3</td>\n",
       "      <td>4</td>\n",
       "      <td>None</td>\n",
       "      <td>1</td>\n",
       "    </tr>\n",
       "    <tr>\n",
       "      <th>2</th>\n",
       "      <td>None</td>\n",
       "      <td>None</td>\n",
       "      <td>None</td>\n",
       "      <td>5</td>\n",
       "    </tr>\n",
       "    <tr>\n",
       "      <th>3</th>\n",
       "      <td>None</td>\n",
       "      <td>3</td>\n",
       "      <td>None</td>\n",
       "      <td>4</td>\n",
       "    </tr>\n",
       "  </tbody>\n",
       "</table>\n",
       "</div>"
      ],
      "text/plain": [
       "      A     B     C  D\n",
       "0  None     2  None  0\n",
       "1     3     4  None  1\n",
       "2  None  None  None  5\n",
       "3  None     3  None  4"
      ]
     },
     "execution_count": 44,
     "metadata": {},
     "output_type": "execute_result"
    }
   ],
   "source": [
    "df.replace(np.nan, \"None\")"
   ]
  },
  {
   "cell_type": "code",
   "execution_count": 47,
   "metadata": {},
   "outputs": [],
   "source": [
    "df.loc[1, 'A'] = 3.1415926"
   ]
  },
  {
   "cell_type": "code",
   "execution_count": 51,
   "metadata": {},
   "outputs": [
    {
     "data": {
      "text/html": [
       "<div>\n",
       "<style scoped>\n",
       "    .dataframe tbody tr th:only-of-type {\n",
       "        vertical-align: middle;\n",
       "    }\n",
       "\n",
       "    .dataframe tbody tr th {\n",
       "        vertical-align: top;\n",
       "    }\n",
       "\n",
       "    .dataframe thead th {\n",
       "        text-align: right;\n",
       "    }\n",
       "</style>\n",
       "<table border=\"1\" class=\"dataframe\">\n",
       "  <thead>\n",
       "    <tr style=\"text-align: right;\">\n",
       "      <th></th>\n",
       "      <th>A</th>\n",
       "      <th>B</th>\n",
       "      <th>C</th>\n",
       "      <th>D</th>\n",
       "    </tr>\n",
       "  </thead>\n",
       "  <tbody>\n",
       "    <tr>\n",
       "      <th>0</th>\n",
       "      <td>NaN</td>\n",
       "      <td>2.0</td>\n",
       "      <td>NaN</td>\n",
       "      <td>0</td>\n",
       "    </tr>\n",
       "    <tr>\n",
       "      <th>1</th>\n",
       "      <td>3.1416</td>\n",
       "      <td>4.0</td>\n",
       "      <td>NaN</td>\n",
       "      <td>1</td>\n",
       "    </tr>\n",
       "    <tr>\n",
       "      <th>2</th>\n",
       "      <td>NaN</td>\n",
       "      <td>NaN</td>\n",
       "      <td>NaN</td>\n",
       "      <td>5</td>\n",
       "    </tr>\n",
       "    <tr>\n",
       "      <th>3</th>\n",
       "      <td>NaN</td>\n",
       "      <td>3.0</td>\n",
       "      <td>NaN</td>\n",
       "      <td>4</td>\n",
       "    </tr>\n",
       "  </tbody>\n",
       "</table>\n",
       "</div>"
      ],
      "text/plain": [
       "        A    B   C  D\n",
       "0     NaN  2.0 NaN  0\n",
       "1  3.1416  4.0 NaN  1\n",
       "2     NaN  NaN NaN  5\n",
       "3     NaN  3.0 NaN  4"
      ]
     },
     "execution_count": 51,
     "metadata": {},
     "output_type": "execute_result"
    }
   ],
   "source": [
    "df.round({'A': 4, 'B': 1})"
   ]
  },
  {
   "cell_type": "code",
   "execution_count": null,
   "metadata": {},
   "outputs": [],
   "source": []
  }
 ],
 "metadata": {
  "anaconda-cloud": {},
  "kernelspec": {
   "display_name": "Python 2",
   "language": "python",
   "name": "python2"
  },
  "language_info": {
   "codemirror_mode": {
    "name": "ipython",
    "version": 2
   },
   "file_extension": ".py",
   "mimetype": "text/x-python",
   "name": "python",
   "nbconvert_exporter": "python",
   "pygments_lexer": "ipython2",
   "version": "2.7.11"
  }
 },
 "nbformat": 4,
 "nbformat_minor": 2
}
