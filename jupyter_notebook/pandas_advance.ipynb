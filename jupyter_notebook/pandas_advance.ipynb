{
 "cells": [
  {
   "cell_type": "markdown",
   "metadata": {},
   "source": [
    "##### homepage: http://pandas.pydata.org/index.html"
   ]
  },
  {
   "cell_type": "markdown",
   "metadata": {},
   "source": [
    "# Indexing and Selecting Data"
   ]
  },
  {
   "cell_type": "code",
   "execution_count": 18,
   "metadata": {},
   "outputs": [],
   "source": [
    "# https://pandas.pydata.org/pandas-docs/stable/indexing.html\n",
    "# https://www.oreilly.com/learning/introducing-pandas-objects"
   ]
  },
  {
   "cell_type": "markdown",
   "metadata": {},
   "source": [
    "# Creating DataFrame"
   ]
  },
  {
   "cell_type": "code",
   "execution_count": 2,
   "metadata": {},
   "outputs": [],
   "source": [
    "import pandas as pd\n",
    "import warnings\n",
    "import numpy as np\n",
    "import matplotlib.pyplot as plt\n",
    "warnings.filterwarnings(\"ignore\")\n",
    "\n",
    "# df1 = pd.read_csv(\"./trainset/pcdata_0611.csv\") \n",
    "# read_sql read_html"
   ]
  },
  {
   "cell_type": "code",
   "execution_count": 2,
   "metadata": {},
   "outputs": [
    {
     "data": {
      "text/html": [
       "<div>\n",
       "<style>\n",
       "    .dataframe thead tr:only-child th {\n",
       "        text-align: right;\n",
       "    }\n",
       "\n",
       "    .dataframe thead th {\n",
       "        text-align: left;\n",
       "    }\n",
       "\n",
       "    .dataframe tbody tr th {\n",
       "        vertical-align: top;\n",
       "    }\n",
       "</style>\n",
       "<table border=\"1\" class=\"dataframe\">\n",
       "  <thead>\n",
       "    <tr style=\"text-align: right;\">\n",
       "      <th></th>\n",
       "      <th>SECURITY_ID_INT</th>\n",
       "      <th>raw_X</th>\n",
       "      <th>raw_Y</th>\n",
       "      <th>vertical</th>\n",
       "      <th>horizontal</th>\n",
       "    </tr>\n",
       "  </thead>\n",
       "  <tbody>\n",
       "    <tr>\n",
       "      <th>0</th>\n",
       "      <td>1734</td>\n",
       "      <td>-106.512730</td>\n",
       "      <td>223.595615</td>\n",
       "      <td>large</td>\n",
       "      <td>value</td>\n",
       "    </tr>\n",
       "    <tr>\n",
       "      <th>1</th>\n",
       "      <td>1351</td>\n",
       "      <td>-95.753155</td>\n",
       "      <td>244.328818</td>\n",
       "      <td>large</td>\n",
       "      <td>value</td>\n",
       "    </tr>\n",
       "    <tr>\n",
       "      <th>2</th>\n",
       "      <td>2228</td>\n",
       "      <td>-74.231371</td>\n",
       "      <td>318.054976</td>\n",
       "      <td>large</td>\n",
       "      <td>value</td>\n",
       "    </tr>\n",
       "    <tr>\n",
       "      <th>3</th>\n",
       "      <td>2296</td>\n",
       "      <td>-57.797931</td>\n",
       "      <td>394.503697</td>\n",
       "      <td>large</td>\n",
       "      <td>value</td>\n",
       "    </tr>\n",
       "    <tr>\n",
       "      <th>4</th>\n",
       "      <td>1971</td>\n",
       "      <td>-50.873616</td>\n",
       "      <td>581.970420</td>\n",
       "      <td>large</td>\n",
       "      <td>value</td>\n",
       "    </tr>\n",
       "  </tbody>\n",
       "</table>\n",
       "</div>"
      ],
      "text/plain": [
       "   SECURITY_ID_INT       raw_X       raw_Y vertical horizontal\n",
       "0             1734 -106.512730  223.595615    large      value\n",
       "1             1351  -95.753155  244.328818    large      value\n",
       "2             2228  -74.231371  318.054976    large      value\n",
       "3             2296  -57.797931  394.503697    large      value\n",
       "4             1971  -50.873616  581.970420    large      value"
      ]
     },
     "execution_count": 2,
     "metadata": {},
     "output_type": "execute_result"
    }
   ],
   "source": [
    "style = pd.read_csv('data_morning_start_style.csv')\n",
    "style.head()"
   ]
  },
  {
   "cell_type": "code",
   "execution_count": 3,
   "metadata": {},
   "outputs": [],
   "source": [
    "# 保证SECURITY_ID_INT唯一\n",
    "style.drop_duplicates(['SECURITY_ID_INT'], inplace=True)"
   ]
  },
  {
   "cell_type": "code",
   "execution_count": 7,
   "metadata": {},
   "outputs": [
    {
     "name": "stdout",
     "output_type": "stream",
     "text": [
      "large <type 'str'>\n"
     ]
    }
   ],
   "source": [
    "# 取出SECURITY_ID_INT=1971的vertical值"
   ]
  },
  {
   "cell_type": "markdown",
   "metadata": {},
   "source": [
    "### 1"
   ]
  },
  {
   "cell_type": "code",
   "execution_count": null,
   "metadata": {},
   "outputs": [],
   "source": [
    "var = style.set_index('SECURITY_ID_INT').loc[1734, 'vertical']\n",
    "t = type(style.set_index('SECURITY_ID_INT').loc[1734, 'vertical'])\n",
    "print var, t"
   ]
  },
  {
   "cell_type": "markdown",
   "metadata": {},
   "source": [
    "### 2"
   ]
  },
  {
   "cell_type": "code",
   "execution_count": 8,
   "metadata": {},
   "outputs": [
    {
     "name": "stdout",
     "output_type": "stream",
     "text": [
      "0    large\n",
      "Name: vertical, dtype: object <class 'pandas.core.series.Series'>\n"
     ]
    }
   ],
   "source": [
    "var = style.loc[style['SECURITY_ID_INT']==1734, 'vertical']\n",
    "t = type(style.loc[style['SECURITY_ID_INT']==1734, 'vertical'])\n",
    "print var, t"
   ]
  },
  {
   "cell_type": "markdown",
   "metadata": {},
   "source": [
    "### 3"
   ]
  },
  {
   "cell_type": "code",
   "execution_count": 9,
   "metadata": {},
   "outputs": [
    {
     "name": "stdout",
     "output_type": "stream",
     "text": [
      "SECURITY_ID_INT        160\n",
      "raw_X              300.288\n",
      "raw_Y              63.1416\n",
      "vertical             small\n",
      "horizontal          growth\n",
      "Name: 1734, dtype: object <class 'pandas.core.series.Series'>\n"
     ]
    }
   ],
   "source": [
    "var = style.ix[1734]\n",
    "t = type(style.ix[1734])\n",
    "print var, t"
   ]
  },
  {
   "cell_type": "code",
   "execution_count": null,
   "metadata": {},
   "outputs": [],
   "source": [
    "\n",
    "# 内在优化 https://blog.csdn.net/qq_34739497/article/details/79600479"
   ]
  },
  {
   "cell_type": "markdown",
   "metadata": {},
   "source": [
    "# datetime"
   ]
  },
  {
   "cell_type": "code",
   "execution_count": 41,
   "metadata": {},
   "outputs": [],
   "source": [
    "df[\"date\"].dt.date # 转换成date类型 "
   ]
  },
  {
   "cell_type": "markdown",
   "metadata": {},
   "source": [
    "### or"
   ]
  },
  {
   "cell_type": "code",
   "execution_count": 7,
   "metadata": {},
   "outputs": [
    {
     "data": {
      "text/plain": [
       "datetime.date(2019, 1, 1)"
      ]
     },
     "execution_count": 7,
     "metadata": {},
     "output_type": "execute_result"
    }
   ],
   "source": [
    "pd.to_datetime('2019-01-01').date()"
   ]
  },
  {
   "cell_type": "code",
   "execution_count": 4,
   "metadata": {},
   "outputs": [
    {
     "data": {
      "text/plain": [
       "Timestamp('2019-03-08 00:00:00')"
      ]
     },
     "execution_count": 4,
     "metadata": {},
     "output_type": "execute_result"
    }
   ],
   "source": [
    "pd.to_datetime(pd.datetime.today().date())"
   ]
  },
  {
   "cell_type": "code",
   "execution_count": 5,
   "metadata": {},
   "outputs": [
    {
     "data": {
      "text/plain": [
       "Timestamp('2019-02-28 00:00:00')"
      ]
     },
     "execution_count": 5,
     "metadata": {},
     "output_type": "execute_result"
    }
   ],
   "source": [
    "pd.to_datetime('2019-02-28')"
   ]
  },
  {
   "cell_type": "code",
   "execution_count": null,
   "metadata": {},
   "outputs": [],
   "source": [
    "df_trade_cal = df_trade_cal[df_trade_cal[\"TRADE_DATE\"]>=pd.to_datetime('2013').date()]"
   ]
  },
  {
   "cell_type": "markdown",
   "metadata": {},
   "source": [
    "### Return a fixed frequency DatetimeIndex.\n",
    "https://pandas.pydata.org/pandas-docs/stable/reference/api/pandas.date_range.html"
   ]
  },
  {
   "cell_type": "code",
   "execution_count": 15,
   "metadata": {},
   "outputs": [
    {
     "data": {
      "text/plain": [
       "DatetimeIndex(['2019-01-01', '2019-01-02', '2019-01-03', '2019-01-04',\n",
       "               '2019-01-05', '2019-01-06', '2019-01-07', '2019-01-08',\n",
       "               '2019-01-09', '2019-01-10', '2019-01-11', '2019-01-12',\n",
       "               '2019-01-13', '2019-01-14', '2019-01-15', '2019-01-16',\n",
       "               '2019-01-17', '2019-01-18', '2019-01-19', '2019-01-20',\n",
       "               '2019-01-21', '2019-01-22', '2019-01-23', '2019-01-24',\n",
       "               '2019-01-25', '2019-01-26', '2019-01-27', '2019-01-28',\n",
       "               '2019-01-29', '2019-01-30', '2019-01-31', '2019-02-01',\n",
       "               '2019-02-02', '2019-02-03', '2019-02-04', '2019-02-05',\n",
       "               '2019-02-06', '2019-02-07', '2019-02-08', '2019-02-09',\n",
       "               '2019-02-10', '2019-02-11', '2019-02-12', '2019-02-13',\n",
       "               '2019-02-14', '2019-02-15', '2019-02-16', '2019-02-17',\n",
       "               '2019-02-18', '2019-02-19', '2019-02-20', '2019-02-21',\n",
       "               '2019-02-22', '2019-02-23', '2019-02-24', '2019-02-25',\n",
       "               '2019-02-26', '2019-02-27', '2019-02-28', '2019-03-01'],\n",
       "              dtype='datetime64[ns]', freq='D')"
      ]
     },
     "execution_count": 15,
     "metadata": {},
     "output_type": "execute_result"
    }
   ],
   "source": [
    "\n",
    "# dates = pd.date_range('1/1/2000', periods=8)\n",
    "# dates\n",
    "\n",
    "pd.date_range(start='2019-01-01', end='2019-03-01')\n"
   ]
  },
  {
   "cell_type": "markdown",
   "metadata": {},
   "source": [
    "### to concatenate all the column values into a single string\n",
    "https://stackoverflow.com/questions/39291499/how-to-concatenate-multiple-column-values-into-a-single-column-in-panda-datafram"
   ]
  },
  {
   "cell_type": "code",
   "execution_count": null,
   "metadata": {},
   "outputs": [],
   "source": [
    "df['ETL_CRC'] = df.apply(lambda row: crc32(''.join(row.values.astype(str))), axis=1)"
   ]
  },
  {
   "cell_type": "code",
   "execution_count": null,
   "metadata": {},
   "outputs": [],
   "source": []
  },
  {
   "cell_type": "code",
   "execution_count": 7,
   "metadata": {},
   "outputs": [
    {
     "data": {
      "text/html": [
       "<div>\n",
       "<style scoped>\n",
       "    .dataframe tbody tr th:only-of-type {\n",
       "        vertical-align: middle;\n",
       "    }\n",
       "\n",
       "    .dataframe tbody tr th {\n",
       "        vertical-align: top;\n",
       "    }\n",
       "\n",
       "    .dataframe thead th {\n",
       "        text-align: right;\n",
       "    }\n",
       "</style>\n",
       "<table border=\"1\" class=\"dataframe\">\n",
       "  <thead>\n",
       "    <tr style=\"text-align: right;\">\n",
       "      <th></th>\n",
       "      <th>id</th>\n",
       "      <th>name</th>\n",
       "    </tr>\n",
       "  </thead>\n",
       "  <tbody>\n",
       "    <tr>\n",
       "      <th>0</th>\n",
       "      <td>1</td>\n",
       "      <td>a</td>\n",
       "    </tr>\n",
       "    <tr>\n",
       "      <th>1</th>\n",
       "      <td>2</td>\n",
       "      <td>b</td>\n",
       "    </tr>\n",
       "    <tr>\n",
       "      <th>2</th>\n",
       "      <td>3</td>\n",
       "      <td>c</td>\n",
       "    </tr>\n",
       "  </tbody>\n",
       "</table>\n",
       "</div>"
      ],
      "text/plain": [
       "   id name\n",
       "0   1    a\n",
       "1   2    b\n",
       "2   3    c"
      ]
     },
     "execution_count": 7,
     "metadata": {},
     "output_type": "execute_result"
    }
   ],
   "source": [
    "df = pd.DataFrame({'id': [1, 2, 3],\n",
    "                   'name': ['a', 'b', 'c'],})\n",
    "df"
   ]
  },
  {
   "cell_type": "code",
   "execution_count": 13,
   "metadata": {},
   "outputs": [
    {
     "data": {
      "text/html": [
       "<div>\n",
       "<style scoped>\n",
       "    .dataframe tbody tr th:only-of-type {\n",
       "        vertical-align: middle;\n",
       "    }\n",
       "\n",
       "    .dataframe tbody tr th {\n",
       "        vertical-align: top;\n",
       "    }\n",
       "\n",
       "    .dataframe thead th {\n",
       "        text-align: right;\n",
       "    }\n",
       "</style>\n",
       "<table border=\"1\" class=\"dataframe\">\n",
       "  <thead>\n",
       "    <tr style=\"text-align: right;\">\n",
       "      <th></th>\n",
       "      <th>id_c</th>\n",
       "      <th>name</th>\n",
       "    </tr>\n",
       "  </thead>\n",
       "  <tbody>\n",
       "    <tr>\n",
       "      <th>0</th>\n",
       "      <td>4</td>\n",
       "      <td>a</td>\n",
       "    </tr>\n",
       "    <tr>\n",
       "      <th>1</th>\n",
       "      <td>1</td>\n",
       "      <td>a</td>\n",
       "    </tr>\n",
       "  </tbody>\n",
       "</table>\n",
       "</div>"
      ],
      "text/plain": [
       "   id_c name\n",
       "0     4    a\n",
       "1     1    a"
      ]
     },
     "execution_count": 13,
     "metadata": {},
     "output_type": "execute_result"
    }
   ],
   "source": [
    "df_c = pd.DataFrame({'id_c': [4, 1],\n",
    "                   'name': ['a', 'a']})\n",
    "df_c"
   ]
  },
  {
   "cell_type": "code",
   "execution_count": 14,
   "metadata": {},
   "outputs": [
    {
     "data": {
      "text/html": [
       "<div>\n",
       "<style scoped>\n",
       "    .dataframe tbody tr th:only-of-type {\n",
       "        vertical-align: middle;\n",
       "    }\n",
       "\n",
       "    .dataframe tbody tr th {\n",
       "        vertical-align: top;\n",
       "    }\n",
       "\n",
       "    .dataframe thead th {\n",
       "        text-align: right;\n",
       "    }\n",
       "</style>\n",
       "<table border=\"1\" class=\"dataframe\">\n",
       "  <thead>\n",
       "    <tr style=\"text-align: right;\">\n",
       "      <th></th>\n",
       "      <th>id</th>\n",
       "      <th>name</th>\n",
       "      <th>id_c</th>\n",
       "    </tr>\n",
       "  </thead>\n",
       "  <tbody>\n",
       "    <tr>\n",
       "      <th>0</th>\n",
       "      <td>1</td>\n",
       "      <td>a</td>\n",
       "      <td>4.0</td>\n",
       "    </tr>\n",
       "    <tr>\n",
       "      <th>1</th>\n",
       "      <td>1</td>\n",
       "      <td>a</td>\n",
       "      <td>1.0</td>\n",
       "    </tr>\n",
       "    <tr>\n",
       "      <th>2</th>\n",
       "      <td>2</td>\n",
       "      <td>b</td>\n",
       "      <td>NaN</td>\n",
       "    </tr>\n",
       "    <tr>\n",
       "      <th>3</th>\n",
       "      <td>3</td>\n",
       "      <td>c</td>\n",
       "      <td>NaN</td>\n",
       "    </tr>\n",
       "  </tbody>\n",
       "</table>\n",
       "</div>"
      ],
      "text/plain": [
       "   id name  id_c\n",
       "0   1    a   4.0\n",
       "1   1    a   1.0\n",
       "2   2    b   NaN\n",
       "3   3    c   NaN"
      ]
     },
     "execution_count": 14,
     "metadata": {},
     "output_type": "execute_result"
    }
   ],
   "source": [
    "df.merge(df_c, how='left', on=['name'])"
   ]
  },
  {
   "cell_type": "markdown",
   "metadata": {},
   "source": [
    "###### 2018-08-23 "
   ]
  },
  {
   "cell_type": "code",
   "execution_count": 23,
   "metadata": {},
   "outputs": [
    {
     "data": {
      "text/html": [
       "<div>\n",
       "<style scoped>\n",
       "    .dataframe tbody tr th:only-of-type {\n",
       "        vertical-align: middle;\n",
       "    }\n",
       "\n",
       "    .dataframe tbody tr th {\n",
       "        vertical-align: top;\n",
       "    }\n",
       "\n",
       "    .dataframe thead th {\n",
       "        text-align: right;\n",
       "    }\n",
       "</style>\n",
       "<table border=\"1\" class=\"dataframe\">\n",
       "  <thead>\n",
       "    <tr style=\"text-align: right;\">\n",
       "      <th></th>\n",
       "      <th>id</th>\n",
       "      <th>name</th>\n",
       "    </tr>\n",
       "  </thead>\n",
       "  <tbody>\n",
       "    <tr>\n",
       "      <th>1</th>\n",
       "      <td>2</td>\n",
       "      <td>b</td>\n",
       "    </tr>\n",
       "  </tbody>\n",
       "</table>\n",
       "</div>"
      ],
      "text/plain": [
       "   id name\n",
       "1   2    b"
      ]
     },
     "execution_count": 23,
     "metadata": {},
     "output_type": "execute_result"
    }
   ],
   "source": [
    "df[(df.id==2) & (df.name=='b')]"
   ]
  },
  {
   "cell_type": "code",
   "execution_count": 27,
   "metadata": {},
   "outputs": [
    {
     "data": {
      "text/html": [
       "<div>\n",
       "<style scoped>\n",
       "    .dataframe tbody tr th:only-of-type {\n",
       "        vertical-align: middle;\n",
       "    }\n",
       "\n",
       "    .dataframe tbody tr th {\n",
       "        vertical-align: top;\n",
       "    }\n",
       "\n",
       "    .dataframe thead th {\n",
       "        text-align: right;\n",
       "    }\n",
       "</style>\n",
       "<table border=\"1\" class=\"dataframe\">\n",
       "  <thead>\n",
       "    <tr style=\"text-align: right;\">\n",
       "      <th></th>\n",
       "      <th>id_x</th>\n",
       "      <th>name</th>\n",
       "      <th>amount</th>\n",
       "      <th>id_y</th>\n",
       "    </tr>\n",
       "  </thead>\n",
       "  <tbody>\n",
       "    <tr>\n",
       "      <th>0</th>\n",
       "      <td>1</td>\n",
       "      <td>a</td>\n",
       "      <td>1.2</td>\n",
       "      <td>1</td>\n",
       "    </tr>\n",
       "    <tr>\n",
       "      <th>1</th>\n",
       "      <td>2</td>\n",
       "      <td>b</td>\n",
       "      <td>1.1</td>\n",
       "      <td>2</td>\n",
       "    </tr>\n",
       "    <tr>\n",
       "      <th>2</th>\n",
       "      <td>3</td>\n",
       "      <td>c</td>\n",
       "      <td>1.1</td>\n",
       "      <td>3</td>\n",
       "    </tr>\n",
       "  </tbody>\n",
       "</table>\n",
       "</div>"
      ],
      "text/plain": [
       "   id_x name  amount  id_y\n",
       "0     1    a     1.2     1\n",
       "1     2    b     1.1     2\n",
       "2     3    c     1.1     3"
      ]
     },
     "execution_count": 27,
     "metadata": {},
     "output_type": "execute_result"
    }
   ],
   "source": [
    "df['amount']=1.1\n",
    "df\n",
    "dfc=df\n",
    "dfc.loc[0, 'amount'] = 1.2\n",
    "dfc\n",
    "df.merge(dfc, how='left', on=['name', 'amount'])"
   ]
  },
  {
   "cell_type": "code",
   "execution_count": 34,
   "metadata": {},
   "outputs": [
    {
     "ename": "AttributeError",
     "evalue": "'module' object has no attribute 'DateFrame'",
     "output_type": "error",
     "traceback": [
      "\u001b[1;31m---------------------------------------------------------------------------\u001b[0m",
      "\u001b[1;31mAttributeError\u001b[0m                            Traceback (most recent call last)",
      "\u001b[1;32m<ipython-input-34-b7dafceadd18>\u001b[0m in \u001b[0;36m<module>\u001b[1;34m()\u001b[0m\n\u001b[0;32m      1\u001b[0m \u001b[0mdfc\u001b[0m \u001b[1;33m=\u001b[0m \u001b[0mdf\u001b[0m\u001b[1;33m.\u001b[0m\u001b[0miloc\u001b[0m\u001b[1;33m[\u001b[0m\u001b[1;36m0\u001b[0m\u001b[1;33m]\u001b[0m\u001b[1;33m\u001b[0m\u001b[0m\n\u001b[1;32m----> 2\u001b[1;33m \u001b[0mdfc\u001b[0m \u001b[1;33m=\u001b[0m \u001b[0mpd\u001b[0m\u001b[1;33m.\u001b[0m\u001b[0mDateFrame\u001b[0m\u001b[1;33m(\u001b[0m\u001b[0mlist\u001b[0m\u001b[1;33m(\u001b[0m\u001b[0mdfc\u001b[0m\u001b[1;33m.\u001b[0m\u001b[0mvalues\u001b[0m\u001b[1;33m)\u001b[0m\u001b[1;33m)\u001b[0m\u001b[1;33m\u001b[0m\u001b[0m\n\u001b[0m",
      "\u001b[1;31mAttributeError\u001b[0m: 'module' object has no attribute 'DateFrame'"
     ]
    }
   ],
   "source": [
    "dfc = df.iloc[0]\n",
    "# dfc = pd.DateFrame(list(dfc.values))"
   ]
  },
  {
   "cell_type": "code",
   "execution_count": 60,
   "metadata": {},
   "outputs": [
    {
     "data": {
      "text/html": [
       "<div>\n",
       "<style scoped>\n",
       "    .dataframe tbody tr th:only-of-type {\n",
       "        vertical-align: middle;\n",
       "    }\n",
       "\n",
       "    .dataframe tbody tr th {\n",
       "        vertical-align: top;\n",
       "    }\n",
       "\n",
       "    .dataframe thead th {\n",
       "        text-align: right;\n",
       "    }\n",
       "</style>\n",
       "<table border=\"1\" class=\"dataframe\">\n",
       "  <thead>\n",
       "    <tr style=\"text-align: right;\">\n",
       "      <th></th>\n",
       "      <th>id</th>\n",
       "      <th>name</th>\n",
       "      <th>amount</th>\n",
       "      <th>name</th>\n",
       "    </tr>\n",
       "  </thead>\n",
       "  <tbody>\n",
       "    <tr>\n",
       "      <th>0</th>\n",
       "      <td>1</td>\n",
       "      <td>a</td>\n",
       "      <td>1.2</td>\n",
       "      <td>a</td>\n",
       "    </tr>\n",
       "    <tr>\n",
       "      <th>1</th>\n",
       "      <td>2</td>\n",
       "      <td>b</td>\n",
       "      <td>1.1</td>\n",
       "      <td>b</td>\n",
       "    </tr>\n",
       "    <tr>\n",
       "      <th>2</th>\n",
       "      <td>3</td>\n",
       "      <td>c</td>\n",
       "      <td>1.1</td>\n",
       "      <td>c</td>\n",
       "    </tr>\n",
       "  </tbody>\n",
       "</table>\n",
       "</div>"
      ],
      "text/plain": [
       "   id name  amount name\n",
       "0   1    a     1.2    a\n",
       "1   2    b     1.1    b\n",
       "2   3    c     1.1    c"
      ]
     },
     "execution_count": 60,
     "metadata": {},
     "output_type": "execute_result"
    }
   ],
   "source": [
    "dfa = df[[\"name\"]]\n",
    "dfa\n",
    "# df.append(dfa, axis=0)\n"
   ]
  },
  {
   "cell_type": "markdown",
   "metadata": {},
   "source": [
    "# df to tuple"
   ]
  },
  {
   "cell_type": "code",
   "execution_count": null,
   "metadata": {},
   "outputs": [],
   "source": [
    "list(data_set.itertuples(index=False))"
   ]
  },
  {
   "cell_type": "code",
   "execution_count": 35,
   "metadata": {},
   "outputs": [
    {
     "data": {
      "text/plain": [
       "Timestamp('2019-02-28 00:00:00')"
      ]
     },
     "execution_count": 35,
     "metadata": {},
     "output_type": "execute_result"
    }
   ],
   "source": [
    "tuples = [tuple(row) for row in df_data.values]"
   ]
  },
  {
   "cell_type": "code",
   "execution_count": null,
   "metadata": {},
   "outputs": [],
   "source": [
    "\n",
    "    [tuple(x) for x in df.values]\n",
    "    df.to_records(index=False).tolist()\n",
    "    list(map(tuple,df.values))\n",
    "    list(map(tuple, df.itertuples(index=False)))\n"
   ]
  },
  {
   "cell_type": "markdown",
   "metadata": {},
   "source": [
    "# groupby "
   ]
  },
  {
   "cell_type": "markdown",
   "metadata": {},
   "source": [
    "### 数据准备"
   ]
  },
  {
   "cell_type": "code",
   "execution_count": 64,
   "metadata": {},
   "outputs": [],
   "source": [
    "data.to_csv(\"drugsale_test_data.csv\", index=False, encoding='utf-8')\n",
    "\n",
    "uniquekeys = ['PMD_YEAR', 'PMD_QUARTER', 'PMD_CITY', 'PMD_MEDICINALINFORMATIONID', 'PMD_COMPANYID',\n",
    "             'PMD_MEDICINALSALENUMBER']"
   ]
  },
  {
   "cell_type": "markdown",
   "metadata": {},
   "source": [
    "### count()会作用在所有不在uniquekeys给定的列上，生成一个由uniquekeys做多级索引的DateFrame。比如df中的列为[a,b,c,d,e], uniquekeys=[a,b,c], 那么count()会同时作用在[d,e]列上， 而[a,b,c]成为多级索引。info()可以看到相关信息。通常没有必要在[d,e]列上各做一次count，当df中的列数特别多时，就更不推荐这么用了。"
   ]
  },
  {
   "cell_type": "code",
   "execution_count": 50,
   "metadata": {},
   "outputs": [],
   "source": [
    "# data.groupby(uniquekeys).count().info()#.reset_index()"
   ]
  },
  {
   "cell_type": "markdown",
   "metadata": {},
   "source": [
    "### 也可以用as_index=False设置不生成多级索引"
   ]
  },
  {
   "cell_type": "code",
   "execution_count": 67,
   "metadata": {},
   "outputs": [
    {
     "name": "stdout",
     "output_type": "stream",
     "text": [
      "<class 'pandas.core.frame.DataFrame'>\n",
      "Int64Index: 73054 entries, 0 to 73053\n",
      "Data columns (total 37 columns):\n",
      "PMD_YEAR                      73054 non-null int64\n",
      "PMD_QUARTER                   73054 non-null int64\n",
      "PMD_CITY                      73054 non-null object\n",
      "PMD_MEDICINALINFORMATIONID    73054 non-null object\n",
      "PMD_COMPANYID                 73054 non-null object\n",
      "PMD_MEDICINALSALENUMBER       73054 non-null float64\n",
      "ID                            73054 non-null int64\n",
      "PMD_MEDICINALSALEMONEY        73054 non-null int64\n",
      "PMD_MEDICINALNAME             73054 non-null int64\n",
      "PMD_COMPANYNAME               73054 non-null int64\n",
      "PMD_MEDICINALID               73054 non-null int64\n",
      "PMD_ID                        73054 non-null int64\n",
      "PMD_REMARK1                   73054 non-null int64\n",
      "PMD_REMARK2                   73054 non-null int64\n",
      "PMD_REMARK3                   73054 non-null int64\n",
      "PMD_REMARK4                   73054 non-null int64\n",
      "PMD_REMARK5                   73054 non-null int64\n",
      "CREATE_DATE                   73054 non-null int64\n",
      "CREATE_USER                   73054 non-null int64\n",
      "UPDATE_DATE                   73054 non-null int64\n",
      "UPDATE_USER                   73054 non-null int64\n",
      "VERSION                       73054 non-null int64\n",
      "STATUS                        73054 non-null int64\n",
      "PMD_DATABASE                  73054 non-null int64\n",
      "PMD_CLASS                     73054 non-null int64\n",
      "PMD_DOSFORM                   73054 non-null int64\n",
      "PMD_SPECIFICIAL               73054 non-null int64\n",
      "PMD_USEMETHOD                 73054 non-null int64\n",
      "ETL_CRC                       73054 non-null int64\n",
      "QA_RULE_CHK_FLG               73054 non-null int64\n",
      "QA_MANUAL_FLG                 73054 non-null int64\n",
      "QA_ACTIVE_FLG                 73054 non-null int64\n",
      "CREATE_BY                     73054 non-null int64\n",
      "CREATE_TIME                   73054 non-null int64\n",
      "UPDATE_BY                     73054 non-null int64\n",
      "UPDATE_TIME                   73054 non-null int64\n",
      "TMSTAMP                       73054 non-null int64\n",
      "dtypes: float64(1), int64(33), object(3)\n",
      "memory usage: 21.2+ MB\n"
     ]
    }
   ],
   "source": [
    "# data.groupby(uniquekeys, as_index=False).count().info()#.reset_index()"
   ]
  },
  {
   "cell_type": "markdown",
   "metadata": {},
   "source": [
    "### reset_index()可以将多级索引转换为普通的列。"
   ]
  },
  {
   "cell_type": "code",
   "execution_count": 51,
   "metadata": {},
   "outputs": [],
   "source": [
    "# data.groupby(uniquekeys).count().reset_index()"
   ]
  },
  {
   "cell_type": "markdown",
   "metadata": {},
   "source": [
    "### size()的结果中只会保留uniquekeys中存在的列, 并新增一个名叫'counts'的计数列。 也是呈目录树状的级联结构，但它不是一个DateFrame, 查看类型会发现是Series。可以用reset_index转换成DateFrame。"
   ]
  },
  {
   "cell_type": "code",
   "execution_count": 46,
   "metadata": {},
   "outputs": [
    {
     "data": {
      "text/plain": [
       "pandas.core.series.Series"
      ]
     },
     "execution_count": 46,
     "metadata": {},
     "output_type": "execute_result"
    }
   ],
   "source": [
    "type(data.groupby(uniquekeys).size())"
   ]
  },
  {
   "cell_type": "markdown",
   "metadata": {},
   "source": [
    "### reset_index()直接作用在size()后面，再赋予新增的计数列列名'counts'可以得到一个看上去干净清爽的DateFrame, 同时满足获取各个group的计数的需求。"
   ]
  },
  {
   "cell_type": "code",
   "execution_count": 55,
   "metadata": {},
   "outputs": [],
   "source": [
    "# data.groupby(uniquekeys).size().reset_index(name='counts')"
   ]
  },
  {
   "cell_type": "markdown",
   "metadata": {},
   "source": [
    "### size()方法后直接用to_frame()方法也可以得到DateFrame, 它只有唯一一列'counts', info()显示uniquekeys为这个DataFrame的多级索引。reset_index()方法仍然可以将这些索引转换成列，而自动加上默认的自增索引。"
   ]
  },
  {
   "cell_type": "markdown",
   "metadata": {},
   "source": [
    "data.groupby(uniquekeys).size().to_frame(name='counts').info()#.reset_index()"
   ]
  },
  {
   "cell_type": "code",
   "execution_count": 56,
   "metadata": {},
   "outputs": [],
   "source": [
    "# data.groupby(uniquekeys).size().to_frame(name='counts').reset_index()"
   ]
  },
  {
   "cell_type": "markdown",
   "metadata": {},
   "source": [
    "### groupby得到的每个group都可以看作一个DataFrame, apply的作用对象是每个组的数据， 可以用类似处理DataFrame的方法选取其中的部分列进行计算。比如下面\",\".join(x[\"PMD_COMPANYID\"])操作将每个group中的PMD_COMPANYID列的数据拼接起来。"
   ]
  },
  {
   "cell_type": "code",
   "execution_count": 14,
   "metadata": {},
   "outputs": [
    {
     "data": {
      "text/plain": [
       "PMD_CITY\n",
       "上海      M3078,M3758,M1574,M1574,M3078,M0551,M0551,M188...\n",
       "北京      M3078,M3758,M1574,M3078,M0551,M0551,M0795,M298...\n",
       "北京市     M4260,M0489,M1316,M0489,M5411,M1311,M1341,M048...\n",
       "南京      M4489,M3078,M1574,M3078,M0551,M0795,M5361,M486...\n",
       "南京市     M3003,M1020,M3334,M5428,M2386,M4393,M5313,M150...\n",
       "哈尔滨     M2903,M3606,M3641,M4310,M4310,M5354,M2106,M210...\n",
       "哈尔滨市    M3238,M3345,M3276,M5317,M2716,M0799,M0832,M484...\n",
       "天津      M3078,M3758,M1574,M3078,M0551,M2986,M5361,M279...\n",
       "广州      M3078,M3758,M3758,M1574,M1574,M1730,M2332,M233...\n",
       "广州市     M1352,M4848,M0970,M4731,M1820,M4628,M2489,M227...\n",
       "成都      M3078,M3758,M1574,M3078,M0551,M0551,M5361,M486...\n",
       "成都市     M2356,M4573,M3251,M3339,M2475,M2277,M2550,M087...\n",
       "杭州      M3078,M3758,M3758,M1574,M3078,M0551,M0551,M079...\n",
       "武汉      M0175,M4768,M4768,M4768,M4768,M4768,M4990,M545...\n",
       "沈阳      M3078,M1574,M3018,M3078,M0795,M5361,M2792,M486...\n",
       "沈阳市     M2252,M0728,M4500,M2555,M3212,M4088,M5212,M335...\n",
       "济南      M3078,M3758,M1574,M3078,M0551,M0795,M2986,M536...\n",
       "石家庄     M3078,M3758,M1574,M3078,M0551,M2986,M5361,M486...\n",
       "西安      M3078,M1574,M1574,M2332,M3078,M0795,M4441,M536...\n",
       "西安市     M2022,M1324,M3793,M1316,M1233,M4193,M4135,M232...\n",
       "郑州      M3078,M1574,M3078,M0551,M0795,M2986,M5361,M486...\n",
       "郑州市     M2901,M1963,M5357,M3175,M5267,M1059,M3366,M160...\n",
       "重庆      M4214,M2377,M0202,M0240,M2377,M2126,M2969,M499...\n",
       "重庆市     M5434,M4260,M1723,M2464,M3958,M4260,M2515,M037...\n",
       "长沙      M2353,M3078,M3306,M0551,M0551,M5361,M0528,M486...\n",
       "dtype: object"
      ]
     },
     "execution_count": 14,
     "metadata": {},
     "output_type": "execute_result"
    }
   ],
   "source": [
    "data[[\"PMD_CITY\", \"PMD_COMPANYID\"]].groupby([\"PMD_CITY\"]).apply(lambda x: \",\".join(x[\"PMD_COMPANYID\"]))"
   ]
  },
  {
   "cell_type": "code",
   "execution_count": 2,
   "metadata": {},
   "outputs": [],
   "source": [
    "import pandas as pd"
   ]
  },
  {
   "cell_type": "code",
   "execution_count": 3,
   "metadata": {},
   "outputs": [],
   "source": [
    "data = pd.read_csv(\"drugsale_test_data.csv\")"
   ]
  },
  {
   "cell_type": "code",
   "execution_count": 45,
   "metadata": {},
   "outputs": [
    {
     "data": {
      "text/html": [
       "<div>\n",
       "<style scoped>\n",
       "    .dataframe tbody tr th:only-of-type {\n",
       "        vertical-align: middle;\n",
       "    }\n",
       "\n",
       "    .dataframe tbody tr th {\n",
       "        vertical-align: top;\n",
       "    }\n",
       "\n",
       "    .dataframe thead th {\n",
       "        text-align: right;\n",
       "    }\n",
       "</style>\n",
       "<table border=\"1\" class=\"dataframe\">\n",
       "  <thead>\n",
       "    <tr style=\"text-align: right;\">\n",
       "      <th></th>\n",
       "      <th>ID</th>\n",
       "      <th>PMD_YEAR</th>\n",
       "      <th>PMD_QUARTER</th>\n",
       "      <th>PMD_CITY</th>\n",
       "      <th>PMD_MEDICINALSALEMONEY</th>\n",
       "      <th>PMD_MEDICINALSALENUMBER</th>\n",
       "      <th>PMD_MEDICINALNAME</th>\n",
       "      <th>PMD_COMPANYNAME</th>\n",
       "      <th>PMD_COMPANYID</th>\n",
       "      <th>PMD_MEDICINALINFORMATIONID</th>\n",
       "      <th>...</th>\n",
       "      <th>PMD_USEMETHOD</th>\n",
       "      <th>ETL_CRC</th>\n",
       "      <th>QA_RULE_CHK_FLG</th>\n",
       "      <th>QA_MANUAL_FLG</th>\n",
       "      <th>QA_ACTIVE_FLG</th>\n",
       "      <th>CREATE_BY</th>\n",
       "      <th>CREATE_TIME</th>\n",
       "      <th>UPDATE_BY</th>\n",
       "      <th>UPDATE_TIME</th>\n",
       "      <th>TMSTAMP</th>\n",
       "    </tr>\n",
       "  </thead>\n",
       "  <tbody>\n",
       "    <tr>\n",
       "      <th>0</th>\n",
       "      <td>251401</td>\n",
       "      <td>2013</td>\n",
       "      <td>1</td>\n",
       "      <td>北京</td>\n",
       "      <td>750711.0000</td>\n",
       "      <td>328700.0</td>\n",
       "      <td>莫沙必利</td>\n",
       "      <td>日本住友制药</td>\n",
       "      <td>M3078</td>\n",
       "      <td>D0047870410AAA1303T010</td>\n",
       "      <td>...</td>\n",
       "      <td>内服</td>\n",
       "      <td>768914384</td>\n",
       "      <td>NaN</td>\n",
       "      <td>NaN</td>\n",
       "      <td>True</td>\n",
       "      <td>ETL</td>\n",
       "      <td>2018-11-01 20:49:59.333</td>\n",
       "      <td>ETL</td>\n",
       "      <td>2018-11-01 20:49:59.333</td>\n",
       "      <td>NaN</td>\n",
       "    </tr>\n",
       "    <tr>\n",
       "      <th>1</th>\n",
       "      <td>251417</td>\n",
       "      <td>2013</td>\n",
       "      <td>1</td>\n",
       "      <td>北京</td>\n",
       "      <td>55440.0000</td>\n",
       "      <td>48960.0</td>\n",
       "      <td>琥珀酸亚铁</td>\n",
       "      <td>四川奥邦药业</td>\n",
       "      <td>M3758</td>\n",
       "      <td>D0031030200AAA0102T024</td>\n",
       "      <td>...</td>\n",
       "      <td>内服</td>\n",
       "      <td>3631507639</td>\n",
       "      <td>NaN</td>\n",
       "      <td>NaN</td>\n",
       "      <td>True</td>\n",
       "      <td>ETL</td>\n",
       "      <td>2018-11-01 20:49:59.333</td>\n",
       "      <td>ETL</td>\n",
       "      <td>2018-11-01 20:49:59.333</td>\n",
       "      <td>NaN</td>\n",
       "    </tr>\n",
       "    <tr>\n",
       "      <th>2</th>\n",
       "      <td>2158330</td>\n",
       "      <td>2013</td>\n",
       "      <td>1</td>\n",
       "      <td>北京市</td>\n",
       "      <td>72513.2415</td>\n",
       "      <td>5843.0</td>\n",
       "      <td>金嗓散结</td>\n",
       "      <td>西安碑林药业</td>\n",
       "      <td>M4260</td>\n",
       "      <td>D0036600200DAA0102T131</td>\n",
       "      <td>...</td>\n",
       "      <td>内服</td>\n",
       "      <td>1796643922</td>\n",
       "      <td>NaN</td>\n",
       "      <td>NaN</td>\n",
       "      <td>True</td>\n",
       "      <td>talend_load@SHN1708DSL9YF2</td>\n",
       "      <td>2019-02-28 11:31:44.000</td>\n",
       "      <td>talend_load@SHN1708DSL9YF2</td>\n",
       "      <td>2019-02-28 11:31:44.000</td>\n",
       "      <td>NaN</td>\n",
       "    </tr>\n",
       "    <tr>\n",
       "      <th>3</th>\n",
       "      <td>2158331</td>\n",
       "      <td>2013</td>\n",
       "      <td>1</td>\n",
       "      <td>北京市</td>\n",
       "      <td>761737.0410</td>\n",
       "      <td>22656.0</td>\n",
       "      <td>坤宝</td>\n",
       "      <td>北京同仁堂股份同仁堂制药</td>\n",
       "      <td>M0489</td>\n",
       "      <td>D0040550100DAA1274T020</td>\n",
       "      <td>...</td>\n",
       "      <td>内服</td>\n",
       "      <td>3480623486</td>\n",
       "      <td>NaN</td>\n",
       "      <td>NaN</td>\n",
       "      <td>True</td>\n",
       "      <td>talend_load@SHN1708DSL9YF2</td>\n",
       "      <td>2019-02-28 11:31:44.000</td>\n",
       "      <td>talend_load@SHN1708DSL9YF2</td>\n",
       "      <td>2019-02-28 11:31:44.000</td>\n",
       "      <td>NaN</td>\n",
       "    </tr>\n",
       "    <tr>\n",
       "      <th>4</th>\n",
       "      <td>2158332</td>\n",
       "      <td>2013</td>\n",
       "      <td>1</td>\n",
       "      <td>北京市</td>\n",
       "      <td>2704.2472</td>\n",
       "      <td>158.0</td>\n",
       "      <td>尿感宁</td>\n",
       "      <td>贵州信邦制药</td>\n",
       "      <td>M1316</td>\n",
       "      <td>D0049040100CAA0237T012</td>\n",
       "      <td>...</td>\n",
       "      <td>内服</td>\n",
       "      <td>1337064295</td>\n",
       "      <td>NaN</td>\n",
       "      <td>NaN</td>\n",
       "      <td>True</td>\n",
       "      <td>talend_load@SHN1708DSL9YF2</td>\n",
       "      <td>2019-02-28 11:31:44.000</td>\n",
       "      <td>talend_load@SHN1708DSL9YF2</td>\n",
       "      <td>2019-02-28 11:31:44.000</td>\n",
       "      <td>NaN</td>\n",
       "    </tr>\n",
       "  </tbody>\n",
       "</table>\n",
       "<p>5 rows × 37 columns</p>\n",
       "</div>"
      ],
      "text/plain": [
       "        ID  PMD_YEAR  PMD_QUARTER PMD_CITY  PMD_MEDICINALSALEMONEY  \\\n",
       "0   251401      2013            1       北京             750711.0000   \n",
       "1   251417      2013            1       北京              55440.0000   \n",
       "2  2158330      2013            1      北京市              72513.2415   \n",
       "3  2158331      2013            1      北京市             761737.0410   \n",
       "4  2158332      2013            1      北京市               2704.2472   \n",
       "\n",
       "   PMD_MEDICINALSALENUMBER PMD_MEDICINALNAME PMD_COMPANYNAME PMD_COMPANYID  \\\n",
       "0                 328700.0              莫沙必利          日本住友制药         M3078   \n",
       "1                  48960.0             琥珀酸亚铁          四川奥邦药业         M3758   \n",
       "2                   5843.0              金嗓散结          西安碑林药业         M4260   \n",
       "3                  22656.0                坤宝    北京同仁堂股份同仁堂制药         M0489   \n",
       "4                    158.0               尿感宁          贵州信邦制药         M1316   \n",
       "\n",
       "  PMD_MEDICINALINFORMATIONID   ...    PMD_USEMETHOD     ETL_CRC  \\\n",
       "0     D0047870410AAA1303T010   ...               内服   768914384   \n",
       "1     D0031030200AAA0102T024   ...               内服  3631507639   \n",
       "2     D0036600200DAA0102T131   ...               内服  1796643922   \n",
       "3     D0040550100DAA1274T020   ...               内服  3480623486   \n",
       "4     D0049040100CAA0237T012   ...               内服  1337064295   \n",
       "\n",
       "   QA_RULE_CHK_FLG  QA_MANUAL_FLG  QA_ACTIVE_FLG                   CREATE_BY  \\\n",
       "0              NaN            NaN           True                         ETL   \n",
       "1              NaN            NaN           True                         ETL   \n",
       "2              NaN            NaN           True  talend_load@SHN1708DSL9YF2   \n",
       "3              NaN            NaN           True  talend_load@SHN1708DSL9YF2   \n",
       "4              NaN            NaN           True  talend_load@SHN1708DSL9YF2   \n",
       "\n",
       "               CREATE_TIME                   UPDATE_BY  \\\n",
       "0  2018-11-01 20:49:59.333                         ETL   \n",
       "1  2018-11-01 20:49:59.333                         ETL   \n",
       "2  2019-02-28 11:31:44.000  talend_load@SHN1708DSL9YF2   \n",
       "3  2019-02-28 11:31:44.000  talend_load@SHN1708DSL9YF2   \n",
       "4  2019-02-28 11:31:44.000  talend_load@SHN1708DSL9YF2   \n",
       "\n",
       "               UPDATE_TIME  TMSTAMP  \n",
       "0  2018-11-01 20:49:59.333      NaN  \n",
       "1  2018-11-01 20:49:59.333      NaN  \n",
       "2  2019-02-28 11:31:44.000      NaN  \n",
       "3  2019-02-28 11:31:44.000      NaN  \n",
       "4  2019-02-28 11:31:44.000      NaN  \n",
       "\n",
       "[5 rows x 37 columns]"
      ]
     },
     "execution_count": 45,
     "metadata": {},
     "output_type": "execute_result"
    }
   ],
   "source": [
    "data.head()"
   ]
  },
  {
   "cell_type": "code",
   "execution_count": 12,
   "metadata": {},
   "outputs": [
    {
     "name": "stdout",
     "output_type": "stream",
     "text": [
      "[251401 2013 1 '\\xe5\\x8c\\x97\\xe4\\xba\\xac' 750711.0 328700.0\n",
      " '\\xe8\\x8e\\xab\\xe6\\xb2\\x99\\xe5\\xbf\\x85\\xe5\\x88\\xa9'\n",
      " '\\xe6\\x97\\xa5\\xe6\\x9c\\xac\\xe4\\xbd\\x8f\\xe5\\x8f\\x8b\\xe5\\x88\\xb6\\xe8\\x8d\\xaf'\n",
      " 'M3078' 'D0047870410AAA1303T010' 'HA03FA-D004787' nan 10 nan nan nan nan\n",
      " nan nan nan nan nan nan 1 1 '\\xe7\\x89\\x87\\xe5\\x89\\x82' '5mg'\n",
      " '\\xe5\\x86\\x85\\xe6\\x9c\\x8d' 768914384 nan nan True 'ETL'\n",
      " '2018-11-01 20:49:59.333' 'ETL' '2018-11-01 20:49:59.333' nan]\n",
      "('1', '2')\n"
     ]
    }
   ],
   "source": []
  },
  {
   "cell_type": "code",
   "execution_count": null,
   "metadata": {},
   "outputs": [],
   "source": []
  },
  {
   "cell_type": "markdown",
   "metadata": {},
   "source": [
    "### https://www.shanelynn.ie/summarising-aggregation-and-grouping-data-in-python-pandas/"
   ]
  },
  {
   "cell_type": "code",
   "execution_count": 47,
   "metadata": {},
   "outputs": [
    {
     "data": {
      "text/html": [
       "<div>\n",
       "<style scoped>\n",
       "    .dataframe tbody tr th:only-of-type {\n",
       "        vertical-align: middle;\n",
       "    }\n",
       "\n",
       "    .dataframe tbody tr th {\n",
       "        vertical-align: top;\n",
       "    }\n",
       "\n",
       "    .dataframe thead th {\n",
       "        text-align: right;\n",
       "    }\n",
       "</style>\n",
       "<table border=\"1\" class=\"dataframe\">\n",
       "  <thead>\n",
       "    <tr style=\"text-align: right;\">\n",
       "      <th></th>\n",
       "      <th>ID</th>\n",
       "      <th>PMD_YEAR</th>\n",
       "      <th>PMD_QUARTER</th>\n",
       "      <th>PMD_CITY</th>\n",
       "      <th>PMD_MEDICINALSALEMONEY</th>\n",
       "      <th>PMD_MEDICINALSALENUMBER</th>\n",
       "      <th>PMD_MEDICINALNAME</th>\n",
       "      <th>PMD_COMPANYNAME</th>\n",
       "      <th>PMD_COMPANYID</th>\n",
       "      <th>PMD_MEDICINALINFORMATIONID</th>\n",
       "      <th>...</th>\n",
       "      <th>PMD_USEMETHOD</th>\n",
       "      <th>ETL_CRC</th>\n",
       "      <th>QA_RULE_CHK_FLG</th>\n",
       "      <th>QA_MANUAL_FLG</th>\n",
       "      <th>QA_ACTIVE_FLG</th>\n",
       "      <th>CREATE_BY</th>\n",
       "      <th>CREATE_TIME</th>\n",
       "      <th>UPDATE_BY</th>\n",
       "      <th>UPDATE_TIME</th>\n",
       "      <th>TMSTAMP</th>\n",
       "    </tr>\n",
       "  </thead>\n",
       "  <tbody>\n",
       "    <tr>\n",
       "      <th>0</th>\n",
       "      <td>251401</td>\n",
       "      <td>2013</td>\n",
       "      <td>1</td>\n",
       "      <td>北京</td>\n",
       "      <td>750711.0000</td>\n",
       "      <td>328700.0</td>\n",
       "      <td>莫沙必利</td>\n",
       "      <td>日本住友制药</td>\n",
       "      <td>M3078</td>\n",
       "      <td>D0047870410AAA1303T010</td>\n",
       "      <td>...</td>\n",
       "      <td>内服</td>\n",
       "      <td>768914384</td>\n",
       "      <td>NaN</td>\n",
       "      <td>NaN</td>\n",
       "      <td>True</td>\n",
       "      <td>ETL</td>\n",
       "      <td>2018-01-11 20:49:59.333</td>\n",
       "      <td>ETL</td>\n",
       "      <td>2018-11-01 20:49:59.333</td>\n",
       "      <td>NaN</td>\n",
       "    </tr>\n",
       "    <tr>\n",
       "      <th>1</th>\n",
       "      <td>251417</td>\n",
       "      <td>2013</td>\n",
       "      <td>1</td>\n",
       "      <td>北京</td>\n",
       "      <td>55440.0000</td>\n",
       "      <td>48960.0</td>\n",
       "      <td>琥珀酸亚铁</td>\n",
       "      <td>四川奥邦药业</td>\n",
       "      <td>M3758</td>\n",
       "      <td>D0031030200AAA0102T024</td>\n",
       "      <td>...</td>\n",
       "      <td>内服</td>\n",
       "      <td>3631507639</td>\n",
       "      <td>NaN</td>\n",
       "      <td>NaN</td>\n",
       "      <td>True</td>\n",
       "      <td>ETL</td>\n",
       "      <td>2018-01-11 20:49:59.333</td>\n",
       "      <td>ETL</td>\n",
       "      <td>2018-11-01 20:49:59.333</td>\n",
       "      <td>NaN</td>\n",
       "    </tr>\n",
       "    <tr>\n",
       "      <th>2</th>\n",
       "      <td>2158330</td>\n",
       "      <td>2013</td>\n",
       "      <td>1</td>\n",
       "      <td>北京市</td>\n",
       "      <td>72513.2415</td>\n",
       "      <td>5843.0</td>\n",
       "      <td>金嗓散结</td>\n",
       "      <td>西安碑林药业</td>\n",
       "      <td>M4260</td>\n",
       "      <td>D0036600200DAA0102T131</td>\n",
       "      <td>...</td>\n",
       "      <td>内服</td>\n",
       "      <td>1796643922</td>\n",
       "      <td>NaN</td>\n",
       "      <td>NaN</td>\n",
       "      <td>True</td>\n",
       "      <td>talend_load@SHN1708DSL9YF2</td>\n",
       "      <td>2019-02-28 11:31:44.000</td>\n",
       "      <td>talend_load@SHN1708DSL9YF2</td>\n",
       "      <td>2019-02-28 11:31:44.000</td>\n",
       "      <td>NaN</td>\n",
       "    </tr>\n",
       "    <tr>\n",
       "      <th>3</th>\n",
       "      <td>2158331</td>\n",
       "      <td>2013</td>\n",
       "      <td>1</td>\n",
       "      <td>北京市</td>\n",
       "      <td>761737.0410</td>\n",
       "      <td>22656.0</td>\n",
       "      <td>坤宝</td>\n",
       "      <td>北京同仁堂股份同仁堂制药</td>\n",
       "      <td>M0489</td>\n",
       "      <td>D0040550100DAA1274T020</td>\n",
       "      <td>...</td>\n",
       "      <td>内服</td>\n",
       "      <td>3480623486</td>\n",
       "      <td>NaN</td>\n",
       "      <td>NaN</td>\n",
       "      <td>True</td>\n",
       "      <td>talend_load@SHN1708DSL9YF2</td>\n",
       "      <td>2019-02-28 11:31:44.000</td>\n",
       "      <td>talend_load@SHN1708DSL9YF2</td>\n",
       "      <td>2019-02-28 11:31:44.000</td>\n",
       "      <td>NaN</td>\n",
       "    </tr>\n",
       "    <tr>\n",
       "      <th>4</th>\n",
       "      <td>2158332</td>\n",
       "      <td>2013</td>\n",
       "      <td>1</td>\n",
       "      <td>北京市</td>\n",
       "      <td>2704.2472</td>\n",
       "      <td>158.0</td>\n",
       "      <td>尿感宁</td>\n",
       "      <td>贵州信邦制药</td>\n",
       "      <td>M1316</td>\n",
       "      <td>D0049040100CAA0237T012</td>\n",
       "      <td>...</td>\n",
       "      <td>内服</td>\n",
       "      <td>1337064295</td>\n",
       "      <td>NaN</td>\n",
       "      <td>NaN</td>\n",
       "      <td>True</td>\n",
       "      <td>talend_load@SHN1708DSL9YF2</td>\n",
       "      <td>2019-02-28 11:31:44.000</td>\n",
       "      <td>talend_load@SHN1708DSL9YF2</td>\n",
       "      <td>2019-02-28 11:31:44.000</td>\n",
       "      <td>NaN</td>\n",
       "    </tr>\n",
       "  </tbody>\n",
       "</table>\n",
       "<p>5 rows × 37 columns</p>\n",
       "</div>"
      ],
      "text/plain": [
       "        ID  PMD_YEAR  PMD_QUARTER PMD_CITY  PMD_MEDICINALSALEMONEY  \\\n",
       "0   251401      2013            1       北京             750711.0000   \n",
       "1   251417      2013            1       北京              55440.0000   \n",
       "2  2158330      2013            1      北京市              72513.2415   \n",
       "3  2158331      2013            1      北京市             761737.0410   \n",
       "4  2158332      2013            1      北京市               2704.2472   \n",
       "\n",
       "   PMD_MEDICINALSALENUMBER PMD_MEDICINALNAME PMD_COMPANYNAME PMD_COMPANYID  \\\n",
       "0                 328700.0              莫沙必利          日本住友制药         M3078   \n",
       "1                  48960.0             琥珀酸亚铁          四川奥邦药业         M3758   \n",
       "2                   5843.0              金嗓散结          西安碑林药业         M4260   \n",
       "3                  22656.0                坤宝    北京同仁堂股份同仁堂制药         M0489   \n",
       "4                    158.0               尿感宁          贵州信邦制药         M1316   \n",
       "\n",
       "  PMD_MEDICINALINFORMATIONID   ...    PMD_USEMETHOD     ETL_CRC  \\\n",
       "0     D0047870410AAA1303T010   ...               内服   768914384   \n",
       "1     D0031030200AAA0102T024   ...               内服  3631507639   \n",
       "2     D0036600200DAA0102T131   ...               内服  1796643922   \n",
       "3     D0040550100DAA1274T020   ...               内服  3480623486   \n",
       "4     D0049040100CAA0237T012   ...               内服  1337064295   \n",
       "\n",
       "   QA_RULE_CHK_FLG  QA_MANUAL_FLG  QA_ACTIVE_FLG                   CREATE_BY  \\\n",
       "0              NaN            NaN           True                         ETL   \n",
       "1              NaN            NaN           True                         ETL   \n",
       "2              NaN            NaN           True  talend_load@SHN1708DSL9YF2   \n",
       "3              NaN            NaN           True  talend_load@SHN1708DSL9YF2   \n",
       "4              NaN            NaN           True  talend_load@SHN1708DSL9YF2   \n",
       "\n",
       "              CREATE_TIME                   UPDATE_BY  \\\n",
       "0 2018-01-11 20:49:59.333                         ETL   \n",
       "1 2018-01-11 20:49:59.333                         ETL   \n",
       "2 2019-02-28 11:31:44.000  talend_load@SHN1708DSL9YF2   \n",
       "3 2019-02-28 11:31:44.000  talend_load@SHN1708DSL9YF2   \n",
       "4 2019-02-28 11:31:44.000  talend_load@SHN1708DSL9YF2   \n",
       "\n",
       "               UPDATE_TIME  TMSTAMP  \n",
       "0  2018-11-01 20:49:59.333      NaN  \n",
       "1  2018-11-01 20:49:59.333      NaN  \n",
       "2  2019-02-28 11:31:44.000      NaN  \n",
       "3  2019-02-28 11:31:44.000      NaN  \n",
       "4  2019-02-28 11:31:44.000      NaN  \n",
       "\n",
       "[5 rows x 37 columns]"
      ]
     },
     "execution_count": 47,
     "metadata": {},
     "output_type": "execute_result"
    }
   ],
   "source": [
    "import dateutil\n",
    "\n",
    "# Load data from csv file\n",
    "# data = pd.DataFrame.from_csv('phone_data.csv')\n",
    "# Convert date from string to date times\n",
    "data['CREATE_TIME'] = data['CREATE_TIME'].apply(dateutil.parser.parse, dayfirst=True)\n",
    "data.head()"
   ]
  },
  {
   "cell_type": "code",
   "execution_count": 19,
   "metadata": {},
   "outputs": [
    {
     "data": {
      "text/plain": [
       "\"[[251401L 2013L 1L ... 'ETL' '2018-11-01 20:49:59.333' nan]\\n [251417L 2013L 1L ... 'ETL' '2018-11-01 20:49:59.333' nan]\\n [2158330L 2013L 1L ... 'talend_load@SHN1708DSL9YF2'\\n  '2019-02-28 11:31:44.000' nan]\\n ...\\n [2532104L 2013L 1L ... 'talend_load@SHN1708DSL9YF2'\\n  '2019-02-28 13:58:22' nan]\\n [2532105L 2013L 1L ... 'talend_load@SHN1708DSL9YF2'\\n  '2019-02-28 13:58:22' nan]\\n [2532106L 2013L 1L ... 'talend_load@SHN1708DSL9YF2'\\n  '2019-02-28 13:58:22' nan]]\""
      ]
     },
     "execution_count": 19,
     "metadata": {},
     "output_type": "execute_result"
    }
   ],
   "source": [
    "data.head()\n",
    "# str(data.values)"
   ]
  },
  {
   "cell_type": "code",
   "execution_count": 48,
   "metadata": {},
   "outputs": [
    {
     "data": {
      "text/plain": [
       "广州      17896\n",
       "北京      14012\n",
       "郑州      13284\n",
       "上海      13062\n",
       "成都      12302\n",
       "重庆      12229\n",
       "武汉      11906\n",
       "长沙      11796\n",
       "济南      11678\n",
       "杭州      10407\n",
       "沈阳       9599\n",
       "石家庄      9597\n",
       "南京       9401\n",
       "哈尔滨      9019\n",
       "天津       8796\n",
       "西安       8698\n",
       "郑州市      5613\n",
       "北京市      4410\n",
       "广州市      4356\n",
       "重庆市      4224\n",
       "成都市      3642\n",
       "南京市      3282\n",
       "沈阳市      2562\n",
       "西安市      2457\n",
       "哈尔滨市     2199\n",
       "Name: PMD_CITY, dtype: int64"
      ]
     },
     "execution_count": 48,
     "metadata": {},
     "output_type": "execute_result"
    }
   ],
   "source": [
    "# 相当于在某一列上做groupby再得到行计数\n",
    "data[\"PMD_CITY\"].value_counts()"
   ]
  },
  {
   "cell_type": "code",
   "execution_count": 49,
   "metadata": {},
   "outputs": [
    {
     "data": {
      "text/plain": [
       "['\\xe5\\xb9\\xbf\\xe5\\xb7\\x9e\\xe5\\xb8\\x82',\n",
       " '\\xe5\\x8d\\x97\\xe4\\xba\\xac\\xe5\\xb8\\x82',\n",
       " '\\xe6\\xb2\\x88\\xe9\\x98\\xb3\\xe5\\xb8\\x82',\n",
       " '\\xe5\\x8c\\x97\\xe4\\xba\\xac',\n",
       " '\\xe9\\x87\\x8d\\xe5\\xba\\x86\\xe5\\xb8\\x82',\n",
       " '\\xe6\\xad\\xa6\\xe6\\xb1\\x89',\n",
       " '\\xe9\\x95\\xbf\\xe6\\xb2\\x99',\n",
       " '\\xe6\\x88\\x90\\xe9\\x83\\xbd',\n",
       " '\\xe4\\xb8\\x8a\\xe6\\xb5\\xb7',\n",
       " '\\xe5\\x93\\x88\\xe5\\xb0\\x94\\xe6\\xbb\\xa8\\xe5\\xb8\\x82',\n",
       " '\\xe6\\x9d\\xad\\xe5\\xb7\\x9e',\n",
       " '\\xe6\\x88\\x90\\xe9\\x83\\xbd\\xe5\\xb8\\x82',\n",
       " '\\xe7\\x9f\\xb3\\xe5\\xae\\xb6\\xe5\\xba\\x84',\n",
       " '\\xe5\\xa4\\xa9\\xe6\\xb4\\xa5',\n",
       " '\\xe9\\x83\\x91\\xe5\\xb7\\x9e\\xe5\\xb8\\x82',\n",
       " '\\xe9\\x83\\x91\\xe5\\xb7\\x9e',\n",
       " '\\xe6\\xb2\\x88\\xe9\\x98\\xb3',\n",
       " '\\xe8\\xa5\\xbf\\xe5\\xae\\x89\\xe5\\xb8\\x82',\n",
       " '\\xe5\\x93\\x88\\xe5\\xb0\\x94\\xe6\\xbb\\xa8',\n",
       " '\\xe5\\xb9\\xbf\\xe5\\xb7\\x9e',\n",
       " '\\xe6\\xb5\\x8e\\xe5\\x8d\\x97',\n",
       " '\\xe8\\xa5\\xbf\\xe5\\xae\\x89',\n",
       " '\\xe9\\x87\\x8d\\xe5\\xba\\x86',\n",
       " '\\xe5\\x8d\\x97\\xe4\\xba\\xac',\n",
       " '\\xe5\\x8c\\x97\\xe4\\xba\\xac\\xe5\\xb8\\x82']"
      ]
     },
     "execution_count": 49,
     "metadata": {},
     "output_type": "execute_result"
    }
   ],
   "source": [
    "data.groupby([\"PMD_CITY\"]).groups.keys() "
   ]
  },
  {
   "cell_type": "code",
   "execution_count": 50,
   "metadata": {},
   "outputs": [
    {
     "data": {
      "text/plain": [
       "PMD_CITY\n",
       "上海      9.013887e+09\n",
       "北京      1.116227e+10\n",
       "北京市     4.453168e+09\n",
       "南京      3.025418e+09\n",
       "南京市     1.738821e+09\n",
       "哈尔滨     2.418503e+09\n",
       "哈尔滨市    1.858250e+09\n",
       "天津      2.799192e+09\n",
       "广州      8.544224e+09\n",
       "广州市     2.171378e+09\n",
       "成都      3.161391e+09\n",
       "成都市     1.950799e+09\n",
       "杭州      5.086572e+09\n",
       "武汉      4.281739e+09\n",
       "沈阳      2.120332e+09\n",
       "沈阳市     1.188307e+09\n",
       "济南      2.361001e+09\n",
       "石家庄     2.027361e+09\n",
       "西安      1.249036e+09\n",
       "西安市     1.652649e+09\n",
       "郑州      3.739957e+09\n",
       "郑州市     1.417676e+09\n",
       "重庆      3.337902e+09\n",
       "重庆市     2.522970e+09\n",
       "长沙      3.411868e+09\n",
       "Name: PMD_MEDICINALSALEMONEY, dtype: float64"
      ]
     },
     "execution_count": 50,
     "metadata": {},
     "output_type": "execute_result"
    }
   ],
   "source": [
    "data.groupby(\"PMD_CITY\")['PMD_MEDICINALSALEMONEY'].sum() "
   ]
  },
  {
   "cell_type": "code",
   "execution_count": 52,
   "metadata": {},
   "outputs": [
    {
     "data": {
      "text/plain": [
       "PMD_CITY\n",
       "上海      13062\n",
       "北京      14012\n",
       "北京市      4410\n",
       "南京       9401\n",
       "南京市      3282\n",
       "哈尔滨      9019\n",
       "哈尔滨市     2199\n",
       "天津       8796\n",
       "广州      17896\n",
       "广州市      4356\n",
       "成都      12302\n",
       "成都市      3642\n",
       "杭州      10407\n",
       "武汉      11906\n",
       "沈阳       9599\n",
       "沈阳市      2562\n",
       "济南      11678\n",
       "石家庄      9597\n",
       "西安       8698\n",
       "西安市      2457\n",
       "郑州      13284\n",
       "郑州市      5613\n",
       "重庆      12229\n",
       "重庆市      4224\n",
       "长沙      11796\n",
       "Name: PMD_MEDICINALSALENUMBER, dtype: int64"
      ]
     },
     "execution_count": 52,
     "metadata": {},
     "output_type": "execute_result"
    }
   ],
   "source": [
    "data.groupby(\"PMD_CITY\")['PMD_MEDICINALSALENUMBER'].count() "
   ]
  },
  {
   "cell_type": "markdown",
   "metadata": {},
   "source": [
    "### Groupby output format – Series or DataFrame?\n",
    "\n",
    "The output from a groupby and aggregation operation varies between Pandas Series and Pandas Dataframes, which can be confusing for new users. As a rule of thumb, if you calculate more than one column of results, your result will be a Dataframe. For a single column of results, the agg function, by default, will produce a Series."
   ]
  },
  {
   "cell_type": "code",
   "execution_count": null,
   "metadata": {},
   "outputs": [],
   "source": []
  }
 ],
 "metadata": {
  "anaconda-cloud": {},
  "kernelspec": {
   "display_name": "Python 2",
   "language": "python",
   "name": "python2"
  },
  "language_info": {
   "codemirror_mode": {
    "name": "ipython",
    "version": 2
   },
   "file_extension": ".py",
   "mimetype": "text/x-python",
   "name": "python",
   "nbconvert_exporter": "python",
   "pygments_lexer": "ipython2",
   "version": "2.7.11"
  }
 },
 "nbformat": 4,
 "nbformat_minor": 2
}
