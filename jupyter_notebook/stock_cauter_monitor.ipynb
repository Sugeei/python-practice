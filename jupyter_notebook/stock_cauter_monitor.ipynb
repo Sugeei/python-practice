{
 "cells": [
  {
   "cell_type": "code",
   "execution_count": 1,
   "metadata": {},
   "outputs": [],
   "source": [
    "#  监控调整表三张表的数据情况， 查看有无异常数据"
   ]
  },
  {
   "cell_type": "markdown",
   "metadata": {},
   "source": [
    "# TODO 添加mongo中刷历史的进度统计"
   ]
  },
  {
   "cell_type": "code",
   "execution_count": 1,
   "metadata": {},
   "outputs": [],
   "source": [
    "\n",
    "class MysqlConn(object):\n",
    "    def __init__(self, config_json_str):\n",
    "        # self.mysql_config = {\"host\": \"10.22.128.150\",  \"port\": 3317, \"db\": \"bigdata\", \"user\": \"talend_load\",\n",
    "        #   \"passwd\": \"s9t5gNThn2vqWM7c\" , \"charset\" : \"utf8\"}\n",
    "        # self.mysql_config = {\"host\": \"db-bigdata.wmcloud-qa.com\",  \"port\": 3312, \"db\": \"bigdata\", \"user\": \"app_bigdata_ro\",\n",
    "        #   \"passwd\": \"Welcome_20141217\"}\n",
    "        self.mysql_config = json.loads(config_json_str, encoding='utf-8')\n",
    "\n",
    "    def connect(self):\n",
    "        mysql_conn = pymysql.connect(**self.mysql_config)\n",
    "        return mysql_conn\n",
    "\n",
    "class MssqlConn(object):\n",
    "    def __init__(self, config_json_str):\n",
    "        # self.mssql_config = {\"server\": \"sh-datayesdb.wmcloud-dev.com\",  \"port\": 1433, \"database\": \"datayesdb\",\n",
    "        #     \"user\": \"talend_load\", \"password\": \"Welcome01\"}\n",
    "        self.mssql_config = json.loads(config_json_str, encoding='utf-8')\n",
    "\n",
    "    def connect(self):\n",
    "        mssql_conn = pymssql.connect(**self.mssql_config)\n",
    "        return mssql_conn\n",
    "\n",
    "    def __str__(self):\n",
    "        return json.dumps(self.mssql_config, ensure_ascii=False, encoding='utf-8')\n",
    "\n"
   ]
  },
  {
   "cell_type": "code",
   "execution_count": 2,
   "metadata": {},
   "outputs": [],
   "source": [
    "import json\n",
    "import pymysql\n",
    "import pymssql\n",
    "# MySQL\n",
    "bigdata={\"host\":\"security03-dev.datayes.com\",\"port\":3306,\"user\":\"talend_load\",\"passwd\":\"NCph1G9BQT3DuQj\",\"db\":\"bigdata\",\"charset\":\"utf8\"}\n",
    "dateyesdbp={\"host\":\"db-datayesdb-ro.wmcloud.com\",\"port\":3313,\"user\":\"app_dataqa_ro\",\"passwd\":\"Welcome20140820\",\"db\":\"datayesdbp\",\"charset\":\"utf8\"}\n",
    "datayesdb={\"host\":\"db-datayesdb-ro.wmcloud.com\",\"port\":3313,\"database\":\"datayesdb\",\"user\":\"app_gaea_ro\",\"password\":\"EQw6WquhnCKPp8Li\",\"charset\":\"utf8\"}\n",
    "datayesdb = {\"server\": \"10.24.21.202\", \"port\": 1433,\n",
    "         \"database\": \"datayesdb\", \"user\": \"talend_load\",\n",
    "         \"password\": \"Welcome01\", \"charset\": \"utf8\"}\n",
    "# researchrpt={\"host\":\"db-researchrpt-ro.wmcloud.com\",\"port\":3306,\"user\":\"app_gaea_ro\",\"passwd\":\"UDVVkvULzakP2048\",\"db\":\"research_rpt\",\"charset\":\"utf8\"}\n",
    "# dev\n",
    "# researchrpt={\"host\":\"10.24.21.34\",\"port\":3306,\"user\":\"app_researchrep\",\"passwd\":\"dG8pqlk5VKOMvDH\",\"db\":\"research_rpt\",\"charset\":\"utf8\",\"autocommit\":True}\n",
    "# stg\n",
    "# researchrpt={\"host\":\"db-researchrpt.wmcloud-stg.com\",\"port\":3313,\"user\":\"app_resrpt_rw\",\"passwd\":\"Wy8tw53XpQfRSukb\",\"db\":\"research_rpt\",\"charset\":\"utf8\",\"autocommit\":True}\n",
    "# prd\n",
    "researchrpt={\"host\":\"db-researchrpt.wmcloud.com\",\"port\":3306,\"user\":\"app_researchrep\",\"passwd\":\"dG8pqlk5VKOMvDH\",\"db\":\"research_rpt\",\"charset\":\"utf8\",\"autocommit\":True}\n",
    "\n",
    "\n",
    "datayesdb_conn = MssqlConn(json.dumps(datayesdb)).connect()\n",
    "# researchrpt_conn = MysqlConn(json.dumps(researchrpt)).connect()\n",
    "\n",
    "# datayes_conn = MssqlConn(json.dumps(datayes)).connect()\n"
   ]
  },
  {
   "cell_type": "code",
   "execution_count": 20,
   "metadata": {},
   "outputs": [],
   "source": [
    "import pandas as pd\n",
    "import matplotlib.pyplot as plt"
   ]
  },
  {
   "cell_type": "code",
   "execution_count": 28,
   "metadata": {},
   "outputs": [],
   "source": [
    "sql = \"\"\"\n",
    " select ticker, trade_date, market_value_style from stock_factor_tags  where trade_date = 20180420\"\"\""
   ]
  },
  {
   "cell_type": "code",
   "execution_count": 29,
   "metadata": {},
   "outputs": [],
   "source": [
    "# sql = \"\"\"\n",
    "#  select * from stock_factor_tags  where trade_date = 20180420\"\"\""
   ]
  },
  {
   "cell_type": "code",
   "execution_count": 30,
   "metadata": {},
   "outputs": [],
   "source": [
    "df1 = pd.read_sql(sql, datayesdb_conn)"
   ]
  },
  {
   "cell_type": "code",
   "execution_count": 22,
   "metadata": {},
   "outputs": [
    {
     "data": {
      "image/png": "[encoded data removed]",
      "text/plain": [
       "<matplotlib.figure.Figure at 0x13382b38>"
      ]
     },
     "metadata": {},
     "output_type": "display_data"
    }
   ],
   "source": [
    "plt.hist(df1.market_value_style)\n",
    "plt.show()"
   ]
  },
  {
   "cell_type": "code",
   "execution_count": 31,
   "metadata": {},
   "outputs": [
    {
     "data": {
      "image/png": "[encoded data removed]",
      "text/plain": [
       "<matplotlib.figure.Figure at 0x13919a90>"
      ]
     },
     "metadata": {},
     "output_type": "display_data"
    }
   ],
   "source": [
    "sql = \"\"\"\n",
    " select ticker, trade_date, market_value_style from stock_factor_tags  where trade_date = 20180320\"\"\"\n",
    "df2 = pd.read_sql(sql, datayesdb_conn)\n",
    "plt.hist(df2.market_value_style)\n",
    "plt.show()"
   ]
  },
  {
   "cell_type": "code",
   "execution_count": 48,
   "metadata": {},
   "outputs": [
    {
     "data": {
      "text/html": [
       "<div>\n",
       "<style scoped>\n",
       "    .dataframe tbody tr th:only-of-type {\n",
       "        vertical-align: middle;\n",
       "    }\n",
       "\n",
       "    .dataframe tbody tr th {\n",
       "        vertical-align: top;\n",
       "    }\n",
       "\n",
       "    .dataframe thead th {\n",
       "        text-align: right;\n",
       "    }\n",
       "</style>\n",
       "<table border=\"1\" class=\"dataframe\">\n",
       "  <thead>\n",
       "    <tr style=\"text-align: right;\">\n",
       "      <th></th>\n",
       "      <th>ticker</th>\n",
       "      <th>trade_date_x</th>\n",
       "      <th>market_value_style_x</th>\n",
       "      <th>trade_date_y</th>\n",
       "      <th>market_value_style_y</th>\n",
       "      <th>equal</th>\n",
       "    </tr>\n",
       "  </thead>\n",
       "  <tbody>\n",
       "    <tr>\n",
       "      <th>23</th>\n",
       "      <td>002246</td>\n",
       "      <td>20180420</td>\n",
       "      <td>小盘</td>\n",
       "      <td>20180320</td>\n",
       "      <td>中盘</td>\n",
       "      <td>False</td>\n",
       "    </tr>\n",
       "    <tr>\n",
       "      <th>48</th>\n",
       "      <td>200550</td>\n",
       "      <td>20180420</td>\n",
       "      <td>小盘</td>\n",
       "      <td>20180320</td>\n",
       "      <td>中盘</td>\n",
       "      <td>False</td>\n",
       "    </tr>\n",
       "    <tr>\n",
       "      <th>89</th>\n",
       "      <td>600321</td>\n",
       "      <td>20180420</td>\n",
       "      <td>小盘</td>\n",
       "      <td>20180320</td>\n",
       "      <td>中盘</td>\n",
       "      <td>False</td>\n",
       "    </tr>\n",
       "    <tr>\n",
       "      <th>106</th>\n",
       "      <td>601366</td>\n",
       "      <td>20180420</td>\n",
       "      <td>中盘</td>\n",
       "      <td>20180320</td>\n",
       "      <td>小盘</td>\n",
       "      <td>False</td>\n",
       "    </tr>\n",
       "    <tr>\n",
       "      <th>110</th>\n",
       "      <td>601377</td>\n",
       "      <td>20180420</td>\n",
       "      <td>超级大盘</td>\n",
       "      <td>20180320</td>\n",
       "      <td>大盘</td>\n",
       "      <td>False</td>\n",
       "    </tr>\n",
       "    <tr>\n",
       "      <th>128</th>\n",
       "      <td>002285</td>\n",
       "      <td>20180420</td>\n",
       "      <td>中盘</td>\n",
       "      <td>20180320</td>\n",
       "      <td>大盘</td>\n",
       "      <td>False</td>\n",
       "    </tr>\n",
       "    <tr>\n",
       "      <th>139</th>\n",
       "      <td>002628</td>\n",
       "      <td>20180420</td>\n",
       "      <td>小盘</td>\n",
       "      <td>20180320</td>\n",
       "      <td>中盘</td>\n",
       "      <td>False</td>\n",
       "    </tr>\n",
       "    <tr>\n",
       "      <th>143</th>\n",
       "      <td>002632</td>\n",
       "      <td>20180420</td>\n",
       "      <td>中盘</td>\n",
       "      <td>20180320</td>\n",
       "      <td>小盘</td>\n",
       "      <td>False</td>\n",
       "    </tr>\n",
       "    <tr>\n",
       "      <th>157</th>\n",
       "      <td>300133</td>\n",
       "      <td>20180420</td>\n",
       "      <td>中盘</td>\n",
       "      <td>20180320</td>\n",
       "      <td>大盘</td>\n",
       "      <td>False</td>\n",
       "    </tr>\n",
       "    <tr>\n",
       "      <th>183</th>\n",
       "      <td>600655</td>\n",
       "      <td>20180420</td>\n",
       "      <td>大盘</td>\n",
       "      <td>20180320</td>\n",
       "      <td>中盘</td>\n",
       "      <td>False</td>\n",
       "    </tr>\n",
       "    <tr>\n",
       "      <th>225</th>\n",
       "      <td>002127</td>\n",
       "      <td>20180420</td>\n",
       "      <td>中盘</td>\n",
       "      <td>20180320</td>\n",
       "      <td>大盘</td>\n",
       "      <td>False</td>\n",
       "    </tr>\n",
       "    <tr>\n",
       "      <th>233</th>\n",
       "      <td>002683</td>\n",
       "      <td>20180420</td>\n",
       "      <td>中盘</td>\n",
       "      <td>20180320</td>\n",
       "      <td>小盘</td>\n",
       "      <td>False</td>\n",
       "    </tr>\n",
       "    <tr>\n",
       "      <th>239</th>\n",
       "      <td>002689</td>\n",
       "      <td>20180420</td>\n",
       "      <td>小盘</td>\n",
       "      <td>20180320</td>\n",
       "      <td>中盘</td>\n",
       "      <td>False</td>\n",
       "    </tr>\n",
       "    <tr>\n",
       "      <th>241</th>\n",
       "      <td>002691</td>\n",
       "      <td>20180420</td>\n",
       "      <td>中盘</td>\n",
       "      <td>20180320</td>\n",
       "      <td>小盘</td>\n",
       "      <td>False</td>\n",
       "    </tr>\n",
       "    <tr>\n",
       "      <th>244</th>\n",
       "      <td>002694</td>\n",
       "      <td>20180420</td>\n",
       "      <td>小盘</td>\n",
       "      <td>20180320</td>\n",
       "      <td>中盘</td>\n",
       "      <td>False</td>\n",
       "    </tr>\n",
       "    <tr>\n",
       "      <th>273</th>\n",
       "      <td>600487</td>\n",
       "      <td>20180420</td>\n",
       "      <td>大盘</td>\n",
       "      <td>20180320</td>\n",
       "      <td>超级大盘</td>\n",
       "      <td>False</td>\n",
       "    </tr>\n",
       "    <tr>\n",
       "      <th>290</th>\n",
       "      <td>601877</td>\n",
       "      <td>20180420</td>\n",
       "      <td>超级大盘</td>\n",
       "      <td>20180320</td>\n",
       "      <td>大盘</td>\n",
       "      <td>False</td>\n",
       "    </tr>\n",
       "    <tr>\n",
       "      <th>318</th>\n",
       "      <td>002507</td>\n",
       "      <td>20180420</td>\n",
       "      <td>大盘</td>\n",
       "      <td>20180320</td>\n",
       "      <td>中盘</td>\n",
       "      <td>False</td>\n",
       "    </tr>\n",
       "    <tr>\n",
       "      <th>340</th>\n",
       "      <td>002742</td>\n",
       "      <td>20180420</td>\n",
       "      <td>小盘</td>\n",
       "      <td>20180320</td>\n",
       "      <td>中盘</td>\n",
       "      <td>False</td>\n",
       "    </tr>\n",
       "    <tr>\n",
       "      <th>393</th>\n",
       "      <td>601969</td>\n",
       "      <td>20180420</td>\n",
       "      <td>大盘</td>\n",
       "      <td>20180320</td>\n",
       "      <td>中盘</td>\n",
       "      <td>False</td>\n",
       "    </tr>\n",
       "    <tr>\n",
       "      <th>413</th>\n",
       "      <td>002077</td>\n",
       "      <td>20180420</td>\n",
       "      <td>中盘</td>\n",
       "      <td>20180320</td>\n",
       "      <td>小盘</td>\n",
       "      <td>False</td>\n",
       "    </tr>\n",
       "    <tr>\n",
       "      <th>422</th>\n",
       "      <td>002086</td>\n",
       "      <td>20180420</td>\n",
       "      <td>小盘</td>\n",
       "      <td>20180320</td>\n",
       "      <td>中盘</td>\n",
       "      <td>False</td>\n",
       "    </tr>\n",
       "    <tr>\n",
       "      <th>432</th>\n",
       "      <td>002575</td>\n",
       "      <td>20180420</td>\n",
       "      <td>小盘</td>\n",
       "      <td>20180320</td>\n",
       "      <td>中盘</td>\n",
       "      <td>False</td>\n",
       "    </tr>\n",
       "    <tr>\n",
       "      <th>467</th>\n",
       "      <td>600523</td>\n",
       "      <td>20180420</td>\n",
       "      <td>中盘</td>\n",
       "      <td>20180320</td>\n",
       "      <td>小盘</td>\n",
       "      <td>False</td>\n",
       "    </tr>\n",
       "    <tr>\n",
       "      <th>473</th>\n",
       "      <td>600530</td>\n",
       "      <td>20180420</td>\n",
       "      <td>中盘</td>\n",
       "      <td>20180320</td>\n",
       "      <td>小盘</td>\n",
       "      <td>False</td>\n",
       "    </tr>\n",
       "    <tr>\n",
       "      <th>476</th>\n",
       "      <td>600533</td>\n",
       "      <td>20180420</td>\n",
       "      <td>中盘</td>\n",
       "      <td>20180320</td>\n",
       "      <td>小盘</td>\n",
       "      <td>False</td>\n",
       "    </tr>\n",
       "    <tr>\n",
       "      <th>477</th>\n",
       "      <td>600535</td>\n",
       "      <td>20180420</td>\n",
       "      <td>超级大盘</td>\n",
       "      <td>20180320</td>\n",
       "      <td>大盘</td>\n",
       "      <td>False</td>\n",
       "    </tr>\n",
       "    <tr>\n",
       "      <th>503</th>\n",
       "      <td>000059</td>\n",
       "      <td>20180420</td>\n",
       "      <td>中盘</td>\n",
       "      <td>20180320</td>\n",
       "      <td>大盘</td>\n",
       "      <td>False</td>\n",
       "    </tr>\n",
       "    <tr>\n",
       "      <th>544</th>\n",
       "      <td>300075</td>\n",
       "      <td>20180420</td>\n",
       "      <td>中盘</td>\n",
       "      <td>20180320</td>\n",
       "      <td>小盘</td>\n",
       "      <td>False</td>\n",
       "    </tr>\n",
       "    <tr>\n",
       "      <th>551</th>\n",
       "      <td>300418</td>\n",
       "      <td>20180420</td>\n",
       "      <td>中盘</td>\n",
       "      <td>20180320</td>\n",
       "      <td>大盘</td>\n",
       "      <td>False</td>\n",
       "    </tr>\n",
       "    <tr>\n",
       "      <th>...</th>\n",
       "      <td>...</td>\n",
       "      <td>...</td>\n",
       "      <td>...</td>\n",
       "      <td>...</td>\n",
       "      <td>...</td>\n",
       "      <td>...</td>\n",
       "    </tr>\n",
       "    <tr>\n",
       "      <th>3070</th>\n",
       "      <td>002427</td>\n",
       "      <td>20180420</td>\n",
       "      <td>小盘</td>\n",
       "      <td>20180320</td>\n",
       "      <td>中盘</td>\n",
       "      <td>False</td>\n",
       "    </tr>\n",
       "    <tr>\n",
       "      <th>3079</th>\n",
       "      <td>300014</td>\n",
       "      <td>20180420</td>\n",
       "      <td>中盘</td>\n",
       "      <td>20180320</td>\n",
       "      <td>大盘</td>\n",
       "      <td>False</td>\n",
       "    </tr>\n",
       "    <tr>\n",
       "      <th>3108</th>\n",
       "      <td>600516</td>\n",
       "      <td>20180420</td>\n",
       "      <td>超级大盘</td>\n",
       "      <td>20180320</td>\n",
       "      <td>大盘</td>\n",
       "      <td>False</td>\n",
       "    </tr>\n",
       "    <tr>\n",
       "      <th>3140</th>\n",
       "      <td>000018</td>\n",
       "      <td>20180420</td>\n",
       "      <td>中盘</td>\n",
       "      <td>20180320</td>\n",
       "      <td>小盘</td>\n",
       "      <td>False</td>\n",
       "    </tr>\n",
       "    <tr>\n",
       "      <th>3143</th>\n",
       "      <td>000021</td>\n",
       "      <td>20180420</td>\n",
       "      <td>大盘</td>\n",
       "      <td>20180320</td>\n",
       "      <td>中盘</td>\n",
       "      <td>False</td>\n",
       "    </tr>\n",
       "    <tr>\n",
       "      <th>3193</th>\n",
       "      <td>600075</td>\n",
       "      <td>20180420</td>\n",
       "      <td>小盘</td>\n",
       "      <td>20180320</td>\n",
       "      <td>中盘</td>\n",
       "      <td>False</td>\n",
       "    </tr>\n",
       "    <tr>\n",
       "      <th>3223</th>\n",
       "      <td>603366</td>\n",
       "      <td>20180420</td>\n",
       "      <td>小盘</td>\n",
       "      <td>20180320</td>\n",
       "      <td>中盘</td>\n",
       "      <td>False</td>\n",
       "    </tr>\n",
       "    <tr>\n",
       "      <th>3257</th>\n",
       "      <td>603515</td>\n",
       "      <td>20180420</td>\n",
       "      <td>中盘</td>\n",
       "      <td>20180320</td>\n",
       "      <td>小盘</td>\n",
       "      <td>False</td>\n",
       "    </tr>\n",
       "    <tr>\n",
       "      <th>3276</th>\n",
       "      <td>000532</td>\n",
       "      <td>20180420</td>\n",
       "      <td>小盘</td>\n",
       "      <td>20180320</td>\n",
       "      <td>中盘</td>\n",
       "      <td>False</td>\n",
       "    </tr>\n",
       "    <tr>\n",
       "      <th>3286</th>\n",
       "      <td>002439</td>\n",
       "      <td>20180420</td>\n",
       "      <td>大盘</td>\n",
       "      <td>20180320</td>\n",
       "      <td>中盘</td>\n",
       "      <td>False</td>\n",
       "    </tr>\n",
       "    <tr>\n",
       "      <th>3297</th>\n",
       "      <td>300183</td>\n",
       "      <td>20180420</td>\n",
       "      <td>中盘</td>\n",
       "      <td>20180320</td>\n",
       "      <td>小盘</td>\n",
       "      <td>False</td>\n",
       "    </tr>\n",
       "    <tr>\n",
       "      <th>3311</th>\n",
       "      <td>300198</td>\n",
       "      <td>20180420</td>\n",
       "      <td>中盘</td>\n",
       "      <td>20180320</td>\n",
       "      <td>小盘</td>\n",
       "      <td>False</td>\n",
       "    </tr>\n",
       "    <tr>\n",
       "      <th>3327</th>\n",
       "      <td>600666</td>\n",
       "      <td>20180420</td>\n",
       "      <td>大盘</td>\n",
       "      <td>20180320</td>\n",
       "      <td>中盘</td>\n",
       "      <td>False</td>\n",
       "    </tr>\n",
       "    <tr>\n",
       "      <th>3335</th>\n",
       "      <td>600677</td>\n",
       "      <td>20180420</td>\n",
       "      <td>中盘</td>\n",
       "      <td>20180320</td>\n",
       "      <td>小盘</td>\n",
       "      <td>False</td>\n",
       "    </tr>\n",
       "    <tr>\n",
       "      <th>3343</th>\n",
       "      <td>600685</td>\n",
       "      <td>20180420</td>\n",
       "      <td>大盘</td>\n",
       "      <td>20180320</td>\n",
       "      <td>中盘</td>\n",
       "      <td>False</td>\n",
       "    </tr>\n",
       "    <tr>\n",
       "      <th>3374</th>\n",
       "      <td>000938</td>\n",
       "      <td>20180420</td>\n",
       "      <td>大盘</td>\n",
       "      <td>20180320</td>\n",
       "      <td>中盘</td>\n",
       "      <td>False</td>\n",
       "    </tr>\n",
       "    <tr>\n",
       "      <th>3383</th>\n",
       "      <td>000957</td>\n",
       "      <td>20180420</td>\n",
       "      <td>小盘</td>\n",
       "      <td>20180320</td>\n",
       "      <td>中盘</td>\n",
       "      <td>False</td>\n",
       "    </tr>\n",
       "    <tr>\n",
       "      <th>3385</th>\n",
       "      <td>000959</td>\n",
       "      <td>20180420</td>\n",
       "      <td>中盘</td>\n",
       "      <td>20180320</td>\n",
       "      <td>大盘</td>\n",
       "      <td>False</td>\n",
       "    </tr>\n",
       "    <tr>\n",
       "      <th>3394</th>\n",
       "      <td>002352</td>\n",
       "      <td>20180420</td>\n",
       "      <td>超级大盘</td>\n",
       "      <td>20180320</td>\n",
       "      <td>大盘</td>\n",
       "      <td>False</td>\n",
       "    </tr>\n",
       "    <tr>\n",
       "      <th>3398</th>\n",
       "      <td>002650</td>\n",
       "      <td>20180420</td>\n",
       "      <td>中盘</td>\n",
       "      <td>20180320</td>\n",
       "      <td>小盘</td>\n",
       "      <td>False</td>\n",
       "    </tr>\n",
       "    <tr>\n",
       "      <th>3412</th>\n",
       "      <td>300158</td>\n",
       "      <td>20180420</td>\n",
       "      <td>中盘</td>\n",
       "      <td>20180320</td>\n",
       "      <td>小盘</td>\n",
       "      <td>False</td>\n",
       "    </tr>\n",
       "    <tr>\n",
       "      <th>3437</th>\n",
       "      <td>600216</td>\n",
       "      <td>20180420</td>\n",
       "      <td>中盘</td>\n",
       "      <td>20180320</td>\n",
       "      <td>大盘</td>\n",
       "      <td>False</td>\n",
       "    </tr>\n",
       "    <tr>\n",
       "      <th>3447</th>\n",
       "      <td>600688</td>\n",
       "      <td>20180420</td>\n",
       "      <td>超级大盘</td>\n",
       "      <td>20180320</td>\n",
       "      <td>大盘</td>\n",
       "      <td>False</td>\n",
       "    </tr>\n",
       "    <tr>\n",
       "      <th>3462</th>\n",
       "      <td>601799</td>\n",
       "      <td>20180420</td>\n",
       "      <td>大盘</td>\n",
       "      <td>20180320</td>\n",
       "      <td>中盘</td>\n",
       "      <td>False</td>\n",
       "    </tr>\n",
       "    <tr>\n",
       "      <th>3488</th>\n",
       "      <td>000868</td>\n",
       "      <td>20180420</td>\n",
       "      <td>小盘</td>\n",
       "      <td>20180320</td>\n",
       "      <td>中盘</td>\n",
       "      <td>False</td>\n",
       "    </tr>\n",
       "    <tr>\n",
       "      <th>3510</th>\n",
       "      <td>002364</td>\n",
       "      <td>20180420</td>\n",
       "      <td>中盘</td>\n",
       "      <td>20180320</td>\n",
       "      <td>小盘</td>\n",
       "      <td>False</td>\n",
       "    </tr>\n",
       "    <tr>\n",
       "      <th>3522</th>\n",
       "      <td>002669</td>\n",
       "      <td>20180420</td>\n",
       "      <td>中盘</td>\n",
       "      <td>20180320</td>\n",
       "      <td>小盘</td>\n",
       "      <td>False</td>\n",
       "    </tr>\n",
       "    <tr>\n",
       "      <th>3554</th>\n",
       "      <td>600007</td>\n",
       "      <td>20180420</td>\n",
       "      <td>中盘</td>\n",
       "      <td>20180320</td>\n",
       "      <td>大盘</td>\n",
       "      <td>False</td>\n",
       "    </tr>\n",
       "    <tr>\n",
       "      <th>3560</th>\n",
       "      <td>600624</td>\n",
       "      <td>20180420</td>\n",
       "      <td>中盘</td>\n",
       "      <td>20180320</td>\n",
       "      <td>小盘</td>\n",
       "      <td>False</td>\n",
       "    </tr>\n",
       "    <tr>\n",
       "      <th>3561</th>\n",
       "      <td>600626</td>\n",
       "      <td>20180420</td>\n",
       "      <td>小盘</td>\n",
       "      <td>20180320</td>\n",
       "      <td>中盘</td>\n",
       "      <td>False</td>\n",
       "    </tr>\n",
       "  </tbody>\n",
       "</table>\n",
       "<p>169 rows × 6 columns</p>\n",
       "</div>"
      ],
      "text/plain": [
       "      ticker  trade_date_x market_value_style_x  trade_date_y  \\\n",
       "23    002246      20180420                   小盘      20180320   \n",
       "48    200550      20180420                   小盘      20180320   \n",
       "89    600321      20180420                   小盘      20180320   \n",
       "106   601366      20180420                   中盘      20180320   \n",
       "110   601377      20180420                 超级大盘      20180320   \n",
       "128   002285      20180420                   中盘      20180320   \n",
       "139   002628      20180420                   小盘      20180320   \n",
       "143   002632      20180420                   中盘      20180320   \n",
       "157   300133      20180420                   中盘      20180320   \n",
       "183   600655      20180420                   大盘      20180320   \n",
       "225   002127      20180420                   中盘      20180320   \n",
       "233   002683      20180420                   中盘      20180320   \n",
       "239   002689      20180420                   小盘      20180320   \n",
       "241   002691      20180420                   中盘      20180320   \n",
       "244   002694      20180420                   小盘      20180320   \n",
       "273   600487      20180420                   大盘      20180320   \n",
       "290   601877      20180420                 超级大盘      20180320   \n",
       "318   002507      20180420                   大盘      20180320   \n",
       "340   002742      20180420                   小盘      20180320   \n",
       "393   601969      20180420                   大盘      20180320   \n",
       "413   002077      20180420                   中盘      20180320   \n",
       "422   002086      20180420                   小盘      20180320   \n",
       "432   002575      20180420                   小盘      20180320   \n",
       "467   600523      20180420                   中盘      20180320   \n",
       "473   600530      20180420                   中盘      20180320   \n",
       "476   600533      20180420                   中盘      20180320   \n",
       "477   600535      20180420                 超级大盘      20180320   \n",
       "503   000059      20180420                   中盘      20180320   \n",
       "544   300075      20180420                   中盘      20180320   \n",
       "551   300418      20180420                   中盘      20180320   \n",
       "...      ...           ...                  ...           ...   \n",
       "3070  002427      20180420                   小盘      20180320   \n",
       "3079  300014      20180420                   中盘      20180320   \n",
       "3108  600516      20180420                 超级大盘      20180320   \n",
       "3140  000018      20180420                   中盘      20180320   \n",
       "3143  000021      20180420                   大盘      20180320   \n",
       "3193  600075      20180420                   小盘      20180320   \n",
       "3223  603366      20180420                   小盘      20180320   \n",
       "3257  603515      20180420                   中盘      20180320   \n",
       "3276  000532      20180420                   小盘      20180320   \n",
       "3286  002439      20180420                   大盘      20180320   \n",
       "3297  300183      20180420                   中盘      20180320   \n",
       "3311  300198      20180420                   中盘      20180320   \n",
       "3327  600666      20180420                   大盘      20180320   \n",
       "3335  600677      20180420                   中盘      20180320   \n",
       "3343  600685      20180420                   大盘      20180320   \n",
       "3374  000938      20180420                   大盘      20180320   \n",
       "3383  000957      20180420                   小盘      20180320   \n",
       "3385  000959      20180420                   中盘      20180320   \n",
       "3394  002352      20180420                 超级大盘      20180320   \n",
       "3398  002650      20180420                   中盘      20180320   \n",
       "3412  300158      20180420                   中盘      20180320   \n",
       "3437  600216      20180420                   中盘      20180320   \n",
       "3447  600688      20180420                 超级大盘      20180320   \n",
       "3462  601799      20180420                   大盘      20180320   \n",
       "3488  000868      20180420                   小盘      20180320   \n",
       "3510  002364      20180420                   中盘      20180320   \n",
       "3522  002669      20180420                   中盘      20180320   \n",
       "3554  600007      20180420                   中盘      20180320   \n",
       "3560  600624      20180420                   中盘      20180320   \n",
       "3561  600626      20180420                   小盘      20180320   \n",
       "\n",
       "     market_value_style_y  equal  \n",
       "23                     中盘  False  \n",
       "48                     中盘  False  \n",
       "89                     中盘  False  \n",
       "106                    小盘  False  \n",
       "110                    大盘  False  \n",
       "128                    大盘  False  \n",
       "139                    中盘  False  \n",
       "143                    小盘  False  \n",
       "157                    大盘  False  \n",
       "183                    中盘  False  \n",
       "225                    大盘  False  \n",
       "233                    小盘  False  \n",
       "239                    中盘  False  \n",
       "241                    小盘  False  \n",
       "244                    中盘  False  \n",
       "273                  超级大盘  False  \n",
       "290                    大盘  False  \n",
       "318                    中盘  False  \n",
       "340                    中盘  False  \n",
       "393                    中盘  False  \n",
       "413                    小盘  False  \n",
       "422                    中盘  False  \n",
       "432                    中盘  False  \n",
       "467                    小盘  False  \n",
       "473                    小盘  False  \n",
       "476                    小盘  False  \n",
       "477                    大盘  False  \n",
       "503                    大盘  False  \n",
       "544                    小盘  False  \n",
       "551                    大盘  False  \n",
       "...                   ...    ...  \n",
       "3070                   中盘  False  \n",
       "3079                   大盘  False  \n",
       "3108                   大盘  False  \n",
       "3140                   小盘  False  \n",
       "3143                   中盘  False  \n",
       "3193                   中盘  False  \n",
       "3223                   中盘  False  \n",
       "3257                   小盘  False  \n",
       "3276                   中盘  False  \n",
       "3286                   中盘  False  \n",
       "3297                   小盘  False  \n",
       "3311                   小盘  False  \n",
       "3327                   中盘  False  \n",
       "3335                   小盘  False  \n",
       "3343                   中盘  False  \n",
       "3374                   中盘  False  \n",
       "3383                   中盘  False  \n",
       "3385                   大盘  False  \n",
       "3394                   大盘  False  \n",
       "3398                   小盘  False  \n",
       "3412                   小盘  False  \n",
       "3437                   大盘  False  \n",
       "3447                   大盘  False  \n",
       "3462                   中盘  False  \n",
       "3488                   中盘  False  \n",
       "3510                   小盘  False  \n",
       "3522                   小盘  False  \n",
       "3554                   大盘  False  \n",
       "3560                   小盘  False  \n",
       "3561                   中盘  False  \n",
       "\n",
       "[169 rows x 6 columns]"
      ]
     },
     "execution_count": 48,
     "metadata": {},
     "output_type": "execute_result"
    }
   ],
   "source": [
    "df = df1.merge(df2, on='ticker')\n",
    "df['equal'] = False\n",
    "\n",
    "# df['equal'] = df.apply(lambda x: True if x[market_value_style_x] == x[market_value_style_y])\n",
    "\n",
    "df[df.market_value_style_x != df.market_value_style_y]"
   ]
  },
  {
   "cell_type": "code",
   "execution_count": 49,
   "metadata": {},
   "outputs": [
    {
     "data": {
      "text/html": [
       "<div>\n",
       "<style scoped>\n",
       "    .dataframe tbody tr th:only-of-type {\n",
       "        vertical-align: middle;\n",
       "    }\n",
       "\n",
       "    .dataframe tbody tr th {\n",
       "        vertical-align: top;\n",
       "    }\n",
       "\n",
       "    .dataframe thead th {\n",
       "        text-align: right;\n",
       "    }\n",
       "</style>\n",
       "<table border=\"1\" class=\"dataframe\">\n",
       "  <thead>\n",
       "    <tr style=\"text-align: right;\">\n",
       "      <th></th>\n",
       "      <th>ticker</th>\n",
       "      <th>trade_date_x</th>\n",
       "      <th>market_value_style_x</th>\n",
       "      <th>trade_date_y</th>\n",
       "      <th>market_value_style_y</th>\n",
       "      <th>equal</th>\n",
       "    </tr>\n",
       "  </thead>\n",
       "  <tbody>\n",
       "    <tr>\n",
       "      <th>0</th>\n",
       "      <td>000917</td>\n",
       "      <td>20180420</td>\n",
       "      <td>中盘</td>\n",
       "      <td>20180320</td>\n",
       "      <td>中盘</td>\n",
       "      <td>False</td>\n",
       "    </tr>\n",
       "    <tr>\n",
       "      <th>1</th>\n",
       "      <td>000918</td>\n",
       "      <td>20180420</td>\n",
       "      <td>中盘</td>\n",
       "      <td>20180320</td>\n",
       "      <td>中盘</td>\n",
       "      <td>False</td>\n",
       "    </tr>\n",
       "    <tr>\n",
       "      <th>2</th>\n",
       "      <td>000919</td>\n",
       "      <td>20180420</td>\n",
       "      <td>小盘</td>\n",
       "      <td>20180320</td>\n",
       "      <td>小盘</td>\n",
       "      <td>False</td>\n",
       "    </tr>\n",
       "    <tr>\n",
       "      <th>3</th>\n",
       "      <td>000920</td>\n",
       "      <td>20180420</td>\n",
       "      <td>小盘</td>\n",
       "      <td>20180320</td>\n",
       "      <td>小盘</td>\n",
       "      <td>False</td>\n",
       "    </tr>\n",
       "    <tr>\n",
       "      <th>4</th>\n",
       "      <td>000921</td>\n",
       "      <td>20180420</td>\n",
       "      <td>中盘</td>\n",
       "      <td>20180320</td>\n",
       "      <td>中盘</td>\n",
       "      <td>False</td>\n",
       "    </tr>\n",
       "  </tbody>\n",
       "</table>\n",
       "</div>"
      ],
      "text/plain": [
       "   ticker  trade_date_x market_value_style_x  trade_date_y  \\\n",
       "0  000917      20180420                   中盘      20180320   \n",
       "1  000918      20180420                   中盘      20180320   \n",
       "2  000919      20180420                   小盘      20180320   \n",
       "3  000920      20180420                   小盘      20180320   \n",
       "4  000921      20180420                   中盘      20180320   \n",
       "\n",
       "  market_value_style_y  equal  \n",
       "0                   中盘  False  \n",
       "1                   中盘  False  \n",
       "2                   小盘  False  \n",
       "3                   小盘  False  \n",
       "4                   中盘  False  "
      ]
     },
     "execution_count": 49,
     "metadata": {},
     "output_type": "execute_result"
    }
   ],
   "source": [
    "df.head()"
   ]
  },
  {
   "cell_type": "code",
   "execution_count": 25,
   "metadata": {},
   "outputs": [
    {
     "data": {
      "image/png": "[encoded data removed]",
      "text/plain": [
       "<matplotlib.figure.Figure at 0x13548be0>"
      ]
     },
     "metadata": {},
     "output_type": "display_data"
    }
   ],
   "source": [
    "sql = \"\"\"\n",
    " select ticker, trade_date, market_value_style from stock_factor_tags  where ticker = '000861'\"\"\"\n",
    "df = pd.read_sql(sql, datayesdb_conn)\n",
    "plt.hist(df.market_value_style)\n",
    "plt.show()"
   ]
  },
  {
   "cell_type": "code",
   "execution_count": 26,
   "metadata": {},
   "outputs": [
    {
     "data": {
      "image/png": "[encoded data removed]",
      "text/plain": [
       "<matplotlib.figure.Figure at 0x137c6be0>"
      ]
     },
     "metadata": {},
     "output_type": "display_data"
    }
   ],
   "source": [
    "sql = \"\"\"\n",
    " select ticker, trade_date, market_value_style from stock_factor_tags  where ticker = '000001'\"\"\"\n",
    "df = pd.read_sql(sql, datayesdb_conn)\n",
    "plt.hist(df.market_value_style)\n",
    "plt.show()"
   ]
  },
  {
   "cell_type": "code",
   "execution_count": 27,
   "metadata": {},
   "outputs": [
    {
     "data": {
      "image/png": "[encoded data removed]",
      "text/plain": [
       "<matplotlib.figure.Figure at 0x13919588>"
      ]
     },
     "metadata": {},
     "output_type": "display_data"
    }
   ],
   "source": [
    "sql = \"\"\"\n",
    " select ticker, trade_date, market_value_style from stock_factor_tags  where ticker = '000002'\"\"\"\n",
    "df = pd.read_sql(sql, datayesdb_conn)\n",
    "plt.hist(df.market_value_style)\n",
    "plt.show()"
   ]
  },
  {
   "cell_type": "code",
   "execution_count": null,
   "metadata": {},
   "outputs": [],
   "source": []
  },
  {
   "cell_type": "code",
   "execution_count": 5,
   "metadata": {},
   "outputs": [],
   "source": [
    "import re\n",
    "import pymongo\n",
    "mongo_conn = pymongo.MongoClient(MONGO, connect=False)\n",
    "mongo_db = mongo_conn.get_database(\"dataifs\")\n",
    "collection='history_adjust'\n",
    "\n",
    "# r = mongo_db.solid_pdfs.find_one()\n",
    "# 总数\n",
    "# total = mongo_db.solid_pdfs.find().count()\n",
    "# print total"
   ]
  },
  {
   "cell_type": "code",
   "execution_count": 6,
   "metadata": {},
   "outputs": [],
   "source": [
    "status=['wait','doing','done']"
   ]
  },
  {
   "cell_type": "code",
   "execution_count": 7,
   "metadata": {},
   "outputs": [
    {
     "name": "stdout",
     "output_type": "stream",
     "text": [
      "('wait', 2020)\n",
      "('doing', 16)\n",
      "('done', 1894)\n"
     ]
    }
   ],
   "source": [
    "result = {}\n",
    "explode = []\n",
    "for k in status:\n",
    "    count = mongo_db.get_collection(collection).find({\"status\" : k}).count()\n",
    "    result[k] = count\n",
    "    print(k, count)\n",
    "    explode.append(0)\n",
    "# result"
   ]
  },
  {
   "cell_type": "code",
   "execution_count": 8,
   "metadata": {},
   "outputs": [
    {
     "name": "stdout",
     "output_type": "stream",
     "text": [
      "run"
     ]
    }
   ],
   "source": [
    "import sys\n",
    "x='run'\n",
    "sys.stdout.write(x)"
   ]
  },
  {
   "cell_type": "markdown",
   "metadata": {},
   "source": [
    "# 三个服务wait分别统计"
   ]
  },
  {
   "cell_type": "code",
   "execution_count": 9,
   "metadata": {},
   "outputs": [],
   "source": [
    "keys=['history_price_adjust','history_rating_adjust','history_profit_adjust']"
   ]
  },
  {
   "cell_type": "code",
   "execution_count": 10,
   "metadata": {},
   "outputs": [
    {
     "name": "stdout",
     "output_type": "stream",
     "text": [
      "('history_price_adjust', 1009)\n",
      "('history_rating_adjust', 1011)\n",
      "('history_profit_adjust', 0)\n"
     ]
    }
   ],
   "source": [
    "result = {}\n",
    "explode = []\n",
    "for k in keys:\n",
    "    count = mongo_db.get_collection(collection).find({\"status\" : 'wait', 'service':k}).count()\n",
    "    result[k] = count\n",
    "    print(k, count)\n",
    "    explode.append(0)\n",
    "# result"
   ]
  },
  {
   "cell_type": "code",
   "execution_count": 20,
   "metadata": {},
   "outputs": [
    {
     "name": "stdout",
     "output_type": "stream",
     "text": [
      "('history_price_adjust', 1009)\n",
      "('history_rating_adjust', 1010)\n",
      "('history_profit_adjust', 0)\n"
     ]
    }
   ],
   "source": [
    "result = {}\n",
    "explode = []\n",
    "for k in keys:\n",
    "    count = mongo_db.get_collection(collection).find({\"status\" : 'wait', 'service':k}).count()\n",
    "    result[k] = count\n",
    "    print(k, count)\n",
    "    explode.append(0)\n",
    "# result"
   ]
  },
  {
   "cell_type": "markdown",
   "metadata": {},
   "source": [
    "# 总运行时长"
   ]
  },
  {
   "cell_type": "code",
   "execution_count": 12,
   "metadata": {},
   "outputs": [
    {
     "data": {
      "text/plain": [
       "datetime.datetime(2019, 7, 15, 10, 21, 30, 10000)"
      ]
     },
     "execution_count": 12,
     "metadata": {},
     "output_type": "execute_result"
    }
   ],
   "source": [
    "from datetime import datetime\n",
    "datetime.fromtimestamp(1563157290.01)"
   ]
  },
  {
   "cell_type": "markdown",
   "metadata": {},
   "source": [
    "### 最早写入时间"
   ]
  },
  {
   "cell_type": "code",
   "execution_count": 13,
   "metadata": {},
   "outputs": [
    {
     "name": "stdout",
     "output_type": "stream",
     "text": [
      "2019-07-20 10:54:41.584241\n"
     ]
    }
   ],
   "source": [
    "for i in mongo_db.get_collection(collection).find({}).sort([(\"time1\",1)]).limit(1):\n",
    "    print(datetime.fromtimestamp(i['time1']))"
   ]
  },
  {
   "cell_type": "markdown",
   "metadata": {},
   "source": [
    "### 最晚写入时间"
   ]
  },
  {
   "cell_type": "code",
   "execution_count": 14,
   "metadata": {},
   "outputs": [
    {
     "name": "stdout",
     "output_type": "stream",
     "text": [
      "2019-08-02 15:08:18.535324\n"
     ]
    }
   ],
   "source": [
    "for i in mongo_db.get_collection(collection).find({}).sort([(\"time1\",-1)]).limit(1):\n",
    "    print(datetime.fromtimestamp(i['time1']))"
   ]
  },
  {
   "cell_type": "markdown",
   "metadata": {},
   "source": [
    "### 最早处理时间"
   ]
  },
  {
   "cell_type": "code",
   "execution_count": 15,
   "metadata": {},
   "outputs": [
    {
     "name": "stdout",
     "output_type": "stream",
     "text": [
      "2019-07-15 09:21:16.216430\n"
     ]
    }
   ],
   "source": [
    "for i in mongo_db.get_collection(collection).find({}).sort([(\"time2\",1)]).limit(1):\n",
    "    print(datetime.fromtimestamp(i['time2']))"
   ]
  },
  {
   "cell_type": "markdown",
   "metadata": {},
   "source": [
    "### 最晚处理时间"
   ]
  },
  {
   "cell_type": "code",
   "execution_count": 16,
   "metadata": {},
   "outputs": [
    {
     "name": "stdout",
     "output_type": "stream",
     "text": [
      "2019-08-02 15:08:18.532262\n"
     ]
    }
   ],
   "source": [
    "for i in mongo_db.get_collection(collection).find({}).sort([(\"time2\",-1)]).limit(1):\n",
    "    print(datetime.fromtimestamp(i['time2']))"
   ]
  },
  {
   "cell_type": "code",
   "execution_count": 17,
   "metadata": {},
   "outputs": [],
   "source": [
    "# mongo_db.get_collection(collection).aggregate({ \"$group\" : { \"_id\": , \"max\": { \"$max\" : \"$time1\" }}});"
   ]
  },
  {
   "cell_type": "code",
   "execution_count": 18,
   "metadata": {},
   "outputs": [
    {
     "ename": "IndentationError",
     "evalue": "expected an indented block (<ipython-input-18-0fa3d3aea414>, line 6)",
     "output_type": "error",
     "traceback": [
      "\u001b[1;36m  File \u001b[1;32m\"<ipython-input-18-0fa3d3aea414>\"\u001b[1;36m, line \u001b[1;32m6\u001b[0m\n\u001b[1;33m    #     print(i)\u001b[0m\n\u001b[1;37m                  ^\u001b[0m\n\u001b[1;31mIndentationError\u001b[0m\u001b[1;31m:\u001b[0m expected an indented block\n"
     ]
    }
   ],
   "source": [
    "for i in mongo_db.get_collection(collection).aggregate([{\n",
    "    \"$project\":{\n",
    "        \"t1\":{\"$max\":\"$time1\"}\n",
    "    }\n",
    "}]):\n",
    "#     print(i)"
   ]
  },
  {
   "cell_type": "code",
   "execution_count": null,
   "metadata": {},
   "outputs": [],
   "source": [
    "for item in mongo_db.get_collection(collection).find().max('time2'):\n",
    "    print item"
   ]
  },
  {
   "cell_type": "code",
   "execution_count": null,
   "metadata": {},
   "outputs": [],
   "source": [
    "import json\n",
    "import pymysql\n",
    "import pymssql\n",
    "# MySQL\n",
    "# QA\n",
    "# researchrpt={\"host\":\"10.24.21.34\",\"port\":3306,\"user\":\"app_researchrep\",\"passwd\":\"dG8pqlk5VKOMvDH\",\"db\":\"research_rpt\",\"charset\":\"utf8\"}\n",
    "# STG\n",
    "researchrpt={\"host\":\"db-researchrpt.wmcloud-stg.com\",\"port\":3313,\"user\":\"app_datarrp_rw\",\"passwd\":\"H63mXK77X91i5OGDn\",\"db\":\"research_rpt_prd\",\"charset\":\"utf8\"}\n",
    "# PRD\n",
    "# researchrpt={\"host\":\"db-researchrpt.wmcloud.com\",\"port\":3306,\"user\":\"app_researchrep\",\"passwd\":\"dG8pqlk5VKOMvDH\",\"db\":\"research_rpt\",\"charset\":\"utf8\"}\n",
    "\n",
    "\n",
    "bigdata={\"host\":\"real-stg01.datayes.com\",\"port\":3314,\"user\":\"app_talend_rw\",\"passwd\":\"KbcwQ32gamVR3sPw\",\"db\":\"bigdata\",\"charset\":\"utf8\"}\n",
    "\n",
    "\n",
    "researchrpt_conn = MysqlConn(json.dumps(researchrpt)).connect()\n",
    "\n"
   ]
  },
  {
   "cell_type": "markdown",
   "metadata": {},
   "source": [
    "import pandas as pd"
   ]
  },
  {
   "cell_type": "code",
   "execution_count": null,
   "metadata": {},
   "outputs": [],
   "source": [
    "sql=\"\"\"select * from rr_rating_adjust where THIS_RATING not in (0,1,2,3,5,7) or LAST_RATING not in (0,1,2,3,5,7)\"\"\"\n",
    "pd.read_sql(sql, researchrpt_conn).info()\n",
    "pd.read_sql(sql, researchrpt_conn).head()\n",
    "\n",
    "# delete from rr_rating_adjust where THIS_RATING not in (0,1,2,3,5,7) or LAST_RATING not in (0,1,2,3,5,7)"
   ]
  },
  {
   "cell_type": "code",
   "execution_count": null,
   "metadata": {},
   "outputs": [],
   "source": [
    "sql=\"\"\"\n",
    "select a.REPORT_ID, a.SEC_NAME AS \"调整表中的SEC_NAME\" ,b.SEC_NAME FROM rr_rating_adjust AS a, rr_main AS b\n",
    "WHERE a.REPORT_ID = b.ID AND a.SEC_NAME <> b.SEC_NAME\"\"\"\n",
    "pd.read_sql(sql, researchrpt_conn)"
   ]
  },
  {
   "cell_type": "code",
   "execution_count": null,
   "metadata": {},
   "outputs": [],
   "source": []
  },
  {
   "cell_type": "code",
   "execution_count": null,
   "metadata": {},
   "outputs": [],
   "source": [
    "sql=\"\"\"\n",
    "select * from rr_profit_adjust\"\"\"\n",
    "# base_df= pd.read_sql(sql, researchrpt_conn) "
   ]
  },
  {
   "cell_type": "code",
   "execution_count": null,
   "metadata": {},
   "outputs": [],
   "source": []
  },
  {
   "cell_type": "code",
   "execution_count": null,
   "metadata": {},
   "outputs": [],
   "source": [
    "sql=\"\"\"\n",
    "select * from rr_tar_price_adjust\"\"\"\n",
    "# base_df= pd.read_sql(sql, researchrpt_conn) "
   ]
  },
  {
   "cell_type": "code",
   "execution_count": null,
   "metadata": {},
   "outputs": [],
   "source": [
    "# base_df.head()"
   ]
  },
  {
   "cell_type": "code",
   "execution_count": null,
   "metadata": {},
   "outputs": [],
   "source": [
    "# base_df.groupby('THIS_WRITE_DATE').size()"
   ]
  },
  {
   "cell_type": "code",
   "execution_count": null,
   "metadata": {},
   "outputs": [],
   "source": [
    "sql=\"\"\"select id from con_stock_income c \n",
    ",(\n",
    "\tselect stock_code,tdate,rpt_date, insert_time from\n",
    "\t(\n",
    "\tselect stock_code,tdate,rpt_date, count(*) as c, min(insert_time)  as insert_time from con_stock_income\n",
    "\tgroup by stock_code,tdate,rpt_date) a\n",
    "\twhere a.c>1 ) b\n",
    "where b.stock_code=c.stock_code and b.rpt_date=c.rpt_date and b.tdate=c.tdate and c.insert_time>b.insert_time\n",
    "\n",
    "\"\"\"\n",
    "# base_df= pd.read_sql(sql, researchrpt_conn) \n"
   ]
  },
  {
   "cell_type": "code",
   "execution_count": null,
   "metadata": {},
   "outputs": [],
   "source": [
    "\n",
    "sql=\"\"\"\n",
    "SELECT a.* FROM rr_tar_price_adjust a, rr_tar_price_adjust b\n",
    "WHERE a.REPORT_ID = b.REPORT_ID AND a.LAST_WRITE_DATE = b.THIS_WRITE_DATE AND a.LAST_TAR_PRICE <> b.THIS_TAR_PRICE\"\"\"\n",
    "\n",
    "sql=\"\"\"select * from rr_tar_price_adjust\"\"\"\n",
    "# base_df= pd.read_sql(sql, researchrpt_conn) "
   ]
  },
  {
   "cell_type": "code",
   "execution_count": null,
   "metadata": {},
   "outputs": [],
   "source": [
    "\n",
    "sql=\"\"\"\n",
    "SELECT * FROM rr_main\n",
    "WHERE SEC_CODE='600009' and ORG_ID=7248\"\"\"\n",
    "\n",
    "pd.read_sql(sql, researchrpt_conn) "
   ]
  },
  {
   "cell_type": "code",
   "execution_count": null,
   "metadata": {},
   "outputs": [],
   "source": [
    "# base_df[(base_df.ORG_ID==7248) & (base_df.SEC_CODE=='600009')]"
   ]
  },
  {
   "cell_type": "code",
   "execution_count": null,
   "metadata": {},
   "outputs": [],
   "source": [
    "# # 一个机构只对本公司做过一次预测，其上次与本次的目标价应该一致 （4条）\n",
    "# df=base_df.groupby(['ORG_ID','SEC_CODE']).size().reset_index(name='c')\n",
    "# idx = df[df.c==1].index\n",
    "# base_df.iloc[idx][['ORG_ID','SEC_CODE','THIS_WRITE_DATE','LAST_WRITE_DATE','LAST_TAR_PRICE','THIS_TAR_PRICE']]\n",
    "\n",
    "# # base_df.head()\n",
    "# df['ORG_ID']=df['ORG_ID'].astype(int)\n",
    "\n",
    "# dfc = base_df.merge(df.iloc[idx], on=['ORG_ID','SEC_CODE'], how='right')[['ORG_ID','SEC_CODE','THIS_WRITE_DATE','LAST_WRITE_DATE','LAST_TAR_PRICE','THIS_TAR_PRICE']]\n",
    "# dfc[dfc.LAST_TAR_PRICE != dfc.THIS_TAR_PRICE]"
   ]
  },
  {
   "cell_type": "code",
   "execution_count": null,
   "metadata": {},
   "outputs": [],
   "source": []
  },
  {
   "cell_type": "code",
   "execution_count": null,
   "metadata": {},
   "outputs": [],
   "source": [
    "# 代码不是A股(21条)\n",
    "sql=\"\"\"\n",
    "\n",
    "select *\n",
    "from rr_tar_price_adjust\n",
    "where qa_active_flg='1'\n",
    "and (length(sec_code)<>'6'\n",
    "or substring(sec_code,1,1) not in ('0','2','3','6','9')\n",
    ");\"\"\"\n",
    "pd.read_sql(sql, researchrpt_conn)\n",
    "\n",
    "\"\"\"\n",
    "delete\n",
    "from rr_tar_price_adjust\n",
    "where qa_active_flg='1'\n",
    "and (length(sec_code)<>'6'\n",
    "or substring(sec_code,1,1) not in ('0','2','3','6','9')\n",
    ");\n",
    "\"\"\""
   ]
  },
  {
   "cell_type": "code",
   "execution_count": null,
   "metadata": {},
   "outputs": [],
   "source": [
    "\n",
    "# 证券名称和研报名字不一致（267条,大致浏览了下ID：54195有误）\n",
    "sql=\"\"\"\n",
    "select *\n",
    "from rr_tar_price_adjust\n",
    "where qa_active_flg='1'\n",
    "and (instr(title,sec_name)='0'\n",
    "or instr(title,sec_code)='0');\"\"\"\n",
    "pd.read_sql(sql, researchrpt_conn).head()"
   ]
  },
  {
   "cell_type": "code",
   "execution_count": null,
   "metadata": {},
   "outputs": [],
   "source": [
    "\n",
    "# 类型不为R04\n",
    "sql=\"\"\"select *\n",
    "from rr_tar_price_adjust\n",
    "where qa_active_flg='1'\n",
    "and REPORT_TYPE<>'R04';\n",
    "\"\"\"\n",
    "# pd.read_sql(sql, researchrpt_conn)"
   ]
  },
  {
   "cell_type": "code",
   "execution_count": null,
   "metadata": {},
   "outputs": [],
   "source": [
    "\n",
    "# 机构名称和机构id不一一对应(无)\n",
    "sql=\"\"\"\n",
    "select a.org_name,a.org_id,b.org_id\n",
    "from rr_tar_price_adjust a,rr_tar_price_adjust b\n",
    "where a.qa_active_flg='1'\n",
    "and b.qa_active_flg='1'\n",
    "and a.org_name=b.org_name\n",
    "and a.org_id<>b.org_id;\"\"\"\n",
    "\n",
    "sql=\"\"\"\n",
    "select distinct(org_name), org_id from rr_tar_price_adjust\"\"\"\n",
    "# df=pd.read_sql(sql, researchrpt_conn).groupby('org_name').size().reset_index(name='counts')\n",
    "# df[df.counts>1]"
   ]
  },
  {
   "cell_type": "code",
   "execution_count": null,
   "metadata": {},
   "outputs": [],
   "source": [
    "\n",
    "# 作者和机构不一一对应（10条，但是也有可能是重名）\n",
    "sql=\"\"\"\n",
    "select distinct a.author,a.org_id,b.org_id\n",
    "from rr_tar_price_adjust a,rr_tar_price_adjust b\n",
    "where a.qa_active_flg='1'\n",
    "and b.qa_active_flg='1'\n",
    "and a.author=b.author\n",
    "and a.org_id<>b.org_id\n",
    "order by a.author;\n",
    "\"\"\"\n",
    "\n",
    "sql=\"\"\"select distinct author, org_id from rr_tar_price_adjust\"\"\"\n",
    "# df=pd.read_sql(sql, researchrpt_conn).groupby('author').size().reset_index(name='counts')\n",
    "# df[df.counts>1]"
   ]
  },
  {
   "cell_type": "code",
   "execution_count": null,
   "metadata": {},
   "outputs": [],
   "source": [
    "\n",
    "\n",
    "# 上次撰写日期大于这次/未调不等于0，上调不等于1，下调不等于2,有一为空不为3（1条）\n",
    "sql=\"\"\"\n",
    "select distinct id,report_id,last_write_date,this_write_date,this_tar_price,last_tar_price,tar_price_mark\n",
    "from rr_tar_price_adjust\n",
    "where qa_active_flg='1'\n",
    "and (last_write_date>this_write_date\n",
    "or (\n",
    "(this_tar_price>last_tar_price and tar_price_mark<>1)\n",
    "or (this_tar_price=last_tar_price and tar_price_mark<>0)\n",
    "or (this_tar_price<last_tar_price and tar_price_mark<>2)\n",
    ")\n",
    "or (current_price='' or this_tar_price='' or last_tar_price='' \n",
    "and tar_price_mark<>3)\n",
    ");\"\"\"\n",
    "pd.read_sql(sql, researchrpt_conn)"
   ]
  },
  {
   "cell_type": "code",
   "execution_count": null,
   "metadata": {},
   "outputs": [],
   "source": [
    "# 券商名称不完整\n",
    "sql=\"\"\"\n",
    "SELECT a.REPORT_ID,a.ORG_NAME,b.ORG_NAME from rr_tar_price_adjust a, rr_main b\n",
    "where a.QA_ACTIVE_FLG=1 and b.QA_ACTIVE_FLG=1\n",
    "and a.REPORT_ID=b.ID\n",
    "and (a.ORG_NAME<>b.ORG_NAME)\"\"\"\n",
    "# pd.read_sql(sql, researchrpt_conn)\n",
    "\n",
    "sql=\"\"\"select report_id, org_name as a from rr_tar_price_adjust\"\"\"\n",
    "# df1 = pd.read_sql(sql, researchrpt_conn) \n",
    "\n",
    "sql = \"\"\"select id as report_id, org_name as bfrom rr_main\"\"\"\n",
    "# df2 = pd.read_sql(sql, researchrpt_conn) \n",
    "\n",
    "# df1.merge(df2, on=['report_id']).apply(lambda x: true if x.a==x.b else false)"
   ]
  },
  {
   "cell_type": "code",
   "execution_count": null,
   "metadata": {},
   "outputs": [],
   "source": [
    "# 同一研报ID，两个表中公司名称不一致（1条）\n",
    "sql=\"\"\"\n",
    "select a.REPORT_ID, a.SEC_NAME AS \"目标价调整表中的SEC_NAME\" ,b.SEC_NAME FROM rr_tar_price_adjust AS a, rr_main AS b\n",
    "WHERE a.REPORT_ID = b.ID AND a.SEC_NAME <> b.SEC_NAME\"\"\"\n",
    "\n",
    "# df2 = pd.read_sql(sql, researchrpt_conn) "
   ]
  },
  {
   "cell_type": "code",
   "execution_count": null,
   "metadata": {},
   "outputs": [],
   "source": [
    "# # 一个机构只对本公司做过一次预测，其上次与本次的目标价应该一致 （4条）\n",
    "# df=base_df.groupby(['ORG_ID','SEC_CODE']).size().reset_index(name='c')\n",
    "# idx = df[df.c==1].index\n",
    "# base_df.iloc[idx][['ORG_ID','SEC_CODE','THIS_WRITE_DATE','LAST_WRITE_DATE','LAST_TAR_PRICE','THIS_TAR_PRICE']]\n",
    "# # df.head()\n",
    "# # base_df.head()"
   ]
  },
  {
   "cell_type": "code",
   "execution_count": null,
   "metadata": {},
   "outputs": [],
   "source": []
  },
  {
   "cell_type": "code",
   "execution_count": null,
   "metadata": {},
   "outputs": [],
   "source": []
  },
  {
   "cell_type": "code",
   "execution_count": null,
   "metadata": {},
   "outputs": [],
   "source": []
  },
  {
   "cell_type": "code",
   "execution_count": null,
   "metadata": {},
   "outputs": [],
   "source": []
  },
  {
   "cell_type": "code",
   "execution_count": null,
   "metadata": {},
   "outputs": [],
   "source": []
  },
  {
   "cell_type": "code",
   "execution_count": null,
   "metadata": {},
   "outputs": [],
   "source": []
  },
  {
   "cell_type": "code",
   "execution_count": null,
   "metadata": {},
   "outputs": [],
   "source": []
  },
  {
   "cell_type": "code",
   "execution_count": null,
   "metadata": {},
   "outputs": [],
   "source": []
  },
  {
   "cell_type": "code",
   "execution_count": null,
   "metadata": {},
   "outputs": [],
   "source": []
  },
  {
   "cell_type": "code",
   "execution_count": null,
   "metadata": {},
   "outputs": [],
   "source": []
  },
  {
   "cell_type": "code",
   "execution_count": null,
   "metadata": {},
   "outputs": [],
   "source": []
  },
  {
   "cell_type": "code",
   "execution_count": null,
   "metadata": {},
   "outputs": [],
   "source": []
  },
  {
   "cell_type": "code",
   "execution_count": null,
   "metadata": {},
   "outputs": [],
   "source": []
  },
  {
   "cell_type": "code",
   "execution_count": null,
   "metadata": {},
   "outputs": [],
   "source": []
  },
  {
   "cell_type": "code",
   "execution_count": null,
   "metadata": {},
   "outputs": [],
   "source": []
  },
  {
   "cell_type": "code",
   "execution_count": null,
   "metadata": {},
   "outputs": [],
   "source": []
  },
  {
   "cell_type": "code",
   "execution_count": null,
   "metadata": {},
   "outputs": [],
   "source": []
  },
  {
   "cell_type": "code",
   "execution_count": null,
   "metadata": {},
   "outputs": [],
   "source": []
  }
 ],
 "metadata": {
  "kernelspec": {
   "display_name": "Python 2",
   "language": "python",
   "name": "python2"
  },
  "language_info": {
   "codemirror_mode": {
    "name": "ipython",
    "version": 2
   },
   "file_extension": ".py",
   "mimetype": "text/x-python",
   "name": "python",
   "nbconvert_exporter": "python",
   "pygments_lexer": "ipython2",
   "version": "2.7.11"
  }
 },
 "nbformat": 4,
 "nbformat_minor": 2
}
