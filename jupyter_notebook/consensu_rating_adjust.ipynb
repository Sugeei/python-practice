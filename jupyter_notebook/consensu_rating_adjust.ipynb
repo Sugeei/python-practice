{
 "cells": [
  {
   "cell_type": "markdown",
   "metadata": {},
   "source": [
    "# 一致预期评级表"
   ]
  },
  {
   "cell_type": "markdown",
   "metadata": {},
   "source": [
    "# R03"
   ]
  },
  {
   "cell_type": "code",
   "execution_count": 1,
   "metadata": {},
   "outputs": [],
   "source": [
    "\n",
    "class MysqlConn(object):\n",
    "    def __init__(self, config_json_str):\n",
    "        # self.mysql_config = {\"host\": \"10.22.128.150\",  \"port\": 3317, \"db\": \"bigdata\", \"user\": \"talend_load\",\n",
    "        #   \"passwd\": \"s9t5gNThn2vqWM7c\" , \"charset\" : \"utf8\"}\n",
    "        # self.mysql_config = {\"host\": \"db-bigdata.wmcloud-qa.com\",  \"port\": 3312, \"db\": \"bigdata\", \"user\": \"app_bigdata_ro\",\n",
    "        #   \"passwd\": \"Welcome_20141217\"}\n",
    "        self.mysql_config = json.loads(config_json_str, encoding='utf-8')\n",
    "\n",
    "    def connect(self):\n",
    "        mysql_conn = pymysql.connect(**self.mysql_config)\n",
    "        return mysql_conn\n",
    "\n",
    "class MssqlConn(object):\n",
    "    def __init__(self, config_json_str):\n",
    "        # self.mssql_config = {\"server\": \"sh-datayesdb.wmcloud-dev.com\",  \"port\": 1433, \"database\": \"datayesdb\",\n",
    "        #     \"user\": \"talend_load\", \"password\": \"Welcome01\"}\n",
    "        self.mssql_config = json.loads(config_json_str, encoding='utf-8')\n",
    "\n",
    "    def connect(self):\n",
    "        mssql_conn = pymssql.connect(**self.mssql_config)\n",
    "        return mssql_conn\n",
    "\n",
    "    def __str__(self):\n",
    "        return json.dumps(self.mssql_config, ensure_ascii=False, encoding='utf-8')\n",
    "\n"
   ]
  },
  {
   "cell_type": "code",
   "execution_count": 2,
   "metadata": {},
   "outputs": [],
   "source": [
    "import json\n",
    "import pymysql\n",
    "import pymssql\n",
    "# MySQL\n",
    "# bigdata={\"host\":\"security03-dev.datayes.com\",\"port\":3306,\"user\":\"talend_load\",\"passwd\":\"NCph1G9BQT3DuQj\",\"db\":\"bigdata\",\"charset\":\"utf8\"}\n",
    "# dateyesdbp={\"host\":\"db-datayesdb-ro.wmcloud.com\",\"port\":3313,\"user\":\"app_dataqa_ro\",\"passwd\":\"Welcome20140820\",\"db\":\"datayesdbp\",\"charset\":\"utf8\"}\n",
    "# datayesdb={\"host\":\"db-datayesdb-ro.wmcloud.com\",\"port\":3313,\"database\":\"datayesdb\",\"user\":\"app_gaea_ro\",\"password\":\"EQw6WquhnCKPp8Li\",\"charset\":\"utf8\"}\n",
    "\n",
    "# researchrpt={\"host\":\"db-researchrpt-ro.wmcloud.com\",\"port\":3306,\"user\":\"app_gaea_ro\",\"passwd\":\"UDVVkvULzakP2048\",\"db\":\"research_rpt\",\"charset\":\"utf8\"}\n",
    "# dev\n",
    "# researchrpt={\"host\":\"10.24.21.34\",\"port\":3306,\"user\":\"app_researchrep\",\"passwd\":\"dG8pqlk5VKOMvDH\",\"db\":\"research_rpt\",\"charset\":\"utf8\"}\n",
    "# prd\n",
    "researchrpt={\"host\":\"db-researchrpt.wmcloud.com\",\"port\":3306,\"user\":\"app_researchrep\",\"passwd\":\"dG8pqlk5VKOMvDH\",\"db\":\"research_rpt\",\"charset\":\"utf8\"}\n",
    "\n",
    "# SQLserver\n",
    "# datayes={\"server\":\"sh-dm-db05.datayes.com\",\"port\":1433,\"database\":\"dyedb\",\"user\":\"talend_load\",\"password\":\"s9t5gNThn2vqWM7c\",\"charset\":\"utf8\"}\n",
    "\n",
    "\n",
    "\n",
    "# bigdata_conn = MysqlConn(json.dumps(bigdata)).connect()\n",
    "# dateyesdbp_conn = MysqlConn(json.dumps(dateyesdbp)).connect()\n",
    "# datayesdb_conn = MysqlConn(json.dumps(datayesdb)).connect()\n",
    "researchrpt_conn = MysqlConn(json.dumps(researchrpt)).connect()\n",
    "\n",
    "# datayes_conn = MssqlConn(json.dumps(datayes)).connect()\n"
   ]
  },
  {
   "cell_type": "code",
   "execution_count": 3,
   "metadata": {},
   "outputs": [],
   "source": [
    "import pandas as pd\n",
    "import numpy as np\n",
    "from datetime import datetime, timedelta"
   ]
  },
  {
   "cell_type": "code",
   "execution_count": 81,
   "metadata": {},
   "outputs": [],
   "source": [
    "# base_df\n",
    "filter_str = \"CREATE_DATE\" # 根据 num 列分开1，2 后， 需要从num=1的数据中筛选出日期为查询日期的数据\n",
    "this_date_str = '2019-01-22'\n",
    "primary_key = [\"CODE\", \"ORGAN_ID\"] # 用于merge\n",
    "last_key = [\"CREATE_DATE\", \"SCORE_ID\"] # 同一个机构上次对本证券做的预测报告的撰写日期 同一个机构上次对本证券做的预测报告的评级"
   ]
  },
  {
   "cell_type": "code",
   "execution_count": 82,
   "metadata": {},
   "outputs": [],
   "source": [
    "sql = \"\"\"\n",
    "\n",
    "SELECT ORIGIN_ID, CODE, CODE_NAME, TITLE, AUTHOR, CREATE_DATE, SCORE_ID, ORGAN_ID, num\n",
    "FROM (\n",
    "\tSELECT ORIGIN_ID, CODE, CODE_NAME, TITLE, AUTHOR, CREATE_DATE, SCORE_ID, ORGAN_ID,\n",
    "\t\t   (@row_number:=\n",
    "\t\t\t   case when CODE = @pre_code and ORGAN_ID = @pre_organ_id\n",
    "\t\t\tthen @row_number+1\n",
    "\t\t\t else 1\n",
    "\t\t\tend\n",
    "\t\t   ) as num,\n",
    "\t\t(@pre_code := CODE),\n",
    "\t\t(@pre_organ_id := ORGAN_ID)\n",
    "\tFROM cmb_report_research,(select @row_number:=1,@pre_code:='',@pre_organ_id:='') a\n",
    "\twhere CREATE_DATE <= '%s 00:00:00'\n",
    "\torder by CODE,ORGAN_ID,CREATE_DATE desc\n",
    ") a\n",
    "where a.num<=2\n",
    "\"\"\" % (this_date_str)\n",
    "base_df = pd.read_sql(sql, researchrpt_conn)"
   ]
  },
  {
   "cell_type": "code",
   "execution_count": 83,
   "metadata": {},
   "outputs": [],
   "source": [
    "base_df['CODE'].replace(u'', np.nan, inplace=True)\n",
    "base_df['ORGAN_ID'].replace(u'', np.nan, inplace=True)\n",
    "base_df = base_df.dropna(subset=primary_key, how='any')"
   ]
  },
  {
   "cell_type": "code",
   "execution_count": 84,
   "metadata": {},
   "outputs": [
    {
     "data": {
      "text/plain": [
       "2264832"
      ]
     },
     "execution_count": 84,
     "metadata": {},
     "output_type": "execute_result"
    }
   ],
   "source": [
    "base_df.iloc[0].values[0]"
   ]
  },
  {
   "cell_type": "code",
   "execution_count": 85,
   "metadata": {},
   "outputs": [
    {
     "name": "stdout",
     "output_type": "stream",
     "text": [
      "<class 'pandas.core.frame.DataFrame'>\n",
      "Int64Index: 34482 entries, 18 to 34499\n",
      "Data columns (total 9 columns):\n",
      "ORIGIN_ID      34482 non-null int64\n",
      "CODE           34482 non-null object\n",
      "CODE_NAME      34482 non-null object\n",
      "TITLE          34482 non-null object\n",
      "AUTHOR         34416 non-null object\n",
      "CREATE_DATE    34482 non-null datetime64[ns]\n",
      "SCORE_ID       27753 non-null float64\n",
      "ORGAN_ID       34482 non-null int64\n",
      "num            34482 non-null float64\n",
      "dtypes: datetime64[ns](1), float64(2), int64(2), object(4)\n",
      "memory usage: 2.6+ MB\n"
     ]
    }
   ],
   "source": [
    "base_df.info()"
   ]
  },
  {
   "cell_type": "code",
   "execution_count": 86,
   "metadata": {},
   "outputs": [],
   "source": [
    "# 用num的值区分次序\n",
    "base_df[\"num\"] = base_df[\"num\"].astype(int)\n",
    "last_df = base_df[base_df[\"num\"]==2]\n",
    "last_df = last_df.drop(\"num\", 1)"
   ]
  },
  {
   "cell_type": "code",
   "execution_count": 87,
   "metadata": {},
   "outputs": [
    {
     "data": {
      "text/html": [
       "<div>\n",
       "<style scoped>\n",
       "    .dataframe tbody tr th:only-of-type {\n",
       "        vertical-align: middle;\n",
       "    }\n",
       "\n",
       "    .dataframe tbody tr th {\n",
       "        vertical-align: top;\n",
       "    }\n",
       "\n",
       "    .dataframe thead th {\n",
       "        text-align: right;\n",
       "    }\n",
       "</style>\n",
       "<table border=\"1\" class=\"dataframe\">\n",
       "  <thead>\n",
       "    <tr style=\"text-align: right;\">\n",
       "      <th></th>\n",
       "      <th>ORIGIN_ID</th>\n",
       "      <th>CODE</th>\n",
       "      <th>CODE_NAME</th>\n",
       "      <th>TITLE</th>\n",
       "      <th>AUTHOR</th>\n",
       "      <th>CREATE_DATE</th>\n",
       "      <th>SCORE_ID</th>\n",
       "      <th>ORGAN_ID</th>\n",
       "    </tr>\n",
       "  </thead>\n",
       "  <tbody>\n",
       "    <tr>\n",
       "      <th>19</th>\n",
       "      <td>2258023</td>\n",
       "      <td>000001</td>\n",
       "      <td>平安银行</td>\n",
       "      <td>11月策略：重点推荐兴业银行</td>\n",
       "      <td>邱冠华,袁梓芳,梁凤洁</td>\n",
       "      <td>2018-11-05</td>\n",
       "      <td>7.0</td>\n",
       "      <td>2</td>\n",
       "    </tr>\n",
       "    <tr>\n",
       "      <th>21</th>\n",
       "      <td>2255287</td>\n",
       "      <td>000001</td>\n",
       "      <td>平安银行</td>\n",
       "      <td>宁波银行持续领跑；关注贵阳银行资产质量</td>\n",
       "      <td>张帅帅</td>\n",
       "      <td>2018-10-30</td>\n",
       "      <td>0.0</td>\n",
       "      <td>3</td>\n",
       "    </tr>\n",
       "    <tr>\n",
       "      <th>24</th>\n",
       "      <td>2262895</td>\n",
       "      <td>000001</td>\n",
       "      <td>平安银行</td>\n",
       "      <td>经营平稳，收获价值</td>\n",
       "      <td>肖斐斐</td>\n",
       "      <td>2018-11-26</td>\n",
       "      <td>0.0</td>\n",
       "      <td>13</td>\n",
       "    </tr>\n",
       "    <tr>\n",
       "      <th>26</th>\n",
       "      <td>2141802</td>\n",
       "      <td>000001</td>\n",
       "      <td>平安银行</td>\n",
       "      <td>银行业：农行定增落地且获政策支持,“一委一行两会”监管框架形成</td>\n",
       "      <td>杨荣</td>\n",
       "      <td>2018-03-19</td>\n",
       "      <td>7.0</td>\n",
       "      <td>20</td>\n",
       "    </tr>\n",
       "    <tr>\n",
       "      <th>28</th>\n",
       "      <td>2154763</td>\n",
       "      <td>000001</td>\n",
       "      <td>平安银行</td>\n",
       "      <td>银行1季报前瞻：息差与资产质量稳步改善,规模增速低位运行</td>\n",
       "      <td>励雅敏,袁喆奇</td>\n",
       "      <td>2018-04-18</td>\n",
       "      <td>5.0</td>\n",
       "      <td>22</td>\n",
       "    </tr>\n",
       "  </tbody>\n",
       "</table>\n",
       "</div>"
      ],
      "text/plain": [
       "    ORIGIN_ID    CODE CODE_NAME                            TITLE       AUTHOR  \\\n",
       "19    2258023  000001      平安银行                   11月策略：重点推荐兴业银行  邱冠华,袁梓芳,梁凤洁   \n",
       "21    2255287  000001      平安银行              宁波银行持续领跑；关注贵阳银行资产质量          张帅帅   \n",
       "24    2262895  000001      平安银行                        经营平稳，收获价值          肖斐斐   \n",
       "26    2141802  000001      平安银行  银行业：农行定增落地且获政策支持,“一委一行两会”监管框架形成           杨荣   \n",
       "28    2154763  000001      平安银行     银行1季报前瞻：息差与资产质量稳步改善,规模增速低位运行      励雅敏,袁喆奇   \n",
       "\n",
       "   CREATE_DATE  SCORE_ID  ORGAN_ID  \n",
       "19  2018-11-05       7.0         2  \n",
       "21  2018-10-30       0.0         3  \n",
       "24  2018-11-26       0.0        13  \n",
       "26  2018-03-19       7.0        20  \n",
       "28  2018-04-18       5.0        22  "
      ]
     },
     "execution_count": 87,
     "metadata": {},
     "output_type": "execute_result"
    }
   ],
   "source": [
    "last_df.head()\n",
    "# last_df.loc[1, 'CODE']"
   ]
  },
  {
   "cell_type": "code",
   "execution_count": 88,
   "metadata": {},
   "outputs": [],
   "source": [
    "# last_df[['ORIGIN_ID']]"
   ]
  },
  {
   "cell_type": "code",
   "execution_count": 89,
   "metadata": {},
   "outputs": [],
   "source": [
    "base_df[filter_str] = base_df[filter_str].astype(str)\n",
    "\n",
    "this_df = base_df[(base_df[\"num\"]==1) & (base_df[filter_str]==this_date_str)]\n",
    "this_df = this_df.drop(\"num\", 1)\n"
   ]
  },
  {
   "cell_type": "code",
   "execution_count": 90,
   "metadata": {},
   "outputs": [],
   "source": [
    "if len(this_df) == 0:\n",
    "    # 说明没有目标数据， 可以返回\n",
    "    pass\n"
   ]
  },
  {
   "cell_type": "code",
   "execution_count": 91,
   "metadata": {},
   "outputs": [
    {
     "data": {
      "text/html": [
       "<div>\n",
       "<style scoped>\n",
       "    .dataframe tbody tr th:only-of-type {\n",
       "        vertical-align: middle;\n",
       "    }\n",
       "\n",
       "    .dataframe tbody tr th {\n",
       "        vertical-align: top;\n",
       "    }\n",
       "\n",
       "    .dataframe thead th {\n",
       "        text-align: right;\n",
       "    }\n",
       "</style>\n",
       "<table border=\"1\" class=\"dataframe\">\n",
       "  <thead>\n",
       "    <tr style=\"text-align: right;\">\n",
       "      <th></th>\n",
       "      <th>ORIGIN_ID</th>\n",
       "      <th>CODE</th>\n",
       "      <th>CODE_NAME</th>\n",
       "      <th>TITLE</th>\n",
       "      <th>AUTHOR</th>\n",
       "      <th>CREATE_DATE</th>\n",
       "      <th>SCORE_ID</th>\n",
       "      <th>ORGAN_ID</th>\n",
       "    </tr>\n",
       "  </thead>\n",
       "  <tbody>\n",
       "    <tr>\n",
       "      <th>31</th>\n",
       "      <td>3616257</td>\n",
       "      <td>000001</td>\n",
       "      <td>平安银行</td>\n",
       "      <td>四季度基金持仓分析：整体持仓小幅下滑，配置偏好业绩改善个股</td>\n",
       "      <td>王一川</td>\n",
       "      <td>2019-01-22</td>\n",
       "      <td>5.0</td>\n",
       "      <td>28</td>\n",
       "    </tr>\n",
       "    <tr>\n",
       "      <th>52</th>\n",
       "      <td>3602608</td>\n",
       "      <td>000002</td>\n",
       "      <td>万科A</td>\n",
       "      <td>地产12月观察：主要矛盾，和新的超预期</td>\n",
       "      <td>谢皓宇,卜文凯,白淑媛</td>\n",
       "      <td>2019-01-22</td>\n",
       "      <td>7.0</td>\n",
       "      <td>2</td>\n",
       "    </tr>\n",
       "    <tr>\n",
       "      <th>64</th>\n",
       "      <td>3604831</td>\n",
       "      <td>000002</td>\n",
       "      <td>万科A</td>\n",
       "      <td>房地产行业2019年1月跟踪报告：难得的错配</td>\n",
       "      <td>陈聪,张全国</td>\n",
       "      <td>2019-01-22</td>\n",
       "      <td>7.0</td>\n",
       "      <td>13</td>\n",
       "    </tr>\n",
       "    <tr>\n",
       "      <th>87</th>\n",
       "      <td>3604754</td>\n",
       "      <td>000002</td>\n",
       "      <td>万科A</td>\n",
       "      <td>2018年房地产投资销售保持高位运行</td>\n",
       "      <td>高建,张云凯</td>\n",
       "      <td>2019-01-22</td>\n",
       "      <td>5.0</td>\n",
       "      <td>119</td>\n",
       "    </tr>\n",
       "    <tr>\n",
       "      <th>123</th>\n",
       "      <td>3604916</td>\n",
       "      <td>000012</td>\n",
       "      <td>南玻A</td>\n",
       "      <td>建材行业周报：水泥行情望保持高位，关注基建补短板启动</td>\n",
       "      <td>中银国际研究所</td>\n",
       "      <td>2019-01-22</td>\n",
       "      <td>5.0</td>\n",
       "      <td>22</td>\n",
       "    </tr>\n",
       "  </tbody>\n",
       "</table>\n",
       "</div>"
      ],
      "text/plain": [
       "     ORIGIN_ID    CODE CODE_NAME                          TITLE       AUTHOR  \\\n",
       "31     3616257  000001      平安银行  四季度基金持仓分析：整体持仓小幅下滑，配置偏好业绩改善个股          王一川   \n",
       "52     3602608  000002       万科A            地产12月观察：主要矛盾，和新的超预期  谢皓宇,卜文凯,白淑媛   \n",
       "64     3604831  000002       万科A         房地产行业2019年1月跟踪报告：难得的错配       陈聪,张全国   \n",
       "87     3604754  000002       万科A             2018年房地产投资销售保持高位运行       高建,张云凯   \n",
       "123    3604916  000012       南玻A     建材行业周报：水泥行情望保持高位，关注基建补短板启动      中银国际研究所   \n",
       "\n",
       "    CREATE_DATE  SCORE_ID  ORGAN_ID  \n",
       "31   2019-01-22       5.0        28  \n",
       "52   2019-01-22       7.0         2  \n",
       "64   2019-01-22       7.0        13  \n",
       "87   2019-01-22       5.0       119  \n",
       "123  2019-01-22       5.0        22  "
      ]
     },
     "execution_count": 91,
     "metadata": {},
     "output_type": "execute_result"
    }
   ],
   "source": [
    "this_df.head()"
   ]
  },
  {
   "cell_type": "code",
   "execution_count": 92,
   "metadata": {},
   "outputs": [],
   "source": [
    "key = last_key + primary_key\n"
   ]
  },
  {
   "cell_type": "code",
   "execution_count": 93,
   "metadata": {},
   "outputs": [],
   "source": [
    "# merge_df = pd.merge(this_df, last_df[key], how='right', on=primary_key)"
   ]
  },
  {
   "cell_type": "code",
   "execution_count": 94,
   "metadata": {},
   "outputs": [],
   "source": [
    "\n",
    "merge_df = pd.merge(this_df, last_df[key], how='left', on=primary_key)"
   ]
  },
  {
   "cell_type": "code",
   "execution_count": 95,
   "metadata": {},
   "outputs": [],
   "source": [
    "merge_df = merge_df.dropna(subset=[\"CREATE_DATE_y\"])"
   ]
  },
  {
   "cell_type": "code",
   "execution_count": 96,
   "metadata": {},
   "outputs": [
    {
     "data": {
      "text/html": [
       "<div>\n",
       "<style scoped>\n",
       "    .dataframe tbody tr th:only-of-type {\n",
       "        vertical-align: middle;\n",
       "    }\n",
       "\n",
       "    .dataframe tbody tr th {\n",
       "        vertical-align: top;\n",
       "    }\n",
       "\n",
       "    .dataframe thead th {\n",
       "        text-align: right;\n",
       "    }\n",
       "</style>\n",
       "<table border=\"1\" class=\"dataframe\">\n",
       "  <thead>\n",
       "    <tr style=\"text-align: right;\">\n",
       "      <th></th>\n",
       "      <th>ORIGIN_ID</th>\n",
       "      <th>CODE</th>\n",
       "      <th>CODE_NAME</th>\n",
       "      <th>TITLE</th>\n",
       "      <th>AUTHOR</th>\n",
       "      <th>CREATE_DATE_x</th>\n",
       "      <th>SCORE_ID_x</th>\n",
       "      <th>ORGAN_ID</th>\n",
       "      <th>CREATE_DATE_y</th>\n",
       "      <th>SCORE_ID_y</th>\n",
       "    </tr>\n",
       "  </thead>\n",
       "  <tbody>\n",
       "    <tr>\n",
       "      <th>0</th>\n",
       "      <td>3616257</td>\n",
       "      <td>000001</td>\n",
       "      <td>平安银行</td>\n",
       "      <td>四季度基金持仓分析：整体持仓小幅下滑，配置偏好业绩改善个股</td>\n",
       "      <td>王一川</td>\n",
       "      <td>2019-01-22</td>\n",
       "      <td>5.0</td>\n",
       "      <td>28</td>\n",
       "      <td>2019-01-19</td>\n",
       "      <td>5.0</td>\n",
       "    </tr>\n",
       "    <tr>\n",
       "      <th>1</th>\n",
       "      <td>3602608</td>\n",
       "      <td>000002</td>\n",
       "      <td>万科A</td>\n",
       "      <td>地产12月观察：主要矛盾，和新的超预期</td>\n",
       "      <td>谢皓宇,卜文凯,白淑媛</td>\n",
       "      <td>2019-01-22</td>\n",
       "      <td>7.0</td>\n",
       "      <td>2</td>\n",
       "      <td>2019-01-13</td>\n",
       "      <td>7.0</td>\n",
       "    </tr>\n",
       "    <tr>\n",
       "      <th>2</th>\n",
       "      <td>3604831</td>\n",
       "      <td>000002</td>\n",
       "      <td>万科A</td>\n",
       "      <td>房地产行业2019年1月跟踪报告：难得的错配</td>\n",
       "      <td>陈聪,张全国</td>\n",
       "      <td>2019-01-22</td>\n",
       "      <td>7.0</td>\n",
       "      <td>13</td>\n",
       "      <td>2019-01-03</td>\n",
       "      <td>7.0</td>\n",
       "    </tr>\n",
       "    <tr>\n",
       "      <th>3</th>\n",
       "      <td>3604754</td>\n",
       "      <td>000002</td>\n",
       "      <td>万科A</td>\n",
       "      <td>2018年房地产投资销售保持高位运行</td>\n",
       "      <td>高建,张云凯</td>\n",
       "      <td>2019-01-22</td>\n",
       "      <td>5.0</td>\n",
       "      <td>119</td>\n",
       "      <td>2019-01-21</td>\n",
       "      <td>5.0</td>\n",
       "    </tr>\n",
       "    <tr>\n",
       "      <th>4</th>\n",
       "      <td>3604916</td>\n",
       "      <td>000012</td>\n",
       "      <td>南玻A</td>\n",
       "      <td>建材行业周报：水泥行情望保持高位，关注基建补短板启动</td>\n",
       "      <td>中银国际研究所</td>\n",
       "      <td>2019-01-22</td>\n",
       "      <td>5.0</td>\n",
       "      <td>22</td>\n",
       "      <td>2019-01-16</td>\n",
       "      <td>5.0</td>\n",
       "    </tr>\n",
       "  </tbody>\n",
       "</table>\n",
       "</div>"
      ],
      "text/plain": [
       "   ORIGIN_ID    CODE CODE_NAME                          TITLE       AUTHOR  \\\n",
       "0    3616257  000001      平安银行  四季度基金持仓分析：整体持仓小幅下滑，配置偏好业绩改善个股          王一川   \n",
       "1    3602608  000002       万科A            地产12月观察：主要矛盾，和新的超预期  谢皓宇,卜文凯,白淑媛   \n",
       "2    3604831  000002       万科A         房地产行业2019年1月跟踪报告：难得的错配       陈聪,张全国   \n",
       "3    3604754  000002       万科A             2018年房地产投资销售保持高位运行       高建,张云凯   \n",
       "4    3604916  000012       南玻A     建材行业周报：水泥行情望保持高位，关注基建补短板启动      中银国际研究所   \n",
       "\n",
       "  CREATE_DATE_x  SCORE_ID_x  ORGAN_ID CREATE_DATE_y  SCORE_ID_y  \n",
       "0    2019-01-22         5.0        28    2019-01-19         5.0  \n",
       "1    2019-01-22         7.0         2    2019-01-13         7.0  \n",
       "2    2019-01-22         7.0        13    2019-01-03         7.0  \n",
       "3    2019-01-22         5.0       119    2019-01-21         5.0  \n",
       "4    2019-01-22         5.0        22    2019-01-16         5.0  "
      ]
     },
     "execution_count": 96,
     "metadata": {},
     "output_type": "execute_result"
    }
   ],
   "source": [
    "merge_df.head()"
   ]
  },
  {
   "cell_type": "code",
   "execution_count": 97,
   "metadata": {},
   "outputs": [
    {
     "name": "stdout",
     "output_type": "stream",
     "text": [
      "<class 'pandas.core.frame.DataFrame'>\n",
      "Int64Index: 410 entries, 0 to 417\n",
      "Data columns (total 10 columns):\n",
      "ORIGIN_ID        410 non-null int64\n",
      "CODE             410 non-null object\n",
      "CODE_NAME        410 non-null object\n",
      "TITLE            410 non-null object\n",
      "AUTHOR           410 non-null object\n",
      "CREATE_DATE_x    410 non-null object\n",
      "SCORE_ID_x       410 non-null float64\n",
      "ORGAN_ID         410 non-null int64\n",
      "CREATE_DATE_y    410 non-null datetime64[ns]\n",
      "SCORE_ID_y       409 non-null float64\n",
      "dtypes: datetime64[ns](1), float64(2), int64(2), object(5)\n",
      "memory usage: 35.2+ KB\n"
     ]
    }
   ],
   "source": [
    "# merge 获取上一次最近的数据时， 若上一次数据为空，` 删除它们\n",
    "# merge_df = merge_df.dropna(subset=['WRITE_DATE_y'])\n",
    "merge_df.info()"
   ]
  },
  {
   "cell_type": "code",
   "execution_count": 98,
   "metadata": {},
   "outputs": [],
   "source": [
    "# cmb_report_research.ORGAN_ID=report_org_map.TGT_ORG_ID\n",
    "sql = \"\"\"SELECT distinct TGT_ORG_ID,TGT_ORG_NAME,TEXT1 FROM report_org_map\"\"\"\n",
    "refer_df = pd.read_sql(sql, researchrpt_conn)"
   ]
  },
  {
   "cell_type": "code",
   "execution_count": 42,
   "metadata": {},
   "outputs": [],
   "source": [
    "refer_df = refer_df.rename(columns = {\"TGT_ORG_ID\":\"ORGAN_ID\"})"
   ]
  },
  {
   "cell_type": "code",
   "execution_count": 43,
   "metadata": {},
   "outputs": [],
   "source": [
    "final_df = pd.merge(merge_df, refer_df, how='left', on='ORGAN_ID') "
   ]
  },
  {
   "cell_type": "code",
   "execution_count": 47,
   "metadata": {},
   "outputs": [],
   "source": [
    "final_df = final_df.drop('ORGAN_ID', axis=1)"
   ]
  },
  {
   "cell_type": "code",
   "execution_count": 48,
   "metadata": {},
   "outputs": [
    {
     "data": {
      "text/html": [
       "<div>\n",
       "<style scoped>\n",
       "    .dataframe tbody tr th:only-of-type {\n",
       "        vertical-align: middle;\n",
       "    }\n",
       "\n",
       "    .dataframe tbody tr th {\n",
       "        vertical-align: top;\n",
       "    }\n",
       "\n",
       "    .dataframe thead th {\n",
       "        text-align: right;\n",
       "    }\n",
       "</style>\n",
       "<table border=\"1\" class=\"dataframe\">\n",
       "  <thead>\n",
       "    <tr style=\"text-align: right;\">\n",
       "      <th></th>\n",
       "      <th>ORIGIN_ID</th>\n",
       "      <th>CODE</th>\n",
       "      <th>CODE_NAME</th>\n",
       "      <th>TITLE</th>\n",
       "      <th>AUTHOR</th>\n",
       "      <th>CREATE_DATE_x</th>\n",
       "      <th>SCORE_ID_x</th>\n",
       "      <th>CREATE_DATE_y</th>\n",
       "      <th>SCORE_ID_y</th>\n",
       "      <th>TGT_ORG_NAME</th>\n",
       "      <th>TEXT1</th>\n",
       "    </tr>\n",
       "  </thead>\n",
       "  <tbody>\n",
       "    <tr>\n",
       "      <th>0</th>\n",
       "      <td>3602751</td>\n",
       "      <td></td>\n",
       "      <td>中集安瑞科</td>\n",
       "      <td>油气勘探开发力度提升，光伏设备投产需求旺盛</td>\n",
       "      <td>孔令鑫,张梓丁</td>\n",
       "      <td>2019-01-22</td>\n",
       "      <td>0.0</td>\n",
       "      <td>2018-10-24</td>\n",
       "      <td>0.0</td>\n",
       "      <td>中金</td>\n",
       "      <td>26455</td>\n",
       "    </tr>\n",
       "    <tr>\n",
       "      <th>1</th>\n",
       "      <td>3616257</td>\n",
       "      <td>000001</td>\n",
       "      <td>平安银行</td>\n",
       "      <td>四季度基金持仓分析：整体持仓小幅下滑，配置偏好业绩改善个股</td>\n",
       "      <td>王一川</td>\n",
       "      <td>2019-01-22</td>\n",
       "      <td>5.0</td>\n",
       "      <td>2019-01-13</td>\n",
       "      <td>5.0</td>\n",
       "      <td>长江证券</td>\n",
       "      <td>345</td>\n",
       "    </tr>\n",
       "    <tr>\n",
       "      <th>2</th>\n",
       "      <td>3602608</td>\n",
       "      <td>000002</td>\n",
       "      <td>万科A</td>\n",
       "      <td>地产12月观察：主要矛盾，和新的超预期</td>\n",
       "      <td>谢皓宇,卜文凯,白淑媛</td>\n",
       "      <td>2019-01-22</td>\n",
       "      <td>7.0</td>\n",
       "      <td>2019-01-13</td>\n",
       "      <td>7.0</td>\n",
       "      <td>国泰君安</td>\n",
       "      <td>1786</td>\n",
       "    </tr>\n",
       "    <tr>\n",
       "      <th>3</th>\n",
       "      <td>3604831</td>\n",
       "      <td>000002</td>\n",
       "      <td>万科A</td>\n",
       "      <td>房地产行业2019年1月跟踪报告：难得的错配</td>\n",
       "      <td>陈聪,张全国</td>\n",
       "      <td>2019-01-22</td>\n",
       "      <td>7.0</td>\n",
       "      <td>2019-01-03</td>\n",
       "      <td>7.0</td>\n",
       "      <td>中信证券</td>\n",
       "      <td>625</td>\n",
       "    </tr>\n",
       "    <tr>\n",
       "      <th>4</th>\n",
       "      <td>3604754</td>\n",
       "      <td>000002</td>\n",
       "      <td>万科A</td>\n",
       "      <td>2018年房地产投资销售保持高位运行</td>\n",
       "      <td>高建,张云凯</td>\n",
       "      <td>2019-01-22</td>\n",
       "      <td>5.0</td>\n",
       "      <td>2019-01-07</td>\n",
       "      <td>5.0</td>\n",
       "      <td>东北证券</td>\n",
       "      <td>272</td>\n",
       "    </tr>\n",
       "  </tbody>\n",
       "</table>\n",
       "</div>"
      ],
      "text/plain": [
       "   ORIGIN_ID    CODE CODE_NAME                          TITLE       AUTHOR  \\\n",
       "0    3602751             中集安瑞科          油气勘探开发力度提升，光伏设备投产需求旺盛      孔令鑫,张梓丁   \n",
       "1    3616257  000001      平安银行  四季度基金持仓分析：整体持仓小幅下滑，配置偏好业绩改善个股          王一川   \n",
       "2    3602608  000002       万科A            地产12月观察：主要矛盾，和新的超预期  谢皓宇,卜文凯,白淑媛   \n",
       "3    3604831  000002       万科A         房地产行业2019年1月跟踪报告：难得的错配       陈聪,张全国   \n",
       "4    3604754  000002       万科A             2018年房地产投资销售保持高位运行       高建,张云凯   \n",
       "\n",
       "  CREATE_DATE_x  SCORE_ID_x CREATE_DATE_y  SCORE_ID_y TGT_ORG_NAME  TEXT1  \n",
       "0    2019-01-22         0.0    2018-10-24         0.0           中金  26455  \n",
       "1    2019-01-22         5.0    2019-01-13         5.0         长江证券    345  \n",
       "2    2019-01-22         7.0    2019-01-13         7.0         国泰君安   1786  \n",
       "3    2019-01-22         7.0    2019-01-03         7.0         中信证券    625  \n",
       "4    2019-01-22         5.0    2019-01-07         5.0         东北证券    272  "
      ]
     },
     "execution_count": 48,
     "metadata": {},
     "output_type": "execute_result"
    }
   ],
   "source": [
    "final_df.head()"
   ]
  },
  {
   "cell_type": "code",
   "execution_count": 49,
   "metadata": {},
   "outputs": [],
   "source": [
    "# # rename columns \n",
    "# REPORT_ID\n",
    "# SEC_CODE\n",
    "# SEC_NAME\n",
    "# TITLE\n",
    "# REPORT_TYPE\n",
    "# ORG_ID\n",
    "# ORG_NAME\n",
    "# AUTHOR\n",
    "# THIS_WRITE_DATE\n",
    "# LAST_WRITE_DATE\n",
    "# THIS_RATING\n",
    "# LAST_RATING\n",
    "\n",
    "final_df.columns = [\"REPORT_ID\",\"SEC_CODE\",\"SEC_NAME\",\"TITLE\",\"AUTHOR\",\"THIS_WRITE_DATE\",\"THIS_RATING\",\"LAST_WRITE_DATE\",\"LAST_RATING\",\"ORG_NAME\",\"ORG_ID\"]"
   ]
  },
  {
   "cell_type": "code",
   "execution_count": 50,
   "metadata": {},
   "outputs": [],
   "source": [
    "# 最后添加两个不用进行表查询的列\n",
    "final_df[\"REPORT_TYPE\"] = \"R03\""
   ]
  },
  {
   "cell_type": "code",
   "execution_count": 52,
   "metadata": {},
   "outputs": [],
   "source": [
    "final_df[\"RATING_ADJUST_MARK\"] = final_df[[\"THIS_RATING\", \"LAST_RATING\"]].apply(compare, axis=1)"
   ]
  },
  {
   "cell_type": "code",
   "execution_count": 53,
   "metadata": {},
   "outputs": [],
   "source": [
    "final_df[\"THIS_RATING\"] = final_df[\"THIS_RATING\"].fillna(0).astype(int)\n",
    "final_df[\"LAST_RATING\"] = final_df[\"LAST_RATING\"].fillna(0).astype(int)"
   ]
  },
  {
   "cell_type": "code",
   "execution_count": 54,
   "metadata": {},
   "outputs": [
    {
     "data": {
      "text/html": [
       "<div>\n",
       "<style scoped>\n",
       "    .dataframe tbody tr th:only-of-type {\n",
       "        vertical-align: middle;\n",
       "    }\n",
       "\n",
       "    .dataframe tbody tr th {\n",
       "        vertical-align: top;\n",
       "    }\n",
       "\n",
       "    .dataframe thead th {\n",
       "        text-align: right;\n",
       "    }\n",
       "</style>\n",
       "<table border=\"1\" class=\"dataframe\">\n",
       "  <thead>\n",
       "    <tr style=\"text-align: right;\">\n",
       "      <th></th>\n",
       "      <th>REPORT_ID</th>\n",
       "      <th>SEC_CODE</th>\n",
       "      <th>SEC_NAME</th>\n",
       "      <th>TITLE</th>\n",
       "      <th>AUTHOR</th>\n",
       "      <th>THIS_WRITE_DATE</th>\n",
       "      <th>THIS_RATING</th>\n",
       "      <th>LAST_WRITE_DATE</th>\n",
       "      <th>LAST_RATING</th>\n",
       "      <th>ORG_NAME</th>\n",
       "      <th>ORG_ID</th>\n",
       "      <th>REPORT_TYPE</th>\n",
       "      <th>RATING_ADJUST_MARK</th>\n",
       "    </tr>\n",
       "  </thead>\n",
       "  <tbody>\n",
       "    <tr>\n",
       "      <th>0</th>\n",
       "      <td>3602751</td>\n",
       "      <td></td>\n",
       "      <td>中集安瑞科</td>\n",
       "      <td>油气勘探开发力度提升，光伏设备投产需求旺盛</td>\n",
       "      <td>孔令鑫,张梓丁</td>\n",
       "      <td>2019-01-22</td>\n",
       "      <td>0</td>\n",
       "      <td>2018-10-24</td>\n",
       "      <td>0</td>\n",
       "      <td>中金</td>\n",
       "      <td>26455</td>\n",
       "      <td>R03</td>\n",
       "      <td>4</td>\n",
       "    </tr>\n",
       "    <tr>\n",
       "      <th>1</th>\n",
       "      <td>3616257</td>\n",
       "      <td>000001</td>\n",
       "      <td>平安银行</td>\n",
       "      <td>四季度基金持仓分析：整体持仓小幅下滑，配置偏好业绩改善个股</td>\n",
       "      <td>王一川</td>\n",
       "      <td>2019-01-22</td>\n",
       "      <td>5</td>\n",
       "      <td>2019-01-13</td>\n",
       "      <td>5</td>\n",
       "      <td>长江证券</td>\n",
       "      <td>345</td>\n",
       "      <td>R03</td>\n",
       "      <td>0</td>\n",
       "    </tr>\n",
       "    <tr>\n",
       "      <th>2</th>\n",
       "      <td>3602608</td>\n",
       "      <td>000002</td>\n",
       "      <td>万科A</td>\n",
       "      <td>地产12月观察：主要矛盾，和新的超预期</td>\n",
       "      <td>谢皓宇,卜文凯,白淑媛</td>\n",
       "      <td>2019-01-22</td>\n",
       "      <td>7</td>\n",
       "      <td>2019-01-13</td>\n",
       "      <td>7</td>\n",
       "      <td>国泰君安</td>\n",
       "      <td>1786</td>\n",
       "      <td>R03</td>\n",
       "      <td>0</td>\n",
       "    </tr>\n",
       "    <tr>\n",
       "      <th>3</th>\n",
       "      <td>3604831</td>\n",
       "      <td>000002</td>\n",
       "      <td>万科A</td>\n",
       "      <td>房地产行业2019年1月跟踪报告：难得的错配</td>\n",
       "      <td>陈聪,张全国</td>\n",
       "      <td>2019-01-22</td>\n",
       "      <td>7</td>\n",
       "      <td>2019-01-03</td>\n",
       "      <td>7</td>\n",
       "      <td>中信证券</td>\n",
       "      <td>625</td>\n",
       "      <td>R03</td>\n",
       "      <td>0</td>\n",
       "    </tr>\n",
       "    <tr>\n",
       "      <th>4</th>\n",
       "      <td>3604754</td>\n",
       "      <td>000002</td>\n",
       "      <td>万科A</td>\n",
       "      <td>2018年房地产投资销售保持高位运行</td>\n",
       "      <td>高建,张云凯</td>\n",
       "      <td>2019-01-22</td>\n",
       "      <td>5</td>\n",
       "      <td>2019-01-07</td>\n",
       "      <td>5</td>\n",
       "      <td>东北证券</td>\n",
       "      <td>272</td>\n",
       "      <td>R03</td>\n",
       "      <td>0</td>\n",
       "    </tr>\n",
       "  </tbody>\n",
       "</table>\n",
       "</div>"
      ],
      "text/plain": [
       "   REPORT_ID SEC_CODE SEC_NAME                          TITLE       AUTHOR  \\\n",
       "0    3602751             中集安瑞科          油气勘探开发力度提升，光伏设备投产需求旺盛      孔令鑫,张梓丁   \n",
       "1    3616257   000001     平安银行  四季度基金持仓分析：整体持仓小幅下滑，配置偏好业绩改善个股          王一川   \n",
       "2    3602608   000002      万科A            地产12月观察：主要矛盾，和新的超预期  谢皓宇,卜文凯,白淑媛   \n",
       "3    3604831   000002      万科A         房地产行业2019年1月跟踪报告：难得的错配       陈聪,张全国   \n",
       "4    3604754   000002      万科A             2018年房地产投资销售保持高位运行       高建,张云凯   \n",
       "\n",
       "  THIS_WRITE_DATE  THIS_RATING LAST_WRITE_DATE  LAST_RATING ORG_NAME ORG_ID  \\\n",
       "0      2019-01-22            0      2018-10-24            0       中金  26455   \n",
       "1      2019-01-22            5      2019-01-13            5     长江证券    345   \n",
       "2      2019-01-22            7      2019-01-13            7     国泰君安   1786   \n",
       "3      2019-01-22            7      2019-01-03            7     中信证券    625   \n",
       "4      2019-01-22            5      2019-01-07            5     东北证券    272   \n",
       "\n",
       "  REPORT_TYPE  RATING_ADJUST_MARK  \n",
       "0         R03                   4  \n",
       "1         R03                   0  \n",
       "2         R03                   0  \n",
       "3         R03                   0  \n",
       "4         R03                   0  "
      ]
     },
     "execution_count": 54,
     "metadata": {},
     "output_type": "execute_result"
    }
   ],
   "source": [
    "final_df.head()"
   ]
  },
  {
   "cell_type": "code",
   "execution_count": 44,
   "metadata": {},
   "outputs": [],
   "source": [
    "# refer_df"
   ]
  },
  {
   "cell_type": "code",
   "execution_count": null,
   "metadata": {},
   "outputs": [],
   "source": []
  },
  {
   "cell_type": "markdown",
   "metadata": {},
   "source": [
    "# 评级调整表"
   ]
  },
  {
   "cell_type": "markdown",
   "metadata": {},
   "source": [
    "# R04"
   ]
  },
  {
   "cell_type": "markdown",
   "metadata": {},
   "source": [
    "# 由于底层数据修正， 需要对上层数据做修正"
   ]
  },
  {
   "cell_type": "code",
   "execution_count": 6,
   "metadata": {},
   "outputs": [],
   "source": [
    "sql = \"\"\"SELECT ID, SEC_CODE, SEC_NAME, TITLE, AUTHOR, WRITE_DATE, RATING_ID, ORG_ID, ORG_NAME\n",
    "        from rr_main where SEC_CODE=%s and ORG_ID=%s\"\"\" % ('000001','2019-03-21')\n",
    "base_df = pd.read_sql(sql, researchrpt_conn)"
   ]
  },
  {
   "cell_type": "code",
   "execution_count": 7,
   "metadata": {},
   "outputs": [
    {
     "data": {
      "text/html": [
       "<div>\n",
       "<style scoped>\n",
       "    .dataframe tbody tr th:only-of-type {\n",
       "        vertical-align: middle;\n",
       "    }\n",
       "\n",
       "    .dataframe tbody tr th {\n",
       "        vertical-align: top;\n",
       "    }\n",
       "\n",
       "    .dataframe thead th {\n",
       "        text-align: right;\n",
       "    }\n",
       "</style>\n",
       "<table border=\"1\" class=\"dataframe\">\n",
       "  <thead>\n",
       "    <tr style=\"text-align: right;\">\n",
       "      <th></th>\n",
       "      <th>ID</th>\n",
       "      <th>SEC_CODE</th>\n",
       "      <th>SEC_NAME</th>\n",
       "      <th>TITLE</th>\n",
       "      <th>AUTHOR</th>\n",
       "      <th>WRITE_DATE</th>\n",
       "      <th>RATING_ID</th>\n",
       "      <th>ORG_ID</th>\n",
       "      <th>ORG_NAME</th>\n",
       "    </tr>\n",
       "  </thead>\n",
       "  <tbody>\n",
       "  </tbody>\n",
       "</table>\n",
       "</div>"
      ],
      "text/plain": [
       "Empty DataFrame\n",
       "Columns: [ID, SEC_CODE, SEC_NAME, TITLE, AUTHOR, WRITE_DATE, RATING_ID, ORG_ID, ORG_NAME]\n",
       "Index: []"
      ]
     },
     "execution_count": 7,
     "metadata": {},
     "output_type": "execute_result"
    }
   ],
   "source": [
    "base_df"
   ]
  },
  {
   "cell_type": "code",
   "execution_count": null,
   "metadata": {},
   "outputs": [],
   "source": [
    "base_df = base_df.sort_values(\"WRITE_DATE\")\n",
    "\n",
    "shift_df = base_df[[\"SEC_CODE\", \"ORG_ID\", \"WRITE_DATE\", \"RATING_ID\"]]\n",
    "last_df = shift_df.shift(1)[[\"WRITE_DATE\", \"RATING_ID\"]]\n",
    "last_df.columns = ['write_date_y', 'RATING_ID_y']\n",
    "final_df = pd.concat([base_df, last_df], axis=1)\n",
    "final_df.columns = [\"REPORT_ID\", \"SEC_CODE\", \"SEC_NAME\", \"TITLE\", \"AUTHOR\", \"THIS_WRITE_DATE\",\n",
    "                    \"THIS_RATING\", \"ORG_ID\", \"ORG_NAME\", \"LAST_WRITE_DATE\", \"LAST_RATING\"]\n",
    "# TODO dropna\n",
    "final_df = final_df.dropna(subset=[\"THIS_RATING\", \"LAST_RATING\"], how='any')\n",
    "final_df[\"REPORT_TYPE\"] = \"R04\""
   ]
  },
  {
   "cell_type": "code",
   "execution_count": 1,
   "metadata": {},
   "outputs": [],
   "source": [
    "# base_df\n",
    "filter_str = \"WRITE_DATE\" # 根据 num 列分开1，2 后， 需要从num=1的数据中筛选出日期为查询日期的数据\n",
    "this_date_str = '2019-03-21'\n",
    "primary_key = [\"SEC_CODE\", \"ORG_ID\"] # 用于merge\n",
    "last_key = [\"WRITE_DATE\", \"RATING_ID\"] # 同一个机构上次对本证券做的预测报告的撰写日期 同一个机构上次对本证券做的预测报告的评级"
   ]
  },
  {
   "cell_type": "code",
   "execution_count": 6,
   "metadata": {},
   "outputs": [],
   "source": [
    "sql = \"\"\"\n",
    "SELECT ID, SEC_CODE, SEC_NAME, TITLE, AUTHOR, WRITE_DATE, RATING_ID, ORG_ID, ORG_NAME, num\n",
    "FROM (\n",
    "\tSELECT ID, SEC_CODE, SEC_NAME, TITLE, AUTHOR, WRITE_DATE, RATING_ID, ORG_ID, ORG_NAME,\n",
    "\t\t   (@row_number:=\n",
    "\t\t\t   case when SEC_CODE = @pre_code and ORG_ID = @pre_organ_id\n",
    "\t\t\tthen @row_number+1\n",
    "\t\t\t else 1\n",
    "\t\t\tend\n",
    "\t\t   ) as num,\n",
    "\t\t(@pre_code := SEC_CODE),\n",
    "\t\t(@pre_organ_id := ORG_ID)\n",
    "\tFROM rr_main,(select @row_number:=1,@pre_code:='',@pre_organ_id:='') a\n",
    "\twhere WRITE_DATE <= '%s' and report_type='R04'\n",
    "\torder by SEC_CODE,ORG_ID,WRITE_DATE desc\n",
    ") a\n",
    "where a.num<=2\n",
    "\"\"\" % (this_date_str)\n",
    "base_df = pd.read_sql(sql, researchrpt_conn)"
   ]
  },
  {
   "cell_type": "code",
   "execution_count": 226,
   "metadata": {},
   "outputs": [],
   "source": [
    "# sql"
   ]
  },
  {
   "cell_type": "code",
   "execution_count": 7,
   "metadata": {},
   "outputs": [
    {
     "data": {
      "text/html": [
       "<div>\n",
       "<style scoped>\n",
       "    .dataframe tbody tr th:only-of-type {\n",
       "        vertical-align: middle;\n",
       "    }\n",
       "\n",
       "    .dataframe tbody tr th {\n",
       "        vertical-align: top;\n",
       "    }\n",
       "\n",
       "    .dataframe thead th {\n",
       "        text-align: right;\n",
       "    }\n",
       "</style>\n",
       "<table border=\"1\" class=\"dataframe\">\n",
       "  <thead>\n",
       "    <tr style=\"text-align: right;\">\n",
       "      <th></th>\n",
       "      <th>ID</th>\n",
       "      <th>SEC_CODE</th>\n",
       "      <th>SEC_NAME</th>\n",
       "      <th>TITLE</th>\n",
       "      <th>AUTHOR</th>\n",
       "      <th>WRITE_DATE</th>\n",
       "      <th>RATING_ID</th>\n",
       "      <th>ORG_ID</th>\n",
       "      <th>ORG_NAME</th>\n",
       "      <th>num</th>\n",
       "    </tr>\n",
       "  </thead>\n",
       "  <tbody>\n",
       "    <tr>\n",
       "      <th>13363</th>\n",
       "      <td>3523998</td>\n",
       "      <td>WUBA</td>\n",
       "      <td>58同城</td>\n",
       "      <td>58同城（WUBA）：2018年三季度业绩好于预期，付费会员账户增长减慢，“收集”</td>\n",
       "      <td>罗沛达</td>\n",
       "      <td>2018-11-30</td>\n",
       "      <td>5.0</td>\n",
       "      <td>1786</td>\n",
       "      <td>国泰君安</td>\n",
       "      <td>1.0</td>\n",
       "    </tr>\n",
       "    <tr>\n",
       "      <th>13364</th>\n",
       "      <td>3669776</td>\n",
       "      <td>WUBA</td>\n",
       "      <td>58同城</td>\n",
       "      <td>58同城（WUBA）：虽收入短期承压，然投入仍将持续</td>\n",
       "      <td>吴越</td>\n",
       "      <td>2019-03-03</td>\n",
       "      <td>7.0</td>\n",
       "      <td>26455</td>\n",
       "      <td>中金公司</td>\n",
       "      <td>1.0</td>\n",
       "    </tr>\n",
       "    <tr>\n",
       "      <th>13365</th>\n",
       "      <td>3529319</td>\n",
       "      <td>WUBA</td>\n",
       "      <td>58同城</td>\n",
       "      <td>58同城（WUBA）：信息平台龙头优势明显，蓝领招聘大有可为</td>\n",
       "      <td>张忆东</td>\n",
       "      <td>2018-11-21</td>\n",
       "      <td>5.0</td>\n",
       "      <td>26548</td>\n",
       "      <td>兴业证券</td>\n",
       "      <td>1.0</td>\n",
       "    </tr>\n",
       "    <tr>\n",
       "      <th>13366</th>\n",
       "      <td>3675680</td>\n",
       "      <td>WUBA</td>\n",
       "      <td>58同城</td>\n",
       "      <td>58同城（WUBA）：全年完美收官符合预期，未来短期面临业绩压力</td>\n",
       "      <td>国元国际研究所</td>\n",
       "      <td>2019-03-12</td>\n",
       "      <td>5.0</td>\n",
       "      <td>31727</td>\n",
       "      <td>国元国际</td>\n",
       "      <td>1.0</td>\n",
       "    </tr>\n",
       "    <tr>\n",
       "      <th>13367</th>\n",
       "      <td>3671568</td>\n",
       "      <td>YY</td>\n",
       "      <td>欢聚时代</td>\n",
       "      <td>欢聚时代：海外业务拓展，整装待发</td>\n",
       "      <td>吴越</td>\n",
       "      <td>2019-03-07</td>\n",
       "      <td>7.0</td>\n",
       "      <td>26455</td>\n",
       "      <td>中金公司</td>\n",
       "      <td>1.0</td>\n",
       "    </tr>\n",
       "    <tr>\n",
       "      <th>13368</th>\n",
       "      <td>3532756</td>\n",
       "      <td>YY</td>\n",
       "      <td>欢聚时代</td>\n",
       "      <td>欢聚时代：携手小米直播，以期增加活跃用户</td>\n",
       "      <td>吴越</td>\n",
       "      <td>2018-11-15</td>\n",
       "      <td>7.0</td>\n",
       "      <td>26455</td>\n",
       "      <td>中金公司</td>\n",
       "      <td>2.0</td>\n",
       "    </tr>\n",
       "    <tr>\n",
       "      <th>13369</th>\n",
       "      <td>3533584</td>\n",
       "      <td>YY</td>\n",
       "      <td>欢聚时代</td>\n",
       "      <td>欢聚时代：付费率有所回升，但Q4指引收入增长放缓</td>\n",
       "      <td>曹天宇,范佳瓅,秦波</td>\n",
       "      <td>2018-11-13</td>\n",
       "      <td>7.0</td>\n",
       "      <td>26504</td>\n",
       "      <td>光大证券</td>\n",
       "      <td>1.0</td>\n",
       "    </tr>\n",
       "    <tr>\n",
       "      <th>13370</th>\n",
       "      <td>3668910</td>\n",
       "      <td>YY</td>\n",
       "      <td>欢聚时代</td>\n",
       "      <td>欢聚时代（YY）2018Q4财报短评报告：BIGO收购完成，AI研发与全球化成为核心战略</td>\n",
       "      <td>杨仁文</td>\n",
       "      <td>2019-03-05</td>\n",
       "      <td>NaN</td>\n",
       "      <td>27302</td>\n",
       "      <td>方正证券</td>\n",
       "      <td>1.0</td>\n",
       "    </tr>\n",
       "    <tr>\n",
       "      <th>13371</th>\n",
       "      <td>3532872</td>\n",
       "      <td>YY</td>\n",
       "      <td>欢聚时代</td>\n",
       "      <td>欢聚时代（YY）：欢聚时代2018Q3短评报告：虎牙驱动业绩增长，新功能与内容拉升付费渗透，...</td>\n",
       "      <td>杨仁文</td>\n",
       "      <td>2018-11-14</td>\n",
       "      <td>NaN</td>\n",
       "      <td>27302</td>\n",
       "      <td>方正证券</td>\n",
       "      <td>2.0</td>\n",
       "    </tr>\n",
       "    <tr>\n",
       "      <th>13372</th>\n",
       "      <td>3530849</td>\n",
       "      <td>YY</td>\n",
       "      <td>欢聚时代</td>\n",
       "      <td>欢聚时代（YY）：虎牙助力营收高速增长，战略合作小米实现共赢</td>\n",
       "      <td>许磊</td>\n",
       "      <td>2018-11-15</td>\n",
       "      <td>7.0</td>\n",
       "      <td>33024</td>\n",
       "      <td>东兴证券</td>\n",
       "      <td>1.0</td>\n",
       "    </tr>\n",
       "  </tbody>\n",
       "</table>\n",
       "</div>"
      ],
      "text/plain": [
       "            ID SEC_CODE SEC_NAME  \\\n",
       "13363  3523998     WUBA     58同城   \n",
       "13364  3669776     WUBA     58同城   \n",
       "13365  3529319     WUBA     58同城   \n",
       "13366  3675680     WUBA     58同城   \n",
       "13367  3671568       YY     欢聚时代   \n",
       "13368  3532756       YY     欢聚时代   \n",
       "13369  3533584       YY     欢聚时代   \n",
       "13370  3668910       YY     欢聚时代   \n",
       "13371  3532872       YY     欢聚时代   \n",
       "13372  3530849       YY     欢聚时代   \n",
       "\n",
       "                                                   TITLE      AUTHOR  \\\n",
       "13363          58同城（WUBA）：2018年三季度业绩好于预期，付费会员账户增长减慢，“收集”         罗沛达   \n",
       "13364                         58同城（WUBA）：虽收入短期承压，然投入仍将持续          吴越   \n",
       "13365                     58同城（WUBA）：信息平台龙头优势明显，蓝领招聘大有可为         张忆东   \n",
       "13366                   58同城（WUBA）：全年完美收官符合预期，未来短期面临业绩压力     国元国际研究所   \n",
       "13367                                   欢聚时代：海外业务拓展，整装待发          吴越   \n",
       "13368                               欢聚时代：携手小米直播，以期增加活跃用户          吴越   \n",
       "13369                           欢聚时代：付费率有所回升，但Q4指引收入增长放缓  曹天宇,范佳瓅,秦波   \n",
       "13370       欢聚时代（YY）2018Q4财报短评报告：BIGO收购完成，AI研发与全球化成为核心战略         杨仁文   \n",
       "13371  欢聚时代（YY）：欢聚时代2018Q3短评报告：虎牙驱动业绩增长，新功能与内容拉升付费渗透，...         杨仁文   \n",
       "13372                     欢聚时代（YY）：虎牙助力营收高速增长，战略合作小米实现共赢          许磊   \n",
       "\n",
       "       WRITE_DATE  RATING_ID  ORG_ID ORG_NAME  num  \n",
       "13363  2018-11-30        5.0    1786     国泰君安  1.0  \n",
       "13364  2019-03-03        7.0   26455     中金公司  1.0  \n",
       "13365  2018-11-21        5.0   26548     兴业证券  1.0  \n",
       "13366  2019-03-12        5.0   31727     国元国际  1.0  \n",
       "13367  2019-03-07        7.0   26455     中金公司  1.0  \n",
       "13368  2018-11-15        7.0   26455     中金公司  2.0  \n",
       "13369  2018-11-13        7.0   26504     光大证券  1.0  \n",
       "13370  2019-03-05        NaN   27302     方正证券  1.0  \n",
       "13371  2018-11-14        NaN   27302     方正证券  2.0  \n",
       "13372  2018-11-15        7.0   33024     东兴证券  1.0  "
      ]
     },
     "execution_count": 7,
     "metadata": {},
     "output_type": "execute_result"
    }
   ],
   "source": [
    "base_df.tail(10)\n",
    "# base_df[\"WRITE_DATE\"] = base_df[\"WRITE_DATE\"].astype(str)\n",
    "# base_df.info()\n",
    "# base_df[base_df[filter_str]=='2018-11-30']\n",
    "# base_df[base_df['WRITE_DATE']=='2018-11-30']"
   ]
  },
  {
   "cell_type": "code",
   "execution_count": 8,
   "metadata": {},
   "outputs": [],
   "source": [
    "# 用num的值区分次序\n",
    "last_df = base_df[base_df[\"num\"]==2]\n",
    "last_df = last_df.drop(\"num\", 1)"
   ]
  },
  {
   "cell_type": "code",
   "execution_count": 9,
   "metadata": {},
   "outputs": [],
   "source": [
    "# last_df"
   ]
  },
  {
   "cell_type": "code",
   "execution_count": 10,
   "metadata": {},
   "outputs": [],
   "source": [
    "base_df[filter_str] = base_df[filter_str].astype(str)\n",
    "this_df = base_df[(base_df[\"num\"]==1) & (base_df[filter_str]==this_date_str)]\n",
    "this_df = this_df.drop(\"num\", 1)\n"
   ]
  },
  {
   "cell_type": "code",
   "execution_count": 11,
   "metadata": {},
   "outputs": [],
   "source": [
    "# this_df"
   ]
  },
  {
   "cell_type": "code",
   "execution_count": 12,
   "metadata": {},
   "outputs": [],
   "source": [
    "if len(this_df) == 0:\n",
    "    # 说明没有目标数据， 可以返回\n",
    "    pass\n"
   ]
  },
  {
   "cell_type": "code",
   "execution_count": 299,
   "metadata": {},
   "outputs": [
    {
     "data": {
      "text/plain": [
       "['WRITE_DATE', 'RATING_ID', 'SEC_CODE', 'ORG_ID']"
      ]
     },
     "execution_count": 299,
     "metadata": {},
     "output_type": "execute_result"
    }
   ],
   "source": [
    "# primary_key.append(last_key)\n",
    "primary_key\n",
    "last_key\n",
    "# last_df[[last_key.extend(primary_key)]]"
   ]
  },
  {
   "cell_type": "code",
   "execution_count": 13,
   "metadata": {},
   "outputs": [],
   "source": [
    "key = last_key + primary_key\n"
   ]
  },
  {
   "cell_type": "code",
   "execution_count": 25,
   "metadata": {},
   "outputs": [],
   "source": [
    "\n",
    "merge_df = pd.merge(this_df, last_df[key], how='left', on=primary_key)"
   ]
  },
  {
   "cell_type": "code",
   "execution_count": 26,
   "metadata": {},
   "outputs": [],
   "source": [
    "# merge 获取上一次最近的数据时， 若上一次数据为空， 删除它们\n",
    "# merge_df = merge_df.dropna(subset=['WRITE_DATE_y'])"
   ]
  },
  {
   "cell_type": "code",
   "execution_count": 27,
   "metadata": {},
   "outputs": [
    {
     "name": "stdout",
     "output_type": "stream",
     "text": [
      "<class 'pandas.core.frame.DataFrame'>\n",
      "Int64Index: 109 entries, 2 to 225\n",
      "Data columns (total 11 columns):\n",
      "ID              109 non-null int64\n",
      "SEC_CODE        109 non-null object\n",
      "SEC_NAME        109 non-null object\n",
      "TITLE           109 non-null object\n",
      "AUTHOR          109 non-null object\n",
      "WRITE_DATE_x    109 non-null object\n",
      "RATING_ID_x     107 non-null float64\n",
      "ORG_ID          109 non-null int64\n",
      "ORG_NAME        109 non-null object\n",
      "WRITE_DATE_y    109 non-null object\n",
      "RATING_ID_y     107 non-null float64\n",
      "dtypes: float64(2), int64(2), object(7)\n",
      "memory usage: 10.2+ KB\n"
     ]
    }
   ],
   "source": [
    "merge_df.info()"
   ]
  },
  {
   "cell_type": "code",
   "execution_count": 28,
   "metadata": {},
   "outputs": [
    {
     "data": {
      "text/html": [
       "<div>\n",
       "<style scoped>\n",
       "    .dataframe tbody tr th:only-of-type {\n",
       "        vertical-align: middle;\n",
       "    }\n",
       "\n",
       "    .dataframe tbody tr th {\n",
       "        vertical-align: top;\n",
       "    }\n",
       "\n",
       "    .dataframe thead th {\n",
       "        text-align: right;\n",
       "    }\n",
       "</style>\n",
       "<table border=\"1\" class=\"dataframe\">\n",
       "  <thead>\n",
       "    <tr style=\"text-align: right;\">\n",
       "      <th></th>\n",
       "      <th>ID</th>\n",
       "      <th>SEC_CODE</th>\n",
       "      <th>SEC_NAME</th>\n",
       "      <th>TITLE</th>\n",
       "      <th>AUTHOR</th>\n",
       "      <th>WRITE_DATE_x</th>\n",
       "      <th>RATING_ID_x</th>\n",
       "      <th>ORG_ID</th>\n",
       "      <th>ORG_NAME</th>\n",
       "      <th>WRITE_DATE_y</th>\n",
       "      <th>RATING_ID_y</th>\n",
       "    </tr>\n",
       "  </thead>\n",
       "  <tbody>\n",
       "    <tr>\n",
       "      <th>2</th>\n",
       "      <td>3687394</td>\n",
       "      <td>00003</td>\n",
       "      <td>香港中华煤气</td>\n",
       "      <td>香港中华煤气（00003）：2018年年度业绩超出市场预期，维持“买入”评级</td>\n",
       "      <td>郭勇</td>\n",
       "      <td>2019-03-21</td>\n",
       "      <td>7.0</td>\n",
       "      <td>1786</td>\n",
       "      <td>国泰君安证券</td>\n",
       "      <td>2018-08-23</td>\n",
       "      <td>7.0</td>\n",
       "    </tr>\n",
       "    <tr>\n",
       "      <th>4</th>\n",
       "      <td>3682572</td>\n",
       "      <td>000401</td>\n",
       "      <td>冀东水泥</td>\n",
       "      <td>冀东水泥（000401）：京津冀水泥龙头，量价弹性持续释放</td>\n",
       "      <td>盛昌盛,武浩翔</td>\n",
       "      <td>2019-03-21</td>\n",
       "      <td>5.0</td>\n",
       "      <td>15750</td>\n",
       "      <td>天风证券</td>\n",
       "      <td>2019-01-11</td>\n",
       "      <td>5.0</td>\n",
       "    </tr>\n",
       "    <tr>\n",
       "      <th>5</th>\n",
       "      <td>3683101</td>\n",
       "      <td>000401</td>\n",
       "      <td>冀东水泥</td>\n",
       "      <td>冀东水泥（000401）：京津冀龙头，受益于区域重点工程提速</td>\n",
       "      <td>李可悦,陈彦</td>\n",
       "      <td>2019-03-21</td>\n",
       "      <td>7.0</td>\n",
       "      <td>26455</td>\n",
       "      <td>中金公司</td>\n",
       "      <td>2018-03-23</td>\n",
       "      <td>7.0</td>\n",
       "    </tr>\n",
       "    <tr>\n",
       "      <th>6</th>\n",
       "      <td>3683245</td>\n",
       "      <td>000401</td>\n",
       "      <td>冀东水泥</td>\n",
       "      <td>冀东水泥（000401）：重组完成新出发，关注区域基建项目推进</td>\n",
       "      <td>黄道立,陈颖</td>\n",
       "      <td>2019-03-21</td>\n",
       "      <td>7.0</td>\n",
       "      <td>26500</td>\n",
       "      <td>国信证券</td>\n",
       "      <td>2019-02-28</td>\n",
       "      <td>7.0</td>\n",
       "    </tr>\n",
       "    <tr>\n",
       "      <th>7</th>\n",
       "      <td>3682449</td>\n",
       "      <td>000401</td>\n",
       "      <td>冀东水泥</td>\n",
       "      <td>冀东水泥（000401）：Q4经营略超预期，19年表现将更为靓丽</td>\n",
       "      <td>黄诗涛,石峰源</td>\n",
       "      <td>2019-03-21</td>\n",
       "      <td>7.0</td>\n",
       "      <td>27276</td>\n",
       "      <td>国盛证券</td>\n",
       "      <td>2019-01-24</td>\n",
       "      <td>7.0</td>\n",
       "    </tr>\n",
       "  </tbody>\n",
       "</table>\n",
       "</div>"
      ],
      "text/plain": [
       "        ID SEC_CODE SEC_NAME                                   TITLE   AUTHOR  \\\n",
       "2  3687394    00003   香港中华煤气  香港中华煤气（00003）：2018年年度业绩超出市场预期，维持“买入”评级       郭勇   \n",
       "4  3682572   000401     冀东水泥           冀东水泥（000401）：京津冀水泥龙头，量价弹性持续释放  盛昌盛,武浩翔   \n",
       "5  3683101   000401     冀东水泥          冀东水泥（000401）：京津冀龙头，受益于区域重点工程提速   李可悦,陈彦   \n",
       "6  3683245   000401     冀东水泥         冀东水泥（000401）：重组完成新出发，关注区域基建项目推进   黄道立,陈颖   \n",
       "7  3682449   000401     冀东水泥        冀东水泥（000401）：Q4经营略超预期，19年表现将更为靓丽  黄诗涛,石峰源   \n",
       "\n",
       "  WRITE_DATE_x  RATING_ID_x  ORG_ID ORG_NAME WRITE_DATE_y  RATING_ID_y  \n",
       "2   2019-03-21          7.0    1786   国泰君安证券   2018-08-23          7.0  \n",
       "4   2019-03-21          5.0   15750     天风证券   2019-01-11          5.0  \n",
       "5   2019-03-21          7.0   26455     中金公司   2018-03-23          7.0  \n",
       "6   2019-03-21          7.0   26500     国信证券   2019-02-28          7.0  \n",
       "7   2019-03-21          7.0   27276     国盛证券   2019-01-24          7.0  "
      ]
     },
     "execution_count": 28,
     "metadata": {},
     "output_type": "execute_result"
    }
   ],
   "source": [
    "merge_df.head()"
   ]
  },
  {
   "cell_type": "code",
   "execution_count": 29,
   "metadata": {},
   "outputs": [],
   "source": [
    "# merge_df.to_csv(\"write_date_2019-03-21.csv\", index=False, encoding='utf-8')"
   ]
  },
  {
   "cell_type": "code",
   "execution_count": 30,
   "metadata": {},
   "outputs": [],
   "source": [
    "# cmb_report_research.ORGAN_ID=report_org_map.TGT_ORG_ID\n",
    "# sql = \"\"\"SELECT distinct TGT_ORG_ID as ORG_ID,TGT_ORG_NAME,TEXT1 FROM report_org_map\"\"\"\n",
    "# refer_df = pd.read_sql(sql, researchrpt_conn)"
   ]
  },
  {
   "cell_type": "code",
   "execution_count": 31,
   "metadata": {},
   "outputs": [],
   "source": [
    "# refer_df.head()"
   ]
  },
  {
   "cell_type": "code",
   "execution_count": 32,
   "metadata": {},
   "outputs": [],
   "source": [
    "# final_df = pd.merge(merge_df, refer_df, how='left', on='ORG_ID') "
   ]
  },
  {
   "cell_type": "code",
   "execution_count": 33,
   "metadata": {},
   "outputs": [],
   "source": [
    "# final_df = final_df.drop('ORG_ID', axis=1)"
   ]
  },
  {
   "cell_type": "code",
   "execution_count": 34,
   "metadata": {},
   "outputs": [],
   "source": [
    "# final_df.head()\n",
    "final_df = merge_df"
   ]
  },
  {
   "cell_type": "code",
   "execution_count": 35,
   "metadata": {},
   "outputs": [],
   "source": [
    "# # rename columns \n",
    "# REPORT_ID\n",
    "# SEC_CODE\n",
    "# SEC_NAME\n",
    "# TITLE\n",
    "# REPORT_TYPE\n",
    "# ORG_ID\n",
    "# ORG_NAME\n",
    "# AUTHOR\n",
    "# THIS_WRITE_DATE\n",
    "# LAST_WRITE_DATE\n",
    "# THIS_RATING\n",
    "# LAST_RATING\n",
    "\n",
    "final_df.columns = [\"REPORT_ID\",\"SEC_CODE\",\"SEC_NAME\",\"TITLE\",\"AUTHOR\",\"THIS_WRITE_DATE\",\"THIS_RATING\",\"ORG_ID\",\"ORG_NAME\",\"LAST_WRITE_DATE\",\"LAST_RATING\"]"
   ]
  },
  {
   "cell_type": "code",
   "execution_count": 36,
   "metadata": {},
   "outputs": [],
   "source": [
    "# 最后添加两个不用进行表查询的列\n",
    "final_df[\"REPORT_TYPE\"] = \"R04\""
   ]
  },
  {
   "cell_type": "code",
   "execution_count": 37,
   "metadata": {},
   "outputs": [],
   "source": [
    "# 将本次评级与上次评级做对比，取常量。0未调（两次评级结果一样）；1上调（本次大于上次）；2下调（本次小于上次）；3未知\n",
    "def compare(row):\n",
    "    x = row[0]\n",
    "    y = row[1]\n",
    "    if x == 0 and y == 0:\n",
    "        return 4 # to be removed \n",
    "#     print x\n",
    "    if x > y:\n",
    "        return 1\n",
    "    elif x < y:\n",
    "        return 2\n",
    "    elif x == y:\n",
    "        return 0\n",
    "    else:\n",
    "        return 3\n",
    "final_df[\"RATING_ADJUST_MARK\"] = final_df[[\"THIS_RATING\", \"LAST_RATING\"]].apply(compare, axis=1)"
   ]
  },
  {
   "cell_type": "code",
   "execution_count": 38,
   "metadata": {},
   "outputs": [],
   "source": [
    "final_df[\"THIS_RATING\"] = final_df[\"THIS_RATING\"].fillna(0).astype(int)\n",
    "final_df[\"LAST_RATING\"] = final_df[\"LAST_RATING\"].fillna(0).astype(int)"
   ]
  },
  {
   "cell_type": "code",
   "execution_count": 386,
   "metadata": {},
   "outputs": [],
   "source": [
    "# final_df"
   ]
  },
  {
   "cell_type": "code",
   "execution_count": null,
   "metadata": {},
   "outputs": [],
   "source": []
  },
  {
   "cell_type": "code",
   "execution_count": null,
   "metadata": {},
   "outputs": [],
   "source": []
  }
 ],
 "metadata": {
  "kernelspec": {
   "display_name": "Python 2",
   "language": "python",
   "name": "python2"
  },
  "language_info": {
   "codemirror_mode": {
    "name": "ipython",
    "version": 2
   },
   "file_extension": ".py",
   "mimetype": "text/x-python",
   "name": "python",
   "nbconvert_exporter": "python",
   "pygments_lexer": "ipython2",
   "version": "2.7.11"
  }
 },
 "nbformat": 4,
 "nbformat_minor": 2
}
