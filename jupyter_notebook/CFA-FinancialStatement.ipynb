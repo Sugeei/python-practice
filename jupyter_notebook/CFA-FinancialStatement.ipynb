{
 "cells": [
  {
   "cell_type": "markdown",
   "metadata": {},
   "source": [
    "# CFA"
   ]
  },
  {
   "cell_type": "markdown",
   "metadata": {},
   "source": [
    "# Financial Statement Analysis"
   ]
  },
  {
   "cell_type": "code",
   "execution_count": 62,
   "metadata": {},
   "outputs": [],
   "source": [
    "import numpy as np\n",
    "import pandas as pd\n",
    "from pandas import Series\n",
    "from pandas_datareader import data, wb\n",
    "import pandas_datareader.data as web\n",
    "import datetime\n",
    "import fix_yahoo_finance as yf\n",
    "import matplotlib.pyplot as plt"
   ]
  },
  {
   "cell_type": "code",
   "execution_count": null,
   "metadata": {},
   "outputs": [],
   "source": []
  },
  {
   "cell_type": "code",
   "execution_count": null,
   "metadata": {},
   "outputs": [],
   "source": [
    "# to get remote date \n",
    "# https://pandas-datareader.readthedocs.io/en/latest/remote_data.html"
   ]
  },
  {
   "cell_type": "code",
   "execution_count": 11,
   "metadata": {},
   "outputs": [],
   "source": [
    "yf.pdr_override()"
   ]
  },
  {
   "cell_type": "code",
   "execution_count": 13,
   "metadata": {},
   "outputs": [
    {
     "name": "stdout",
     "output_type": "stream",
     "text": [
      "[*********************100%***********************]  1 of 1 downloaded\n"
     ]
    }
   ],
   "source": [
    "start = datetime.datetime(2010, 1, 1)\n",
    "end = datetime.datetime(2017, 1, 1)\n",
    "df = data.get_data_yahoo('MS', start, end)\n",
    "\n",
    "# f = web.DataReader('F', 'google', start, end)"
   ]
  },
  {
   "cell_type": "code",
   "execution_count": null,
   "metadata": {},
   "outputs": [],
   "source": []
  },
  {
   "cell_type": "code",
   "execution_count": 15,
   "metadata": {},
   "outputs": [
    {
     "name": "stdout",
     "output_type": "stream",
     "text": [
      "<class 'pandas.core.frame.DataFrame'>\n",
      "DatetimeIndex: 1763 entries, 2009-12-31 to 2016-12-30\n",
      "Data columns (total 6 columns):\n",
      "Open         1763 non-null float64\n",
      "High         1763 non-null float64\n",
      "Low          1763 non-null float64\n",
      "Close        1763 non-null float64\n",
      "Adj Close    1763 non-null float64\n",
      "Volume       1763 non-null int32\n",
      "dtypes: float64(5), int32(1)\n",
      "memory usage: 89.5 KB\n"
     ]
    },
    {
     "data": {
      "text/html": [
       "<div>\n",
       "<style>\n",
       "    .dataframe thead tr:only-child th {\n",
       "        text-align: right;\n",
       "    }\n",
       "\n",
       "    .dataframe thead th {\n",
       "        text-align: left;\n",
       "    }\n",
       "\n",
       "    .dataframe tbody tr th {\n",
       "        vertical-align: top;\n",
       "    }\n",
       "</style>\n",
       "<table border=\"1\" class=\"dataframe\">\n",
       "  <thead>\n",
       "    <tr style=\"text-align: right;\">\n",
       "      <th></th>\n",
       "      <th>Open</th>\n",
       "      <th>High</th>\n",
       "      <th>Low</th>\n",
       "      <th>Close</th>\n",
       "      <th>Adj Close</th>\n",
       "      <th>Volume</th>\n",
       "    </tr>\n",
       "    <tr>\n",
       "      <th>Date</th>\n",
       "      <th></th>\n",
       "      <th></th>\n",
       "      <th></th>\n",
       "      <th></th>\n",
       "      <th></th>\n",
       "      <th></th>\n",
       "    </tr>\n",
       "  </thead>\n",
       "  <tbody>\n",
       "    <tr>\n",
       "      <th>2009-12-31</th>\n",
       "      <td>29.490000</td>\n",
       "      <td>29.770000</td>\n",
       "      <td>29.440001</td>\n",
       "      <td>29.600000</td>\n",
       "      <td>25.955486</td>\n",
       "      <td>9876900</td>\n",
       "    </tr>\n",
       "    <tr>\n",
       "      <th>2010-01-04</th>\n",
       "      <td>30.700001</td>\n",
       "      <td>31.969999</td>\n",
       "      <td>30.629999</td>\n",
       "      <td>30.910000</td>\n",
       "      <td>27.104185</td>\n",
       "      <td>20371000</td>\n",
       "    </tr>\n",
       "    <tr>\n",
       "      <th>2010-01-05</th>\n",
       "      <td>31.010000</td>\n",
       "      <td>32.130001</td>\n",
       "      <td>30.930000</td>\n",
       "      <td>32.040001</td>\n",
       "      <td>28.095060</td>\n",
       "      <td>22523400</td>\n",
       "    </tr>\n",
       "    <tr>\n",
       "      <th>2010-01-06</th>\n",
       "      <td>31.969999</td>\n",
       "      <td>32.590000</td>\n",
       "      <td>31.790001</td>\n",
       "      <td>32.450001</td>\n",
       "      <td>28.454571</td>\n",
       "      <td>17028500</td>\n",
       "    </tr>\n",
       "    <tr>\n",
       "      <th>2010-01-07</th>\n",
       "      <td>32.459999</td>\n",
       "      <td>33.270000</td>\n",
       "      <td>32.270000</td>\n",
       "      <td>32.919998</td>\n",
       "      <td>28.866699</td>\n",
       "      <td>18693000</td>\n",
       "    </tr>\n",
       "  </tbody>\n",
       "</table>\n",
       "</div>"
      ],
      "text/plain": [
       "                 Open       High        Low      Close  Adj Close    Volume\n",
       "Date                                                                       \n",
       "2009-12-31  29.490000  29.770000  29.440001  29.600000  25.955486   9876900\n",
       "2010-01-04  30.700001  31.969999  30.629999  30.910000  27.104185  20371000\n",
       "2010-01-05  31.010000  32.130001  30.930000  32.040001  28.095060  22523400\n",
       "2010-01-06  31.969999  32.590000  31.790001  32.450001  28.454571  17028500\n",
       "2010-01-07  32.459999  33.270000  32.270000  32.919998  28.866699  18693000"
      ]
     },
     "execution_count": 15,
     "metadata": {},
     "output_type": "execute_result"
    }
   ],
   "source": [
    "df.info()\n",
    "df.head()"
   ]
  },
  {
   "cell_type": "code",
   "execution_count": 22,
   "metadata": {},
   "outputs": [
    {
     "data": {
      "text/plain": [
       "<matplotlib.axes._subplots.AxesSubplot at 0x16d22240>"
      ]
     },
     "execution_count": 22,
     "metadata": {},
     "output_type": "execute_result"
    }
   ],
   "source": [
    "df[['Close']].plot(grid=True, figsize=(8,5))"
   ]
  },
  {
   "cell_type": "code",
   "execution_count": 21,
   "metadata": {},
   "outputs": [],
   "source": [
    "# 时间序列\n",
    "# 趋势策略\n",
    "# df['42d'] = np.round(pd.rolling_mean(df['Close'], window=42), 2)\n",
    "df['42d'] = np.round(df['Close'].rolling(window=42, center=False).mean(), 2)\n",
    "df['252d'] = np.round(df['Close'].rolling(window=252, center=False).mean(), 2)"
   ]
  },
  {
   "cell_type": "code",
   "execution_count": null,
   "metadata": {},
   "outputs": [],
   "source": []
  },
  {
   "cell_type": "code",
   "execution_count": 23,
   "metadata": {},
   "outputs": [
    {
     "data": {
      "text/plain": [
       "<matplotlib.axes._subplots.AxesSubplot at 0x16cc9a58>"
      ]
     },
     "execution_count": 23,
     "metadata": {},
     "output_type": "execute_result"
    }
   ],
   "source": [
    "df[['42d','252d','Close']].plot(grid=True, figsize=(8,5))"
   ]
  },
  {
   "cell_type": "code",
   "execution_count": 33,
   "metadata": {},
   "outputs": [
    {
     "data": {
      "image/png": "[encoded data removed]",
      "text/plain": [
       "<matplotlib.figure.Figure at 0x1a752898>"
      ]
     },
     "metadata": {},
     "output_type": "display_data"
    }
   ],
   "source": [
    "df.tail()\n",
    "plt.plot(df['Close'])\n",
    "plt.plot(df['42d'])\n",
    "plt.plot(df['252d'])\n",
    "plt.legend()\n",
    "plt.show()"
   ]
  },
  {
   "cell_type": "code",
   "execution_count": 40,
   "metadata": {},
   "outputs": [],
   "source": [
    "df['42-252']=df['42d'] - df['252d']\n",
    "# df"
   ]
  },
  {
   "cell_type": "code",
   "execution_count": 45,
   "metadata": {},
   "outputs": [
    {
     "data": {
      "text/plain": [
       " 0    668\n",
       " 1    648\n",
       "-1    447\n",
       "Name: Regime, dtype: int64"
      ]
     },
     "execution_count": 45,
     "metadata": {},
     "output_type": "execute_result"
    }
   ],
   "source": [
    "# 投资体制 \n",
    "SD=2\n",
    "df['Regime'] = np.where(df['42-252'] > SD, 1, 0)\n",
    "df['Regime'] = np.where(df['42-252'] < -SD, -1, df['Regime'])\n",
    "# df['Regime'].value_counts()\n",
    "df['Regime'].value_counts()"
   ]
  },
  {
   "cell_type": "code",
   "execution_count": 47,
   "metadata": {},
   "outputs": [
    {
     "data": {
      "image/png": "[encoded data removed]",
      "text/plain": [
       "<matplotlib.figure.Figure at 0x1a7334a8>"
      ]
     },
     "metadata": {},
     "output_type": "display_data"
    }
   ],
   "source": [
    "plt.plot(df['Regime'])\n",
    "plt.show()"
   ]
  },
  {
   "cell_type": "code",
   "execution_count": 48,
   "metadata": {},
   "outputs": [],
   "source": [
    "# sp500=wb.DataReader('^GSPC', data_source='yahoo', start='1/1/2000', end='4/14/2014')\n",
    "# sp500.info()"
   ]
  },
  {
   "cell_type": "code",
   "execution_count": 49,
   "metadata": {},
   "outputs": [],
   "source": [
    "# https://zhuanlan.zhihu.com/p/34643533 "
   ]
  },
  {
   "cell_type": "code",
   "execution_count": 50,
   "metadata": {},
   "outputs": [
    {
     "data": {
      "text/plain": [
       "array([[1, 2, 3],\n",
       "       [4, 5, 6]])"
      ]
     },
     "execution_count": 50,
     "metadata": {},
     "output_type": "execute_result"
    }
   ],
   "source": [
    "a = np.array([[1,2,3], [4,5,6]])\n",
    "a"
   ]
  },
  {
   "cell_type": "code",
   "execution_count": 76,
   "metadata": {},
   "outputs": [
    {
     "data": {
      "text/html": [
       "<div>\n",
       "<style>\n",
       "    .dataframe thead tr:only-child th {\n",
       "        text-align: right;\n",
       "    }\n",
       "\n",
       "    .dataframe thead th {\n",
       "        text-align: left;\n",
       "    }\n",
       "\n",
       "    .dataframe tbody tr th {\n",
       "        vertical-align: top;\n",
       "    }\n",
       "</style>\n",
       "<table border=\"1\" class=\"dataframe\">\n",
       "  <thead>\n",
       "    <tr style=\"text-align: right;\">\n",
       "      <th></th>\n",
       "      <th>a</th>\n",
       "      <th>b</th>\n",
       "      <th>c</th>\n",
       "    </tr>\n",
       "  </thead>\n",
       "  <tbody>\n",
       "    <tr>\n",
       "      <th>0</th>\n",
       "      <td>1</td>\n",
       "      <td>2</td>\n",
       "      <td>3</td>\n",
       "    </tr>\n",
       "  </tbody>\n",
       "</table>\n",
       "</div>"
      ],
      "text/plain": [
       "   a  b  c\n",
       "0  1  2  3"
      ]
     },
     "execution_count": 76,
     "metadata": {},
     "output_type": "execute_result"
    }
   ],
   "source": [
    "df = pd.DataFrame(columns=[\"a\", \"b\",\"c\"])\n",
    "s = pd.Series([1,2,3])\n",
    "a = np.array([1,2,3])\n",
    "df = df.append({\"a\":1, \"b\":2, \"c\":3}, ignore_index=True)\n",
    "df\n"
   ]
  },
  {
   "cell_type": "code",
   "execution_count": null,
   "metadata": {},
   "outputs": [],
   "source": [
    "IFRS"
   ]
  },
  {
   "cell_type": "code",
   "execution_count": null,
   "metadata": {},
   "outputs": [],
   "source": [
    "Assets\n",
    "noncurrent assets\n",
    "intangible\n",
    "property, plant and equipment\n",
    "leasing and rental assets\n",
    "investment property\n",
    "Equity-accounted investments\n",
    "other equity investments\n",
    "financial services receivables\n",
    "other receivables and financial assets\n",
    "noncurrent tax receivables\n",
    "deferred tax assets\n",
    "\n",
    "current assets\n",
    "invertories\n",
    "trade receivables\n",
    "financial services receivables\n",
    "other receivables and financial assets\n",
    "current tax receivables\n",
    "marketable securities\n",
    "cash and cash equivalents\n",
    "assets held for sale\n",
    "\n",
    "equity\n",
    "subscribed capital\n",
    "capital reserves\n",
    "retained earnings\n",
    "equity of parent company shareholders\n",
    "minority interests\n",
    "\n",
    "liabilities\n",
    "noncurrent liabilities\n",
    "noncurrent financial liabilities\n",
    "other noncurrent liabilities\n",
    "deferred tax liabilities\n",
    "provisions for pensions\n",
    "provisions for taxes\n",
    "other noncurrent provisions\n",
    "\n",
    "current liabilities\n",
    "current financial liabilities\n",
    "trade payables\n",
    "current tax payables\n",
    "other current liabilities\n",
    "provisions for taxes\n",
    "other current provisions\n",
    "liabilities with assets held for sale\n",
    "\n",
    "\n"
   ]
  },
  {
   "cell_type": "code",
   "execution_count": null,
   "metadata": {},
   "outputs": [],
   "source": [
    "# https://zhuanlan.zhihu.com/p/31848818"
   ]
  }
 ],
 "metadata": {
  "kernelspec": {
   "display_name": "Python 2",
   "language": "python",
   "name": "python2"
  },
  "language_info": {
   "codemirror_mode": {
    "name": "ipython",
    "version": 2
   },
   "file_extension": ".py",
   "mimetype": "text/x-python",
   "name": "python",
   "nbconvert_exporter": "python",
   "pygments_lexer": "ipython2",
   "version": "2.7.11"
  }
 },
 "nbformat": 4,
 "nbformat_minor": 2
}
