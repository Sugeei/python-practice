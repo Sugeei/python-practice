{
 "cells": [
  {
   "cell_type": "markdown",
   "metadata": {},
   "source": [
    "# 监控一致预期三张表的数据情况， 查看有无异常数据"
   ]
  },
  {
   "cell_type": "code",
   "execution_count": 3,
   "metadata": {},
   "outputs": [],
   "source": [
    "import pandas as pd"
   ]
  },
  {
   "cell_type": "code",
   "execution_count": 4,
   "metadata": {},
   "outputs": [],
   "source": [
    "\n",
    "class MysqlConn(object):\n",
    "    def __init__(self, config_json_str):\n",
    "        # self.mysql_config = {\"host\": \"10.22.128.150\",  \"port\": 3317, \"db\": \"bigdata\", \"user\": \"talend_load\",\n",
    "        #   \"passwd\": \"s9t5gNThn2vqWM7c\" , \"charset\" : \"utf8\"}\n",
    "        # self.mysql_config = {\"host\": \"db-bigdata.wmcloud-qa.com\",  \"port\": 3312, \"db\": \"bigdata\", \"user\": \"app_bigdata_ro\",\n",
    "        #   \"passwd\": \"Welcome_20141217\"}\n",
    "        self.mysql_config = json.loads(config_json_str, encoding='utf-8')\n",
    "\n",
    "    def connect(self):\n",
    "        mysql_conn = pymysql.connect(**self.mysql_config)\n",
    "        return mysql_conn\n"
   ]
  },
  {
   "cell_type": "code",
   "execution_count": 5,
   "metadata": {},
   "outputs": [],
   "source": [
    "import json\n",
    "import pymysql\n",
    "# MySQL\n",
    "# bigdata={\"host\":\"security03-dev.datayes.com\",\"port\":3306,\"user\":\"talend_load\",\"passwd\":\"NCph1G9BQT3DuQj\",\"db\":\"bigdata\",\"charset\":\"utf8\"}\n",
    "# dateyesdbp={\"host\":\"db-datayesdb-ro.wmcloud.com\",\"port\":3313,\"user\":\"app_dataqa_ro\",\"passwd\":\"Welcome20140820\",\"db\":\"datayesdbp\",\"charset\":\"utf8\"}\n",
    "# datayesdb={\"host\":\"db-datayesdb-ro.wmcloud.com\",\"port\":3313,\"database\":\"datayesdb\",\"user\":\"app_gaea_ro\",\"password\":\"EQw6WquhnCKPp8Li\",\"charset\":\"utf8\"}\n",
    "\n",
    "# researchrpt={\"host\":\"db-researchrpt-ro.wmcloud.com\",\"port\":3306,\"user\":\"app_gaea_ro\",\"passwd\":\"UDVVkvULzakP2048\",\"db\":\"research_rpt\",\"charset\":\"utf8\"}\n",
    "# dev\n",
    "# researchrpt={\"host\":\"10.24.21.34\",\"port\":3306,\"user\":\"app_researchrep\",\"passwd\":\"dG8pqlk5VKOMvDH\",\"db\":\"research_rpt\",\"charset\":\"utf8\"}\n",
    "# prd\n",
    "researchrpt={\"host\":\"db-researchrpt.wmcloud.com\",\"port\":3306,\"user\":\"app_researchrep\",\"passwd\":\"dG8pqlk5VKOMvDH\",\"db\":\"research_rpt\",\"charset\":\"utf8\"}\n",
    "# bigdata={\"host\":\"real-stg01.datayes.com\",\"port\":3314,\"user\":\"app_talend_rw\",\"passwd\":\"KbcwQ32gamVR3sPw\",\"db\":\"bigdata\",\"charset\":\"utf8\"}\n",
    "\n",
    "# SQLserver\n",
    "# datayes={\"server\":\"sh-dm-db05.datayes.com\",\"port\":1433,\"database\":\"dyedb\",\"user\":\"talend_load\",\"password\":\"s9t5gNThn2vqWM7c\",\"charset\":\"utf8\"}\n",
    "# datayesdb={\"server\":\"10.21.139.72\",\"port\":1433,\"database\":\"datayesdb\",\"user\":\"talend_load\",\"password\":\"s9t5gNThn2vqWM7c\",\"charset\":\"utf8\"}\n",
    "\n",
    "# bigdata_conn = MysqlConn(json.dumps(bigdata)).connect()\n",
    "# dateyesdbp_conn = MysqlConn(json.dumps(dateyesdbp)).connect()\n",
    "# datayesdb_conn = MysqlConn(json.dumps(datayesdb)).connect()\n",
    "researchrpt_conn = MysqlConn(json.dumps(researchrpt)).connect()\n",
    "\n",
    "# datayesdb_conn = MssqlConn(json.dumps(datayesdb)).connect()\n",
    "# datayes_conn = MssqlConn(json.dumps(datayes)).connect()\n"
   ]
  },
  {
   "cell_type": "code",
   "execution_count": 13,
   "metadata": {},
   "outputs": [],
   "source": [
    "from datetime import datetime,timedelta\n",
    "# BASIC QUERY\n",
    "# select * from con_forecast_stk where CON_DATE='2019-09-25 00:00:00' \n",
    "# select * from con_forecast_schedule where CON_DATE='2019-09-25 00:00:00'\n",
    "# select * from con_stock_income where tdate='20190925' "
   ]
  },
  {
   "cell_type": "code",
   "execution_count": 16,
   "metadata": {},
   "outputs": [
    {
     "name": "stdout",
     "output_type": "stream",
     "text": [
      "   count(*)\n",
      "0     15303\n",
      "   count(*)\n",
      "0      3832\n"
     ]
    }
   ],
   "source": [
    "# To get count(*) of previous day \n",
    "sql = [\"\"\"select count(*) from con_forecast_stk where CON_DATE='%s 00:00:00'\"\"\",\n",
    "      \"\"\"select count(*) from con_forecast_schedule where CON_DATE='%s 00:00:00'\"\"\"]\n",
    "curdatetime = (datetime.now()-timedelta(days=1)).strftime(\"%Y-%m-%d\")\n",
    "for s in sql:\n",
    "    dfcount = pd.read_sql(s % curdatetime, researchrpt_conn)\n",
    "    print(dfcount)"
   ]
  },
  {
   "cell_type": "code",
   "execution_count": null,
   "metadata": {},
   "outputs": [],
   "source": []
  },
  {
   "cell_type": "code",
   "execution_count": null,
   "metadata": {},
   "outputs": [],
   "source": []
  }
 ],
 "metadata": {
  "kernelspec": {
   "display_name": "Python 2",
   "language": "python",
   "name": "python2"
  },
  "language_info": {
   "codemirror_mode": {
    "name": "ipython",
    "version": 2
   },
   "file_extension": ".py",
   "mimetype": "text/x-python",
   "name": "python",
   "nbconvert_exporter": "python",
   "pygments_lexer": "ipython2",
   "version": "2.7.11"
  }
 },
 "nbformat": 4,
 "nbformat_minor": 2
}
