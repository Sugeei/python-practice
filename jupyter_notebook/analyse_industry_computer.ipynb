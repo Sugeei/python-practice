{
 "cells": [
  {
   "cell_type": "code",
   "execution_count": 11,
   "metadata": {},
   "outputs": [],
   "source": [
    "\n",
    "class MysqlConn(object):\n",
    "    def __init__(self, config_json_str):\n",
    "        # self.mysql_config = {\"host\": \"10.22.128.150\",  \"port\": 3317, \"db\": \"bigdata\", \"user\": \"talend_load\",\n",
    "        #   \"passwd\": \"s9t5gNThn2vqWM7c\" , \"charset\" : \"utf8\"}\n",
    "        # self.mysql_config = {\"host\": \"db-bigdata.wmcloud-qa.com\",  \"port\": 3312, \"db\": \"bigdata\", \"user\": \"app_bigdata_ro\",\n",
    "        #   \"passwd\": \"Welcome_20141217\"}\n",
    "        self.mysql_config = json.loads(config_json_str, encoding='utf-8')\n",
    "\n",
    "    def connect(self):\n",
    "        mysql_conn = pymysql.connect(**self.mysql_config)\n",
    "        return mysql_conn\n",
    "\n",
    "class MssqlConn(object):\n",
    "    def __init__(self, config_json_str):\n",
    "        # self.mssql_config = {\"server\": \"sh-datayesdb.wmcloud-dev.com\",  \"port\": 1433, \"database\": \"datayesdb\",\n",
    "        #     \"user\": \"talend_load\", \"password\": \"Welcome01\"}\n",
    "        self.mssql_config = json.loads(config_json_str, encoding='utf-8')\n",
    "\n",
    "    def connect(self):\n",
    "        mssql_conn = pymssql.connect(**self.mssql_config)\n",
    "        return mssql_conn\n",
    "\n",
    "    def __str__(self):\n",
    "        return json.dumps(self.mssql_config, ensure_ascii=False, encoding='utf-8')\n",
    "\n"
   ]
  },
  {
   "cell_type": "code",
   "execution_count": 33,
   "metadata": {},
   "outputs": [],
   "source": [
    "import json\n",
    "import pymysql\n",
    "import pymssql\n",
    "# MySQL\n",
    "bigdata={\"host\":\"security03-dev.datayes.com\",\"port\":3306,\"user\":\"talend_load\",\"passwd\":\"NCph1G9BQT3DuQj\",\"db\":\"bigdata\",\"charset\":\"utf8\"}\n",
    "dateyesdbp={\"host\":\"db-datayesdb-ro.wmcloud.com\",\"port\":3313,\"user\":\"app_dataqa_ro\",\"passwd\":\"Welcome20140820\",\"db\":\"datayesdbp\",\"charset\":\"utf8\"}\n",
    "\n",
    "# dateyesdbp={\"host\":\"db-datayesdb.wmcloud.com\",\"port\":3312,\"user\":\"app_marketdata\",\"passwd\":\"JDFJ8dfasd8aKfu\",\"db\":\"datayesdbp\",\"charset\":\"utf8\"}\n",
    "\n",
    "# SQLserver\n",
    "datayes={\"server\":\"sh-dm-db05.datayes.com\",\"port\":1433,\"database\":\"dyedb\",\"user\":\"talend_load\",\"password\":\"s9t5gNThn2vqWM7c\",\"charset\":\"utf8\"}\n",
    "\n",
    "\n",
    "bigdata_conn = MysqlConn(json.dumps(bigdata)).connect()\n",
    "dateyesdbp_conn = MysqlConn(json.dumps(dateyesdbp)).connect()\n",
    "\n",
    "datayes_conn = MssqlConn(json.dumps(datayes)).connect()\n"
   ]
  },
  {
   "cell_type": "code",
   "execution_count": null,
   "metadata": {},
   "outputs": [],
   "source": [
    "# 从dyedy MSsql库中查询party_id"
   ]
  },
  {
   "cell_type": "code",
   "execution_count": 16,
   "metadata": {},
   "outputs": [
    {
     "name": "stdout",
     "output_type": "stream",
     "text": [
      "   party_id\n",
      "0        69\n",
      "1      1251\n",
      "2       361\n",
      "3    568715\n",
      "4       507\n"
     ]
    }
   ],
   "source": [
    "import pandas as pd\n",
    "\n",
    "# to get party_id list\n",
    "sql = \"\"\"\n",
    "select party_id from md_security where EXCHANGE_CD in ('XSHG', 'XSHE') and ASSET_CLASS='E' and party_id in (\n",
    "select distinct(party_id) from md_inst_type where type_id in \n",
    "(\n",
    "select type_id from md_type where type_name like '%计算机%'\n",
    ")\n",
    ")\n",
    "\"\"\"\n",
    "party_ids = pd.read_sql(sql, datayes_conn)\n",
    "\n",
    "print party_ids.head()"
   ]
  },
  {
   "cell_type": "code",
   "execution_count": 38,
   "metadata": {},
   "outputs": [
    {
     "name": "stdout",
     "output_type": "stream",
     "text": [
      "<class 'pandas.core.frame.DataFrame'>\n",
      "RangeIndex: 494 entries, 0 to 493\n",
      "Data columns (total 1 columns):\n",
      "party_id    494 non-null int64\n",
      "dtypes: int64(1)\n",
      "memory usage: 3.9 KB\n"
     ]
    }
   ],
   "source": [
    "# party_ids.T.iloc[0].values\n",
    "party_ids.info()"
   ]
  },
  {
   "cell_type": "code",
   "execution_count": 27,
   "metadata": {},
   "outputs": [],
   "source": [
    "# 从datayesdbp mssql库中读取财务数据"
   ]
  },
  {
   "cell_type": "code",
   "execution_count": 36,
   "metadata": {},
   "outputs": [
    {
     "name": "stdout",
     "output_type": "stream",
     "text": [
      "   SECURITY_ID_INT  SECURITY_ID  PARTY_ID TICKER_SYMBOL SEC_SHORT_NAME  \\\n",
      "0               27  000014.XSHE        15        000014           沙河股份   \n",
      "1               27  000014.XSHE        15        000014           沙河股份   \n",
      "2               27  000014.XSHE        15        000014           沙河股份   \n",
      "3               27  000014.XSHE        15        000014           沙河股份   \n",
      "4               27  000014.XSHE        15        000014           沙河股份   \n",
      "\n",
      "  SEC_SHORT_NAME_EN EXCHANGE_CD         ACT_PUBTIME PUBLISH_DATE    END_DATE  \\\n",
      "0              None        XSHE 2003-04-22 18:00:00   2003-04-23  2003-03-31   \n",
      "1              None        XSHE 2003-07-16 18:00:00   2003-07-17  2003-06-30   \n",
      "2              None        XSHE 2003-10-22 18:00:00   2003-10-23  2003-09-30   \n",
      "3              None        XSHE 2004-03-29 18:00:00   2004-03-30  2003-12-31   \n",
      "4              None        XSHE 2005-04-22 18:00:00   2005-04-23  2003-12-31   \n",
      "\n",
      "          ...          C_RESER_PS  S_RESER_PS  RESER_PS   RE_PS  T_RE_PS  \\\n",
      "0         ...              1.0604      0.1955    1.2559  0.3254   0.5209   \n",
      "1         ...              1.0604      0.1955    1.2559  0.3897   0.5852   \n",
      "2         ...              1.0604      0.1955    1.2559  0.4645   0.6600   \n",
      "3         ...              1.0604      0.2454    1.3059  0.5978   0.8433   \n",
      "4         ...              1.0604      0.2454    1.3059  0.5978   0.8433   \n",
      "\n",
      "   N_CF_OPER_A_PS  N_C_IN_CASH_PS  FCFF_PS  FCFE_PS         UPDATE_TIME  \n",
      "0         -0.8696          0.2471  -0.8749   3.8135 2018-11-15 13:39:26  \n",
      "1         -0.8367         -0.1829      NaN   2.6186 2018-11-15 13:39:26  \n",
      "2         -1.2415         -0.6479  -1.2611   2.2097 2018-11-15 13:39:26  \n",
      "3         -1.1778         -0.1035  -1.1949   1.8229 2018-11-15 13:39:26  \n",
      "4         -1.1778         -0.1035  -1.1989   1.8189 2018-11-15 13:39:26  \n",
      "\n",
      "[5 rows x 28 columns]\n"
     ]
    }
   ],
   "source": [
    "sql = \"\"\"\n",
    "select * from vfdmt_indi_ps_pit\n",
    "where party_id in (%s)\n",
    "\"\"\" % (','.join(party_ids.astype(str).T.iloc[0].values))\n",
    "v = pd.read_sql(sql, dateyesdbp_conn)\n",
    "\n",
    "print v.head()"
   ]
  },
  {
   "cell_type": "code",
   "execution_count": 37,
   "metadata": {},
   "outputs": [
    {
     "name": "stdout",
     "output_type": "stream",
     "text": [
      "<class 'pandas.core.frame.DataFrame'>\n",
      "RangeIndex: 38030 entries, 0 to 38029\n",
      "Data columns (total 28 columns):\n",
      "SECURITY_ID_INT      38030 non-null int64\n",
      "SECURITY_ID          38030 non-null object\n",
      "PARTY_ID             38030 non-null int64\n",
      "TICKER_SYMBOL        38030 non-null object\n",
      "SEC_SHORT_NAME       38030 non-null object\n",
      "SEC_SHORT_NAME_EN    33002 non-null object\n",
      "EXCHANGE_CD          38030 non-null object\n",
      "ACT_PUBTIME          38030 non-null datetime64[ns]\n",
      "PUBLISH_DATE         38030 non-null object\n",
      "END_DATE             38030 non-null object\n",
      "EPS                  36478 non-null float64\n",
      "BASIC_EPS            31774 non-null float64\n",
      "DILUTED_EPS          31663 non-null float64\n",
      "N_ASSET_PS           24383 non-null float64\n",
      "T_REV_PS             36431 non-null float64\n",
      "REV_PS               36442 non-null float64\n",
      "OP_PS                36458 non-null float64\n",
      "EBIT_PS              23646 non-null float64\n",
      "C_RESER_PS           23441 non-null float64\n",
      "S_RESER_PS           23251 non-null float64\n",
      "RESER_PS             23077 non-null float64\n",
      "RE_PS                23623 non-null float64\n",
      "T_RE_PS              23238 non-null float64\n",
      "N_CF_OPER_A_PS       33580 non-null float64\n",
      "N_C_IN_CASH_PS       33578 non-null float64\n",
      "FCFF_PS              22206 non-null float64\n",
      "FCFE_PS              22627 non-null float64\n",
      "UPDATE_TIME          38030 non-null datetime64[ns]\n",
      "dtypes: datetime64[ns](2), float64(17), int64(2), object(7)\n",
      "memory usage: 8.1+ MB\n"
     ]
    }
   ],
   "source": [
    "v.info()"
   ]
  },
  {
   "cell_type": "code",
   "execution_count": null,
   "metadata": {},
   "outputs": [],
   "source": [
    "# 获取过去一年股票增长率的情况， 分类， 筛选表现较好的股票， 分析它们的公司情况\n",
    "# 逆推，不是用公司营业收入等等去推算未来股份的表现，而是倒推"
   ]
  },
  {
   "cell_type": "code",
   "execution_count": null,
   "metadata": {},
   "outputs": [],
   "source": []
  }
 ],
 "metadata": {
  "kernelspec": {
   "display_name": "Python 2",
   "language": "python",
   "name": "python2"
  },
  "language_info": {
   "codemirror_mode": {
    "name": "ipython",
    "version": 2
   },
   "file_extension": ".py",
   "mimetype": "text/x-python",
   "name": "python",
   "nbconvert_exporter": "python",
   "pygments_lexer": "ipython2",
   "version": "2.7.11"
  }
 },
 "nbformat": 4,
 "nbformat_minor": 2
}
