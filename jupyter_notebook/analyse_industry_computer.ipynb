{
 "cells": [
  {
   "cell_type": "code",
   "execution_count": 11,
   "metadata": {},
   "outputs": [],
   "source": [
    "\n",
    "class MysqlConn(object):\n",
    "    def __init__(self, config_json_str):\n",
    "        # self.mysql_config = {\"host\": \"10.22.128.150\",  \"port\": 3317, \"db\": \"bigdata\", \"user\": \"talend_load\",\n",
    "        #   \"passwd\": \"s9t5gNThn2vqWM7c\" , \"charset\" : \"utf8\"}\n",
    "        # self.mysql_config = {\"host\": \"db-bigdata.wmcloud-qa.com\",  \"port\": 3312, \"db\": \"bigdata\", \"user\": \"app_bigdata_ro\",\n",
    "        #   \"passwd\": \"Welcome_20141217\"}\n",
    "        self.mysql_config = json.loads(config_json_str, encoding='utf-8')\n",
    "\n",
    "    def connect(self):\n",
    "        mysql_conn = pymysql.connect(**self.mysql_config)\n",
    "        return mysql_conn\n",
    "\n",
    "class MssqlConn(object):\n",
    "    def __init__(self, config_json_str):\n",
    "        # self.mssql_config = {\"server\": \"sh-datayesdb.wmcloud-dev.com\",  \"port\": 1433, \"database\": \"datayesdb\",\n",
    "        #     \"user\": \"talend_load\", \"password\": \"Welcome01\"}\n",
    "        self.mssql_config = json.loads(config_json_str, encoding='utf-8')\n",
    "\n",
    "    def connect(self):\n",
    "        mssql_conn = pymssql.connect(**self.mssql_config)\n",
    "        return mssql_conn\n",
    "\n",
    "    def __str__(self):\n",
    "        return json.dumps(self.mssql_config, ensure_ascii=False, encoding='utf-8')\n",
    "\n"
   ]
  },
  {
   "cell_type": "code",
   "execution_count": 14,
   "metadata": {},
   "outputs": [],
   "source": [
    "import json\n",
    "import pymysql\n",
    "import pymssql\n",
    "bigdata={\"host\":\"security03-dev.datayes.com\",\"port\":3306,\"user\":\"talend_load\",\"passwd\":\"NCph1G9BQT3DuQj\",\"db\":\"bigdata\",\"charset\":\"utf8\"}\n",
    "\n",
    "datayes={\"server\":\"sh-dm-db05.datayes.com\",\"port\":1433,\"database\":\"dyedb\",\"user\":\"talend_load\",\"password\":\"s9t5gNThn2vqWM7c\",\"charset\":\"utf8\"}\n",
    "\n",
    "\n",
    "bigdata_conn = MysqlConn(json.dumps(bigdata)).connect()\n",
    "\n",
    "datayes_conn = MssqlConn(json.dumps(datayes)).connect()\n"
   ]
  },
  {
   "cell_type": "code",
   "execution_count": null,
   "metadata": {},
   "outputs": [],
   "source": [
    "# 从dyedy MSsql库中查询party_id"
   ]
  },
  {
   "cell_type": "code",
   "execution_count": 16,
   "metadata": {},
   "outputs": [
    {
     "name": "stdout",
     "output_type": "stream",
     "text": [
      "   party_id\n",
      "0        69\n",
      "1      1251\n",
      "2       361\n",
      "3    568715\n",
      "4       507\n"
     ]
    }
   ],
   "source": [
    "import pandas as pd\n",
    "\n",
    "# to get party_id list\n",
    "sql = \"\"\"\n",
    "select party_id from md_security where EXCHANGE_CD in ('XSHG', 'XSHE') and ASSET_CLASS='E' and party_id in (\n",
    "select distinct(party_id) from md_inst_type where type_id in \n",
    "(\n",
    "select type_id from md_type where type_name like '%计算机%'\n",
    ")\n",
    ")\n",
    "\"\"\"\n",
    "party_ids = pd.read_sql(sql, datayes_conn)\n",
    "\n",
    "print party_ids.head()"
   ]
  },
  {
   "cell_type": "code",
   "execution_count": null,
   "metadata": {},
   "outputs": [],
   "source": [
    "# 从datayesdbp mssql库中读取财务数据"
   ]
  },
  {
   "cell_type": "code",
   "execution_count": null,
   "metadata": {},
   "outputs": [],
   "source": []
  }
 ],
 "metadata": {
  "kernelspec": {
   "display_name": "Python 2",
   "language": "python",
   "name": "python2"
  },
  "language_info": {
   "codemirror_mode": {
    "name": "ipython",
    "version": 2
   },
   "file_extension": ".py",
   "mimetype": "text/x-python",
   "name": "python",
   "nbconvert_exporter": "python",
   "pygments_lexer": "ipython2",
   "version": "2.7.11"
  }
 },
 "nbformat": 4,
 "nbformat_minor": 2
}
