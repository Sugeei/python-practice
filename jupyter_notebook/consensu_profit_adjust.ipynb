{
 "cells": [
  {
   "cell_type": "markdown",
   "metadata": {},
   "source": [
    "# 一致预期 profit 表"
   ]
  },
  {
   "cell_type": "code",
   "execution_count": 1,
   "metadata": {},
   "outputs": [],
   "source": [
    "\n",
    "class MysqlConn(object):\n",
    "    def __init__(self, config_json_str):\n",
    "        # self.mysql_config = {\"host\": \"10.22.128.150\",  \"port\": 3317, \"db\": \"bigdata\", \"user\": \"talend_load\",\n",
    "        #   \"passwd\": \"s9t5gNThn2vqWM7c\" , \"charset\" : \"utf8\"}\n",
    "        # self.mysql_config = {\"host\": \"db-bigdata.wmcloud-qa.com\",  \"port\": 3312, \"db\": \"bigdata\", \"user\": \"app_bigdata_ro\",\n",
    "        #   \"passwd\": \"Welcome_20141217\"}\n",
    "        self.mysql_config = json.loads(config_json_str, encoding='utf-8')\n",
    "\n",
    "    def connect(self):\n",
    "        mysql_conn = pymysql.connect(**self.mysql_config)\n",
    "        return mysql_conn\n",
    "\n",
    "class MssqlConn(object):\n",
    "    def __init__(self, config_json_str):\n",
    "        # self.mssql_config = {\"server\": \"sh-datayesdb.wmcloud-dev.com\",  \"port\": 1433, \"database\": \"datayesdb\",\n",
    "        #     \"user\": \"talend_load\", \"password\": \"Welcome01\"}\n",
    "        self.mssql_config = json.loads(config_json_str, encoding='utf-8')\n",
    "\n",
    "    def connect(self):\n",
    "        mssql_conn = pymssql.connect(**self.mssql_config)\n",
    "        return mssql_conn\n",
    "\n",
    "    def __str__(self):\n",
    "        return json.dumps(self.mssql_config, ensure_ascii=False, encoding='utf-8')\n",
    "\n"
   ]
  },
  {
   "cell_type": "code",
   "execution_count": 88,
   "metadata": {},
   "outputs": [],
   "source": [
    "import json\n",
    "import pymysql\n",
    "import pymssql\n",
    "# MySQL\n",
    "# bigdata={\"host\":\"security03-dev.datayes.com\",\"port\":3306,\"user\":\"talend_load\",\"passwd\":\"NCph1G9BQT3DuQj\",\"db\":\"bigdata\",\"charset\":\"utf8\"}\n",
    "# dateyesdbp={\"host\":\"db-datayesdb-ro.wmcloud.com\",\"port\":3313,\"user\":\"app_dataqa_ro\",\"passwd\":\"Welcome20140820\",\"db\":\"datayesdbp\",\"charset\":\"utf8\"}\n",
    "# datayesdb={\"host\":\"db-datayesdb-ro.wmcloud.com\",\"port\":3313,\"database\":\"datayesdb\",\"user\":\"app_gaea_ro\",\"password\":\"EQw6WquhnCKPp8Li\",\"charset\":\"utf8\"}\n",
    "\n",
    "# researchrpt={\"host\":\"db-researchrpt-ro.wmcloud.com\",\"port\":3306,\"user\":\"app_gaea_ro\",\"passwd\":\"UDVVkvULzakP2048\",\"db\":\"research_rpt\",\"charset\":\"utf8\"}\n",
    "# dev\n",
    "# researchrpt={\"host\":\"10.24.21.34\",\"port\":3306,\"user\":\"app_researchrep\",\"passwd\":\"dG8pqlk5VKOMvDH\",\"db\":\"research_rpt\",\"charset\":\"utf8\"}\n",
    "# prd\n",
    "researchrpt={\"host\":\"db-researchrpt.wmcloud.com\",\"port\":3306,\"user\":\"app_researchrep\",\"passwd\":\"dG8pqlk5VKOMvDH\",\"db\":\"research_rpt\",\"charset\":\"utf8\"}\n",
    "\n",
    "# SQLserver\n",
    "# datayes={\"server\":\"sh-dm-db05.datayes.com\",\"port\":1433,\"database\":\"dyedb\",\"user\":\"talend_load\",\"password\":\"s9t5gNThn2vqWM7c\",\"charset\":\"utf8\"}\n",
    "datayesdb={\"server\":\"10.21.139.72\",\"port\":1433,\"database\":\"datayesdb\",\"user\":\"talend_load\",\"password\":\"s9t5gNThn2vqWM7c\",\"charset\":\"utf8\"}\n",
    "\n",
    "\n",
    "\n",
    "# bigdata_conn = MysqlConn(json.dumps(bigdata)).connect()\n",
    "# dateyesdbp_conn = MysqlConn(json.dumps(dateyesdbp)).connect()\n",
    "# datayesdb_conn = MysqlConn(json.dumps(datayesdb)).connect()\n",
    "researchrpt_conn = MysqlConn(json.dumps(researchrpt)).connect()\n",
    "\n",
    "datayesdb_conn = MssqlConn(json.dumps(datayesdb)).connect()\n",
    "# datayes_conn = MssqlConn(json.dumps(datayes)).connect()\n"
   ]
  },
  {
   "cell_type": "code",
   "execution_count": 58,
   "metadata": {},
   "outputs": [],
   "source": [
    "import pandas as pd\n",
    "from datetime import datetime, timedelta"
   ]
  },
  {
   "cell_type": "markdown",
   "metadata": {},
   "source": [
    "# R04"
   ]
  },
  {
   "cell_type": "code",
   "execution_count": 4,
   "metadata": {},
   "outputs": [
    {
     "name": "stderr",
     "output_type": "stream",
     "text": [
      "c:\\python27\\lib\\site-packages\\pymysql\\cursors.py:166: Warning: (1292, u\"Truncated incorrect DOUBLE value: 'A00611'\")\n",
      "  result = self._query(query)\n"
     ]
    }
   ],
   "source": [
    "sql=\"\"\"\n",
    "select id, code, code_name, title, organ_id, author, create_date from der_report_research \n",
    "where code = 002493 and organ_id=2570 order by create_date desc\"\"\"\n",
    "\n",
    "base_df = pd.read_sql(sql, researchrpt_conn)"
   ]
  },
  {
   "cell_type": "code",
   "execution_count": 5,
   "metadata": {},
   "outputs": [
    {
     "data": {
      "text/html": [
       "<div>\n",
       "<style scoped>\n",
       "    .dataframe tbody tr th:only-of-type {\n",
       "        vertical-align: middle;\n",
       "    }\n",
       "\n",
       "    .dataframe tbody tr th {\n",
       "        vertical-align: top;\n",
       "    }\n",
       "\n",
       "    .dataframe thead th {\n",
       "        text-align: right;\n",
       "    }\n",
       "</style>\n",
       "<table border=\"1\" class=\"dataframe\">\n",
       "  <thead>\n",
       "    <tr style=\"text-align: right;\">\n",
       "      <th></th>\n",
       "      <th>id</th>\n",
       "      <th>code</th>\n",
       "      <th>code_name</th>\n",
       "      <th>title</th>\n",
       "      <th>organ_id</th>\n",
       "      <th>author</th>\n",
       "      <th>create_date</th>\n",
       "    </tr>\n",
       "  </thead>\n",
       "  <tbody>\n",
       "    <tr>\n",
       "      <th>0</th>\n",
       "      <td>2107999</td>\n",
       "      <td>002493</td>\n",
       "      <td>荣盛石化</td>\n",
       "      <td>荣盛石化（002493）：费用拖累18年业绩，浙石化转向生产准备阶段</td>\n",
       "      <td>2570</td>\n",
       "      <td>张樨樨,贾广博</td>\n",
       "      <td>2019-04-17</td>\n",
       "    </tr>\n",
       "    <tr>\n",
       "      <th>1</th>\n",
       "      <td>2095553</td>\n",
       "      <td>002493</td>\n",
       "      <td>荣盛石化</td>\n",
       "      <td>荣盛石化（002493）：下修2018年业绩指引，18Q4单季度预亏</td>\n",
       "      <td>2570</td>\n",
       "      <td>张樨樨,贾广博</td>\n",
       "      <td>2019-02-11</td>\n",
       "    </tr>\n",
       "    <tr>\n",
       "      <th>2</th>\n",
       "      <td>2053543</td>\n",
       "      <td>002493</td>\n",
       "      <td>荣盛石化</td>\n",
       "      <td>荣盛石化（002493）：财务费用拖累二季度业绩，下半年盈利有望改善</td>\n",
       "      <td>2570</td>\n",
       "      <td>张樨樨</td>\n",
       "      <td>2018-08-19</td>\n",
       "    </tr>\n",
       "    <tr>\n",
       "      <th>3</th>\n",
       "      <td>2011606</td>\n",
       "      <td>002493</td>\n",
       "      <td>荣盛石化</td>\n",
       "      <td>荣盛石化(002493)：1季报符合预期,浙石化全面建设</td>\n",
       "      <td>2570</td>\n",
       "      <td>张樨樨</td>\n",
       "      <td>2018-04-26</td>\n",
       "    </tr>\n",
       "    <tr>\n",
       "      <th>4</th>\n",
       "      <td>2006523</td>\n",
       "      <td>002493</td>\n",
       "      <td>荣盛石化</td>\n",
       "      <td>荣盛石化(002493)：PTA渐成产业链优势环节,浙石化开启新一轮成长!</td>\n",
       "      <td>2570</td>\n",
       "      <td>张樨樨</td>\n",
       "      <td>2018-04-06</td>\n",
       "    </tr>\n",
       "    <tr>\n",
       "      <th>5</th>\n",
       "      <td>1180294</td>\n",
       "      <td>002493</td>\n",
       "      <td>荣盛石化</td>\n",
       "      <td>荣盛石化：Q3业绩符合预期，芳烃－PTA－涤纶一体化优势明显</td>\n",
       "      <td>2570</td>\n",
       "      <td>李振永,李扬</td>\n",
       "      <td>2016-10-27</td>\n",
       "    </tr>\n",
       "  </tbody>\n",
       "</table>\n",
       "</div>"
      ],
      "text/plain": [
       "        id    code code_name                                  title  organ_id  \\\n",
       "0  2107999  002493      荣盛石化     荣盛石化（002493）：费用拖累18年业绩，浙石化转向生产准备阶段      2570   \n",
       "1  2095553  002493      荣盛石化     荣盛石化（002493）：下修2018年业绩指引，18Q4单季度预亏      2570   \n",
       "2  2053543  002493      荣盛石化     荣盛石化（002493）：财务费用拖累二季度业绩，下半年盈利有望改善      2570   \n",
       "3  2011606  002493      荣盛石化           荣盛石化(002493)：1季报符合预期,浙石化全面建设      2570   \n",
       "4  2006523  002493      荣盛石化  荣盛石化(002493)：PTA渐成产业链优势环节,浙石化开启新一轮成长!      2570   \n",
       "5  1180294  002493      荣盛石化         荣盛石化：Q3业绩符合预期，芳烃－PTA－涤纶一体化优势明显      2570   \n",
       "\n",
       "    author create_date  \n",
       "0  张樨樨,贾广博  2019-04-17  \n",
       "1  张樨樨,贾广博  2019-02-11  \n",
       "2      张樨樨  2018-08-19  \n",
       "3      张樨樨  2018-04-26  \n",
       "4      张樨樨  2018-04-06  \n",
       "5   李振永,李扬  2016-10-27  "
      ]
     },
     "execution_count": 5,
     "metadata": {},
     "output_type": "execute_result"
    }
   ],
   "source": [
    "base_df"
   ]
  },
  {
   "cell_type": "code",
   "execution_count": 6,
   "metadata": {},
   "outputs": [],
   "source": [
    "sql=\"\"\"\n",
    "select REPORT_SEARCH_ID, TIME_YEAR, FORECAST_PROFIT,FORECAST_INCOME_SHARE from der_report_subtable \n",
    "where report_search_id = 2107999\"\"\""
   ]
  },
  {
   "cell_type": "code",
   "execution_count": 7,
   "metadata": {},
   "outputs": [
    {
     "data": {
      "text/html": [
       "<div>\n",
       "<style scoped>\n",
       "    .dataframe tbody tr th:only-of-type {\n",
       "        vertical-align: middle;\n",
       "    }\n",
       "\n",
       "    .dataframe tbody tr th {\n",
       "        vertical-align: top;\n",
       "    }\n",
       "\n",
       "    .dataframe thead th {\n",
       "        text-align: right;\n",
       "    }\n",
       "</style>\n",
       "<table border=\"1\" class=\"dataframe\">\n",
       "  <thead>\n",
       "    <tr style=\"text-align: right;\">\n",
       "      <th></th>\n",
       "      <th>REPORT_SEARCH_ID</th>\n",
       "      <th>TIME_YEAR</th>\n",
       "      <th>FORECAST_PROFIT</th>\n",
       "      <th>FORECAST_INCOME_SHARE</th>\n",
       "    </tr>\n",
       "  </thead>\n",
       "  <tbody>\n",
       "    <tr>\n",
       "      <th>0</th>\n",
       "      <td>2107999</td>\n",
       "      <td>2019</td>\n",
       "      <td>421618.0</td>\n",
       "      <td>0.67</td>\n",
       "    </tr>\n",
       "    <tr>\n",
       "      <th>1</th>\n",
       "      <td>2107999</td>\n",
       "      <td>2020</td>\n",
       "      <td>786056.0</td>\n",
       "      <td>1.25</td>\n",
       "    </tr>\n",
       "    <tr>\n",
       "      <th>2</th>\n",
       "      <td>2107999</td>\n",
       "      <td>2021</td>\n",
       "      <td>890949.0</td>\n",
       "      <td>1.42</td>\n",
       "    </tr>\n",
       "  </tbody>\n",
       "</table>\n",
       "</div>"
      ],
      "text/plain": [
       "   REPORT_SEARCH_ID  TIME_YEAR  FORECAST_PROFIT  FORECAST_INCOME_SHARE\n",
       "0           2107999       2019         421618.0                   0.67\n",
       "1           2107999       2020         786056.0                   1.25\n",
       "2           2107999       2021         890949.0                   1.42"
      ]
     },
     "execution_count": 7,
     "metadata": {},
     "output_type": "execute_result"
    }
   ],
   "source": [
    "\n",
    "base_df = pd.read_sql(sql, researchrpt_conn)\n",
    "base_df"
   ]
  },
  {
   "cell_type": "code",
   "execution_count": 8,
   "metadata": {},
   "outputs": [],
   "source": [
    "# 每一篇研报对应多个年份的预测值\n"
   ]
  },
  {
   "cell_type": "code",
   "execution_count": null,
   "metadata": {},
   "outputs": [],
   "source": [
    "\n"
   ]
  },
  {
   "cell_type": "code",
   "execution_count": 21,
   "metadata": {},
   "outputs": [],
   "source": [
    "# base_df\n",
    "filter_str = \"CREATE_DATE\" # 根据 num 列分开1，2 后， 需要从num=1的数据中筛选出日期为查询日期的数据\n",
    "this_date_str = '2019-03-29'\n",
    "\n",
    "\n",
    "primary_key=['CODE','ORGAN_ID','TIME_YEAR'] # 用于merge\n",
    "last_key=['FORECAST_PROFIT', 'FORECAST_INCOME_SHARE', 'CREATE_DATE'] # 同一个机构上次对本证券做的预测报告的撰写日期 同一个机构上次对本证券做的预测报告的评级"
   ]
  },
  {
   "cell_type": "code",
   "execution_count": 22,
   "metadata": {},
   "outputs": [],
   "source": [
    "sql = \"\"\"\n",
    "SELECT  id, fileguid, CODE, CODE_NAME, TITLE, AUTHOR, CREATE_DATE, ORGAN_ID, num\n",
    "FROM (\n",
    "\tSELECT id, fileguid, CODE, CODE_NAME, TITLE, AUTHOR, CREATE_DATE, ORGAN_ID,\n",
    "\t\t   (@row_number:=\n",
    "\t\t\t   case when CODE = @pre_code and ORGAN_ID = @pre_organ_id\n",
    "\t\t\tthen @row_number+1\n",
    "\t\t\t else 1\n",
    "\t\t\tend\n",
    "\t\t   ) as num,\n",
    "\t\t(@pre_code := CODE),\n",
    "\t\t(@pre_organ_id := ORGAN_ID)\n",
    "\tFROM der_report_research,(select @row_number:=1,@pre_code:='',@pre_organ_id:='') a\n",
    "\twhere CREATE_DATE <= '%s 00:00:00'\n",
    "\torder by CODE,ORGAN_ID,CREATE_DATE desc\n",
    ") a\n",
    "where a.num<=2\n",
    "\"\"\" % (this_date_str)\n",
    "base_df = pd.read_sql(sql, researchrpt_conn)\n"
   ]
  },
  {
   "cell_type": "code",
   "execution_count": 23,
   "metadata": {},
   "outputs": [],
   "source": [
    "base_df['num'] = base_df['num'].astype(int)\n",
    "base_df[filter_str]=base_df[filter_str].dt.strftime('%Y-%m-%d')"
   ]
  },
  {
   "cell_type": "code",
   "execution_count": 12,
   "metadata": {},
   "outputs": [],
   "source": [
    "# sql"
   ]
  },
  {
   "cell_type": "code",
   "execution_count": 13,
   "metadata": {},
   "outputs": [
    {
     "data": {
      "text/html": [
       "<div>\n",
       "<style scoped>\n",
       "    .dataframe tbody tr th:only-of-type {\n",
       "        vertical-align: middle;\n",
       "    }\n",
       "\n",
       "    .dataframe tbody tr th {\n",
       "        vertical-align: top;\n",
       "    }\n",
       "\n",
       "    .dataframe thead th {\n",
       "        text-align: right;\n",
       "    }\n",
       "</style>\n",
       "<table border=\"1\" class=\"dataframe\">\n",
       "  <thead>\n",
       "    <tr style=\"text-align: right;\">\n",
       "      <th></th>\n",
       "      <th>id</th>\n",
       "      <th>fileguid</th>\n",
       "      <th>CODE</th>\n",
       "      <th>CODE_NAME</th>\n",
       "      <th>TITLE</th>\n",
       "      <th>AUTHOR</th>\n",
       "      <th>CREATE_DATE</th>\n",
       "      <th>ORGAN_ID</th>\n",
       "      <th>num</th>\n",
       "    </tr>\n",
       "  </thead>\n",
       "  <tbody>\n",
       "    <tr>\n",
       "      <th>168342</th>\n",
       "      <td>2104914</td>\n",
       "      <td>3700546</td>\n",
       "      <td>A19028</td>\n",
       "      <td>科前生物</td>\n",
       "      <td>科前生物（A19028）：科创板医药生物系列之一</td>\n",
       "      <td>杜永宏</td>\n",
       "      <td>2019-04-08</td>\n",
       "      <td>123</td>\n",
       "      <td>1</td>\n",
       "    </tr>\n",
       "    <tr>\n",
       "      <th>168343</th>\n",
       "      <td>2110499</td>\n",
       "      <td>3717230</td>\n",
       "      <td>A19031</td>\n",
       "      <td>澜起科技</td>\n",
       "      <td>澜起科技（A19031）电子行业科创板系列报告之二：内存接口芯片设计公司</td>\n",
       "      <td>宋江波,胡慧</td>\n",
       "      <td>2019-04-24</td>\n",
       "      <td>216</td>\n",
       "      <td>1</td>\n",
       "    </tr>\n",
       "    <tr>\n",
       "      <th>168344</th>\n",
       "      <td>2114075</td>\n",
       "      <td>3742186</td>\n",
       "      <td>A19036</td>\n",
       "      <td>晶丰明源</td>\n",
       "      <td>晶丰明源（A19036）：LED驱动芯片国内领先，深耕通用领域发力智能照明</td>\n",
       "      <td>黄瑜,季清斌</td>\n",
       "      <td>2019-05-06</td>\n",
       "      <td>20</td>\n",
       "      <td>1</td>\n",
       "    </tr>\n",
       "    <tr>\n",
       "      <th>168345</th>\n",
       "      <td>2104827</td>\n",
       "      <td>3700953</td>\n",
       "      <td>A19042</td>\n",
       "      <td>恒安嘉新</td>\n",
       "      <td>恒安嘉新（A19042）：科创板信息安全系列之一</td>\n",
       "      <td>于芳</td>\n",
       "      <td>2019-04-09</td>\n",
       "      <td>123</td>\n",
       "      <td>1</td>\n",
       "    </tr>\n",
       "    <tr>\n",
       "      <th>168346</th>\n",
       "      <td>2111670</td>\n",
       "      <td>3722040</td>\n",
       "      <td>A19063</td>\n",
       "      <td>心脉医疗</td>\n",
       "      <td>心脉医疗（A19063）：主动脉介入行业领先企业，多产品份额领先</td>\n",
       "      <td>熊超逸,闫天一</td>\n",
       "      <td>2019-04-29</td>\n",
       "      <td>15467</td>\n",
       "      <td>1</td>\n",
       "    </tr>\n",
       "    <tr>\n",
       "      <th>168347</th>\n",
       "      <td>2111772</td>\n",
       "      <td>3721992</td>\n",
       "      <td>A19074</td>\n",
       "      <td>佰仁医疗</td>\n",
       "      <td>佰仁医疗（A19074）：专注动物源性植介入领域，多产品国内领先</td>\n",
       "      <td>熊超逸,闫天一</td>\n",
       "      <td>2019-04-29</td>\n",
       "      <td>15467</td>\n",
       "      <td>1</td>\n",
       "    </tr>\n",
       "    <tr>\n",
       "      <th>168348</th>\n",
       "      <td>2111671</td>\n",
       "      <td>3721981</td>\n",
       "      <td>A19074</td>\n",
       "      <td>佰仁医疗</td>\n",
       "      <td>佰仁医疗（A19074）：专注动物源性植介入领域，多产品国内领先</td>\n",
       "      <td>熊超逸,闫天一</td>\n",
       "      <td>2019-04-29</td>\n",
       "      <td>15467</td>\n",
       "      <td>2</td>\n",
       "    </tr>\n",
       "    <tr>\n",
       "      <th>168349</th>\n",
       "      <td>2111680</td>\n",
       "      <td>3722013</td>\n",
       "      <td>A19090</td>\n",
       "      <td>硕世生物</td>\n",
       "      <td>硕世生物（A19090）：掌握多重荧光定量PCR技术，体外诊断领先企业</td>\n",
       "      <td>熊超逸,闫天一</td>\n",
       "      <td>2019-04-29</td>\n",
       "      <td>15467</td>\n",
       "      <td>1</td>\n",
       "    </tr>\n",
       "    <tr>\n",
       "      <th>168350</th>\n",
       "      <td>2115322</td>\n",
       "      <td>3761865</td>\n",
       "      <td>A19098</td>\n",
       "      <td>建龙微纳</td>\n",
       "      <td>建龙微纳（A19098）：科创板新材料企业解读：建龙微纳</td>\n",
       "      <td>刘曦</td>\n",
       "      <td>2019-05-14</td>\n",
       "      <td>77</td>\n",
       "      <td>1</td>\n",
       "    </tr>\n",
       "    <tr>\n",
       "      <th>168351</th>\n",
       "      <td>2039869</td>\n",
       "      <td>2115224</td>\n",
       "      <td>TEDU</td>\n",
       "      <td>达内科技</td>\n",
       "      <td>达内科技(TEDU)：变革与突破,回溯达内15载王者进阶之路</td>\n",
       "      <td>黄莞</td>\n",
       "      <td>2018-01-23</td>\n",
       "      <td>10520</td>\n",
       "      <td>1</td>\n",
       "    </tr>\n",
       "  </tbody>\n",
       "</table>\n",
       "</div>"
      ],
      "text/plain": [
       "             id fileguid    CODE CODE_NAME  \\\n",
       "168342  2104914  3700546  A19028      科前生物   \n",
       "168343  2110499  3717230  A19031      澜起科技   \n",
       "168344  2114075  3742186  A19036      晶丰明源   \n",
       "168345  2104827  3700953  A19042      恒安嘉新   \n",
       "168346  2111670  3722040  A19063      心脉医疗   \n",
       "168347  2111772  3721992  A19074      佰仁医疗   \n",
       "168348  2111671  3721981  A19074      佰仁医疗   \n",
       "168349  2111680  3722013  A19090      硕世生物   \n",
       "168350  2115322  3761865  A19098      建龙微纳   \n",
       "168351  2039869  2115224    TEDU      达内科技   \n",
       "\n",
       "                                        TITLE   AUTHOR CREATE_DATE  ORGAN_ID  \\\n",
       "168342               科前生物（A19028）：科创板医药生物系列之一      杜永宏  2019-04-08       123   \n",
       "168343   澜起科技（A19031）电子行业科创板系列报告之二：内存接口芯片设计公司   宋江波,胡慧  2019-04-24       216   \n",
       "168344  晶丰明源（A19036）：LED驱动芯片国内领先，深耕通用领域发力智能照明   黄瑜,季清斌  2019-05-06        20   \n",
       "168345               恒安嘉新（A19042）：科创板信息安全系列之一       于芳  2019-04-09       123   \n",
       "168346       心脉医疗（A19063）：主动脉介入行业领先企业，多产品份额领先  熊超逸,闫天一  2019-04-29     15467   \n",
       "168347       佰仁医疗（A19074）：专注动物源性植介入领域，多产品国内领先  熊超逸,闫天一  2019-04-29     15467   \n",
       "168348       佰仁医疗（A19074）：专注动物源性植介入领域，多产品国内领先  熊超逸,闫天一  2019-04-29     15467   \n",
       "168349    硕世生物（A19090）：掌握多重荧光定量PCR技术，体外诊断领先企业  熊超逸,闫天一  2019-04-29     15467   \n",
       "168350           建龙微纳（A19098）：科创板新材料企业解读：建龙微纳       刘曦  2019-05-14        77   \n",
       "168351         达内科技(TEDU)：变革与突破,回溯达内15载王者进阶之路       黄莞  2018-01-23     10520   \n",
       "\n",
       "        num  \n",
       "168342    1  \n",
       "168343    1  \n",
       "168344    1  \n",
       "168345    1  \n",
       "168346    1  \n",
       "168347    1  \n",
       "168348    2  \n",
       "168349    1  \n",
       "168350    1  \n",
       "168351    1  "
      ]
     },
     "execution_count": 13,
     "metadata": {},
     "output_type": "execute_result"
    }
   ],
   "source": [
    "base_df.tail(10)\n",
    "# base_df[\"WRITE_DATE\"] = base_df[\"WRITE_DATE\"].astype(str)\n",
    "# base_df.info()\n",
    "# base_df[base_df[filter_str]=='2018-11-30']\n",
    "# base_df[base_df['WRITE_DATE']=='2018-11-30']"
   ]
  },
  {
   "cell_type": "code",
   "execution_count": 190,
   "metadata": {},
   "outputs": [],
   "source": [
    "# # 根据fileguid取预测值\n",
    "# # base_df[\"id\"] = base_df[\"id\"].astype(str)\n",
    "# sql=\"\"\"\n",
    "# select REPORT_SEARCH_ID, TIME_YEAR, FORECAST_PROFIT,FORECAST_INCOME_SHARE from der_report_subtable \n",
    "# where report_search_id in (%s)\"\"\" % (','.join(list(base_df[\"id\"].astype(str).values)))"
   ]
  },
  {
   "cell_type": "code",
   "execution_count": 191,
   "metadata": {},
   "outputs": [],
   "source": [
    "# df_forecast = pd.read_sql(sql, researchrpt_conn)"
   ]
  },
  {
   "cell_type": "code",
   "execution_count": 264,
   "metadata": {},
   "outputs": [],
   "source": [
    "# df_forecast.head(1)"
   ]
  },
  {
   "cell_type": "code",
   "execution_count": 194,
   "metadata": {},
   "outputs": [],
   "source": [
    "# df_forecast = df_forecast.rename(columns={\"REPORT_SEARCH_ID\":\"id\"})"
   ]
  },
  {
   "cell_type": "code",
   "execution_count": 195,
   "metadata": {},
   "outputs": [],
   "source": [
    "# df_final = pd.merge(base_df, df_forecast, on=['id'])"
   ]
  },
  {
   "cell_type": "code",
   "execution_count": 232,
   "metadata": {},
   "outputs": [],
   "source": [
    "# df_final.head(1)\n",
    "# # df_final[df_final.num==2]\n",
    "# # FORECAST_PROFIT FORECAST_INCOME_SHARE"
   ]
  },
  {
   "cell_type": "code",
   "execution_count": 202,
   "metadata": {},
   "outputs": [],
   "source": [
    "# df_final=df_final.drop(\"id\",1)"
   ]
  },
  {
   "cell_type": "code",
   "execution_count": 24,
   "metadata": {},
   "outputs": [],
   "source": [
    "# 用num的值区分次序\n",
    "last_df = base_df[base_df[\"num\"]==2]\n",
    "last_df = last_df.drop(\"num\", 1)"
   ]
  },
  {
   "cell_type": "code",
   "execution_count": 25,
   "metadata": {},
   "outputs": [
    {
     "data": {
      "text/html": [
       "<div>\n",
       "<style scoped>\n",
       "    .dataframe tbody tr th:only-of-type {\n",
       "        vertical-align: middle;\n",
       "    }\n",
       "\n",
       "    .dataframe tbody tr th {\n",
       "        vertical-align: top;\n",
       "    }\n",
       "\n",
       "    .dataframe thead th {\n",
       "        text-align: right;\n",
       "    }\n",
       "</style>\n",
       "<table border=\"1\" class=\"dataframe\">\n",
       "  <thead>\n",
       "    <tr style=\"text-align: right;\">\n",
       "      <th></th>\n",
       "      <th>id</th>\n",
       "      <th>fileguid</th>\n",
       "      <th>CODE</th>\n",
       "      <th>CODE_NAME</th>\n",
       "      <th>TITLE</th>\n",
       "      <th>AUTHOR</th>\n",
       "      <th>CREATE_DATE</th>\n",
       "      <th>ORGAN_ID</th>\n",
       "    </tr>\n",
       "  </thead>\n",
       "  <tbody>\n",
       "    <tr>\n",
       "      <th>24</th>\n",
       "      <td>1051783</td>\n",
       "      <td>529386E8-8E76-4E6D-8489-EFC47D611386</td>\n",
       "      <td>000001</td>\n",
       "      <td>平安银行</td>\n",
       "      <td>平安银行：负债结构优化，投行业务成为中收的核心驱动力，维持买入评级</td>\n",
       "      <td>陆怡雯,高燕芸</td>\n",
       "      <td>2014-08-14</td>\n",
       "      <td>1</td>\n",
       "    </tr>\n",
       "    <tr>\n",
       "      <th>26</th>\n",
       "      <td>2083302</td>\n",
       "      <td>2260913</td>\n",
       "      <td>000001</td>\n",
       "      <td>平安银行</td>\n",
       "      <td>平安银行（000001）：包袱有望出清，从此轻装前行</td>\n",
       "      <td>邱冠华,梁凤洁,袁梓芳</td>\n",
       "      <td>2018-11-17</td>\n",
       "      <td>2</td>\n",
       "    </tr>\n",
       "    <tr>\n",
       "      <th>28</th>\n",
       "      <td>2099592</td>\n",
       "      <td>3669772</td>\n",
       "      <td>000001</td>\n",
       "      <td>平安银行</td>\n",
       "      <td>平安银行（000001）：“量变”到“质变”，逐步确认转型进程</td>\n",
       "      <td>张帅帅,王瑶平,严佳卉</td>\n",
       "      <td>2019-03-03</td>\n",
       "      <td>3</td>\n",
       "    </tr>\n",
       "    <tr>\n",
       "      <th>30</th>\n",
       "      <td>1079468</td>\n",
       "      <td>51D635DA-C1C5-4515-8B16-B31015B37C6D</td>\n",
       "      <td>000001</td>\n",
       "      <td>平安银行</td>\n",
       "      <td>平安银行2014年年报点评：零售业务平衡在收益与风险之间</td>\n",
       "      <td>王剑</td>\n",
       "      <td>2015-03-13</td>\n",
       "      <td>5</td>\n",
       "    </tr>\n",
       "    <tr>\n",
       "      <th>32</th>\n",
       "      <td>1207602</td>\n",
       "      <td>ADF6C7A3-A554-476A-962A-2D51F0243FB2</td>\n",
       "      <td>000001</td>\n",
       "      <td>平安银行</td>\n",
       "      <td>平安银行：窥一斑而知全豹，银行利润增速快于营业收入2017年的大趋势</td>\n",
       "      <td>马鲲鹏,何悦</td>\n",
       "      <td>2017-04-21</td>\n",
       "      <td>7</td>\n",
       "    </tr>\n",
       "  </tbody>\n",
       "</table>\n",
       "</div>"
      ],
      "text/plain": [
       "         id                              fileguid    CODE CODE_NAME  \\\n",
       "24  1051783  529386E8-8E76-4E6D-8489-EFC47D611386  000001      平安银行   \n",
       "26  2083302                               2260913  000001      平安银行   \n",
       "28  2099592                               3669772  000001      平安银行   \n",
       "30  1079468  51D635DA-C1C5-4515-8B16-B31015B37C6D  000001      平安银行   \n",
       "32  1207602  ADF6C7A3-A554-476A-962A-2D51F0243FB2  000001      平安银行   \n",
       "\n",
       "                                 TITLE       AUTHOR CREATE_DATE  ORGAN_ID  \n",
       "24   平安银行：负债结构优化，投行业务成为中收的核心驱动力，维持买入评级      陆怡雯,高燕芸  2014-08-14         1  \n",
       "26          平安银行（000001）：包袱有望出清，从此轻装前行  邱冠华,梁凤洁,袁梓芳  2018-11-17         2  \n",
       "28     平安银行（000001）：“量变”到“质变”，逐步确认转型进程  张帅帅,王瑶平,严佳卉  2019-03-03         3  \n",
       "30        平安银行2014年年报点评：零售业务平衡在收益与风险之间           王剑  2015-03-13         5  \n",
       "32  平安银行：窥一斑而知全豹，银行利润增速快于营业收入2017年的大趋势       马鲲鹏,何悦  2017-04-21         7  "
      ]
     },
     "execution_count": 25,
     "metadata": {},
     "output_type": "execute_result"
    }
   ],
   "source": [
    "last_df.head(5)"
   ]
  },
  {
   "cell_type": "code",
   "execution_count": 26,
   "metadata": {},
   "outputs": [
    {
     "name": "stdout",
     "output_type": "stream",
     "text": [
      "<class 'pandas.core.frame.DataFrame'>\n",
      "Int64Index: 66825 entries, 24 to 167083\n",
      "Data columns (total 8 columns):\n",
      "id             66825 non-null int64\n",
      "fileguid       66825 non-null object\n",
      "CODE           66825 non-null object\n",
      "CODE_NAME      66825 non-null object\n",
      "TITLE          66825 non-null object\n",
      "AUTHOR         66824 non-null object\n",
      "CREATE_DATE    66825 non-null object\n",
      "ORGAN_ID       66825 non-null int64\n",
      "dtypes: int64(2), object(6)\n",
      "memory usage: 4.6+ MB\n"
     ]
    }
   ],
   "source": [
    "last_df.info()"
   ]
  },
  {
   "cell_type": "code",
   "execution_count": 27,
   "metadata": {},
   "outputs": [],
   "source": [
    "\n",
    "this_df = base_df[(base_df[\"num\"]==1) & (base_df[filter_str]==this_date_str)]\n",
    "this_df = this_df.drop(\"num\", 1)\n"
   ]
  },
  {
   "cell_type": "code",
   "execution_count": 28,
   "metadata": {},
   "outputs": [
    {
     "name": "stdout",
     "output_type": "stream",
     "text": [
      "<class 'pandas.core.frame.DataFrame'>\n",
      "Int64Index: 263 entries, 1377 to 166782\n",
      "Data columns (total 8 columns):\n",
      "id             263 non-null int64\n",
      "fileguid       263 non-null object\n",
      "CODE           263 non-null object\n",
      "CODE_NAME      263 non-null object\n",
      "TITLE          263 non-null object\n",
      "AUTHOR         263 non-null object\n",
      "CREATE_DATE    263 non-null object\n",
      "ORGAN_ID       263 non-null int64\n",
      "dtypes: int64(2), object(6)\n",
      "memory usage: 18.5+ KB\n"
     ]
    }
   ],
   "source": [
    "this_df.info()"
   ]
  },
  {
   "cell_type": "code",
   "execution_count": 33,
   "metadata": {},
   "outputs": [
    {
     "data": {
      "text/html": [
       "<div>\n",
       "<style scoped>\n",
       "    .dataframe tbody tr th:only-of-type {\n",
       "        vertical-align: middle;\n",
       "    }\n",
       "\n",
       "    .dataframe tbody tr th {\n",
       "        vertical-align: top;\n",
       "    }\n",
       "\n",
       "    .dataframe thead th {\n",
       "        text-align: right;\n",
       "    }\n",
       "</style>\n",
       "<table border=\"1\" class=\"dataframe\">\n",
       "  <thead>\n",
       "    <tr style=\"text-align: right;\">\n",
       "      <th></th>\n",
       "      <th>id</th>\n",
       "      <th>fileguid</th>\n",
       "      <th>CODE</th>\n",
       "      <th>CODE_NAME</th>\n",
       "      <th>TITLE</th>\n",
       "      <th>AUTHOR</th>\n",
       "      <th>CREATE_DATE</th>\n",
       "      <th>ORGAN_ID</th>\n",
       "    </tr>\n",
       "  </thead>\n",
       "  <tbody>\n",
       "    <tr>\n",
       "      <th>1377</th>\n",
       "      <td>2103332</td>\n",
       "      <td>3692483</td>\n",
       "      <td>000039</td>\n",
       "      <td>中集集团</td>\n",
       "      <td>中集集团（000039）：营收创历史新高，海工业务将成未来业绩关键</td>\n",
       "      <td>刘兰程</td>\n",
       "      <td>2019-03-29</td>\n",
       "      <td>19</td>\n",
       "    </tr>\n",
       "    <tr>\n",
       "      <th>2209</th>\n",
       "      <td>2103064</td>\n",
       "      <td>3690913</td>\n",
       "      <td>000063</td>\n",
       "      <td>中兴通讯</td>\n",
       "      <td>中兴通讯（000063）公司年报点评：5G龙头归来，网络设备业务恢复、预计2019年Q1业绩高增长</td>\n",
       "      <td>朱劲松,余伟民</td>\n",
       "      <td>2019-03-29</td>\n",
       "      <td>9</td>\n",
       "    </tr>\n",
       "    <tr>\n",
       "      <th>3939</th>\n",
       "      <td>2103164</td>\n",
       "      <td>3691730</td>\n",
       "      <td>000338</td>\n",
       "      <td>潍柴动力</td>\n",
       "      <td>潍柴动力（000338）2018年年报点评：业绩稳增长，加快新动能研发</td>\n",
       "      <td>卢嘉鹏</td>\n",
       "      <td>2019-03-29</td>\n",
       "      <td>8136</td>\n",
       "    </tr>\n",
       "    <tr>\n",
       "      <th>3989</th>\n",
       "      <td>2105694</td>\n",
       "      <td>3691196</td>\n",
       "      <td>000400</td>\n",
       "      <td>许继电气</td>\n",
       "      <td>许继电气（000400）2018年年报点评：业绩符合预期，新一轮高速增长将至</td>\n",
       "      <td>弓永峰</td>\n",
       "      <td>2019-03-29</td>\n",
       "      <td>13</td>\n",
       "    </tr>\n",
       "    <tr>\n",
       "      <th>3995</th>\n",
       "      <td>2103322</td>\n",
       "      <td>3692452</td>\n",
       "      <td>000400</td>\n",
       "      <td>许继电气</td>\n",
       "      <td>许继电气（000400）：核心业务即将重回高增长</td>\n",
       "      <td>王革</td>\n",
       "      <td>2019-03-29</td>\n",
       "      <td>20</td>\n",
       "    </tr>\n",
       "  </tbody>\n",
       "</table>\n",
       "</div>"
      ],
      "text/plain": [
       "           id fileguid    CODE CODE_NAME  \\\n",
       "1377  2103332  3692483  000039      中集集团   \n",
       "2209  2103064  3690913  000063      中兴通讯   \n",
       "3939  2103164  3691730  000338      潍柴动力   \n",
       "3989  2105694  3691196  000400      许继电气   \n",
       "3995  2103322  3692452  000400      许继电气   \n",
       "\n",
       "                                                  TITLE   AUTHOR CREATE_DATE  \\\n",
       "1377                  中集集团（000039）：营收创历史新高，海工业务将成未来业绩关键      刘兰程  2019-03-29   \n",
       "2209  中兴通讯（000063）公司年报点评：5G龙头归来，网络设备业务恢复、预计2019年Q1业绩高增长  朱劲松,余伟民  2019-03-29   \n",
       "3939                潍柴动力（000338）2018年年报点评：业绩稳增长，加快新动能研发      卢嘉鹏  2019-03-29   \n",
       "3989             许继电气（000400）2018年年报点评：业绩符合预期，新一轮高速增长将至      弓永峰  2019-03-29   \n",
       "3995                           许继电气（000400）：核心业务即将重回高增长       王革  2019-03-29   \n",
       "\n",
       "      ORGAN_ID  \n",
       "1377        19  \n",
       "2209         9  \n",
       "3939      8136  \n",
       "3989        13  \n",
       "3995        20  "
      ]
     },
     "execution_count": 33,
     "metadata": {},
     "output_type": "execute_result"
    }
   ],
   "source": [
    "this_df.head()"
   ]
  },
  {
   "cell_type": "code",
   "execution_count": 29,
   "metadata": {},
   "outputs": [],
   "source": [
    "# 用this_df 对last_df中的数据做筛选， 筛选完了再去查：select REPORT_SEARCH_ID, TIME_YEAR, FORECAST_PROFIT,FORECAST_INCOME_SHARE from der_report_subtable \n",
    "# 不然数据量太大\n",
    "last_df_slim = pd.merge(last_df, this_df[['CODE', 'ORGAN_ID']], on=['CODE', 'ORGAN_ID'], how='right')\n",
    "# last_df['id']=last_df['id'].astype(int)"
   ]
  },
  {
   "cell_type": "code",
   "execution_count": 30,
   "metadata": {},
   "outputs": [],
   "source": [
    "last_df_slim = last_df_slim.dropna(subset=['id'])\n",
    "last_df_slim['id']=last_df_slim['id'].astype(int)\n",
    "# last_df.info()"
   ]
  },
  {
   "cell_type": "code",
   "execution_count": 31,
   "metadata": {},
   "outputs": [
    {
     "data": {
      "text/html": [
       "<div>\n",
       "<style scoped>\n",
       "    .dataframe tbody tr th:only-of-type {\n",
       "        vertical-align: middle;\n",
       "    }\n",
       "\n",
       "    .dataframe tbody tr th {\n",
       "        vertical-align: top;\n",
       "    }\n",
       "\n",
       "    .dataframe thead th {\n",
       "        text-align: right;\n",
       "    }\n",
       "</style>\n",
       "<table border=\"1\" class=\"dataframe\">\n",
       "  <thead>\n",
       "    <tr style=\"text-align: right;\">\n",
       "      <th></th>\n",
       "      <th>id</th>\n",
       "      <th>fileguid</th>\n",
       "      <th>CODE</th>\n",
       "      <th>CODE_NAME</th>\n",
       "      <th>TITLE</th>\n",
       "      <th>AUTHOR</th>\n",
       "      <th>CREATE_DATE</th>\n",
       "      <th>ORGAN_ID</th>\n",
       "    </tr>\n",
       "  </thead>\n",
       "  <tbody>\n",
       "    <tr>\n",
       "      <th>0</th>\n",
       "      <td>2080358</td>\n",
       "      <td>2255968</td>\n",
       "      <td>000039</td>\n",
       "      <td>中集集团</td>\n",
       "      <td>中集集团（000039）：营收稳健增长，毛利率水平继续改善</td>\n",
       "      <td>刘兰程,范想想</td>\n",
       "      <td>2018-10-30</td>\n",
       "      <td>19</td>\n",
       "    </tr>\n",
       "  </tbody>\n",
       "</table>\n",
       "</div>"
      ],
      "text/plain": [
       "        id fileguid    CODE CODE_NAME                          TITLE   AUTHOR  \\\n",
       "0  2080358  2255968  000039      中集集团  中集集团（000039）：营收稳健增长，毛利率水平继续改善  刘兰程,范想想   \n",
       "\n",
       "  CREATE_DATE  ORGAN_ID  \n",
       "0  2018-10-30        19  "
      ]
     },
     "execution_count": 31,
     "metadata": {},
     "output_type": "execute_result"
    }
   ],
   "source": [
    "last_df_slim.head(1)"
   ]
  },
  {
   "cell_type": "code",
   "execution_count": 32,
   "metadata": {},
   "outputs": [
    {
     "name": "stdout",
     "output_type": "stream",
     "text": [
      "<class 'pandas.core.frame.DataFrame'>\n",
      "Int64Index: 245 entries, 0 to 244\n",
      "Data columns (total 8 columns):\n",
      "id             245 non-null int32\n",
      "fileguid       245 non-null object\n",
      "CODE           245 non-null object\n",
      "CODE_NAME      245 non-null object\n",
      "TITLE          245 non-null object\n",
      "AUTHOR         245 non-null object\n",
      "CREATE_DATE    245 non-null object\n",
      "ORGAN_ID       245 non-null int64\n",
      "dtypes: int32(1), int64(1), object(6)\n",
      "memory usage: 16.3+ KB\n"
     ]
    }
   ],
   "source": [
    "last_df_slim.info()"
   ]
  },
  {
   "cell_type": "code",
   "execution_count": 303,
   "metadata": {},
   "outputs": [],
   "source": [
    "# this_df.info()"
   ]
  },
  {
   "cell_type": "code",
   "execution_count": 304,
   "metadata": {},
   "outputs": [],
   "source": [
    "if len(this_df) == 0:\n",
    "    # 说明没有目标数据， 可以返回\n",
    "    pass\n"
   ]
  },
  {
   "cell_type": "code",
   "execution_count": null,
   "metadata": {},
   "outputs": [],
   "source": []
  },
  {
   "cell_type": "code",
   "execution_count": 34,
   "metadata": {},
   "outputs": [],
   "source": [
    "ids=list(last_df_slim[\"id\"].astype(str).values)\n",
    "# ids"
   ]
  },
  {
   "cell_type": "code",
   "execution_count": 35,
   "metadata": {},
   "outputs": [
    {
     "data": {
      "text/html": [
       "<div>\n",
       "<style scoped>\n",
       "    .dataframe tbody tr th:only-of-type {\n",
       "        vertical-align: middle;\n",
       "    }\n",
       "\n",
       "    .dataframe tbody tr th {\n",
       "        vertical-align: top;\n",
       "    }\n",
       "\n",
       "    .dataframe thead th {\n",
       "        text-align: right;\n",
       "    }\n",
       "</style>\n",
       "<table border=\"1\" class=\"dataframe\">\n",
       "  <thead>\n",
       "    <tr style=\"text-align: right;\">\n",
       "      <th></th>\n",
       "      <th>REPORT_SEARCH_ID</th>\n",
       "      <th>TIME_YEAR</th>\n",
       "      <th>FORECAST_PROFIT</th>\n",
       "      <th>FORECAST_INCOME_SHARE</th>\n",
       "    </tr>\n",
       "  </thead>\n",
       "  <tbody>\n",
       "    <tr>\n",
       "      <th>0</th>\n",
       "      <td>880740</td>\n",
       "      <td>2011</td>\n",
       "      <td>NaN</td>\n",
       "      <td>0.45</td>\n",
       "    </tr>\n",
       "  </tbody>\n",
       "</table>\n",
       "</div>"
      ],
      "text/plain": [
       "   REPORT_SEARCH_ID  TIME_YEAR  FORECAST_PROFIT  FORECAST_INCOME_SHARE\n",
       "0            880740       2011              NaN                   0.45"
      ]
     },
     "execution_count": 35,
     "metadata": {},
     "output_type": "execute_result"
    }
   ],
   "source": [
    "# 根据fileguid取预测值\n",
    "# base_df[\"id\"] = base_df[\"id\"].astype(str)\n",
    "sql=\"\"\"\n",
    "select REPORT_SEARCH_ID, TIME_YEAR, FORECAST_PROFIT,FORECAST_INCOME_SHARE from der_report_subtable \n",
    "where report_search_id in (%s)\"\"\" % (','.join(ids))\n",
    "\n",
    "df_forecast = pd.read_sql(sql, researchrpt_conn)\n",
    "df_forecast.head(1)"
   ]
  },
  {
   "cell_type": "code",
   "execution_count": 36,
   "metadata": {},
   "outputs": [],
   "source": [
    "df_forecast = df_forecast.rename(columns={\"REPORT_SEARCH_ID\":\"id\"})\n"
   ]
  },
  {
   "cell_type": "code",
   "execution_count": 37,
   "metadata": {},
   "outputs": [],
   "source": [
    "last_df_slim = pd.merge(last_df_slim, df_forecast, on=['id'])\n",
    "last_df_fore=last_df_slim.drop(\"id\",1)"
   ]
  },
  {
   "cell_type": "code",
   "execution_count": 43,
   "metadata": {},
   "outputs": [
    {
     "data": {
      "text/html": [
       "<div>\n",
       "<style scoped>\n",
       "    .dataframe tbody tr th:only-of-type {\n",
       "        vertical-align: middle;\n",
       "    }\n",
       "\n",
       "    .dataframe tbody tr th {\n",
       "        vertical-align: top;\n",
       "    }\n",
       "\n",
       "    .dataframe thead th {\n",
       "        text-align: right;\n",
       "    }\n",
       "</style>\n",
       "<table border=\"1\" class=\"dataframe\">\n",
       "  <thead>\n",
       "    <tr style=\"text-align: right;\">\n",
       "      <th></th>\n",
       "      <th>fileguid</th>\n",
       "      <th>CODE</th>\n",
       "      <th>CODE_NAME</th>\n",
       "      <th>TITLE</th>\n",
       "      <th>AUTHOR</th>\n",
       "      <th>CREATE_DATE</th>\n",
       "      <th>ORGAN_ID</th>\n",
       "      <th>TIME_YEAR</th>\n",
       "      <th>FORECAST_PROFIT</th>\n",
       "      <th>FORECAST_INCOME_SHARE</th>\n",
       "    </tr>\n",
       "  </thead>\n",
       "  <tbody>\n",
       "    <tr>\n",
       "      <th>0</th>\n",
       "      <td>2255968</td>\n",
       "      <td>000039</td>\n",
       "      <td>中集集团</td>\n",
       "      <td>中集集团（000039）：营收稳健增长，毛利率水平继续改善</td>\n",
       "      <td>刘兰程,范想想</td>\n",
       "      <td>2018-10-30</td>\n",
       "      <td>19</td>\n",
       "      <td>2018</td>\n",
       "      <td>NaN</td>\n",
       "      <td>0.91</td>\n",
       "    </tr>\n",
       "    <tr>\n",
       "      <th>1</th>\n",
       "      <td>2255968</td>\n",
       "      <td>000039</td>\n",
       "      <td>中集集团</td>\n",
       "      <td>中集集团（000039）：营收稳健增长，毛利率水平继续改善</td>\n",
       "      <td>刘兰程,范想想</td>\n",
       "      <td>2018-10-30</td>\n",
       "      <td>19</td>\n",
       "      <td>2019</td>\n",
       "      <td>NaN</td>\n",
       "      <td>1.10</td>\n",
       "    </tr>\n",
       "    <tr>\n",
       "      <th>2</th>\n",
       "      <td>2255968</td>\n",
       "      <td>000039</td>\n",
       "      <td>中集集团</td>\n",
       "      <td>中集集团（000039）：营收稳健增长，毛利率水平继续改善</td>\n",
       "      <td>刘兰程,范想想</td>\n",
       "      <td>2018-10-30</td>\n",
       "      <td>19</td>\n",
       "      <td>2020</td>\n",
       "      <td>NaN</td>\n",
       "      <td>1.29</td>\n",
       "    </tr>\n",
       "    <tr>\n",
       "      <th>3</th>\n",
       "      <td>2253874</td>\n",
       "      <td>000063</td>\n",
       "      <td>中兴通讯</td>\n",
       "      <td>中兴通讯（000063）：公司季报点评：研发提速加码5G，经营数据向好</td>\n",
       "      <td>朱劲松,余伟民</td>\n",
       "      <td>2018-10-28</td>\n",
       "      <td>9</td>\n",
       "      <td>2018</td>\n",
       "      <td>-620709.0</td>\n",
       "      <td>-1.48</td>\n",
       "    </tr>\n",
       "    <tr>\n",
       "      <th>4</th>\n",
       "      <td>2253874</td>\n",
       "      <td>000063</td>\n",
       "      <td>中兴通讯</td>\n",
       "      <td>中兴通讯（000063）：公司季报点评：研发提速加码5G，经营数据向好</td>\n",
       "      <td>朱劲松,余伟民</td>\n",
       "      <td>2018-10-28</td>\n",
       "      <td>9</td>\n",
       "      <td>2019</td>\n",
       "      <td>491837.0</td>\n",
       "      <td>1.17</td>\n",
       "    </tr>\n",
       "  </tbody>\n",
       "</table>\n",
       "</div>"
      ],
      "text/plain": [
       "  fileguid    CODE CODE_NAME                                TITLE   AUTHOR  \\\n",
       "0  2255968  000039      中集集团        中集集团（000039）：营收稳健增长，毛利率水平继续改善  刘兰程,范想想   \n",
       "1  2255968  000039      中集集团        中集集团（000039）：营收稳健增长，毛利率水平继续改善  刘兰程,范想想   \n",
       "2  2255968  000039      中集集团        中集集团（000039）：营收稳健增长，毛利率水平继续改善  刘兰程,范想想   \n",
       "3  2253874  000063      中兴通讯  中兴通讯（000063）：公司季报点评：研发提速加码5G，经营数据向好  朱劲松,余伟民   \n",
       "4  2253874  000063      中兴通讯  中兴通讯（000063）：公司季报点评：研发提速加码5G，经营数据向好  朱劲松,余伟民   \n",
       "\n",
       "  CREATE_DATE  ORGAN_ID  TIME_YEAR  FORECAST_PROFIT  FORECAST_INCOME_SHARE  \n",
       "0  2018-10-30        19       2018              NaN                   0.91  \n",
       "1  2018-10-30        19       2019              NaN                   1.10  \n",
       "2  2018-10-30        19       2020              NaN                   1.29  \n",
       "3  2018-10-28         9       2018        -620709.0                  -1.48  \n",
       "4  2018-10-28         9       2019         491837.0                   1.17  "
      ]
     },
     "execution_count": 43,
     "metadata": {},
     "output_type": "execute_result"
    }
   ],
   "source": [
    "last_df_fore.head()"
   ]
  },
  {
   "cell_type": "code",
   "execution_count": 49,
   "metadata": {},
   "outputs": [
    {
     "name": "stdout",
     "output_type": "stream",
     "text": [
      "<class 'pandas.core.frame.DataFrame'>\n",
      "Int64Index: 708 entries, 0 to 707\n",
      "Data columns (total 10 columns):\n",
      "fileguid                 708 non-null object\n",
      "CODE                     708 non-null object\n",
      "CODE_NAME                708 non-null object\n",
      "TITLE                    708 non-null object\n",
      "AUTHOR                   708 non-null object\n",
      "CREATE_DATE              708 non-null object\n",
      "ORGAN_ID                 708 non-null int64\n",
      "TIME_YEAR                708 non-null int64\n",
      "FORECAST_PROFIT          692 non-null float64\n",
      "FORECAST_INCOME_SHARE    702 non-null float64\n",
      "dtypes: float64(2), int64(2), object(6)\n",
      "memory usage: 60.8+ KB\n"
     ]
    }
   ],
   "source": [
    "last_df_fore.info()"
   ]
  },
  {
   "cell_type": "code",
   "execution_count": null,
   "metadata": {},
   "outputs": [],
   "source": []
  },
  {
   "cell_type": "code",
   "execution_count": null,
   "metadata": {},
   "outputs": [],
   "source": []
  },
  {
   "cell_type": "code",
   "execution_count": 38,
   "metadata": {},
   "outputs": [],
   "source": [
    "ids= list(this_df[\"id\"].astype(str).values)"
   ]
  },
  {
   "cell_type": "code",
   "execution_count": 39,
   "metadata": {},
   "outputs": [
    {
     "data": {
      "text/html": [
       "<div>\n",
       "<style scoped>\n",
       "    .dataframe tbody tr th:only-of-type {\n",
       "        vertical-align: middle;\n",
       "    }\n",
       "\n",
       "    .dataframe tbody tr th {\n",
       "        vertical-align: top;\n",
       "    }\n",
       "\n",
       "    .dataframe thead th {\n",
       "        text-align: right;\n",
       "    }\n",
       "</style>\n",
       "<table border=\"1\" class=\"dataframe\">\n",
       "  <thead>\n",
       "    <tr style=\"text-align: right;\">\n",
       "      <th></th>\n",
       "      <th>REPORT_SEARCH_ID</th>\n",
       "      <th>TIME_YEAR</th>\n",
       "      <th>FORECAST_PROFIT</th>\n",
       "      <th>FORECAST_INCOME_SHARE</th>\n",
       "    </tr>\n",
       "  </thead>\n",
       "  <tbody>\n",
       "    <tr>\n",
       "      <th>0</th>\n",
       "      <td>2102997</td>\n",
       "      <td>2019</td>\n",
       "      <td>222700.0</td>\n",
       "      <td>1.2</td>\n",
       "    </tr>\n",
       "  </tbody>\n",
       "</table>\n",
       "</div>"
      ],
      "text/plain": [
       "   REPORT_SEARCH_ID  TIME_YEAR  FORECAST_PROFIT  FORECAST_INCOME_SHARE\n",
       "0           2102997       2019         222700.0                    1.2"
      ]
     },
     "execution_count": 39,
     "metadata": {},
     "output_type": "execute_result"
    }
   ],
   "source": [
    "# 根据fileguid取预测值\n",
    "# base_df[\"id\"] = base_df[\"id\"].astype(str)\n",
    "sql=\"\"\"\n",
    "select REPORT_SEARCH_ID, TIME_YEAR, FORECAST_PROFIT,FORECAST_INCOME_SHARE from der_report_subtable \n",
    "where report_search_id in (%s)\"\"\" % (','.join(ids))\n",
    "\n",
    "df_forecast = pd.read_sql(sql, researchrpt_conn)\n",
    "df_forecast.head(1)"
   ]
  },
  {
   "cell_type": "code",
   "execution_count": 40,
   "metadata": {},
   "outputs": [],
   "source": [
    "df_forecast = df_forecast.rename(columns={\"REPORT_SEARCH_ID\":\"id\"})\n"
   ]
  },
  {
   "cell_type": "code",
   "execution_count": 41,
   "metadata": {},
   "outputs": [],
   "source": [
    "this_df_fore = pd.merge(this_df, df_forecast, on=['id'])\n",
    "this_df_fore=this_df_fore.drop(\"id\",1)"
   ]
  },
  {
   "cell_type": "code",
   "execution_count": 44,
   "metadata": {},
   "outputs": [
    {
     "data": {
      "text/html": [
       "<div>\n",
       "<style scoped>\n",
       "    .dataframe tbody tr th:only-of-type {\n",
       "        vertical-align: middle;\n",
       "    }\n",
       "\n",
       "    .dataframe tbody tr th {\n",
       "        vertical-align: top;\n",
       "    }\n",
       "\n",
       "    .dataframe thead th {\n",
       "        text-align: right;\n",
       "    }\n",
       "</style>\n",
       "<table border=\"1\" class=\"dataframe\">\n",
       "  <thead>\n",
       "    <tr style=\"text-align: right;\">\n",
       "      <th></th>\n",
       "      <th>fileguid</th>\n",
       "      <th>CODE</th>\n",
       "      <th>CODE_NAME</th>\n",
       "      <th>TITLE</th>\n",
       "      <th>AUTHOR</th>\n",
       "      <th>CREATE_DATE</th>\n",
       "      <th>ORGAN_ID</th>\n",
       "      <th>TIME_YEAR</th>\n",
       "      <th>FORECAST_PROFIT</th>\n",
       "      <th>FORECAST_INCOME_SHARE</th>\n",
       "    </tr>\n",
       "  </thead>\n",
       "  <tbody>\n",
       "    <tr>\n",
       "      <th>0</th>\n",
       "      <td>3692483</td>\n",
       "      <td>000039</td>\n",
       "      <td>中集集团</td>\n",
       "      <td>中集集团（000039）：营收创历史新高，海工业务将成未来业绩关键</td>\n",
       "      <td>刘兰程</td>\n",
       "      <td>2019-03-29</td>\n",
       "      <td>19</td>\n",
       "      <td>2019</td>\n",
       "      <td>NaN</td>\n",
       "      <td>1.25</td>\n",
       "    </tr>\n",
       "    <tr>\n",
       "      <th>1</th>\n",
       "      <td>3692483</td>\n",
       "      <td>000039</td>\n",
       "      <td>中集集团</td>\n",
       "      <td>中集集团（000039）：营收创历史新高，海工业务将成未来业绩关键</td>\n",
       "      <td>刘兰程</td>\n",
       "      <td>2019-03-29</td>\n",
       "      <td>19</td>\n",
       "      <td>2020</td>\n",
       "      <td>NaN</td>\n",
       "      <td>1.41</td>\n",
       "    </tr>\n",
       "    <tr>\n",
       "      <th>2</th>\n",
       "      <td>3692483</td>\n",
       "      <td>000039</td>\n",
       "      <td>中集集团</td>\n",
       "      <td>中集集团（000039）：营收创历史新高，海工业务将成未来业绩关键</td>\n",
       "      <td>刘兰程</td>\n",
       "      <td>2019-03-29</td>\n",
       "      <td>19</td>\n",
       "      <td>2021</td>\n",
       "      <td>NaN</td>\n",
       "      <td>1.57</td>\n",
       "    </tr>\n",
       "  </tbody>\n",
       "</table>\n",
       "</div>"
      ],
      "text/plain": [
       "  fileguid    CODE CODE_NAME                              TITLE AUTHOR  \\\n",
       "0  3692483  000039      中集集团  中集集团（000039）：营收创历史新高，海工业务将成未来业绩关键    刘兰程   \n",
       "1  3692483  000039      中集集团  中集集团（000039）：营收创历史新高，海工业务将成未来业绩关键    刘兰程   \n",
       "2  3692483  000039      中集集团  中集集团（000039）：营收创历史新高，海工业务将成未来业绩关键    刘兰程   \n",
       "\n",
       "  CREATE_DATE  ORGAN_ID  TIME_YEAR  FORECAST_PROFIT  FORECAST_INCOME_SHARE  \n",
       "0  2019-03-29        19       2019              NaN                   1.25  \n",
       "1  2019-03-29        19       2020              NaN                   1.41  \n",
       "2  2019-03-29        19       2021              NaN                   1.57  "
      ]
     },
     "execution_count": 44,
     "metadata": {},
     "output_type": "execute_result"
    }
   ],
   "source": [
    "this_df_fore.head(3)"
   ]
  },
  {
   "cell_type": "code",
   "execution_count": 50,
   "metadata": {},
   "outputs": [
    {
     "name": "stdout",
     "output_type": "stream",
     "text": [
      "<class 'pandas.core.frame.DataFrame'>\n",
      "Int64Index: 755 entries, 0 to 754\n",
      "Data columns (total 10 columns):\n",
      "fileguid                 755 non-null object\n",
      "CODE                     755 non-null object\n",
      "CODE_NAME                755 non-null object\n",
      "TITLE                    755 non-null object\n",
      "AUTHOR                   755 non-null object\n",
      "CREATE_DATE              755 non-null object\n",
      "ORGAN_ID                 755 non-null int64\n",
      "TIME_YEAR                755 non-null int64\n",
      "FORECAST_PROFIT          744 non-null float64\n",
      "FORECAST_INCOME_SHARE    749 non-null float64\n",
      "dtypes: float64(2), int64(2), object(6)\n",
      "memory usage: 64.9+ KB\n"
     ]
    }
   ],
   "source": [
    "this_df_fore.info()"
   ]
  },
  {
   "cell_type": "code",
   "execution_count": 51,
   "metadata": {},
   "outputs": [
    {
     "data": {
      "text/plain": [
       "['FORECAST_PROFIT',\n",
       " 'FORECAST_INCOME_SHARE',\n",
       " 'CREATE_DATE',\n",
       " 'CODE',\n",
       " 'ORGAN_ID',\n",
       " 'TIME_YEAR']"
      ]
     },
     "execution_count": 51,
     "metadata": {},
     "output_type": "execute_result"
    }
   ],
   "source": [
    "key = last_key + primary_key\n",
    "key"
   ]
  },
  {
   "cell_type": "code",
   "execution_count": 46,
   "metadata": {},
   "outputs": [],
   "source": [
    "merge_df = pd.merge(this_df_fore, last_df_fore[key], how='left', on=primary_key)"
   ]
  },
  {
   "cell_type": "code",
   "execution_count": 47,
   "metadata": {},
   "outputs": [
    {
     "data": {
      "text/plain": [
       "['CODE', 'ORGAN_ID', 'TIME_YEAR']"
      ]
     },
     "execution_count": 47,
     "metadata": {},
     "output_type": "execute_result"
    }
   ],
   "source": [
    "# merge 获取上一次最近的数据时， 若上一次数据为空， 删除它们\n",
    "# merge_df = merge_df.dropna(subset=['WRITE_DATE_y'])\n",
    "primary_key"
   ]
  },
  {
   "cell_type": "code",
   "execution_count": 54,
   "metadata": {},
   "outputs": [
    {
     "name": "stdout",
     "output_type": "stream",
     "text": [
      "<class 'pandas.core.frame.DataFrame'>\n",
      "Int64Index: 457 entries, 0 to 753\n",
      "Data columns (total 13 columns):\n",
      "fileguid                   457 non-null object\n",
      "CODE                       457 non-null object\n",
      "CODE_NAME                  457 non-null object\n",
      "TITLE                      457 non-null object\n",
      "AUTHOR                     457 non-null object\n",
      "CREATE_DATE_x              457 non-null object\n",
      "ORGAN_ID                   457 non-null int64\n",
      "TIME_YEAR                  457 non-null int64\n",
      "FORECAST_PROFIT_x          449 non-null float64\n",
      "FORECAST_INCOME_SHARE_x    456 non-null float64\n",
      "FORECAST_PROFIT_y          448 non-null float64\n",
      "FORECAST_INCOME_SHARE_y    454 non-null float64\n",
      "CREATE_DATE_y              457 non-null object\n",
      "dtypes: float64(4), int64(2), object(7)\n",
      "memory usage: 50.0+ KB\n"
     ]
    }
   ],
   "source": [
    "merge_df.info()"
   ]
  },
  {
   "cell_type": "code",
   "execution_count": 337,
   "metadata": {},
   "outputs": [
    {
     "data": {
      "text/html": [
       "<div>\n",
       "<style scoped>\n",
       "    .dataframe tbody tr th:only-of-type {\n",
       "        vertical-align: middle;\n",
       "    }\n",
       "\n",
       "    .dataframe tbody tr th {\n",
       "        vertical-align: top;\n",
       "    }\n",
       "\n",
       "    .dataframe thead th {\n",
       "        text-align: right;\n",
       "    }\n",
       "</style>\n",
       "<table border=\"1\" class=\"dataframe\">\n",
       "  <thead>\n",
       "    <tr style=\"text-align: right;\">\n",
       "      <th></th>\n",
       "      <th>fileguid</th>\n",
       "      <th>CODE</th>\n",
       "      <th>CODE_NAME</th>\n",
       "      <th>TITLE</th>\n",
       "      <th>AUTHOR</th>\n",
       "      <th>CREATE_DATE_x</th>\n",
       "      <th>ORGAN_ID</th>\n",
       "      <th>TIME_YEAR</th>\n",
       "      <th>FORECAST_PROFIT_x</th>\n",
       "      <th>FORECAST_INCOME_SHARE_x</th>\n",
       "      <th>FORECAST_PROFIT_y</th>\n",
       "      <th>FORECAST_INCOME_SHARE_y</th>\n",
       "      <th>CREATE_DATE_y</th>\n",
       "    </tr>\n",
       "  </thead>\n",
       "  <tbody>\n",
       "    <tr>\n",
       "      <th>0</th>\n",
       "      <td>2145721</td>\n",
       "      <td>None</td>\n",
       "      <td>None</td>\n",
       "      <td>渤海证券研究所晨会</td>\n",
       "      <td>渤海证券研究所</td>\n",
       "      <td>2018-03-29</td>\n",
       "      <td>8</td>\n",
       "      <td>2018</td>\n",
       "      <td>159100.0</td>\n",
       "      <td>1.47</td>\n",
       "      <td>NaN</td>\n",
       "      <td>NaN</td>\n",
       "      <td>NaN</td>\n",
       "    </tr>\n",
       "  </tbody>\n",
       "</table>\n",
       "</div>"
      ],
      "text/plain": [
       "  fileguid  CODE CODE_NAME      TITLE   AUTHOR CREATE_DATE_x  ORGAN_ID  \\\n",
       "0  2145721  None      None  渤海证券研究所晨会  渤海证券研究所    2018-03-29         8   \n",
       "\n",
       "   TIME_YEAR  FORECAST_PROFIT_x  FORECAST_INCOME_SHARE_x  FORECAST_PROFIT_y  \\\n",
       "0       2018           159100.0                     1.47                NaN   \n",
       "\n",
       "   FORECAST_INCOME_SHARE_y CREATE_DATE_y  \n",
       "0                      NaN           NaN  "
      ]
     },
     "execution_count": 337,
     "metadata": {},
     "output_type": "execute_result"
    }
   ],
   "source": [
    "merge_df.head(1)"
   ]
  },
  {
   "cell_type": "code",
   "execution_count": 53,
   "metadata": {},
   "outputs": [],
   "source": [
    "#merge_df 删除last date为空的记录\n",
    "merge_df = merge_df.dropna(subset=['CREATE_DATE_y'])"
   ]
  },
  {
   "cell_type": "code",
   "execution_count": 338,
   "metadata": {},
   "outputs": [],
   "source": [
    "# merge_df.to_csv(\"write_date_2019-03-21.csv\", index=False, encoding='utf-8')"
   ]
  },
  {
   "cell_type": "code",
   "execution_count": 109,
   "metadata": {},
   "outputs": [],
   "source": [
    "# cmb_report_research.ORGAN_ID=report_org_map.TGT_ORG_ID\n",
    "sql = \"\"\"SELECT distinct TGT_ORG_ID,TGT_ORG_NAME, TEXT1 FROM report_org_map\"\"\"\n",
    "refer_df = pd.read_sql(sql, researchrpt_conn)"
   ]
  },
  {
   "cell_type": "code",
   "execution_count": 110,
   "metadata": {},
   "outputs": [],
   "source": [
    "refer_df = refer_df.rename(columns = {\"TGT_ORG_ID\":\"ORGAN_ID\"})"
   ]
  },
  {
   "cell_type": "code",
   "execution_count": 111,
   "metadata": {},
   "outputs": [
    {
     "data": {
      "text/html": [
       "<div>\n",
       "<style scoped>\n",
       "    .dataframe tbody tr th:only-of-type {\n",
       "        vertical-align: middle;\n",
       "    }\n",
       "\n",
       "    .dataframe tbody tr th {\n",
       "        vertical-align: top;\n",
       "    }\n",
       "\n",
       "    .dataframe thead th {\n",
       "        text-align: right;\n",
       "    }\n",
       "</style>\n",
       "<table border=\"1\" class=\"dataframe\">\n",
       "  <thead>\n",
       "    <tr style=\"text-align: right;\">\n",
       "      <th></th>\n",
       "      <th>ORGAN_ID</th>\n",
       "      <th>TGT_ORG_NAME</th>\n",
       "      <th>TEXT1</th>\n",
       "    </tr>\n",
       "  </thead>\n",
       "  <tbody>\n",
       "    <tr>\n",
       "      <th>0</th>\n",
       "      <td>118</td>\n",
       "      <td>中泰证券</td>\n",
       "      <td>14748</td>\n",
       "    </tr>\n",
       "    <tr>\n",
       "      <th>1</th>\n",
       "      <td>153</td>\n",
       "      <td>东吴证券</td>\n",
       "      <td>26959</td>\n",
       "    </tr>\n",
       "    <tr>\n",
       "      <th>2</th>\n",
       "      <td>13</td>\n",
       "      <td>中信证券</td>\n",
       "      <td>625</td>\n",
       "    </tr>\n",
       "    <tr>\n",
       "      <th>3</th>\n",
       "      <td>2570</td>\n",
       "      <td>天风证券</td>\n",
       "      <td>15750</td>\n",
       "    </tr>\n",
       "    <tr>\n",
       "      <th>4</th>\n",
       "      <td>122</td>\n",
       "      <td>国海证券</td>\n",
       "      <td>321</td>\n",
       "    </tr>\n",
       "  </tbody>\n",
       "</table>\n",
       "</div>"
      ],
      "text/plain": [
       "   ORGAN_ID TGT_ORG_NAME  TEXT1\n",
       "0       118         中泰证券  14748\n",
       "1       153         东吴证券  26959\n",
       "2        13         中信证券    625\n",
       "3      2570         天风证券  15750\n",
       "4       122         国海证券    321"
      ]
     },
     "execution_count": 111,
     "metadata": {},
     "output_type": "execute_result"
    }
   ],
   "source": [
    "refer_df.head()"
   ]
  },
  {
   "cell_type": "code",
   "execution_count": 112,
   "metadata": {},
   "outputs": [
    {
     "name": "stdout",
     "output_type": "stream",
     "text": [
      "<class 'pandas.core.frame.DataFrame'>\n",
      "RangeIndex: 343 entries, 0 to 342\n",
      "Data columns (total 3 columns):\n",
      "ORGAN_ID        343 non-null int64\n",
      "TGT_ORG_NAME    343 non-null object\n",
      "TEXT1           343 non-null object\n",
      "dtypes: int64(1), object(2)\n",
      "memory usage: 8.1+ KB\n"
     ]
    }
   ],
   "source": [
    "refer_df.info()"
   ]
  },
  {
   "cell_type": "code",
   "execution_count": 117,
   "metadata": {},
   "outputs": [
    {
     "data": {
      "text/html": [
       "<div>\n",
       "<style scoped>\n",
       "    .dataframe tbody tr th:only-of-type {\n",
       "        vertical-align: middle;\n",
       "    }\n",
       "\n",
       "    .dataframe tbody tr th {\n",
       "        vertical-align: top;\n",
       "    }\n",
       "\n",
       "    .dataframe thead th {\n",
       "        text-align: right;\n",
       "    }\n",
       "</style>\n",
       "<table border=\"1\" class=\"dataframe\">\n",
       "  <thead>\n",
       "    <tr style=\"text-align: right;\">\n",
       "      <th></th>\n",
       "      <th>ORGAN_ID</th>\n",
       "      <th>TGT_ORG_NAME</th>\n",
       "      <th>TEXT1</th>\n",
       "    </tr>\n",
       "  </thead>\n",
       "  <tbody>\n",
       "    <tr>\n",
       "      <th>22</th>\n",
       "      <td>41984</td>\n",
       "      <td>国金证券(香港)</td>\n",
       "      <td>179323</td>\n",
       "    </tr>\n",
       "    <tr>\n",
       "      <th>220</th>\n",
       "      <td>41984</td>\n",
       "      <td>国金证券（香港）</td>\n",
       "      <td>179323</td>\n",
       "    </tr>\n",
       "  </tbody>\n",
       "</table>\n",
       "</div>"
      ],
      "text/plain": [
       "     ORGAN_ID TGT_ORG_NAME   TEXT1\n",
       "22      41984     国金证券(香港)  179323\n",
       "220     41984     国金证券（香港）  179323"
      ]
     },
     "execution_count": 117,
     "metadata": {},
     "output_type": "execute_result"
    }
   ],
   "source": [
    "refer_df[refer_df['ORGAN_ID']==41984]"
   ]
  },
  {
   "cell_type": "code",
   "execution_count": 116,
   "metadata": {},
   "outputs": [
    {
     "data": {
      "text/html": [
       "<div>\n",
       "<style scoped>\n",
       "    .dataframe tbody tr th:only-of-type {\n",
       "        vertical-align: middle;\n",
       "    }\n",
       "\n",
       "    .dataframe tbody tr th {\n",
       "        vertical-align: top;\n",
       "    }\n",
       "\n",
       "    .dataframe thead th {\n",
       "        text-align: right;\n",
       "    }\n",
       "</style>\n",
       "<table border=\"1\" class=\"dataframe\">\n",
       "  <thead>\n",
       "    <tr style=\"text-align: right;\">\n",
       "      <th></th>\n",
       "      <th>ORGAN_ID</th>\n",
       "      <th>counts</th>\n",
       "    </tr>\n",
       "  </thead>\n",
       "  <tbody>\n",
       "    <tr>\n",
       "      <th>242</th>\n",
       "      <td>41984</td>\n",
       "      <td>2</td>\n",
       "    </tr>\n",
       "  </tbody>\n",
       "</table>\n",
       "</div>"
      ],
      "text/plain": [
       "     ORGAN_ID  counts\n",
       "242     41984       2"
      ]
     },
     "execution_count": 116,
     "metadata": {},
     "output_type": "execute_result"
    }
   ],
   "source": [
    "df = refer_df.groupby(['ORGAN_ID']).size().to_frame(name='counts').reset_index()\n",
    "df[df['counts']>1]"
   ]
  },
  {
   "cell_type": "code",
   "execution_count": 113,
   "metadata": {},
   "outputs": [
    {
     "data": {
      "text/plain": [
       "342"
      ]
     },
     "execution_count": 113,
     "metadata": {},
     "output_type": "execute_result"
    }
   ],
   "source": [
    "# refer_df.info()\n",
    "# len(refer_df[\"TEXT1\"].unique())\n",
    "len(refer_df[\"ORGAN_ID\"].unique())"
   ]
  },
  {
   "cell_type": "code",
   "execution_count": 94,
   "metadata": {},
   "outputs": [],
   "source": [
    "# 去重， 存在不同org name 对应同\n",
    "refer_df.drop_duplicates(['ORGAN_ID'],inplace=True)"
   ]
  },
  {
   "cell_type": "code",
   "execution_count": 98,
   "metadata": {},
   "outputs": [],
   "source": [
    "# final_df.head()\n",
    "final_df = pd.merge(merge_df, refer_df, how='left', on='ORGAN_ID') \n",
    "final_df = final_df.drop('ORGAN_ID', axis=1)\n",
    "# final_df = pd.merge(merge_df, refer_df, how='left', on=['SEC_CODE', 'WRITE_DATE_x']) "
   ]
  },
  {
   "cell_type": "code",
   "execution_count": 343,
   "metadata": {},
   "outputs": [
    {
     "data": {
      "text/html": [
       "<div>\n",
       "<style scoped>\n",
       "    .dataframe tbody tr th:only-of-type {\n",
       "        vertical-align: middle;\n",
       "    }\n",
       "\n",
       "    .dataframe tbody tr th {\n",
       "        vertical-align: top;\n",
       "    }\n",
       "\n",
       "    .dataframe thead th {\n",
       "        text-align: right;\n",
       "    }\n",
       "</style>\n",
       "<table border=\"1\" class=\"dataframe\">\n",
       "  <thead>\n",
       "    <tr style=\"text-align: right;\">\n",
       "      <th></th>\n",
       "      <th>fileguid</th>\n",
       "      <th>CODE</th>\n",
       "      <th>CODE_NAME</th>\n",
       "      <th>TITLE</th>\n",
       "      <th>AUTHOR</th>\n",
       "      <th>CREATE_DATE_x</th>\n",
       "      <th>TIME_YEAR</th>\n",
       "      <th>FORECAST_PROFIT_x</th>\n",
       "      <th>FORECAST_INCOME_SHARE_x</th>\n",
       "      <th>FORECAST_PROFIT_y</th>\n",
       "      <th>FORECAST_INCOME_SHARE_y</th>\n",
       "      <th>CREATE_DATE_y</th>\n",
       "      <th>SRC_ORG_NAME</th>\n",
       "      <th>TEXT1</th>\n",
       "    </tr>\n",
       "  </thead>\n",
       "  <tbody>\n",
       "    <tr>\n",
       "      <th>0</th>\n",
       "      <td>2145721</td>\n",
       "      <td>None</td>\n",
       "      <td>None</td>\n",
       "      <td>渤海证券研究所晨会</td>\n",
       "      <td>渤海证券研究所</td>\n",
       "      <td>2018-03-29</td>\n",
       "      <td>2018</td>\n",
       "      <td>159100.0</td>\n",
       "      <td>1.47</td>\n",
       "      <td>NaN</td>\n",
       "      <td>NaN</td>\n",
       "      <td>NaN</td>\n",
       "      <td>渤海证券</td>\n",
       "      <td>26946</td>\n",
       "    </tr>\n",
       "  </tbody>\n",
       "</table>\n",
       "</div>"
      ],
      "text/plain": [
       "  fileguid  CODE CODE_NAME      TITLE   AUTHOR CREATE_DATE_x  TIME_YEAR  \\\n",
       "0  2145721  None      None  渤海证券研究所晨会  渤海证券研究所    2018-03-29       2018   \n",
       "\n",
       "   FORECAST_PROFIT_x  FORECAST_INCOME_SHARE_x  FORECAST_PROFIT_y  \\\n",
       "0           159100.0                     1.47                NaN   \n",
       "\n",
       "   FORECAST_INCOME_SHARE_y CREATE_DATE_y SRC_ORG_NAME  TEXT1  \n",
       "0                      NaN           NaN         渤海证券  26946  "
      ]
     },
     "execution_count": 343,
     "metadata": {},
     "output_type": "execute_result"
    }
   ],
   "source": [
    "final_df.head(1)"
   ]
  },
  {
   "cell_type": "code",
   "execution_count": 221,
   "metadata": {},
   "outputs": [],
   "source": [
    "# # rename columns \n",
    "# LAST_WRITE_DATE\n",
    "# THIS_PROFIT\n",
    "# LAST_PROFIT\n",
    "# PROFIT_ADJUST_PER\n",
    "# PROFIT_ADJUST_MARK\n",
    "# THIS_EPS\n",
    "# LAST_EPS\n",
    "# EPS_ADJUST_MARK\n",
    "\n",
    "final_df.columns = [\"REPORT_ID\",\"SEC_CODE\",\"SEC_NAME\",\"TITLE\",\"AUTHOR\",\"THIS_WRITE_DATE\",\"FORE_YEAR\",\"THIS_PROFIT\",\"THIS_EPS\",\"LAST_PROFIT\",\"LAST_EPS\",\"LAST_WRITE_DATE\",\"ORG_NAME\",\"ORG_ID\"]"
   ]
  },
  {
   "cell_type": "code",
   "execution_count": 140,
   "metadata": {},
   "outputs": [],
   "source": [
    "# 最后添加两个不用进行表查询的列\n",
    "final_df[\"REPORT_TYPE\"] = \"R04\""
   ]
  },
  {
   "cell_type": "code",
   "execution_count": 145,
   "metadata": {},
   "outputs": [],
   "source": [
    "import numpy as np\n",
    "def cal_profit_per(row):\n",
    "    this = row[0]\n",
    "    last = row[1]\n",
    "    if this is np.nan or last is np.nan or last == 0 :\n",
    "        return np.nan\n",
    "    else:\n",
    "        return this/last"
   ]
  },
  {
   "cell_type": "code",
   "execution_count": 146,
   "metadata": {},
   "outputs": [],
   "source": [
    "final_df[\"PROFIT_ADJUST_PER\"]=final_df[['THIS_PROFIT', 'LAST_PROFIT']].apply(cal_profit_per, axis=1)"
   ]
  },
  {
   "cell_type": "code",
   "execution_count": 142,
   "metadata": {},
   "outputs": [
    {
     "ename": "NameError",
     "evalue": "name 'compare' is not defined",
     "output_type": "error",
     "traceback": [
      "\u001b[1;31m---------------------------------------------------------------------------\u001b[0m",
      "\u001b[1;31mNameError\u001b[0m                                 Traceback (most recent call last)",
      "\u001b[1;32m<ipython-input-142-df17174a9ded>\u001b[0m in \u001b[0;36m<module>\u001b[1;34m()\u001b[0m\n\u001b[0;32m      1\u001b[0m \u001b[1;31m# 取常量。0未调（两次评级结果一样）；1上调（本次大于上次）；2下调（本次小于上次）；3未知\u001b[0m\u001b[1;33m\u001b[0m\u001b[1;33m\u001b[0m\u001b[0m\n\u001b[0;32m      2\u001b[0m \u001b[1;33m\u001b[0m\u001b[0m\n\u001b[1;32m----> 3\u001b[1;33m \u001b[0mfinal_df\u001b[0m\u001b[1;33m[\u001b[0m\u001b[1;34m\"EPS_ADJUST_MARK\"\u001b[0m\u001b[1;33m]\u001b[0m \u001b[1;33m=\u001b[0m \u001b[0mfinal_df\u001b[0m\u001b[1;33m[\u001b[0m\u001b[1;33m[\u001b[0m\u001b[1;34m\"THIS_EPS\"\u001b[0m\u001b[1;33m,\u001b[0m \u001b[1;34m\"LAST_EPS\"\u001b[0m\u001b[1;33m]\u001b[0m\u001b[1;33m]\u001b[0m\u001b[1;33m.\u001b[0m\u001b[0mapply\u001b[0m\u001b[1;33m(\u001b[0m\u001b[0mcompare\u001b[0m\u001b[1;33m,\u001b[0m \u001b[0maxis\u001b[0m\u001b[1;33m=\u001b[0m\u001b[1;36m1\u001b[0m\u001b[1;33m)\u001b[0m\u001b[1;33m\u001b[0m\u001b[0m\n\u001b[0m",
      "\u001b[1;31mNameError\u001b[0m: name 'compare' is not defined"
     ]
    }
   ],
   "source": [
    "# 取常量。0未调（两次评级结果一样）；1上调（本次大于上次）；2下调（本次小于上次）；3未知\n",
    "\n",
    "final_df[\"PROFIT_ADJUST_MARK\"] = final_df[[\"THIS_PROFIT\", \"LAST_PROFIT\"]].apply(compare, axis=1)"
   ]
  },
  {
   "cell_type": "code",
   "execution_count": 142,
   "metadata": {},
   "outputs": [
    {
     "ename": "NameError",
     "evalue": "name 'compare' is not defined",
     "output_type": "error",
     "traceback": [
      "\u001b[1;31m---------------------------------------------------------------------------\u001b[0m",
      "\u001b[1;31mNameError\u001b[0m                                 Traceback (most recent call last)",
      "\u001b[1;32m<ipython-input-142-df17174a9ded>\u001b[0m in \u001b[0;36m<module>\u001b[1;34m()\u001b[0m\n\u001b[0;32m      1\u001b[0m \u001b[1;31m# 取常量。0未调（两次评级结果一样）；1上调（本次大于上次）；2下调（本次小于上次）；3未知\u001b[0m\u001b[1;33m\u001b[0m\u001b[1;33m\u001b[0m\u001b[0m\n\u001b[0;32m      2\u001b[0m \u001b[1;33m\u001b[0m\u001b[0m\n\u001b[1;32m----> 3\u001b[1;33m \u001b[0mfinal_df\u001b[0m\u001b[1;33m[\u001b[0m\u001b[1;34m\"EPS_ADJUST_MARK\"\u001b[0m\u001b[1;33m]\u001b[0m \u001b[1;33m=\u001b[0m \u001b[0mfinal_df\u001b[0m\u001b[1;33m[\u001b[0m\u001b[1;33m[\u001b[0m\u001b[1;34m\"THIS_EPS\"\u001b[0m\u001b[1;33m,\u001b[0m \u001b[1;34m\"LAST_EPS\"\u001b[0m\u001b[1;33m]\u001b[0m\u001b[1;33m]\u001b[0m\u001b[1;33m.\u001b[0m\u001b[0mapply\u001b[0m\u001b[1;33m(\u001b[0m\u001b[0mcompare\u001b[0m\u001b[1;33m,\u001b[0m \u001b[0maxis\u001b[0m\u001b[1;33m=\u001b[0m\u001b[1;36m1\u001b[0m\u001b[1;33m)\u001b[0m\u001b[1;33m\u001b[0m\u001b[0m\n\u001b[0m",
      "\u001b[1;31mNameError\u001b[0m: name 'compare' is not defined"
     ]
    }
   ],
   "source": [
    "# 取常量。0未调（两次评级结果一样）；1上调（本次大于上次）；2下调（本次小于上次）；3未知\n",
    "\n",
    "final_df[\"EPS_ADJUST_MARK\"] = final_df[[\"THIS_EPS\", \"LAST_EPS\"]].apply(compare, axis=1)"
   ]
  },
  {
   "cell_type": "code",
   "execution_count": 69,
   "metadata": {},
   "outputs": [],
   "source": [
    "# final_df[\"THIS_TAR_PRICE\"] = final_df[\"THIS_TAR_PRICE\"].fillna(0).astype(int)\n",
    "# final_df[\"LAST_TAR_PRICE\"] = final_df[\"LAST_TAR_PRICE\"].fillna(0).astype(int)"
   ]
  },
  {
   "cell_type": "code",
   "execution_count": 72,
   "metadata": {},
   "outputs": [
    {
     "name": "stdout",
     "output_type": "stream",
     "text": [
      "<class 'pandas.core.frame.DataFrame'>\n",
      "Int64Index: 228 entries, 0 to 227\n",
      "Data columns (total 14 columns):\n",
      "REPORT_ID          228 non-null int64\n",
      "SEC_CODE           227 non-null object\n",
      "SEC_NAME           228 non-null object\n",
      "TITLE              228 non-null object\n",
      "AUTHOR             228 non-null object\n",
      "THIS_WRITE_DATE    228 non-null object\n",
      "THIS_TAR_PRICE     81 non-null object\n",
      "ORG_ID             228 non-null int64\n",
      "ORG_NAME           228 non-null object\n",
      "LAST_WRITE_DATE    110 non-null object\n",
      "LAST_TAR_PRICE     36 non-null object\n",
      "CURRENT_PRICE      178 non-null float64\n",
      "REPORT_TYPE        228 non-null object\n",
      "TAR_PRICE_MARK     228 non-null int64\n",
      "dtypes: float64(1), int64(3), object(10)\n",
      "memory usage: 26.7+ KB\n"
     ]
    }
   ],
   "source": [
    "final_df.info()"
   ]
  },
  {
   "cell_type": "code",
   "execution_count": null,
   "metadata": {},
   "outputs": [],
   "source": []
  },
  {
   "cell_type": "code",
   "execution_count": null,
   "metadata": {},
   "outputs": [],
   "source": []
  }
 ],
 "metadata": {
  "kernelspec": {
   "display_name": "Python 2",
   "language": "python",
   "name": "python2"
  },
  "language_info": {
   "codemirror_mode": {
    "name": "ipython",
    "version": 2
   },
   "file_extension": ".py",
   "mimetype": "text/x-python",
   "name": "python",
   "nbconvert_exporter": "python",
   "pygments_lexer": "ipython2",
   "version": "2.7.11"
  }
 },
 "nbformat": 4,
 "nbformat_minor": 2
}
