{
 "cells": [
  {
   "cell_type": "code",
   "execution_count": 15,
   "metadata": {
    "collapsed": true
   },
   "outputs": [],
   "source": [
    "import pandas as pd\n",
    "import warnings\n",
    "warnings.filterwarnings(\"ignore\")"
   ]
  },
  {
   "cell_type": "markdown",
   "metadata": {},
   "source": [
    "### 读取原始数据"
   ]
  },
  {
   "cell_type": "code",
   "execution_count": 24,
   "metadata": {
    "collapsed": false
   },
   "outputs": [
    {
     "data": {
      "text/html": [
       "<div>\n",
       "<table border=\"1\" class=\"dataframe\">\n",
       "  <thead>\n",
       "    <tr style=\"text-align: right;\">\n",
       "      <th></th>\n",
       "      <th>record_date</th>\n",
       "      <th>user_id</th>\n",
       "      <th>power_consumption</th>\n",
       "    </tr>\n",
       "  </thead>\n",
       "  <tbody>\n",
       "    <tr>\n",
       "      <th>0</th>\n",
       "      <td>2015-01-01</td>\n",
       "      <td>1</td>\n",
       "      <td>1135</td>\n",
       "    </tr>\n",
       "    <tr>\n",
       "      <th>1</th>\n",
       "      <td>2015-01-02</td>\n",
       "      <td>1</td>\n",
       "      <td>570</td>\n",
       "    </tr>\n",
       "    <tr>\n",
       "      <th>2</th>\n",
       "      <td>2015-01-03</td>\n",
       "      <td>1</td>\n",
       "      <td>3418</td>\n",
       "    </tr>\n",
       "    <tr>\n",
       "      <th>3</th>\n",
       "      <td>2015-01-04</td>\n",
       "      <td>1</td>\n",
       "      <td>3968</td>\n",
       "    </tr>\n",
       "    <tr>\n",
       "      <th>4</th>\n",
       "      <td>2015-01-05</td>\n",
       "      <td>1</td>\n",
       "      <td>3986</td>\n",
       "    </tr>\n",
       "  </tbody>\n",
       "</table>\n",
       "</div>"
      ],
      "text/plain": [
       "  record_date  user_id  power_consumption\n",
       "0  2015-01-01        1               1135\n",
       "1  2015-01-02        1                570\n",
       "2  2015-01-03        1               3418\n",
       "3  2015-01-04        1               3968\n",
       "4  2015-01-05        1               3986"
      ]
     },
     "execution_count": 24,
     "metadata": {},
     "output_type": "execute_result"
    }
   ],
   "source": [
    "df = pd.read_csv(\"Tianchi_power.csv\")\n",
    "\n",
    "df9 = pd.read_csv(\"Tianchi_power_9.csv\")\n",
    "\n",
    "df = pd.concat([df,df9])\n",
    "\n",
    "df['record_date'] = pd.to_datetime(df['record_date'])\n",
    "df.head()\n"
   ]
  },
  {
   "cell_type": "markdown",
   "metadata": {},
   "source": [
    "### 填充缺省值"
   ]
  },
  {
   "cell_type": "code",
   "execution_count": 25,
   "metadata": {
    "collapsed": false
   },
   "outputs": [
    {
     "data": {
      "text/html": [
       "<div>\n",
       "<table border=\"1\" class=\"dataframe\">\n",
       "  <thead>\n",
       "    <tr style=\"text-align: right;\">\n",
       "      <th></th>\n",
       "      <th>user_id</th>\n",
       "      <th>record_date</th>\n",
       "    </tr>\n",
       "  </thead>\n",
       "  <tbody>\n",
       "    <tr>\n",
       "      <th>0</th>\n",
       "      <td>1</td>\n",
       "      <td>2015-01-01</td>\n",
       "    </tr>\n",
       "    <tr>\n",
       "      <th>1</th>\n",
       "      <td>1</td>\n",
       "      <td>2015-01-02</td>\n",
       "    </tr>\n",
       "  </tbody>\n",
       "</table>\n",
       "</div>"
      ],
      "text/plain": [
       "   user_id record_date\n",
       "0        1  2015-01-01\n",
       "1        1  2015-01-02"
      ]
     },
     "execution_count": 25,
     "metadata": {},
     "output_type": "execute_result"
    }
   ],
   "source": [
    "dates = pd.date_range(\"2015-01-01\",\"2016-09-30\", freq=\"1D\")\n",
    "userid = pd.DataFrame({'user_id':df['user_id'].unique()})\n",
    "dates = pd.DataFrame(dates)\n",
    "dates.columns = ['record_date']\n",
    "userid['key'] = 0\n",
    "dates['key'] = 0\n",
    "full = userid.merge(dates, how='left', on = 'key')\n",
    "full.drop('key',1, inplace=True)\n",
    "full.head(2)"
   ]
  },
  {
   "cell_type": "code",
   "execution_count": 26,
   "metadata": {
    "collapsed": false
   },
   "outputs": [
    {
     "data": {
      "text/plain": [
       "(929106, 3)"
      ]
     },
     "execution_count": 26,
     "metadata": {},
     "output_type": "execute_result"
    }
   ],
   "source": [
    "df = pd.merge(full, df, how='left', on=['user_id','record_date'])\n",
    "df['power_consumption'] = df['power_consumption'].interpolate()\n",
    "df.shape"
   ]
  },
  {
   "cell_type": "markdown",
   "metadata": {},
   "source": [
    "### 填充特征"
   ]
  },
  {
   "cell_type": "code",
   "execution_count": 6,
   "metadata": {
    "collapsed": false
   },
   "outputs": [],
   "source": [
    "# df['dow'] = df['record_date'].apply(lambda x: x.dayofweek)\n",
    "# df['doy'] = df['record_date'].apply(lambda x: x.dayofyear)\n",
    "# df['day'] = df['record_date'].apply(lambda x: x.day)\n",
    "# df['month'] = df['record_date'].apply(lambda x: x.month)\n",
    "# df['year'] = df['record_date'].apply(lambda x: x.year)\n",
    "\n",
    "# def map_season(month):\n",
    "#     month_dic = {1:1, 2:1, 3:2, 4:2, 5:3, 6:3, 7:3, 8:3, 9:3, 10:4, 11:4, 12:1}\n",
    "#     return month_dic[month]\n",
    "\n",
    "# df['season'] = df['month'].apply(lambda x: map_season(x))"
   ]
  },
  {
   "cell_type": "code",
   "execution_count": 27,
   "metadata": {
    "collapsed": false
   },
   "outputs": [
    {
     "data": {
      "text/plain": [
       "(639, 2)"
      ]
     },
     "execution_count": 27,
     "metadata": {},
     "output_type": "execute_result"
    }
   ],
   "source": [
    "### 用电量聚合到一个月\n",
    "\n",
    "base_df = df[['record_date','power_consumption']].groupby(by='record_date').agg('sum')\n",
    "base_df = base_df.reset_index()\n",
    "base_df.head()\n",
    "base_df.shape\n",
    "# df = base_df"
   ]
  },
  {
   "cell_type": "markdown",
   "metadata": {},
   "source": [
    "### 拼接测试集"
   ]
  },
  {
   "cell_type": "code",
   "execution_count": 28,
   "metadata": {
    "collapsed": false
   },
   "outputs": [
    {
     "data": {
      "text/html": [
       "<div>\n",
       "<table border=\"1\" class=\"dataframe\">\n",
       "  <thead>\n",
       "    <tr style=\"text-align: right;\">\n",
       "      <th></th>\n",
       "      <th>record_date</th>\n",
       "      <th>power_consumption</th>\n",
       "    </tr>\n",
       "  </thead>\n",
       "  <tbody>\n",
       "    <tr>\n",
       "      <th>608</th>\n",
       "      <td>2016-10-01</td>\n",
       "      <td>3664003.0</td>\n",
       "    </tr>\n",
       "    <tr>\n",
       "      <th>609</th>\n",
       "      <td>2016-10-02</td>\n",
       "      <td>3683282.0</td>\n",
       "    </tr>\n",
       "    <tr>\n",
       "      <th>610</th>\n",
       "      <td>2016-10-03</td>\n",
       "      <td>3723110.0</td>\n",
       "    </tr>\n",
       "    <tr>\n",
       "      <th>611</th>\n",
       "      <td>2016-10-04</td>\n",
       "      <td>3490429.0</td>\n",
       "    </tr>\n",
       "    <tr>\n",
       "      <th>612</th>\n",
       "      <td>2016-10-05</td>\n",
       "      <td>3258102.0</td>\n",
       "    </tr>\n",
       "    <tr>\n",
       "      <th>613</th>\n",
       "      <td>2016-10-06</td>\n",
       "      <td>3681162.0</td>\n",
       "    </tr>\n",
       "    <tr>\n",
       "      <th>614</th>\n",
       "      <td>2016-10-07</td>\n",
       "      <td>3582158.0</td>\n",
       "    </tr>\n",
       "    <tr>\n",
       "      <th>615</th>\n",
       "      <td>2016-10-08</td>\n",
       "      <td>3480405.0</td>\n",
       "    </tr>\n",
       "    <tr>\n",
       "      <th>616</th>\n",
       "      <td>2016-10-09</td>\n",
       "      <td>3584115.0</td>\n",
       "    </tr>\n",
       "    <tr>\n",
       "      <th>617</th>\n",
       "      <td>2016-10-10</td>\n",
       "      <td>3729301.0</td>\n",
       "    </tr>\n",
       "    <tr>\n",
       "      <th>618</th>\n",
       "      <td>2016-10-11</td>\n",
       "      <td>3695458.0</td>\n",
       "    </tr>\n",
       "    <tr>\n",
       "      <th>619</th>\n",
       "      <td>2016-10-12</td>\n",
       "      <td>3424545.0</td>\n",
       "    </tr>\n",
       "    <tr>\n",
       "      <th>620</th>\n",
       "      <td>2016-10-13</td>\n",
       "      <td>3715688.0</td>\n",
       "    </tr>\n",
       "    <tr>\n",
       "      <th>621</th>\n",
       "      <td>2016-10-14</td>\n",
       "      <td>3814278.0</td>\n",
       "    </tr>\n",
       "    <tr>\n",
       "      <th>622</th>\n",
       "      <td>2016-10-15</td>\n",
       "      <td>3758030.0</td>\n",
       "    </tr>\n",
       "    <tr>\n",
       "      <th>623</th>\n",
       "      <td>2016-10-16</td>\n",
       "      <td>2982572.0</td>\n",
       "    </tr>\n",
       "    <tr>\n",
       "      <th>624</th>\n",
       "      <td>2016-10-17</td>\n",
       "      <td>3210144.0</td>\n",
       "    </tr>\n",
       "    <tr>\n",
       "      <th>625</th>\n",
       "      <td>2016-10-18</td>\n",
       "      <td>3555462.0</td>\n",
       "    </tr>\n",
       "    <tr>\n",
       "      <th>626</th>\n",
       "      <td>2016-10-19</td>\n",
       "      <td>3832516.0</td>\n",
       "    </tr>\n",
       "    <tr>\n",
       "      <th>627</th>\n",
       "      <td>2016-10-20</td>\n",
       "      <td>3894787.0</td>\n",
       "    </tr>\n",
       "    <tr>\n",
       "      <th>628</th>\n",
       "      <td>2016-10-21</td>\n",
       "      <td>3929544.0</td>\n",
       "    </tr>\n",
       "    <tr>\n",
       "      <th>629</th>\n",
       "      <td>2016-10-22</td>\n",
       "      <td>4043865.0</td>\n",
       "    </tr>\n",
       "    <tr>\n",
       "      <th>630</th>\n",
       "      <td>2016-10-23</td>\n",
       "      <td>4021526.0</td>\n",
       "    </tr>\n",
       "    <tr>\n",
       "      <th>631</th>\n",
       "      <td>2016-10-24</td>\n",
       "      <td>4045334.0</td>\n",
       "    </tr>\n",
       "    <tr>\n",
       "      <th>632</th>\n",
       "      <td>2016-10-25</td>\n",
       "      <td>3943147.0</td>\n",
       "    </tr>\n",
       "    <tr>\n",
       "      <th>633</th>\n",
       "      <td>2016-10-26</td>\n",
       "      <td>3811406.0</td>\n",
       "    </tr>\n",
       "    <tr>\n",
       "      <th>634</th>\n",
       "      <td>2016-10-27</td>\n",
       "      <td>4042132.0</td>\n",
       "    </tr>\n",
       "    <tr>\n",
       "      <th>635</th>\n",
       "      <td>2016-10-28</td>\n",
       "      <td>4287965.0</td>\n",
       "    </tr>\n",
       "    <tr>\n",
       "      <th>636</th>\n",
       "      <td>2016-10-29</td>\n",
       "      <td>4086998.0</td>\n",
       "    </tr>\n",
       "    <tr>\n",
       "      <th>637</th>\n",
       "      <td>2016-10-30</td>\n",
       "      <td>3941842.0</td>\n",
       "    </tr>\n",
       "    <tr>\n",
       "      <th>638</th>\n",
       "      <td>2016-10-31</td>\n",
       "      <td>3783264.0</td>\n",
       "    </tr>\n",
       "  </tbody>\n",
       "</table>\n",
       "</div>"
      ],
      "text/plain": [
       "    record_date  power_consumption\n",
       "608  2016-10-01          3664003.0\n",
       "609  2016-10-02          3683282.0\n",
       "610  2016-10-03          3723110.0\n",
       "611  2016-10-04          3490429.0\n",
       "612  2016-10-05          3258102.0\n",
       "613  2016-10-06          3681162.0\n",
       "614  2016-10-07          3582158.0\n",
       "615  2016-10-08          3480405.0\n",
       "616  2016-10-09          3584115.0\n",
       "617  2016-10-10          3729301.0\n",
       "618  2016-10-11          3695458.0\n",
       "619  2016-10-12          3424545.0\n",
       "620  2016-10-13          3715688.0\n",
       "621  2016-10-14          3814278.0\n",
       "622  2016-10-15          3758030.0\n",
       "623  2016-10-16          2982572.0\n",
       "624  2016-10-17          3210144.0\n",
       "625  2016-10-18          3555462.0\n",
       "626  2016-10-19          3832516.0\n",
       "627  2016-10-20          3894787.0\n",
       "628  2016-10-21          3929544.0\n",
       "629  2016-10-22          4043865.0\n",
       "630  2016-10-23          4021526.0\n",
       "631  2016-10-24          4045334.0\n",
       "632  2016-10-25          3943147.0\n",
       "633  2016-10-26          3811406.0\n",
       "634  2016-10-27          4042132.0\n",
       "635  2016-10-28          4287965.0\n",
       "636  2016-10-29          4086998.0\n",
       "637  2016-10-30          3941842.0\n",
       "638  2016-10-31          3783264.0"
      ]
     },
     "execution_count": 28,
     "metadata": {},
     "output_type": "execute_result"
    }
   ],
   "source": [
    "df_test = base_df[(base_df.record_date>='2016-08-31')&(base_df.record_date<='2016-09-30')]\n",
    "df_test['record_date'] = pd.DataFrame(df_test['record_date']+pd.Timedelta('31 days'))\n",
    "df_test#.shape#head()\n"
   ]
  },
  {
   "cell_type": "code",
   "execution_count": 30,
   "metadata": {
    "collapsed": false
   },
   "outputs": [
    {
     "data": {
      "text/html": [
       "<div>\n",
       "<table border=\"1\" class=\"dataframe\">\n",
       "  <thead>\n",
       "    <tr style=\"text-align: right;\">\n",
       "      <th></th>\n",
       "      <th>record_date</th>\n",
       "      <th>power_consumption</th>\n",
       "    </tr>\n",
       "  </thead>\n",
       "  <tbody>\n",
       "    <tr>\n",
       "      <th>0</th>\n",
       "      <td>2015-01-01</td>\n",
       "      <td>2900575.0</td>\n",
       "    </tr>\n",
       "    <tr>\n",
       "      <th>1</th>\n",
       "      <td>2015-01-02</td>\n",
       "      <td>3158211.0</td>\n",
       "    </tr>\n",
       "    <tr>\n",
       "      <th>2</th>\n",
       "      <td>2015-01-03</td>\n",
       "      <td>3596487.0</td>\n",
       "    </tr>\n",
       "    <tr>\n",
       "      <th>3</th>\n",
       "      <td>2015-01-04</td>\n",
       "      <td>3939672.0</td>\n",
       "    </tr>\n",
       "    <tr>\n",
       "      <th>4</th>\n",
       "      <td>2015-01-05</td>\n",
       "      <td>4101790.0</td>\n",
       "    </tr>\n",
       "  </tbody>\n",
       "</table>\n",
       "</div>"
      ],
      "text/plain": [
       "  record_date  power_consumption\n",
       "0  2015-01-01          2900575.0\n",
       "1  2015-01-02          3158211.0\n",
       "2  2015-01-03          3596487.0\n",
       "3  2015-01-04          3939672.0\n",
       "4  2015-01-05          4101790.0"
      ]
     },
     "execution_count": 30,
     "metadata": {},
     "output_type": "execute_result"
    }
   ],
   "source": [
    "combine = pd.concat([base_df, df_test]).sort_values(['record_date'])\n",
    "# base_df.shape\n",
    "\n",
    "# df = base_df\n",
    "combine.head()\n",
    "# combine"
   ]
  },
  {
   "cell_type": "code",
   "execution_count": null,
   "metadata": {
    "collapsed": false
   },
   "outputs": [],
   "source": []
  },
  {
   "cell_type": "code",
   "execution_count": 22,
   "metadata": {
    "collapsed": false
   },
   "outputs": [
    {
     "data": {
      "text/plain": [
       "(670, 2)"
      ]
     },
     "execution_count": 22,
     "metadata": {},
     "output_type": "execute_result"
    }
   ],
   "source": []
  },
  {
   "cell_type": "code",
   "execution_count": 46,
   "metadata": {
    "collapsed": true
   },
   "outputs": [],
   "source": [
    "isworkday = combine[['record_date']]"
   ]
  },
  {
   "cell_type": "code",
   "execution_count": 47,
   "metadata": {
    "collapsed": false
   },
   "outputs": [],
   "source": [
    "isworkday['isworkday'] = 0"
   ]
  },
  {
   "cell_type": "code",
   "execution_count": 68,
   "metadata": {
    "collapsed": false
   },
   "outputs": [],
   "source": [
    "isworkday['dow'] = isworkday['record_date'].apply(lambda x: x.dayofweek)\n",
    "def setworkday(dow):\n",
    "    if dow == 5 or dow == 6:\n",
    "        return 0\n",
    "    else:\n",
    "        return 1\n",
    "isworkday['isworkday'] = isworkday['dow'].apply(setworkday)"
   ]
  },
  {
   "cell_type": "code",
   "execution_count": 76,
   "metadata": {
    "collapsed": false
   },
   "outputs": [
    {
     "data": {
      "text/plain": [
       "array([0])"
      ]
     },
     "execution_count": 76,
     "metadata": {},
     "output_type": "execute_result"
    }
   ],
   "source": [
    "df1[df1.record_date=='2015-01-01'].index.values"
   ]
  },
  {
   "cell_type": "code",
   "execution_count": null,
   "metadata": {
    "collapsed": true
   },
   "outputs": [],
   "source": [
    "# 放假日转换\n",
    "\n",
    "2015-01-01 0\n",
    "2015-01-02 0\n",
    "2015-01-03 0\n",
    "2015-01-04 1\n",
    "2015-02-15 1\n",
    "2015-02-18-24 0\n",
    "2015-02-28 1\n",
    "2015-03-05 0 ###### 元宵 \n",
    "2015-04-06 0\n",
    "2015-05-01 0\n",
    "2015-06-22 0\n",
    "2015-07-01 0 建党节\n",
    "2015-09-03-04 0 抗日战争记念日 \n",
    "2015-09-06 1\n",
    "2015-10-01-07 0\n",
    "2015-10-10 1\n",
    "\n",
    "2016-01-01 0\n",
    "2016-02-06 1\n",
    "2016-02-07-13 0\n",
    "2016-02-14 1\n",
    "2016-02-22 0 ###### 元宵 \n",
    "2016-04-04 0\n",
    "2016-05-02 0\n",
    "2016-06-09-10 0\n",
    "2016-06-12 1\n",
    "2016-07-01 0 建党节\n",
    "2016-09-15-16 0\n",
    "2016-09-18 1\n",
    "2016-10-01-07 0\n",
    "2016-10-08-09 1"
   ]
  },
  {
   "cell_type": "code",
   "execution_count": 81,
   "metadata": {
    "collapsed": false
   },
   "outputs": [],
   "source": [
    "workdayflag = [\n",
    "    \n",
    "('2015-01-01', 0),\n",
    "('2015-01-02', 0),\n",
    "('2015-01-03', 0),\n",
    "('2015-01-04', 1),\n",
    "('2015-02-15', 1),\n",
    "('2015-02-18', 0),\n",
    "('2015-02-18', 0),\n",
    "    ('2015-02-19', 0),\n",
    "    ('2015-02-20', 0),\n",
    "    ('2015-02-21', 0),\n",
    "    ('2015-02-22', 0),\n",
    "    ('2015-02-23', 0),\n",
    "    ('2015-02-24', 0),\n",
    "('2015-02-28', 1),\n",
    "('2015-03-05', 0), ###### 元宵 \n",
    "('2015-04-06', 0),\n",
    "('2015-05-01', 0),\n",
    "('2015-06-22', 0),\n",
    "('2015-07-01', 0), ### 建党节\n",
    "('2015-09-03', 0), ### 抗日战争记念日 \n",
    "('2015-09-04', 0),\n",
    "\n",
    "('2015-09-06', 1),\n",
    "('2015-10-01', 0),\n",
    "('2015-10-02', 0),\n",
    "('2015-10-03', 0),\n",
    "    ('2015-10-04', 0),\n",
    "    ('2015-10-05', 0),\n",
    "    ('2015-10-06', 0),\n",
    "    ('2015-10-07', 0),\n",
    "('2015-10-10', 1),\n",
    "\n",
    "('2016-01-01', 0),\n",
    "('2016-02-06', 1),\n",
    "('2016-02-07', 0),\n",
    "    ('2016-02-08', 0),\n",
    "    ('2016-02-09', 0),\n",
    "    ('2016-02-10', 0),\n",
    "    ('2016-02-11', 0),\n",
    "    ('2016-02-12', 0),\n",
    "    ('2016-02-13', 0),\n",
    "('2016-02-14', 1),\n",
    "('2016-02-22', 0), ###### 元宵 \n",
    "('2016-04-04', 0),\n",
    "('2016-05-02', 0),\n",
    "('2016-06-09', 0),\n",
    "    ('2016-06-10', 0),\n",
    "('2016-06-12', 1),\n",
    "('2016-07-01', 0), ##建党节\n",
    "('2016-09-15', 0),\n",
    "    ('2016-09-16', 0),\n",
    "('2016-09-18', 1),\n",
    "    \n",
    "('2016-10-01', 0),\n",
    "('2016-10-02', 0),\n",
    "('2016-10-03', 0),\n",
    "    ('2016-10-04', 0),\n",
    "    ('2016-10-05', 0),\n",
    "    ('2016-10-06', 0),\n",
    "    ('2016-10-07', 0),\n",
    "('2016-10-08', 1),\n",
    "    ('2016-10-09', 1),\n",
    "]\n",
    "df1 = isworkday#.set_index('record_date')\n",
    "for day, flag in workdayflag:\n",
    "    \n",
    "    df1.loc[df1[df1.record_date==day].index.values,'isworkday'] = flag\n"
   ]
  },
  {
   "cell_type": "code",
   "execution_count": 82,
   "metadata": {
    "collapsed": false
   },
   "outputs": [],
   "source": [
    "\n",
    "# df1.loc['2015-01-01', isworkday] = 0\n",
    "df = df1.drop('dow',axis=1)"
   ]
  },
  {
   "cell_type": "code",
   "execution_count": 85,
   "metadata": {
    "collapsed": false
   },
   "outputs": [],
   "source": [
    "df\n",
    "df.to_csv('feature_isworkday.csv',index=False)"
   ]
  },
  {
   "cell_type": "markdown",
   "metadata": {},
   "source": [
    "### 造特征"
   ]
  },
  {
   "cell_type": "code",
   "execution_count": 409,
   "metadata": {
    "collapsed": true
   },
   "outputs": [],
   "source": [
    "base_df['dow'] = base_df['record_date'].apply(lambda x: x.dayofweek)\n",
    "base_df['doy'] = base_df['record_date'].apply(lambda x: x.dayofyear)\n",
    "base_df['day'] = base_df['record_date'].apply(lambda x: x.day)\n",
    "base_df['month'] = base_df['record_date'].apply(lambda x: x.month)\n",
    "base_df['year'] = base_df['record_date'].apply(lambda x: x.year)\n",
    "\n",
    "def map_season(month):\n",
    "    month_dic = {1:1, 2:1, 3:2, 4:2, 5:3, 6:3, 7:3, 8:3, 9:3, 10:4, 11:4, 12:1}\n",
    "    return month_dic[month]\n",
    "\n",
    "# base_df['season'] = base_df['month'].apply(lambda x: map_season(x))"
   ]
  },
  {
   "cell_type": "markdown",
   "metadata": {},
   "source": [
    "### 添加更多特征\n",
    "### 先添加前一个月的均值和方差"
   ]
  },
  {
   "cell_type": "code",
   "execution_count": 410,
   "metadata": {
    "collapsed": false
   },
   "outputs": [
    {
     "data": {
      "text/html": [
       "<div>\n",
       "<table border=\"1\" class=\"dataframe\">\n",
       "  <thead>\n",
       "    <tr style=\"text-align: right;\">\n",
       "      <th></th>\n",
       "      <th>year</th>\n",
       "      <th>month</th>\n",
       "      <th>mean</th>\n",
       "      <th>std</th>\n",
       "    </tr>\n",
       "  </thead>\n",
       "  <tbody>\n",
       "    <tr>\n",
       "      <th>0</th>\n",
       "      <td>2015</td>\n",
       "      <td>1</td>\n",
       "      <td>NaN</td>\n",
       "      <td>NaN</td>\n",
       "    </tr>\n",
       "    <tr>\n",
       "      <th>1</th>\n",
       "      <td>2015</td>\n",
       "      <td>2</td>\n",
       "      <td>3.961383e+06</td>\n",
       "      <td>303629.486622</td>\n",
       "    </tr>\n",
       "    <tr>\n",
       "      <th>2</th>\n",
       "      <td>2015</td>\n",
       "      <td>3</td>\n",
       "      <td>2.795163e+06</td>\n",
       "      <td>769697.864999</td>\n",
       "    </tr>\n",
       "    <tr>\n",
       "      <th>3</th>\n",
       "      <td>2015</td>\n",
       "      <td>4</td>\n",
       "      <td>3.478852e+06</td>\n",
       "      <td>564753.747993</td>\n",
       "    </tr>\n",
       "    <tr>\n",
       "      <th>4</th>\n",
       "      <td>2015</td>\n",
       "      <td>5</td>\n",
       "      <td>3.768333e+06</td>\n",
       "      <td>190787.832757</td>\n",
       "    </tr>\n",
       "  </tbody>\n",
       "</table>\n",
       "</div>"
      ],
      "text/plain": [
       "   year  month          mean            std\n",
       "0  2015      1           NaN            NaN\n",
       "1  2015      2  3.961383e+06  303629.486622\n",
       "2  2015      3  2.795163e+06  769697.864999\n",
       "3  2015      4  3.478852e+06  564753.747993\n",
       "4  2015      5  3.768333e+06  190787.832757"
      ]
     },
     "execution_count": 410,
     "metadata": {},
     "output_type": "execute_result"
    }
   ],
   "source": [
    "df_stats = base_df[['power_consumption','year','month']].groupby(by=['year', 'month']).agg(['mean', 'std'])\n",
    "df_stats.head()\n",
    "\n",
    "df_stats.columns = df_stats.columns.droplevel(0)\n",
    "df_stats = df_stats.reset_index()\n",
    "df_stats.head()\n",
    "df_stats['mean'] = df_stats['mean'].shift(1)\n",
    "# df_stats['2_m_mean'] = df_stats['mean'].shift(2)\n",
    "df_stats['std'] = df_stats['std'].shift(1)\n",
    "# df_stats['2_m_std'] = df_stats['std'].shift(2)\n",
    "df_stats.head()\n"
   ]
  },
  {
   "cell_type": "code",
   "execution_count": 411,
   "metadata": {
    "collapsed": false
   },
   "outputs": [
    {
     "data": {
      "text/html": [
       "<div>\n",
       "<table border=\"1\" class=\"dataframe\">\n",
       "  <thead>\n",
       "    <tr style=\"text-align: right;\">\n",
       "      <th></th>\n",
       "      <th>record_date</th>\n",
       "      <th>power_consumption</th>\n",
       "      <th>dow</th>\n",
       "      <th>doy</th>\n",
       "      <th>day</th>\n",
       "      <th>month</th>\n",
       "      <th>year</th>\n",
       "      <th>mean</th>\n",
       "      <th>std</th>\n",
       "    </tr>\n",
       "  </thead>\n",
       "  <tbody>\n",
       "    <tr>\n",
       "      <th>0</th>\n",
       "      <td>2015-01-01</td>\n",
       "      <td>2900575.0</td>\n",
       "      <td>3</td>\n",
       "      <td>1</td>\n",
       "      <td>1</td>\n",
       "      <td>1</td>\n",
       "      <td>2015</td>\n",
       "      <td>NaN</td>\n",
       "      <td>NaN</td>\n",
       "    </tr>\n",
       "    <tr>\n",
       "      <th>1</th>\n",
       "      <td>2015-01-02</td>\n",
       "      <td>3158211.0</td>\n",
       "      <td>4</td>\n",
       "      <td>2</td>\n",
       "      <td>2</td>\n",
       "      <td>1</td>\n",
       "      <td>2015</td>\n",
       "      <td>NaN</td>\n",
       "      <td>NaN</td>\n",
       "    </tr>\n",
       "    <tr>\n",
       "      <th>2</th>\n",
       "      <td>2015-01-03</td>\n",
       "      <td>3596487.0</td>\n",
       "      <td>5</td>\n",
       "      <td>3</td>\n",
       "      <td>3</td>\n",
       "      <td>1</td>\n",
       "      <td>2015</td>\n",
       "      <td>NaN</td>\n",
       "      <td>NaN</td>\n",
       "    </tr>\n",
       "    <tr>\n",
       "      <th>3</th>\n",
       "      <td>2015-01-04</td>\n",
       "      <td>3939672.0</td>\n",
       "      <td>6</td>\n",
       "      <td>4</td>\n",
       "      <td>4</td>\n",
       "      <td>1</td>\n",
       "      <td>2015</td>\n",
       "      <td>NaN</td>\n",
       "      <td>NaN</td>\n",
       "    </tr>\n",
       "    <tr>\n",
       "      <th>4</th>\n",
       "      <td>2015-01-05</td>\n",
       "      <td>4101790.0</td>\n",
       "      <td>0</td>\n",
       "      <td>5</td>\n",
       "      <td>5</td>\n",
       "      <td>1</td>\n",
       "      <td>2015</td>\n",
       "      <td>NaN</td>\n",
       "      <td>NaN</td>\n",
       "    </tr>\n",
       "  </tbody>\n",
       "</table>\n",
       "</div>"
      ],
      "text/plain": [
       "  record_date  power_consumption  dow  doy  day  month  year  mean  std\n",
       "0  2015-01-01          2900575.0    3    1    1      1  2015   NaN  NaN\n",
       "1  2015-01-02          3158211.0    4    2    2      1  2015   NaN  NaN\n",
       "2  2015-01-03          3596487.0    5    3    3      1  2015   NaN  NaN\n",
       "3  2015-01-04          3939672.0    6    4    4      1  2015   NaN  NaN\n",
       "4  2015-01-05          4101790.0    0    5    5      1  2015   NaN  NaN"
      ]
     },
     "execution_count": 411,
     "metadata": {},
     "output_type": "execute_result"
    }
   ],
   "source": [
    "# train = pd.merge('base_df','df_stats',on=['year','month'])\n",
    "train = pd.merge(base_df, df_stats, how='left', on=['year','month'])\n",
    "train.head()"
   ]
  },
  {
   "cell_type": "markdown",
   "metadata": {},
   "source": [
    "### 把一个月分成上中下旬3个month_periods 或者 4周总共4个week_periods\n",
    "### 用它们的均值之差表示数据上下起伏趋势"
   ]
  },
  {
   "cell_type": "code",
   "execution_count": 412,
   "metadata": {
    "collapsed": true
   },
   "outputs": [],
   "source": [
    "# 先对一个月做切分\n",
    "def month_period(day):\n",
    "    if day>=1 and day<=10:\n",
    "        return 1\n",
    "    elif day>=11 and day<=20:\n",
    "        return 2\n",
    "    else:\n",
    "        return 3\n",
    "\n",
    "def week_period(day):\n",
    "    if day>=1 and day<=7:\n",
    "        return 1\n",
    "    elif day>=8 and day<=14:\n",
    "        return 2\n",
    "    elif day>=15 and day<=21:\n",
    "        return 3\n",
    "    else:\n",
    "        return 4\n",
    "\n",
    "base_df['month_period'] = base_df['day'].apply(lambda x:month_period(x))\n",
    "base_df['week_period'] = base_df['day'].apply(lambda x:week_period(x))"
   ]
  },
  {
   "cell_type": "markdown",
   "metadata": {},
   "source": [
    "### 按照period求均值"
   ]
  },
  {
   "cell_type": "code",
   "execution_count": 413,
   "metadata": {
    "collapsed": false
   },
   "outputs": [
    {
     "data": {
      "text/html": [
       "<div>\n",
       "<table border=\"1\" class=\"dataframe\">\n",
       "  <thead>\n",
       "    <tr style=\"text-align: right;\">\n",
       "      <th></th>\n",
       "      <th>year</th>\n",
       "      <th>month</th>\n",
       "      <th>month_period</th>\n",
       "      <th>power_consumption</th>\n",
       "    </tr>\n",
       "  </thead>\n",
       "  <tbody>\n",
       "    <tr>\n",
       "      <th>0</th>\n",
       "      <td>2015</td>\n",
       "      <td>1</td>\n",
       "      <td>1</td>\n",
       "      <td>3.825766e+06</td>\n",
       "    </tr>\n",
       "    <tr>\n",
       "      <th>1</th>\n",
       "      <td>2015</td>\n",
       "      <td>1</td>\n",
       "      <td>2</td>\n",
       "      <td>4.016926e+06</td>\n",
       "    </tr>\n",
       "    <tr>\n",
       "      <th>2</th>\n",
       "      <td>2015</td>\n",
       "      <td>1</td>\n",
       "      <td>3</td>\n",
       "      <td>4.034177e+06</td>\n",
       "    </tr>\n",
       "    <tr>\n",
       "      <th>3</th>\n",
       "      <td>2015</td>\n",
       "      <td>2</td>\n",
       "      <td>1</td>\n",
       "      <td>3.691394e+06</td>\n",
       "    </tr>\n",
       "    <tr>\n",
       "      <th>4</th>\n",
       "      <td>2015</td>\n",
       "      <td>2</td>\n",
       "      <td>2</td>\n",
       "      <td>2.338909e+06</td>\n",
       "    </tr>\n",
       "  </tbody>\n",
       "</table>\n",
       "</div>"
      ],
      "text/plain": [
       "   year  month  month_period  power_consumption\n",
       "0  2015      1             1       3.825766e+06\n",
       "1  2015      1             2       4.016926e+06\n",
       "2  2015      1             3       4.034177e+06\n",
       "3  2015      2             1       3.691394e+06\n",
       "4  2015      2             2       2.338909e+06"
      ]
     },
     "execution_count": 413,
     "metadata": {},
     "output_type": "execute_result"
    }
   ],
   "source": [
    "month_period_df = base_df[['power_consumption','year','month','month_period']].groupby(by=['year', 'month', 'month_period']).agg('mean')\n",
    "month_period_df = month_period_df.reset_index()\n",
    "month_period_df.head()"
   ]
  },
  {
   "cell_type": "markdown",
   "metadata": {},
   "source": [
    "### 求出来均值之差"
   ]
  },
  {
   "cell_type": "code",
   "execution_count": 414,
   "metadata": {
    "collapsed": false
   },
   "outputs": [
    {
     "data": {
      "text/html": [
       "<div>\n",
       "<table border=\"1\" class=\"dataframe\">\n",
       "  <thead>\n",
       "    <tr style=\"text-align: right;\">\n",
       "      <th></th>\n",
       "      <th>year</th>\n",
       "      <th>month</th>\n",
       "      <th>month_period</th>\n",
       "    </tr>\n",
       "  </thead>\n",
       "  <tbody>\n",
       "    <tr>\n",
       "      <th>0</th>\n",
       "      <td>2015</td>\n",
       "      <td>1</td>\n",
       "      <td>NaN</td>\n",
       "    </tr>\n",
       "    <tr>\n",
       "      <th>1</th>\n",
       "      <td>2015</td>\n",
       "      <td>1</td>\n",
       "      <td>1.911600e+05</td>\n",
       "    </tr>\n",
       "    <tr>\n",
       "      <th>2</th>\n",
       "      <td>2015</td>\n",
       "      <td>1</td>\n",
       "      <td>1.725125e+04</td>\n",
       "    </tr>\n",
       "    <tr>\n",
       "      <th>3</th>\n",
       "      <td>2015</td>\n",
       "      <td>2</td>\n",
       "      <td>-3.427832e+05</td>\n",
       "    </tr>\n",
       "    <tr>\n",
       "      <th>4</th>\n",
       "      <td>2015</td>\n",
       "      <td>2</td>\n",
       "      <td>-1.352486e+06</td>\n",
       "    </tr>\n",
       "  </tbody>\n",
       "</table>\n",
       "</div>"
      ],
      "text/plain": [
       "   year  month  month_period\n",
       "0  2015      1           NaN\n",
       "1  2015      1  1.911600e+05\n",
       "2  2015      1  1.725125e+04\n",
       "3  2015      2 -3.427832e+05\n",
       "4  2015      2 -1.352486e+06"
      ]
     },
     "execution_count": 414,
     "metadata": {},
     "output_type": "execute_result"
    }
   ],
   "source": [
    "month_period_df['month_period'] = month_period_df['power_consumption'].diff(1)\n",
    "month_period_df = month_period_df.drop('power_consumption',1)\n",
    "month_period_df.head()"
   ]
  },
  {
   "cell_type": "markdown",
   "metadata": {},
   "source": [
    "### 填充上个月和上上个月的趋势数据"
   ]
  },
  {
   "cell_type": "code",
   "execution_count": 415,
   "metadata": {
    "collapsed": false
   },
   "outputs": [
    {
     "data": {
      "text/html": [
       "<div>\n",
       "<table border=\"1\" class=\"dataframe\">\n",
       "  <thead>\n",
       "    <tr style=\"text-align: right;\">\n",
       "      <th></th>\n",
       "      <th>year</th>\n",
       "      <th>month</th>\n",
       "      <th>month_period_1</th>\n",
       "      <th>month_period_2</th>\n",
       "      <th>month_period_3</th>\n",
       "    </tr>\n",
       "  </thead>\n",
       "  <tbody>\n",
       "    <tr>\n",
       "      <th>0</th>\n",
       "      <td>2015</td>\n",
       "      <td>1</td>\n",
       "      <td>NaN</td>\n",
       "      <td>NaN</td>\n",
       "      <td>NaN</td>\n",
       "    </tr>\n",
       "    <tr>\n",
       "      <th>1</th>\n",
       "      <td>2015</td>\n",
       "      <td>2</td>\n",
       "      <td>nan</td>\n",
       "      <td>191160.0</td>\n",
       "      <td>17251.2545455</td>\n",
       "    </tr>\n",
       "    <tr>\n",
       "      <th>2</th>\n",
       "      <td>2015</td>\n",
       "      <td>3</td>\n",
       "      <td>-342783.154545</td>\n",
       "      <td>-1352485.7</td>\n",
       "      <td>-93716.5375</td>\n",
       "    </tr>\n",
       "    <tr>\n",
       "      <th>3</th>\n",
       "      <td>2015</td>\n",
       "      <td>4</td>\n",
       "      <td>863222.6375</td>\n",
       "      <td>559158.05</td>\n",
       "      <td>-23522.6590909</td>\n",
       "    </tr>\n",
       "    <tr>\n",
       "      <th>4</th>\n",
       "      <td>2015</td>\n",
       "      <td>5</td>\n",
       "      <td>109222.009091</td>\n",
       "      <td>-25469.75</td>\n",
       "      <td>96123.1</td>\n",
       "    </tr>\n",
       "  </tbody>\n",
       "</table>\n",
       "</div>"
      ],
      "text/plain": [
       "   year  month  month_period_1 month_period_2  month_period_3\n",
       "0  2015      1             NaN            NaN             NaN\n",
       "1  2015      2             nan       191160.0   17251.2545455\n",
       "2  2015      3  -342783.154545     -1352485.7     -93716.5375\n",
       "3  2015      4     863222.6375      559158.05  -23522.6590909\n",
       "4  2015      5   109222.009091      -25469.75         96123.1"
      ]
     },
     "execution_count": 415,
     "metadata": {},
     "output_type": "execute_result"
    }
   ],
   "source": [
    "month_period_df = month_period_df[['year','month','month_period']].groupby(by=['year','month']).agg(lambda x: \",\".join(x.apply(str).values.tolist()))\n",
    "month_period_df = month_period_df.reset_index()\n",
    "month_period_df[['month_period_1','month_period_2','month_period_3']] =  month_period_df['month_period'].str.split(',', expand=True) \n",
    "month_period_df = month_period_df.drop('month_period',1)\n",
    "\n",
    "# month_1_columns = [tmp+'_1month' for tmp in ['month_period_1', 'month_period_2','month_period_3']]\n",
    "month_period_df[['month_period_1', 'month_period_2','month_period_3']] = month_period_df[['month_period_1', 'month_period_2','month_period_3']].shift(1)\n",
    "# month_2_columns = [tmp+'_2month' for tmp in ['month_period_1', 'month_period_2','month_period_3']]\n",
    "# month_period_df[month_2_columns] = month_period_df[['month_period_1', 'month_period_2','month_period_3']].shift(2)\n",
    "\n",
    "month_period_df.head()"
   ]
  },
  {
   "cell_type": "code",
   "execution_count": 416,
   "metadata": {
    "collapsed": false
   },
   "outputs": [
    {
     "data": {
      "text/html": [
       "<div>\n",
       "<table border=\"1\" class=\"dataframe\">\n",
       "  <thead>\n",
       "    <tr style=\"text-align: right;\">\n",
       "      <th></th>\n",
       "      <th>record_date</th>\n",
       "      <th>power_consumption</th>\n",
       "      <th>dow</th>\n",
       "      <th>doy</th>\n",
       "      <th>day</th>\n",
       "      <th>month</th>\n",
       "      <th>year</th>\n",
       "      <th>mean</th>\n",
       "      <th>std</th>\n",
       "      <th>month_period_1</th>\n",
       "      <th>month_period_2</th>\n",
       "      <th>month_period_3</th>\n",
       "    </tr>\n",
       "  </thead>\n",
       "  <tbody>\n",
       "    <tr>\n",
       "      <th>0</th>\n",
       "      <td>2015-01-01</td>\n",
       "      <td>2900575.0</td>\n",
       "      <td>3</td>\n",
       "      <td>1</td>\n",
       "      <td>1</td>\n",
       "      <td>1</td>\n",
       "      <td>2015</td>\n",
       "      <td>NaN</td>\n",
       "      <td>NaN</td>\n",
       "      <td>NaN</td>\n",
       "      <td>NaN</td>\n",
       "      <td>NaN</td>\n",
       "    </tr>\n",
       "    <tr>\n",
       "      <th>1</th>\n",
       "      <td>2015-01-02</td>\n",
       "      <td>3158211.0</td>\n",
       "      <td>4</td>\n",
       "      <td>2</td>\n",
       "      <td>2</td>\n",
       "      <td>1</td>\n",
       "      <td>2015</td>\n",
       "      <td>NaN</td>\n",
       "      <td>NaN</td>\n",
       "      <td>NaN</td>\n",
       "      <td>NaN</td>\n",
       "      <td>NaN</td>\n",
       "    </tr>\n",
       "    <tr>\n",
       "      <th>2</th>\n",
       "      <td>2015-01-03</td>\n",
       "      <td>3596487.0</td>\n",
       "      <td>5</td>\n",
       "      <td>3</td>\n",
       "      <td>3</td>\n",
       "      <td>1</td>\n",
       "      <td>2015</td>\n",
       "      <td>NaN</td>\n",
       "      <td>NaN</td>\n",
       "      <td>NaN</td>\n",
       "      <td>NaN</td>\n",
       "      <td>NaN</td>\n",
       "    </tr>\n",
       "    <tr>\n",
       "      <th>3</th>\n",
       "      <td>2015-01-04</td>\n",
       "      <td>3939672.0</td>\n",
       "      <td>6</td>\n",
       "      <td>4</td>\n",
       "      <td>4</td>\n",
       "      <td>1</td>\n",
       "      <td>2015</td>\n",
       "      <td>NaN</td>\n",
       "      <td>NaN</td>\n",
       "      <td>NaN</td>\n",
       "      <td>NaN</td>\n",
       "      <td>NaN</td>\n",
       "    </tr>\n",
       "    <tr>\n",
       "      <th>4</th>\n",
       "      <td>2015-01-05</td>\n",
       "      <td>4101790.0</td>\n",
       "      <td>0</td>\n",
       "      <td>5</td>\n",
       "      <td>5</td>\n",
       "      <td>1</td>\n",
       "      <td>2015</td>\n",
       "      <td>NaN</td>\n",
       "      <td>NaN</td>\n",
       "      <td>NaN</td>\n",
       "      <td>NaN</td>\n",
       "      <td>NaN</td>\n",
       "    </tr>\n",
       "  </tbody>\n",
       "</table>\n",
       "</div>"
      ],
      "text/plain": [
       "  record_date  power_consumption  dow  doy  day  month  year  mean  std  \\\n",
       "0  2015-01-01          2900575.0    3    1    1      1  2015   NaN  NaN   \n",
       "1  2015-01-02          3158211.0    4    2    2      1  2015   NaN  NaN   \n",
       "2  2015-01-03          3596487.0    5    3    3      1  2015   NaN  NaN   \n",
       "3  2015-01-04          3939672.0    6    4    4      1  2015   NaN  NaN   \n",
       "4  2015-01-05          4101790.0    0    5    5      1  2015   NaN  NaN   \n",
       "\n",
       "  month_period_1 month_period_2 month_period_3  \n",
       "0            NaN            NaN            NaN  \n",
       "1            NaN            NaN            NaN  \n",
       "2            NaN            NaN            NaN  \n",
       "3            NaN            NaN            NaN  \n",
       "4            NaN            NaN            NaN  "
      ]
     },
     "execution_count": 416,
     "metadata": {},
     "output_type": "execute_result"
    }
   ],
   "source": [
    "# 合并\n",
    "train_mon =  pd.merge(train, month_period_df, how='left', on=['year','month'])\n",
    "train_mon.head()\n"
   ]
  },
  {
   "cell_type": "code",
   "execution_count": 417,
   "metadata": {
    "collapsed": false
   },
   "outputs": [],
   "source": [
    "week_period_df = base_df[['power_consumption','year','month','week_period']].groupby(by=['year', 'month', 'week_period']).agg('mean')\n",
    "week_period_df = week_period_df.reset_index()\n",
    "# week_period_df.head()"
   ]
  },
  {
   "cell_type": "code",
   "execution_count": 418,
   "metadata": {
    "collapsed": false
   },
   "outputs": [],
   "source": [
    "week_period_df['week_period'] = week_period_df['power_consumption'].diff(1)\n",
    "week_period_df = week_period_df.drop('power_consumption',1)\n",
    "# week_period_df.head()"
   ]
  },
  {
   "cell_type": "code",
   "execution_count": 419,
   "metadata": {
    "collapsed": false
   },
   "outputs": [
    {
     "data": {
      "text/html": [
       "<div>\n",
       "<table border=\"1\" class=\"dataframe\">\n",
       "  <thead>\n",
       "    <tr style=\"text-align: right;\">\n",
       "      <th></th>\n",
       "      <th>year</th>\n",
       "      <th>month</th>\n",
       "      <th>week_period_1</th>\n",
       "      <th>week_period_2</th>\n",
       "      <th>week_period_3</th>\n",
       "      <th>week_period_4</th>\n",
       "    </tr>\n",
       "  </thead>\n",
       "  <tbody>\n",
       "    <tr>\n",
       "      <th>0</th>\n",
       "      <td>2015</td>\n",
       "      <td>1</td>\n",
       "      <td>NaN</td>\n",
       "      <td>NaN</td>\n",
       "      <td>NaN</td>\n",
       "      <td>NaN</td>\n",
       "    </tr>\n",
       "    <tr>\n",
       "      <th>1</th>\n",
       "      <td>2015</td>\n",
       "      <td>2</td>\n",
       "      <td>nan</td>\n",
       "      <td>297703.428571</td>\n",
       "      <td>46736.2857143</td>\n",
       "      <td>-31404.2714286</td>\n",
       "    </tr>\n",
       "    <tr>\n",
       "      <th>2</th>\n",
       "      <td>2015</td>\n",
       "      <td>3</td>\n",
       "      <td>-220744.014286</td>\n",
       "      <td>-739169.857143</td>\n",
       "      <td>-1042483.85714</td>\n",
       "      <td>252348.357143</td>\n",
       "    </tr>\n",
       "    <tr>\n",
       "      <th>3</th>\n",
       "      <td>2015</td>\n",
       "      <td>4</td>\n",
       "      <td>645923.071429</td>\n",
       "      <td>821015.214286</td>\n",
       "      <td>-292440.071429</td>\n",
       "      <td>245783.857143</td>\n",
       "    </tr>\n",
       "    <tr>\n",
       "      <th>4</th>\n",
       "      <td>2015</td>\n",
       "      <td>5</td>\n",
       "      <td>-9620.85714286</td>\n",
       "      <td>113845.428571</td>\n",
       "      <td>-66743.6428571</td>\n",
       "      <td>91990.9047619</td>\n",
       "    </tr>\n",
       "  </tbody>\n",
       "</table>\n",
       "</div>"
      ],
      "text/plain": [
       "   year  month   week_period_1   week_period_2   week_period_3   week_period_4\n",
       "0  2015      1             NaN             NaN             NaN             NaN\n",
       "1  2015      2             nan   297703.428571   46736.2857143  -31404.2714286\n",
       "2  2015      3  -220744.014286  -739169.857143  -1042483.85714   252348.357143\n",
       "3  2015      4   645923.071429   821015.214286  -292440.071429   245783.857143\n",
       "4  2015      5  -9620.85714286   113845.428571  -66743.6428571   91990.9047619"
      ]
     },
     "execution_count": 419,
     "metadata": {},
     "output_type": "execute_result"
    }
   ],
   "source": [
    "# 将每个月中四个周的值分为四列。\n",
    "week_period_df = week_period_df[['year','month','week_period']].groupby(by=['year','month']).agg(lambda x: \",\".join(x.apply(str).values.tolist()))\n",
    "week_period_df = week_period_df.reset_index()\n",
    "week_period_df[['week_period_1','week_period_2','week_period_3','week_period_4']] =  week_period_df['week_period'].str.split(',', expand=True) \n",
    "week_period_df = week_period_df.drop('week_period',1)\n",
    "\n",
    "add_columns_1 = [tmp+'_1month' for tmp in ['week_period_1', 'week_period_2','week_period_3', 'week_period_4']]\n",
    "week_period_df[['week_period_1','week_period_2','week_period_3','week_period_4']] = week_period_df[['week_period_1', 'week_period_2','week_period_3', 'week_period_4']].shift(1)\n",
    "# add_columns_2 = [tmp+'_2month' for tmp in ['week_period_1', 'week_period_2','week_period_3', 'week_period_4']]\n",
    "# week_period_df[add_columns_2] = week_period_df[['week_period_1', 'week_period_2','week_period_3', 'week_period_4']].shift(2)\n",
    "\n",
    "week_period_df.head()\n",
    "\n"
   ]
  },
  {
   "cell_type": "code",
   "execution_count": 420,
   "metadata": {
    "collapsed": true
   },
   "outputs": [],
   "source": [
    "# 添加 week period 相关特征\n",
    "df_final = pd.merge(train_mon, week_period_df, how='left', on=['year','month']) "
   ]
  },
  {
   "cell_type": "code",
   "execution_count": 421,
   "metadata": {
    "collapsed": false
   },
   "outputs": [],
   "source": [
    "# df_final.head()"
   ]
  },
  {
   "cell_type": "code",
   "execution_count": 422,
   "metadata": {
    "collapsed": false
   },
   "outputs": [
    {
     "data": {
      "text/plain": [
       "Index([u'record_date', u'power_consumption', u'dow', u'doy', u'day', u'month',\n",
       "       u'year', u'mean', u'std', u'month_period_1', u'month_period_2',\n",
       "       u'month_period_3', u'week_period_1', u'week_period_2', u'week_period_3',\n",
       "       u'week_period_4'],\n",
       "      dtype='object')"
      ]
     },
     "execution_count": 422,
     "metadata": {},
     "output_type": "execute_result"
    }
   ],
   "source": [
    "df_final.columns"
   ]
  },
  {
   "cell_type": "markdown",
   "metadata": {},
   "source": [
    "### 去掉不需要的数据"
   ]
  },
  {
   "cell_type": "code",
   "execution_count": 423,
   "metadata": {
    "collapsed": false
   },
   "outputs": [
    {
     "data": {
      "text/html": [
       "<div>\n",
       "<table border=\"1\" class=\"dataframe\">\n",
       "  <thead>\n",
       "    <tr style=\"text-align: right;\">\n",
       "      <th></th>\n",
       "      <th>record_date</th>\n",
       "      <th>power_consumption</th>\n",
       "      <th>dow</th>\n",
       "      <th>doy</th>\n",
       "      <th>day</th>\n",
       "      <th>month</th>\n",
       "      <th>year</th>\n",
       "      <th>mean</th>\n",
       "      <th>std</th>\n",
       "      <th>month_period_1</th>\n",
       "      <th>month_period_2</th>\n",
       "      <th>month_period_3</th>\n",
       "      <th>week_period_1</th>\n",
       "      <th>week_period_2</th>\n",
       "      <th>week_period_3</th>\n",
       "      <th>week_period_4</th>\n",
       "    </tr>\n",
       "  </thead>\n",
       "  <tbody>\n",
       "    <tr>\n",
       "      <th>59</th>\n",
       "      <td>2015-03-01</td>\n",
       "      <td>2900464.0</td>\n",
       "      <td>6</td>\n",
       "      <td>60</td>\n",
       "      <td>1</td>\n",
       "      <td>3</td>\n",
       "      <td>2015</td>\n",
       "      <td>2.795163e+06</td>\n",
       "      <td>769697.864999</td>\n",
       "      <td>-342783.154545</td>\n",
       "      <td>-1352485.7</td>\n",
       "      <td>-93716.5375</td>\n",
       "      <td>-220744.014286</td>\n",
       "      <td>-739169.857143</td>\n",
       "      <td>-1042483.85714</td>\n",
       "      <td>252348.357143</td>\n",
       "    </tr>\n",
       "    <tr>\n",
       "      <th>60</th>\n",
       "      <td>2015-03-02</td>\n",
       "      <td>3334082.0</td>\n",
       "      <td>0</td>\n",
       "      <td>61</td>\n",
       "      <td>2</td>\n",
       "      <td>3</td>\n",
       "      <td>2015</td>\n",
       "      <td>2.795163e+06</td>\n",
       "      <td>769697.864999</td>\n",
       "      <td>-342783.154545</td>\n",
       "      <td>-1352485.7</td>\n",
       "      <td>-93716.5375</td>\n",
       "      <td>-220744.014286</td>\n",
       "      <td>-739169.857143</td>\n",
       "      <td>-1042483.85714</td>\n",
       "      <td>252348.357143</td>\n",
       "    </tr>\n",
       "    <tr>\n",
       "      <th>61</th>\n",
       "      <td>2015-03-03</td>\n",
       "      <td>3492606.0</td>\n",
       "      <td>1</td>\n",
       "      <td>62</td>\n",
       "      <td>3</td>\n",
       "      <td>3</td>\n",
       "      <td>2015</td>\n",
       "      <td>2.795163e+06</td>\n",
       "      <td>769697.864999</td>\n",
       "      <td>-342783.154545</td>\n",
       "      <td>-1352485.7</td>\n",
       "      <td>-93716.5375</td>\n",
       "      <td>-220744.014286</td>\n",
       "      <td>-739169.857143</td>\n",
       "      <td>-1042483.85714</td>\n",
       "      <td>252348.357143</td>\n",
       "    </tr>\n",
       "    <tr>\n",
       "      <th>62</th>\n",
       "      <td>2015-03-04</td>\n",
       "      <td>3597890.0</td>\n",
       "      <td>2</td>\n",
       "      <td>63</td>\n",
       "      <td>4</td>\n",
       "      <td>3</td>\n",
       "      <td>2015</td>\n",
       "      <td>2.795163e+06</td>\n",
       "      <td>769697.864999</td>\n",
       "      <td>-342783.154545</td>\n",
       "      <td>-1352485.7</td>\n",
       "      <td>-93716.5375</td>\n",
       "      <td>-220744.014286</td>\n",
       "      <td>-739169.857143</td>\n",
       "      <td>-1042483.85714</td>\n",
       "      <td>252348.357143</td>\n",
       "    </tr>\n",
       "    <tr>\n",
       "      <th>63</th>\n",
       "      <td>2015-03-05</td>\n",
       "      <td>1798044.0</td>\n",
       "      <td>3</td>\n",
       "      <td>64</td>\n",
       "      <td>5</td>\n",
       "      <td>3</td>\n",
       "      <td>2015</td>\n",
       "      <td>2.795163e+06</td>\n",
       "      <td>769697.864999</td>\n",
       "      <td>-342783.154545</td>\n",
       "      <td>-1352485.7</td>\n",
       "      <td>-93716.5375</td>\n",
       "      <td>-220744.014286</td>\n",
       "      <td>-739169.857143</td>\n",
       "      <td>-1042483.85714</td>\n",
       "      <td>252348.357143</td>\n",
       "    </tr>\n",
       "  </tbody>\n",
       "</table>\n",
       "</div>"
      ],
      "text/plain": [
       "   record_date  power_consumption  dow  doy  day  month  year          mean  \\\n",
       "59  2015-03-01          2900464.0    6   60    1      3  2015  2.795163e+06   \n",
       "60  2015-03-02          3334082.0    0   61    2      3  2015  2.795163e+06   \n",
       "61  2015-03-03          3492606.0    1   62    3      3  2015  2.795163e+06   \n",
       "62  2015-03-04          3597890.0    2   63    4      3  2015  2.795163e+06   \n",
       "63  2015-03-05          1798044.0    3   64    5      3  2015  2.795163e+06   \n",
       "\n",
       "              std  month_period_1 month_period_2 month_period_3  \\\n",
       "59  769697.864999  -342783.154545     -1352485.7    -93716.5375   \n",
       "60  769697.864999  -342783.154545     -1352485.7    -93716.5375   \n",
       "61  769697.864999  -342783.154545     -1352485.7    -93716.5375   \n",
       "62  769697.864999  -342783.154545     -1352485.7    -93716.5375   \n",
       "63  769697.864999  -342783.154545     -1352485.7    -93716.5375   \n",
       "\n",
       "     week_period_1   week_period_2   week_period_3  week_period_4  \n",
       "59  -220744.014286  -739169.857143  -1042483.85714  252348.357143  \n",
       "60  -220744.014286  -739169.857143  -1042483.85714  252348.357143  \n",
       "61  -220744.014286  -739169.857143  -1042483.85714  252348.357143  \n",
       "62  -220744.014286  -739169.857143  -1042483.85714  252348.357143  \n",
       "63  -220744.014286  -739169.857143  -1042483.85714  252348.357143  "
      ]
     },
     "execution_count": 423,
     "metadata": {},
     "output_type": "execute_result"
    }
   ],
   "source": [
    "df_final = df_final[df_final.record_date>='2015-03-01']\n",
    "# df_final['previous_2months_diff'] = df_final['1_m_mean']-df_final['2_m_mean']\n",
    "df_final.head()"
   ]
  },
  {
   "cell_type": "markdown",
   "metadata": {},
   "source": [
    "### 异常值"
   ]
  },
  {
   "cell_type": "code",
   "execution_count": 424,
   "metadata": {
    "collapsed": false
   },
   "outputs": [],
   "source": [
    "# df_final = df_final[(df_final.record_date >= '2016-03-01') | (df_final.record_date < '2016-01-01')]\n",
    "# df_final['previous_2months_diff'] = df_final['1_m_mean']-df_final['2_m_mean']\n",
    "# df_final.head()"
   ]
  },
  {
   "cell_type": "code",
   "execution_count": 425,
   "metadata": {
    "collapsed": true
   },
   "outputs": [],
   "source": [
    "## "
   ]
  },
  {
   "cell_type": "markdown",
   "metadata": {},
   "source": [
    "### 保存测试集"
   ]
  },
  {
   "cell_type": "code",
   "execution_count": 426,
   "metadata": {
    "collapsed": false
   },
   "outputs": [],
   "source": [
    "df_final = df_final.drop(['record_date'],1)\n",
    "df_final.to_csv('train0529.csv', index=False)"
   ]
  },
  {
   "cell_type": "code",
   "execution_count": 427,
   "metadata": {
    "collapsed": false
   },
   "outputs": [
    {
     "name": "stdout",
     "output_type": "stream",
     "text": [
      "2900464.0\n",
      "['6.0' '60.0' '1.0' '3.0' '2015.0' 2795163.05357 769697.864999\n",
      " -342783.154545 -1352485.7 -93716.5375 -220744.01428600002 -739169.857143\n",
      " -1042483.85714 252348.35714299997]\n",
      "Start training...\n"
     ]
    },
    {
     "data": {
      "text/html": [
       "<div>\n",
       "<table border=\"1\" class=\"dataframe\">\n",
       "  <thead>\n",
       "    <tr style=\"text-align: right;\">\n",
       "      <th></th>\n",
       "      <th>power_consumption</th>\n",
       "      <th>dow</th>\n",
       "      <th>doy</th>\n",
       "      <th>day</th>\n",
       "      <th>month</th>\n",
       "      <th>year</th>\n",
       "      <th>mean</th>\n",
       "      <th>std</th>\n",
       "      <th>month_period_1</th>\n",
       "      <th>month_period_2</th>\n",
       "      <th>month_period_3</th>\n",
       "      <th>week_period_1</th>\n",
       "      <th>week_period_2</th>\n",
       "      <th>week_period_3</th>\n",
       "      <th>week_period_4</th>\n",
       "    </tr>\n",
       "  </thead>\n",
       "  <tbody>\n",
       "    <tr>\n",
       "      <th>0</th>\n",
       "      <td>2900464.0</td>\n",
       "      <td>6</td>\n",
       "      <td>60</td>\n",
       "      <td>1</td>\n",
       "      <td>3</td>\n",
       "      <td>2015</td>\n",
       "      <td>2.795163e+06</td>\n",
       "      <td>769697.864999</td>\n",
       "      <td>-342783.154545</td>\n",
       "      <td>-1352485.7</td>\n",
       "      <td>-93716.5375</td>\n",
       "      <td>-220744.014286</td>\n",
       "      <td>-739169.857143</td>\n",
       "      <td>-1.042484e+06</td>\n",
       "      <td>252348.357143</td>\n",
       "    </tr>\n",
       "    <tr>\n",
       "      <th>1</th>\n",
       "      <td>3334082.0</td>\n",
       "      <td>0</td>\n",
       "      <td>61</td>\n",
       "      <td>2</td>\n",
       "      <td>3</td>\n",
       "      <td>2015</td>\n",
       "      <td>2.795163e+06</td>\n",
       "      <td>769697.864999</td>\n",
       "      <td>-342783.154545</td>\n",
       "      <td>-1352485.7</td>\n",
       "      <td>-93716.5375</td>\n",
       "      <td>-220744.014286</td>\n",
       "      <td>-739169.857143</td>\n",
       "      <td>-1.042484e+06</td>\n",
       "      <td>252348.357143</td>\n",
       "    </tr>\n",
       "    <tr>\n",
       "      <th>2</th>\n",
       "      <td>3492606.0</td>\n",
       "      <td>1</td>\n",
       "      <td>62</td>\n",
       "      <td>3</td>\n",
       "      <td>3</td>\n",
       "      <td>2015</td>\n",
       "      <td>2.795163e+06</td>\n",
       "      <td>769697.864999</td>\n",
       "      <td>-342783.154545</td>\n",
       "      <td>-1352485.7</td>\n",
       "      <td>-93716.5375</td>\n",
       "      <td>-220744.014286</td>\n",
       "      <td>-739169.857143</td>\n",
       "      <td>-1.042484e+06</td>\n",
       "      <td>252348.357143</td>\n",
       "    </tr>\n",
       "    <tr>\n",
       "      <th>3</th>\n",
       "      <td>3597890.0</td>\n",
       "      <td>2</td>\n",
       "      <td>63</td>\n",
       "      <td>4</td>\n",
       "      <td>3</td>\n",
       "      <td>2015</td>\n",
       "      <td>2.795163e+06</td>\n",
       "      <td>769697.864999</td>\n",
       "      <td>-342783.154545</td>\n",
       "      <td>-1352485.7</td>\n",
       "      <td>-93716.5375</td>\n",
       "      <td>-220744.014286</td>\n",
       "      <td>-739169.857143</td>\n",
       "      <td>-1.042484e+06</td>\n",
       "      <td>252348.357143</td>\n",
       "    </tr>\n",
       "    <tr>\n",
       "      <th>4</th>\n",
       "      <td>1798044.0</td>\n",
       "      <td>3</td>\n",
       "      <td>64</td>\n",
       "      <td>5</td>\n",
       "      <td>3</td>\n",
       "      <td>2015</td>\n",
       "      <td>2.795163e+06</td>\n",
       "      <td>769697.864999</td>\n",
       "      <td>-342783.154545</td>\n",
       "      <td>-1352485.7</td>\n",
       "      <td>-93716.5375</td>\n",
       "      <td>-220744.014286</td>\n",
       "      <td>-739169.857143</td>\n",
       "      <td>-1.042484e+06</td>\n",
       "      <td>252348.357143</td>\n",
       "    </tr>\n",
       "  </tbody>\n",
       "</table>\n",
       "</div>"
      ],
      "text/plain": [
       "   power_consumption  dow  doy  day  month  year          mean            std  \\\n",
       "0          2900464.0    6   60    1      3  2015  2.795163e+06  769697.864999   \n",
       "1          3334082.0    0   61    2      3  2015  2.795163e+06  769697.864999   \n",
       "2          3492606.0    1   62    3      3  2015  2.795163e+06  769697.864999   \n",
       "3          3597890.0    2   63    4      3  2015  2.795163e+06  769697.864999   \n",
       "4          1798044.0    3   64    5      3  2015  2.795163e+06  769697.864999   \n",
       "\n",
       "   month_period_1  month_period_2  month_period_3  week_period_1  \\\n",
       "0  -342783.154545      -1352485.7     -93716.5375 -220744.014286   \n",
       "1  -342783.154545      -1352485.7     -93716.5375 -220744.014286   \n",
       "2  -342783.154545      -1352485.7     -93716.5375 -220744.014286   \n",
       "3  -342783.154545      -1352485.7     -93716.5375 -220744.014286   \n",
       "4  -342783.154545      -1352485.7     -93716.5375 -220744.014286   \n",
       "\n",
       "   week_period_2  week_period_3  week_period_4  \n",
       "0 -739169.857143  -1.042484e+06  252348.357143  \n",
       "1 -739169.857143  -1.042484e+06  252348.357143  \n",
       "2 -739169.857143  -1.042484e+06  252348.357143  \n",
       "3 -739169.857143  -1.042484e+06  252348.357143  \n",
       "4 -739169.857143  -1.042484e+06  252348.357143  "
      ]
     },
     "execution_count": 427,
     "metadata": {},
     "output_type": "execute_result"
    }
   ],
   "source": [
    "\n",
    "### 生成训练集和测试集\n",
    "\n",
    "import pandas as pd\n",
    "df_final = pd.read_csv('train0529.csv')\n",
    "\n",
    "# df_final = df_final.drop('record_date',1)\n",
    "\n",
    "final_train_data = df_final[~((df_final.year==2016)&(df_final.month==9))].drop(['power_consumption'],1)\n",
    "final_train_data = final_train_data.astype(float)\n",
    "final_test_data = df_final[((df_final.year==2016)&(df_final.month==9))].drop(['power_consumption'],1)\n",
    "final_test_data = final_test_data.astype(float)\n",
    "train_target = df_final[~((df_final.year==2016)&(df_final.month==9))][['power_consumption']]\n",
    "\n",
    "train_lgb = final_train_data.copy()\n",
    "train_lgb[['dow','doy','day','month','year']] = train_lgb[['dow','doy','day','month','year']]\\\n",
    ".astype(str)\n",
    "test_lgb = final_test_data.copy()\n",
    "test_lgb[['dow','doy','day','month','year']] = test_lgb[['dow','doy','day','month','year',]]\\\n",
    ".astype(str)\n",
    "\n",
    "X_lgb = train_lgb.values\n",
    "y_lgb = train_target.values.reshape(train_target.values.shape[0],)\n",
    "print y_lgb[0]\n",
    "print X_lgb[0,:]\n",
    "\n",
    "#随机敲定一组参数跑模型\n",
    "import lightgbm as lgb\n",
    "from sklearn.metrics import mean_squared_error\n",
    "import matplotlib.pyplot as plt\n",
    "%matplotlib inline\n",
    "# create dataset for lightgbm\n",
    "lgb_train = lgb.Dataset(X_lgb, y_lgb)\n",
    "# specify your configurations as a dict\n",
    "params = {\n",
    "    'num_leaves': 1024,\n",
    "    'learning_rate':0.42,\n",
    "    'n_estimators':30,\n",
    "    'feature_fraction': 1,\n",
    "    'bagging_fraction': 0.8,\n",
    "    'bagging_freq': 5\n",
    "}\n",
    "\n",
    "print('Start training...')\n",
    "# train\n",
    "\n",
    "evals_result = {}  # to record eval results for plotting\n",
    "\n",
    "gbm = lgb.train(params,\n",
    "                lgb_train,\n",
    "                num_boost_round=30,\n",
    "                feature_name=list(final_train_data.columns))\n",
    "\n",
    "\n",
    "# gbm = lgb.train(params,\n",
    "#                 lgb_train,\n",
    "#                 num_boost_round=30,\n",
    "# #                 valid_sets=[lgb_train, lgb_test],\n",
    "#                 feature_name=list(final_train_data.columns)),\n",
    "# #                 categorical_feature=[21],\n",
    "#                 evals_result=evals_result,\n",
    "# #                 verbose_eval=10\n",
    "#         )\n",
    "df_final.head()"
   ]
  },
  {
   "cell_type": "markdown",
   "metadata": {},
   "source": [
    "### 特征重要度排序"
   ]
  },
  {
   "cell_type": "code",
   "execution_count": 428,
   "metadata": {
    "collapsed": false
   },
   "outputs": [
    {
     "name": "stdout",
     "output_type": "stream",
     "text": [
      "Plot feature importances...\n"
     ]
    },
    {
     "data": {
      "image/png": "[encoded data removed]",
      "text/plain": [
       "<matplotlib.figure.Figure at 0x7fd0fe173950>"
      ]
     },
     "metadata": {},
     "output_type": "display_data"
    }
   ],
   "source": [
    "%matplotlib inline\n",
    "import matplotlib.pyplot as plt\n",
    "print('Plot feature importances...')\n",
    "ax = lgb.plot_importance(gbm, max_num_features=10)\n",
    "plt.show()\n"
   ]
  },
  {
   "cell_type": "code",
   "execution_count": 429,
   "metadata": {
    "collapsed": false
   },
   "outputs": [
    {
     "data": {
      "text/html": [
       "<div>\n",
       "<table border=\"1\" class=\"dataframe\">\n",
       "  <thead>\n",
       "    <tr style=\"text-align: right;\">\n",
       "      <th></th>\n",
       "      <th>predict_date</th>\n",
       "      <th>predict_power_consumption</th>\n",
       "    </tr>\n",
       "  </thead>\n",
       "  <tbody>\n",
       "    <tr>\n",
       "      <th>0</th>\n",
       "      <td>2016-09-01</td>\n",
       "      <td>3651289</td>\n",
       "    </tr>\n",
       "    <tr>\n",
       "      <th>1</th>\n",
       "      <td>2016-09-02</td>\n",
       "      <td>3570148</td>\n",
       "    </tr>\n",
       "    <tr>\n",
       "      <th>2</th>\n",
       "      <td>2016-09-03</td>\n",
       "      <td>3439028</td>\n",
       "    </tr>\n",
       "    <tr>\n",
       "      <th>3</th>\n",
       "      <td>2016-09-04</td>\n",
       "      <td>3439028</td>\n",
       "    </tr>\n",
       "    <tr>\n",
       "      <th>4</th>\n",
       "      <td>2016-09-05</td>\n",
       "      <td>3628377</td>\n",
       "    </tr>\n",
       "    <tr>\n",
       "      <th>5</th>\n",
       "      <td>2016-09-06</td>\n",
       "      <td>3628377</td>\n",
       "    </tr>\n",
       "    <tr>\n",
       "      <th>6</th>\n",
       "      <td>2016-09-07</td>\n",
       "      <td>3651289</td>\n",
       "    </tr>\n",
       "    <tr>\n",
       "      <th>7</th>\n",
       "      <td>2016-09-08</td>\n",
       "      <td>3719336</td>\n",
       "    </tr>\n",
       "    <tr>\n",
       "      <th>8</th>\n",
       "      <td>2016-09-09</td>\n",
       "      <td>3638195</td>\n",
       "    </tr>\n",
       "    <tr>\n",
       "      <th>9</th>\n",
       "      <td>2016-09-10</td>\n",
       "      <td>3599444</td>\n",
       "    </tr>\n",
       "    <tr>\n",
       "      <th>10</th>\n",
       "      <td>2016-09-11</td>\n",
       "      <td>3599444</td>\n",
       "    </tr>\n",
       "    <tr>\n",
       "      <th>11</th>\n",
       "      <td>2016-09-12</td>\n",
       "      <td>3788793</td>\n",
       "    </tr>\n",
       "    <tr>\n",
       "      <th>12</th>\n",
       "      <td>2016-09-13</td>\n",
       "      <td>3788793</td>\n",
       "    </tr>\n",
       "    <tr>\n",
       "      <th>13</th>\n",
       "      <td>2016-09-14</td>\n",
       "      <td>3861043</td>\n",
       "    </tr>\n",
       "    <tr>\n",
       "      <th>14</th>\n",
       "      <td>2016-09-15</td>\n",
       "      <td>3888948</td>\n",
       "    </tr>\n",
       "    <tr>\n",
       "      <th>15</th>\n",
       "      <td>2016-09-16</td>\n",
       "      <td>3880912</td>\n",
       "    </tr>\n",
       "    <tr>\n",
       "      <th>16</th>\n",
       "      <td>2016-09-17</td>\n",
       "      <td>3719721</td>\n",
       "    </tr>\n",
       "    <tr>\n",
       "      <th>17</th>\n",
       "      <td>2016-09-18</td>\n",
       "      <td>3719721</td>\n",
       "    </tr>\n",
       "    <tr>\n",
       "      <th>18</th>\n",
       "      <td>2016-09-19</td>\n",
       "      <td>3925497</td>\n",
       "    </tr>\n",
       "    <tr>\n",
       "      <th>19</th>\n",
       "      <td>2016-09-20</td>\n",
       "      <td>3925497</td>\n",
       "    </tr>\n",
       "    <tr>\n",
       "      <th>20</th>\n",
       "      <td>2016-09-21</td>\n",
       "      <td>3948409</td>\n",
       "    </tr>\n",
       "    <tr>\n",
       "      <th>21</th>\n",
       "      <td>2016-09-22</td>\n",
       "      <td>3999421</td>\n",
       "    </tr>\n",
       "    <tr>\n",
       "      <th>22</th>\n",
       "      <td>2016-09-23</td>\n",
       "      <td>3918280</td>\n",
       "    </tr>\n",
       "    <tr>\n",
       "      <th>23</th>\n",
       "      <td>2016-09-24</td>\n",
       "      <td>3770732</td>\n",
       "    </tr>\n",
       "    <tr>\n",
       "      <th>24</th>\n",
       "      <td>2016-09-25</td>\n",
       "      <td>3770732</td>\n",
       "    </tr>\n",
       "    <tr>\n",
       "      <th>25</th>\n",
       "      <td>2016-09-26</td>\n",
       "      <td>3976509</td>\n",
       "    </tr>\n",
       "    <tr>\n",
       "      <th>26</th>\n",
       "      <td>2016-09-27</td>\n",
       "      <td>3976509</td>\n",
       "    </tr>\n",
       "    <tr>\n",
       "      <th>27</th>\n",
       "      <td>2016-09-28</td>\n",
       "      <td>3999421</td>\n",
       "    </tr>\n",
       "    <tr>\n",
       "      <th>28</th>\n",
       "      <td>2016-09-29</td>\n",
       "      <td>3999421</td>\n",
       "    </tr>\n",
       "    <tr>\n",
       "      <th>29</th>\n",
       "      <td>2016-09-30</td>\n",
       "      <td>3918280</td>\n",
       "    </tr>\n",
       "  </tbody>\n",
       "</table>\n",
       "</div>"
      ],
      "text/plain": [
       "   predict_date  predict_power_consumption\n",
       "0    2016-09-01                    3651289\n",
       "1    2016-09-02                    3570148\n",
       "2    2016-09-03                    3439028\n",
       "3    2016-09-04                    3439028\n",
       "4    2016-09-05                    3628377\n",
       "5    2016-09-06                    3628377\n",
       "6    2016-09-07                    3651289\n",
       "7    2016-09-08                    3719336\n",
       "8    2016-09-09                    3638195\n",
       "9    2016-09-10                    3599444\n",
       "10   2016-09-11                    3599444\n",
       "11   2016-09-12                    3788793\n",
       "12   2016-09-13                    3788793\n",
       "13   2016-09-14                    3861043\n",
       "14   2016-09-15                    3888948\n",
       "15   2016-09-16                    3880912\n",
       "16   2016-09-17                    3719721\n",
       "17   2016-09-18                    3719721\n",
       "18   2016-09-19                    3925497\n",
       "19   2016-09-20                    3925497\n",
       "20   2016-09-21                    3948409\n",
       "21   2016-09-22                    3999421\n",
       "22   2016-09-23                    3918280\n",
       "23   2016-09-24                    3770732\n",
       "24   2016-09-25                    3770732\n",
       "25   2016-09-26                    3976509\n",
       "26   2016-09-27                    3976509\n",
       "27   2016-09-28                    3999421\n",
       "28   2016-09-29                    3999421\n",
       "29   2016-09-30                    3918280"
      ]
     },
     "execution_count": 429,
     "metadata": {},
     "output_type": "execute_result"
    }
   ],
   "source": [
    "commit_df = pd.date_range('2016/9/1', periods=30, freq='D')\n",
    "commit_df = pd.DataFrame(commit_df)\n",
    "commit_df.columns = ['predict_date']\n",
    "y_predict = gbm.predict(test_lgb.values)\n",
    "commit_df['predict_power_consumption'] = pd.DataFrame(y_predict).astype('int')\n",
    "commit_df"
   ]
  },
  {
   "cell_type": "code",
   "execution_count": 430,
   "metadata": {
    "collapsed": false
   },
   "outputs": [],
   "source": [
    "# 生成提交结果文件\n",
    "# 转换日期格式 \n",
    "\n",
    "from datetime import datetime \n",
    "\n",
    "def timetransform(t):\n",
    "    t = str(t)[0:10]\n",
    "    time = datetime.strptime(t, '%Y-%m-%d')\n",
    "    res = time.strftime('%Y%m%d')\n",
    "    return res\n",
    "\n",
    "commit_df['predict_date'] = commit_df['predict_date'].apply(timetransform)\n",
    "\n",
    "commit_df.head()\n",
    "commit_df.to_csv('Tianchi_power_predict_table.csv',index=False)"
   ]
  },
  {
   "cell_type": "code",
   "execution_count": 431,
   "metadata": {
    "collapsed": true
   },
   "outputs": [],
   "source": [
    "# 读入最好的成绩 做参考\n",
    "ref = pd.read_csv('predict_liuxin.csv')\n",
    "# test_x = pd.read_csv('test.csv')\n",
    "# train_y = train['power_consumption']\n",
    "# train_X = train.drop('power_consumption',axis=1)\n",
    "# train_X.shape\n",
    "# ref"
   ]
  },
  {
   "cell_type": "code",
   "execution_count": 432,
   "metadata": {
    "collapsed": true
   },
   "outputs": [],
   "source": [
    "# 读取当前预测结果\n",
    "train = pd.read_csv('Tianchi_power_predict_table.csv')\n",
    "# test_x = pd.read_csv('test.csv')\n",
    "# train"
   ]
  },
  {
   "cell_type": "code",
   "execution_count": 433,
   "metadata": {
    "collapsed": false
   },
   "outputs": [
    {
     "data": {
      "image/png": "[encoded data removed]",
      "text/plain": [
       "<matplotlib.figure.Figure at 0x7fd103b5f6d0>"
      ]
     },
     "metadata": {},
     "output_type": "display_data"
    }
   ],
   "source": [
    "y2 = train['predict_power_consumption'].values\n",
    "x = train['predict_date'].values\n",
    "y = ref['predict_power_consumption'].values\n",
    "\n",
    "plt.plot(x, y)\n",
    "plt.plot(x,y2)\n",
    "plt.legend()\n",
    "\n"
   ]
  },
  {
   "cell_type": "code",
   "execution_count": null,
   "metadata": {
    "collapsed": true
   },
   "outputs": [],
   "source": []
  }
 ],
 "metadata": {
  "anaconda-cloud": {},
  "kernelspec": {
   "display_name": "Python [Root]",
   "language": "python",
   "name": "Python [Root]"
  },
  "language_info": {
   "codemirror_mode": {
    "name": "ipython",
    "version": 3
   },
   "file_extension": ".py",
   "mimetype": "text/x-python",
   "name": "python",
   "nbconvert_exporter": "python",
   "pygments_lexer": "ipython3",
   "version": "3.5.3"
  }
 },
 "nbformat": 4,
 "nbformat_minor": 0
}
