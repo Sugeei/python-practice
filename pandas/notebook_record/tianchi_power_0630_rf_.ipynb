{
 "cells": [
  {
   "cell_type": "code",
   "execution_count": 1,
   "metadata": {
    "collapsed": true
   },
   "outputs": [],
   "source": [
    "import pandas as pd\n",
    "import warnings\n",
    "warnings.filterwarnings(\"ignore\")"
   ]
  },
  {
   "cell_type": "markdown",
   "metadata": {},
   "source": [
    "### 读取原始数据"
   ]
  },
  {
   "cell_type": "code",
   "execution_count": 2,
   "metadata": {
    "collapsed": false
   },
   "outputs": [
    {
     "data": {
      "text/html": [
       "<div>\n",
       "<table border=\"1\" class=\"dataframe\">\n",
       "  <thead>\n",
       "    <tr style=\"text-align: right;\">\n",
       "      <th></th>\n",
       "      <th>record_date</th>\n",
       "      <th>user_id</th>\n",
       "      <th>power_consumption</th>\n",
       "    </tr>\n",
       "  </thead>\n",
       "  <tbody>\n",
       "    <tr>\n",
       "      <th>0</th>\n",
       "      <td>2015-01-01</td>\n",
       "      <td>1</td>\n",
       "      <td>1135</td>\n",
       "    </tr>\n",
       "    <tr>\n",
       "      <th>1</th>\n",
       "      <td>2015-01-02</td>\n",
       "      <td>1</td>\n",
       "      <td>570</td>\n",
       "    </tr>\n",
       "    <tr>\n",
       "      <th>2</th>\n",
       "      <td>2015-01-03</td>\n",
       "      <td>1</td>\n",
       "      <td>3418</td>\n",
       "    </tr>\n",
       "    <tr>\n",
       "      <th>3</th>\n",
       "      <td>2015-01-04</td>\n",
       "      <td>1</td>\n",
       "      <td>3968</td>\n",
       "    </tr>\n",
       "    <tr>\n",
       "      <th>4</th>\n",
       "      <td>2015-01-05</td>\n",
       "      <td>1</td>\n",
       "      <td>3986</td>\n",
       "    </tr>\n",
       "  </tbody>\n",
       "</table>\n",
       "</div>"
      ],
      "text/plain": [
       "  record_date  user_id  power_consumption\n",
       "0  2015-01-01        1               1135\n",
       "1  2015-01-02        1                570\n",
       "2  2015-01-03        1               3418\n",
       "3  2015-01-04        1               3968\n",
       "4  2015-01-05        1               3986"
      ]
     },
     "execution_count": 2,
     "metadata": {},
     "output_type": "execute_result"
    }
   ],
   "source": [
    "df = pd.read_csv(\"Tianchi_power.csv\")\n",
    "\n",
    "df9 = pd.read_csv(\"Tianchi_power_9.csv\")\n",
    "\n",
    "df = pd.concat([df,df9])\n",
    "\n",
    "df['record_date'] = pd.to_datetime(df['record_date'])\n",
    "df.head()\n"
   ]
  },
  {
   "cell_type": "code",
   "execution_count": 3,
   "metadata": {
    "collapsed": false
   },
   "outputs": [],
   "source": [
    "# feature = pd.read_csv(\"feature_isworkday.csv\")\n",
    "# feature.shape"
   ]
  },
  {
   "cell_type": "markdown",
   "metadata": {},
   "source": [
    "### 填充缺省值"
   ]
  },
  {
   "cell_type": "code",
   "execution_count": 4,
   "metadata": {
    "collapsed": false
   },
   "outputs": [
    {
     "data": {
      "text/html": [
       "<div>\n",
       "<table border=\"1\" class=\"dataframe\">\n",
       "  <thead>\n",
       "    <tr style=\"text-align: right;\">\n",
       "      <th></th>\n",
       "      <th>user_id</th>\n",
       "      <th>record_date</th>\n",
       "    </tr>\n",
       "  </thead>\n",
       "  <tbody>\n",
       "    <tr>\n",
       "      <th>0</th>\n",
       "      <td>1</td>\n",
       "      <td>2015-01-01</td>\n",
       "    </tr>\n",
       "    <tr>\n",
       "      <th>1</th>\n",
       "      <td>1</td>\n",
       "      <td>2015-01-02</td>\n",
       "    </tr>\n",
       "  </tbody>\n",
       "</table>\n",
       "</div>"
      ],
      "text/plain": [
       "   user_id record_date\n",
       "0        1  2015-01-01\n",
       "1        1  2015-01-02"
      ]
     },
     "execution_count": 4,
     "metadata": {},
     "output_type": "execute_result"
    }
   ],
   "source": [
    "dates = pd.date_range(\"2015-01-01\",\"2016-09-30\", freq=\"1D\")\n",
    "userid = pd.DataFrame({'user_id':df['user_id'].unique()})\n",
    "dates = pd.DataFrame(dates)\n",
    "dates.columns = ['record_date']\n",
    "userid['key'] = 0\n",
    "dates['key'] = 0\n",
    "full = userid.merge(dates, how='left', on = 'key')\n",
    "full.drop('key',1, inplace=True)\n",
    "full.head(2)"
   ]
  },
  {
   "cell_type": "code",
   "execution_count": 5,
   "metadata": {
    "collapsed": false
   },
   "outputs": [
    {
     "data": {
      "text/plain": [
       "(929106, 3)"
      ]
     },
     "execution_count": 5,
     "metadata": {},
     "output_type": "execute_result"
    }
   ],
   "source": [
    "df = pd.merge(full, df, how='left', on=['user_id','record_date'])\n",
    "df['power_consumption'] = df['power_consumption'].interpolate()\n",
    "df.shape"
   ]
  },
  {
   "cell_type": "markdown",
   "metadata": {},
   "source": [
    "### 填充特征"
   ]
  },
  {
   "cell_type": "code",
   "execution_count": 6,
   "metadata": {
    "collapsed": true
   },
   "outputs": [],
   "source": [
    "df['dow'] = df['record_date'].apply(lambda x: x.dayofweek)\n",
    "df['doy'] = df['record_date'].apply(lambda x: x.dayofyear)\n",
    "df['day'] = df['record_date'].apply(lambda x: x.day)\n",
    "df['month'] = df['record_date'].apply(lambda x: x.month)\n",
    "df['year'] = df['record_date'].apply(lambda x: x.year)\n",
    "\n",
    "def map_season(month):\n",
    "    month_dic = {1:1, 2:1, 3:2, 4:2, 5:3, 6:3, 7:3, 8:3, 9:3, 10:4, 11:4, 12:1}\n",
    "    return month_dic[month]\n",
    "\n",
    "df['season'] = df['month'].apply(lambda x: map_season(x))"
   ]
  },
  {
   "cell_type": "code",
   "execution_count": 7,
   "metadata": {
    "collapsed": false
   },
   "outputs": [
    {
     "data": {
      "text/plain": [
       "(639, 2)"
      ]
     },
     "execution_count": 7,
     "metadata": {},
     "output_type": "execute_result"
    }
   ],
   "source": [
    "### 用电量聚合到一个月\n",
    "\n",
    "base_df = df[['record_date','power_consumption']].groupby(by='record_date').agg('sum')\n",
    "base_df = base_df.reset_index()\n",
    "base_df.head()\n",
    "base_df.shape\n",
    "# df = base_df"
   ]
  },
  {
   "cell_type": "markdown",
   "metadata": {},
   "source": [
    "### 拼接测试集"
   ]
  },
  {
   "cell_type": "code",
   "execution_count": 8,
   "metadata": {
    "collapsed": false
   },
   "outputs": [
    {
     "data": {
      "text/html": [
       "<div>\n",
       "<table border=\"1\" class=\"dataframe\">\n",
       "  <thead>\n",
       "    <tr style=\"text-align: right;\">\n",
       "      <th></th>\n",
       "      <th>record_date</th>\n",
       "      <th>power_consumption</th>\n",
       "    </tr>\n",
       "  </thead>\n",
       "  <tbody>\n",
       "    <tr>\n",
       "      <th>608</th>\n",
       "      <td>2016-10-01</td>\n",
       "      <td>3664003.0</td>\n",
       "    </tr>\n",
       "    <tr>\n",
       "      <th>609</th>\n",
       "      <td>2016-10-02</td>\n",
       "      <td>3683282.0</td>\n",
       "    </tr>\n",
       "    <tr>\n",
       "      <th>610</th>\n",
       "      <td>2016-10-03</td>\n",
       "      <td>3723110.0</td>\n",
       "    </tr>\n",
       "    <tr>\n",
       "      <th>611</th>\n",
       "      <td>2016-10-04</td>\n",
       "      <td>3490429.0</td>\n",
       "    </tr>\n",
       "    <tr>\n",
       "      <th>612</th>\n",
       "      <td>2016-10-05</td>\n",
       "      <td>3258102.0</td>\n",
       "    </tr>\n",
       "    <tr>\n",
       "      <th>613</th>\n",
       "      <td>2016-10-06</td>\n",
       "      <td>3681162.0</td>\n",
       "    </tr>\n",
       "    <tr>\n",
       "      <th>614</th>\n",
       "      <td>2016-10-07</td>\n",
       "      <td>3582158.0</td>\n",
       "    </tr>\n",
       "    <tr>\n",
       "      <th>615</th>\n",
       "      <td>2016-10-08</td>\n",
       "      <td>3480405.0</td>\n",
       "    </tr>\n",
       "    <tr>\n",
       "      <th>616</th>\n",
       "      <td>2016-10-09</td>\n",
       "      <td>3584115.0</td>\n",
       "    </tr>\n",
       "    <tr>\n",
       "      <th>617</th>\n",
       "      <td>2016-10-10</td>\n",
       "      <td>3729301.0</td>\n",
       "    </tr>\n",
       "    <tr>\n",
       "      <th>618</th>\n",
       "      <td>2016-10-11</td>\n",
       "      <td>3695458.0</td>\n",
       "    </tr>\n",
       "    <tr>\n",
       "      <th>619</th>\n",
       "      <td>2016-10-12</td>\n",
       "      <td>3424545.0</td>\n",
       "    </tr>\n",
       "    <tr>\n",
       "      <th>620</th>\n",
       "      <td>2016-10-13</td>\n",
       "      <td>3715688.0</td>\n",
       "    </tr>\n",
       "    <tr>\n",
       "      <th>621</th>\n",
       "      <td>2016-10-14</td>\n",
       "      <td>3814278.0</td>\n",
       "    </tr>\n",
       "    <tr>\n",
       "      <th>622</th>\n",
       "      <td>2016-10-15</td>\n",
       "      <td>3758030.0</td>\n",
       "    </tr>\n",
       "    <tr>\n",
       "      <th>623</th>\n",
       "      <td>2016-10-16</td>\n",
       "      <td>2982572.0</td>\n",
       "    </tr>\n",
       "    <tr>\n",
       "      <th>624</th>\n",
       "      <td>2016-10-17</td>\n",
       "      <td>3210144.0</td>\n",
       "    </tr>\n",
       "    <tr>\n",
       "      <th>625</th>\n",
       "      <td>2016-10-18</td>\n",
       "      <td>3555462.0</td>\n",
       "    </tr>\n",
       "    <tr>\n",
       "      <th>626</th>\n",
       "      <td>2016-10-19</td>\n",
       "      <td>3832516.0</td>\n",
       "    </tr>\n",
       "    <tr>\n",
       "      <th>627</th>\n",
       "      <td>2016-10-20</td>\n",
       "      <td>3894787.0</td>\n",
       "    </tr>\n",
       "    <tr>\n",
       "      <th>628</th>\n",
       "      <td>2016-10-21</td>\n",
       "      <td>3929544.0</td>\n",
       "    </tr>\n",
       "    <tr>\n",
       "      <th>629</th>\n",
       "      <td>2016-10-22</td>\n",
       "      <td>4043865.0</td>\n",
       "    </tr>\n",
       "    <tr>\n",
       "      <th>630</th>\n",
       "      <td>2016-10-23</td>\n",
       "      <td>4021526.0</td>\n",
       "    </tr>\n",
       "    <tr>\n",
       "      <th>631</th>\n",
       "      <td>2016-10-24</td>\n",
       "      <td>4045334.0</td>\n",
       "    </tr>\n",
       "    <tr>\n",
       "      <th>632</th>\n",
       "      <td>2016-10-25</td>\n",
       "      <td>3943147.0</td>\n",
       "    </tr>\n",
       "    <tr>\n",
       "      <th>633</th>\n",
       "      <td>2016-10-26</td>\n",
       "      <td>3811406.0</td>\n",
       "    </tr>\n",
       "    <tr>\n",
       "      <th>634</th>\n",
       "      <td>2016-10-27</td>\n",
       "      <td>4042132.0</td>\n",
       "    </tr>\n",
       "    <tr>\n",
       "      <th>635</th>\n",
       "      <td>2016-10-28</td>\n",
       "      <td>4287965.0</td>\n",
       "    </tr>\n",
       "    <tr>\n",
       "      <th>636</th>\n",
       "      <td>2016-10-29</td>\n",
       "      <td>4086998.0</td>\n",
       "    </tr>\n",
       "    <tr>\n",
       "      <th>637</th>\n",
       "      <td>2016-10-30</td>\n",
       "      <td>3941842.0</td>\n",
       "    </tr>\n",
       "    <tr>\n",
       "      <th>638</th>\n",
       "      <td>2016-10-31</td>\n",
       "      <td>3783264.0</td>\n",
       "    </tr>\n",
       "  </tbody>\n",
       "</table>\n",
       "</div>"
      ],
      "text/plain": [
       "    record_date  power_consumption\n",
       "608  2016-10-01          3664003.0\n",
       "609  2016-10-02          3683282.0\n",
       "610  2016-10-03          3723110.0\n",
       "611  2016-10-04          3490429.0\n",
       "612  2016-10-05          3258102.0\n",
       "613  2016-10-06          3681162.0\n",
       "614  2016-10-07          3582158.0\n",
       "615  2016-10-08          3480405.0\n",
       "616  2016-10-09          3584115.0\n",
       "617  2016-10-10          3729301.0\n",
       "618  2016-10-11          3695458.0\n",
       "619  2016-10-12          3424545.0\n",
       "620  2016-10-13          3715688.0\n",
       "621  2016-10-14          3814278.0\n",
       "622  2016-10-15          3758030.0\n",
       "623  2016-10-16          2982572.0\n",
       "624  2016-10-17          3210144.0\n",
       "625  2016-10-18          3555462.0\n",
       "626  2016-10-19          3832516.0\n",
       "627  2016-10-20          3894787.0\n",
       "628  2016-10-21          3929544.0\n",
       "629  2016-10-22          4043865.0\n",
       "630  2016-10-23          4021526.0\n",
       "631  2016-10-24          4045334.0\n",
       "632  2016-10-25          3943147.0\n",
       "633  2016-10-26          3811406.0\n",
       "634  2016-10-27          4042132.0\n",
       "635  2016-10-28          4287965.0\n",
       "636  2016-10-29          4086998.0\n",
       "637  2016-10-30          3941842.0\n",
       "638  2016-10-31          3783264.0"
      ]
     },
     "execution_count": 8,
     "metadata": {},
     "output_type": "execute_result"
    }
   ],
   "source": [
    "df_test = base_df[(base_df.record_date>='2016-08-31')&(base_df.record_date<='2016-09-30')]\n",
    "df_test['record_date'] = pd.DataFrame(df_test['record_date']+pd.Timedelta('31 days'))\n",
    "df_test#.shape#head()\n"
   ]
  },
  {
   "cell_type": "code",
   "execution_count": 9,
   "metadata": {
    "collapsed": false
   },
   "outputs": [
    {
     "data": {
      "text/html": [
       "<div>\n",
       "<table border=\"1\" class=\"dataframe\">\n",
       "  <thead>\n",
       "    <tr style=\"text-align: right;\">\n",
       "      <th></th>\n",
       "      <th>record_date</th>\n",
       "      <th>power_consumption</th>\n",
       "    </tr>\n",
       "  </thead>\n",
       "  <tbody>\n",
       "    <tr>\n",
       "      <th>0</th>\n",
       "      <td>2015-01-01</td>\n",
       "      <td>2900575.0</td>\n",
       "    </tr>\n",
       "    <tr>\n",
       "      <th>1</th>\n",
       "      <td>2015-01-02</td>\n",
       "      <td>3158211.0</td>\n",
       "    </tr>\n",
       "    <tr>\n",
       "      <th>2</th>\n",
       "      <td>2015-01-03</td>\n",
       "      <td>3596487.0</td>\n",
       "    </tr>\n",
       "    <tr>\n",
       "      <th>3</th>\n",
       "      <td>2015-01-04</td>\n",
       "      <td>3939672.0</td>\n",
       "    </tr>\n",
       "    <tr>\n",
       "      <th>4</th>\n",
       "      <td>2015-01-05</td>\n",
       "      <td>4101790.0</td>\n",
       "    </tr>\n",
       "  </tbody>\n",
       "</table>\n",
       "</div>"
      ],
      "text/plain": [
       "  record_date  power_consumption\n",
       "0  2015-01-01          2900575.0\n",
       "1  2015-01-02          3158211.0\n",
       "2  2015-01-03          3596487.0\n",
       "3  2015-01-04          3939672.0\n",
       "4  2015-01-05          4101790.0"
      ]
     },
     "execution_count": 9,
     "metadata": {},
     "output_type": "execute_result"
    }
   ],
   "source": [
    "df = pd.concat([base_df, df_test]).sort_values(['record_date'])\n",
    "# base_df.shape\n",
    "\n",
    "# df = base_df\n",
    "df.head()\n"
   ]
  },
  {
   "cell_type": "code",
   "execution_count": null,
   "metadata": {
    "collapsed": true
   },
   "outputs": [],
   "source": []
  },
  {
   "cell_type": "code",
   "execution_count": 10,
   "metadata": {
    "collapsed": false
   },
   "outputs": [
    {
     "data": {
      "text/html": [
       "<div>\n",
       "<table border=\"1\" class=\"dataframe\">\n",
       "  <thead>\n",
       "    <tr style=\"text-align: right;\">\n",
       "      <th></th>\n",
       "      <th>record_date</th>\n",
       "      <th>power_consumption</th>\n",
       "    </tr>\n",
       "  </thead>\n",
       "  <tbody>\n",
       "    <tr>\n",
       "      <th>0</th>\n",
       "      <td>2015-01-01</td>\n",
       "      <td>2900575.0</td>\n",
       "    </tr>\n",
       "    <tr>\n",
       "      <th>1</th>\n",
       "      <td>2015-01-02</td>\n",
       "      <td>3158211.0</td>\n",
       "    </tr>\n",
       "    <tr>\n",
       "      <th>2</th>\n",
       "      <td>2015-01-03</td>\n",
       "      <td>3596487.0</td>\n",
       "    </tr>\n",
       "    <tr>\n",
       "      <th>3</th>\n",
       "      <td>2015-01-04</td>\n",
       "      <td>3939672.0</td>\n",
       "    </tr>\n",
       "    <tr>\n",
       "      <th>4</th>\n",
       "      <td>2015-01-05</td>\n",
       "      <td>4101790.0</td>\n",
       "    </tr>\n",
       "  </tbody>\n",
       "</table>\n",
       "</div>"
      ],
      "text/plain": [
       "  record_date  power_consumption\n",
       "0  2015-01-01          2900575.0\n",
       "1  2015-01-02          3158211.0\n",
       "2  2015-01-03          3596487.0\n",
       "3  2015-01-04          3939672.0\n",
       "4  2015-01-05          4101790.0"
      ]
     },
     "execution_count": 10,
     "metadata": {},
     "output_type": "execute_result"
    }
   ],
   "source": [
    "base_df = df\n",
    "df.head()"
   ]
  },
  {
   "cell_type": "markdown",
   "metadata": {},
   "source": [
    "### 造特征"
   ]
  },
  {
   "cell_type": "code",
   "execution_count": 11,
   "metadata": {
    "collapsed": true
   },
   "outputs": [],
   "source": [
    "base_df['dow'] = base_df['record_date'].apply(lambda x: x.dayofweek)\n",
    "base_df['doy'] = base_df['record_date'].apply(lambda x: x.dayofyear)\n",
    "base_df['day'] = base_df['record_date'].apply(lambda x: x.day)\n",
    "base_df['month'] = base_df['record_date'].apply(lambda x: x.month)\n",
    "base_df['year'] = base_df['record_date'].apply(lambda x: x.year)\n",
    "\n",
    "def map_season(month):\n",
    "    month_dic = {1:1, 2:1, 3:2, 4:2, 5:3, 6:3, 7:3, 8:3, 9:3, 10:4, 11:4, 12:1}\n",
    "    return month_dic[month]\n",
    "\n",
    "base_df['season'] = base_df['month'].apply(lambda x: map_season(x))"
   ]
  },
  {
   "cell_type": "markdown",
   "metadata": {},
   "source": [
    "### 造特征  添加特征 是否为上班日 "
   ]
  },
  {
   "cell_type": "code",
   "execution_count": 12,
   "metadata": {
    "collapsed": false
   },
   "outputs": [],
   "source": [
    "# # 添加特征 是否为上班日 \n",
    "\n",
    "# base_df['isworkday'] = feature['isworkday']\n",
    "# base_df[base_df.isworkday==0].index\n",
    "# base_df#.shape#()"
   ]
  },
  {
   "cell_type": "code",
   "execution_count": 13,
   "metadata": {
    "collapsed": false
   },
   "outputs": [],
   "source": [
    "# base_df['holiday_usage'] = base_df['power_consumption']\n",
    "# base_df.loc[base_df[base_df.isworkday==1].index ,'holiday_usage'] = 0\n",
    "\n",
    "# base_df.shape"
   ]
  },
  {
   "cell_type": "code",
   "execution_count": 14,
   "metadata": {
    "collapsed": false
   },
   "outputs": [],
   "source": [
    "# base_df[(base_df.record_date>='2015-10-01') & (base_df.record_date<='2015-10-07')]['holiday_usage'].values"
   ]
  },
  {
   "cell_type": "code",
   "execution_count": 15,
   "metadata": {
    "collapsed": false
   },
   "outputs": [],
   "source": [
    "# base_df.loc[base_df[(base_df.record_date>='2016-10-01') & (base_df.record_date<='2016-10-07')].index ,'holiday_usage'] = base_df[(base_df.record_date>='2015-10-01') & (base_df.record_date<='2015-10-07')]['holiday_usage']"
   ]
  },
  {
   "cell_type": "code",
   "execution_count": 16,
   "metadata": {
    "collapsed": false
   },
   "outputs": [],
   "source": [
    "# plt.plot(base_df['holiday_usage'],'-o')\n",
    "# base_df[(base_df.record_date>='2016-10-01') & (base_df.record_date<='2016-10-07')].index\n",
    "# base_df.loc[base_df[(base_df.record_date>='2016-10-01') & (base_df.record_date<='2016-10-07')].index ,'holiday_usage'] "
   ]
  },
  {
   "cell_type": "markdown",
   "metadata": {},
   "source": [
    "### 添加更多特征\n",
    "### 先添加前一个月的均值和方差"
   ]
  },
  {
   "cell_type": "code",
   "execution_count": 17,
   "metadata": {
    "collapsed": false
   },
   "outputs": [
    {
     "data": {
      "text/html": [
       "<div>\n",
       "<table border=\"1\" class=\"dataframe\">\n",
       "  <thead>\n",
       "    <tr style=\"text-align: right;\">\n",
       "      <th></th>\n",
       "      <th>year</th>\n",
       "      <th>month</th>\n",
       "      <th>mean</th>\n",
       "      <th>std</th>\n",
       "    </tr>\n",
       "  </thead>\n",
       "  <tbody>\n",
       "    <tr>\n",
       "      <th>0</th>\n",
       "      <td>2015</td>\n",
       "      <td>1</td>\n",
       "      <td>NaN</td>\n",
       "      <td>NaN</td>\n",
       "    </tr>\n",
       "    <tr>\n",
       "      <th>1</th>\n",
       "      <td>2015</td>\n",
       "      <td>2</td>\n",
       "      <td>3.961383e+06</td>\n",
       "      <td>303629.486622</td>\n",
       "    </tr>\n",
       "    <tr>\n",
       "      <th>2</th>\n",
       "      <td>2015</td>\n",
       "      <td>3</td>\n",
       "      <td>2.795163e+06</td>\n",
       "      <td>769697.864999</td>\n",
       "    </tr>\n",
       "    <tr>\n",
       "      <th>3</th>\n",
       "      <td>2015</td>\n",
       "      <td>4</td>\n",
       "      <td>3.478852e+06</td>\n",
       "      <td>564753.747993</td>\n",
       "    </tr>\n",
       "    <tr>\n",
       "      <th>4</th>\n",
       "      <td>2015</td>\n",
       "      <td>5</td>\n",
       "      <td>3.768333e+06</td>\n",
       "      <td>190787.832757</td>\n",
       "    </tr>\n",
       "  </tbody>\n",
       "</table>\n",
       "</div>"
      ],
      "text/plain": [
       "   year  month          mean            std\n",
       "0  2015      1           NaN            NaN\n",
       "1  2015      2  3.961383e+06  303629.486622\n",
       "2  2015      3  2.795163e+06  769697.864999\n",
       "3  2015      4  3.478852e+06  564753.747993\n",
       "4  2015      5  3.768333e+06  190787.832757"
      ]
     },
     "execution_count": 17,
     "metadata": {},
     "output_type": "execute_result"
    }
   ],
   "source": [
    "df_stats = base_df[['power_consumption','year','month']].groupby(by=['year', 'month']).agg(['mean', 'std'])\n",
    "df_stats.head()\n",
    "\n",
    "df_stats.columns = df_stats.columns.droplevel(0)\n",
    "df_stats = df_stats.reset_index()\n",
    "df_stats.head()\n",
    "df_stats['mean'] = df_stats['mean'].shift(1)\n",
    "# df_stats['2_m_mean'] = df_stats['mean'].shift(2)\n",
    "df_stats['std'] = df_stats['std'].shift(1)\n",
    "# df_stats['2_m_std'] = df_stats['std'].shift(2)\n",
    "df_stats.head()\n"
   ]
  },
  {
   "cell_type": "code",
   "execution_count": 18,
   "metadata": {
    "collapsed": false
   },
   "outputs": [],
   "source": [
    "# # train = pd.merge('base_df','df_stats',on=['year','month'])\n",
    "# train = pd.merge(base_df, df_stats, how='left', on=['year','month'])\n",
    "# train.head()"
   ]
  },
  {
   "cell_type": "markdown",
   "metadata": {},
   "source": [
    "### 把一个月分成上中下旬3个month_periods 或者 4周总共4个week_periods\n",
    "### 用它们的均值之差表示数据上下起伏趋势"
   ]
  },
  {
   "cell_type": "code",
   "execution_count": 19,
   "metadata": {
    "collapsed": true
   },
   "outputs": [],
   "source": [
    "# 先对一个月做切分\n",
    "def month_period(day):\n",
    "    if day>=1 and day<=10:\n",
    "        return 1\n",
    "    elif day>=11 and day<=20:\n",
    "        return 2\n",
    "    else:\n",
    "        return 3\n",
    "\n",
    "def week_period(day):\n",
    "    if day>=1 and day<=7:\n",
    "        return 1\n",
    "    elif day>=8 and day<=14:\n",
    "        return 2\n",
    "    elif day>=15 and day<=21:\n",
    "        return 3\n",
    "    else:\n",
    "        return 4\n",
    "\n",
    "base_df['month_period'] = base_df['day'].apply(lambda x:month_period(x))\n",
    "base_df['week_period'] = base_df['day'].apply(lambda x:week_period(x))"
   ]
  },
  {
   "cell_type": "markdown",
   "metadata": {},
   "source": [
    "### 按照period求均值"
   ]
  },
  {
   "cell_type": "code",
   "execution_count": 20,
   "metadata": {
    "collapsed": false
   },
   "outputs": [
    {
     "data": {
      "text/html": [
       "<div>\n",
       "<table border=\"1\" class=\"dataframe\">\n",
       "  <thead>\n",
       "    <tr style=\"text-align: right;\">\n",
       "      <th></th>\n",
       "      <th>year</th>\n",
       "      <th>month</th>\n",
       "      <th>month_period</th>\n",
       "      <th>power_consumption</th>\n",
       "    </tr>\n",
       "  </thead>\n",
       "  <tbody>\n",
       "    <tr>\n",
       "      <th>0</th>\n",
       "      <td>2015</td>\n",
       "      <td>1</td>\n",
       "      <td>1</td>\n",
       "      <td>3.825766e+06</td>\n",
       "    </tr>\n",
       "    <tr>\n",
       "      <th>1</th>\n",
       "      <td>2015</td>\n",
       "      <td>1</td>\n",
       "      <td>2</td>\n",
       "      <td>4.016926e+06</td>\n",
       "    </tr>\n",
       "    <tr>\n",
       "      <th>2</th>\n",
       "      <td>2015</td>\n",
       "      <td>1</td>\n",
       "      <td>3</td>\n",
       "      <td>4.034177e+06</td>\n",
       "    </tr>\n",
       "    <tr>\n",
       "      <th>3</th>\n",
       "      <td>2015</td>\n",
       "      <td>2</td>\n",
       "      <td>1</td>\n",
       "      <td>3.691394e+06</td>\n",
       "    </tr>\n",
       "    <tr>\n",
       "      <th>4</th>\n",
       "      <td>2015</td>\n",
       "      <td>2</td>\n",
       "      <td>2</td>\n",
       "      <td>2.338909e+06</td>\n",
       "    </tr>\n",
       "  </tbody>\n",
       "</table>\n",
       "</div>"
      ],
      "text/plain": [
       "   year  month  month_period  power_consumption\n",
       "0  2015      1             1       3.825766e+06\n",
       "1  2015      1             2       4.016926e+06\n",
       "2  2015      1             3       4.034177e+06\n",
       "3  2015      2             1       3.691394e+06\n",
       "4  2015      2             2       2.338909e+06"
      ]
     },
     "execution_count": 20,
     "metadata": {},
     "output_type": "execute_result"
    }
   ],
   "source": [
    "month_period_df = base_df[['power_consumption','year','month','month_period']].groupby(by=['year', 'month', 'month_period']).agg('mean')\n",
    "month_period_df = month_period_df.reset_index()\n",
    "month_period_df.head()"
   ]
  },
  {
   "cell_type": "markdown",
   "metadata": {},
   "source": [
    "### 求出来均值之差"
   ]
  },
  {
   "cell_type": "code",
   "execution_count": 21,
   "metadata": {
    "collapsed": false
   },
   "outputs": [
    {
     "data": {
      "text/html": [
       "<div>\n",
       "<table border=\"1\" class=\"dataframe\">\n",
       "  <thead>\n",
       "    <tr style=\"text-align: right;\">\n",
       "      <th></th>\n",
       "      <th>year</th>\n",
       "      <th>month</th>\n",
       "      <th>month_period</th>\n",
       "    </tr>\n",
       "  </thead>\n",
       "  <tbody>\n",
       "    <tr>\n",
       "      <th>0</th>\n",
       "      <td>2015</td>\n",
       "      <td>1</td>\n",
       "      <td>NaN</td>\n",
       "    </tr>\n",
       "    <tr>\n",
       "      <th>1</th>\n",
       "      <td>2015</td>\n",
       "      <td>1</td>\n",
       "      <td>1.911600e+05</td>\n",
       "    </tr>\n",
       "    <tr>\n",
       "      <th>2</th>\n",
       "      <td>2015</td>\n",
       "      <td>1</td>\n",
       "      <td>1.725125e+04</td>\n",
       "    </tr>\n",
       "    <tr>\n",
       "      <th>3</th>\n",
       "      <td>2015</td>\n",
       "      <td>2</td>\n",
       "      <td>-3.427832e+05</td>\n",
       "    </tr>\n",
       "    <tr>\n",
       "      <th>4</th>\n",
       "      <td>2015</td>\n",
       "      <td>2</td>\n",
       "      <td>-1.352486e+06</td>\n",
       "    </tr>\n",
       "  </tbody>\n",
       "</table>\n",
       "</div>"
      ],
      "text/plain": [
       "   year  month  month_period\n",
       "0  2015      1           NaN\n",
       "1  2015      1  1.911600e+05\n",
       "2  2015      1  1.725125e+04\n",
       "3  2015      2 -3.427832e+05\n",
       "4  2015      2 -1.352486e+06"
      ]
     },
     "execution_count": 21,
     "metadata": {},
     "output_type": "execute_result"
    }
   ],
   "source": [
    "month_period_df['month_period'] = month_period_df['power_consumption'].diff(1)\n",
    "month_period_df = month_period_df.drop('power_consumption',1)\n",
    "month_period_df.head()"
   ]
  },
  {
   "cell_type": "markdown",
   "metadata": {},
   "source": [
    "### 填充上个月和上上个月的趋势数据"
   ]
  },
  {
   "cell_type": "code",
   "execution_count": 22,
   "metadata": {
    "collapsed": false
   },
   "outputs": [
    {
     "data": {
      "text/html": [
       "<div>\n",
       "<table border=\"1\" class=\"dataframe\">\n",
       "  <thead>\n",
       "    <tr style=\"text-align: right;\">\n",
       "      <th></th>\n",
       "      <th>year</th>\n",
       "      <th>month</th>\n",
       "      <th>month_period_1</th>\n",
       "      <th>month_period_2</th>\n",
       "      <th>month_period_3</th>\n",
       "    </tr>\n",
       "  </thead>\n",
       "  <tbody>\n",
       "    <tr>\n",
       "      <th>0</th>\n",
       "      <td>2015</td>\n",
       "      <td>1</td>\n",
       "      <td>NaN</td>\n",
       "      <td>NaN</td>\n",
       "      <td>NaN</td>\n",
       "    </tr>\n",
       "    <tr>\n",
       "      <th>1</th>\n",
       "      <td>2015</td>\n",
       "      <td>2</td>\n",
       "      <td>nan</td>\n",
       "      <td>191160.0</td>\n",
       "      <td>17251.2545454544</td>\n",
       "    </tr>\n",
       "    <tr>\n",
       "      <th>2</th>\n",
       "      <td>2015</td>\n",
       "      <td>3</td>\n",
       "      <td>-342783.1545454548</td>\n",
       "      <td>-1352485.6999999997</td>\n",
       "      <td>-93716.5375000001</td>\n",
       "    </tr>\n",
       "    <tr>\n",
       "      <th>3</th>\n",
       "      <td>2015</td>\n",
       "      <td>4</td>\n",
       "      <td>863222.6375000002</td>\n",
       "      <td>559158.0499999998</td>\n",
       "      <td>-23522.659090909176</td>\n",
       "    </tr>\n",
       "    <tr>\n",
       "      <th>4</th>\n",
       "      <td>2015</td>\n",
       "      <td>5</td>\n",
       "      <td>109222.00909090927</td>\n",
       "      <td>-25469.75</td>\n",
       "      <td>96123.1000000001</td>\n",
       "    </tr>\n",
       "  </tbody>\n",
       "</table>\n",
       "</div>"
      ],
      "text/plain": [
       "   year  month      month_period_1       month_period_2       month_period_3\n",
       "0  2015      1                 NaN                  NaN                  NaN\n",
       "1  2015      2                 nan             191160.0     17251.2545454544\n",
       "2  2015      3  -342783.1545454548  -1352485.6999999997    -93716.5375000001\n",
       "3  2015      4   863222.6375000002    559158.0499999998  -23522.659090909176\n",
       "4  2015      5  109222.00909090927            -25469.75     96123.1000000001"
      ]
     },
     "execution_count": 22,
     "metadata": {},
     "output_type": "execute_result"
    }
   ],
   "source": [
    "month_period_df = month_period_df[['year','month','month_period']].groupby(by=['year','month']).agg(lambda x: \",\".join(x.apply(str).values.tolist()))\n",
    "month_period_df = month_period_df.reset_index()\n",
    "month_period_df[['month_period_1','month_period_2','month_period_3']] =  month_period_df['month_period'].str.split(',', expand=True) \n",
    "month_period_df = month_period_df.drop('month_period',1)\n",
    "\n",
    "# month_1_columns = [tmp+'_1month' for tmp in ['month_period_1', 'month_period_2','month_period_3']]\n",
    "month_period_df[['month_period_1', 'month_period_2','month_period_3']] = month_period_df[['month_period_1', 'month_period_2','month_period_3']].shift(1)\n",
    "# month_2_columns = [tmp+'_2month' for tmp in ['month_period_1', 'month_period_2','month_period_3']]\n",
    "# month_period_df[month_2_columns] = month_period_df[['month_period_1', 'month_period_2','month_period_3']].shift(2)\n",
    "\n",
    "month_period_df.head()"
   ]
  },
  {
   "cell_type": "code",
   "execution_count": 23,
   "metadata": {
    "collapsed": false
   },
   "outputs": [],
   "source": [
    "# # 合并\n",
    "# train_mon =  pd.merge(train, month_period_df, how='left', on=['year','month'])\n",
    "# train_mon.head()\n"
   ]
  },
  {
   "cell_type": "code",
   "execution_count": 24,
   "metadata": {
    "collapsed": true
   },
   "outputs": [],
   "source": [
    "week_period_df = base_df[['power_consumption','year','month','week_period']].groupby(by=['year', 'month', 'week_period']).agg('mean')\n",
    "week_period_df = week_period_df.reset_index()\n",
    "# week_period_df.head()"
   ]
  },
  {
   "cell_type": "code",
   "execution_count": 25,
   "metadata": {
    "collapsed": true
   },
   "outputs": [],
   "source": [
    "week_period_df['week_period'] = week_period_df['power_consumption'].diff(1)\n",
    "week_period_df = week_period_df.drop('power_consumption',1)\n",
    "# week_period_df.head()"
   ]
  },
  {
   "cell_type": "code",
   "execution_count": 26,
   "metadata": {
    "collapsed": false
   },
   "outputs": [
    {
     "data": {
      "text/html": [
       "<div>\n",
       "<table border=\"1\" class=\"dataframe\">\n",
       "  <thead>\n",
       "    <tr style=\"text-align: right;\">\n",
       "      <th></th>\n",
       "      <th>year</th>\n",
       "      <th>month</th>\n",
       "      <th>week_period_1</th>\n",
       "      <th>week_period_2</th>\n",
       "      <th>week_period_3</th>\n",
       "      <th>week_period_4</th>\n",
       "    </tr>\n",
       "  </thead>\n",
       "  <tbody>\n",
       "    <tr>\n",
       "      <th>0</th>\n",
       "      <td>2015</td>\n",
       "      <td>1</td>\n",
       "      <td>NaN</td>\n",
       "      <td>NaN</td>\n",
       "      <td>NaN</td>\n",
       "      <td>NaN</td>\n",
       "    </tr>\n",
       "    <tr>\n",
       "      <th>1</th>\n",
       "      <td>2015</td>\n",
       "      <td>2</td>\n",
       "      <td>nan</td>\n",
       "      <td>297703.42857142864</td>\n",
       "      <td>46736.28571428545</td>\n",
       "      <td>-31404.27142857155</td>\n",
       "    </tr>\n",
       "    <tr>\n",
       "      <th>2</th>\n",
       "      <td>2015</td>\n",
       "      <td>3</td>\n",
       "      <td>-220744.0142857139</td>\n",
       "      <td>-739169.8571428573</td>\n",
       "      <td>-1042483.8571428573</td>\n",
       "      <td>252348.35714285728</td>\n",
       "    </tr>\n",
       "    <tr>\n",
       "      <th>3</th>\n",
       "      <td>2015</td>\n",
       "      <td>4</td>\n",
       "      <td>645923.0714285714</td>\n",
       "      <td>821015.2142857141</td>\n",
       "      <td>-292440.07142857136</td>\n",
       "      <td>245783.85714285728</td>\n",
       "    </tr>\n",
       "    <tr>\n",
       "      <th>4</th>\n",
       "      <td>2015</td>\n",
       "      <td>5</td>\n",
       "      <td>-9620.857142857276</td>\n",
       "      <td>113845.42857142864</td>\n",
       "      <td>-66743.64285714272</td>\n",
       "      <td>91990.90476190485</td>\n",
       "    </tr>\n",
       "  </tbody>\n",
       "</table>\n",
       "</div>"
      ],
      "text/plain": [
       "   year  month       week_period_1       week_period_2        week_period_3  \\\n",
       "0  2015      1                 NaN                 NaN                  NaN   \n",
       "1  2015      2                 nan  297703.42857142864    46736.28571428545   \n",
       "2  2015      3  -220744.0142857139  -739169.8571428573  -1042483.8571428573   \n",
       "3  2015      4   645923.0714285714   821015.2142857141  -292440.07142857136   \n",
       "4  2015      5  -9620.857142857276  113845.42857142864   -66743.64285714272   \n",
       "\n",
       "        week_period_4  \n",
       "0                 NaN  \n",
       "1  -31404.27142857155  \n",
       "2  252348.35714285728  \n",
       "3  245783.85714285728  \n",
       "4   91990.90476190485  "
      ]
     },
     "execution_count": 26,
     "metadata": {},
     "output_type": "execute_result"
    }
   ],
   "source": [
    "# 将每个月中四个周的值分为四列。\n",
    "week_period_df = week_period_df[['year','month','week_period']].groupby(by=['year','month']).agg(lambda x: \",\".join(x.apply(str).values.tolist()))\n",
    "week_period_df = week_period_df.reset_index()\n",
    "week_period_df[['week_period_1','week_period_2','week_period_3','week_period_4']] =  week_period_df['week_period'].str.split(',', expand=True) \n",
    "week_period_df = week_period_df.drop('week_period',1)\n",
    "\n",
    "add_columns_1 = [tmp+'_1month' for tmp in ['week_period_1', 'week_period_2','week_period_3', 'week_period_4']]\n",
    "week_period_df[['week_period_1','week_period_2','week_period_3','week_period_4']] = week_period_df[['week_period_1', 'week_period_2','week_period_3', 'week_period_4']].shift(1)\n",
    "# add_columns_2 = [tmp+'_2month' for tmp in ['week_period_1', 'week_period_2','week_period_3', 'week_period_4']]\n",
    "# week_period_df[add_columns_2] = week_period_df[['week_period_1', 'week_period_2','week_period_3', 'week_period_4']].shift(2)\n",
    "\n",
    "week_period_df.head()\n",
    "\n"
   ]
  },
  {
   "cell_type": "code",
   "execution_count": 27,
   "metadata": {
    "collapsed": true
   },
   "outputs": [],
   "source": [
    "# 添加 week period 相关特征\n",
    "# df_final = pd.merge(train_mon, week_period_df, how='left', on=['year','month']) "
   ]
  },
  {
   "cell_type": "code",
   "execution_count": 28,
   "metadata": {
    "collapsed": false
   },
   "outputs": [
    {
     "data": {
      "text/html": [
       "<div>\n",
       "<table border=\"1\" class=\"dataframe\">\n",
       "  <thead>\n",
       "    <tr style=\"text-align: right;\">\n",
       "      <th></th>\n",
       "      <th>record_date</th>\n",
       "      <th>power_consumption</th>\n",
       "      <th>dow</th>\n",
       "      <th>doy</th>\n",
       "      <th>day</th>\n",
       "      <th>month</th>\n",
       "      <th>year</th>\n",
       "      <th>season</th>\n",
       "      <th>month_period</th>\n",
       "      <th>week_period</th>\n",
       "    </tr>\n",
       "  </thead>\n",
       "  <tbody>\n",
       "    <tr>\n",
       "      <th>0</th>\n",
       "      <td>2015-01-01</td>\n",
       "      <td>2900575.0</td>\n",
       "      <td>3</td>\n",
       "      <td>1</td>\n",
       "      <td>1</td>\n",
       "      <td>1</td>\n",
       "      <td>2015</td>\n",
       "      <td>1</td>\n",
       "      <td>1</td>\n",
       "      <td>1</td>\n",
       "    </tr>\n",
       "    <tr>\n",
       "      <th>1</th>\n",
       "      <td>2015-01-02</td>\n",
       "      <td>3158211.0</td>\n",
       "      <td>4</td>\n",
       "      <td>2</td>\n",
       "      <td>2</td>\n",
       "      <td>1</td>\n",
       "      <td>2015</td>\n",
       "      <td>1</td>\n",
       "      <td>1</td>\n",
       "      <td>1</td>\n",
       "    </tr>\n",
       "    <tr>\n",
       "      <th>2</th>\n",
       "      <td>2015-01-03</td>\n",
       "      <td>3596487.0</td>\n",
       "      <td>5</td>\n",
       "      <td>3</td>\n",
       "      <td>3</td>\n",
       "      <td>1</td>\n",
       "      <td>2015</td>\n",
       "      <td>1</td>\n",
       "      <td>1</td>\n",
       "      <td>1</td>\n",
       "    </tr>\n",
       "    <tr>\n",
       "      <th>3</th>\n",
       "      <td>2015-01-04</td>\n",
       "      <td>3939672.0</td>\n",
       "      <td>6</td>\n",
       "      <td>4</td>\n",
       "      <td>4</td>\n",
       "      <td>1</td>\n",
       "      <td>2015</td>\n",
       "      <td>1</td>\n",
       "      <td>1</td>\n",
       "      <td>1</td>\n",
       "    </tr>\n",
       "    <tr>\n",
       "      <th>4</th>\n",
       "      <td>2015-01-05</td>\n",
       "      <td>4101790.0</td>\n",
       "      <td>0</td>\n",
       "      <td>5</td>\n",
       "      <td>5</td>\n",
       "      <td>1</td>\n",
       "      <td>2015</td>\n",
       "      <td>1</td>\n",
       "      <td>1</td>\n",
       "      <td>1</td>\n",
       "    </tr>\n",
       "  </tbody>\n",
       "</table>\n",
       "</div>"
      ],
      "text/plain": [
       "  record_date  power_consumption  dow  doy  day  month  year  season  \\\n",
       "0  2015-01-01          2900575.0    3    1    1      1  2015       1   \n",
       "1  2015-01-02          3158211.0    4    2    2      1  2015       1   \n",
       "2  2015-01-03          3596487.0    5    3    3      1  2015       1   \n",
       "3  2015-01-04          3939672.0    6    4    4      1  2015       1   \n",
       "4  2015-01-05          4101790.0    0    5    5      1  2015       1   \n",
       "\n",
       "   month_period  week_period  \n",
       "0             1            1  \n",
       "1             1            1  \n",
       "2             1            1  \n",
       "3             1            1  \n",
       "4             1            1  "
      ]
     },
     "execution_count": 28,
     "metadata": {},
     "output_type": "execute_result"
    }
   ],
   "source": [
    "df_final = base_df\n",
    "df_final.head()"
   ]
  },
  {
   "cell_type": "code",
   "execution_count": 29,
   "metadata": {
    "collapsed": false
   },
   "outputs": [
    {
     "data": {
      "text/plain": [
       "Index(['record_date', 'power_consumption', 'dow', 'doy', 'day', 'month',\n",
       "       'year', 'season', 'month_period', 'week_period'],\n",
       "      dtype='object')"
      ]
     },
     "execution_count": 29,
     "metadata": {},
     "output_type": "execute_result"
    }
   ],
   "source": [
    "df_final.columns"
   ]
  },
  {
   "cell_type": "markdown",
   "metadata": {},
   "source": [
    "### 去掉不需要的数据"
   ]
  },
  {
   "cell_type": "code",
   "execution_count": 30,
   "metadata": {
    "collapsed": false
   },
   "outputs": [
    {
     "data": {
      "text/html": [
       "<div>\n",
       "<table border=\"1\" class=\"dataframe\">\n",
       "  <thead>\n",
       "    <tr style=\"text-align: right;\">\n",
       "      <th></th>\n",
       "      <th>record_date</th>\n",
       "      <th>power_consumption</th>\n",
       "      <th>dow</th>\n",
       "      <th>doy</th>\n",
       "      <th>day</th>\n",
       "      <th>month</th>\n",
       "      <th>year</th>\n",
       "      <th>season</th>\n",
       "      <th>month_period</th>\n",
       "      <th>week_period</th>\n",
       "    </tr>\n",
       "  </thead>\n",
       "  <tbody>\n",
       "    <tr>\n",
       "      <th>59</th>\n",
       "      <td>2015-03-01</td>\n",
       "      <td>2900464.0</td>\n",
       "      <td>6</td>\n",
       "      <td>60</td>\n",
       "      <td>1</td>\n",
       "      <td>3</td>\n",
       "      <td>2015</td>\n",
       "      <td>2</td>\n",
       "      <td>1</td>\n",
       "      <td>1</td>\n",
       "    </tr>\n",
       "    <tr>\n",
       "      <th>60</th>\n",
       "      <td>2015-03-02</td>\n",
       "      <td>3334082.0</td>\n",
       "      <td>0</td>\n",
       "      <td>61</td>\n",
       "      <td>2</td>\n",
       "      <td>3</td>\n",
       "      <td>2015</td>\n",
       "      <td>2</td>\n",
       "      <td>1</td>\n",
       "      <td>1</td>\n",
       "    </tr>\n",
       "    <tr>\n",
       "      <th>61</th>\n",
       "      <td>2015-03-03</td>\n",
       "      <td>3492606.0</td>\n",
       "      <td>1</td>\n",
       "      <td>62</td>\n",
       "      <td>3</td>\n",
       "      <td>3</td>\n",
       "      <td>2015</td>\n",
       "      <td>2</td>\n",
       "      <td>1</td>\n",
       "      <td>1</td>\n",
       "    </tr>\n",
       "    <tr>\n",
       "      <th>62</th>\n",
       "      <td>2015-03-04</td>\n",
       "      <td>3597890.0</td>\n",
       "      <td>2</td>\n",
       "      <td>63</td>\n",
       "      <td>4</td>\n",
       "      <td>3</td>\n",
       "      <td>2015</td>\n",
       "      <td>2</td>\n",
       "      <td>1</td>\n",
       "      <td>1</td>\n",
       "    </tr>\n",
       "    <tr>\n",
       "      <th>63</th>\n",
       "      <td>2015-03-05</td>\n",
       "      <td>1798044.0</td>\n",
       "      <td>3</td>\n",
       "      <td>64</td>\n",
       "      <td>5</td>\n",
       "      <td>3</td>\n",
       "      <td>2015</td>\n",
       "      <td>2</td>\n",
       "      <td>1</td>\n",
       "      <td>1</td>\n",
       "    </tr>\n",
       "  </tbody>\n",
       "</table>\n",
       "</div>"
      ],
      "text/plain": [
       "   record_date  power_consumption  dow  doy  day  month  year  season  \\\n",
       "59  2015-03-01          2900464.0    6   60    1      3  2015       2   \n",
       "60  2015-03-02          3334082.0    0   61    2      3  2015       2   \n",
       "61  2015-03-03          3492606.0    1   62    3      3  2015       2   \n",
       "62  2015-03-04          3597890.0    2   63    4      3  2015       2   \n",
       "63  2015-03-05          1798044.0    3   64    5      3  2015       2   \n",
       "\n",
       "    month_period  week_period  \n",
       "59             1            1  \n",
       "60             1            1  \n",
       "61             1            1  \n",
       "62             1            1  \n",
       "63             1            1  "
      ]
     },
     "execution_count": 30,
     "metadata": {},
     "output_type": "execute_result"
    }
   ],
   "source": [
    "df_final = df_final[df_final.record_date>='2015-03-01']   #######################################\n",
    "# df_final['previous_2months_diff'] = df_final['1_m_mean']-df_final['2_m_mean']\n",
    "df_final.head()"
   ]
  },
  {
   "cell_type": "code",
   "execution_count": 31,
   "metadata": {
    "collapsed": true
   },
   "outputs": [],
   "source": [
    "df_final = df_final.drop(['record_date'],1)\n",
    "df_final.to_csv('train.csv', index=False)"
   ]
  },
  {
   "cell_type": "code",
   "execution_count": 32,
   "metadata": {
    "collapsed": true
   },
   "outputs": [],
   "source": [
    "#### RF模型"
   ]
  },
  {
   "cell_type": "code",
   "execution_count": 36,
   "metadata": {
    "collapsed": false
   },
   "outputs": [],
   "source": [
    "from sklearn.ensemble import ExtraTreesRegressor\n",
    "from sklearn.ensemble import BaggingRegressor\n",
    "from sklearn.ensemble import RandomForestRegressor\n",
    "from sklearn.ensemble import GradientBoostingRegressor\n",
    "from sklearn.linear_model import LinearRegression\n",
    "# from sklearn.model_selection import cr\n",
    "from datetime import datetime \n",
    "\n",
    "# 输入原始数据集 包含 train set 集， 并有label列\n",
    "def get_train_set(df_final):\n",
    "        \n",
    "    final_train_data = df_final[~((df_final.year==2016)&(df_final.month==10))].drop(['power_consumption'],1)\n",
    "    final_train_data = final_train_data.astype(int)\n",
    "    final_test_data = df_final[((df_final.year==2016)&(df_final.month==10))].drop(['power_consumption'],1)\n",
    "    final_test_data = final_test_data.astype(int)\n",
    "    train_target = df_final[~((df_final.year==2016)&(df_final.month==10))][['power_consumption']]\n",
    "    \n",
    "    # # strcolumns = ['dow','doy','day','month','year','isworkday','season']\n",
    "    # strcolumns = ['dow','doy','day','month','year','season','isholiday']\n",
    "    \n",
    "    # train = final_train_data.copy()\n",
    "    # train[strcolumns] = train[strcolumns].astype(str)\n",
    "    # test = final_test_data.copy()\n",
    "    # test[strcolumns] = test[strcolumns].astype(str)\n",
    "    \n",
    "    # train_target\n",
    "    \n",
    "    train_X, train_y = final_train_data, train_target\n",
    "    test_X = final_test_data\n",
    "    return train_X, train_y ,test_X\n",
    "\n",
    "\n",
    "def get_predict(model, train_X, train_y, test_X):\n",
    "    # test_X\n",
    "    # {'n_estimators': 200, 'max_depth': 4}\n",
    "    # {'max_features': 'log2', 'n_estimators': 600, 'max_depth': 12}\n",
    "    \n",
    "    # reg = RandomForestRegressor(n_estimators=600, max_features='log2', max_depth=12 )\n",
    "    # reg = RandomForestRegressor(n_estimators=200)\n",
    "#     reg = model\n",
    "    model.fit(train_X,train_y)\n",
    "    \n",
    "    # y_predict = reg.best_estimator_.predict(test_X)\n",
    "    y_predict = model.predict(test_X) # bagging_reg\n",
    "    return y_predict\n",
    "\n",
    "\n",
    "\n",
    "\n",
    "def timetransform(t):\n",
    "        t = str(t)[0:10]\n",
    "        \n",
    "        try:\n",
    "            time = datetime.strptime(t, '%Y-%m-%d')\n",
    "            t = time.strftime('%Y%m%d')\n",
    "        except:\n",
    "            pass\n",
    "        return t\n",
    "\n",
    "def save_predict(y_predict, filename):\n",
    "\n",
    "        # step 3\n",
    "    commit_df = pd.date_range('2016/10/1', periods=31, freq='D')\n",
    "    commit_df = pd.DataFrame(commit_df)\n",
    "    commit_df.columns = ['predict_date']\n",
    "    commit_df['predict_power_consumption'] = pd.DataFrame(y_predict).astype('int')\n",
    "    # y_predict\n",
    "\n",
    "    curtime = datetime.today()\n",
    "    strtime = curtime.strftime('%m%d')\n",
    "    \n",
    "    \n",
    "    commit_df['predict_date'] = commit_df['predict_date'].apply(timetransform)\n",
    "    \n",
    "    #     commit_df.head()\n",
    "    # predict_et_pcdata_0611\n",
    "    # commit_df.to_csv('./predict/predict_' + strtime + '.csv',index=False) # to 记录下每一次结果 \n",
    "    commit_df.to_csv(filename, index=False) # 同时生成待提交的结果文件，每次新结果覆盖老文件\n",
    "    "
   ]
  },
  {
   "cell_type": "code",
   "execution_count": 43,
   "metadata": {
    "collapsed": false
   },
   "outputs": [
    {
     "name": "stdout",
     "output_type": "stream",
     "text": [
      "[ 3166491.515    3142594.845    3401925.88     3566815.13     3649771.3475\n",
      "  3707540.8025   3760136.915    3734423.2125   3452642.30875  3696826.5525\n",
      "  3708908.66     3723511.065    3700115.1225   3673036.1025   3591245.0575\n",
      "  3530758.9175   3764485.8725   3788956.5425   3788266.805    3868456.075\n",
      "  3911002.06     3863223.78     3566776.445    3911219.23375  3922060.50875\n",
      "  3923813.25625  3917750.7      3881544.96     3756860.34     3542220.19875\n",
      "  3750128.14625]\n",
      "[ 2971108.175    2999579.4575   3254606.195    3486908.7975   3595816.5125\n",
      "  3685012.4925   3741988.6925   3717275.905    3415394.2425   3646960.0525\n",
      "  3668198.5225   3682287.3225   3654987.3025   3640109.2525   3557969.7275\n",
      "  3473891.70875  3698369.7      3738933.9425   3746341.2475   3849194.83\n",
      "  3905913.795    3858955.825    3531194.17     3876675.7575   3894938.4525\n",
      "  3904570.84     3921773.2125   3875935.805    3710638.93625  3491913.29375\n",
      "  3708245.94375]\n"
     ]
    }
   ],
   "source": [
    "\n",
    "from sklearn.ensemble import RandomForestRegressor\n",
    "from sklearn.ensemble import ExtraTreesRegressor\n",
    "from sklearn.ensemble import BaggingRegressor\n",
    "from sklearn.ensemble import RandomForestRegressor\n",
    "from sklearn.ensemble import GradientBoostingRegressor\n",
    "from sklearn.linear_model import LinearRegression\n",
    "from sklearn.model_selection import cross_val_score, train_test_split\n",
    "import matplotlib.pyplot as plt\n",
    "\n",
    "# {'max_features': 0.8, 'n_estimators': 800}\n",
    "mods = [ExtraTreesRegressor(n_estimators=400), \n",
    "        RandomForestRegressor(n_estimators=400),\n",
    "       ]\n",
    "legend = []\n",
    "\n",
    "plt.figure(figsize=(15,8))\n",
    "x = range(31)\n",
    "y = []\n",
    "with open('10.txt','r') as f:\n",
    "    lines = f.readlines()\n",
    "    for line in lines:\n",
    "        y.append(int(''.join(line.split('\\t')[-1].split())))\n",
    "plt.plot(x, y,'-g<')\n",
    "legend.append('10')\n",
    "\n",
    "def plot_predict(ds, mod, flag=''):\n",
    "    curtime = datetime.today()\n",
    "    strtime = curtime.strftime('%m%d_%H%M')\n",
    "    fs = 'predict_rf_'+strtime+'.csv'\n",
    "    \n",
    "#     for ds in dfs:\n",
    "    train_X, train_y ,test_X = get_train_set(ds)\n",
    "#     for mod, filename in zip(mods, fs):\n",
    "    predict = get_predict(mod, train_X, train_y ,test_X)\n",
    "    save_predict(predict, fs)\n",
    "#             x = prediction['predict_date']#.values\n",
    "#     x = test_X['predict_power_consumption']#.values\n",
    "    x = range(31)\n",
    "    print(predict)\n",
    "    plt.plot(x, predict)\n",
    "    legend.append(flag)\n",
    "#     plt.show()\n",
    "\n",
    "for i in range(5,7):\n",
    "    tmpd = '2015-0'+ str(i) +'-01'\n",
    "    ds = df[df.record_date>=tmpd] \n",
    "    ds = ds.drop(['record_date'],1)\n",
    "    plot_predict(ds, mods[1], tmpd)\n",
    "\n",
    "\n",
    "plt.legend(legend)\n",
    "plt.show()\n",
    "\n",
    "# 通过这个图查看去掉不同月份的数据后预测的曲线图的变化情况， 看上去总体趋势没有太大变化， 只是上下平移而已"
   ]
  },
  {
   "cell_type": "markdown",
   "metadata": {},
   "source": [
    "### 特征重要度排序"
   ]
  },
  {
   "cell_type": "code",
   "execution_count": null,
   "metadata": {
    "collapsed": false
   },
   "outputs": [],
   "source": [
    "%matplotlib inline\n",
    "import matplotlib.pyplot as plt\n",
    "print('Plot feature importances...')\n",
    "ax = lgb.plot_importance(gbm, max_num_features=10)\n",
    "plt.show()\n"
   ]
  },
  {
   "cell_type": "code",
   "execution_count": null,
   "metadata": {
    "collapsed": false
   },
   "outputs": [],
   "source": [
    "commit_df = pd.date_range('2016/10/1', periods=31, freq='D')\n",
    "commit_df = pd.DataFrame(commit_df)\n",
    "commit_df.columns = ['predict_date']\n",
    "y_predict = gbm.predict(test_lgb.values)\n",
    "commit_df['predict_power_consumption'] = pd.DataFrame(y_predict).astype('int')\n",
    "commit_df"
   ]
  },
  {
   "cell_type": "code",
   "execution_count": null,
   "metadata": {
    "collapsed": true
   },
   "outputs": [],
   "source": [
    "# 生成提交结果文件\n",
    "# 转换日期格式 \n",
    "\n",
    "from datetime import datetime \n",
    "\n",
    "def timetransform(t):\n",
    "    t = str(t)[0:10]\n",
    "    time = datetime.strptime(t, '%Y-%m-%d')\n",
    "    res = time.strftime('%Y%m%d')\n",
    "    return res\n",
    "\n",
    "commit_df['predict_date'] = commit_df['predict_date'].apply(timetransform)\n",
    "\n",
    "commit_df.head()\n",
    "commit_df.to_csv('Tianchi_power_predict_table.csv',index=False)"
   ]
  },
  {
   "cell_type": "code",
   "execution_count": null,
   "metadata": {
    "collapsed": true
   },
   "outputs": [],
   "source": [
    "# 读入最好的成绩 做参考\n",
    "# ref = pd.read_csv('predict_liuxin.csv')\n",
    "# test_x = pd.read_csv('test.csv')\n",
    "# train_y = train['power_consumption']\n",
    "# train_X = train.drop('power_consumption',axis=1)\n",
    "# train_X.shape\n",
    "# ref"
   ]
  },
  {
   "cell_type": "code",
   "execution_count": null,
   "metadata": {
    "collapsed": true
   },
   "outputs": [],
   "source": [
    "# 读取当前预测结果\n",
    "train = pd.read_csv('Tianchi_power_predict_table.csv')\n",
    "# test_x = pd.read_csv('test.csv')\n",
    "# train"
   ]
  },
  {
   "cell_type": "code",
   "execution_count": null,
   "metadata": {
    "collapsed": false
   },
   "outputs": [],
   "source": [
    "y2 = train['predict_power_consumption'].values\n",
    "\n",
    "x = train['predict_date'].values\n",
    "\n",
    "# y = ref['predict_power_consumption'].values\n",
    "\n",
    "# plt.plot(x, y)\n",
    "plt.plot(x,y2)\n",
    "plt.legend()\n",
    "\n"
   ]
  },
  {
   "cell_type": "code",
   "execution_count": null,
   "metadata": {
    "collapsed": true
   },
   "outputs": [],
   "source": []
  }
 ],
 "metadata": {
  "anaconda-cloud": {},
  "kernelspec": {
   "display_name": "Python [Root]",
   "language": "python",
   "name": "Python [Root]"
  },
  "language_info": {
   "codemirror_mode": {
    "name": "ipython",
    "version": 3
   },
   "file_extension": ".py",
   "mimetype": "text/x-python",
   "name": "python",
   "nbconvert_exporter": "python",
   "pygments_lexer": "ipython3",
   "version": "3.5.3"
  }
 },
 "nbformat": 4,
 "nbformat_minor": 1
}
