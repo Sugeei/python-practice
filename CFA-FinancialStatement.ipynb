{
 "cells": [
  {
   "cell_type": "markdown",
   "metadata": {},
   "source": [
    "# CFA"
   ]
  },
  {
   "cell_type": "markdown",
   "metadata": {},
   "source": [
    "# Financial Statement Analysis"
   ]
  },
  {
   "cell_type": "code",
   "execution_count": 1,
   "metadata": {},
   "outputs": [
    {
     "ename": "SyntaxError",
     "evalue": "invalid syntax (<ipython-input-1-9dc17bbf546f>, line 1)",
     "traceback": [
      "\u001b[1;36m  File \u001b[1;32m\"<ipython-input-1-9dc17bbf546f>\"\u001b[1;36m, line \u001b[1;32m1\u001b[0m\n\u001b[1;33m    https://zhuanlan.zhihu.com/p/34643533\u001b[0m\n\u001b[1;37m         ^\u001b[0m\n\u001b[1;31mSyntaxError\u001b[0m\u001b[1;31m:\u001b[0m invalid syntax\n"
     ],
     "output_type": "error"
    }
   ],
   "source": [
    "# https://zhuanlan.zhihu.com/p/34643533"
   ]
  },
  {
   "cell_type": "code",
   "execution_count": null,
   "metadata": {},
   "outputs": [],
   "source": [
    "IFRS"
   ]
  },
  {
   "cell_type": "code",
   "execution_count": null,
   "metadata": {},
   "outputs": [],
   "source": [
    "Assets\n",
    "noncurrent assets\n",
    "intangible\n",
    "property, plant and equipment\n",
    "leasing and rental assets\n",
    "investment property\n",
    "Equity-accounted investments\n",
    "other equity investments\n",
    "financial services receivables\n",
    "other receivables and financial assets\n",
    "noncurrent tax receivables\n",
    "deferred tax assets\n",
    "\n",
    "current assets\n",
    "invertories\n",
    "trade receivables\n",
    "financial services receivables\n",
    "other receivables and financial assets\n",
    "current tax receivables\n",
    "marketable securities\n",
    "cash and cash equivalents\n",
    "assets held for sale\n",
    "\n",
    "equity\n",
    "subscribed capital\n",
    "capital reserves\n",
    "retained earnings\n",
    "equity of parent company shareholders\n",
    "minority interests\n",
    "\n",
    "liabilities\n",
    "noncurrent liabilities\n",
    "noncurrent financial liabilities\n",
    "other noncurrent liabilities\n",
    "deferred tax liabilities\n",
    "provisions for pensions\n",
    "provisions for taxes\n",
    "other noncurrent provisions\n",
    "\n",
    "current liabilities\n",
    "current financial liabilities\n",
    "trade payables\n",
    "current tax payables\n",
    "other current liabilities\n",
    "provisions for taxes\n",
    "other current provisions\n",
    "liabilities with assets held for sale\n",
    "\n",
    "\n"
   ]
  }
 ],
 "metadata": {
  "kernelspec": {
   "display_name": "Python 2",
   "language": "python",
   "name": "python2"
  },
  "language_info": {
   "codemirror_mode": {
    "name": "ipython",
    "version": 2
   },
   "file_extension": ".py",
   "mimetype": "text/x-python",
   "name": "python",
   "nbconvert_exporter": "python",
   "pygments_lexer": "ipython2",
   "version": "2.7.11"
  }
 },
 "nbformat": 4,
 "nbformat_minor": 2
}
